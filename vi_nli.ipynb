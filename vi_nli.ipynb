{
  "nbformat": 4,
  "nbformat_minor": 0,
  "metadata": {
    "colab": {
      "name": "vi-nli",
      "provenance": [],
      "toc_visible": true,
      "collapsed_sections": []
    },
    "kernelspec": {
      "name": "python3",
      "display_name": "Python 3"
    },
    "language_info": {
      "name": "python"
    },
    "accelerator": "GPU",
    "widgets": {
      "application/vnd.jupyter.widget-state+json": {
        "9235038bf09b4693aa7e2dfe675dd7e3": {
          "model_module": "@jupyter-widgets/controls",
          "model_name": "HBoxModel",
          "model_module_version": "1.5.0",
          "state": {
            "_dom_classes": [],
            "_model_module": "@jupyter-widgets/controls",
            "_model_module_version": "1.5.0",
            "_model_name": "HBoxModel",
            "_view_count": null,
            "_view_module": "@jupyter-widgets/controls",
            "_view_module_version": "1.5.0",
            "_view_name": "HBoxView",
            "box_style": "",
            "children": [
              "IPY_MODEL_a2eea8d17c8d42399f0beaf59c64aac4",
              "IPY_MODEL_9cfdbc3e24434498a269fd7118493f8c",
              "IPY_MODEL_5ecb8b3f79184a5f840012aab92b9ba1"
            ],
            "layout": "IPY_MODEL_679c64196e694a51a5e87ee6e62f1301"
          }
        },
        "a2eea8d17c8d42399f0beaf59c64aac4": {
          "model_module": "@jupyter-widgets/controls",
          "model_name": "HTMLModel",
          "model_module_version": "1.5.0",
          "state": {
            "_dom_classes": [],
            "_model_module": "@jupyter-widgets/controls",
            "_model_module_version": "1.5.0",
            "_model_name": "HTMLModel",
            "_view_count": null,
            "_view_module": "@jupyter-widgets/controls",
            "_view_module_version": "1.5.0",
            "_view_name": "HTMLView",
            "description": "",
            "description_tooltip": null,
            "layout": "IPY_MODEL_3ea1dc61baa9406e94fab54534fc45c9",
            "placeholder": "​",
            "style": "IPY_MODEL_438141ef9be44ba8a655e3ecb98ad55d",
            "value": "Downloading builder script: "
          }
        },
        "9cfdbc3e24434498a269fd7118493f8c": {
          "model_module": "@jupyter-widgets/controls",
          "model_name": "FloatProgressModel",
          "model_module_version": "1.5.0",
          "state": {
            "_dom_classes": [],
            "_model_module": "@jupyter-widgets/controls",
            "_model_module_version": "1.5.0",
            "_model_name": "FloatProgressModel",
            "_view_count": null,
            "_view_module": "@jupyter-widgets/controls",
            "_view_module_version": "1.5.0",
            "_view_name": "ProgressView",
            "bar_style": "success",
            "description": "",
            "description_tooltip": null,
            "layout": "IPY_MODEL_a1d0d8f1b7d74a4cb6fc03902fbc7c16",
            "max": 2673,
            "min": 0,
            "orientation": "horizontal",
            "style": "IPY_MODEL_b2f023aa4cc945cb9d90f48e0597eb48",
            "value": 2673
          }
        },
        "5ecb8b3f79184a5f840012aab92b9ba1": {
          "model_module": "@jupyter-widgets/controls",
          "model_name": "HTMLModel",
          "model_module_version": "1.5.0",
          "state": {
            "_dom_classes": [],
            "_model_module": "@jupyter-widgets/controls",
            "_model_module_version": "1.5.0",
            "_model_name": "HTMLModel",
            "_view_count": null,
            "_view_module": "@jupyter-widgets/controls",
            "_view_module_version": "1.5.0",
            "_view_name": "HTMLView",
            "description": "",
            "description_tooltip": null,
            "layout": "IPY_MODEL_ce09d3ffa25241928e13f4dd84b22379",
            "placeholder": "​",
            "style": "IPY_MODEL_dbb60a58026245cba28ce624ba098698",
            "value": " 8.78k/? [00:00&lt;00:00, 205kB/s]"
          }
        },
        "679c64196e694a51a5e87ee6e62f1301": {
          "model_module": "@jupyter-widgets/base",
          "model_name": "LayoutModel",
          "model_module_version": "1.2.0",
          "state": {
            "_model_module": "@jupyter-widgets/base",
            "_model_module_version": "1.2.0",
            "_model_name": "LayoutModel",
            "_view_count": null,
            "_view_module": "@jupyter-widgets/base",
            "_view_module_version": "1.2.0",
            "_view_name": "LayoutView",
            "align_content": null,
            "align_items": null,
            "align_self": null,
            "border": null,
            "bottom": null,
            "display": null,
            "flex": null,
            "flex_flow": null,
            "grid_area": null,
            "grid_auto_columns": null,
            "grid_auto_flow": null,
            "grid_auto_rows": null,
            "grid_column": null,
            "grid_gap": null,
            "grid_row": null,
            "grid_template_areas": null,
            "grid_template_columns": null,
            "grid_template_rows": null,
            "height": null,
            "justify_content": null,
            "justify_items": null,
            "left": null,
            "margin": null,
            "max_height": null,
            "max_width": null,
            "min_height": null,
            "min_width": null,
            "object_fit": null,
            "object_position": null,
            "order": null,
            "overflow": null,
            "overflow_x": null,
            "overflow_y": null,
            "padding": null,
            "right": null,
            "top": null,
            "visibility": null,
            "width": null
          }
        },
        "3ea1dc61baa9406e94fab54534fc45c9": {
          "model_module": "@jupyter-widgets/base",
          "model_name": "LayoutModel",
          "model_module_version": "1.2.0",
          "state": {
            "_model_module": "@jupyter-widgets/base",
            "_model_module_version": "1.2.0",
            "_model_name": "LayoutModel",
            "_view_count": null,
            "_view_module": "@jupyter-widgets/base",
            "_view_module_version": "1.2.0",
            "_view_name": "LayoutView",
            "align_content": null,
            "align_items": null,
            "align_self": null,
            "border": null,
            "bottom": null,
            "display": null,
            "flex": null,
            "flex_flow": null,
            "grid_area": null,
            "grid_auto_columns": null,
            "grid_auto_flow": null,
            "grid_auto_rows": null,
            "grid_column": null,
            "grid_gap": null,
            "grid_row": null,
            "grid_template_areas": null,
            "grid_template_columns": null,
            "grid_template_rows": null,
            "height": null,
            "justify_content": null,
            "justify_items": null,
            "left": null,
            "margin": null,
            "max_height": null,
            "max_width": null,
            "min_height": null,
            "min_width": null,
            "object_fit": null,
            "object_position": null,
            "order": null,
            "overflow": null,
            "overflow_x": null,
            "overflow_y": null,
            "padding": null,
            "right": null,
            "top": null,
            "visibility": null,
            "width": null
          }
        },
        "438141ef9be44ba8a655e3ecb98ad55d": {
          "model_module": "@jupyter-widgets/controls",
          "model_name": "DescriptionStyleModel",
          "model_module_version": "1.5.0",
          "state": {
            "_model_module": "@jupyter-widgets/controls",
            "_model_module_version": "1.5.0",
            "_model_name": "DescriptionStyleModel",
            "_view_count": null,
            "_view_module": "@jupyter-widgets/base",
            "_view_module_version": "1.2.0",
            "_view_name": "StyleView",
            "description_width": ""
          }
        },
        "a1d0d8f1b7d74a4cb6fc03902fbc7c16": {
          "model_module": "@jupyter-widgets/base",
          "model_name": "LayoutModel",
          "model_module_version": "1.2.0",
          "state": {
            "_model_module": "@jupyter-widgets/base",
            "_model_module_version": "1.2.0",
            "_model_name": "LayoutModel",
            "_view_count": null,
            "_view_module": "@jupyter-widgets/base",
            "_view_module_version": "1.2.0",
            "_view_name": "LayoutView",
            "align_content": null,
            "align_items": null,
            "align_self": null,
            "border": null,
            "bottom": null,
            "display": null,
            "flex": null,
            "flex_flow": null,
            "grid_area": null,
            "grid_auto_columns": null,
            "grid_auto_flow": null,
            "grid_auto_rows": null,
            "grid_column": null,
            "grid_gap": null,
            "grid_row": null,
            "grid_template_areas": null,
            "grid_template_columns": null,
            "grid_template_rows": null,
            "height": null,
            "justify_content": null,
            "justify_items": null,
            "left": null,
            "margin": null,
            "max_height": null,
            "max_width": null,
            "min_height": null,
            "min_width": null,
            "object_fit": null,
            "object_position": null,
            "order": null,
            "overflow": null,
            "overflow_x": null,
            "overflow_y": null,
            "padding": null,
            "right": null,
            "top": null,
            "visibility": null,
            "width": null
          }
        },
        "b2f023aa4cc945cb9d90f48e0597eb48": {
          "model_module": "@jupyter-widgets/controls",
          "model_name": "ProgressStyleModel",
          "model_module_version": "1.5.0",
          "state": {
            "_model_module": "@jupyter-widgets/controls",
            "_model_module_version": "1.5.0",
            "_model_name": "ProgressStyleModel",
            "_view_count": null,
            "_view_module": "@jupyter-widgets/base",
            "_view_module_version": "1.2.0",
            "_view_name": "StyleView",
            "bar_color": null,
            "description_width": ""
          }
        },
        "ce09d3ffa25241928e13f4dd84b22379": {
          "model_module": "@jupyter-widgets/base",
          "model_name": "LayoutModel",
          "model_module_version": "1.2.0",
          "state": {
            "_model_module": "@jupyter-widgets/base",
            "_model_module_version": "1.2.0",
            "_model_name": "LayoutModel",
            "_view_count": null,
            "_view_module": "@jupyter-widgets/base",
            "_view_module_version": "1.2.0",
            "_view_name": "LayoutView",
            "align_content": null,
            "align_items": null,
            "align_self": null,
            "border": null,
            "bottom": null,
            "display": null,
            "flex": null,
            "flex_flow": null,
            "grid_area": null,
            "grid_auto_columns": null,
            "grid_auto_flow": null,
            "grid_auto_rows": null,
            "grid_column": null,
            "grid_gap": null,
            "grid_row": null,
            "grid_template_areas": null,
            "grid_template_columns": null,
            "grid_template_rows": null,
            "height": null,
            "justify_content": null,
            "justify_items": null,
            "left": null,
            "margin": null,
            "max_height": null,
            "max_width": null,
            "min_height": null,
            "min_width": null,
            "object_fit": null,
            "object_position": null,
            "order": null,
            "overflow": null,
            "overflow_x": null,
            "overflow_y": null,
            "padding": null,
            "right": null,
            "top": null,
            "visibility": null,
            "width": null
          }
        },
        "dbb60a58026245cba28ce624ba098698": {
          "model_module": "@jupyter-widgets/controls",
          "model_name": "DescriptionStyleModel",
          "model_module_version": "1.5.0",
          "state": {
            "_model_module": "@jupyter-widgets/controls",
            "_model_module_version": "1.5.0",
            "_model_name": "DescriptionStyleModel",
            "_view_count": null,
            "_view_module": "@jupyter-widgets/base",
            "_view_module_version": "1.2.0",
            "_view_name": "StyleView",
            "description_width": ""
          }
        },
        "1b826f314f2446a8b813c3b8773e1bd3": {
          "model_module": "@jupyter-widgets/controls",
          "model_name": "HBoxModel",
          "model_module_version": "1.5.0",
          "state": {
            "_dom_classes": [],
            "_model_module": "@jupyter-widgets/controls",
            "_model_module_version": "1.5.0",
            "_model_name": "HBoxModel",
            "_view_count": null,
            "_view_module": "@jupyter-widgets/controls",
            "_view_module_version": "1.5.0",
            "_view_name": "HBoxView",
            "box_style": "",
            "children": [
              "IPY_MODEL_870cbcdab6c043c0ab4c3dd490d4273d",
              "IPY_MODEL_ff385f816c1449d48879d88c2ba078f5",
              "IPY_MODEL_a728cfe75ea94e2a950bdef01988319f"
            ],
            "layout": "IPY_MODEL_de44b73b4da74ee0a33ee3922c36aafe"
          }
        },
        "870cbcdab6c043c0ab4c3dd490d4273d": {
          "model_module": "@jupyter-widgets/controls",
          "model_name": "HTMLModel",
          "model_module_version": "1.5.0",
          "state": {
            "_dom_classes": [],
            "_model_module": "@jupyter-widgets/controls",
            "_model_module_version": "1.5.0",
            "_model_name": "HTMLModel",
            "_view_count": null,
            "_view_module": "@jupyter-widgets/controls",
            "_view_module_version": "1.5.0",
            "_view_name": "HTMLView",
            "description": "",
            "description_tooltip": null,
            "layout": "IPY_MODEL_5b23e55076ab4fb29904f19596ad34a1",
            "placeholder": "​",
            "style": "IPY_MODEL_a90e9912643a4d39b56aa965a7ab0ce0",
            "value": "Downloading metadata: "
          }
        },
        "ff385f816c1449d48879d88c2ba078f5": {
          "model_module": "@jupyter-widgets/controls",
          "model_name": "FloatProgressModel",
          "model_module_version": "1.5.0",
          "state": {
            "_dom_classes": [],
            "_model_module": "@jupyter-widgets/controls",
            "_model_module_version": "1.5.0",
            "_model_name": "FloatProgressModel",
            "_view_count": null,
            "_view_module": "@jupyter-widgets/controls",
            "_view_module_version": "1.5.0",
            "_view_name": "ProgressView",
            "bar_style": "success",
            "description": "",
            "description_tooltip": null,
            "layout": "IPY_MODEL_8bb8f77ad3cd48fca8f3430ee15a82d4",
            "max": 2184,
            "min": 0,
            "orientation": "horizontal",
            "style": "IPY_MODEL_7677d9ecd30a464eb46810d9692d09b6",
            "value": 2184
          }
        },
        "a728cfe75ea94e2a950bdef01988319f": {
          "model_module": "@jupyter-widgets/controls",
          "model_name": "HTMLModel",
          "model_module_version": "1.5.0",
          "state": {
            "_dom_classes": [],
            "_model_module": "@jupyter-widgets/controls",
            "_model_module_version": "1.5.0",
            "_model_name": "HTMLModel",
            "_view_count": null,
            "_view_module": "@jupyter-widgets/controls",
            "_view_module_version": "1.5.0",
            "_view_name": "HTMLView",
            "description": "",
            "description_tooltip": null,
            "layout": "IPY_MODEL_250e296e9fa84910a88eaa52162bbfa6",
            "placeholder": "​",
            "style": "IPY_MODEL_c00a3625b9a9416a8ba7d6b3595e09d2",
            "value": " 36.6k/? [00:00&lt;00:00, 784kB/s]"
          }
        },
        "de44b73b4da74ee0a33ee3922c36aafe": {
          "model_module": "@jupyter-widgets/base",
          "model_name": "LayoutModel",
          "model_module_version": "1.2.0",
          "state": {
            "_model_module": "@jupyter-widgets/base",
            "_model_module_version": "1.2.0",
            "_model_name": "LayoutModel",
            "_view_count": null,
            "_view_module": "@jupyter-widgets/base",
            "_view_module_version": "1.2.0",
            "_view_name": "LayoutView",
            "align_content": null,
            "align_items": null,
            "align_self": null,
            "border": null,
            "bottom": null,
            "display": null,
            "flex": null,
            "flex_flow": null,
            "grid_area": null,
            "grid_auto_columns": null,
            "grid_auto_flow": null,
            "grid_auto_rows": null,
            "grid_column": null,
            "grid_gap": null,
            "grid_row": null,
            "grid_template_areas": null,
            "grid_template_columns": null,
            "grid_template_rows": null,
            "height": null,
            "justify_content": null,
            "justify_items": null,
            "left": null,
            "margin": null,
            "max_height": null,
            "max_width": null,
            "min_height": null,
            "min_width": null,
            "object_fit": null,
            "object_position": null,
            "order": null,
            "overflow": null,
            "overflow_x": null,
            "overflow_y": null,
            "padding": null,
            "right": null,
            "top": null,
            "visibility": null,
            "width": null
          }
        },
        "5b23e55076ab4fb29904f19596ad34a1": {
          "model_module": "@jupyter-widgets/base",
          "model_name": "LayoutModel",
          "model_module_version": "1.2.0",
          "state": {
            "_model_module": "@jupyter-widgets/base",
            "_model_module_version": "1.2.0",
            "_model_name": "LayoutModel",
            "_view_count": null,
            "_view_module": "@jupyter-widgets/base",
            "_view_module_version": "1.2.0",
            "_view_name": "LayoutView",
            "align_content": null,
            "align_items": null,
            "align_self": null,
            "border": null,
            "bottom": null,
            "display": null,
            "flex": null,
            "flex_flow": null,
            "grid_area": null,
            "grid_auto_columns": null,
            "grid_auto_flow": null,
            "grid_auto_rows": null,
            "grid_column": null,
            "grid_gap": null,
            "grid_row": null,
            "grid_template_areas": null,
            "grid_template_columns": null,
            "grid_template_rows": null,
            "height": null,
            "justify_content": null,
            "justify_items": null,
            "left": null,
            "margin": null,
            "max_height": null,
            "max_width": null,
            "min_height": null,
            "min_width": null,
            "object_fit": null,
            "object_position": null,
            "order": null,
            "overflow": null,
            "overflow_x": null,
            "overflow_y": null,
            "padding": null,
            "right": null,
            "top": null,
            "visibility": null,
            "width": null
          }
        },
        "a90e9912643a4d39b56aa965a7ab0ce0": {
          "model_module": "@jupyter-widgets/controls",
          "model_name": "DescriptionStyleModel",
          "model_module_version": "1.5.0",
          "state": {
            "_model_module": "@jupyter-widgets/controls",
            "_model_module_version": "1.5.0",
            "_model_name": "DescriptionStyleModel",
            "_view_count": null,
            "_view_module": "@jupyter-widgets/base",
            "_view_module_version": "1.2.0",
            "_view_name": "StyleView",
            "description_width": ""
          }
        },
        "8bb8f77ad3cd48fca8f3430ee15a82d4": {
          "model_module": "@jupyter-widgets/base",
          "model_name": "LayoutModel",
          "model_module_version": "1.2.0",
          "state": {
            "_model_module": "@jupyter-widgets/base",
            "_model_module_version": "1.2.0",
            "_model_name": "LayoutModel",
            "_view_count": null,
            "_view_module": "@jupyter-widgets/base",
            "_view_module_version": "1.2.0",
            "_view_name": "LayoutView",
            "align_content": null,
            "align_items": null,
            "align_self": null,
            "border": null,
            "bottom": null,
            "display": null,
            "flex": null,
            "flex_flow": null,
            "grid_area": null,
            "grid_auto_columns": null,
            "grid_auto_flow": null,
            "grid_auto_rows": null,
            "grid_column": null,
            "grid_gap": null,
            "grid_row": null,
            "grid_template_areas": null,
            "grid_template_columns": null,
            "grid_template_rows": null,
            "height": null,
            "justify_content": null,
            "justify_items": null,
            "left": null,
            "margin": null,
            "max_height": null,
            "max_width": null,
            "min_height": null,
            "min_width": null,
            "object_fit": null,
            "object_position": null,
            "order": null,
            "overflow": null,
            "overflow_x": null,
            "overflow_y": null,
            "padding": null,
            "right": null,
            "top": null,
            "visibility": null,
            "width": null
          }
        },
        "7677d9ecd30a464eb46810d9692d09b6": {
          "model_module": "@jupyter-widgets/controls",
          "model_name": "ProgressStyleModel",
          "model_module_version": "1.5.0",
          "state": {
            "_model_module": "@jupyter-widgets/controls",
            "_model_module_version": "1.5.0",
            "_model_name": "ProgressStyleModel",
            "_view_count": null,
            "_view_module": "@jupyter-widgets/base",
            "_view_module_version": "1.2.0",
            "_view_name": "StyleView",
            "bar_color": null,
            "description_width": ""
          }
        },
        "250e296e9fa84910a88eaa52162bbfa6": {
          "model_module": "@jupyter-widgets/base",
          "model_name": "LayoutModel",
          "model_module_version": "1.2.0",
          "state": {
            "_model_module": "@jupyter-widgets/base",
            "_model_module_version": "1.2.0",
            "_model_name": "LayoutModel",
            "_view_count": null,
            "_view_module": "@jupyter-widgets/base",
            "_view_module_version": "1.2.0",
            "_view_name": "LayoutView",
            "align_content": null,
            "align_items": null,
            "align_self": null,
            "border": null,
            "bottom": null,
            "display": null,
            "flex": null,
            "flex_flow": null,
            "grid_area": null,
            "grid_auto_columns": null,
            "grid_auto_flow": null,
            "grid_auto_rows": null,
            "grid_column": null,
            "grid_gap": null,
            "grid_row": null,
            "grid_template_areas": null,
            "grid_template_columns": null,
            "grid_template_rows": null,
            "height": null,
            "justify_content": null,
            "justify_items": null,
            "left": null,
            "margin": null,
            "max_height": null,
            "max_width": null,
            "min_height": null,
            "min_width": null,
            "object_fit": null,
            "object_position": null,
            "order": null,
            "overflow": null,
            "overflow_x": null,
            "overflow_y": null,
            "padding": null,
            "right": null,
            "top": null,
            "visibility": null,
            "width": null
          }
        },
        "c00a3625b9a9416a8ba7d6b3595e09d2": {
          "model_module": "@jupyter-widgets/controls",
          "model_name": "DescriptionStyleModel",
          "model_module_version": "1.5.0",
          "state": {
            "_model_module": "@jupyter-widgets/controls",
            "_model_module_version": "1.5.0",
            "_model_name": "DescriptionStyleModel",
            "_view_count": null,
            "_view_module": "@jupyter-widgets/base",
            "_view_module_version": "1.2.0",
            "_view_name": "StyleView",
            "description_width": ""
          }
        },
        "ae36cc3641314d24ad549fcb6e050941": {
          "model_module": "@jupyter-widgets/controls",
          "model_name": "HBoxModel",
          "model_module_version": "1.5.0",
          "state": {
            "_dom_classes": [],
            "_model_module": "@jupyter-widgets/controls",
            "_model_module_version": "1.5.0",
            "_model_name": "HBoxModel",
            "_view_count": null,
            "_view_module": "@jupyter-widgets/controls",
            "_view_module_version": "1.5.0",
            "_view_name": "HBoxView",
            "box_style": "",
            "children": [
              "IPY_MODEL_bd75070cf4f4423194c424c2d9c895ff",
              "IPY_MODEL_81491a60de964346844f4c8257b8e178",
              "IPY_MODEL_4f5b8f9633784cc2bac43ed707763f5d"
            ],
            "layout": "IPY_MODEL_b2f491afa24140e48f8db95d719d15fc"
          }
        },
        "bd75070cf4f4423194c424c2d9c895ff": {
          "model_module": "@jupyter-widgets/controls",
          "model_name": "HTMLModel",
          "model_module_version": "1.5.0",
          "state": {
            "_dom_classes": [],
            "_model_module": "@jupyter-widgets/controls",
            "_model_module_version": "1.5.0",
            "_model_name": "HTMLModel",
            "_view_count": null,
            "_view_module": "@jupyter-widgets/controls",
            "_view_module_version": "1.5.0",
            "_view_name": "HTMLView",
            "description": "",
            "description_tooltip": null,
            "layout": "IPY_MODEL_133b8c00de3e427aa0d6a17fda4a2f05",
            "placeholder": "​",
            "style": "IPY_MODEL_7897e4db3e574977958b917a8609c87e",
            "value": "Downloading data files: 100%"
          }
        },
        "81491a60de964346844f4c8257b8e178": {
          "model_module": "@jupyter-widgets/controls",
          "model_name": "FloatProgressModel",
          "model_module_version": "1.5.0",
          "state": {
            "_dom_classes": [],
            "_model_module": "@jupyter-widgets/controls",
            "_model_module_version": "1.5.0",
            "_model_name": "FloatProgressModel",
            "_view_count": null,
            "_view_module": "@jupyter-widgets/controls",
            "_view_module_version": "1.5.0",
            "_view_name": "ProgressView",
            "bar_style": "success",
            "description": "",
            "description_tooltip": null,
            "layout": "IPY_MODEL_00f0990c415c4c7d902d6f43f5f1ec5a",
            "max": 2,
            "min": 0,
            "orientation": "horizontal",
            "style": "IPY_MODEL_4621b984e68740398541df15c7f08be7",
            "value": 2
          }
        },
        "4f5b8f9633784cc2bac43ed707763f5d": {
          "model_module": "@jupyter-widgets/controls",
          "model_name": "HTMLModel",
          "model_module_version": "1.5.0",
          "state": {
            "_dom_classes": [],
            "_model_module": "@jupyter-widgets/controls",
            "_model_module_version": "1.5.0",
            "_model_name": "HTMLModel",
            "_view_count": null,
            "_view_module": "@jupyter-widgets/controls",
            "_view_module_version": "1.5.0",
            "_view_name": "HTMLView",
            "description": "",
            "description_tooltip": null,
            "layout": "IPY_MODEL_76e4228b117a4950a908148c8b3f120b",
            "placeholder": "​",
            "style": "IPY_MODEL_99cdf86ae5474ee0ac57998a8e3aa5d7",
            "value": " 2/2 [00:12&lt;00:00,  5.26s/it]"
          }
        },
        "b2f491afa24140e48f8db95d719d15fc": {
          "model_module": "@jupyter-widgets/base",
          "model_name": "LayoutModel",
          "model_module_version": "1.2.0",
          "state": {
            "_model_module": "@jupyter-widgets/base",
            "_model_module_version": "1.2.0",
            "_model_name": "LayoutModel",
            "_view_count": null,
            "_view_module": "@jupyter-widgets/base",
            "_view_module_version": "1.2.0",
            "_view_name": "LayoutView",
            "align_content": null,
            "align_items": null,
            "align_self": null,
            "border": null,
            "bottom": null,
            "display": null,
            "flex": null,
            "flex_flow": null,
            "grid_area": null,
            "grid_auto_columns": null,
            "grid_auto_flow": null,
            "grid_auto_rows": null,
            "grid_column": null,
            "grid_gap": null,
            "grid_row": null,
            "grid_template_areas": null,
            "grid_template_columns": null,
            "grid_template_rows": null,
            "height": null,
            "justify_content": null,
            "justify_items": null,
            "left": null,
            "margin": null,
            "max_height": null,
            "max_width": null,
            "min_height": null,
            "min_width": null,
            "object_fit": null,
            "object_position": null,
            "order": null,
            "overflow": null,
            "overflow_x": null,
            "overflow_y": null,
            "padding": null,
            "right": null,
            "top": null,
            "visibility": null,
            "width": null
          }
        },
        "133b8c00de3e427aa0d6a17fda4a2f05": {
          "model_module": "@jupyter-widgets/base",
          "model_name": "LayoutModel",
          "model_module_version": "1.2.0",
          "state": {
            "_model_module": "@jupyter-widgets/base",
            "_model_module_version": "1.2.0",
            "_model_name": "LayoutModel",
            "_view_count": null,
            "_view_module": "@jupyter-widgets/base",
            "_view_module_version": "1.2.0",
            "_view_name": "LayoutView",
            "align_content": null,
            "align_items": null,
            "align_self": null,
            "border": null,
            "bottom": null,
            "display": null,
            "flex": null,
            "flex_flow": null,
            "grid_area": null,
            "grid_auto_columns": null,
            "grid_auto_flow": null,
            "grid_auto_rows": null,
            "grid_column": null,
            "grid_gap": null,
            "grid_row": null,
            "grid_template_areas": null,
            "grid_template_columns": null,
            "grid_template_rows": null,
            "height": null,
            "justify_content": null,
            "justify_items": null,
            "left": null,
            "margin": null,
            "max_height": null,
            "max_width": null,
            "min_height": null,
            "min_width": null,
            "object_fit": null,
            "object_position": null,
            "order": null,
            "overflow": null,
            "overflow_x": null,
            "overflow_y": null,
            "padding": null,
            "right": null,
            "top": null,
            "visibility": null,
            "width": null
          }
        },
        "7897e4db3e574977958b917a8609c87e": {
          "model_module": "@jupyter-widgets/controls",
          "model_name": "DescriptionStyleModel",
          "model_module_version": "1.5.0",
          "state": {
            "_model_module": "@jupyter-widgets/controls",
            "_model_module_version": "1.5.0",
            "_model_name": "DescriptionStyleModel",
            "_view_count": null,
            "_view_module": "@jupyter-widgets/base",
            "_view_module_version": "1.2.0",
            "_view_name": "StyleView",
            "description_width": ""
          }
        },
        "00f0990c415c4c7d902d6f43f5f1ec5a": {
          "model_module": "@jupyter-widgets/base",
          "model_name": "LayoutModel",
          "model_module_version": "1.2.0",
          "state": {
            "_model_module": "@jupyter-widgets/base",
            "_model_module_version": "1.2.0",
            "_model_name": "LayoutModel",
            "_view_count": null,
            "_view_module": "@jupyter-widgets/base",
            "_view_module_version": "1.2.0",
            "_view_name": "LayoutView",
            "align_content": null,
            "align_items": null,
            "align_self": null,
            "border": null,
            "bottom": null,
            "display": null,
            "flex": null,
            "flex_flow": null,
            "grid_area": null,
            "grid_auto_columns": null,
            "grid_auto_flow": null,
            "grid_auto_rows": null,
            "grid_column": null,
            "grid_gap": null,
            "grid_row": null,
            "grid_template_areas": null,
            "grid_template_columns": null,
            "grid_template_rows": null,
            "height": null,
            "justify_content": null,
            "justify_items": null,
            "left": null,
            "margin": null,
            "max_height": null,
            "max_width": null,
            "min_height": null,
            "min_width": null,
            "object_fit": null,
            "object_position": null,
            "order": null,
            "overflow": null,
            "overflow_x": null,
            "overflow_y": null,
            "padding": null,
            "right": null,
            "top": null,
            "visibility": null,
            "width": null
          }
        },
        "4621b984e68740398541df15c7f08be7": {
          "model_module": "@jupyter-widgets/controls",
          "model_name": "ProgressStyleModel",
          "model_module_version": "1.5.0",
          "state": {
            "_model_module": "@jupyter-widgets/controls",
            "_model_module_version": "1.5.0",
            "_model_name": "ProgressStyleModel",
            "_view_count": null,
            "_view_module": "@jupyter-widgets/base",
            "_view_module_version": "1.2.0",
            "_view_name": "StyleView",
            "bar_color": null,
            "description_width": ""
          }
        },
        "76e4228b117a4950a908148c8b3f120b": {
          "model_module": "@jupyter-widgets/base",
          "model_name": "LayoutModel",
          "model_module_version": "1.2.0",
          "state": {
            "_model_module": "@jupyter-widgets/base",
            "_model_module_version": "1.2.0",
            "_model_name": "LayoutModel",
            "_view_count": null,
            "_view_module": "@jupyter-widgets/base",
            "_view_module_version": "1.2.0",
            "_view_name": "LayoutView",
            "align_content": null,
            "align_items": null,
            "align_self": null,
            "border": null,
            "bottom": null,
            "display": null,
            "flex": null,
            "flex_flow": null,
            "grid_area": null,
            "grid_auto_columns": null,
            "grid_auto_flow": null,
            "grid_auto_rows": null,
            "grid_column": null,
            "grid_gap": null,
            "grid_row": null,
            "grid_template_areas": null,
            "grid_template_columns": null,
            "grid_template_rows": null,
            "height": null,
            "justify_content": null,
            "justify_items": null,
            "left": null,
            "margin": null,
            "max_height": null,
            "max_width": null,
            "min_height": null,
            "min_width": null,
            "object_fit": null,
            "object_position": null,
            "order": null,
            "overflow": null,
            "overflow_x": null,
            "overflow_y": null,
            "padding": null,
            "right": null,
            "top": null,
            "visibility": null,
            "width": null
          }
        },
        "99cdf86ae5474ee0ac57998a8e3aa5d7": {
          "model_module": "@jupyter-widgets/controls",
          "model_name": "DescriptionStyleModel",
          "model_module_version": "1.5.0",
          "state": {
            "_model_module": "@jupyter-widgets/controls",
            "_model_module_version": "1.5.0",
            "_model_name": "DescriptionStyleModel",
            "_view_count": null,
            "_view_module": "@jupyter-widgets/base",
            "_view_module_version": "1.2.0",
            "_view_name": "StyleView",
            "description_width": ""
          }
        },
        "aaefb39586d74f5eaa2162ce9a8752a8": {
          "model_module": "@jupyter-widgets/controls",
          "model_name": "HBoxModel",
          "model_module_version": "1.5.0",
          "state": {
            "_dom_classes": [],
            "_model_module": "@jupyter-widgets/controls",
            "_model_module_version": "1.5.0",
            "_model_name": "HBoxModel",
            "_view_count": null,
            "_view_module": "@jupyter-widgets/controls",
            "_view_module_version": "1.5.0",
            "_view_name": "HBoxView",
            "box_style": "",
            "children": [
              "IPY_MODEL_9a5fb2d9c9ab4b5d8096cf214c444577",
              "IPY_MODEL_5710bffb821546488f27c613bfb28f6f",
              "IPY_MODEL_d38443422959400b86bae28c8f39019e"
            ],
            "layout": "IPY_MODEL_12a071b333ce4a608c7e3f63299d847f"
          }
        },
        "9a5fb2d9c9ab4b5d8096cf214c444577": {
          "model_module": "@jupyter-widgets/controls",
          "model_name": "HTMLModel",
          "model_module_version": "1.5.0",
          "state": {
            "_dom_classes": [],
            "_model_module": "@jupyter-widgets/controls",
            "_model_module_version": "1.5.0",
            "_model_name": "HTMLModel",
            "_view_count": null,
            "_view_module": "@jupyter-widgets/controls",
            "_view_module_version": "1.5.0",
            "_view_name": "HTMLView",
            "description": "",
            "description_tooltip": null,
            "layout": "IPY_MODEL_e534f45a4c5948b8be639a27443c88d2",
            "placeholder": "​",
            "style": "IPY_MODEL_953eb18d35d44ba698aaa7d2120f71d5",
            "value": "Downloading data: 100%"
          }
        },
        "5710bffb821546488f27c613bfb28f6f": {
          "model_module": "@jupyter-widgets/controls",
          "model_name": "FloatProgressModel",
          "model_module_version": "1.5.0",
          "state": {
            "_dom_classes": [],
            "_model_module": "@jupyter-widgets/controls",
            "_model_module_version": "1.5.0",
            "_model_name": "FloatProgressModel",
            "_view_count": null,
            "_view_module": "@jupyter-widgets/controls",
            "_view_module_version": "1.5.0",
            "_view_name": "ProgressView",
            "bar_style": "success",
            "description": "",
            "description_tooltip": null,
            "layout": "IPY_MODEL_cf5056e2b8bc484fb5443010897b7792",
            "max": 466098360,
            "min": 0,
            "orientation": "horizontal",
            "style": "IPY_MODEL_913e5ba3bcfc4274a2a725b2dfd2f30f",
            "value": 466098360
          }
        },
        "d38443422959400b86bae28c8f39019e": {
          "model_module": "@jupyter-widgets/controls",
          "model_name": "HTMLModel",
          "model_module_version": "1.5.0",
          "state": {
            "_dom_classes": [],
            "_model_module": "@jupyter-widgets/controls",
            "_model_module_version": "1.5.0",
            "_model_name": "HTMLModel",
            "_view_count": null,
            "_view_module": "@jupyter-widgets/controls",
            "_view_module_version": "1.5.0",
            "_view_name": "HTMLView",
            "description": "",
            "description_tooltip": null,
            "layout": "IPY_MODEL_a8801068dd1442d09b30c1dca0f5fbbf",
            "placeholder": "​",
            "style": "IPY_MODEL_ec546224dcb644359fe107a42c8cbc71",
            "value": " 466M/466M [00:10&lt;00:00, 49.6MB/s]"
          }
        },
        "12a071b333ce4a608c7e3f63299d847f": {
          "model_module": "@jupyter-widgets/base",
          "model_name": "LayoutModel",
          "model_module_version": "1.2.0",
          "state": {
            "_model_module": "@jupyter-widgets/base",
            "_model_module_version": "1.2.0",
            "_model_name": "LayoutModel",
            "_view_count": null,
            "_view_module": "@jupyter-widgets/base",
            "_view_module_version": "1.2.0",
            "_view_name": "LayoutView",
            "align_content": null,
            "align_items": null,
            "align_self": null,
            "border": null,
            "bottom": null,
            "display": null,
            "flex": null,
            "flex_flow": null,
            "grid_area": null,
            "grid_auto_columns": null,
            "grid_auto_flow": null,
            "grid_auto_rows": null,
            "grid_column": null,
            "grid_gap": null,
            "grid_row": null,
            "grid_template_areas": null,
            "grid_template_columns": null,
            "grid_template_rows": null,
            "height": null,
            "justify_content": null,
            "justify_items": null,
            "left": null,
            "margin": null,
            "max_height": null,
            "max_width": null,
            "min_height": null,
            "min_width": null,
            "object_fit": null,
            "object_position": null,
            "order": null,
            "overflow": null,
            "overflow_x": null,
            "overflow_y": null,
            "padding": null,
            "right": null,
            "top": null,
            "visibility": null,
            "width": null
          }
        },
        "e534f45a4c5948b8be639a27443c88d2": {
          "model_module": "@jupyter-widgets/base",
          "model_name": "LayoutModel",
          "model_module_version": "1.2.0",
          "state": {
            "_model_module": "@jupyter-widgets/base",
            "_model_module_version": "1.2.0",
            "_model_name": "LayoutModel",
            "_view_count": null,
            "_view_module": "@jupyter-widgets/base",
            "_view_module_version": "1.2.0",
            "_view_name": "LayoutView",
            "align_content": null,
            "align_items": null,
            "align_self": null,
            "border": null,
            "bottom": null,
            "display": null,
            "flex": null,
            "flex_flow": null,
            "grid_area": null,
            "grid_auto_columns": null,
            "grid_auto_flow": null,
            "grid_auto_rows": null,
            "grid_column": null,
            "grid_gap": null,
            "grid_row": null,
            "grid_template_areas": null,
            "grid_template_columns": null,
            "grid_template_rows": null,
            "height": null,
            "justify_content": null,
            "justify_items": null,
            "left": null,
            "margin": null,
            "max_height": null,
            "max_width": null,
            "min_height": null,
            "min_width": null,
            "object_fit": null,
            "object_position": null,
            "order": null,
            "overflow": null,
            "overflow_x": null,
            "overflow_y": null,
            "padding": null,
            "right": null,
            "top": null,
            "visibility": null,
            "width": null
          }
        },
        "953eb18d35d44ba698aaa7d2120f71d5": {
          "model_module": "@jupyter-widgets/controls",
          "model_name": "DescriptionStyleModel",
          "model_module_version": "1.5.0",
          "state": {
            "_model_module": "@jupyter-widgets/controls",
            "_model_module_version": "1.5.0",
            "_model_name": "DescriptionStyleModel",
            "_view_count": null,
            "_view_module": "@jupyter-widgets/base",
            "_view_module_version": "1.2.0",
            "_view_name": "StyleView",
            "description_width": ""
          }
        },
        "cf5056e2b8bc484fb5443010897b7792": {
          "model_module": "@jupyter-widgets/base",
          "model_name": "LayoutModel",
          "model_module_version": "1.2.0",
          "state": {
            "_model_module": "@jupyter-widgets/base",
            "_model_module_version": "1.2.0",
            "_model_name": "LayoutModel",
            "_view_count": null,
            "_view_module": "@jupyter-widgets/base",
            "_view_module_version": "1.2.0",
            "_view_name": "LayoutView",
            "align_content": null,
            "align_items": null,
            "align_self": null,
            "border": null,
            "bottom": null,
            "display": null,
            "flex": null,
            "flex_flow": null,
            "grid_area": null,
            "grid_auto_columns": null,
            "grid_auto_flow": null,
            "grid_auto_rows": null,
            "grid_column": null,
            "grid_gap": null,
            "grid_row": null,
            "grid_template_areas": null,
            "grid_template_columns": null,
            "grid_template_rows": null,
            "height": null,
            "justify_content": null,
            "justify_items": null,
            "left": null,
            "margin": null,
            "max_height": null,
            "max_width": null,
            "min_height": null,
            "min_width": null,
            "object_fit": null,
            "object_position": null,
            "order": null,
            "overflow": null,
            "overflow_x": null,
            "overflow_y": null,
            "padding": null,
            "right": null,
            "top": null,
            "visibility": null,
            "width": null
          }
        },
        "913e5ba3bcfc4274a2a725b2dfd2f30f": {
          "model_module": "@jupyter-widgets/controls",
          "model_name": "ProgressStyleModel",
          "model_module_version": "1.5.0",
          "state": {
            "_model_module": "@jupyter-widgets/controls",
            "_model_module_version": "1.5.0",
            "_model_name": "ProgressStyleModel",
            "_view_count": null,
            "_view_module": "@jupyter-widgets/base",
            "_view_module_version": "1.2.0",
            "_view_name": "StyleView",
            "bar_color": null,
            "description_width": ""
          }
        },
        "a8801068dd1442d09b30c1dca0f5fbbf": {
          "model_module": "@jupyter-widgets/base",
          "model_name": "LayoutModel",
          "model_module_version": "1.2.0",
          "state": {
            "_model_module": "@jupyter-widgets/base",
            "_model_module_version": "1.2.0",
            "_model_name": "LayoutModel",
            "_view_count": null,
            "_view_module": "@jupyter-widgets/base",
            "_view_module_version": "1.2.0",
            "_view_name": "LayoutView",
            "align_content": null,
            "align_items": null,
            "align_self": null,
            "border": null,
            "bottom": null,
            "display": null,
            "flex": null,
            "flex_flow": null,
            "grid_area": null,
            "grid_auto_columns": null,
            "grid_auto_flow": null,
            "grid_auto_rows": null,
            "grid_column": null,
            "grid_gap": null,
            "grid_row": null,
            "grid_template_areas": null,
            "grid_template_columns": null,
            "grid_template_rows": null,
            "height": null,
            "justify_content": null,
            "justify_items": null,
            "left": null,
            "margin": null,
            "max_height": null,
            "max_width": null,
            "min_height": null,
            "min_width": null,
            "object_fit": null,
            "object_position": null,
            "order": null,
            "overflow": null,
            "overflow_x": null,
            "overflow_y": null,
            "padding": null,
            "right": null,
            "top": null,
            "visibility": null,
            "width": null
          }
        },
        "ec546224dcb644359fe107a42c8cbc71": {
          "model_module": "@jupyter-widgets/controls",
          "model_name": "DescriptionStyleModel",
          "model_module_version": "1.5.0",
          "state": {
            "_model_module": "@jupyter-widgets/controls",
            "_model_module_version": "1.5.0",
            "_model_name": "DescriptionStyleModel",
            "_view_count": null,
            "_view_module": "@jupyter-widgets/base",
            "_view_module_version": "1.2.0",
            "_view_name": "StyleView",
            "description_width": ""
          }
        },
        "f2a01c971bac44b691c759a31c8d2685": {
          "model_module": "@jupyter-widgets/controls",
          "model_name": "HBoxModel",
          "model_module_version": "1.5.0",
          "state": {
            "_dom_classes": [],
            "_model_module": "@jupyter-widgets/controls",
            "_model_module_version": "1.5.0",
            "_model_name": "HBoxModel",
            "_view_count": null,
            "_view_module": "@jupyter-widgets/controls",
            "_view_module_version": "1.5.0",
            "_view_name": "HBoxView",
            "box_style": "",
            "children": [
              "IPY_MODEL_b63d771df78249519fdab56f5d24cc87",
              "IPY_MODEL_29fed2cba0ac4a98b7f5ca931a3a35ad",
              "IPY_MODEL_ea1ec82dea8e447496d08d74f153e951"
            ],
            "layout": "IPY_MODEL_e35af42119524ddcb2d010f6487f913d"
          }
        },
        "b63d771df78249519fdab56f5d24cc87": {
          "model_module": "@jupyter-widgets/controls",
          "model_name": "HTMLModel",
          "model_module_version": "1.5.0",
          "state": {
            "_dom_classes": [],
            "_model_module": "@jupyter-widgets/controls",
            "_model_module_version": "1.5.0",
            "_model_name": "HTMLModel",
            "_view_count": null,
            "_view_module": "@jupyter-widgets/controls",
            "_view_module_version": "1.5.0",
            "_view_name": "HTMLView",
            "description": "",
            "description_tooltip": null,
            "layout": "IPY_MODEL_da231ad89a814c1ba1954bf4c8baec6e",
            "placeholder": "​",
            "style": "IPY_MODEL_c0c2d31f235743189eee8fb37585801e",
            "value": "Downloading data: 100%"
          }
        },
        "29fed2cba0ac4a98b7f5ca931a3a35ad": {
          "model_module": "@jupyter-widgets/controls",
          "model_name": "FloatProgressModel",
          "model_module_version": "1.5.0",
          "state": {
            "_dom_classes": [],
            "_model_module": "@jupyter-widgets/controls",
            "_model_module_version": "1.5.0",
            "_model_name": "FloatProgressModel",
            "_view_count": null,
            "_view_module": "@jupyter-widgets/controls",
            "_view_module_version": "1.5.0",
            "_view_name": "ProgressView",
            "bar_style": "success",
            "description": "",
            "description_tooltip": null,
            "layout": "IPY_MODEL_1f40005caa864a87a5a9485c18e42cd7",
            "max": 17865352,
            "min": 0,
            "orientation": "horizontal",
            "style": "IPY_MODEL_7751b36e344444b483e2566c20db6399",
            "value": 17865352
          }
        },
        "ea1ec82dea8e447496d08d74f153e951": {
          "model_module": "@jupyter-widgets/controls",
          "model_name": "HTMLModel",
          "model_module_version": "1.5.0",
          "state": {
            "_dom_classes": [],
            "_model_module": "@jupyter-widgets/controls",
            "_model_module_version": "1.5.0",
            "_model_name": "HTMLModel",
            "_view_count": null,
            "_view_module": "@jupyter-widgets/controls",
            "_view_module_version": "1.5.0",
            "_view_name": "HTMLView",
            "description": "",
            "description_tooltip": null,
            "layout": "IPY_MODEL_26bbc0b8ccbc4e0f941655f6f1789ea4",
            "placeholder": "​",
            "style": "IPY_MODEL_b604f74cebb84e92b6c61e3cb0f00241",
            "value": " 17.9M/17.9M [00:00&lt;00:00, 41.1MB/s]"
          }
        },
        "e35af42119524ddcb2d010f6487f913d": {
          "model_module": "@jupyter-widgets/base",
          "model_name": "LayoutModel",
          "model_module_version": "1.2.0",
          "state": {
            "_model_module": "@jupyter-widgets/base",
            "_model_module_version": "1.2.0",
            "_model_name": "LayoutModel",
            "_view_count": null,
            "_view_module": "@jupyter-widgets/base",
            "_view_module_version": "1.2.0",
            "_view_name": "LayoutView",
            "align_content": null,
            "align_items": null,
            "align_self": null,
            "border": null,
            "bottom": null,
            "display": null,
            "flex": null,
            "flex_flow": null,
            "grid_area": null,
            "grid_auto_columns": null,
            "grid_auto_flow": null,
            "grid_auto_rows": null,
            "grid_column": null,
            "grid_gap": null,
            "grid_row": null,
            "grid_template_areas": null,
            "grid_template_columns": null,
            "grid_template_rows": null,
            "height": null,
            "justify_content": null,
            "justify_items": null,
            "left": null,
            "margin": null,
            "max_height": null,
            "max_width": null,
            "min_height": null,
            "min_width": null,
            "object_fit": null,
            "object_position": null,
            "order": null,
            "overflow": null,
            "overflow_x": null,
            "overflow_y": null,
            "padding": null,
            "right": null,
            "top": null,
            "visibility": null,
            "width": null
          }
        },
        "da231ad89a814c1ba1954bf4c8baec6e": {
          "model_module": "@jupyter-widgets/base",
          "model_name": "LayoutModel",
          "model_module_version": "1.2.0",
          "state": {
            "_model_module": "@jupyter-widgets/base",
            "_model_module_version": "1.2.0",
            "_model_name": "LayoutModel",
            "_view_count": null,
            "_view_module": "@jupyter-widgets/base",
            "_view_module_version": "1.2.0",
            "_view_name": "LayoutView",
            "align_content": null,
            "align_items": null,
            "align_self": null,
            "border": null,
            "bottom": null,
            "display": null,
            "flex": null,
            "flex_flow": null,
            "grid_area": null,
            "grid_auto_columns": null,
            "grid_auto_flow": null,
            "grid_auto_rows": null,
            "grid_column": null,
            "grid_gap": null,
            "grid_row": null,
            "grid_template_areas": null,
            "grid_template_columns": null,
            "grid_template_rows": null,
            "height": null,
            "justify_content": null,
            "justify_items": null,
            "left": null,
            "margin": null,
            "max_height": null,
            "max_width": null,
            "min_height": null,
            "min_width": null,
            "object_fit": null,
            "object_position": null,
            "order": null,
            "overflow": null,
            "overflow_x": null,
            "overflow_y": null,
            "padding": null,
            "right": null,
            "top": null,
            "visibility": null,
            "width": null
          }
        },
        "c0c2d31f235743189eee8fb37585801e": {
          "model_module": "@jupyter-widgets/controls",
          "model_name": "DescriptionStyleModel",
          "model_module_version": "1.5.0",
          "state": {
            "_model_module": "@jupyter-widgets/controls",
            "_model_module_version": "1.5.0",
            "_model_name": "DescriptionStyleModel",
            "_view_count": null,
            "_view_module": "@jupyter-widgets/base",
            "_view_module_version": "1.2.0",
            "_view_name": "StyleView",
            "description_width": ""
          }
        },
        "1f40005caa864a87a5a9485c18e42cd7": {
          "model_module": "@jupyter-widgets/base",
          "model_name": "LayoutModel",
          "model_module_version": "1.2.0",
          "state": {
            "_model_module": "@jupyter-widgets/base",
            "_model_module_version": "1.2.0",
            "_model_name": "LayoutModel",
            "_view_count": null,
            "_view_module": "@jupyter-widgets/base",
            "_view_module_version": "1.2.0",
            "_view_name": "LayoutView",
            "align_content": null,
            "align_items": null,
            "align_self": null,
            "border": null,
            "bottom": null,
            "display": null,
            "flex": null,
            "flex_flow": null,
            "grid_area": null,
            "grid_auto_columns": null,
            "grid_auto_flow": null,
            "grid_auto_rows": null,
            "grid_column": null,
            "grid_gap": null,
            "grid_row": null,
            "grid_template_areas": null,
            "grid_template_columns": null,
            "grid_template_rows": null,
            "height": null,
            "justify_content": null,
            "justify_items": null,
            "left": null,
            "margin": null,
            "max_height": null,
            "max_width": null,
            "min_height": null,
            "min_width": null,
            "object_fit": null,
            "object_position": null,
            "order": null,
            "overflow": null,
            "overflow_x": null,
            "overflow_y": null,
            "padding": null,
            "right": null,
            "top": null,
            "visibility": null,
            "width": null
          }
        },
        "7751b36e344444b483e2566c20db6399": {
          "model_module": "@jupyter-widgets/controls",
          "model_name": "ProgressStyleModel",
          "model_module_version": "1.5.0",
          "state": {
            "_model_module": "@jupyter-widgets/controls",
            "_model_module_version": "1.5.0",
            "_model_name": "ProgressStyleModel",
            "_view_count": null,
            "_view_module": "@jupyter-widgets/base",
            "_view_module_version": "1.2.0",
            "_view_name": "StyleView",
            "bar_color": null,
            "description_width": ""
          }
        },
        "26bbc0b8ccbc4e0f941655f6f1789ea4": {
          "model_module": "@jupyter-widgets/base",
          "model_name": "LayoutModel",
          "model_module_version": "1.2.0",
          "state": {
            "_model_module": "@jupyter-widgets/base",
            "_model_module_version": "1.2.0",
            "_model_name": "LayoutModel",
            "_view_count": null,
            "_view_module": "@jupyter-widgets/base",
            "_view_module_version": "1.2.0",
            "_view_name": "LayoutView",
            "align_content": null,
            "align_items": null,
            "align_self": null,
            "border": null,
            "bottom": null,
            "display": null,
            "flex": null,
            "flex_flow": null,
            "grid_area": null,
            "grid_auto_columns": null,
            "grid_auto_flow": null,
            "grid_auto_rows": null,
            "grid_column": null,
            "grid_gap": null,
            "grid_row": null,
            "grid_template_areas": null,
            "grid_template_columns": null,
            "grid_template_rows": null,
            "height": null,
            "justify_content": null,
            "justify_items": null,
            "left": null,
            "margin": null,
            "max_height": null,
            "max_width": null,
            "min_height": null,
            "min_width": null,
            "object_fit": null,
            "object_position": null,
            "order": null,
            "overflow": null,
            "overflow_x": null,
            "overflow_y": null,
            "padding": null,
            "right": null,
            "top": null,
            "visibility": null,
            "width": null
          }
        },
        "b604f74cebb84e92b6c61e3cb0f00241": {
          "model_module": "@jupyter-widgets/controls",
          "model_name": "DescriptionStyleModel",
          "model_module_version": "1.5.0",
          "state": {
            "_model_module": "@jupyter-widgets/controls",
            "_model_module_version": "1.5.0",
            "_model_name": "DescriptionStyleModel",
            "_view_count": null,
            "_view_module": "@jupyter-widgets/base",
            "_view_module_version": "1.2.0",
            "_view_name": "StyleView",
            "description_width": ""
          }
        },
        "8fe293baf280490498e027b417e466b9": {
          "model_module": "@jupyter-widgets/controls",
          "model_name": "HBoxModel",
          "model_module_version": "1.5.0",
          "state": {
            "_dom_classes": [],
            "_model_module": "@jupyter-widgets/controls",
            "_model_module_version": "1.5.0",
            "_model_name": "HBoxModel",
            "_view_count": null,
            "_view_module": "@jupyter-widgets/controls",
            "_view_module_version": "1.5.0",
            "_view_name": "HBoxView",
            "box_style": "",
            "children": [
              "IPY_MODEL_798c7470e08c4747b7d5e29f17175a92",
              "IPY_MODEL_95fc3324c39e4ef490099f97ed16c577",
              "IPY_MODEL_f40bc447e113468ab0eef3d6b3111ba2"
            ],
            "layout": "IPY_MODEL_a9b2a5b51a134f63bdbfd03b402ba96a"
          }
        },
        "798c7470e08c4747b7d5e29f17175a92": {
          "model_module": "@jupyter-widgets/controls",
          "model_name": "HTMLModel",
          "model_module_version": "1.5.0",
          "state": {
            "_dom_classes": [],
            "_model_module": "@jupyter-widgets/controls",
            "_model_module_version": "1.5.0",
            "_model_name": "HTMLModel",
            "_view_count": null,
            "_view_module": "@jupyter-widgets/controls",
            "_view_module_version": "1.5.0",
            "_view_name": "HTMLView",
            "description": "",
            "description_tooltip": null,
            "layout": "IPY_MODEL_84a68658c8dd4fba98a7abb41af9c338",
            "placeholder": "​",
            "style": "IPY_MODEL_fd71418da9fa4e498f8ea2c49447aa90",
            "value": "Extracting data files: 100%"
          }
        },
        "95fc3324c39e4ef490099f97ed16c577": {
          "model_module": "@jupyter-widgets/controls",
          "model_name": "FloatProgressModel",
          "model_module_version": "1.5.0",
          "state": {
            "_dom_classes": [],
            "_model_module": "@jupyter-widgets/controls",
            "_model_module_version": "1.5.0",
            "_model_name": "FloatProgressModel",
            "_view_count": null,
            "_view_module": "@jupyter-widgets/controls",
            "_view_module_version": "1.5.0",
            "_view_name": "ProgressView",
            "bar_style": "success",
            "description": "",
            "description_tooltip": null,
            "layout": "IPY_MODEL_50eb9b54387643bab9a1e7ed5ef7b1dc",
            "max": 2,
            "min": 0,
            "orientation": "horizontal",
            "style": "IPY_MODEL_59c282a8a7c645239fdb9a55b3b8f19d",
            "value": 2
          }
        },
        "f40bc447e113468ab0eef3d6b3111ba2": {
          "model_module": "@jupyter-widgets/controls",
          "model_name": "HTMLModel",
          "model_module_version": "1.5.0",
          "state": {
            "_dom_classes": [],
            "_model_module": "@jupyter-widgets/controls",
            "_model_module_version": "1.5.0",
            "_model_name": "HTMLModel",
            "_view_count": null,
            "_view_module": "@jupyter-widgets/controls",
            "_view_module_version": "1.5.0",
            "_view_name": "HTMLView",
            "description": "",
            "description_tooltip": null,
            "layout": "IPY_MODEL_816b2359d5704233bfe59b33bff9f6da",
            "placeholder": "​",
            "style": "IPY_MODEL_5358d53dc69742518a49793d15250042",
            "value": " 2/2 [00:22&lt;00:00,  9.54s/it]"
          }
        },
        "a9b2a5b51a134f63bdbfd03b402ba96a": {
          "model_module": "@jupyter-widgets/base",
          "model_name": "LayoutModel",
          "model_module_version": "1.2.0",
          "state": {
            "_model_module": "@jupyter-widgets/base",
            "_model_module_version": "1.2.0",
            "_model_name": "LayoutModel",
            "_view_count": null,
            "_view_module": "@jupyter-widgets/base",
            "_view_module_version": "1.2.0",
            "_view_name": "LayoutView",
            "align_content": null,
            "align_items": null,
            "align_self": null,
            "border": null,
            "bottom": null,
            "display": null,
            "flex": null,
            "flex_flow": null,
            "grid_area": null,
            "grid_auto_columns": null,
            "grid_auto_flow": null,
            "grid_auto_rows": null,
            "grid_column": null,
            "grid_gap": null,
            "grid_row": null,
            "grid_template_areas": null,
            "grid_template_columns": null,
            "grid_template_rows": null,
            "height": null,
            "justify_content": null,
            "justify_items": null,
            "left": null,
            "margin": null,
            "max_height": null,
            "max_width": null,
            "min_height": null,
            "min_width": null,
            "object_fit": null,
            "object_position": null,
            "order": null,
            "overflow": null,
            "overflow_x": null,
            "overflow_y": null,
            "padding": null,
            "right": null,
            "top": null,
            "visibility": null,
            "width": null
          }
        },
        "84a68658c8dd4fba98a7abb41af9c338": {
          "model_module": "@jupyter-widgets/base",
          "model_name": "LayoutModel",
          "model_module_version": "1.2.0",
          "state": {
            "_model_module": "@jupyter-widgets/base",
            "_model_module_version": "1.2.0",
            "_model_name": "LayoutModel",
            "_view_count": null,
            "_view_module": "@jupyter-widgets/base",
            "_view_module_version": "1.2.0",
            "_view_name": "LayoutView",
            "align_content": null,
            "align_items": null,
            "align_self": null,
            "border": null,
            "bottom": null,
            "display": null,
            "flex": null,
            "flex_flow": null,
            "grid_area": null,
            "grid_auto_columns": null,
            "grid_auto_flow": null,
            "grid_auto_rows": null,
            "grid_column": null,
            "grid_gap": null,
            "grid_row": null,
            "grid_template_areas": null,
            "grid_template_columns": null,
            "grid_template_rows": null,
            "height": null,
            "justify_content": null,
            "justify_items": null,
            "left": null,
            "margin": null,
            "max_height": null,
            "max_width": null,
            "min_height": null,
            "min_width": null,
            "object_fit": null,
            "object_position": null,
            "order": null,
            "overflow": null,
            "overflow_x": null,
            "overflow_y": null,
            "padding": null,
            "right": null,
            "top": null,
            "visibility": null,
            "width": null
          }
        },
        "fd71418da9fa4e498f8ea2c49447aa90": {
          "model_module": "@jupyter-widgets/controls",
          "model_name": "DescriptionStyleModel",
          "model_module_version": "1.5.0",
          "state": {
            "_model_module": "@jupyter-widgets/controls",
            "_model_module_version": "1.5.0",
            "_model_name": "DescriptionStyleModel",
            "_view_count": null,
            "_view_module": "@jupyter-widgets/base",
            "_view_module_version": "1.2.0",
            "_view_name": "StyleView",
            "description_width": ""
          }
        },
        "50eb9b54387643bab9a1e7ed5ef7b1dc": {
          "model_module": "@jupyter-widgets/base",
          "model_name": "LayoutModel",
          "model_module_version": "1.2.0",
          "state": {
            "_model_module": "@jupyter-widgets/base",
            "_model_module_version": "1.2.0",
            "_model_name": "LayoutModel",
            "_view_count": null,
            "_view_module": "@jupyter-widgets/base",
            "_view_module_version": "1.2.0",
            "_view_name": "LayoutView",
            "align_content": null,
            "align_items": null,
            "align_self": null,
            "border": null,
            "bottom": null,
            "display": null,
            "flex": null,
            "flex_flow": null,
            "grid_area": null,
            "grid_auto_columns": null,
            "grid_auto_flow": null,
            "grid_auto_rows": null,
            "grid_column": null,
            "grid_gap": null,
            "grid_row": null,
            "grid_template_areas": null,
            "grid_template_columns": null,
            "grid_template_rows": null,
            "height": null,
            "justify_content": null,
            "justify_items": null,
            "left": null,
            "margin": null,
            "max_height": null,
            "max_width": null,
            "min_height": null,
            "min_width": null,
            "object_fit": null,
            "object_position": null,
            "order": null,
            "overflow": null,
            "overflow_x": null,
            "overflow_y": null,
            "padding": null,
            "right": null,
            "top": null,
            "visibility": null,
            "width": null
          }
        },
        "59c282a8a7c645239fdb9a55b3b8f19d": {
          "model_module": "@jupyter-widgets/controls",
          "model_name": "ProgressStyleModel",
          "model_module_version": "1.5.0",
          "state": {
            "_model_module": "@jupyter-widgets/controls",
            "_model_module_version": "1.5.0",
            "_model_name": "ProgressStyleModel",
            "_view_count": null,
            "_view_module": "@jupyter-widgets/base",
            "_view_module_version": "1.2.0",
            "_view_name": "StyleView",
            "bar_color": null,
            "description_width": ""
          }
        },
        "816b2359d5704233bfe59b33bff9f6da": {
          "model_module": "@jupyter-widgets/base",
          "model_name": "LayoutModel",
          "model_module_version": "1.2.0",
          "state": {
            "_model_module": "@jupyter-widgets/base",
            "_model_module_version": "1.2.0",
            "_model_name": "LayoutModel",
            "_view_count": null,
            "_view_module": "@jupyter-widgets/base",
            "_view_module_version": "1.2.0",
            "_view_name": "LayoutView",
            "align_content": null,
            "align_items": null,
            "align_self": null,
            "border": null,
            "bottom": null,
            "display": null,
            "flex": null,
            "flex_flow": null,
            "grid_area": null,
            "grid_auto_columns": null,
            "grid_auto_flow": null,
            "grid_auto_rows": null,
            "grid_column": null,
            "grid_gap": null,
            "grid_row": null,
            "grid_template_areas": null,
            "grid_template_columns": null,
            "grid_template_rows": null,
            "height": null,
            "justify_content": null,
            "justify_items": null,
            "left": null,
            "margin": null,
            "max_height": null,
            "max_width": null,
            "min_height": null,
            "min_width": null,
            "object_fit": null,
            "object_position": null,
            "order": null,
            "overflow": null,
            "overflow_x": null,
            "overflow_y": null,
            "padding": null,
            "right": null,
            "top": null,
            "visibility": null,
            "width": null
          }
        },
        "5358d53dc69742518a49793d15250042": {
          "model_module": "@jupyter-widgets/controls",
          "model_name": "DescriptionStyleModel",
          "model_module_version": "1.5.0",
          "state": {
            "_model_module": "@jupyter-widgets/controls",
            "_model_module_version": "1.5.0",
            "_model_name": "DescriptionStyleModel",
            "_view_count": null,
            "_view_module": "@jupyter-widgets/base",
            "_view_module_version": "1.2.0",
            "_view_name": "StyleView",
            "description_width": ""
          }
        },
        "6fc18125f4634be28c4dfadf0e01a35d": {
          "model_module": "@jupyter-widgets/controls",
          "model_name": "HBoxModel",
          "model_module_version": "1.5.0",
          "state": {
            "_dom_classes": [],
            "_model_module": "@jupyter-widgets/controls",
            "_model_module_version": "1.5.0",
            "_model_name": "HBoxModel",
            "_view_count": null,
            "_view_module": "@jupyter-widgets/controls",
            "_view_module_version": "1.5.0",
            "_view_name": "HBoxView",
            "box_style": "",
            "children": [
              "IPY_MODEL_d51aad87cb144ad988a66b4aa6a10df3",
              "IPY_MODEL_4bc5fdd940a54b7ca9c3934093b9f0d2",
              "IPY_MODEL_5095febbd20049bf9b252ce230c16676"
            ],
            "layout": "IPY_MODEL_74d6ce8742a74074a7b5b6815cc1adbe"
          }
        },
        "d51aad87cb144ad988a66b4aa6a10df3": {
          "model_module": "@jupyter-widgets/controls",
          "model_name": "HTMLModel",
          "model_module_version": "1.5.0",
          "state": {
            "_dom_classes": [],
            "_model_module": "@jupyter-widgets/controls",
            "_model_module_version": "1.5.0",
            "_model_name": "HTMLModel",
            "_view_count": null,
            "_view_module": "@jupyter-widgets/controls",
            "_view_module_version": "1.5.0",
            "_view_name": "HTMLView",
            "description": "",
            "description_tooltip": null,
            "layout": "IPY_MODEL_8aaebb8cd2d940c2868b6d7119ae2d90",
            "placeholder": "​",
            "style": "IPY_MODEL_3d497237fb064a1cb9858cb68bfe791a",
            "value": "Generating train split: "
          }
        },
        "4bc5fdd940a54b7ca9c3934093b9f0d2": {
          "model_module": "@jupyter-widgets/controls",
          "model_name": "FloatProgressModel",
          "model_module_version": "1.5.0",
          "state": {
            "_dom_classes": [],
            "_model_module": "@jupyter-widgets/controls",
            "_model_module_version": "1.5.0",
            "_model_name": "FloatProgressModel",
            "_view_count": null,
            "_view_module": "@jupyter-widgets/controls",
            "_view_module_version": "1.5.0",
            "_view_name": "ProgressView",
            "bar_style": "info",
            "description": "",
            "description_tooltip": null,
            "layout": "IPY_MODEL_b9d73dbcad874e92ad561b58bfb8461e",
            "max": 1,
            "min": 0,
            "orientation": "horizontal",
            "style": "IPY_MODEL_2b7ff07ac6154f5d87cfc3a5adad404c",
            "value": 1
          }
        },
        "5095febbd20049bf9b252ce230c16676": {
          "model_module": "@jupyter-widgets/controls",
          "model_name": "HTMLModel",
          "model_module_version": "1.5.0",
          "state": {
            "_dom_classes": [],
            "_model_module": "@jupyter-widgets/controls",
            "_model_module_version": "1.5.0",
            "_model_name": "HTMLModel",
            "_view_count": null,
            "_view_module": "@jupyter-widgets/controls",
            "_view_module_version": "1.5.0",
            "_view_name": "HTMLView",
            "description": "",
            "description_tooltip": null,
            "layout": "IPY_MODEL_468b44ce0bf24242bf8db6c13af80963",
            "placeholder": "​",
            "style": "IPY_MODEL_90591e5e730d410eb6685a669f7ec4e9",
            "value": " 392554/0 [00:24&lt;00:00, 15590.87 examples/s]"
          }
        },
        "74d6ce8742a74074a7b5b6815cc1adbe": {
          "model_module": "@jupyter-widgets/base",
          "model_name": "LayoutModel",
          "model_module_version": "1.2.0",
          "state": {
            "_model_module": "@jupyter-widgets/base",
            "_model_module_version": "1.2.0",
            "_model_name": "LayoutModel",
            "_view_count": null,
            "_view_module": "@jupyter-widgets/base",
            "_view_module_version": "1.2.0",
            "_view_name": "LayoutView",
            "align_content": null,
            "align_items": null,
            "align_self": null,
            "border": null,
            "bottom": null,
            "display": null,
            "flex": null,
            "flex_flow": null,
            "grid_area": null,
            "grid_auto_columns": null,
            "grid_auto_flow": null,
            "grid_auto_rows": null,
            "grid_column": null,
            "grid_gap": null,
            "grid_row": null,
            "grid_template_areas": null,
            "grid_template_columns": null,
            "grid_template_rows": null,
            "height": null,
            "justify_content": null,
            "justify_items": null,
            "left": null,
            "margin": null,
            "max_height": null,
            "max_width": null,
            "min_height": null,
            "min_width": null,
            "object_fit": null,
            "object_position": null,
            "order": null,
            "overflow": null,
            "overflow_x": null,
            "overflow_y": null,
            "padding": null,
            "right": null,
            "top": null,
            "visibility": null,
            "width": null
          }
        },
        "8aaebb8cd2d940c2868b6d7119ae2d90": {
          "model_module": "@jupyter-widgets/base",
          "model_name": "LayoutModel",
          "model_module_version": "1.2.0",
          "state": {
            "_model_module": "@jupyter-widgets/base",
            "_model_module_version": "1.2.0",
            "_model_name": "LayoutModel",
            "_view_count": null,
            "_view_module": "@jupyter-widgets/base",
            "_view_module_version": "1.2.0",
            "_view_name": "LayoutView",
            "align_content": null,
            "align_items": null,
            "align_self": null,
            "border": null,
            "bottom": null,
            "display": null,
            "flex": null,
            "flex_flow": null,
            "grid_area": null,
            "grid_auto_columns": null,
            "grid_auto_flow": null,
            "grid_auto_rows": null,
            "grid_column": null,
            "grid_gap": null,
            "grid_row": null,
            "grid_template_areas": null,
            "grid_template_columns": null,
            "grid_template_rows": null,
            "height": null,
            "justify_content": null,
            "justify_items": null,
            "left": null,
            "margin": null,
            "max_height": null,
            "max_width": null,
            "min_height": null,
            "min_width": null,
            "object_fit": null,
            "object_position": null,
            "order": null,
            "overflow": null,
            "overflow_x": null,
            "overflow_y": null,
            "padding": null,
            "right": null,
            "top": null,
            "visibility": null,
            "width": null
          }
        },
        "3d497237fb064a1cb9858cb68bfe791a": {
          "model_module": "@jupyter-widgets/controls",
          "model_name": "DescriptionStyleModel",
          "model_module_version": "1.5.0",
          "state": {
            "_model_module": "@jupyter-widgets/controls",
            "_model_module_version": "1.5.0",
            "_model_name": "DescriptionStyleModel",
            "_view_count": null,
            "_view_module": "@jupyter-widgets/base",
            "_view_module_version": "1.2.0",
            "_view_name": "StyleView",
            "description_width": ""
          }
        },
        "b9d73dbcad874e92ad561b58bfb8461e": {
          "model_module": "@jupyter-widgets/base",
          "model_name": "LayoutModel",
          "model_module_version": "1.2.0",
          "state": {
            "_model_module": "@jupyter-widgets/base",
            "_model_module_version": "1.2.0",
            "_model_name": "LayoutModel",
            "_view_count": null,
            "_view_module": "@jupyter-widgets/base",
            "_view_module_version": "1.2.0",
            "_view_name": "LayoutView",
            "align_content": null,
            "align_items": null,
            "align_self": null,
            "border": null,
            "bottom": null,
            "display": null,
            "flex": null,
            "flex_flow": null,
            "grid_area": null,
            "grid_auto_columns": null,
            "grid_auto_flow": null,
            "grid_auto_rows": null,
            "grid_column": null,
            "grid_gap": null,
            "grid_row": null,
            "grid_template_areas": null,
            "grid_template_columns": null,
            "grid_template_rows": null,
            "height": null,
            "justify_content": null,
            "justify_items": null,
            "left": null,
            "margin": null,
            "max_height": null,
            "max_width": null,
            "min_height": null,
            "min_width": null,
            "object_fit": null,
            "object_position": null,
            "order": null,
            "overflow": null,
            "overflow_x": null,
            "overflow_y": null,
            "padding": null,
            "right": null,
            "top": null,
            "visibility": null,
            "width": "20px"
          }
        },
        "2b7ff07ac6154f5d87cfc3a5adad404c": {
          "model_module": "@jupyter-widgets/controls",
          "model_name": "ProgressStyleModel",
          "model_module_version": "1.5.0",
          "state": {
            "_model_module": "@jupyter-widgets/controls",
            "_model_module_version": "1.5.0",
            "_model_name": "ProgressStyleModel",
            "_view_count": null,
            "_view_module": "@jupyter-widgets/base",
            "_view_module_version": "1.2.0",
            "_view_name": "StyleView",
            "bar_color": null,
            "description_width": ""
          }
        },
        "468b44ce0bf24242bf8db6c13af80963": {
          "model_module": "@jupyter-widgets/base",
          "model_name": "LayoutModel",
          "model_module_version": "1.2.0",
          "state": {
            "_model_module": "@jupyter-widgets/base",
            "_model_module_version": "1.2.0",
            "_model_name": "LayoutModel",
            "_view_count": null,
            "_view_module": "@jupyter-widgets/base",
            "_view_module_version": "1.2.0",
            "_view_name": "LayoutView",
            "align_content": null,
            "align_items": null,
            "align_self": null,
            "border": null,
            "bottom": null,
            "display": null,
            "flex": null,
            "flex_flow": null,
            "grid_area": null,
            "grid_auto_columns": null,
            "grid_auto_flow": null,
            "grid_auto_rows": null,
            "grid_column": null,
            "grid_gap": null,
            "grid_row": null,
            "grid_template_areas": null,
            "grid_template_columns": null,
            "grid_template_rows": null,
            "height": null,
            "justify_content": null,
            "justify_items": null,
            "left": null,
            "margin": null,
            "max_height": null,
            "max_width": null,
            "min_height": null,
            "min_width": null,
            "object_fit": null,
            "object_position": null,
            "order": null,
            "overflow": null,
            "overflow_x": null,
            "overflow_y": null,
            "padding": null,
            "right": null,
            "top": null,
            "visibility": null,
            "width": null
          }
        },
        "90591e5e730d410eb6685a669f7ec4e9": {
          "model_module": "@jupyter-widgets/controls",
          "model_name": "DescriptionStyleModel",
          "model_module_version": "1.5.0",
          "state": {
            "_model_module": "@jupyter-widgets/controls",
            "_model_module_version": "1.5.0",
            "_model_name": "DescriptionStyleModel",
            "_view_count": null,
            "_view_module": "@jupyter-widgets/base",
            "_view_module_version": "1.2.0",
            "_view_name": "StyleView",
            "description_width": ""
          }
        },
        "dd91aeabd86f4947855920731171044d": {
          "model_module": "@jupyter-widgets/controls",
          "model_name": "HBoxModel",
          "model_module_version": "1.5.0",
          "state": {
            "_dom_classes": [],
            "_model_module": "@jupyter-widgets/controls",
            "_model_module_version": "1.5.0",
            "_model_name": "HBoxModel",
            "_view_count": null,
            "_view_module": "@jupyter-widgets/controls",
            "_view_module_version": "1.5.0",
            "_view_name": "HBoxView",
            "box_style": "",
            "children": [
              "IPY_MODEL_1b5eefb1c58149c08b05af480e42a6d0",
              "IPY_MODEL_8b9d63b214134b98b5234a26b7cbd465",
              "IPY_MODEL_09dce448406a4159bb4c86f7bb7e6336"
            ],
            "layout": "IPY_MODEL_58820646a1c64f9aa3822e25eaa7ef47"
          }
        },
        "1b5eefb1c58149c08b05af480e42a6d0": {
          "model_module": "@jupyter-widgets/controls",
          "model_name": "HTMLModel",
          "model_module_version": "1.5.0",
          "state": {
            "_dom_classes": [],
            "_model_module": "@jupyter-widgets/controls",
            "_model_module_version": "1.5.0",
            "_model_name": "HTMLModel",
            "_view_count": null,
            "_view_module": "@jupyter-widgets/controls",
            "_view_module_version": "1.5.0",
            "_view_name": "HTMLView",
            "description": "",
            "description_tooltip": null,
            "layout": "IPY_MODEL_9071d2fb927e4f22b94a25b666920859",
            "placeholder": "​",
            "style": "IPY_MODEL_36e9b22cc1fe4b7ea79427749fa8aeae",
            "value": "Generating test split: "
          }
        },
        "8b9d63b214134b98b5234a26b7cbd465": {
          "model_module": "@jupyter-widgets/controls",
          "model_name": "FloatProgressModel",
          "model_module_version": "1.5.0",
          "state": {
            "_dom_classes": [],
            "_model_module": "@jupyter-widgets/controls",
            "_model_module_version": "1.5.0",
            "_model_name": "FloatProgressModel",
            "_view_count": null,
            "_view_module": "@jupyter-widgets/controls",
            "_view_module_version": "1.5.0",
            "_view_name": "ProgressView",
            "bar_style": "info",
            "description": "",
            "description_tooltip": null,
            "layout": "IPY_MODEL_1bc682ef4e874cd29ec287d6ff38638d",
            "max": 1,
            "min": 0,
            "orientation": "horizontal",
            "style": "IPY_MODEL_3f810dcf67c445aca7bbd996ce7aa559",
            "value": 1
          }
        },
        "09dce448406a4159bb4c86f7bb7e6336": {
          "model_module": "@jupyter-widgets/controls",
          "model_name": "HTMLModel",
          "model_module_version": "1.5.0",
          "state": {
            "_dom_classes": [],
            "_model_module": "@jupyter-widgets/controls",
            "_model_module_version": "1.5.0",
            "_model_name": "HTMLModel",
            "_view_count": null,
            "_view_module": "@jupyter-widgets/controls",
            "_view_module_version": "1.5.0",
            "_view_name": "HTMLView",
            "description": "",
            "description_tooltip": null,
            "layout": "IPY_MODEL_844de8341b5f43578747c810f21ada13",
            "placeholder": "​",
            "style": "IPY_MODEL_325fda1077b8444da9a9510f832b96df",
            "value": " 4654/0 [00:01&lt;00:00, 5668.97 examples/s]"
          }
        },
        "58820646a1c64f9aa3822e25eaa7ef47": {
          "model_module": "@jupyter-widgets/base",
          "model_name": "LayoutModel",
          "model_module_version": "1.2.0",
          "state": {
            "_model_module": "@jupyter-widgets/base",
            "_model_module_version": "1.2.0",
            "_model_name": "LayoutModel",
            "_view_count": null,
            "_view_module": "@jupyter-widgets/base",
            "_view_module_version": "1.2.0",
            "_view_name": "LayoutView",
            "align_content": null,
            "align_items": null,
            "align_self": null,
            "border": null,
            "bottom": null,
            "display": null,
            "flex": null,
            "flex_flow": null,
            "grid_area": null,
            "grid_auto_columns": null,
            "grid_auto_flow": null,
            "grid_auto_rows": null,
            "grid_column": null,
            "grid_gap": null,
            "grid_row": null,
            "grid_template_areas": null,
            "grid_template_columns": null,
            "grid_template_rows": null,
            "height": null,
            "justify_content": null,
            "justify_items": null,
            "left": null,
            "margin": null,
            "max_height": null,
            "max_width": null,
            "min_height": null,
            "min_width": null,
            "object_fit": null,
            "object_position": null,
            "order": null,
            "overflow": null,
            "overflow_x": null,
            "overflow_y": null,
            "padding": null,
            "right": null,
            "top": null,
            "visibility": null,
            "width": null
          }
        },
        "9071d2fb927e4f22b94a25b666920859": {
          "model_module": "@jupyter-widgets/base",
          "model_name": "LayoutModel",
          "model_module_version": "1.2.0",
          "state": {
            "_model_module": "@jupyter-widgets/base",
            "_model_module_version": "1.2.0",
            "_model_name": "LayoutModel",
            "_view_count": null,
            "_view_module": "@jupyter-widgets/base",
            "_view_module_version": "1.2.0",
            "_view_name": "LayoutView",
            "align_content": null,
            "align_items": null,
            "align_self": null,
            "border": null,
            "bottom": null,
            "display": null,
            "flex": null,
            "flex_flow": null,
            "grid_area": null,
            "grid_auto_columns": null,
            "grid_auto_flow": null,
            "grid_auto_rows": null,
            "grid_column": null,
            "grid_gap": null,
            "grid_row": null,
            "grid_template_areas": null,
            "grid_template_columns": null,
            "grid_template_rows": null,
            "height": null,
            "justify_content": null,
            "justify_items": null,
            "left": null,
            "margin": null,
            "max_height": null,
            "max_width": null,
            "min_height": null,
            "min_width": null,
            "object_fit": null,
            "object_position": null,
            "order": null,
            "overflow": null,
            "overflow_x": null,
            "overflow_y": null,
            "padding": null,
            "right": null,
            "top": null,
            "visibility": null,
            "width": null
          }
        },
        "36e9b22cc1fe4b7ea79427749fa8aeae": {
          "model_module": "@jupyter-widgets/controls",
          "model_name": "DescriptionStyleModel",
          "model_module_version": "1.5.0",
          "state": {
            "_model_module": "@jupyter-widgets/controls",
            "_model_module_version": "1.5.0",
            "_model_name": "DescriptionStyleModel",
            "_view_count": null,
            "_view_module": "@jupyter-widgets/base",
            "_view_module_version": "1.2.0",
            "_view_name": "StyleView",
            "description_width": ""
          }
        },
        "1bc682ef4e874cd29ec287d6ff38638d": {
          "model_module": "@jupyter-widgets/base",
          "model_name": "LayoutModel",
          "model_module_version": "1.2.0",
          "state": {
            "_model_module": "@jupyter-widgets/base",
            "_model_module_version": "1.2.0",
            "_model_name": "LayoutModel",
            "_view_count": null,
            "_view_module": "@jupyter-widgets/base",
            "_view_module_version": "1.2.0",
            "_view_name": "LayoutView",
            "align_content": null,
            "align_items": null,
            "align_self": null,
            "border": null,
            "bottom": null,
            "display": null,
            "flex": null,
            "flex_flow": null,
            "grid_area": null,
            "grid_auto_columns": null,
            "grid_auto_flow": null,
            "grid_auto_rows": null,
            "grid_column": null,
            "grid_gap": null,
            "grid_row": null,
            "grid_template_areas": null,
            "grid_template_columns": null,
            "grid_template_rows": null,
            "height": null,
            "justify_content": null,
            "justify_items": null,
            "left": null,
            "margin": null,
            "max_height": null,
            "max_width": null,
            "min_height": null,
            "min_width": null,
            "object_fit": null,
            "object_position": null,
            "order": null,
            "overflow": null,
            "overflow_x": null,
            "overflow_y": null,
            "padding": null,
            "right": null,
            "top": null,
            "visibility": null,
            "width": "20px"
          }
        },
        "3f810dcf67c445aca7bbd996ce7aa559": {
          "model_module": "@jupyter-widgets/controls",
          "model_name": "ProgressStyleModel",
          "model_module_version": "1.5.0",
          "state": {
            "_model_module": "@jupyter-widgets/controls",
            "_model_module_version": "1.5.0",
            "_model_name": "ProgressStyleModel",
            "_view_count": null,
            "_view_module": "@jupyter-widgets/base",
            "_view_module_version": "1.2.0",
            "_view_name": "StyleView",
            "bar_color": null,
            "description_width": ""
          }
        },
        "844de8341b5f43578747c810f21ada13": {
          "model_module": "@jupyter-widgets/base",
          "model_name": "LayoutModel",
          "model_module_version": "1.2.0",
          "state": {
            "_model_module": "@jupyter-widgets/base",
            "_model_module_version": "1.2.0",
            "_model_name": "LayoutModel",
            "_view_count": null,
            "_view_module": "@jupyter-widgets/base",
            "_view_module_version": "1.2.0",
            "_view_name": "LayoutView",
            "align_content": null,
            "align_items": null,
            "align_self": null,
            "border": null,
            "bottom": null,
            "display": null,
            "flex": null,
            "flex_flow": null,
            "grid_area": null,
            "grid_auto_columns": null,
            "grid_auto_flow": null,
            "grid_auto_rows": null,
            "grid_column": null,
            "grid_gap": null,
            "grid_row": null,
            "grid_template_areas": null,
            "grid_template_columns": null,
            "grid_template_rows": null,
            "height": null,
            "justify_content": null,
            "justify_items": null,
            "left": null,
            "margin": null,
            "max_height": null,
            "max_width": null,
            "min_height": null,
            "min_width": null,
            "object_fit": null,
            "object_position": null,
            "order": null,
            "overflow": null,
            "overflow_x": null,
            "overflow_y": null,
            "padding": null,
            "right": null,
            "top": null,
            "visibility": null,
            "width": null
          }
        },
        "325fda1077b8444da9a9510f832b96df": {
          "model_module": "@jupyter-widgets/controls",
          "model_name": "DescriptionStyleModel",
          "model_module_version": "1.5.0",
          "state": {
            "_model_module": "@jupyter-widgets/controls",
            "_model_module_version": "1.5.0",
            "_model_name": "DescriptionStyleModel",
            "_view_count": null,
            "_view_module": "@jupyter-widgets/base",
            "_view_module_version": "1.2.0",
            "_view_name": "StyleView",
            "description_width": ""
          }
        },
        "09f07cf4bf3a498480f036049f1a84d2": {
          "model_module": "@jupyter-widgets/controls",
          "model_name": "HBoxModel",
          "model_module_version": "1.5.0",
          "state": {
            "_dom_classes": [],
            "_model_module": "@jupyter-widgets/controls",
            "_model_module_version": "1.5.0",
            "_model_name": "HBoxModel",
            "_view_count": null,
            "_view_module": "@jupyter-widgets/controls",
            "_view_module_version": "1.5.0",
            "_view_name": "HBoxView",
            "box_style": "",
            "children": [
              "IPY_MODEL_fc343f0812ed4a88a8d854ab03aeeec4",
              "IPY_MODEL_e1114278df8645fdae59ef418ea4acb3",
              "IPY_MODEL_d3e0ddcccc7e44b4a1fca8d15483da79"
            ],
            "layout": "IPY_MODEL_c32cc65740674786a72ffc29cffe8ded"
          }
        },
        "fc343f0812ed4a88a8d854ab03aeeec4": {
          "model_module": "@jupyter-widgets/controls",
          "model_name": "HTMLModel",
          "model_module_version": "1.5.0",
          "state": {
            "_dom_classes": [],
            "_model_module": "@jupyter-widgets/controls",
            "_model_module_version": "1.5.0",
            "_model_name": "HTMLModel",
            "_view_count": null,
            "_view_module": "@jupyter-widgets/controls",
            "_view_module_version": "1.5.0",
            "_view_name": "HTMLView",
            "description": "",
            "description_tooltip": null,
            "layout": "IPY_MODEL_11b73fc523a349eca5b1401d0067ff1f",
            "placeholder": "​",
            "style": "IPY_MODEL_139e3a7bff6f4448b0875a453a7aecea",
            "value": "Generating validation split: "
          }
        },
        "e1114278df8645fdae59ef418ea4acb3": {
          "model_module": "@jupyter-widgets/controls",
          "model_name": "FloatProgressModel",
          "model_module_version": "1.5.0",
          "state": {
            "_dom_classes": [],
            "_model_module": "@jupyter-widgets/controls",
            "_model_module_version": "1.5.0",
            "_model_name": "FloatProgressModel",
            "_view_count": null,
            "_view_module": "@jupyter-widgets/controls",
            "_view_module_version": "1.5.0",
            "_view_name": "ProgressView",
            "bar_style": "info",
            "description": "",
            "description_tooltip": null,
            "layout": "IPY_MODEL_e87a0e0934b34e5da82ee919fa582010",
            "max": 1,
            "min": 0,
            "orientation": "horizontal",
            "style": "IPY_MODEL_41ce942556e84039a9bcda26c08d9734",
            "value": 1
          }
        },
        "d3e0ddcccc7e44b4a1fca8d15483da79": {
          "model_module": "@jupyter-widgets/controls",
          "model_name": "HTMLModel",
          "model_module_version": "1.5.0",
          "state": {
            "_dom_classes": [],
            "_model_module": "@jupyter-widgets/controls",
            "_model_module_version": "1.5.0",
            "_model_name": "HTMLModel",
            "_view_count": null,
            "_view_module": "@jupyter-widgets/controls",
            "_view_module_version": "1.5.0",
            "_view_name": "HTMLView",
            "description": "",
            "description_tooltip": null,
            "layout": "IPY_MODEL_726199355f51444283e4ddef88fa8222",
            "placeholder": "​",
            "style": "IPY_MODEL_b432189a50fc4123a7618a0bb14b1f67",
            "value": " 1532/0 [00:00&lt;00:00, 3190.13 examples/s]"
          }
        },
        "c32cc65740674786a72ffc29cffe8ded": {
          "model_module": "@jupyter-widgets/base",
          "model_name": "LayoutModel",
          "model_module_version": "1.2.0",
          "state": {
            "_model_module": "@jupyter-widgets/base",
            "_model_module_version": "1.2.0",
            "_model_name": "LayoutModel",
            "_view_count": null,
            "_view_module": "@jupyter-widgets/base",
            "_view_module_version": "1.2.0",
            "_view_name": "LayoutView",
            "align_content": null,
            "align_items": null,
            "align_self": null,
            "border": null,
            "bottom": null,
            "display": null,
            "flex": null,
            "flex_flow": null,
            "grid_area": null,
            "grid_auto_columns": null,
            "grid_auto_flow": null,
            "grid_auto_rows": null,
            "grid_column": null,
            "grid_gap": null,
            "grid_row": null,
            "grid_template_areas": null,
            "grid_template_columns": null,
            "grid_template_rows": null,
            "height": null,
            "justify_content": null,
            "justify_items": null,
            "left": null,
            "margin": null,
            "max_height": null,
            "max_width": null,
            "min_height": null,
            "min_width": null,
            "object_fit": null,
            "object_position": null,
            "order": null,
            "overflow": null,
            "overflow_x": null,
            "overflow_y": null,
            "padding": null,
            "right": null,
            "top": null,
            "visibility": null,
            "width": null
          }
        },
        "11b73fc523a349eca5b1401d0067ff1f": {
          "model_module": "@jupyter-widgets/base",
          "model_name": "LayoutModel",
          "model_module_version": "1.2.0",
          "state": {
            "_model_module": "@jupyter-widgets/base",
            "_model_module_version": "1.2.0",
            "_model_name": "LayoutModel",
            "_view_count": null,
            "_view_module": "@jupyter-widgets/base",
            "_view_module_version": "1.2.0",
            "_view_name": "LayoutView",
            "align_content": null,
            "align_items": null,
            "align_self": null,
            "border": null,
            "bottom": null,
            "display": null,
            "flex": null,
            "flex_flow": null,
            "grid_area": null,
            "grid_auto_columns": null,
            "grid_auto_flow": null,
            "grid_auto_rows": null,
            "grid_column": null,
            "grid_gap": null,
            "grid_row": null,
            "grid_template_areas": null,
            "grid_template_columns": null,
            "grid_template_rows": null,
            "height": null,
            "justify_content": null,
            "justify_items": null,
            "left": null,
            "margin": null,
            "max_height": null,
            "max_width": null,
            "min_height": null,
            "min_width": null,
            "object_fit": null,
            "object_position": null,
            "order": null,
            "overflow": null,
            "overflow_x": null,
            "overflow_y": null,
            "padding": null,
            "right": null,
            "top": null,
            "visibility": null,
            "width": null
          }
        },
        "139e3a7bff6f4448b0875a453a7aecea": {
          "model_module": "@jupyter-widgets/controls",
          "model_name": "DescriptionStyleModel",
          "model_module_version": "1.5.0",
          "state": {
            "_model_module": "@jupyter-widgets/controls",
            "_model_module_version": "1.5.0",
            "_model_name": "DescriptionStyleModel",
            "_view_count": null,
            "_view_module": "@jupyter-widgets/base",
            "_view_module_version": "1.2.0",
            "_view_name": "StyleView",
            "description_width": ""
          }
        },
        "e87a0e0934b34e5da82ee919fa582010": {
          "model_module": "@jupyter-widgets/base",
          "model_name": "LayoutModel",
          "model_module_version": "1.2.0",
          "state": {
            "_model_module": "@jupyter-widgets/base",
            "_model_module_version": "1.2.0",
            "_model_name": "LayoutModel",
            "_view_count": null,
            "_view_module": "@jupyter-widgets/base",
            "_view_module_version": "1.2.0",
            "_view_name": "LayoutView",
            "align_content": null,
            "align_items": null,
            "align_self": null,
            "border": null,
            "bottom": null,
            "display": null,
            "flex": null,
            "flex_flow": null,
            "grid_area": null,
            "grid_auto_columns": null,
            "grid_auto_flow": null,
            "grid_auto_rows": null,
            "grid_column": null,
            "grid_gap": null,
            "grid_row": null,
            "grid_template_areas": null,
            "grid_template_columns": null,
            "grid_template_rows": null,
            "height": null,
            "justify_content": null,
            "justify_items": null,
            "left": null,
            "margin": null,
            "max_height": null,
            "max_width": null,
            "min_height": null,
            "min_width": null,
            "object_fit": null,
            "object_position": null,
            "order": null,
            "overflow": null,
            "overflow_x": null,
            "overflow_y": null,
            "padding": null,
            "right": null,
            "top": null,
            "visibility": null,
            "width": "20px"
          }
        },
        "41ce942556e84039a9bcda26c08d9734": {
          "model_module": "@jupyter-widgets/controls",
          "model_name": "ProgressStyleModel",
          "model_module_version": "1.5.0",
          "state": {
            "_model_module": "@jupyter-widgets/controls",
            "_model_module_version": "1.5.0",
            "_model_name": "ProgressStyleModel",
            "_view_count": null,
            "_view_module": "@jupyter-widgets/base",
            "_view_module_version": "1.2.0",
            "_view_name": "StyleView",
            "bar_color": null,
            "description_width": ""
          }
        },
        "726199355f51444283e4ddef88fa8222": {
          "model_module": "@jupyter-widgets/base",
          "model_name": "LayoutModel",
          "model_module_version": "1.2.0",
          "state": {
            "_model_module": "@jupyter-widgets/base",
            "_model_module_version": "1.2.0",
            "_model_name": "LayoutModel",
            "_view_count": null,
            "_view_module": "@jupyter-widgets/base",
            "_view_module_version": "1.2.0",
            "_view_name": "LayoutView",
            "align_content": null,
            "align_items": null,
            "align_self": null,
            "border": null,
            "bottom": null,
            "display": null,
            "flex": null,
            "flex_flow": null,
            "grid_area": null,
            "grid_auto_columns": null,
            "grid_auto_flow": null,
            "grid_auto_rows": null,
            "grid_column": null,
            "grid_gap": null,
            "grid_row": null,
            "grid_template_areas": null,
            "grid_template_columns": null,
            "grid_template_rows": null,
            "height": null,
            "justify_content": null,
            "justify_items": null,
            "left": null,
            "margin": null,
            "max_height": null,
            "max_width": null,
            "min_height": null,
            "min_width": null,
            "object_fit": null,
            "object_position": null,
            "order": null,
            "overflow": null,
            "overflow_x": null,
            "overflow_y": null,
            "padding": null,
            "right": null,
            "top": null,
            "visibility": null,
            "width": null
          }
        },
        "b432189a50fc4123a7618a0bb14b1f67": {
          "model_module": "@jupyter-widgets/controls",
          "model_name": "DescriptionStyleModel",
          "model_module_version": "1.5.0",
          "state": {
            "_model_module": "@jupyter-widgets/controls",
            "_model_module_version": "1.5.0",
            "_model_name": "DescriptionStyleModel",
            "_view_count": null,
            "_view_module": "@jupyter-widgets/base",
            "_view_module_version": "1.2.0",
            "_view_name": "StyleView",
            "description_width": ""
          }
        },
        "a53e0f27eaf8425dad82dbe9008f882e": {
          "model_module": "@jupyter-widgets/controls",
          "model_name": "HBoxModel",
          "model_module_version": "1.5.0",
          "state": {
            "_dom_classes": [],
            "_model_module": "@jupyter-widgets/controls",
            "_model_module_version": "1.5.0",
            "_model_name": "HBoxModel",
            "_view_count": null,
            "_view_module": "@jupyter-widgets/controls",
            "_view_module_version": "1.5.0",
            "_view_name": "HBoxView",
            "box_style": "",
            "children": [
              "IPY_MODEL_8d75a30ac1f84e2b82c44a0faa3c1370",
              "IPY_MODEL_fbf628ba436249c7bea0b2ec3d113bab",
              "IPY_MODEL_09fe7381222145fcaace7d24869fec6c"
            ],
            "layout": "IPY_MODEL_41f1fc21cc4747529bb492622c73420a"
          }
        },
        "8d75a30ac1f84e2b82c44a0faa3c1370": {
          "model_module": "@jupyter-widgets/controls",
          "model_name": "HTMLModel",
          "model_module_version": "1.5.0",
          "state": {
            "_dom_classes": [],
            "_model_module": "@jupyter-widgets/controls",
            "_model_module_version": "1.5.0",
            "_model_name": "HTMLModel",
            "_view_count": null,
            "_view_module": "@jupyter-widgets/controls",
            "_view_module_version": "1.5.0",
            "_view_name": "HTMLView",
            "description": "",
            "description_tooltip": null,
            "layout": "IPY_MODEL_2cf08f3f327c48c5bfd53aaf3a68d0f3",
            "placeholder": "​",
            "style": "IPY_MODEL_7a64504d554d4f5b96b334c72a39885f",
            "value": "100%"
          }
        },
        "fbf628ba436249c7bea0b2ec3d113bab": {
          "model_module": "@jupyter-widgets/controls",
          "model_name": "FloatProgressModel",
          "model_module_version": "1.5.0",
          "state": {
            "_dom_classes": [],
            "_model_module": "@jupyter-widgets/controls",
            "_model_module_version": "1.5.0",
            "_model_name": "FloatProgressModel",
            "_view_count": null,
            "_view_module": "@jupyter-widgets/controls",
            "_view_module_version": "1.5.0",
            "_view_name": "ProgressView",
            "bar_style": "success",
            "description": "",
            "description_tooltip": null,
            "layout": "IPY_MODEL_608aec207dd3463bb31ef04d7ffe6741",
            "max": 3,
            "min": 0,
            "orientation": "horizontal",
            "style": "IPY_MODEL_dce795a7669d4eb6939c8e0c05f6144f",
            "value": 3
          }
        },
        "09fe7381222145fcaace7d24869fec6c": {
          "model_module": "@jupyter-widgets/controls",
          "model_name": "HTMLModel",
          "model_module_version": "1.5.0",
          "state": {
            "_dom_classes": [],
            "_model_module": "@jupyter-widgets/controls",
            "_model_module_version": "1.5.0",
            "_model_name": "HTMLModel",
            "_view_count": null,
            "_view_module": "@jupyter-widgets/controls",
            "_view_module_version": "1.5.0",
            "_view_name": "HTMLView",
            "description": "",
            "description_tooltip": null,
            "layout": "IPY_MODEL_d2ddd1b157114ed3aee03703cf3db4a1",
            "placeholder": "​",
            "style": "IPY_MODEL_73428d844c084eb79f16eb2b18c49c43",
            "value": " 3/3 [00:00&lt;00:00, 57.07it/s]"
          }
        },
        "41f1fc21cc4747529bb492622c73420a": {
          "model_module": "@jupyter-widgets/base",
          "model_name": "LayoutModel",
          "model_module_version": "1.2.0",
          "state": {
            "_model_module": "@jupyter-widgets/base",
            "_model_module_version": "1.2.0",
            "_model_name": "LayoutModel",
            "_view_count": null,
            "_view_module": "@jupyter-widgets/base",
            "_view_module_version": "1.2.0",
            "_view_name": "LayoutView",
            "align_content": null,
            "align_items": null,
            "align_self": null,
            "border": null,
            "bottom": null,
            "display": null,
            "flex": null,
            "flex_flow": null,
            "grid_area": null,
            "grid_auto_columns": null,
            "grid_auto_flow": null,
            "grid_auto_rows": null,
            "grid_column": null,
            "grid_gap": null,
            "grid_row": null,
            "grid_template_areas": null,
            "grid_template_columns": null,
            "grid_template_rows": null,
            "height": null,
            "justify_content": null,
            "justify_items": null,
            "left": null,
            "margin": null,
            "max_height": null,
            "max_width": null,
            "min_height": null,
            "min_width": null,
            "object_fit": null,
            "object_position": null,
            "order": null,
            "overflow": null,
            "overflow_x": null,
            "overflow_y": null,
            "padding": null,
            "right": null,
            "top": null,
            "visibility": null,
            "width": null
          }
        },
        "2cf08f3f327c48c5bfd53aaf3a68d0f3": {
          "model_module": "@jupyter-widgets/base",
          "model_name": "LayoutModel",
          "model_module_version": "1.2.0",
          "state": {
            "_model_module": "@jupyter-widgets/base",
            "_model_module_version": "1.2.0",
            "_model_name": "LayoutModel",
            "_view_count": null,
            "_view_module": "@jupyter-widgets/base",
            "_view_module_version": "1.2.0",
            "_view_name": "LayoutView",
            "align_content": null,
            "align_items": null,
            "align_self": null,
            "border": null,
            "bottom": null,
            "display": null,
            "flex": null,
            "flex_flow": null,
            "grid_area": null,
            "grid_auto_columns": null,
            "grid_auto_flow": null,
            "grid_auto_rows": null,
            "grid_column": null,
            "grid_gap": null,
            "grid_row": null,
            "grid_template_areas": null,
            "grid_template_columns": null,
            "grid_template_rows": null,
            "height": null,
            "justify_content": null,
            "justify_items": null,
            "left": null,
            "margin": null,
            "max_height": null,
            "max_width": null,
            "min_height": null,
            "min_width": null,
            "object_fit": null,
            "object_position": null,
            "order": null,
            "overflow": null,
            "overflow_x": null,
            "overflow_y": null,
            "padding": null,
            "right": null,
            "top": null,
            "visibility": null,
            "width": null
          }
        },
        "7a64504d554d4f5b96b334c72a39885f": {
          "model_module": "@jupyter-widgets/controls",
          "model_name": "DescriptionStyleModel",
          "model_module_version": "1.5.0",
          "state": {
            "_model_module": "@jupyter-widgets/controls",
            "_model_module_version": "1.5.0",
            "_model_name": "DescriptionStyleModel",
            "_view_count": null,
            "_view_module": "@jupyter-widgets/base",
            "_view_module_version": "1.2.0",
            "_view_name": "StyleView",
            "description_width": ""
          }
        },
        "608aec207dd3463bb31ef04d7ffe6741": {
          "model_module": "@jupyter-widgets/base",
          "model_name": "LayoutModel",
          "model_module_version": "1.2.0",
          "state": {
            "_model_module": "@jupyter-widgets/base",
            "_model_module_version": "1.2.0",
            "_model_name": "LayoutModel",
            "_view_count": null,
            "_view_module": "@jupyter-widgets/base",
            "_view_module_version": "1.2.0",
            "_view_name": "LayoutView",
            "align_content": null,
            "align_items": null,
            "align_self": null,
            "border": null,
            "bottom": null,
            "display": null,
            "flex": null,
            "flex_flow": null,
            "grid_area": null,
            "grid_auto_columns": null,
            "grid_auto_flow": null,
            "grid_auto_rows": null,
            "grid_column": null,
            "grid_gap": null,
            "grid_row": null,
            "grid_template_areas": null,
            "grid_template_columns": null,
            "grid_template_rows": null,
            "height": null,
            "justify_content": null,
            "justify_items": null,
            "left": null,
            "margin": null,
            "max_height": null,
            "max_width": null,
            "min_height": null,
            "min_width": null,
            "object_fit": null,
            "object_position": null,
            "order": null,
            "overflow": null,
            "overflow_x": null,
            "overflow_y": null,
            "padding": null,
            "right": null,
            "top": null,
            "visibility": null,
            "width": null
          }
        },
        "dce795a7669d4eb6939c8e0c05f6144f": {
          "model_module": "@jupyter-widgets/controls",
          "model_name": "ProgressStyleModel",
          "model_module_version": "1.5.0",
          "state": {
            "_model_module": "@jupyter-widgets/controls",
            "_model_module_version": "1.5.0",
            "_model_name": "ProgressStyleModel",
            "_view_count": null,
            "_view_module": "@jupyter-widgets/base",
            "_view_module_version": "1.2.0",
            "_view_name": "StyleView",
            "bar_color": null,
            "description_width": ""
          }
        },
        "d2ddd1b157114ed3aee03703cf3db4a1": {
          "model_module": "@jupyter-widgets/base",
          "model_name": "LayoutModel",
          "model_module_version": "1.2.0",
          "state": {
            "_model_module": "@jupyter-widgets/base",
            "_model_module_version": "1.2.0",
            "_model_name": "LayoutModel",
            "_view_count": null,
            "_view_module": "@jupyter-widgets/base",
            "_view_module_version": "1.2.0",
            "_view_name": "LayoutView",
            "align_content": null,
            "align_items": null,
            "align_self": null,
            "border": null,
            "bottom": null,
            "display": null,
            "flex": null,
            "flex_flow": null,
            "grid_area": null,
            "grid_auto_columns": null,
            "grid_auto_flow": null,
            "grid_auto_rows": null,
            "grid_column": null,
            "grid_gap": null,
            "grid_row": null,
            "grid_template_areas": null,
            "grid_template_columns": null,
            "grid_template_rows": null,
            "height": null,
            "justify_content": null,
            "justify_items": null,
            "left": null,
            "margin": null,
            "max_height": null,
            "max_width": null,
            "min_height": null,
            "min_width": null,
            "object_fit": null,
            "object_position": null,
            "order": null,
            "overflow": null,
            "overflow_x": null,
            "overflow_y": null,
            "padding": null,
            "right": null,
            "top": null,
            "visibility": null,
            "width": null
          }
        },
        "73428d844c084eb79f16eb2b18c49c43": {
          "model_module": "@jupyter-widgets/controls",
          "model_name": "DescriptionStyleModel",
          "model_module_version": "1.5.0",
          "state": {
            "_model_module": "@jupyter-widgets/controls",
            "_model_module_version": "1.5.0",
            "_model_name": "DescriptionStyleModel",
            "_view_count": null,
            "_view_module": "@jupyter-widgets/base",
            "_view_module_version": "1.2.0",
            "_view_name": "StyleView",
            "description_width": ""
          }
        },
        "133b45ce350646a885f31ea4729df9d8": {
          "model_module": "@jupyter-widgets/controls",
          "model_name": "HBoxModel",
          "model_module_version": "1.5.0",
          "state": {
            "_dom_classes": [],
            "_model_module": "@jupyter-widgets/controls",
            "_model_module_version": "1.5.0",
            "_model_name": "HBoxModel",
            "_view_count": null,
            "_view_module": "@jupyter-widgets/controls",
            "_view_module_version": "1.5.0",
            "_view_name": "HBoxView",
            "box_style": "",
            "children": [
              "IPY_MODEL_1d1e2a783cb9485aa04be4cf604bbde6",
              "IPY_MODEL_4a148f61a829413ab955c4c6ba610b57",
              "IPY_MODEL_f403dee5385e4833a428869774708ec5"
            ],
            "layout": "IPY_MODEL_6883198b02eb40dfa2682d87a1f83495"
          }
        },
        "1d1e2a783cb9485aa04be4cf604bbde6": {
          "model_module": "@jupyter-widgets/controls",
          "model_name": "HTMLModel",
          "model_module_version": "1.5.0",
          "state": {
            "_dom_classes": [],
            "_model_module": "@jupyter-widgets/controls",
            "_model_module_version": "1.5.0",
            "_model_name": "HTMLModel",
            "_view_count": null,
            "_view_module": "@jupyter-widgets/controls",
            "_view_module_version": "1.5.0",
            "_view_name": "HTMLView",
            "description": "",
            "description_tooltip": null,
            "layout": "IPY_MODEL_38324c0272214a75a58a3858f7e86b29",
            "placeholder": "​",
            "style": "IPY_MODEL_e8413eb1c2cf45a1a4586ec5c11a4876",
            "value": " 27%"
          }
        },
        "4a148f61a829413ab955c4c6ba610b57": {
          "model_module": "@jupyter-widgets/controls",
          "model_name": "FloatProgressModel",
          "model_module_version": "1.5.0",
          "state": {
            "_dom_classes": [],
            "_model_module": "@jupyter-widgets/controls",
            "_model_module_version": "1.5.0",
            "_model_name": "FloatProgressModel",
            "_view_count": null,
            "_view_module": "@jupyter-widgets/controls",
            "_view_module_version": "1.5.0",
            "_view_name": "ProgressView",
            "bar_style": "",
            "description": "",
            "description_tooltip": null,
            "layout": "IPY_MODEL_1ee8fbb46e5241b2aa1e85bf026a43b3",
            "max": 2450,
            "min": 0,
            "orientation": "horizontal",
            "style": "IPY_MODEL_7728a8ecdc4847f88a05a7c87dcc7a70",
            "value": 661
          }
        },
        "f403dee5385e4833a428869774708ec5": {
          "model_module": "@jupyter-widgets/controls",
          "model_name": "HTMLModel",
          "model_module_version": "1.5.0",
          "state": {
            "_dom_classes": [],
            "_model_module": "@jupyter-widgets/controls",
            "_model_module_version": "1.5.0",
            "_model_name": "HTMLModel",
            "_view_count": null,
            "_view_module": "@jupyter-widgets/controls",
            "_view_module_version": "1.5.0",
            "_view_name": "HTMLView",
            "description": "",
            "description_tooltip": null,
            "layout": "IPY_MODEL_78dac7bba3864a37b5a2155f170017a9",
            "placeholder": "​",
            "style": "IPY_MODEL_08c5b5863278405d8915257f794efac1",
            "value": " 661/2450 [16:12&lt;44:36,  1.50s/it, train_loss_per_batch=0.805]"
          }
        },
        "6883198b02eb40dfa2682d87a1f83495": {
          "model_module": "@jupyter-widgets/base",
          "model_name": "LayoutModel",
          "model_module_version": "1.2.0",
          "state": {
            "_model_module": "@jupyter-widgets/base",
            "_model_module_version": "1.2.0",
            "_model_name": "LayoutModel",
            "_view_count": null,
            "_view_module": "@jupyter-widgets/base",
            "_view_module_version": "1.2.0",
            "_view_name": "LayoutView",
            "align_content": null,
            "align_items": null,
            "align_self": null,
            "border": null,
            "bottom": null,
            "display": null,
            "flex": null,
            "flex_flow": null,
            "grid_area": null,
            "grid_auto_columns": null,
            "grid_auto_flow": null,
            "grid_auto_rows": null,
            "grid_column": null,
            "grid_gap": null,
            "grid_row": null,
            "grid_template_areas": null,
            "grid_template_columns": null,
            "grid_template_rows": null,
            "height": null,
            "justify_content": null,
            "justify_items": null,
            "left": null,
            "margin": null,
            "max_height": null,
            "max_width": null,
            "min_height": null,
            "min_width": null,
            "object_fit": null,
            "object_position": null,
            "order": null,
            "overflow": null,
            "overflow_x": null,
            "overflow_y": null,
            "padding": null,
            "right": null,
            "top": null,
            "visibility": null,
            "width": null
          }
        },
        "38324c0272214a75a58a3858f7e86b29": {
          "model_module": "@jupyter-widgets/base",
          "model_name": "LayoutModel",
          "model_module_version": "1.2.0",
          "state": {
            "_model_module": "@jupyter-widgets/base",
            "_model_module_version": "1.2.0",
            "_model_name": "LayoutModel",
            "_view_count": null,
            "_view_module": "@jupyter-widgets/base",
            "_view_module_version": "1.2.0",
            "_view_name": "LayoutView",
            "align_content": null,
            "align_items": null,
            "align_self": null,
            "border": null,
            "bottom": null,
            "display": null,
            "flex": null,
            "flex_flow": null,
            "grid_area": null,
            "grid_auto_columns": null,
            "grid_auto_flow": null,
            "grid_auto_rows": null,
            "grid_column": null,
            "grid_gap": null,
            "grid_row": null,
            "grid_template_areas": null,
            "grid_template_columns": null,
            "grid_template_rows": null,
            "height": null,
            "justify_content": null,
            "justify_items": null,
            "left": null,
            "margin": null,
            "max_height": null,
            "max_width": null,
            "min_height": null,
            "min_width": null,
            "object_fit": null,
            "object_position": null,
            "order": null,
            "overflow": null,
            "overflow_x": null,
            "overflow_y": null,
            "padding": null,
            "right": null,
            "top": null,
            "visibility": null,
            "width": null
          }
        },
        "e8413eb1c2cf45a1a4586ec5c11a4876": {
          "model_module": "@jupyter-widgets/controls",
          "model_name": "DescriptionStyleModel",
          "model_module_version": "1.5.0",
          "state": {
            "_model_module": "@jupyter-widgets/controls",
            "_model_module_version": "1.5.0",
            "_model_name": "DescriptionStyleModel",
            "_view_count": null,
            "_view_module": "@jupyter-widgets/base",
            "_view_module_version": "1.2.0",
            "_view_name": "StyleView",
            "description_width": ""
          }
        },
        "1ee8fbb46e5241b2aa1e85bf026a43b3": {
          "model_module": "@jupyter-widgets/base",
          "model_name": "LayoutModel",
          "model_module_version": "1.2.0",
          "state": {
            "_model_module": "@jupyter-widgets/base",
            "_model_module_version": "1.2.0",
            "_model_name": "LayoutModel",
            "_view_count": null,
            "_view_module": "@jupyter-widgets/base",
            "_view_module_version": "1.2.0",
            "_view_name": "LayoutView",
            "align_content": null,
            "align_items": null,
            "align_self": null,
            "border": null,
            "bottom": null,
            "display": null,
            "flex": null,
            "flex_flow": null,
            "grid_area": null,
            "grid_auto_columns": null,
            "grid_auto_flow": null,
            "grid_auto_rows": null,
            "grid_column": null,
            "grid_gap": null,
            "grid_row": null,
            "grid_template_areas": null,
            "grid_template_columns": null,
            "grid_template_rows": null,
            "height": null,
            "justify_content": null,
            "justify_items": null,
            "left": null,
            "margin": null,
            "max_height": null,
            "max_width": null,
            "min_height": null,
            "min_width": null,
            "object_fit": null,
            "object_position": null,
            "order": null,
            "overflow": null,
            "overflow_x": null,
            "overflow_y": null,
            "padding": null,
            "right": null,
            "top": null,
            "visibility": null,
            "width": null
          }
        },
        "7728a8ecdc4847f88a05a7c87dcc7a70": {
          "model_module": "@jupyter-widgets/controls",
          "model_name": "ProgressStyleModel",
          "model_module_version": "1.5.0",
          "state": {
            "_model_module": "@jupyter-widgets/controls",
            "_model_module_version": "1.5.0",
            "_model_name": "ProgressStyleModel",
            "_view_count": null,
            "_view_module": "@jupyter-widgets/base",
            "_view_module_version": "1.2.0",
            "_view_name": "StyleView",
            "bar_color": null,
            "description_width": ""
          }
        },
        "78dac7bba3864a37b5a2155f170017a9": {
          "model_module": "@jupyter-widgets/base",
          "model_name": "LayoutModel",
          "model_module_version": "1.2.0",
          "state": {
            "_model_module": "@jupyter-widgets/base",
            "_model_module_version": "1.2.0",
            "_model_name": "LayoutModel",
            "_view_count": null,
            "_view_module": "@jupyter-widgets/base",
            "_view_module_version": "1.2.0",
            "_view_name": "LayoutView",
            "align_content": null,
            "align_items": null,
            "align_self": null,
            "border": null,
            "bottom": null,
            "display": null,
            "flex": null,
            "flex_flow": null,
            "grid_area": null,
            "grid_auto_columns": null,
            "grid_auto_flow": null,
            "grid_auto_rows": null,
            "grid_column": null,
            "grid_gap": null,
            "grid_row": null,
            "grid_template_areas": null,
            "grid_template_columns": null,
            "grid_template_rows": null,
            "height": null,
            "justify_content": null,
            "justify_items": null,
            "left": null,
            "margin": null,
            "max_height": null,
            "max_width": null,
            "min_height": null,
            "min_width": null,
            "object_fit": null,
            "object_position": null,
            "order": null,
            "overflow": null,
            "overflow_x": null,
            "overflow_y": null,
            "padding": null,
            "right": null,
            "top": null,
            "visibility": null,
            "width": null
          }
        },
        "08c5b5863278405d8915257f794efac1": {
          "model_module": "@jupyter-widgets/controls",
          "model_name": "DescriptionStyleModel",
          "model_module_version": "1.5.0",
          "state": {
            "_model_module": "@jupyter-widgets/controls",
            "_model_module_version": "1.5.0",
            "_model_name": "DescriptionStyleModel",
            "_view_count": null,
            "_view_module": "@jupyter-widgets/base",
            "_view_module_version": "1.2.0",
            "_view_name": "StyleView",
            "description_width": ""
          }
        },
        "586eedceb4e9408e8fc3891e9f1ce8a3": {
          "model_module": "@jupyter-widgets/controls",
          "model_name": "HBoxModel",
          "model_module_version": "1.5.0",
          "state": {
            "_dom_classes": [],
            "_model_module": "@jupyter-widgets/controls",
            "_model_module_version": "1.5.0",
            "_model_name": "HBoxModel",
            "_view_count": null,
            "_view_module": "@jupyter-widgets/controls",
            "_view_module_version": "1.5.0",
            "_view_name": "HBoxView",
            "box_style": "",
            "children": [
              "IPY_MODEL_b27a12f2fc4d4897adab3b64d5ed38d7",
              "IPY_MODEL_e644aed89c754d3194668a84d7368f26",
              "IPY_MODEL_5d4934e6977f404ab0d39dda694e8e97"
            ],
            "layout": "IPY_MODEL_88a28133df7347e384ba6c068f4b69f8"
          }
        },
        "b27a12f2fc4d4897adab3b64d5ed38d7": {
          "model_module": "@jupyter-widgets/controls",
          "model_name": "HTMLModel",
          "model_module_version": "1.5.0",
          "state": {
            "_dom_classes": [],
            "_model_module": "@jupyter-widgets/controls",
            "_model_module_version": "1.5.0",
            "_model_name": "HTMLModel",
            "_view_count": null,
            "_view_module": "@jupyter-widgets/controls",
            "_view_module_version": "1.5.0",
            "_view_name": "HTMLView",
            "description": "",
            "description_tooltip": null,
            "layout": "IPY_MODEL_46a2677d36f54f0e99d7bd5d173005ad",
            "placeholder": "​",
            "style": "IPY_MODEL_ec5847499aa54261bc573ba8c22ba242",
            "value": "100%"
          }
        },
        "e644aed89c754d3194668a84d7368f26": {
          "model_module": "@jupyter-widgets/controls",
          "model_name": "FloatProgressModel",
          "model_module_version": "1.5.0",
          "state": {
            "_dom_classes": [],
            "_model_module": "@jupyter-widgets/controls",
            "_model_module_version": "1.5.0",
            "_model_name": "FloatProgressModel",
            "_view_count": null,
            "_view_module": "@jupyter-widgets/controls",
            "_view_module_version": "1.5.0",
            "_view_name": "ProgressView",
            "bar_style": "success",
            "description": "",
            "description_tooltip": null,
            "layout": "IPY_MODEL_cec35402e6ea4dc1a974f58cb49c1488",
            "max": 5010,
            "min": 0,
            "orientation": "horizontal",
            "style": "IPY_MODEL_4c30514160334b5fa42f1a4cab760a32",
            "value": 5010
          }
        },
        "5d4934e6977f404ab0d39dda694e8e97": {
          "model_module": "@jupyter-widgets/controls",
          "model_name": "HTMLModel",
          "model_module_version": "1.5.0",
          "state": {
            "_dom_classes": [],
            "_model_module": "@jupyter-widgets/controls",
            "_model_module_version": "1.5.0",
            "_model_name": "HTMLModel",
            "_view_count": null,
            "_view_module": "@jupyter-widgets/controls",
            "_view_module_version": "1.5.0",
            "_view_name": "HTMLView",
            "description": "",
            "description_tooltip": null,
            "layout": "IPY_MODEL_2e1037816a8a42d29fcd6bd6900a6475",
            "placeholder": "​",
            "style": "IPY_MODEL_7eb91d041c0d4e5c8bfcb63e3540cec3",
            "value": " 5010/5010 [02:09&lt;00:00, 81.57it/s]"
          }
        },
        "88a28133df7347e384ba6c068f4b69f8": {
          "model_module": "@jupyter-widgets/base",
          "model_name": "LayoutModel",
          "model_module_version": "1.2.0",
          "state": {
            "_model_module": "@jupyter-widgets/base",
            "_model_module_version": "1.2.0",
            "_model_name": "LayoutModel",
            "_view_count": null,
            "_view_module": "@jupyter-widgets/base",
            "_view_module_version": "1.2.0",
            "_view_name": "LayoutView",
            "align_content": null,
            "align_items": null,
            "align_self": null,
            "border": null,
            "bottom": null,
            "display": null,
            "flex": null,
            "flex_flow": null,
            "grid_area": null,
            "grid_auto_columns": null,
            "grid_auto_flow": null,
            "grid_auto_rows": null,
            "grid_column": null,
            "grid_gap": null,
            "grid_row": null,
            "grid_template_areas": null,
            "grid_template_columns": null,
            "grid_template_rows": null,
            "height": null,
            "justify_content": null,
            "justify_items": null,
            "left": null,
            "margin": null,
            "max_height": null,
            "max_width": null,
            "min_height": null,
            "min_width": null,
            "object_fit": null,
            "object_position": null,
            "order": null,
            "overflow": null,
            "overflow_x": null,
            "overflow_y": null,
            "padding": null,
            "right": null,
            "top": null,
            "visibility": null,
            "width": null
          }
        },
        "46a2677d36f54f0e99d7bd5d173005ad": {
          "model_module": "@jupyter-widgets/base",
          "model_name": "LayoutModel",
          "model_module_version": "1.2.0",
          "state": {
            "_model_module": "@jupyter-widgets/base",
            "_model_module_version": "1.2.0",
            "_model_name": "LayoutModel",
            "_view_count": null,
            "_view_module": "@jupyter-widgets/base",
            "_view_module_version": "1.2.0",
            "_view_name": "LayoutView",
            "align_content": null,
            "align_items": null,
            "align_self": null,
            "border": null,
            "bottom": null,
            "display": null,
            "flex": null,
            "flex_flow": null,
            "grid_area": null,
            "grid_auto_columns": null,
            "grid_auto_flow": null,
            "grid_auto_rows": null,
            "grid_column": null,
            "grid_gap": null,
            "grid_row": null,
            "grid_template_areas": null,
            "grid_template_columns": null,
            "grid_template_rows": null,
            "height": null,
            "justify_content": null,
            "justify_items": null,
            "left": null,
            "margin": null,
            "max_height": null,
            "max_width": null,
            "min_height": null,
            "min_width": null,
            "object_fit": null,
            "object_position": null,
            "order": null,
            "overflow": null,
            "overflow_x": null,
            "overflow_y": null,
            "padding": null,
            "right": null,
            "top": null,
            "visibility": null,
            "width": null
          }
        },
        "ec5847499aa54261bc573ba8c22ba242": {
          "model_module": "@jupyter-widgets/controls",
          "model_name": "DescriptionStyleModel",
          "model_module_version": "1.5.0",
          "state": {
            "_model_module": "@jupyter-widgets/controls",
            "_model_module_version": "1.5.0",
            "_model_name": "DescriptionStyleModel",
            "_view_count": null,
            "_view_module": "@jupyter-widgets/base",
            "_view_module_version": "1.2.0",
            "_view_name": "StyleView",
            "description_width": ""
          }
        },
        "cec35402e6ea4dc1a974f58cb49c1488": {
          "model_module": "@jupyter-widgets/base",
          "model_name": "LayoutModel",
          "model_module_version": "1.2.0",
          "state": {
            "_model_module": "@jupyter-widgets/base",
            "_model_module_version": "1.2.0",
            "_model_name": "LayoutModel",
            "_view_count": null,
            "_view_module": "@jupyter-widgets/base",
            "_view_module_version": "1.2.0",
            "_view_name": "LayoutView",
            "align_content": null,
            "align_items": null,
            "align_self": null,
            "border": null,
            "bottom": null,
            "display": null,
            "flex": null,
            "flex_flow": null,
            "grid_area": null,
            "grid_auto_columns": null,
            "grid_auto_flow": null,
            "grid_auto_rows": null,
            "grid_column": null,
            "grid_gap": null,
            "grid_row": null,
            "grid_template_areas": null,
            "grid_template_columns": null,
            "grid_template_rows": null,
            "height": null,
            "justify_content": null,
            "justify_items": null,
            "left": null,
            "margin": null,
            "max_height": null,
            "max_width": null,
            "min_height": null,
            "min_width": null,
            "object_fit": null,
            "object_position": null,
            "order": null,
            "overflow": null,
            "overflow_x": null,
            "overflow_y": null,
            "padding": null,
            "right": null,
            "top": null,
            "visibility": null,
            "width": null
          }
        },
        "4c30514160334b5fa42f1a4cab760a32": {
          "model_module": "@jupyter-widgets/controls",
          "model_name": "ProgressStyleModel",
          "model_module_version": "1.5.0",
          "state": {
            "_model_module": "@jupyter-widgets/controls",
            "_model_module_version": "1.5.0",
            "_model_name": "ProgressStyleModel",
            "_view_count": null,
            "_view_module": "@jupyter-widgets/base",
            "_view_module_version": "1.2.0",
            "_view_name": "StyleView",
            "bar_color": null,
            "description_width": ""
          }
        },
        "2e1037816a8a42d29fcd6bd6900a6475": {
          "model_module": "@jupyter-widgets/base",
          "model_name": "LayoutModel",
          "model_module_version": "1.2.0",
          "state": {
            "_model_module": "@jupyter-widgets/base",
            "_model_module_version": "1.2.0",
            "_model_name": "LayoutModel",
            "_view_count": null,
            "_view_module": "@jupyter-widgets/base",
            "_view_module_version": "1.2.0",
            "_view_name": "LayoutView",
            "align_content": null,
            "align_items": null,
            "align_self": null,
            "border": null,
            "bottom": null,
            "display": null,
            "flex": null,
            "flex_flow": null,
            "grid_area": null,
            "grid_auto_columns": null,
            "grid_auto_flow": null,
            "grid_auto_rows": null,
            "grid_column": null,
            "grid_gap": null,
            "grid_row": null,
            "grid_template_areas": null,
            "grid_template_columns": null,
            "grid_template_rows": null,
            "height": null,
            "justify_content": null,
            "justify_items": null,
            "left": null,
            "margin": null,
            "max_height": null,
            "max_width": null,
            "min_height": null,
            "min_width": null,
            "object_fit": null,
            "object_position": null,
            "order": null,
            "overflow": null,
            "overflow_x": null,
            "overflow_y": null,
            "padding": null,
            "right": null,
            "top": null,
            "visibility": null,
            "width": null
          }
        },
        "7eb91d041c0d4e5c8bfcb63e3540cec3": {
          "model_module": "@jupyter-widgets/controls",
          "model_name": "DescriptionStyleModel",
          "model_module_version": "1.5.0",
          "state": {
            "_model_module": "@jupyter-widgets/controls",
            "_model_module_version": "1.5.0",
            "_model_name": "DescriptionStyleModel",
            "_view_count": null,
            "_view_module": "@jupyter-widgets/base",
            "_view_module_version": "1.2.0",
            "_view_name": "StyleView",
            "description_width": ""
          }
        }
      }
    }
  },
  "cells": [
    {
      "cell_type": "code",
      "source": [
        "!nvidia-smi"
      ],
      "metadata": {
        "colab": {
          "base_uri": "https://localhost:8080/"
        },
        "id": "CxY5c_2qEMgN",
        "outputId": "d33de370-170d-4af8-b29b-ad90fe883145"
      },
      "execution_count": 1,
      "outputs": [
        {
          "output_type": "stream",
          "name": "stdout",
          "text": [
            "Thu May 19 02:38:53 2022       \n",
            "+-----------------------------------------------------------------------------+\n",
            "| NVIDIA-SMI 460.32.03    Driver Version: 460.32.03    CUDA Version: 11.2     |\n",
            "|-------------------------------+----------------------+----------------------+\n",
            "| GPU  Name        Persistence-M| Bus-Id        Disp.A | Volatile Uncorr. ECC |\n",
            "| Fan  Temp  Perf  Pwr:Usage/Cap|         Memory-Usage | GPU-Util  Compute M. |\n",
            "|                               |                      |               MIG M. |\n",
            "|===============================+======================+======================|\n",
            "|   0  Tesla T4            Off  | 00000000:00:04.0 Off |                    0 |\n",
            "| N/A   65C    P8    12W /  70W |      0MiB / 15109MiB |      0%      Default |\n",
            "|                               |                      |                  N/A |\n",
            "+-------------------------------+----------------------+----------------------+\n",
            "                                                                               \n",
            "+-----------------------------------------------------------------------------+\n",
            "| Processes:                                                                  |\n",
            "|  GPU   GI   CI        PID   Type   Process name                  GPU Memory |\n",
            "|        ID   ID                                                   Usage      |\n",
            "|=============================================================================|\n",
            "|  No running processes found                                                 |\n",
            "+-----------------------------------------------------------------------------+\n"
          ]
        }
      ]
    },
    {
      "cell_type": "code",
      "source": [
        "from google.colab import drive\n",
        "drive.mount('/content/drive')"
      ],
      "metadata": {
        "colab": {
          "base_uri": "https://localhost:8080/"
        },
        "id": "ErtFvD4HfhJr",
        "outputId": "68c5798a-ef8f-4b4f-d481-6c15199d77b2"
      },
      "execution_count": 2,
      "outputs": [
        {
          "output_type": "stream",
          "name": "stdout",
          "text": [
            "Mounted at /content/drive\n"
          ]
        }
      ]
    },
    {
      "cell_type": "markdown",
      "source": [
        "#Install modules"
      ],
      "metadata": {
        "id": "v2MsaeD_kjI6"
      }
    },
    {
      "cell_type": "code",
      "execution_count": 3,
      "metadata": {
        "colab": {
          "base_uri": "https://localhost:8080/"
        },
        "id": "w9arB1afY4kn",
        "outputId": "30e2ae44-bc12-41c8-ff2f-65bb8a4fe453"
      },
      "outputs": [
        {
          "output_type": "stream",
          "name": "stdout",
          "text": [
            "Collecting datasets\n",
            "  Downloading datasets-2.2.1-py3-none-any.whl (342 kB)\n",
            "\u001b[?25l\r\u001b[K     |█                               | 10 kB 26.5 MB/s eta 0:00:01\r\u001b[K     |██                              | 20 kB 34.2 MB/s eta 0:00:01\r\u001b[K     |██▉                             | 30 kB 35.6 MB/s eta 0:00:01\r\u001b[K     |███▉                            | 40 kB 18.3 MB/s eta 0:00:01\r\u001b[K     |████▉                           | 51 kB 13.2 MB/s eta 0:00:01\r\u001b[K     |█████▊                          | 61 kB 15.2 MB/s eta 0:00:01\r\u001b[K     |██████▊                         | 71 kB 14.7 MB/s eta 0:00:01\r\u001b[K     |███████▋                        | 81 kB 15.1 MB/s eta 0:00:01\r\u001b[K     |████████▋                       | 92 kB 16.6 MB/s eta 0:00:01\r\u001b[K     |█████████▋                      | 102 kB 18.0 MB/s eta 0:00:01\r\u001b[K     |██████████▌                     | 112 kB 18.0 MB/s eta 0:00:01\r\u001b[K     |███████████▌                    | 122 kB 18.0 MB/s eta 0:00:01\r\u001b[K     |████████████▌                   | 133 kB 18.0 MB/s eta 0:00:01\r\u001b[K     |█████████████▍                  | 143 kB 18.0 MB/s eta 0:00:01\r\u001b[K     |██████████████▍                 | 153 kB 18.0 MB/s eta 0:00:01\r\u001b[K     |███████████████▎                | 163 kB 18.0 MB/s eta 0:00:01\r\u001b[K     |████████████████▎               | 174 kB 18.0 MB/s eta 0:00:01\r\u001b[K     |█████████████████▎              | 184 kB 18.0 MB/s eta 0:00:01\r\u001b[K     |██████████████████▏             | 194 kB 18.0 MB/s eta 0:00:01\r\u001b[K     |███████████████████▏            | 204 kB 18.0 MB/s eta 0:00:01\r\u001b[K     |████████████████████            | 215 kB 18.0 MB/s eta 0:00:01\r\u001b[K     |█████████████████████           | 225 kB 18.0 MB/s eta 0:00:01\r\u001b[K     |██████████████████████          | 235 kB 18.0 MB/s eta 0:00:01\r\u001b[K     |███████████████████████         | 245 kB 18.0 MB/s eta 0:00:01\r\u001b[K     |████████████████████████        | 256 kB 18.0 MB/s eta 0:00:01\r\u001b[K     |█████████████████████████       | 266 kB 18.0 MB/s eta 0:00:01\r\u001b[K     |█████████████████████████▉      | 276 kB 18.0 MB/s eta 0:00:01\r\u001b[K     |██████████████████████████▉     | 286 kB 18.0 MB/s eta 0:00:01\r\u001b[K     |███████████████████████████▊    | 296 kB 18.0 MB/s eta 0:00:01\r\u001b[K     |████████████████████████████▊   | 307 kB 18.0 MB/s eta 0:00:01\r\u001b[K     |█████████████████████████████▊  | 317 kB 18.0 MB/s eta 0:00:01\r\u001b[K     |██████████████████████████████▋ | 327 kB 18.0 MB/s eta 0:00:01\r\u001b[K     |███████████████████████████████▋| 337 kB 18.0 MB/s eta 0:00:01\r\u001b[K     |████████████████████████████████| 342 kB 18.0 MB/s \n",
            "\u001b[?25hRequirement already satisfied: packaging in /usr/local/lib/python3.7/dist-packages (from datasets) (21.3)\n",
            "Requirement already satisfied: requests>=2.19.0 in /usr/local/lib/python3.7/dist-packages (from datasets) (2.23.0)\n",
            "Collecting fsspec[http]>=2021.05.0\n",
            "  Downloading fsspec-2022.3.0-py3-none-any.whl (136 kB)\n",
            "\u001b[K     |████████████████████████████████| 136 kB 71.5 MB/s \n",
            "\u001b[?25hCollecting aiohttp\n",
            "  Downloading aiohttp-3.8.1-cp37-cp37m-manylinux_2_5_x86_64.manylinux1_x86_64.manylinux_2_12_x86_64.manylinux2010_x86_64.whl (1.1 MB)\n",
            "\u001b[K     |████████████████████████████████| 1.1 MB 65.6 MB/s \n",
            "\u001b[?25hRequirement already satisfied: dill in /usr/local/lib/python3.7/dist-packages (from datasets) (0.3.4)\n",
            "Collecting huggingface-hub<1.0.0,>=0.1.0\n",
            "  Downloading huggingface_hub-0.6.0-py3-none-any.whl (84 kB)\n",
            "\u001b[K     |████████████████████████████████| 84 kB 3.6 MB/s \n",
            "\u001b[?25hCollecting responses<0.19\n",
            "  Downloading responses-0.18.0-py3-none-any.whl (38 kB)\n",
            "Requirement already satisfied: pyarrow>=6.0.0 in /usr/local/lib/python3.7/dist-packages (from datasets) (6.0.1)\n",
            "Requirement already satisfied: importlib-metadata in /usr/local/lib/python3.7/dist-packages (from datasets) (4.11.3)\n",
            "Requirement already satisfied: numpy>=1.17 in /usr/local/lib/python3.7/dist-packages (from datasets) (1.21.6)\n",
            "Requirement already satisfied: multiprocess in /usr/local/lib/python3.7/dist-packages (from datasets) (0.70.12.2)\n",
            "Requirement already satisfied: tqdm>=4.62.1 in /usr/local/lib/python3.7/dist-packages (from datasets) (4.64.0)\n",
            "Collecting xxhash\n",
            "  Downloading xxhash-3.0.0-cp37-cp37m-manylinux_2_17_x86_64.manylinux2014_x86_64.whl (212 kB)\n",
            "\u001b[K     |████████████████████████████████| 212 kB 67.5 MB/s \n",
            "\u001b[?25hRequirement already satisfied: pandas in /usr/local/lib/python3.7/dist-packages (from datasets) (1.3.5)\n",
            "Requirement already satisfied: filelock in /usr/local/lib/python3.7/dist-packages (from huggingface-hub<1.0.0,>=0.1.0->datasets) (3.7.0)\n",
            "Requirement already satisfied: pyyaml in /usr/local/lib/python3.7/dist-packages (from huggingface-hub<1.0.0,>=0.1.0->datasets) (3.13)\n",
            "Requirement already satisfied: typing-extensions>=3.7.4.3 in /usr/local/lib/python3.7/dist-packages (from huggingface-hub<1.0.0,>=0.1.0->datasets) (4.2.0)\n",
            "Requirement already satisfied: pyparsing!=3.0.5,>=2.0.2 in /usr/local/lib/python3.7/dist-packages (from packaging->datasets) (3.0.9)\n",
            "Requirement already satisfied: certifi>=2017.4.17 in /usr/local/lib/python3.7/dist-packages (from requests>=2.19.0->datasets) (2021.10.8)\n",
            "Requirement already satisfied: idna<3,>=2.5 in /usr/local/lib/python3.7/dist-packages (from requests>=2.19.0->datasets) (2.10)\n",
            "Requirement already satisfied: urllib3!=1.25.0,!=1.25.1,<1.26,>=1.21.1 in /usr/local/lib/python3.7/dist-packages (from requests>=2.19.0->datasets) (1.24.3)\n",
            "Requirement already satisfied: chardet<4,>=3.0.2 in /usr/local/lib/python3.7/dist-packages (from requests>=2.19.0->datasets) (3.0.4)\n",
            "Collecting urllib3!=1.25.0,!=1.25.1,<1.26,>=1.21.1\n",
            "  Downloading urllib3-1.25.11-py2.py3-none-any.whl (127 kB)\n",
            "\u001b[K     |████████████████████████████████| 127 kB 75.0 MB/s \n",
            "\u001b[?25hCollecting yarl<2.0,>=1.0\n",
            "  Downloading yarl-1.7.2-cp37-cp37m-manylinux_2_5_x86_64.manylinux1_x86_64.manylinux_2_12_x86_64.manylinux2010_x86_64.whl (271 kB)\n",
            "\u001b[K     |████████████████████████████████| 271 kB 39.7 MB/s \n",
            "\u001b[?25hCollecting aiosignal>=1.1.2\n",
            "  Downloading aiosignal-1.2.0-py3-none-any.whl (8.2 kB)\n",
            "Requirement already satisfied: charset-normalizer<3.0,>=2.0 in /usr/local/lib/python3.7/dist-packages (from aiohttp->datasets) (2.0.12)\n",
            "Collecting multidict<7.0,>=4.5\n",
            "  Downloading multidict-6.0.2-cp37-cp37m-manylinux_2_17_x86_64.manylinux2014_x86_64.whl (94 kB)\n",
            "\u001b[K     |████████████████████████████████| 94 kB 3.6 MB/s \n",
            "\u001b[?25hCollecting frozenlist>=1.1.1\n",
            "  Downloading frozenlist-1.3.0-cp37-cp37m-manylinux_2_5_x86_64.manylinux1_x86_64.manylinux_2_17_x86_64.manylinux2014_x86_64.whl (144 kB)\n",
            "\u001b[K     |████████████████████████████████| 144 kB 76.7 MB/s \n",
            "\u001b[?25hCollecting asynctest==0.13.0\n",
            "  Downloading asynctest-0.13.0-py3-none-any.whl (26 kB)\n",
            "Collecting async-timeout<5.0,>=4.0.0a3\n",
            "  Downloading async_timeout-4.0.2-py3-none-any.whl (5.8 kB)\n",
            "Requirement already satisfied: attrs>=17.3.0 in /usr/local/lib/python3.7/dist-packages (from aiohttp->datasets) (21.4.0)\n",
            "Requirement already satisfied: zipp>=0.5 in /usr/local/lib/python3.7/dist-packages (from importlib-metadata->datasets) (3.8.0)\n",
            "Requirement already satisfied: pytz>=2017.3 in /usr/local/lib/python3.7/dist-packages (from pandas->datasets) (2022.1)\n",
            "Requirement already satisfied: python-dateutil>=2.7.3 in /usr/local/lib/python3.7/dist-packages (from pandas->datasets) (2.8.2)\n",
            "Requirement already satisfied: six>=1.5 in /usr/local/lib/python3.7/dist-packages (from python-dateutil>=2.7.3->pandas->datasets) (1.15.0)\n",
            "Installing collected packages: multidict, frozenlist, yarl, urllib3, asynctest, async-timeout, aiosignal, fsspec, aiohttp, xxhash, responses, huggingface-hub, datasets\n",
            "  Attempting uninstall: urllib3\n",
            "    Found existing installation: urllib3 1.24.3\n",
            "    Uninstalling urllib3-1.24.3:\n",
            "      Successfully uninstalled urllib3-1.24.3\n",
            "\u001b[31mERROR: pip's dependency resolver does not currently take into account all the packages that are installed. This behaviour is the source of the following dependency conflicts.\n",
            "datascience 0.10.6 requires folium==0.2.1, but you have folium 0.8.3 which is incompatible.\u001b[0m\n",
            "Successfully installed aiohttp-3.8.1 aiosignal-1.2.0 async-timeout-4.0.2 asynctest-0.13.0 datasets-2.2.1 frozenlist-1.3.0 fsspec-2022.3.0 huggingface-hub-0.6.0 multidict-6.0.2 responses-0.18.0 urllib3-1.25.11 xxhash-3.0.0 yarl-1.7.2\n"
          ]
        }
      ],
      "source": [
        "pip install datasets"
      ]
    },
    {
      "cell_type": "code",
      "source": [
        "pip install transformers"
      ],
      "metadata": {
        "colab": {
          "base_uri": "https://localhost:8080/"
        },
        "id": "fP7CyBVpco_l",
        "outputId": "fc24ea62-9adc-4880-93bb-efc43ca5383c"
      },
      "execution_count": 4,
      "outputs": [
        {
          "output_type": "stream",
          "name": "stdout",
          "text": [
            "Collecting transformers\n",
            "  Downloading transformers-4.19.2-py3-none-any.whl (4.2 MB)\n",
            "\u001b[K     |████████████████████████████████| 4.2 MB 30.6 MB/s \n",
            "\u001b[?25hRequirement already satisfied: requests in /usr/local/lib/python3.7/dist-packages (from transformers) (2.23.0)\n",
            "Requirement already satisfied: importlib-metadata in /usr/local/lib/python3.7/dist-packages (from transformers) (4.11.3)\n",
            "Requirement already satisfied: tqdm>=4.27 in /usr/local/lib/python3.7/dist-packages (from transformers) (4.64.0)\n",
            "Collecting pyyaml>=5.1\n",
            "  Downloading PyYAML-6.0-cp37-cp37m-manylinux_2_5_x86_64.manylinux1_x86_64.manylinux_2_12_x86_64.manylinux2010_x86_64.whl (596 kB)\n",
            "\u001b[K     |████████████████████████████████| 596 kB 60.9 MB/s \n",
            "\u001b[?25hCollecting tokenizers!=0.11.3,<0.13,>=0.11.1\n",
            "  Downloading tokenizers-0.12.1-cp37-cp37m-manylinux_2_12_x86_64.manylinux2010_x86_64.whl (6.6 MB)\n",
            "\u001b[K     |████████████████████████████████| 6.6 MB 51.7 MB/s \n",
            "\u001b[?25hRequirement already satisfied: filelock in /usr/local/lib/python3.7/dist-packages (from transformers) (3.7.0)\n",
            "Requirement already satisfied: numpy>=1.17 in /usr/local/lib/python3.7/dist-packages (from transformers) (1.21.6)\n",
            "Requirement already satisfied: huggingface-hub<1.0,>=0.1.0 in /usr/local/lib/python3.7/dist-packages (from transformers) (0.6.0)\n",
            "Requirement already satisfied: regex!=2019.12.17 in /usr/local/lib/python3.7/dist-packages (from transformers) (2019.12.20)\n",
            "Requirement already satisfied: packaging>=20.0 in /usr/local/lib/python3.7/dist-packages (from transformers) (21.3)\n",
            "Requirement already satisfied: typing-extensions>=3.7.4.3 in /usr/local/lib/python3.7/dist-packages (from huggingface-hub<1.0,>=0.1.0->transformers) (4.2.0)\n",
            "Requirement already satisfied: pyparsing!=3.0.5,>=2.0.2 in /usr/local/lib/python3.7/dist-packages (from packaging>=20.0->transformers) (3.0.9)\n",
            "Requirement already satisfied: zipp>=0.5 in /usr/local/lib/python3.7/dist-packages (from importlib-metadata->transformers) (3.8.0)\n",
            "Requirement already satisfied: urllib3!=1.25.0,!=1.25.1,<1.26,>=1.21.1 in /usr/local/lib/python3.7/dist-packages (from requests->transformers) (1.25.11)\n",
            "Requirement already satisfied: chardet<4,>=3.0.2 in /usr/local/lib/python3.7/dist-packages (from requests->transformers) (3.0.4)\n",
            "Requirement already satisfied: idna<3,>=2.5 in /usr/local/lib/python3.7/dist-packages (from requests->transformers) (2.10)\n",
            "Requirement already satisfied: certifi>=2017.4.17 in /usr/local/lib/python3.7/dist-packages (from requests->transformers) (2021.10.8)\n",
            "Installing collected packages: pyyaml, tokenizers, transformers\n",
            "  Attempting uninstall: pyyaml\n",
            "    Found existing installation: PyYAML 3.13\n",
            "    Uninstalling PyYAML-3.13:\n",
            "      Successfully uninstalled PyYAML-3.13\n",
            "Successfully installed pyyaml-6.0 tokenizers-0.12.1 transformers-4.19.2\n"
          ]
        }
      ]
    },
    {
      "cell_type": "code",
      "source": [
        "from datasets import load_dataset\n",
        "\n",
        "dataset = load_dataset(\"xnli\",language='vi')"
      ],
      "metadata": {
        "colab": {
          "base_uri": "https://localhost:8080/",
          "height": 313,
          "referenced_widgets": [
            "9235038bf09b4693aa7e2dfe675dd7e3",
            "a2eea8d17c8d42399f0beaf59c64aac4",
            "9cfdbc3e24434498a269fd7118493f8c",
            "5ecb8b3f79184a5f840012aab92b9ba1",
            "679c64196e694a51a5e87ee6e62f1301",
            "3ea1dc61baa9406e94fab54534fc45c9",
            "438141ef9be44ba8a655e3ecb98ad55d",
            "a1d0d8f1b7d74a4cb6fc03902fbc7c16",
            "b2f023aa4cc945cb9d90f48e0597eb48",
            "ce09d3ffa25241928e13f4dd84b22379",
            "dbb60a58026245cba28ce624ba098698",
            "1b826f314f2446a8b813c3b8773e1bd3",
            "870cbcdab6c043c0ab4c3dd490d4273d",
            "ff385f816c1449d48879d88c2ba078f5",
            "a728cfe75ea94e2a950bdef01988319f",
            "de44b73b4da74ee0a33ee3922c36aafe",
            "5b23e55076ab4fb29904f19596ad34a1",
            "a90e9912643a4d39b56aa965a7ab0ce0",
            "8bb8f77ad3cd48fca8f3430ee15a82d4",
            "7677d9ecd30a464eb46810d9692d09b6",
            "250e296e9fa84910a88eaa52162bbfa6",
            "c00a3625b9a9416a8ba7d6b3595e09d2",
            "ae36cc3641314d24ad549fcb6e050941",
            "bd75070cf4f4423194c424c2d9c895ff",
            "81491a60de964346844f4c8257b8e178",
            "4f5b8f9633784cc2bac43ed707763f5d",
            "b2f491afa24140e48f8db95d719d15fc",
            "133b8c00de3e427aa0d6a17fda4a2f05",
            "7897e4db3e574977958b917a8609c87e",
            "00f0990c415c4c7d902d6f43f5f1ec5a",
            "4621b984e68740398541df15c7f08be7",
            "76e4228b117a4950a908148c8b3f120b",
            "99cdf86ae5474ee0ac57998a8e3aa5d7",
            "aaefb39586d74f5eaa2162ce9a8752a8",
            "9a5fb2d9c9ab4b5d8096cf214c444577",
            "5710bffb821546488f27c613bfb28f6f",
            "d38443422959400b86bae28c8f39019e",
            "12a071b333ce4a608c7e3f63299d847f",
            "e534f45a4c5948b8be639a27443c88d2",
            "953eb18d35d44ba698aaa7d2120f71d5",
            "cf5056e2b8bc484fb5443010897b7792",
            "913e5ba3bcfc4274a2a725b2dfd2f30f",
            "a8801068dd1442d09b30c1dca0f5fbbf",
            "ec546224dcb644359fe107a42c8cbc71",
            "f2a01c971bac44b691c759a31c8d2685",
            "b63d771df78249519fdab56f5d24cc87",
            "29fed2cba0ac4a98b7f5ca931a3a35ad",
            "ea1ec82dea8e447496d08d74f153e951",
            "e35af42119524ddcb2d010f6487f913d",
            "da231ad89a814c1ba1954bf4c8baec6e",
            "c0c2d31f235743189eee8fb37585801e",
            "1f40005caa864a87a5a9485c18e42cd7",
            "7751b36e344444b483e2566c20db6399",
            "26bbc0b8ccbc4e0f941655f6f1789ea4",
            "b604f74cebb84e92b6c61e3cb0f00241",
            "8fe293baf280490498e027b417e466b9",
            "798c7470e08c4747b7d5e29f17175a92",
            "95fc3324c39e4ef490099f97ed16c577",
            "f40bc447e113468ab0eef3d6b3111ba2",
            "a9b2a5b51a134f63bdbfd03b402ba96a",
            "84a68658c8dd4fba98a7abb41af9c338",
            "fd71418da9fa4e498f8ea2c49447aa90",
            "50eb9b54387643bab9a1e7ed5ef7b1dc",
            "59c282a8a7c645239fdb9a55b3b8f19d",
            "816b2359d5704233bfe59b33bff9f6da",
            "5358d53dc69742518a49793d15250042",
            "6fc18125f4634be28c4dfadf0e01a35d",
            "d51aad87cb144ad988a66b4aa6a10df3",
            "4bc5fdd940a54b7ca9c3934093b9f0d2",
            "5095febbd20049bf9b252ce230c16676",
            "74d6ce8742a74074a7b5b6815cc1adbe",
            "8aaebb8cd2d940c2868b6d7119ae2d90",
            "3d497237fb064a1cb9858cb68bfe791a",
            "b9d73dbcad874e92ad561b58bfb8461e",
            "2b7ff07ac6154f5d87cfc3a5adad404c",
            "468b44ce0bf24242bf8db6c13af80963",
            "90591e5e730d410eb6685a669f7ec4e9",
            "dd91aeabd86f4947855920731171044d",
            "1b5eefb1c58149c08b05af480e42a6d0",
            "8b9d63b214134b98b5234a26b7cbd465",
            "09dce448406a4159bb4c86f7bb7e6336",
            "58820646a1c64f9aa3822e25eaa7ef47",
            "9071d2fb927e4f22b94a25b666920859",
            "36e9b22cc1fe4b7ea79427749fa8aeae",
            "1bc682ef4e874cd29ec287d6ff38638d",
            "3f810dcf67c445aca7bbd996ce7aa559",
            "844de8341b5f43578747c810f21ada13",
            "325fda1077b8444da9a9510f832b96df",
            "09f07cf4bf3a498480f036049f1a84d2",
            "fc343f0812ed4a88a8d854ab03aeeec4",
            "e1114278df8645fdae59ef418ea4acb3",
            "d3e0ddcccc7e44b4a1fca8d15483da79",
            "c32cc65740674786a72ffc29cffe8ded",
            "11b73fc523a349eca5b1401d0067ff1f",
            "139e3a7bff6f4448b0875a453a7aecea",
            "e87a0e0934b34e5da82ee919fa582010",
            "41ce942556e84039a9bcda26c08d9734",
            "726199355f51444283e4ddef88fa8222",
            "b432189a50fc4123a7618a0bb14b1f67",
            "a53e0f27eaf8425dad82dbe9008f882e",
            "8d75a30ac1f84e2b82c44a0faa3c1370",
            "fbf628ba436249c7bea0b2ec3d113bab",
            "09fe7381222145fcaace7d24869fec6c",
            "41f1fc21cc4747529bb492622c73420a",
            "2cf08f3f327c48c5bfd53aaf3a68d0f3",
            "7a64504d554d4f5b96b334c72a39885f",
            "608aec207dd3463bb31ef04d7ffe6741",
            "dce795a7669d4eb6939c8e0c05f6144f",
            "d2ddd1b157114ed3aee03703cf3db4a1",
            "73428d844c084eb79f16eb2b18c49c43"
          ]
        },
        "id": "X1DJHdDNegSx",
        "outputId": "42d37386-6100-4c69-e0ea-0289177f684a"
      },
      "execution_count": null,
      "outputs": [
        {
          "output_type": "display_data",
          "data": {
            "text/plain": [
              "Downloading builder script:   0%|          | 0.00/2.67k [00:00<?, ?B/s]"
            ],
            "application/vnd.jupyter.widget-view+json": {
              "version_major": 2,
              "version_minor": 0,
              "model_id": "9235038bf09b4693aa7e2dfe675dd7e3"
            }
          },
          "metadata": {}
        },
        {
          "output_type": "display_data",
          "data": {
            "text/plain": [
              "Downloading metadata:   0%|          | 0.00/2.18k [00:00<?, ?B/s]"
            ],
            "application/vnd.jupyter.widget-view+json": {
              "version_major": 2,
              "version_minor": 0,
              "model_id": "1b826f314f2446a8b813c3b8773e1bd3"
            }
          },
          "metadata": {}
        },
        {
          "output_type": "stream",
          "name": "stderr",
          "text": [
            "Using custom data configuration default-language=vi\n"
          ]
        },
        {
          "output_type": "stream",
          "name": "stdout",
          "text": [
            "Downloading and preparing dataset xnli/default to /root/.cache/huggingface/datasets/xnli/default-language=vi/1.1.0/818164464f9c9fd15776ca8a00423b074344c3e929d00a2c1a84aa5a50c928bd...\n"
          ]
        },
        {
          "output_type": "display_data",
          "data": {
            "text/plain": [
              "Downloading data files:   0%|          | 0/2 [00:00<?, ?it/s]"
            ],
            "application/vnd.jupyter.widget-view+json": {
              "version_major": 2,
              "version_minor": 0,
              "model_id": "ae36cc3641314d24ad549fcb6e050941"
            }
          },
          "metadata": {}
        },
        {
          "output_type": "display_data",
          "data": {
            "text/plain": [
              "Downloading data:   0%|          | 0.00/466M [00:00<?, ?B/s]"
            ],
            "application/vnd.jupyter.widget-view+json": {
              "version_major": 2,
              "version_minor": 0,
              "model_id": "aaefb39586d74f5eaa2162ce9a8752a8"
            }
          },
          "metadata": {}
        },
        {
          "output_type": "display_data",
          "data": {
            "text/plain": [
              "Downloading data:   0%|          | 0.00/17.9M [00:00<?, ?B/s]"
            ],
            "application/vnd.jupyter.widget-view+json": {
              "version_major": 2,
              "version_minor": 0,
              "model_id": "f2a01c971bac44b691c759a31c8d2685"
            }
          },
          "metadata": {}
        },
        {
          "output_type": "display_data",
          "data": {
            "text/plain": [
              "Extracting data files:   0%|          | 0/2 [00:00<?, ?it/s]"
            ],
            "application/vnd.jupyter.widget-view+json": {
              "version_major": 2,
              "version_minor": 0,
              "model_id": "8fe293baf280490498e027b417e466b9"
            }
          },
          "metadata": {}
        },
        {
          "output_type": "display_data",
          "data": {
            "text/plain": [
              "Generating train split: 0 examples [00:00, ? examples/s]"
            ],
            "application/vnd.jupyter.widget-view+json": {
              "version_major": 2,
              "version_minor": 0,
              "model_id": "6fc18125f4634be28c4dfadf0e01a35d"
            }
          },
          "metadata": {}
        },
        {
          "output_type": "display_data",
          "data": {
            "text/plain": [
              "Generating test split: 0 examples [00:00, ? examples/s]"
            ],
            "application/vnd.jupyter.widget-view+json": {
              "version_major": 2,
              "version_minor": 0,
              "model_id": "dd91aeabd86f4947855920731171044d"
            }
          },
          "metadata": {}
        },
        {
          "output_type": "display_data",
          "data": {
            "text/plain": [
              "Generating validation split: 0 examples [00:00, ? examples/s]"
            ],
            "application/vnd.jupyter.widget-view+json": {
              "version_major": 2,
              "version_minor": 0,
              "model_id": "09f07cf4bf3a498480f036049f1a84d2"
            }
          },
          "metadata": {}
        },
        {
          "output_type": "stream",
          "name": "stdout",
          "text": [
            "Dataset xnli downloaded and prepared to /root/.cache/huggingface/datasets/xnli/default-language=vi/1.1.0/818164464f9c9fd15776ca8a00423b074344c3e929d00a2c1a84aa5a50c928bd. Subsequent calls will reuse this data.\n"
          ]
        },
        {
          "output_type": "display_data",
          "data": {
            "text/plain": [
              "  0%|          | 0/3 [00:00<?, ?it/s]"
            ],
            "application/vnd.jupyter.widget-view+json": {
              "version_major": 2,
              "version_minor": 0,
              "model_id": "a53e0f27eaf8425dad82dbe9008f882e"
            }
          },
          "metadata": {}
        }
      ]
    },
    {
      "cell_type": "code",
      "source": [
        "dataset"
      ],
      "metadata": {
        "colab": {
          "base_uri": "https://localhost:8080/"
        },
        "id": "mEvnQLFzfePA",
        "outputId": "51d0dce3-0628-4f45-e269-83cff8f0d95f"
      },
      "execution_count": null,
      "outputs": [
        {
          "output_type": "execute_result",
          "data": {
            "text/plain": [
              "DatasetDict({\n",
              "    train: Dataset({\n",
              "        features: ['premise', 'hypothesis', 'label'],\n",
              "        num_rows: 392702\n",
              "    })\n",
              "    test: Dataset({\n",
              "        features: ['premise', 'hypothesis', 'label'],\n",
              "        num_rows: 5010\n",
              "    })\n",
              "    validation: Dataset({\n",
              "        features: ['premise', 'hypothesis', 'label'],\n",
              "        num_rows: 2490\n",
              "    })\n",
              "})"
            ]
          },
          "metadata": {},
          "execution_count": 7
        }
      ]
    },
    {
      "cell_type": "code",
      "source": [
        "import pandas as pd"
      ],
      "metadata": {
        "id": "gQIMkGD_fVOV"
      },
      "execution_count": null,
      "outputs": []
    },
    {
      "cell_type": "code",
      "source": [
        "train=pd.DataFrame(dataset['train'])"
      ],
      "metadata": {
        "id": "_PjOd75melBe"
      },
      "execution_count": null,
      "outputs": []
    },
    {
      "cell_type": "code",
      "source": [
        "train=train.sample(frac=1)"
      ],
      "metadata": {
        "id": "jX41T2DMf4Tm"
      },
      "execution_count": null,
      "outputs": []
    },
    {
      "cell_type": "code",
      "source": [
        "len(train)//5"
      ],
      "metadata": {
        "colab": {
          "base_uri": "https://localhost:8080/"
        },
        "id": "-CHCw6ulgTG0",
        "outputId": "81ba1c74-162e-4ad4-944c-2752b6344dbd"
      },
      "execution_count": null,
      "outputs": [
        {
          "output_type": "execute_result",
          "data": {
            "text/plain": [
              "78540"
            ]
          },
          "metadata": {},
          "execution_count": 17
        }
      ]
    },
    {
      "cell_type": "code",
      "source": [
        "for i in range(5):\n",
        "  train_i=train.iloc[i*78540:(i+1)*78540]\n",
        "  train_i.to_csv(f'/content/drive/MyDrive/vi-nli/raw_dataset/train_{i}.csv',index=False)"
      ],
      "metadata": {
        "id": "VFJRMobagTJq"
      },
      "execution_count": null,
      "outputs": []
    },
    {
      "cell_type": "code",
      "source": [
        "valid=pd.DataFrame(dataset['validation'])"
      ],
      "metadata": {
        "id": "9VaG3TQSfm0t"
      },
      "execution_count": null,
      "outputs": []
    },
    {
      "cell_type": "code",
      "source": [
        "test=pd.DataFrame(dataset['test'])"
      ],
      "metadata": {
        "id": "Jd_FE70Af0gM"
      },
      "execution_count": null,
      "outputs": []
    },
    {
      "cell_type": "code",
      "source": [
        "valid.to_csv(\"/content/drive/MyDrive/vi-nli/raw_dataset/valid.csv\",index=False)"
      ],
      "metadata": {
        "id": "rBA7OM7Rf111"
      },
      "execution_count": null,
      "outputs": []
    },
    {
      "cell_type": "code",
      "source": [
        "test.to_csv(\"/content/drive/MyDrive/vi-nli/raw_dataset/test.csv\",index=False)"
      ],
      "metadata": {
        "id": "_XYoHq-kgIfu"
      },
      "execution_count": null,
      "outputs": []
    },
    {
      "cell_type": "markdown",
      "source": [
        "#Import modules"
      ],
      "metadata": {
        "id": "qxr3FFXBg2uk"
      }
    },
    {
      "cell_type": "code",
      "source": [
        "import pandas as pd\n",
        "import re\n",
        "import string\n",
        "from transformers import AutoTokenizer,AutoConfig,AutoModelForSequenceClassification,get_linear_schedule_with_warmup\n",
        "import matplotlib.pyplot as plt\n",
        "from os.path import join\n",
        "import os\n",
        "from torch.utils.data import DataLoader, Dataset\n",
        "import torch\n",
        "from tqdm.auto import tqdm\n",
        "import numpy as np\n",
        "from sklearn.metrics import *"
      ],
      "metadata": {
        "id": "zBIDGnSpg4-k"
      },
      "execution_count": 1,
      "outputs": []
    },
    {
      "cell_type": "code",
      "source": [
        "device = torch.device(\"cuda\" if torch.cuda.is_available() else \"cpu\")\n",
        "device"
      ],
      "metadata": {
        "colab": {
          "base_uri": "https://localhost:8080/"
        },
        "id": "6bHpp2_qyB0_",
        "outputId": "d8c4e7e4-5340-4edc-9d5e-a6e167531220"
      },
      "execution_count": 2,
      "outputs": [
        {
          "output_type": "execute_result",
          "data": {
            "text/plain": [
              "device(type='cuda')"
            ]
          },
          "metadata": {},
          "execution_count": 2
        }
      ]
    },
    {
      "cell_type": "code",
      "source": [
        "name='xlm-roberta-base'\n",
        "max_length=256\n",
        "index=1\n",
        "\n",
        "root='/content/drive/MyDrive/vi-nli'\n",
        "preprocessed_data=join(root,\"preprocessed_data\")\n",
        "models=join(root,'models')\n",
        "model_name=join(models,f'{name}-{max_length}')"
      ],
      "metadata": {
        "id": "zYeg3HYRpDaz"
      },
      "execution_count": 3,
      "outputs": []
    },
    {
      "cell_type": "code",
      "source": [
        "os.makedirs(preprocessed_data, exist_ok=True)"
      ],
      "metadata": {
        "id": "bQrKjLUuvB5n"
      },
      "execution_count": 4,
      "outputs": []
    },
    {
      "cell_type": "code",
      "source": [
        "tokenizer = AutoTokenizer.from_pretrained(name)"
      ],
      "metadata": {
        "id": "k9gbUY2Wo9Us"
      },
      "execution_count": 5,
      "outputs": []
    },
    {
      "cell_type": "markdown",
      "source": [
        "#Load dataset"
      ],
      "metadata": {
        "id": "8NXImQndgwGu"
      }
    },
    {
      "cell_type": "code",
      "source": [
        ""
      ],
      "metadata": {
        "id": "gInAf6IqG2et"
      },
      "execution_count": 37,
      "outputs": []
    },
    {
      "cell_type": "code",
      "source": [
        "train=pd.read_csv(f'/content/drive/MyDrive/vi-nli/raw_dataset/train_{index}.csv')"
      ],
      "metadata": {
        "id": "CaKGRSoWgxWE"
      },
      "execution_count": 6,
      "outputs": []
    },
    {
      "cell_type": "code",
      "source": [
        "train"
      ],
      "metadata": {
        "colab": {
          "base_uri": "https://localhost:8080/",
          "height": 424
        },
        "id": "kvBZmCpCg8fc",
        "outputId": "f3ec239e-1cb1-4d43-829c-d989423560dc"
      },
      "execution_count": 7,
      "outputs": [
        {
          "output_type": "execute_result",
          "data": {
            "text/plain": [
              "                                                 premise  \\\n",
              "0                                       Hum đó là thú vị   \n",
              "1      Lao động lao động để cài đặt cũng được cung cấp .   \n",
              "2      Rất nhiều công việc làm việc của ngày hôm nay ...   \n",
              "3      Có thể anh là người hữu dụng và họ có một chút...   \n",
              "4      Nó được đề xuất để cung cấp một preconditioned...   \n",
              "...                                                  ...   \n",
              "78535  Um điều bất ngờ tôi thực sự là Israel đang ngồ...   \n",
              "78536  Ngài Chủ tịch , việc này đã kết thúc lời tuyên...   \n",
              "78537  Trong cuộc chiến tranh lạnh , tự do bị loại bỏ...   \n",
              "78538  Với tư cách là hàng triệu người đàn ông trên w...   \n",
              "78539  Oh , tôi tưởng chúng ta sẽ nói về những thay đ...   \n",
              "\n",
              "                                              hypothesis  label  \n",
              "0                                   Điều đó rất thú vị .      1  \n",
              "1         Vật liệu ít tốn kém hơn là lao động lao động .      1  \n",
              "2      Tất cả các trang trại đều được sở hữu bởi gia ...      1  \n",
              "3      Nơi này không có quy tắc chính thức , và họ bi...      0  \n",
              "4      Một culligana , continentala , hoặc hệ thống t...      0  \n",
              "...                                                  ...    ...  \n",
              "78535  Sự kiên trì của người israel vẫn còn ở đó bao ...      0  \n",
              "78536  Lời tuyên bố của tôi đã được đọc rất kỹ và đượ...      1  \n",
              "78537  Liên xô sẽ tiến hành đầy đủ chiến tranh nếu sự...      1  \n",
              "78538  Việc làm cho nguồn tài nguyên đã ngạc nhiên mộ...      1  \n",
              "78539  Chúng ta có thể nói về bất cứ điều gì khác ngo...      2  \n",
              "\n",
              "[78540 rows x 3 columns]"
            ],
            "text/html": [
              "\n",
              "  <div id=\"df-5437db58-1b7d-4de3-a9b9-a76a7fd60d44\">\n",
              "    <div class=\"colab-df-container\">\n",
              "      <div>\n",
              "<style scoped>\n",
              "    .dataframe tbody tr th:only-of-type {\n",
              "        vertical-align: middle;\n",
              "    }\n",
              "\n",
              "    .dataframe tbody tr th {\n",
              "        vertical-align: top;\n",
              "    }\n",
              "\n",
              "    .dataframe thead th {\n",
              "        text-align: right;\n",
              "    }\n",
              "</style>\n",
              "<table border=\"1\" class=\"dataframe\">\n",
              "  <thead>\n",
              "    <tr style=\"text-align: right;\">\n",
              "      <th></th>\n",
              "      <th>premise</th>\n",
              "      <th>hypothesis</th>\n",
              "      <th>label</th>\n",
              "    </tr>\n",
              "  </thead>\n",
              "  <tbody>\n",
              "    <tr>\n",
              "      <th>0</th>\n",
              "      <td>Hum đó là thú vị</td>\n",
              "      <td>Điều đó rất thú vị .</td>\n",
              "      <td>1</td>\n",
              "    </tr>\n",
              "    <tr>\n",
              "      <th>1</th>\n",
              "      <td>Lao động lao động để cài đặt cũng được cung cấp .</td>\n",
              "      <td>Vật liệu ít tốn kém hơn là lao động lao động .</td>\n",
              "      <td>1</td>\n",
              "    </tr>\n",
              "    <tr>\n",
              "      <th>2</th>\n",
              "      <td>Rất nhiều công việc làm việc của ngày hôm nay ...</td>\n",
              "      <td>Tất cả các trang trại đều được sở hữu bởi gia ...</td>\n",
              "      <td>1</td>\n",
              "    </tr>\n",
              "    <tr>\n",
              "      <th>3</th>\n",
              "      <td>Có thể anh là người hữu dụng và họ có một chút...</td>\n",
              "      <td>Nơi này không có quy tắc chính thức , và họ bi...</td>\n",
              "      <td>0</td>\n",
              "    </tr>\n",
              "    <tr>\n",
              "      <th>4</th>\n",
              "      <td>Nó được đề xuất để cung cấp một preconditioned...</td>\n",
              "      <td>Một culligana , continentala , hoặc hệ thống t...</td>\n",
              "      <td>0</td>\n",
              "    </tr>\n",
              "    <tr>\n",
              "      <th>...</th>\n",
              "      <td>...</td>\n",
              "      <td>...</td>\n",
              "      <td>...</td>\n",
              "    </tr>\n",
              "    <tr>\n",
              "      <th>78535</th>\n",
              "      <td>Um điều bất ngờ tôi thực sự là Israel đang ngồ...</td>\n",
              "      <td>Sự kiên trì của người israel vẫn còn ở đó bao ...</td>\n",
              "      <td>0</td>\n",
              "    </tr>\n",
              "    <tr>\n",
              "      <th>78536</th>\n",
              "      <td>Ngài Chủ tịch , việc này đã kết thúc lời tuyên...</td>\n",
              "      <td>Lời tuyên bố của tôi đã được đọc rất kỹ và đượ...</td>\n",
              "      <td>1</td>\n",
              "    </tr>\n",
              "    <tr>\n",
              "      <th>78537</th>\n",
              "      <td>Trong cuộc chiến tranh lạnh , tự do bị loại bỏ...</td>\n",
              "      <td>Liên xô sẽ tiến hành đầy đủ chiến tranh nếu sự...</td>\n",
              "      <td>1</td>\n",
              "    </tr>\n",
              "    <tr>\n",
              "      <th>78538</th>\n",
              "      <td>Với tư cách là hàng triệu người đàn ông trên w...</td>\n",
              "      <td>Việc làm cho nguồn tài nguyên đã ngạc nhiên mộ...</td>\n",
              "      <td>1</td>\n",
              "    </tr>\n",
              "    <tr>\n",
              "      <th>78539</th>\n",
              "      <td>Oh , tôi tưởng chúng ta sẽ nói về những thay đ...</td>\n",
              "      <td>Chúng ta có thể nói về bất cứ điều gì khác ngo...</td>\n",
              "      <td>2</td>\n",
              "    </tr>\n",
              "  </tbody>\n",
              "</table>\n",
              "<p>78540 rows × 3 columns</p>\n",
              "</div>\n",
              "      <button class=\"colab-df-convert\" onclick=\"convertToInteractive('df-5437db58-1b7d-4de3-a9b9-a76a7fd60d44')\"\n",
              "              title=\"Convert this dataframe to an interactive table.\"\n",
              "              style=\"display:none;\">\n",
              "        \n",
              "  <svg xmlns=\"http://www.w3.org/2000/svg\" height=\"24px\"viewBox=\"0 0 24 24\"\n",
              "       width=\"24px\">\n",
              "    <path d=\"M0 0h24v24H0V0z\" fill=\"none\"/>\n",
              "    <path d=\"M18.56 5.44l.94 2.06.94-2.06 2.06-.94-2.06-.94-.94-2.06-.94 2.06-2.06.94zm-11 1L8.5 8.5l.94-2.06 2.06-.94-2.06-.94L8.5 2.5l-.94 2.06-2.06.94zm10 10l.94 2.06.94-2.06 2.06-.94-2.06-.94-.94-2.06-.94 2.06-2.06.94z\"/><path d=\"M17.41 7.96l-1.37-1.37c-.4-.4-.92-.59-1.43-.59-.52 0-1.04.2-1.43.59L10.3 9.45l-7.72 7.72c-.78.78-.78 2.05 0 2.83L4 21.41c.39.39.9.59 1.41.59.51 0 1.02-.2 1.41-.59l7.78-7.78 2.81-2.81c.8-.78.8-2.07 0-2.86zM5.41 20L4 18.59l7.72-7.72 1.47 1.35L5.41 20z\"/>\n",
              "  </svg>\n",
              "      </button>\n",
              "      \n",
              "  <style>\n",
              "    .colab-df-container {\n",
              "      display:flex;\n",
              "      flex-wrap:wrap;\n",
              "      gap: 12px;\n",
              "    }\n",
              "\n",
              "    .colab-df-convert {\n",
              "      background-color: #E8F0FE;\n",
              "      border: none;\n",
              "      border-radius: 50%;\n",
              "      cursor: pointer;\n",
              "      display: none;\n",
              "      fill: #1967D2;\n",
              "      height: 32px;\n",
              "      padding: 0 0 0 0;\n",
              "      width: 32px;\n",
              "    }\n",
              "\n",
              "    .colab-df-convert:hover {\n",
              "      background-color: #E2EBFA;\n",
              "      box-shadow: 0px 1px 2px rgba(60, 64, 67, 0.3), 0px 1px 3px 1px rgba(60, 64, 67, 0.15);\n",
              "      fill: #174EA6;\n",
              "    }\n",
              "\n",
              "    [theme=dark] .colab-df-convert {\n",
              "      background-color: #3B4455;\n",
              "      fill: #D2E3FC;\n",
              "    }\n",
              "\n",
              "    [theme=dark] .colab-df-convert:hover {\n",
              "      background-color: #434B5C;\n",
              "      box-shadow: 0px 1px 3px 1px rgba(0, 0, 0, 0.15);\n",
              "      filter: drop-shadow(0px 1px 2px rgba(0, 0, 0, 0.3));\n",
              "      fill: #FFFFFF;\n",
              "    }\n",
              "  </style>\n",
              "\n",
              "      <script>\n",
              "        const buttonEl =\n",
              "          document.querySelector('#df-5437db58-1b7d-4de3-a9b9-a76a7fd60d44 button.colab-df-convert');\n",
              "        buttonEl.style.display =\n",
              "          google.colab.kernel.accessAllowed ? 'block' : 'none';\n",
              "\n",
              "        async function convertToInteractive(key) {\n",
              "          const element = document.querySelector('#df-5437db58-1b7d-4de3-a9b9-a76a7fd60d44');\n",
              "          const dataTable =\n",
              "            await google.colab.kernel.invokeFunction('convertToInteractive',\n",
              "                                                     [key], {});\n",
              "          if (!dataTable) return;\n",
              "\n",
              "          const docLinkHtml = 'Like what you see? Visit the ' +\n",
              "            '<a target=\"_blank\" href=https://colab.research.google.com/notebooks/data_table.ipynb>data table notebook</a>'\n",
              "            + ' to learn more about interactive tables.';\n",
              "          element.innerHTML = '';\n",
              "          dataTable['output_type'] = 'display_data';\n",
              "          await google.colab.output.renderOutput(dataTable, element);\n",
              "          const docLink = document.createElement('div');\n",
              "          docLink.innerHTML = docLinkHtml;\n",
              "          element.appendChild(docLink);\n",
              "        }\n",
              "      </script>\n",
              "    </div>\n",
              "  </div>\n",
              "  "
            ]
          },
          "metadata": {},
          "execution_count": 7
        }
      ]
    },
    {
      "cell_type": "code",
      "source": [
        "valid=pd.read_csv(\"/content/drive/MyDrive/vi-nli/raw_dataset/valid.csv\")"
      ],
      "metadata": {
        "id": "jxR3iy0Cg9c6"
      },
      "execution_count": 8,
      "outputs": []
    },
    {
      "cell_type": "markdown",
      "source": [
        "##Preprocessing"
      ],
      "metadata": {
        "id": "2s5YmrKthjq4"
      }
    },
    {
      "cell_type": "code",
      "source": [
        "punctuations=list(string.punctuation)"
      ],
      "metadata": {
        "id": "HYZixfc6ii0r"
      },
      "execution_count": 9,
      "outputs": []
    },
    {
      "cell_type": "code",
      "source": [
        "def normalizer(text):\n",
        "\n",
        "  def remove_meaningless_token(s):\n",
        "    return re.sub(r'\\b(jeez|yeah|uhhuh|uh|oh|huh)\\b',' ',s)\n",
        "  def uncased(s):\n",
        "    return s.lower()\n",
        "\n",
        "  def fix_whitespaces(s):\n",
        "    return re.sub(r'\\s+',' ',s)\n",
        "\n",
        "  def remove_punctuations(s):\n",
        "    chs=[]\n",
        "    for ch in s:\n",
        "      if ch not in punctuations:\n",
        "        chs.append(ch)\n",
        "      else:\n",
        "        chs.append(\" \")\n",
        "    return \"\".join(chs)\n",
        "\n",
        "  return fix_whitespaces(remove_meaningless_token(uncased(remove_punctuations(text)))).strip()"
      ],
      "metadata": {
        "id": "zbceZslthg1V"
      },
      "execution_count": 10,
      "outputs": []
    },
    {
      "cell_type": "code",
      "source": [
        "train['clean_premise']=train['premise'].map(normalizer)"
      ],
      "metadata": {
        "id": "C0rKvEAJhjBI"
      },
      "execution_count": 11,
      "outputs": []
    },
    {
      "cell_type": "code",
      "source": [
        "valid['clean_premise']=valid['premise'].map(normalizer)"
      ],
      "metadata": {
        "id": "ZycFaTSb98au"
      },
      "execution_count": 12,
      "outputs": []
    },
    {
      "cell_type": "code",
      "source": [
        "train['clean_hypothesis']=train['hypothesis'].map(normalizer)"
      ],
      "metadata": {
        "id": "0lb5KSglm4GS"
      },
      "execution_count": 13,
      "outputs": []
    },
    {
      "cell_type": "code",
      "source": [
        "valid['clean_hypothesis']=valid['hypothesis'].map(normalizer)"
      ],
      "metadata": {
        "id": "2q4YciDS9-nX"
      },
      "execution_count": 14,
      "outputs": []
    },
    {
      "cell_type": "code",
      "source": [
        "def seperate_sentence(s):\n",
        "  return tokenizer.tokenize(s)"
      ],
      "metadata": {
        "id": "CG0Ej3rVo2kk"
      },
      "execution_count": 15,
      "outputs": []
    },
    {
      "cell_type": "code",
      "source": [
        "def get_seq_len(s):\n",
        "  tokens=seperate_sentence(s)\n",
        "  return len(tokens)"
      ],
      "metadata": {
        "id": "tnkUEBdRpMGR"
      },
      "execution_count": 16,
      "outputs": []
    },
    {
      "cell_type": "code",
      "source": [
        "train['premise_seq_len']=train['clean_premise'].map(get_seq_len)\n",
        "train['hypothesis_seq_len']=train['clean_hypothesis'].map(get_seq_len)"
      ],
      "metadata": {
        "id": "1bzzno-snErl"
      },
      "execution_count": 17,
      "outputs": []
    },
    {
      "cell_type": "code",
      "source": [
        "valid['premise_seq_len']=valid['clean_premise'].map(get_seq_len)\n",
        "valid['hypothesis_seq_len']=valid['clean_hypothesis'].map(get_seq_len)"
      ],
      "metadata": {
        "id": "e47MW51395dy"
      },
      "execution_count": 18,
      "outputs": []
    },
    {
      "cell_type": "code",
      "source": [
        "def seq_len_visualizer(x,y):\n",
        "  fig, ax = plt.subplots(1, 1, sharex=True, sharey=True,figsize=(20,20))\n",
        "  ax.bar(x,y)\n",
        "  fig.show()"
      ],
      "metadata": {
        "id": "OD-qjYc9r3IR"
      },
      "execution_count": 19,
      "outputs": []
    },
    {
      "cell_type": "code",
      "source": [
        "max(train['premise_seq_len'].unique()),max(train['hypothesis_seq_len'].unique())"
      ],
      "metadata": {
        "colab": {
          "base_uri": "https://localhost:8080/"
        },
        "id": "H7MnfV8EqB-L",
        "outputId": "1f96e552-4e54-4f2b-f8b1-ee89babb2503"
      },
      "execution_count": 20,
      "outputs": [
        {
          "output_type": "execute_result",
          "data": {
            "text/plain": [
              "(440, 85)"
            ]
          },
          "metadata": {},
          "execution_count": 20
        }
      ]
    },
    {
      "cell_type": "code",
      "source": [
        "max(valid['premise_seq_len'].unique()),max(valid['hypothesis_seq_len'].unique())"
      ],
      "metadata": {
        "colab": {
          "base_uri": "https://localhost:8080/"
        },
        "id": "dNnoUUY--Cds",
        "outputId": "e9d7c6b8-cdbc-4037-c786-e47ff16c35ea"
      },
      "execution_count": 21,
      "outputs": [
        {
          "output_type": "execute_result",
          "data": {
            "text/plain": [
              "(77, 37)"
            ]
          },
          "metadata": {},
          "execution_count": 21
        }
      ]
    },
    {
      "cell_type": "code",
      "source": [
        "min(train['premise_seq_len'].unique()),min(train['hypothesis_seq_len'].unique())"
      ],
      "metadata": {
        "colab": {
          "base_uri": "https://localhost:8080/"
        },
        "id": "EjKDnTiNyixb",
        "outputId": "893102fc-e012-4d22-c12a-7a287c5f76b7"
      },
      "execution_count": 22,
      "outputs": [
        {
          "output_type": "execute_result",
          "data": {
            "text/plain": [
              "(0, 0)"
            ]
          },
          "metadata": {},
          "execution_count": 22
        }
      ]
    },
    {
      "cell_type": "code",
      "source": [
        "min(valid['premise_seq_len'].unique()),min(valid['hypothesis_seq_len'].unique())"
      ],
      "metadata": {
        "colab": {
          "base_uri": "https://localhost:8080/"
        },
        "id": "61NwNy4T-EXK",
        "outputId": "d69e6d57-653c-4826-8426-17526ae91705"
      },
      "execution_count": 23,
      "outputs": [
        {
          "output_type": "execute_result",
          "data": {
            "text/plain": [
              "(4, 2)"
            ]
          },
          "metadata": {},
          "execution_count": 23
        }
      ]
    },
    {
      "cell_type": "code",
      "source": [
        "train=train[~(train['premise_seq_len']==0)]"
      ],
      "metadata": {
        "id": "1_r2daVlyz8F"
      },
      "execution_count": 24,
      "outputs": []
    },
    {
      "cell_type": "code",
      "source": [
        "train=train[~(train['hypothesis_seq_len']==0)]"
      ],
      "metadata": {
        "id": "8AxyiFfQ2Rp_"
      },
      "execution_count": 25,
      "outputs": []
    },
    {
      "cell_type": "code",
      "source": [
        "valid[(valid['premise_seq_len']==0)]"
      ],
      "metadata": {
        "colab": {
          "base_uri": "https://localhost:8080/",
          "height": 49
        },
        "id": "IvRN_x87Dxdl",
        "outputId": "d398736e-e4e7-4e96-d35b-0ff2d64e452a"
      },
      "execution_count": 26,
      "outputs": [
        {
          "output_type": "execute_result",
          "data": {
            "text/plain": [
              "Empty DataFrame\n",
              "Columns: [premise, hypothesis, label, clean_premise, clean_hypothesis, premise_seq_len, hypothesis_seq_len]\n",
              "Index: []"
            ],
            "text/html": [
              "\n",
              "  <div id=\"df-df34288f-c50e-4701-a8a5-444a95bf9c8c\">\n",
              "    <div class=\"colab-df-container\">\n",
              "      <div>\n",
              "<style scoped>\n",
              "    .dataframe tbody tr th:only-of-type {\n",
              "        vertical-align: middle;\n",
              "    }\n",
              "\n",
              "    .dataframe tbody tr th {\n",
              "        vertical-align: top;\n",
              "    }\n",
              "\n",
              "    .dataframe thead th {\n",
              "        text-align: right;\n",
              "    }\n",
              "</style>\n",
              "<table border=\"1\" class=\"dataframe\">\n",
              "  <thead>\n",
              "    <tr style=\"text-align: right;\">\n",
              "      <th></th>\n",
              "      <th>premise</th>\n",
              "      <th>hypothesis</th>\n",
              "      <th>label</th>\n",
              "      <th>clean_premise</th>\n",
              "      <th>clean_hypothesis</th>\n",
              "      <th>premise_seq_len</th>\n",
              "      <th>hypothesis_seq_len</th>\n",
              "    </tr>\n",
              "  </thead>\n",
              "  <tbody>\n",
              "  </tbody>\n",
              "</table>\n",
              "</div>\n",
              "      <button class=\"colab-df-convert\" onclick=\"convertToInteractive('df-df34288f-c50e-4701-a8a5-444a95bf9c8c')\"\n",
              "              title=\"Convert this dataframe to an interactive table.\"\n",
              "              style=\"display:none;\">\n",
              "        \n",
              "  <svg xmlns=\"http://www.w3.org/2000/svg\" height=\"24px\"viewBox=\"0 0 24 24\"\n",
              "       width=\"24px\">\n",
              "    <path d=\"M0 0h24v24H0V0z\" fill=\"none\"/>\n",
              "    <path d=\"M18.56 5.44l.94 2.06.94-2.06 2.06-.94-2.06-.94-.94-2.06-.94 2.06-2.06.94zm-11 1L8.5 8.5l.94-2.06 2.06-.94-2.06-.94L8.5 2.5l-.94 2.06-2.06.94zm10 10l.94 2.06.94-2.06 2.06-.94-2.06-.94-.94-2.06-.94 2.06-2.06.94z\"/><path d=\"M17.41 7.96l-1.37-1.37c-.4-.4-.92-.59-1.43-.59-.52 0-1.04.2-1.43.59L10.3 9.45l-7.72 7.72c-.78.78-.78 2.05 0 2.83L4 21.41c.39.39.9.59 1.41.59.51 0 1.02-.2 1.41-.59l7.78-7.78 2.81-2.81c.8-.78.8-2.07 0-2.86zM5.41 20L4 18.59l7.72-7.72 1.47 1.35L5.41 20z\"/>\n",
              "  </svg>\n",
              "      </button>\n",
              "      \n",
              "  <style>\n",
              "    .colab-df-container {\n",
              "      display:flex;\n",
              "      flex-wrap:wrap;\n",
              "      gap: 12px;\n",
              "    }\n",
              "\n",
              "    .colab-df-convert {\n",
              "      background-color: #E8F0FE;\n",
              "      border: none;\n",
              "      border-radius: 50%;\n",
              "      cursor: pointer;\n",
              "      display: none;\n",
              "      fill: #1967D2;\n",
              "      height: 32px;\n",
              "      padding: 0 0 0 0;\n",
              "      width: 32px;\n",
              "    }\n",
              "\n",
              "    .colab-df-convert:hover {\n",
              "      background-color: #E2EBFA;\n",
              "      box-shadow: 0px 1px 2px rgba(60, 64, 67, 0.3), 0px 1px 3px 1px rgba(60, 64, 67, 0.15);\n",
              "      fill: #174EA6;\n",
              "    }\n",
              "\n",
              "    [theme=dark] .colab-df-convert {\n",
              "      background-color: #3B4455;\n",
              "      fill: #D2E3FC;\n",
              "    }\n",
              "\n",
              "    [theme=dark] .colab-df-convert:hover {\n",
              "      background-color: #434B5C;\n",
              "      box-shadow: 0px 1px 3px 1px rgba(0, 0, 0, 0.15);\n",
              "      filter: drop-shadow(0px 1px 2px rgba(0, 0, 0, 0.3));\n",
              "      fill: #FFFFFF;\n",
              "    }\n",
              "  </style>\n",
              "\n",
              "      <script>\n",
              "        const buttonEl =\n",
              "          document.querySelector('#df-df34288f-c50e-4701-a8a5-444a95bf9c8c button.colab-df-convert');\n",
              "        buttonEl.style.display =\n",
              "          google.colab.kernel.accessAllowed ? 'block' : 'none';\n",
              "\n",
              "        async function convertToInteractive(key) {\n",
              "          const element = document.querySelector('#df-df34288f-c50e-4701-a8a5-444a95bf9c8c');\n",
              "          const dataTable =\n",
              "            await google.colab.kernel.invokeFunction('convertToInteractive',\n",
              "                                                     [key], {});\n",
              "          if (!dataTable) return;\n",
              "\n",
              "          const docLinkHtml = 'Like what you see? Visit the ' +\n",
              "            '<a target=\"_blank\" href=https://colab.research.google.com/notebooks/data_table.ipynb>data table notebook</a>'\n",
              "            + ' to learn more about interactive tables.';\n",
              "          element.innerHTML = '';\n",
              "          dataTable['output_type'] = 'display_data';\n",
              "          await google.colab.output.renderOutput(dataTable, element);\n",
              "          const docLink = document.createElement('div');\n",
              "          docLink.innerHTML = docLinkHtml;\n",
              "          element.appendChild(docLink);\n",
              "        }\n",
              "      </script>\n",
              "    </div>\n",
              "  </div>\n",
              "  "
            ]
          },
          "metadata": {},
          "execution_count": 26
        }
      ]
    },
    {
      "cell_type": "code",
      "source": [
        "valid[(valid['hypothesis_seq_len']==0)]"
      ],
      "metadata": {
        "colab": {
          "base_uri": "https://localhost:8080/",
          "height": 49
        },
        "id": "2xoR7Yh6D2Lf",
        "outputId": "0d9d0b49-bff2-40ce-c2d9-98cc4b069c7d"
      },
      "execution_count": 27,
      "outputs": [
        {
          "output_type": "execute_result",
          "data": {
            "text/plain": [
              "Empty DataFrame\n",
              "Columns: [premise, hypothesis, label, clean_premise, clean_hypothesis, premise_seq_len, hypothesis_seq_len]\n",
              "Index: []"
            ],
            "text/html": [
              "\n",
              "  <div id=\"df-09e8a841-86e4-406f-a1df-cd3c6ca64487\">\n",
              "    <div class=\"colab-df-container\">\n",
              "      <div>\n",
              "<style scoped>\n",
              "    .dataframe tbody tr th:only-of-type {\n",
              "        vertical-align: middle;\n",
              "    }\n",
              "\n",
              "    .dataframe tbody tr th {\n",
              "        vertical-align: top;\n",
              "    }\n",
              "\n",
              "    .dataframe thead th {\n",
              "        text-align: right;\n",
              "    }\n",
              "</style>\n",
              "<table border=\"1\" class=\"dataframe\">\n",
              "  <thead>\n",
              "    <tr style=\"text-align: right;\">\n",
              "      <th></th>\n",
              "      <th>premise</th>\n",
              "      <th>hypothesis</th>\n",
              "      <th>label</th>\n",
              "      <th>clean_premise</th>\n",
              "      <th>clean_hypothesis</th>\n",
              "      <th>premise_seq_len</th>\n",
              "      <th>hypothesis_seq_len</th>\n",
              "    </tr>\n",
              "  </thead>\n",
              "  <tbody>\n",
              "  </tbody>\n",
              "</table>\n",
              "</div>\n",
              "      <button class=\"colab-df-convert\" onclick=\"convertToInteractive('df-09e8a841-86e4-406f-a1df-cd3c6ca64487')\"\n",
              "              title=\"Convert this dataframe to an interactive table.\"\n",
              "              style=\"display:none;\">\n",
              "        \n",
              "  <svg xmlns=\"http://www.w3.org/2000/svg\" height=\"24px\"viewBox=\"0 0 24 24\"\n",
              "       width=\"24px\">\n",
              "    <path d=\"M0 0h24v24H0V0z\" fill=\"none\"/>\n",
              "    <path d=\"M18.56 5.44l.94 2.06.94-2.06 2.06-.94-2.06-.94-.94-2.06-.94 2.06-2.06.94zm-11 1L8.5 8.5l.94-2.06 2.06-.94-2.06-.94L8.5 2.5l-.94 2.06-2.06.94zm10 10l.94 2.06.94-2.06 2.06-.94-2.06-.94-.94-2.06-.94 2.06-2.06.94z\"/><path d=\"M17.41 7.96l-1.37-1.37c-.4-.4-.92-.59-1.43-.59-.52 0-1.04.2-1.43.59L10.3 9.45l-7.72 7.72c-.78.78-.78 2.05 0 2.83L4 21.41c.39.39.9.59 1.41.59.51 0 1.02-.2 1.41-.59l7.78-7.78 2.81-2.81c.8-.78.8-2.07 0-2.86zM5.41 20L4 18.59l7.72-7.72 1.47 1.35L5.41 20z\"/>\n",
              "  </svg>\n",
              "      </button>\n",
              "      \n",
              "  <style>\n",
              "    .colab-df-container {\n",
              "      display:flex;\n",
              "      flex-wrap:wrap;\n",
              "      gap: 12px;\n",
              "    }\n",
              "\n",
              "    .colab-df-convert {\n",
              "      background-color: #E8F0FE;\n",
              "      border: none;\n",
              "      border-radius: 50%;\n",
              "      cursor: pointer;\n",
              "      display: none;\n",
              "      fill: #1967D2;\n",
              "      height: 32px;\n",
              "      padding: 0 0 0 0;\n",
              "      width: 32px;\n",
              "    }\n",
              "\n",
              "    .colab-df-convert:hover {\n",
              "      background-color: #E2EBFA;\n",
              "      box-shadow: 0px 1px 2px rgba(60, 64, 67, 0.3), 0px 1px 3px 1px rgba(60, 64, 67, 0.15);\n",
              "      fill: #174EA6;\n",
              "    }\n",
              "\n",
              "    [theme=dark] .colab-df-convert {\n",
              "      background-color: #3B4455;\n",
              "      fill: #D2E3FC;\n",
              "    }\n",
              "\n",
              "    [theme=dark] .colab-df-convert:hover {\n",
              "      background-color: #434B5C;\n",
              "      box-shadow: 0px 1px 3px 1px rgba(0, 0, 0, 0.15);\n",
              "      filter: drop-shadow(0px 1px 2px rgba(0, 0, 0, 0.3));\n",
              "      fill: #FFFFFF;\n",
              "    }\n",
              "  </style>\n",
              "\n",
              "      <script>\n",
              "        const buttonEl =\n",
              "          document.querySelector('#df-09e8a841-86e4-406f-a1df-cd3c6ca64487 button.colab-df-convert');\n",
              "        buttonEl.style.display =\n",
              "          google.colab.kernel.accessAllowed ? 'block' : 'none';\n",
              "\n",
              "        async function convertToInteractive(key) {\n",
              "          const element = document.querySelector('#df-09e8a841-86e4-406f-a1df-cd3c6ca64487');\n",
              "          const dataTable =\n",
              "            await google.colab.kernel.invokeFunction('convertToInteractive',\n",
              "                                                     [key], {});\n",
              "          if (!dataTable) return;\n",
              "\n",
              "          const docLinkHtml = 'Like what you see? Visit the ' +\n",
              "            '<a target=\"_blank\" href=https://colab.research.google.com/notebooks/data_table.ipynb>data table notebook</a>'\n",
              "            + ' to learn more about interactive tables.';\n",
              "          element.innerHTML = '';\n",
              "          dataTable['output_type'] = 'display_data';\n",
              "          await google.colab.output.renderOutput(dataTable, element);\n",
              "          const docLink = document.createElement('div');\n",
              "          docLink.innerHTML = docLinkHtml;\n",
              "          element.appendChild(docLink);\n",
              "        }\n",
              "      </script>\n",
              "    </div>\n",
              "  </div>\n",
              "  "
            ]
          },
          "metadata": {},
          "execution_count": 27
        }
      ]
    },
    {
      "cell_type": "code",
      "source": [
        "samples1=train['clean_premise'].tolist()[:100]\n",
        "samples2=train['clean_hypothesis'].tolist()[:100]\n",
        "for i in range(100):\n",
        "  print(samples1[i])\n",
        "  print(samples2[i])\n",
        "  print('\\n')\n",
        "  "
      ],
      "metadata": {
        "colab": {
          "base_uri": "https://localhost:8080/"
        },
        "id": "G5cr7GXdzG0E",
        "outputId": "313fcbd2-98d4-4fd6-daf9-9e7fa694b5ec"
      },
      "execution_count": 28,
      "outputs": [
        {
          "output_type": "stream",
          "name": "stdout",
          "text": [
            "hum đó là thú vị\n",
            "điều đó rất thú vị\n",
            "\n",
            "\n",
            "lao động lao động để cài đặt cũng được cung cấp\n",
            "vật liệu ít tốn kém hơn là lao động lao động\n",
            "\n",
            "\n",
            "rất nhiều công việc làm việc của ngày hôm nay sẽ vẫn được nhận ra bởi những chủ sở hữu trang trại đầu tiên\n",
            "tất cả các trang trại đều được sở hữu bởi gia đình của những chủ sở hữu trang trại đầu tiên\n",
            "\n",
            "\n",
            "có thể anh là người hữu dụng và họ có một chút gợi ý để bắt đầu một sự ồn ào chỉ để cho thấy không có luật pháp nào phù hợp ở đấy\n",
            "nơi này không có quy tắc chính thức và họ biết điều đó\n",
            "\n",
            "\n",
            "nó được đề xuất để cung cấp một preconditioned deionized nguồn cấp nước bằng cách sử dụng một culligana continentala hoặc hệ thống tương đương trước hệ thống milliporea để kéo dài cuộc sống của các hộp milliporea xem phần 5 cơ sở thiết bị và cung cấp không\n",
            "một culligana continentala hoặc hệ thống tương tự có thể kéo dài cuộc sống của milliporea đạn\n",
            "\n",
            "\n",
            "cung điện đã được khôi phục tuyệt vời kể từ khi chiến tranh thế giới tôi với sự giúp đỡ của những đóng góp riêng đặc biệt nhất là từ john d rockefeller\n",
            "tôi là john d ngân sách của rockefeller đã được sử dụng để phục hồi cung điện\n",
            "\n",
            "\n",
            "như cô ấy đã nghĩ rằng nó đã có một chút ajar và những giọng nói trong đó đã được nghe rõ ràng\n",
            "cô ấy không được phép nghe những giọng nói ở bên trong\n",
            "\n",
            "\n",
            "ngân sách dài hạn outlook\n",
            "đối diện với ngân sách ngắn hạn\n",
            "\n",
            "\n",
            "ố ồ bắc được nc bang the wildcats\n",
            "đội bóng rổ yêu thích của tôi là những người nc tiểu bang wildcats\n",
            "\n",
            "\n",
            "tội phạm bạo lực đang tăng lên từ những gì tôi đã thấy và um dân số nhà tù của chúng tôi đã tăng lên tôi sẽ nói rằng kinh tế của chúng tôi cũng thực sự là nó không phải là những gì nó đã được sử dụng trong thập niên hoặc thậm chí cả năm từ lịch sử từ những gì tôi đã đọc và\n",
            "tôi đã để ý rằng nền kinh tế đang phát triển một lần nữa và tội phạm là ở một thời điểm thấp\n",
            "\n",
            "\n",
            "hai xu đã lắc đầu cô ấy\n",
            "hai xu đã di chuyển đầu cô ấy\n",
            "\n",
            "\n",
            "2 tỷ trong lợi ích của hơn 1 3 triệu người nhận\n",
            "một vài tỷ trong lợi ích cho công chúng để làm bất cứ điều gì họ muốn với\n",
            "\n",
            "\n",
            "không nơi nào khác trên trái đất có những thứ khác giống như di sản kiến trúc của thung lũng một sự thật nhận ra của unesco trong tuyên bố rất nhiều của thung lũng một trang web di sản văn hóa thế giới để được ấp ủ và được bảo vệ cho tất cả nhân loại\n",
            "thung lũng lần đầu tiên được chạm vào hơn sáu trăm năm trước\n",
            "\n",
            "\n",
            "các bạn sẽ thấy mary stuart mary nữ hoàng của scotland và bonnie prince charlie cũng như bản thân mình và cũng như betty burke sự cải trang của ông ta để thoát khỏi lực lượng tiếng anh\n",
            "cải trang của bonnie hoàng tử charlie không đủ để giúp anh ta trốn thoát\n",
            "\n",
            "\n",
            "rượu và các loại thuốc khác của bệnh nhân bị tổn thương bệnh viện giao thức tiến bộ điều trị gợi ý không\n",
            "đó là một giao thức đối xử với bệnh nhân bị tổn thương với sự liên quan đến rượu và ma túy\n",
            "\n",
            "\n",
            "đó là những gì đã được tạo ra trong họ\n",
            "vấn đề là chó\n",
            "\n",
            "\n",
            "cám ơn thưa ngài\n",
            "không cám ơn\n",
            "\n",
            "\n",
            "một trong những luật sư tư nhân đề nghị cô ấy trợ giúp thứ tư là edwina schleider những người thực hành pháp luật thông thường liên quan đến việc đại diện cho các chủ nhà trong\n",
            "không có luật sư nào được đề nghị giúp đỡ\n",
            "\n",
            "\n",
            "nhưng ngay cả sau đó cái equivocate\n",
            "the thernstroms equivocate bởi vì họ thất bại để nhìn vào tình hình thật kỹ\n",
            "\n",
            "\n",
            "thánh thần ơi tôi là người hoài niệm cho những người già ở miền nam như công lý kennedy\n",
            "tôi không thể nhớ lại về miền nam cũ\n",
            "\n",
            "\n",
            "quy tắc này được nhận thức với các thay đổi nhỏ nonsubstantive thay đổi một quy tắc tạm thời có liên quan đến việc bù đắp cho người khuyết tật hoặc cái chết kết quả từ va nhập viện y tế hoặc phẫu thuật hoặc kiểm tra\n",
            "quy tắc này đặt bù cho cái chết theo một va hospitlazation\n",
            "\n",
            "\n",
            "sự quan tâm căng thẳng của những người được biết đến với những gì được biết đến vào thời điểm như là trường hợp kiểu dáng bây giờ có phần giảm bớt\n",
            "chưa bao giờ có bất kỳ mối quan tâm công khai nào trong trường hợp kiểu dáng bởi vì cộng đồng đã nhìn thấy loại này trước đó\n",
            "\n",
            "\n",
            "là một trong những cơ quan dịch vụ của con người lớn nhất trên đất nước show thuê hơn 15 000 và có ngân sách hàng năm của 3\n",
            "show đang tích cực tuyển dụng thêm nhân viên\n",
            "\n",
            "\n",
            "thông thạo về tiếng tây ban nha anh ta đã lập một thực hành ở bethlehem và thu hút các tổ chức mỹ phẩm ở khu vực cũ của trường đại học lehigh\n",
            "anh ta đã thông thạo tiếng tây ban nha\n",
            "\n",
            "\n",
            "kết quả kết quả của những người đã được slawek nhận được đơn thuần đến số 67 trong danh sách những người giàu nhất\n",
            "sau khi anh ta bán công ty của anh ta anh ta đã trở thành số 67 trong danh sách\n",
            "\n",
            "\n",
            "vào thời điểm đó cuộc cách mạng công nghiệp bị phá hủy tuy nhiên một nhóm tác giả nhỏ nhưng có ảnh hưởng của các nhà văn và các nhà thơ đã định cư trong khu vực và bắt đầu viết về những người đẹp tự nhiên và lối sống của nó\n",
            "thời gian mà nó chiếm được cuộc cách mạng công nghiệp để có được một nơi nào đó bị tàn phá như vùng đất đã được giải quyết rất kém\n",
            "\n",
            "\n",
            "nhật ký phố wall điều hành một tính năng trang đầu cho thấy các công ty mới nhất đang suy nghĩ về tình yêu của văn phòng\n",
            "các công ty đang nghĩ về tình trạng tình yêu văn phòng đang ở trên trang đầu của nhật ký phố wall\n",
            "\n",
            "\n",
            "nó đang ở trong tòa nhà lớn nhất của hồng kông với các biểu tượng mô tả lịch sử trà từ thời kỳ chiến tranh 475 221 trước công nguyên đến hiện tại\n",
            "ở tòa nhà lớn nhất của hồng kông không có vật liệu nào về trà cả\n",
            "\n",
            "\n",
            "nếu anh ta thiếu trí tưởng tượng anh ta sẽ cần một người em gái lớn tuổi của mình cộng với một kính tiềm vọng tự làm tập hợp tại một cuộc họp hướng đạo sinh trong khi anh ta không bị người thầy hướng dẫn cha o finian\n",
            "ông ấy thường dành hơn nửa ngày với cha o finian\n",
            "\n",
            "\n",
            "trong newsday james wood optimistically đề xuất một cảm giác đằng sau cái một người già thực tế modernist mài đi xa háo hức để notate thực tế mặc dù theo cách funky\n",
            "james wood rất phấn khích về dự án mới bởi vì anh ta hâm mộ công việc của anh ta\n",
            "\n",
            "\n",
            "kẻ cướp sẽ làm khi nó trả tiền anse đã bắn ra grimly\n",
            "tội phạm không bao giờ làm được bất kể khoản thanh toán tiềm năng nào\n",
            "\n",
            "\n",
            "phần tư của các công ty cũ dọc theo đường rue haute rất đáng để khám phá\n",
            "căn phòng của ông già không đáng để ghé thăm\n",
            "\n",
            "\n",
            "ồ chúc một ngày tốt lành tạm biệt tạm biệt\n",
            "hãy tự lo cho mình đi\n",
            "\n",
            "\n",
            "món trứng chiên khoai tây của tây ban nha bánh mì bánh mì tortilla làm một bữa ăn ngân sách tuyệt vời khác\n",
            "món trứng chiên khoai tây của tây ban nha là một món ưa thích của nhiều khách du lịch\n",
            "\n",
            "\n",
            "ban đầu được biết đến với tư cách là viện hoàng gia vào những năm 1830 phòng trưng bày quốc gia được hưởng lợi từ một số bequests không ít nhất là của công tước của sutherland năm 1946\n",
            "công tước xứ sutherland đã để lại một người thừa kế cho phòng trưng bày quốc gia năm 1946\n",
            "\n",
            "\n",
            "một số cảm xúc bạo lực có vẻ là điều khiển anh ta\n",
            "một cảm xúc bạo lực đã đánh bại anh ta\n",
            "\n",
            "\n",
            "sự xuất hiện của venice đã thay đổi gia tài của thị trấn\n",
            "mọi thứ trở nên tốt đẹp hơn cho thị trấn khi người venice đến\n",
            "\n",
            "\n",
            "phải tôi ước mình có thể làm được điều đó\n",
            "tôi ghen tị đấy\n",
            "\n",
            "\n",
            "đối với jahangir nếu ý tưởng hồi giáo của thiên đường có bất cứ ý nghĩa gì nó đã ở đây giữa những vùng đất lảo đảo hồ bơi yên tĩnh thác nước và cây cối nhìn ra phía trên hồ chống lại khung cảnh của dãy himalayas\n",
            "không may là không có quan điểm của himalayas\n",
            "\n",
            "\n",
            "còn ai tốt hơn để giúp một ứng cử viên rút ra những bài học nặng nề từ lịch sử cá nhân của mình để dạy anh ta nói với cử tri rằng thành công của họ phụ thuộc vào chính mình\n",
            "ai là người tốt hơn để giúp một ứng cử viên học một bài học\n",
            "\n",
            "\n",
            "đó là tài sản của redeploying để quảng cáo giá cổ phiếu\n",
            "đó là các tài sản redeploying chỉ để làm cho giá cổ phiếu đi dowb\n",
            "\n",
            "\n",
            "nước hoa pháp tốt nhất các mặt hàng lụa đồ sứ mùi tinh thể và rượu vang cổ điển\n",
            "rượu pháp sang trọng nhất mùi hương quần áo lụa và đồ sứ\n",
            "\n",
            "\n",
            "vâng tôi không biết là tôi biết rằng mặc dù tôi thậm chí tất cả các sản phẩm dầu mỏ mặc dù quá khủng khiếp cho các bàn nước của bạn bạn biết rằng họ thực sự làm ô nhiễm nhanh chóng và\n",
            "các sản phẩm dầu khí không làm hại bàn nước nhưng họ là độc hại khi đốt cháy\n",
            "\n",
            "\n",
            "những nơi nhanh chóng mà bạn đã phải mua một số lớn bạn biết bởi vì nó có nghĩa là một cái gì đó cho đãng của bạn cùng một lý do tại sao bạn phải chạy một chiếc xe tải lớn với bốn bánh xe bạn biết với bốn bánh xe lái xe\n",
            "hầu hết đàn ông không quan tâm đến máy cắt mà họ sử dụng miễn là nó sẽ được công việc thực hiện\n",
            "\n",
            "\n",
            "có phải các kỹ thuật của việc thu thập dữ liệu và xử lý dữ liệu được mô tả không\n",
            "không ai yêu cầu bất kỳ câu hỏi nào liên quan đến việc xử lý dữ liệu\n",
            "\n",
            "\n",
            "tình hình thực phẩm cũng hơi đáng thất vọng\n",
            "thức ăn rất tuyệt\n",
            "\n",
            "\n",
            "cái đó có hợp với anh không\n",
            "anh không thấy là anh không cần thiết sao\n",
            "\n",
            "\n",
            "tối thiểu chi phí tiếp cận để điều hành hệ thống điện điện qua một thời gian dành cho thời gian dành cho các hạn chế cụ thể ví dụ\n",
            "ít nhất chi phí tiếp cận để điều hành các đối tượng điện năng lượng điện cho các hạn chế cụ thế\n",
            "\n",
            "\n",
            "premills cơ bản tin rằng kẻ chống kitô sẽ là một kẻ phản bội vô duyên và vĩ đại người sẽ lừa israel đi theo hướng dẫn của hắn và sau đó sẽ biến người dân do thái tiêu diệt chứng\n",
            "premills nghĩ rằng kẻ chống kitô sẽ không giao tiếp tốt với mọi người\n",
            "\n",
            "\n",
            "và um có người nhưng bạn biết chúng tôi như trong nhà thờ của chúng tôi nó là bạn được tự do để làm điều đó hoặc không bạn được khuyến khích để làm điều đó bởi vì um bạn biết nó giúp bạn và\n",
            "nhà thờ của chúng tôi thực sự tiến bộ và hoàn toàn chào đón những ý tưởng mới\n",
            "\n",
            "\n",
            "xung quanh hòn đảo lesvos cung cấp những lần hiển thị tuyệt vời của cuộc sống làng hy lạp\n",
            "ngày nay tất cả những ngôi làng của lesvos đều trống rỗng và thất bại\n",
            "\n",
            "\n",
            "cư trú tuyệt vời của thủ tướng hetel matignon tại 57 rue de varenne là một chuyến đi ngắn từ hội đồng quốc gia\n",
            "thủ tướng sống trong một ngôi nhà nhỏ bên ngoài thành phố\n",
            "\n",
            "\n",
            "tôi rất thông minh\n",
            "tôi thông minh đấy\n",
            "\n",
            "\n",
            "nhưng tôi có hoặc là alabama hoặc hank williams junior\n",
            "không phải hank williams junior hay alabama\n",
            "\n",
            "\n",
            "tất cả các quyền làm cho bạn làm vườn làm việc\n",
            "vì vậy bạn không thể làm vườn làm việc\n",
            "\n",
            "\n",
            "nếu madrid chơi bất kỳ vai trò nào trong những sự kiện quan trọng này thì không có hồ sơ nào của nó còn lại\n",
            "madrid đã tham gia vào sự kiện này\n",
            "\n",
            "\n",
            "tôi đã được gắn thẻ\n",
            "tôi đã không được gắn thẻ bởi bất kỳ ai\n",
            "\n",
            "\n",
            "nó có thể đắt tiền chắc chắn hơn là chi phí của một bữa ăn chính thống nhưng hãy cố gắng cống hiến ít nhất một buổi tối cho nó\n",
            "không phải cả hai cùng với nó mặc dù nó rẻ hơn một bữa ăn chính thống\n",
            "\n",
            "\n",
            "họ là những bức ảnh làm việc từ louvre paris\n",
            "họ là những hình ảnh từ paris\n",
            "\n",
            "\n",
            "lsc đã cho indiana một hỗ trợ kỹ thuật grant để thuê một tư vấn viên để hỗ trợ các nỗ lực lên kế hoạch\n",
            "lsc không bao giờ đưa bất cứ thứ gì cho indiana\n",
            "\n",
            "\n",
            "đặc biệt nó chứa 4 mục tiêu chung và 11 thực tiễn mà chúng tôi xác định là quan trọng để xây dựng tổ chức tài chính worldclass\n",
            "các mục tiêu chung và thực hành quan trọng để xây dựng một tổ chức tài chính worldclass đã được chứa trong đó\n",
            "\n",
            "\n",
            "những cuộc tranh luận của harvard sociobiologist rằng tất cả các hiện tượng nghệ thuật kinh tế khoa học có thể được hiểu bằng cách nghiên cứu các đường dây thần kinh của não\n",
            "một số hiện tượng không liên quan đến các đường dây thần kinh\n",
            "\n",
            "\n",
            "sự lựa chọn của các kỷ niệm du lịch là thú vị đủ nhưng không thể so sánh được với mercato san lorenzo chỉ ở phía bắc của duomo gần nhà thờ của cùng một tên\n",
            "lựa chọn kỷ niệm khách du lịch là điều thú vị nhất ở đấy\n",
            "\n",
            "\n",
            "mục nhập độ tuổi bình thường actuarial phương pháp một phương pháp dưới đây là giá trị giới thiệu của mỗi nhân viên được phân bổ trên một mức độ cơ sở trên thu nhập hoặc dịch vụ của nhân viên giữa mục nhập độ tuổi và cho rằng lối thoát độ tuổi\n",
            "mục nhập độ tuổi bình thường actuarial phương pháp đưa vào tài khoản mục nhập độ tuổi của nhân viên\n",
            "\n",
            "\n",
            "đó là những gì tôi đang tìm kiếm bây giờ đó là lý do tại sao tôi chỉ cố gắng nói chuyện mà không cần phải suy nghĩ về những gì tôi đang nói và cố gắng để xem xét điều này\n",
            "đó không phải là điều tôi đang tìm kiếm\n",
            "\n",
            "\n",
            "các đối tác idaho cho dự án công lý đã được đảm bảo với hơn 35 000 từ các công ty luật luật sư tập đoàn và cá nhân\n",
            "các đối tác idaho cho dự án công lý được tặng 35 000 đô la\n",
            "\n",
            "\n",
            "và thậm chí cả một số đồng xu hiếm có mà rất nhiều người chưa bao giờ nhìn thấy như um như hai xu rách\n",
            "rất nhiều người đã không quan hệ với hai xu\n",
            "\n",
            "\n",
            "tôi nói kết thúc của tin nhắn đó là gì\n",
            "kể lại toàn bộ tin nhắn ngay từ đầu\n",
            "\n",
            "\n",
            "không phải là sở thích của tướng quân\n",
            "hàng không chung không phải là sở thích\n",
            "\n",
            "\n",
            "quy tắc cuối cùng được coi là một hành động quan trọng lớn lao động dưới thứ tự hành chính\n",
            "quy tắc cuối cùng đã được trả lại rất lớn và nó cho thấy sự cân bằng tích cực trong việc cải cách\n",
            "\n",
            "\n",
            "cứng rắn natalia nói là từ chối\n",
            "natalia nói khó khăn quá\n",
            "\n",
            "\n",
            "nhưng tôi chỉ là một con bé nhỏ của việc làm vậy\n",
            "tôi đã rất cẩn thận khi làm vậy\n",
            "\n",
            "\n",
            "chiến tranh độc lập\n",
            "những vấn đề sống sót từ cuộc chiến đầu tiên của độc lập là những gì đã dẫn đến xung đột thứ hai để nổ tung\n",
            "\n",
            "\n",
            "vụ bắt giữ và michael là sự thừa nhận về sự đồng tính của anh ta đã cho toàn cầu cơ hội để in những bức ảnh đó từ năm ngoái của michael cruising cùng một công viên\n",
            "vụ bắt giữ và michael là sự thừa nhận về sự đồng tính của anh ta đã cho toàn cầu cơ hội để in những bức ảnh đó từ năm ngoái của michael cruising cùng một công viên trái đất có nghĩa vụ đạo đức để xuất bản hành động của michael bởi vì anh ta là người đồng tính\n",
            "\n",
            "\n",
            "như thường lệ new orleans là trong số cuối cùng để học được điều này nhờ sự kín đáo của thương lượng ngoại giao và các truyền thông chậm của tuổi tác\n",
            "new orleans là nơi đầu tiên để học về điều này\n",
            "\n",
            "\n",
            "con bò ngủ mê sảng giọng nói đầu tiên của muttered\n",
            "giọng nói đầu tiên không muốn có ý kiến của họ để được nghe\n",
            "\n",
            "\n",
            "chúng ta không thể nghỉ ngơi trước được sao\n",
            "chúng ta không thể nghỉ ngơi trước khi tiếp tục được sao\n",
            "\n",
            "\n",
            "ừ chúng ta sẽ lấy tiền và đi ra ngoài và tìm một con ngựa đẹp cho himy ba tư\n",
            "chúng tôi đang định sử dụng số tiền đó để tìm một con ngựa đẹp\n",
            "\n",
            "\n",
            "tự hào về những ám ảnh yêu thích của william wordsworth cũng như một con đường la mã cũ bây giờ là một đường đi bộ rất phổ biến phía đông bắc là một đất nước đi bộ ngoạn mục địa hình truyền hình giữa các vùng đất cao và đỉnh núi và những vùng đất thấp hơn xung quanh penrith và những thung lũng eden\n",
            "thung lũng penrith là vị trí bắt đầu cho rất nhiều người có thể là một nhà thám hiểm\n",
            "\n",
            "\n",
            "họ đang hiển thị ơ sống và để chết tại thời điểm này và đó là sự xuất hiện đầu tiên của roger moore như 007\n",
            "roger moore đầu tiên xuất hiện như james bond trong cuộc sống và để chết\n",
            "\n",
            "\n",
            "vâng nhưng tuyết cũng giúp bạn biết và nó là chúng tôi đã có như một bộ sâu tuyết trong này trong trường mở này và vì vậy nó hơi khó chạy nhưng khi bạn bị đánh và bạn ngã xuống bạn không thực sự cảm thấy nó\n",
            "tôi bị thương khi rơi xuống tuyết vài lần\n",
            "\n",
            "\n",
            "đúng vậy nó có lợi cho công ty và nhân viên\n",
            "công ty và nhân viên được hưởng lợi tương tự trong vụ án này\n",
            "\n",
            "\n",
            "internet chắc chắn sẽ là một phần quan trọng của nền kinh tế của thế kỷ tiếp theo\n",
            "một phần quan trọng của nền kinh tế của thế kỷ tiếp theo sẽ là lò vi sóng\n",
            "\n",
            "\n",
            "những người này đã được chuẩn bị cho tất cả 50 bang ở cấp độ hạt nhân cho đường cao tốc di động và các nguồn không đường\n",
            "quốc gia 48 quốc gia đã chuẩn bị an toàn quốc gia\n",
            "\n",
            "\n",
            "trung tâm khách du lịch whinlatter là một trung tâm cho nhiều đường đi và đi bộ\n",
            "khu vực này hoàn toàn hoang dã không có dấu hiệu của nền văn minh\n",
            "\n",
            "\n",
            "khoảng 172 triệu người trên khắp thế giới sẽ có internet truy cập vào năm 2000 và bởi 2003 và số đó là mong đợi để tăng gấp đôi\n",
            "172 triệu người đã có internet\n",
            "\n",
            "\n",
            "ừ đúng rồi tôi thích làm điều đó một chút quá\n",
            "tôi ghét điều đó rất nhiều\n",
            "\n",
            "\n",
            "không ai biết anh ta cảm thấy thế nào\n",
            "không ai biết anh ta cảm thấy thế nào sau khi bị sa thải khỏi công việc của anh ta\n",
            "\n",
            "\n",
            "cổ điển nhưng sành điệu hơn là ốc đảo của ai câu chuyện là gì sáng vinh quang\n",
            "oasis của ai câu chuyện là gì buổi sáng vinh quang có vẻ sành điệu hơn nhưng cũng giống như cổ điển\n",
            "\n",
            "\n",
            "farmworkers sợ hãi trả đũa bởi chủ nhân nếu họ phàn nàn\n",
            "farmworkers không cảm thấy họ có thể an toàn nói chuyện với chủ nhân của họ về liên quan đến\n",
            "\n",
            "\n",
            "à đây là những thời điểm khủng khiếp\n",
            "đây là những thời điểm tuyệt vời nhất\n",
            "\n",
            "\n",
            "một câu chuyện thư giãn về vụ giết người của người mỹ về việc vợ của anh ta đã làm lộ mặt tối của công nghiệp cô dâu\n",
            "một người mỹ đã giết cô dâu đơn đặt hàng của anh ta\n",
            "\n",
            "\n",
            "vâng họ sẽ đặt trong giờ giờ một tuần tôi chắc chắn vì họ phải học lớp học và chuẩn bị sẵn sàng cho lớp học và bạn biết và họ đang được trả tiền chắc chắn là một nửa những gì hầu hết mọi người đều được trả tiền\n",
            "có lẽ họ đã được trả một nửa mức lương trung bình\n",
            "\n",
            "\n",
            "ai đã từng nghe nói về một con chó nhỏ tên là fluffy\n",
            "fluffy là một con chó xù pháp rất xinh đẹp\n",
            "\n",
            "\n",
            "phần còn lại của bang sẽ được chia thành khu vực của đến quận mỗi người\n",
            "mỗi khu vực sẽ có ít hơn tám hạt\n",
            "\n",
            "\n",
            "trong chương trình hiển thị này các thay đổi chính sách được phân bổ giống nhau giữa các doanh thu giảm giá và chi tiêu tăng\n",
            "chi tiêu tăng này có nghĩa là tuyển dụng nhiều công nhân hơn\n",
            "\n",
            "\n",
            "frank đã được gọi cho tôi bởi người đã gọi cho tôi bởi một người khác\n",
            "tôi không biết frank cá nhân\n",
            "\n",
            "\n",
            "kal bị thương đã đến giọng của susan trong đầu anh ta\n",
            "giọng nói của anh ta bước vào đầu anh ta nói với anh ta rằng kal đang chảy máu\n",
            "\n",
            "\n",
            "nhưng ơ nha bảo hiểm rất quan trọng đối với tôi nó không quan trọng như những bảo hiểm y tế mà bạn biết nếu tôi đã phải rang chúng\n",
            "tôi muốn nói là anh nên lấy bảo hiểm y tế trước nhưng bảo hiểm nha khoa có người dùng\n",
            "\n",
            "\n",
            "trong một đất nước với một thế kỷ thống nhất quốc gia và kinh nghiệm nóng bỏng của phát xít của mussolini thể thao hoạt động gần như là hoạt động duy nhất có thể truyền cảm hứng cho bất kỳ sự xuất hiện của tình yêu yêu nước trong\n",
            "môn thể thao không truyền cảm hứng cho lòng yêu nước của người ý\n",
            "\n",
            "\n"
          ]
        }
      ]
    },
    {
      "cell_type": "markdown",
      "source": [
        "There are some meaningless tokens such as à, ừ, ... -> need to remove them"
      ],
      "metadata": {
        "id": "HZLeaNx4HHEH"
      }
    },
    {
      "cell_type": "code",
      "source": [
        "dict_occurs=train['premise_seq_len'].value_counts().to_dict()\n",
        "x,y=list(dict_occurs.keys()),list(dict_occurs.values())\n",
        "seq_len_visualizer(x,y)"
      ],
      "metadata": {
        "colab": {
          "base_uri": "https://localhost:8080/",
          "height": 1000
        },
        "id": "Qny2BwuxqLFt",
        "outputId": "b9a7cfce-256c-4ed3-b4eb-02da527bf3ed"
      },
      "execution_count": 29,
      "outputs": [
        {
          "output_type": "display_data",
          "data": {
            "text/plain": [
              "<Figure size 1440x1440 with 1 Axes>"
            ],
            "image/png": "[encoded data removed]"
          },
          "metadata": {
            "needs_background": "light"
          }
        }
      ]
    },
    {
      "cell_type": "code",
      "source": [
        "dict_occurs=train['hypothesis_seq_len'].value_counts().to_dict()\n",
        "x,y=list(dict_occurs.keys()),list(dict_occurs.values())\n",
        "seq_len_visualizer(x,y)"
      ],
      "metadata": {
        "colab": {
          "base_uri": "https://localhost:8080/",
          "height": 1000
        },
        "id": "Ea74BV63swC5",
        "outputId": "624c2d82-0242-4f71-ed66-26282e58c1ff"
      },
      "execution_count": 30,
      "outputs": [
        {
          "output_type": "display_data",
          "data": {
            "text/plain": [
              "<Figure size 1440x1440 with 1 Axes>"
            ],
            "image/png": "[encoded data removed]"
          },
          "metadata": {
            "needs_background": "light"
          }
        }
      ]
    },
    {
      "cell_type": "code",
      "source": [
        "train['total_seq_len']=train['premise_seq_len']+train['hypothesis_seq_len']"
      ],
      "metadata": {
        "id": "kNzkN-IYq3mf"
      },
      "execution_count": 31,
      "outputs": []
    },
    {
      "cell_type": "code",
      "source": [
        "dict_occurs=train['total_seq_len'].value_counts().to_dict()\n",
        "x,y=list(dict_occurs.keys()),list(dict_occurs.values())\n",
        "seq_len_visualizer(x,y)"
      ],
      "metadata": {
        "colab": {
          "base_uri": "https://localhost:8080/",
          "height": 1000
        },
        "id": "EDveGVZYs7eW",
        "outputId": "7e9d7e1a-8434-4d63-b37d-616d3d3246f7"
      },
      "execution_count": 32,
      "outputs": [
        {
          "output_type": "display_data",
          "data": {
            "text/plain": [
              "<Figure size 1440x1440 with 1 Axes>"
            ],
            "image/png": "[encoded data removed]"
          },
          "metadata": {
            "needs_background": "light"
          }
        }
      ]
    },
    {
      "cell_type": "markdown",
      "source": [
        "assign max length 256"
      ],
      "metadata": {
        "id": "RhAM6E1btGLm"
      }
    },
    {
      "cell_type": "code",
      "source": [
        "train.value_counts(['label'])"
      ],
      "metadata": {
        "colab": {
          "base_uri": "https://localhost:8080/"
        },
        "id": "pLTsAtAN-r--",
        "outputId": "e5df8055-4b89-4700-bf42-4329fbcdb970"
      },
      "execution_count": 33,
      "outputs": [
        {
          "output_type": "execute_result",
          "data": {
            "text/plain": [
              "label\n",
              "1        26179\n",
              "0        26107\n",
              "2        26102\n",
              "dtype: int64"
            ]
          },
          "metadata": {},
          "execution_count": 33
        }
      ]
    },
    {
      "cell_type": "code",
      "source": [
        "valid.value_counts(['label'])"
      ],
      "metadata": {
        "colab": {
          "base_uri": "https://localhost:8080/"
        },
        "id": "ItICJZIq-wuY",
        "outputId": "c2106afa-88ac-42c7-c9fd-0b216f57aa06"
      },
      "execution_count": 34,
      "outputs": [
        {
          "output_type": "execute_result",
          "data": {
            "text/plain": [
              "label\n",
              "0        830\n",
              "1        830\n",
              "2        830\n",
              "dtype: int64"
            ]
          },
          "metadata": {},
          "execution_count": 34
        }
      ]
    },
    {
      "cell_type": "code",
      "source": [
        "train.to_csv(join(preprocessed_data,f'train_{index}.csv'),index=False)\n",
        "valid.to_csv(join(preprocessed_data,'valid.csv'),index=False)"
      ],
      "metadata": {
        "id": "m_GrYcmptCEf"
      },
      "execution_count": 35,
      "outputs": []
    },
    {
      "cell_type": "code",
      "source": [
        "train"
      ],
      "metadata": {
        "colab": {
          "base_uri": "https://localhost:8080/",
          "height": 624
        },
        "id": "XNBCW3CnuzcV",
        "outputId": "e896215e-0cf1-4d42-944f-a4050551a6e3"
      },
      "execution_count": 36,
      "outputs": [
        {
          "output_type": "execute_result",
          "data": {
            "text/plain": [
              "                                                 premise  \\\n",
              "0                                       Hum đó là thú vị   \n",
              "1      Lao động lao động để cài đặt cũng được cung cấp .   \n",
              "2      Rất nhiều công việc làm việc của ngày hôm nay ...   \n",
              "3      Có thể anh là người hữu dụng và họ có một chút...   \n",
              "4      Nó được đề xuất để cung cấp một preconditioned...   \n",
              "...                                                  ...   \n",
              "78535  Um điều bất ngờ tôi thực sự là Israel đang ngồ...   \n",
              "78536  Ngài Chủ tịch , việc này đã kết thúc lời tuyên...   \n",
              "78537  Trong cuộc chiến tranh lạnh , tự do bị loại bỏ...   \n",
              "78538  Với tư cách là hàng triệu người đàn ông trên w...   \n",
              "78539  Oh , tôi tưởng chúng ta sẽ nói về những thay đ...   \n",
              "\n",
              "                                              hypothesis  label  \\\n",
              "0                                   Điều đó rất thú vị .      1   \n",
              "1         Vật liệu ít tốn kém hơn là lao động lao động .      1   \n",
              "2      Tất cả các trang trại đều được sở hữu bởi gia ...      1   \n",
              "3      Nơi này không có quy tắc chính thức , và họ bi...      0   \n",
              "4      Một culligana , continentala , hoặc hệ thống t...      0   \n",
              "...                                                  ...    ...   \n",
              "78535  Sự kiên trì của người israel vẫn còn ở đó bao ...      0   \n",
              "78536  Lời tuyên bố của tôi đã được đọc rất kỹ và đượ...      1   \n",
              "78537  Liên xô sẽ tiến hành đầy đủ chiến tranh nếu sự...      1   \n",
              "78538  Việc làm cho nguồn tài nguyên đã ngạc nhiên mộ...      1   \n",
              "78539  Chúng ta có thể nói về bất cứ điều gì khác ngo...      2   \n",
              "\n",
              "                                           clean_premise  \\\n",
              "0                                       hum đó là thú vị   \n",
              "1        lao động lao động để cài đặt cũng được cung cấp   \n",
              "2      rất nhiều công việc làm việc của ngày hôm nay ...   \n",
              "3      có thể anh là người hữu dụng và họ có một chút...   \n",
              "4      nó được đề xuất để cung cấp một preconditioned...   \n",
              "...                                                  ...   \n",
              "78535  um điều bất ngờ tôi thực sự là israel đang ngồ...   \n",
              "78536  ngài chủ tịch việc này đã kết thúc lời tuyên b...   \n",
              "78537  trong cuộc chiến tranh lạnh tự do bị loại bỏ s...   \n",
              "78538  với tư cách là hàng triệu người đàn ông trên w...   \n",
              "78539  tôi tưởng chúng ta sẽ nói về những thay đổi xã...   \n",
              "\n",
              "                                        clean_hypothesis  premise_seq_len  \\\n",
              "0                                     điều đó rất thú vị                5   \n",
              "1           vật liệu ít tốn kém hơn là lao động lao động               13   \n",
              "2      tất cả các trang trại đều được sở hữu bởi gia ...               24   \n",
              "3      nơi này không có quy tắc chính thức và họ biết...               36   \n",
              "4      một culligana continentala hoặc hệ thống tương...               60   \n",
              "...                                                  ...              ...   \n",
              "78535  sự kiên trì của người israel vẫn còn ở đó bao ...               76   \n",
              "78536  lời tuyên bố của tôi đã được đọc rất kỹ và đượ...               15   \n",
              "78537  liên xô sẽ tiến hành đầy đủ chiến tranh nếu sự...               49   \n",
              "78538  việc làm cho nguồn tài nguyên đã ngạc nhiên mộ...               28   \n",
              "78539  chúng ta có thể nói về bất cứ điều gì khác ngo...               27   \n",
              "\n",
              "       hypothesis_seq_len  total_seq_len  \n",
              "0                       5             10  \n",
              "1                      14             27  \n",
              "2                      21             45  \n",
              "3                      13             49  \n",
              "4                      22             82  \n",
              "...                   ...            ...  \n",
              "78535                  21             97  \n",
              "78536                  19             34  \n",
              "78537                  25             74  \n",
              "78538                  18             46  \n",
              "78539                  18             45  \n",
              "\n",
              "[78388 rows x 8 columns]"
            ],
            "text/html": [
              "\n",
              "  <div id=\"df-1ecdd147-fc35-40de-be4a-5f326492b699\">\n",
              "    <div class=\"colab-df-container\">\n",
              "      <div>\n",
              "<style scoped>\n",
              "    .dataframe tbody tr th:only-of-type {\n",
              "        vertical-align: middle;\n",
              "    }\n",
              "\n",
              "    .dataframe tbody tr th {\n",
              "        vertical-align: top;\n",
              "    }\n",
              "\n",
              "    .dataframe thead th {\n",
              "        text-align: right;\n",
              "    }\n",
              "</style>\n",
              "<table border=\"1\" class=\"dataframe\">\n",
              "  <thead>\n",
              "    <tr style=\"text-align: right;\">\n",
              "      <th></th>\n",
              "      <th>premise</th>\n",
              "      <th>hypothesis</th>\n",
              "      <th>label</th>\n",
              "      <th>clean_premise</th>\n",
              "      <th>clean_hypothesis</th>\n",
              "      <th>premise_seq_len</th>\n",
              "      <th>hypothesis_seq_len</th>\n",
              "      <th>total_seq_len</th>\n",
              "    </tr>\n",
              "  </thead>\n",
              "  <tbody>\n",
              "    <tr>\n",
              "      <th>0</th>\n",
              "      <td>Hum đó là thú vị</td>\n",
              "      <td>Điều đó rất thú vị .</td>\n",
              "      <td>1</td>\n",
              "      <td>hum đó là thú vị</td>\n",
              "      <td>điều đó rất thú vị</td>\n",
              "      <td>5</td>\n",
              "      <td>5</td>\n",
              "      <td>10</td>\n",
              "    </tr>\n",
              "    <tr>\n",
              "      <th>1</th>\n",
              "      <td>Lao động lao động để cài đặt cũng được cung cấp .</td>\n",
              "      <td>Vật liệu ít tốn kém hơn là lao động lao động .</td>\n",
              "      <td>1</td>\n",
              "      <td>lao động lao động để cài đặt cũng được cung cấp</td>\n",
              "      <td>vật liệu ít tốn kém hơn là lao động lao động</td>\n",
              "      <td>13</td>\n",
              "      <td>14</td>\n",
              "      <td>27</td>\n",
              "    </tr>\n",
              "    <tr>\n",
              "      <th>2</th>\n",
              "      <td>Rất nhiều công việc làm việc của ngày hôm nay ...</td>\n",
              "      <td>Tất cả các trang trại đều được sở hữu bởi gia ...</td>\n",
              "      <td>1</td>\n",
              "      <td>rất nhiều công việc làm việc của ngày hôm nay ...</td>\n",
              "      <td>tất cả các trang trại đều được sở hữu bởi gia ...</td>\n",
              "      <td>24</td>\n",
              "      <td>21</td>\n",
              "      <td>45</td>\n",
              "    </tr>\n",
              "    <tr>\n",
              "      <th>3</th>\n",
              "      <td>Có thể anh là người hữu dụng và họ có một chút...</td>\n",
              "      <td>Nơi này không có quy tắc chính thức , và họ bi...</td>\n",
              "      <td>0</td>\n",
              "      <td>có thể anh là người hữu dụng và họ có một chút...</td>\n",
              "      <td>nơi này không có quy tắc chính thức và họ biết...</td>\n",
              "      <td>36</td>\n",
              "      <td>13</td>\n",
              "      <td>49</td>\n",
              "    </tr>\n",
              "    <tr>\n",
              "      <th>4</th>\n",
              "      <td>Nó được đề xuất để cung cấp một preconditioned...</td>\n",
              "      <td>Một culligana , continentala , hoặc hệ thống t...</td>\n",
              "      <td>0</td>\n",
              "      <td>nó được đề xuất để cung cấp một preconditioned...</td>\n",
              "      <td>một culligana continentala hoặc hệ thống tương...</td>\n",
              "      <td>60</td>\n",
              "      <td>22</td>\n",
              "      <td>82</td>\n",
              "    </tr>\n",
              "    <tr>\n",
              "      <th>...</th>\n",
              "      <td>...</td>\n",
              "      <td>...</td>\n",
              "      <td>...</td>\n",
              "      <td>...</td>\n",
              "      <td>...</td>\n",
              "      <td>...</td>\n",
              "      <td>...</td>\n",
              "      <td>...</td>\n",
              "    </tr>\n",
              "    <tr>\n",
              "      <th>78535</th>\n",
              "      <td>Um điều bất ngờ tôi thực sự là Israel đang ngồ...</td>\n",
              "      <td>Sự kiên trì của người israel vẫn còn ở đó bao ...</td>\n",
              "      <td>0</td>\n",
              "      <td>um điều bất ngờ tôi thực sự là israel đang ngồ...</td>\n",
              "      <td>sự kiên trì của người israel vẫn còn ở đó bao ...</td>\n",
              "      <td>76</td>\n",
              "      <td>21</td>\n",
              "      <td>97</td>\n",
              "    </tr>\n",
              "    <tr>\n",
              "      <th>78536</th>\n",
              "      <td>Ngài Chủ tịch , việc này đã kết thúc lời tuyên...</td>\n",
              "      <td>Lời tuyên bố của tôi đã được đọc rất kỹ và đượ...</td>\n",
              "      <td>1</td>\n",
              "      <td>ngài chủ tịch việc này đã kết thúc lời tuyên b...</td>\n",
              "      <td>lời tuyên bố của tôi đã được đọc rất kỹ và đượ...</td>\n",
              "      <td>15</td>\n",
              "      <td>19</td>\n",
              "      <td>34</td>\n",
              "    </tr>\n",
              "    <tr>\n",
              "      <th>78537</th>\n",
              "      <td>Trong cuộc chiến tranh lạnh , tự do bị loại bỏ...</td>\n",
              "      <td>Liên xô sẽ tiến hành đầy đủ chiến tranh nếu sự...</td>\n",
              "      <td>1</td>\n",
              "      <td>trong cuộc chiến tranh lạnh tự do bị loại bỏ s...</td>\n",
              "      <td>liên xô sẽ tiến hành đầy đủ chiến tranh nếu sự...</td>\n",
              "      <td>49</td>\n",
              "      <td>25</td>\n",
              "      <td>74</td>\n",
              "    </tr>\n",
              "    <tr>\n",
              "      <th>78538</th>\n",
              "      <td>Với tư cách là hàng triệu người đàn ông trên w...</td>\n",
              "      <td>Việc làm cho nguồn tài nguyên đã ngạc nhiên mộ...</td>\n",
              "      <td>1</td>\n",
              "      <td>với tư cách là hàng triệu người đàn ông trên w...</td>\n",
              "      <td>việc làm cho nguồn tài nguyên đã ngạc nhiên mộ...</td>\n",
              "      <td>28</td>\n",
              "      <td>18</td>\n",
              "      <td>46</td>\n",
              "    </tr>\n",
              "    <tr>\n",
              "      <th>78539</th>\n",
              "      <td>Oh , tôi tưởng chúng ta sẽ nói về những thay đ...</td>\n",
              "      <td>Chúng ta có thể nói về bất cứ điều gì khác ngo...</td>\n",
              "      <td>2</td>\n",
              "      <td>tôi tưởng chúng ta sẽ nói về những thay đổi xã...</td>\n",
              "      <td>chúng ta có thể nói về bất cứ điều gì khác ngo...</td>\n",
              "      <td>27</td>\n",
              "      <td>18</td>\n",
              "      <td>45</td>\n",
              "    </tr>\n",
              "  </tbody>\n",
              "</table>\n",
              "<p>78388 rows × 8 columns</p>\n",
              "</div>\n",
              "      <button class=\"colab-df-convert\" onclick=\"convertToInteractive('df-1ecdd147-fc35-40de-be4a-5f326492b699')\"\n",
              "              title=\"Convert this dataframe to an interactive table.\"\n",
              "              style=\"display:none;\">\n",
              "        \n",
              "  <svg xmlns=\"http://www.w3.org/2000/svg\" height=\"24px\"viewBox=\"0 0 24 24\"\n",
              "       width=\"24px\">\n",
              "    <path d=\"M0 0h24v24H0V0z\" fill=\"none\"/>\n",
              "    <path d=\"M18.56 5.44l.94 2.06.94-2.06 2.06-.94-2.06-.94-.94-2.06-.94 2.06-2.06.94zm-11 1L8.5 8.5l.94-2.06 2.06-.94-2.06-.94L8.5 2.5l-.94 2.06-2.06.94zm10 10l.94 2.06.94-2.06 2.06-.94-2.06-.94-.94-2.06-.94 2.06-2.06.94z\"/><path d=\"M17.41 7.96l-1.37-1.37c-.4-.4-.92-.59-1.43-.59-.52 0-1.04.2-1.43.59L10.3 9.45l-7.72 7.72c-.78.78-.78 2.05 0 2.83L4 21.41c.39.39.9.59 1.41.59.51 0 1.02-.2 1.41-.59l7.78-7.78 2.81-2.81c.8-.78.8-2.07 0-2.86zM5.41 20L4 18.59l7.72-7.72 1.47 1.35L5.41 20z\"/>\n",
              "  </svg>\n",
              "      </button>\n",
              "      \n",
              "  <style>\n",
              "    .colab-df-container {\n",
              "      display:flex;\n",
              "      flex-wrap:wrap;\n",
              "      gap: 12px;\n",
              "    }\n",
              "\n",
              "    .colab-df-convert {\n",
              "      background-color: #E8F0FE;\n",
              "      border: none;\n",
              "      border-radius: 50%;\n",
              "      cursor: pointer;\n",
              "      display: none;\n",
              "      fill: #1967D2;\n",
              "      height: 32px;\n",
              "      padding: 0 0 0 0;\n",
              "      width: 32px;\n",
              "    }\n",
              "\n",
              "    .colab-df-convert:hover {\n",
              "      background-color: #E2EBFA;\n",
              "      box-shadow: 0px 1px 2px rgba(60, 64, 67, 0.3), 0px 1px 3px 1px rgba(60, 64, 67, 0.15);\n",
              "      fill: #174EA6;\n",
              "    }\n",
              "\n",
              "    [theme=dark] .colab-df-convert {\n",
              "      background-color: #3B4455;\n",
              "      fill: #D2E3FC;\n",
              "    }\n",
              "\n",
              "    [theme=dark] .colab-df-convert:hover {\n",
              "      background-color: #434B5C;\n",
              "      box-shadow: 0px 1px 3px 1px rgba(0, 0, 0, 0.15);\n",
              "      filter: drop-shadow(0px 1px 2px rgba(0, 0, 0, 0.3));\n",
              "      fill: #FFFFFF;\n",
              "    }\n",
              "  </style>\n",
              "\n",
              "      <script>\n",
              "        const buttonEl =\n",
              "          document.querySelector('#df-1ecdd147-fc35-40de-be4a-5f326492b699 button.colab-df-convert');\n",
              "        buttonEl.style.display =\n",
              "          google.colab.kernel.accessAllowed ? 'block' : 'none';\n",
              "\n",
              "        async function convertToInteractive(key) {\n",
              "          const element = document.querySelector('#df-1ecdd147-fc35-40de-be4a-5f326492b699');\n",
              "          const dataTable =\n",
              "            await google.colab.kernel.invokeFunction('convertToInteractive',\n",
              "                                                     [key], {});\n",
              "          if (!dataTable) return;\n",
              "\n",
              "          const docLinkHtml = 'Like what you see? Visit the ' +\n",
              "            '<a target=\"_blank\" href=https://colab.research.google.com/notebooks/data_table.ipynb>data table notebook</a>'\n",
              "            + ' to learn more about interactive tables.';\n",
              "          element.innerHTML = '';\n",
              "          dataTable['output_type'] = 'display_data';\n",
              "          await google.colab.output.renderOutput(dataTable, element);\n",
              "          const docLink = document.createElement('div');\n",
              "          docLink.innerHTML = docLinkHtml;\n",
              "          element.appendChild(docLink);\n",
              "        }\n",
              "      </script>\n",
              "    </div>\n",
              "  </div>\n",
              "  "
            ]
          },
          "metadata": {},
          "execution_count": 36
        }
      ]
    },
    {
      "cell_type": "markdown",
      "source": [
        "##Create inputs for bert models"
      ],
      "metadata": {
        "id": "Ik-silJxvM9b"
      }
    },
    {
      "cell_type": "code",
      "source": [
        "train=pd.read_csv(join(preprocessed_data,f'train_{index}.csv'))\n",
        "valid=pd.read_csv(join(preprocessed_data,'valid.csv'))"
      ],
      "metadata": {
        "id": "J3Y34NW5vFjC"
      },
      "execution_count": 6,
      "outputs": []
    },
    {
      "cell_type": "markdown",
      "source": [
        "![image.png](data:image/png;base64,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)"
      ],
      "metadata": {
        "id": "_jFIDTk4w9rs"
      }
    },
    {
      "cell_type": "code",
      "source": [
        "class ClassificationDataset(Dataset):\n",
        "    def __init__(self, input_ids, attention_mask,labels,device,token_type_ids=None):\n",
        "        self.labels = labels\n",
        "        self.input_ids=input_ids\n",
        "        self.attention_mask=attention_mask\n",
        "        self.token_type_ids=token_type_ids\n",
        "        self.device=device\n",
        "        \n",
        "    def __len__(self):\n",
        "            return len(self.labels)\n",
        "\n",
        "    def __getitem__(self, idx):\n",
        "        label = self.labels[idx]\n",
        "        input_ids = self.input_ids[idx]\n",
        "        attention_mask = self.attention_mask[idx]\n",
        "        sample = {\"inputs\":{\"input_ids\": input_ids.to(self.device),'attention_mask':attention_mask.to(self.device)}, \"labels\": label.to(self.device)}\n",
        "        if self.token_type_ids!=None:\n",
        "          sample['inputs'].update({'token_type_ids':self.token_type_ids[idx].to(self.device)})\n",
        "        return sample"
      ],
      "metadata": {
        "id": "FggCOyrqwfdr"
      },
      "execution_count": 7,
      "outputs": []
    },
    {
      "cell_type": "code",
      "source": [
        "train_batch_size=32\n",
        "num_training_samples=len(train)\n",
        "num_training_batches=int((num_training_samples/train_batch_size)+0.5)"
      ],
      "metadata": {
        "id": "Nc-grncdxU59"
      },
      "execution_count": 8,
      "outputs": []
    },
    {
      "cell_type": "code",
      "source": [
        "valid_batch_size=16\n",
        "num_valid_samples=len(valid)\n",
        "num_valid_batches=int((num_valid_samples/valid_batch_size)+0.5)"
      ],
      "metadata": {
        "id": "oXIW2YRZxJrr"
      },
      "execution_count": 9,
      "outputs": []
    },
    {
      "cell_type": "code",
      "source": [
        "return_tensors='pt'"
      ],
      "metadata": {
        "id": "-n1aBD1ZxbKq"
      },
      "execution_count": 10,
      "outputs": []
    },
    {
      "cell_type": "code",
      "source": [
        "labels=train['label'].unique().tolist()\n",
        "labels"
      ],
      "metadata": {
        "colab": {
          "base_uri": "https://localhost:8080/"
        },
        "id": "if9E1BM2xeLV",
        "outputId": "44978a2e-6845-46fb-c9ee-c749e8a4fee7"
      },
      "execution_count": 11,
      "outputs": [
        {
          "output_type": "execute_result",
          "data": {
            "text/plain": [
              "[1, 0, 2]"
            ]
          },
          "metadata": {},
          "execution_count": 11
        }
      ]
    },
    {
      "cell_type": "code",
      "source": [
        "def create_dataloader(tokenizer,premises,hypothesises,labels,max_length,batch_size,padding=True,truncation=True,return_tensors='pt',device='cpu',drop_last=False):\n",
        "  x=tokenizer(premises ,hypothesises,padding=padding,truncation=truncation,max_length=max_length,return_tensors=return_tensors)\n",
        "  y=torch.Tensor(labels).to(torch.long)\n",
        "  dataset={i:x[i] for i in x}\n",
        "  dataset.update({\"labels\":y})\n",
        "  dataset=ClassificationDataset(**dataset,device=device)\n",
        "  dataset=DataLoader(dataset,batch_size=batch_size,drop_last=drop_last,shuffle=True)\n",
        "  return dataset"
      ],
      "metadata": {
        "id": "ich-i2RqxfQH"
      },
      "execution_count": 12,
      "outputs": []
    },
    {
      "cell_type": "code",
      "source": [
        "train_premises=train['clean_premise'].tolist()#[:30000]\n",
        "train_hypothesises=train['clean_hypothesis'].tolist()#[:30000]\n",
        "train_labels=train['label'].tolist()#[:30000]"
      ],
      "metadata": {
        "id": "8eUZSOdSyM-0"
      },
      "execution_count": 13,
      "outputs": []
    },
    {
      "cell_type": "code",
      "source": [
        "train_dataloader=create_dataloader(tokenizer,train_premises,train_hypothesises,train_labels,max_length=max_length,return_tensors=return_tensors,device=device,drop_last=False,batch_size=train_batch_size)"
      ],
      "metadata": {
        "id": "3Wpmu5FXx3KE"
      },
      "execution_count": 14,
      "outputs": []
    },
    {
      "cell_type": "code",
      "source": [
        "valid_premises=valid['clean_premise'].tolist()\n",
        "valid_hypothesises=valid['clean_hypothesis'].tolist()\n",
        "valid_labels=valid['label'].tolist()"
      ],
      "metadata": {
        "id": "If64Hw81r2ZM"
      },
      "execution_count": 15,
      "outputs": []
    },
    {
      "cell_type": "code",
      "source": [
        "valid_dataloader=create_dataloader(tokenizer,valid_premises,valid_hypothesises,valid_labels,max_length=max_length,return_tensors=return_tensors,device=device,drop_last=False,batch_size=valid_batch_size)"
      ],
      "metadata": {
        "id": "XMhgIF9Mx_GF"
      },
      "execution_count": 16,
      "outputs": []
    },
    {
      "cell_type": "code",
      "source": [
        "for i in train_dataloader:\n",
        "  print(i['inputs']['input_ids'][0])\n",
        "  print(i['inputs']['attention_mask'][0])\n",
        "  break"
      ],
      "metadata": {
        "colab": {
          "base_uri": "https://localhost:8080/"
        },
        "id": "3pmPbYvt91Dr",
        "outputId": "b0614b79-b9e2-45bf-b095-8d2361c3db16"
      },
      "execution_count": 17,
      "outputs": [
        {
          "output_type": "stream",
          "name": "stdout",
          "text": [
            "tensor([    0,  2259,  1408, 18049, 10587,     2,     2,  2259,  1408, 18049,\n",
            "         5472, 10587,  2275,  5179,  4600,  6348,     2,     1,     1,     1,\n",
            "            1,     1,     1,     1,     1,     1,     1,     1,     1,     1,\n",
            "            1,     1,     1,     1,     1,     1,     1,     1,     1,     1,\n",
            "            1,     1,     1,     1,     1,     1,     1,     1,     1,     1,\n",
            "            1,     1,     1,     1,     1,     1,     1,     1,     1,     1,\n",
            "            1,     1,     1,     1,     1,     1,     1,     1,     1,     1,\n",
            "            1,     1,     1,     1,     1,     1,     1,     1,     1,     1,\n",
            "            1,     1,     1,     1,     1,     1,     1,     1,     1,     1,\n",
            "            1,     1,     1,     1,     1,     1,     1,     1,     1,     1,\n",
            "            1,     1,     1,     1,     1,     1,     1,     1,     1,     1,\n",
            "            1,     1,     1,     1,     1,     1,     1,     1,     1,     1,\n",
            "            1,     1,     1,     1,     1,     1,     1,     1,     1,     1,\n",
            "            1,     1,     1,     1,     1,     1,     1,     1,     1,     1,\n",
            "            1,     1,     1,     1,     1,     1,     1,     1,     1,     1,\n",
            "            1,     1,     1,     1,     1,     1,     1,     1,     1,     1,\n",
            "            1,     1,     1,     1,     1,     1,     1,     1,     1,     1,\n",
            "            1,     1,     1,     1,     1,     1,     1,     1,     1,     1,\n",
            "            1,     1,     1,     1,     1,     1,     1,     1,     1,     1,\n",
            "            1,     1,     1,     1,     1,     1,     1,     1,     1,     1,\n",
            "            1,     1,     1,     1,     1,     1,     1,     1,     1,     1,\n",
            "            1,     1,     1,     1,     1,     1,     1,     1,     1,     1,\n",
            "            1,     1,     1,     1,     1,     1,     1,     1,     1,     1,\n",
            "            1,     1,     1,     1,     1,     1,     1,     1,     1,     1,\n",
            "            1,     1,     1,     1,     1,     1,     1,     1,     1,     1,\n",
            "            1,     1,     1,     1,     1,     1], device='cuda:0')\n",
            "tensor([1, 1, 1, 1, 1, 1, 1, 1, 1, 1, 1, 1, 1, 1, 1, 1, 1, 0, 0, 0, 0, 0, 0, 0,\n",
            "        0, 0, 0, 0, 0, 0, 0, 0, 0, 0, 0, 0, 0, 0, 0, 0, 0, 0, 0, 0, 0, 0, 0, 0,\n",
            "        0, 0, 0, 0, 0, 0, 0, 0, 0, 0, 0, 0, 0, 0, 0, 0, 0, 0, 0, 0, 0, 0, 0, 0,\n",
            "        0, 0, 0, 0, 0, 0, 0, 0, 0, 0, 0, 0, 0, 0, 0, 0, 0, 0, 0, 0, 0, 0, 0, 0,\n",
            "        0, 0, 0, 0, 0, 0, 0, 0, 0, 0, 0, 0, 0, 0, 0, 0, 0, 0, 0, 0, 0, 0, 0, 0,\n",
            "        0, 0, 0, 0, 0, 0, 0, 0, 0, 0, 0, 0, 0, 0, 0, 0, 0, 0, 0, 0, 0, 0, 0, 0,\n",
            "        0, 0, 0, 0, 0, 0, 0, 0, 0, 0, 0, 0, 0, 0, 0, 0, 0, 0, 0, 0, 0, 0, 0, 0,\n",
            "        0, 0, 0, 0, 0, 0, 0, 0, 0, 0, 0, 0, 0, 0, 0, 0, 0, 0, 0, 0, 0, 0, 0, 0,\n",
            "        0, 0, 0, 0, 0, 0, 0, 0, 0, 0, 0, 0, 0, 0, 0, 0, 0, 0, 0, 0, 0, 0, 0, 0,\n",
            "        0, 0, 0, 0, 0, 0, 0, 0, 0, 0, 0, 0, 0, 0, 0, 0, 0, 0, 0, 0, 0, 0, 0, 0,\n",
            "        0, 0, 0, 0, 0, 0, 0, 0, 0, 0, 0, 0, 0, 0, 0, 0], device='cuda:0')\n"
          ]
        }
      ]
    },
    {
      "cell_type": "markdown",
      "source": [
        "#Trainer"
      ],
      "metadata": {
        "id": "s-yuJjDp-mg3"
      }
    },
    {
      "cell_type": "code",
      "source": [
        "epochs=30\n",
        "num_training_steps=epochs * len(train_dataloader)\n",
        "num_warmup_steps=500\n",
        "init_lr=1e-5\n",
        "eps =1e-8"
      ],
      "metadata": {
        "id": "leRkGWb6-btA"
      },
      "execution_count": 18,
      "outputs": []
    },
    {
      "cell_type": "code",
      "source": [
        "num_training_steps,num_warmup_steps"
      ],
      "metadata": {
        "colab": {
          "base_uri": "https://localhost:8080/"
        },
        "id": "ATpFVHVk-pOu",
        "outputId": "e3fc68ae-970a-4681-c5c2-b3bc62c85480"
      },
      "execution_count": 19,
      "outputs": [
        {
          "output_type": "execute_result",
          "data": {
            "text/plain": [
              "(73500, 500)"
            ]
          },
          "metadata": {},
          "execution_count": 19
        }
      ]
    },
    {
      "cell_type": "code",
      "source": [
        "num_labels=len(labels)\n",
        "num_labels"
      ],
      "metadata": {
        "colab": {
          "base_uri": "https://localhost:8080/"
        },
        "id": "gqW4c1Hk-3qS",
        "outputId": "3b56e766-e2d0-46ab-f042-dfce36141546"
      },
      "execution_count": 20,
      "outputs": [
        {
          "output_type": "execute_result",
          "data": {
            "text/plain": [
              "3"
            ]
          },
          "metadata": {},
          "execution_count": 20
        }
      ]
    },
    {
      "cell_type": "code",
      "source": [
        "classifier_dropout=0.1"
      ],
      "metadata": {
        "id": "MEksEcLZ-4rx"
      },
      "execution_count": 21,
      "outputs": []
    },
    {
      "cell_type": "code",
      "source": [
        "config=AutoConfig.from_pretrained(name)\n",
        "config.classifier_dropout=classifier_dropout\n",
        "config.num_labels=num_labels\n",
        "config"
      ],
      "metadata": {
        "colab": {
          "base_uri": "https://localhost:8080/"
        },
        "id": "uTtcaKcD-6Nr",
        "outputId": "614ca362-8d31-4a42-e629-0541910f41f7"
      },
      "execution_count": 22,
      "outputs": [
        {
          "output_type": "execute_result",
          "data": {
            "text/plain": [
              "XLMRobertaConfig {\n",
              "  \"_name_or_path\": \"xlm-roberta-base\",\n",
              "  \"architectures\": [\n",
              "    \"XLMRobertaForMaskedLM\"\n",
              "  ],\n",
              "  \"attention_probs_dropout_prob\": 0.1,\n",
              "  \"bos_token_id\": 0,\n",
              "  \"classifier_dropout\": 0.1,\n",
              "  \"eos_token_id\": 2,\n",
              "  \"hidden_act\": \"gelu\",\n",
              "  \"hidden_dropout_prob\": 0.1,\n",
              "  \"hidden_size\": 768,\n",
              "  \"id2label\": {\n",
              "    \"0\": \"LABEL_0\",\n",
              "    \"1\": \"LABEL_1\",\n",
              "    \"2\": \"LABEL_2\"\n",
              "  },\n",
              "  \"initializer_range\": 0.02,\n",
              "  \"intermediate_size\": 3072,\n",
              "  \"label2id\": {\n",
              "    \"LABEL_0\": 0,\n",
              "    \"LABEL_1\": 1,\n",
              "    \"LABEL_2\": 2\n",
              "  },\n",
              "  \"layer_norm_eps\": 1e-05,\n",
              "  \"max_position_embeddings\": 514,\n",
              "  \"model_type\": \"xlm-roberta\",\n",
              "  \"num_attention_heads\": 12,\n",
              "  \"num_hidden_layers\": 12,\n",
              "  \"output_past\": true,\n",
              "  \"pad_token_id\": 1,\n",
              "  \"position_embedding_type\": \"absolute\",\n",
              "  \"transformers_version\": \"4.19.2\",\n",
              "  \"type_vocab_size\": 1,\n",
              "  \"use_cache\": true,\n",
              "  \"vocab_size\": 250002\n",
              "}"
            ]
          },
          "metadata": {},
          "execution_count": 22
        }
      ]
    },
    {
      "cell_type": "code",
      "source": [
        "model_index=join(model_name,f'model_{str(index)}')"
      ],
      "metadata": {
        "id": "0IhHn1piIYRS"
      },
      "execution_count": 23,
      "outputs": []
    },
    {
      "cell_type": "code",
      "source": [
        "config.save_pretrained(model_index)"
      ],
      "metadata": {
        "id": "xQ0_0pPQ-8uw"
      },
      "execution_count": 24,
      "outputs": []
    },
    {
      "cell_type": "code",
      "source": [
        "model=AutoModelForSequenceClassification.from_pretrained(name,config=config).to(device)"
      ],
      "metadata": {
        "colab": {
          "base_uri": "https://localhost:8080/"
        },
        "id": "PizAw9RL_UVp",
        "outputId": "2fa71ce2-9115-461a-95d9-13b596c95f53"
      },
      "execution_count": 25,
      "outputs": [
        {
          "output_type": "stream",
          "name": "stderr",
          "text": [
            "Some weights of the model checkpoint at xlm-roberta-base were not used when initializing XLMRobertaForSequenceClassification: ['lm_head.dense.weight', 'roberta.pooler.dense.bias', 'lm_head.dense.bias', 'lm_head.layer_norm.bias', 'lm_head.decoder.weight', 'lm_head.layer_norm.weight', 'roberta.pooler.dense.weight', 'lm_head.bias']\n",
            "- This IS expected if you are initializing XLMRobertaForSequenceClassification from the checkpoint of a model trained on another task or with another architecture (e.g. initializing a BertForSequenceClassification model from a BertForPreTraining model).\n",
            "- This IS NOT expected if you are initializing XLMRobertaForSequenceClassification from the checkpoint of a model that you expect to be exactly identical (initializing a BertForSequenceClassification model from a BertForSequenceClassification model).\n",
            "Some weights of XLMRobertaForSequenceClassification were not initialized from the model checkpoint at xlm-roberta-base and are newly initialized: ['classifier.dense.bias', 'classifier.out_proj.weight', 'classifier.out_proj.bias', 'classifier.dense.weight']\n",
            "You should probably TRAIN this model on a down-stream task to be able to use it for predictions and inference.\n"
          ]
        }
      ]
    },
    {
      "cell_type": "code",
      "source": [
        "optimizer=torch.optim.AdamW(model.parameters(),lr=init_lr,weight_decay =0.01,eps=eps)"
      ],
      "metadata": {
        "id": "bFnh4aNP_ZM9"
      },
      "execution_count": 26,
      "outputs": []
    },
    {
      "cell_type": "code",
      "source": [
        "#load pretrain from previous model\n",
        "\n",
        "checkpoint = torch.load(f'/content/drive/MyDrive/vi-nli/models/xlm-roberta-base-256/model_{str(index-1)}/ckpt2.pt',map_location=device)"
      ],
      "metadata": {
        "id": "5nDG_0f0Iupz"
      },
      "execution_count": 27,
      "outputs": []
    },
    {
      "cell_type": "code",
      "source": [
        "model.load_state_dict(checkpoint['model_state_dict'])"
      ],
      "metadata": {
        "colab": {
          "base_uri": "https://localhost:8080/"
        },
        "id": "T8pnZVnAJAAk",
        "outputId": "1e042a3f-de92-41c9-e90a-aedcb0550e8b"
      },
      "execution_count": 28,
      "outputs": [
        {
          "output_type": "execute_result",
          "data": {
            "text/plain": [
              "<All keys matched successfully>"
            ]
          },
          "metadata": {},
          "execution_count": 28
        }
      ]
    },
    {
      "cell_type": "code",
      "source": [
        "del checkpoint"
      ],
      "metadata": {
        "id": "G-UeMsXxKIy8"
      },
      "execution_count": 29,
      "outputs": []
    },
    {
      "cell_type": "code",
      "source": [
        "lr_scheduler=get_linear_schedule_with_warmup(optimizer,num_warmup_steps=num_warmup_steps,num_training_steps=num_training_steps,)"
      ],
      "metadata": {
        "id": "SOUG-n94_bFT"
      },
      "execution_count": 30,
      "outputs": []
    },
    {
      "cell_type": "code",
      "source": [
        "def save_model(epoch,model,optimizer,training_loss,valid_loss,path,step=None):\n",
        "  torch.save({\n",
        "          'epoch': epoch,\n",
        "          'model_state_dict': model.state_dict(),\n",
        "          'optimizer_state_dict': optimizer.state_dict(),\n",
        "          'training_loss': training_loss,\n",
        "          'valid_loss': valid_loss,\n",
        "          'step':step\n",
        "          }, join(path,f'ckpt{epoch}.pt'))"
      ],
      "metadata": {
        "id": "SraPBCPR_cTH"
      },
      "execution_count": 31,
      "outputs": []
    },
    {
      "cell_type": "code",
      "source": [
        "def run_train(optimizer,dataloader,lr_scheduler):\n",
        "  model.train(True)\n",
        "  loop = tqdm(dataloader)\n",
        "  loss=0\n",
        "  for batch in dataloader:\n",
        "    # model.zero_grad(set_to_none=True)\n",
        "    optimizer.zero_grad()\n",
        "    inputs=batch['inputs']\n",
        "    inputs.update({\"labels\":batch['labels']})\n",
        "    outputs=model(**inputs)\n",
        "    # _loss = loss_fn(logits.view(-1, num_labels), batch['labels'].view(-1))\n",
        "    outputs.loss.backward()\n",
        "\n",
        "    loss+=outputs.loss.item()\n",
        "    optimizer.step()\n",
        "    lr_scheduler.step()\n",
        "    loop.set_postfix({f'train_loss_per_batch':outputs.loss.item()})\n",
        "    loop.update()      \n",
        "    \n",
        "  return loss/len(dataloader)"
      ],
      "metadata": {
        "id": "crchDYLY_dIU"
      },
      "execution_count": 32,
      "outputs": []
    },
    {
      "cell_type": "code",
      "source": [
        "def run_valid(dataloader):\n",
        "  model.eval()\n",
        "  loss=0\n",
        "  with torch.no_grad():\n",
        "    for batch in dataloader:\n",
        "      inputs=batch['inputs']\n",
        "      inputs.update({\"labels\":batch['labels']})\n",
        "      outputs=model(**inputs)\n",
        "\n",
        "      # _loss = loss_fn(logits.view(-1, num_labels), batch['labels'].view(-1))\n",
        "\n",
        "      loss+=outputs.loss.item()\n",
        "\n",
        "  return loss/len(dataloader)"
      ],
      "metadata": {
        "id": "eDA4EiY1_e24"
      },
      "execution_count": 33,
      "outputs": []
    },
    {
      "cell_type": "code",
      "source": [
        "train_loss_per_step=[]\n",
        "valid_loss_per_step=[]\n",
        "min_loss=np.inf\n",
        "count_stopping=np.inf\n",
        "for epoch in range(1,epochs):\n",
        "  train_loss=run_train(optimizer,train_dataloader,lr_scheduler)\n",
        "  valid_loss=run_valid(valid_dataloader)\n",
        "\n",
        "  train_loss_per_step.append(train_loss)\n",
        "  valid_loss_per_step.append(valid_loss)\n",
        "  \n",
        "  print(f'epoch: {epoch} train_loss: {train_loss} valid_loss: {valid_loss}')\n",
        "  if valid_loss<min_loss:\n",
        "    min_loss=valid_loss\n",
        "    save_model(epoch,model,optimizer,train_loss,valid_loss,model_index)\n",
        "    count_stopping=0\n",
        "  else:\n",
        "    count_stopping+=1\n",
        "  \n",
        "  if count_stopping>5:\n",
        "    break\n"
      ],
      "metadata": {
        "id": "mkYdCXt2_f04",
        "colab": {
          "base_uri": "https://localhost:8080/",
          "height": 49,
          "referenced_widgets": [
            "133b45ce350646a885f31ea4729df9d8",
            "1d1e2a783cb9485aa04be4cf604bbde6",
            "4a148f61a829413ab955c4c6ba610b57",
            "f403dee5385e4833a428869774708ec5",
            "6883198b02eb40dfa2682d87a1f83495",
            "38324c0272214a75a58a3858f7e86b29",
            "e8413eb1c2cf45a1a4586ec5c11a4876",
            "1ee8fbb46e5241b2aa1e85bf026a43b3",
            "7728a8ecdc4847f88a05a7c87dcc7a70",
            "78dac7bba3864a37b5a2155f170017a9",
            "08c5b5863278405d8915257f794efac1"
          ]
        },
        "outputId": "2c17cf69-9593-4590-9dd3-27a31f449be9"
      },
      "execution_count": null,
      "outputs": [
        {
          "output_type": "display_data",
          "data": {
            "text/plain": [
              "  0%|          | 0/2450 [00:00<?, ?it/s]"
            ],
            "application/vnd.jupyter.widget-view+json": {
              "version_major": 2,
              "version_minor": 0,
              "model_id": "133b45ce350646a885f31ea4729df9d8"
            }
          },
          "metadata": {}
        }
      ]
    },
    {
      "cell_type": "markdown",
      "source": [
        "#Inference"
      ],
      "metadata": {
        "id": "i3JhrbOREdVB"
      }
    },
    {
      "cell_type": "code",
      "source": [
        "import pandas as pd\n",
        "test=pd.read_csv('/content/drive/MyDrive/vi-nli/raw_dataset/test.csv')\n",
        "test  "
      ],
      "metadata": {
        "id": "SQWahKu4_y9g",
        "colab": {
          "base_uri": "https://localhost:8080/",
          "height": 424
        },
        "outputId": "4f43a93b-feea-4adb-8c67-d783e67fb13b"
      },
      "execution_count": 37,
      "outputs": [
        {
          "output_type": "execute_result",
          "data": {
            "text/plain": [
              "                                                premise  \\\n",
              "0     Vâng, tôi thậm chí không nghĩ về điều đó, nhưn...   \n",
              "1     Vâng, tôi thậm chí không nghĩ về điều đó, nhưn...   \n",
              "2     Vâng, tôi thậm chí không nghĩ về điều đó, nhưn...   \n",
              "3     Và tôi nghĩ đó là một đặc ân, và nó vẫn còn, n...   \n",
              "4     Và tôi nghĩ đó là một đặc ân, và nó vẫn còn, n...   \n",
              "...                                                 ...   \n",
              "5005  Davidson không nên áp dụng cách phát âm chữ sc...   \n",
              "5006  Davidson không nên áp dụng cách phát âm chữ sc...   \n",
              "5007  Tiểu thuyết trung bình có 200.000 từ giá khoản...   \n",
              "5008  Tiểu thuyết trung bình có 200.000 từ giá khoản...   \n",
              "5009  Tiểu thuyết trung bình có 200.000 từ giá khoản...   \n",
              "\n",
              "                                             hypothesis  label  \n",
              "0               Tôi đã không nói chuyện với anh ta nữa.      2  \n",
              "1     Tôi buồn tới mức tôi lại bắt đầu nói chuyện lạ...      0  \n",
              "2               Chúng tôi có buổi nói chuyện tuyệt vời.      1  \n",
              "3     Tôi không nhận ra rằng tôi không phải là người...      1  \n",
              "4     Tôi có ấn tượng là tôi là người duy nhất có số...      0  \n",
              "...                                                 ...    ...  \n",
              "5005  Davidson không nên nói theo cách mà xương và â...      0  \n",
              "5006       Sẽ tốt hơn nếu Davidson vần các từ và xương.      2  \n",
              "5007  Một cuốn tiểu thuyết 200.000 từ với giá 25 đô ...      1  \n",
              "5008  Một cuốn tiểu thuyết 200.000 từ với giá 25 USD...      2  \n",
              "5009  Một cuốn tiểu thuyết 200.000 từ với giá 25 đôl...      0  \n",
              "\n",
              "[5010 rows x 3 columns]"
            ],
            "text/html": [
              "\n",
              "  <div id=\"df-b0330bc7-d626-433e-bc4d-a8ef38c81be8\">\n",
              "    <div class=\"colab-df-container\">\n",
              "      <div>\n",
              "<style scoped>\n",
              "    .dataframe tbody tr th:only-of-type {\n",
              "        vertical-align: middle;\n",
              "    }\n",
              "\n",
              "    .dataframe tbody tr th {\n",
              "        vertical-align: top;\n",
              "    }\n",
              "\n",
              "    .dataframe thead th {\n",
              "        text-align: right;\n",
              "    }\n",
              "</style>\n",
              "<table border=\"1\" class=\"dataframe\">\n",
              "  <thead>\n",
              "    <tr style=\"text-align: right;\">\n",
              "      <th></th>\n",
              "      <th>premise</th>\n",
              "      <th>hypothesis</th>\n",
              "      <th>label</th>\n",
              "    </tr>\n",
              "  </thead>\n",
              "  <tbody>\n",
              "    <tr>\n",
              "      <th>0</th>\n",
              "      <td>Vâng, tôi thậm chí không nghĩ về điều đó, nhưn...</td>\n",
              "      <td>Tôi đã không nói chuyện với anh ta nữa.</td>\n",
              "      <td>2</td>\n",
              "    </tr>\n",
              "    <tr>\n",
              "      <th>1</th>\n",
              "      <td>Vâng, tôi thậm chí không nghĩ về điều đó, nhưn...</td>\n",
              "      <td>Tôi buồn tới mức tôi lại bắt đầu nói chuyện lạ...</td>\n",
              "      <td>0</td>\n",
              "    </tr>\n",
              "    <tr>\n",
              "      <th>2</th>\n",
              "      <td>Vâng, tôi thậm chí không nghĩ về điều đó, nhưn...</td>\n",
              "      <td>Chúng tôi có buổi nói chuyện tuyệt vời.</td>\n",
              "      <td>1</td>\n",
              "    </tr>\n",
              "    <tr>\n",
              "      <th>3</th>\n",
              "      <td>Và tôi nghĩ đó là một đặc ân, và nó vẫn còn, n...</td>\n",
              "      <td>Tôi không nhận ra rằng tôi không phải là người...</td>\n",
              "      <td>1</td>\n",
              "    </tr>\n",
              "    <tr>\n",
              "      <th>4</th>\n",
              "      <td>Và tôi nghĩ đó là một đặc ân, và nó vẫn còn, n...</td>\n",
              "      <td>Tôi có ấn tượng là tôi là người duy nhất có số...</td>\n",
              "      <td>0</td>\n",
              "    </tr>\n",
              "    <tr>\n",
              "      <th>...</th>\n",
              "      <td>...</td>\n",
              "      <td>...</td>\n",
              "      <td>...</td>\n",
              "    </tr>\n",
              "    <tr>\n",
              "      <th>5005</th>\n",
              "      <td>Davidson không nên áp dụng cách phát âm chữ sc...</td>\n",
              "      <td>Davidson không nên nói theo cách mà xương và â...</td>\n",
              "      <td>0</td>\n",
              "    </tr>\n",
              "    <tr>\n",
              "      <th>5006</th>\n",
              "      <td>Davidson không nên áp dụng cách phát âm chữ sc...</td>\n",
              "      <td>Sẽ tốt hơn nếu Davidson vần các từ và xương.</td>\n",
              "      <td>2</td>\n",
              "    </tr>\n",
              "    <tr>\n",
              "      <th>5007</th>\n",
              "      <td>Tiểu thuyết trung bình có 200.000 từ giá khoản...</td>\n",
              "      <td>Một cuốn tiểu thuyết 200.000 từ với giá 25 đô ...</td>\n",
              "      <td>1</td>\n",
              "    </tr>\n",
              "    <tr>\n",
              "      <th>5008</th>\n",
              "      <td>Tiểu thuyết trung bình có 200.000 từ giá khoản...</td>\n",
              "      <td>Một cuốn tiểu thuyết 200.000 từ với giá 25 USD...</td>\n",
              "      <td>2</td>\n",
              "    </tr>\n",
              "    <tr>\n",
              "      <th>5009</th>\n",
              "      <td>Tiểu thuyết trung bình có 200.000 từ giá khoản...</td>\n",
              "      <td>Một cuốn tiểu thuyết 200.000 từ với giá 25 đôl...</td>\n",
              "      <td>0</td>\n",
              "    </tr>\n",
              "  </tbody>\n",
              "</table>\n",
              "<p>5010 rows × 3 columns</p>\n",
              "</div>\n",
              "      <button class=\"colab-df-convert\" onclick=\"convertToInteractive('df-b0330bc7-d626-433e-bc4d-a8ef38c81be8')\"\n",
              "              title=\"Convert this dataframe to an interactive table.\"\n",
              "              style=\"display:none;\">\n",
              "        \n",
              "  <svg xmlns=\"http://www.w3.org/2000/svg\" height=\"24px\"viewBox=\"0 0 24 24\"\n",
              "       width=\"24px\">\n",
              "    <path d=\"M0 0h24v24H0V0z\" fill=\"none\"/>\n",
              "    <path d=\"M18.56 5.44l.94 2.06.94-2.06 2.06-.94-2.06-.94-.94-2.06-.94 2.06-2.06.94zm-11 1L8.5 8.5l.94-2.06 2.06-.94-2.06-.94L8.5 2.5l-.94 2.06-2.06.94zm10 10l.94 2.06.94-2.06 2.06-.94-2.06-.94-.94-2.06-.94 2.06-2.06.94z\"/><path d=\"M17.41 7.96l-1.37-1.37c-.4-.4-.92-.59-1.43-.59-.52 0-1.04.2-1.43.59L10.3 9.45l-7.72 7.72c-.78.78-.78 2.05 0 2.83L4 21.41c.39.39.9.59 1.41.59.51 0 1.02-.2 1.41-.59l7.78-7.78 2.81-2.81c.8-.78.8-2.07 0-2.86zM5.41 20L4 18.59l7.72-7.72 1.47 1.35L5.41 20z\"/>\n",
              "  </svg>\n",
              "      </button>\n",
              "      \n",
              "  <style>\n",
              "    .colab-df-container {\n",
              "      display:flex;\n",
              "      flex-wrap:wrap;\n",
              "      gap: 12px;\n",
              "    }\n",
              "\n",
              "    .colab-df-convert {\n",
              "      background-color: #E8F0FE;\n",
              "      border: none;\n",
              "      border-radius: 50%;\n",
              "      cursor: pointer;\n",
              "      display: none;\n",
              "      fill: #1967D2;\n",
              "      height: 32px;\n",
              "      padding: 0 0 0 0;\n",
              "      width: 32px;\n",
              "    }\n",
              "\n",
              "    .colab-df-convert:hover {\n",
              "      background-color: #E2EBFA;\n",
              "      box-shadow: 0px 1px 2px rgba(60, 64, 67, 0.3), 0px 1px 3px 1px rgba(60, 64, 67, 0.15);\n",
              "      fill: #174EA6;\n",
              "    }\n",
              "\n",
              "    [theme=dark] .colab-df-convert {\n",
              "      background-color: #3B4455;\n",
              "      fill: #D2E3FC;\n",
              "    }\n",
              "\n",
              "    [theme=dark] .colab-df-convert:hover {\n",
              "      background-color: #434B5C;\n",
              "      box-shadow: 0px 1px 3px 1px rgba(0, 0, 0, 0.15);\n",
              "      filter: drop-shadow(0px 1px 2px rgba(0, 0, 0, 0.3));\n",
              "      fill: #FFFFFF;\n",
              "    }\n",
              "  </style>\n",
              "\n",
              "      <script>\n",
              "        const buttonEl =\n",
              "          document.querySelector('#df-b0330bc7-d626-433e-bc4d-a8ef38c81be8 button.colab-df-convert');\n",
              "        buttonEl.style.display =\n",
              "          google.colab.kernel.accessAllowed ? 'block' : 'none';\n",
              "\n",
              "        async function convertToInteractive(key) {\n",
              "          const element = document.querySelector('#df-b0330bc7-d626-433e-bc4d-a8ef38c81be8');\n",
              "          const dataTable =\n",
              "            await google.colab.kernel.invokeFunction('convertToInteractive',\n",
              "                                                     [key], {});\n",
              "          if (!dataTable) return;\n",
              "\n",
              "          const docLinkHtml = 'Like what you see? Visit the ' +\n",
              "            '<a target=\"_blank\" href=https://colab.research.google.com/notebooks/data_table.ipynb>data table notebook</a>'\n",
              "            + ' to learn more about interactive tables.';\n",
              "          element.innerHTML = '';\n",
              "          dataTable['output_type'] = 'display_data';\n",
              "          await google.colab.output.renderOutput(dataTable, element);\n",
              "          const docLink = document.createElement('div');\n",
              "          docLink.innerHTML = docLinkHtml;\n",
              "          element.appendChild(docLink);\n",
              "        }\n",
              "      </script>\n",
              "    </div>\n",
              "  </div>\n",
              "  "
            ]
          },
          "metadata": {},
          "execution_count": 37
        }
      ]
    },
    {
      "cell_type": "code",
      "source": [
        "config = AutoConfig.from_pretrained(f'{model_name}/config.json')\n",
        "config._name_or_path=name"
      ],
      "metadata": {
        "id": "8IQuNMIbEi0J"
      },
      "execution_count": 38,
      "outputs": []
    },
    {
      "cell_type": "code",
      "source": [
        "model=AutoModelForSequenceClassification.from_pretrained(name,config=config).to(device)"
      ],
      "metadata": {
        "colab": {
          "base_uri": "https://localhost:8080/"
        },
        "id": "5but9y8UE0W0",
        "outputId": "82d0230d-6b99-4eb3-946f-020feed134b4"
      },
      "execution_count": 39,
      "outputs": [
        {
          "output_type": "stream",
          "name": "stderr",
          "text": [
            "Some weights of the model checkpoint at xlm-roberta-base were not used when initializing XLMRobertaForSequenceClassification: ['lm_head.dense.weight', 'lm_head.bias', 'roberta.pooler.dense.weight', 'lm_head.layer_norm.bias', 'roberta.pooler.dense.bias', 'lm_head.decoder.weight', 'lm_head.layer_norm.weight', 'lm_head.dense.bias']\n",
            "- This IS expected if you are initializing XLMRobertaForSequenceClassification from the checkpoint of a model trained on another task or with another architecture (e.g. initializing a BertForSequenceClassification model from a BertForPreTraining model).\n",
            "- This IS NOT expected if you are initializing XLMRobertaForSequenceClassification from the checkpoint of a model that you expect to be exactly identical (initializing a BertForSequenceClassification model from a BertForSequenceClassification model).\n",
            "Some weights of XLMRobertaForSequenceClassification were not initialized from the model checkpoint at xlm-roberta-base and are newly initialized: ['classifier.dense.weight', 'classifier.out_proj.weight', 'classifier.dense.bias', 'classifier.out_proj.bias']\n",
            "You should probably TRAIN this model on a down-stream task to be able to use it for predictions and inference.\n"
          ]
        }
      ]
    },
    {
      "cell_type": "code",
      "source": [
        "checkpoint = torch.load(\"/content/drive/MyDrive/vi-nli/models/xlm-roberta-base-256/ckpt2.pt\",map_location=device)"
      ],
      "metadata": {
        "id": "HgIRAvxbE3I9"
      },
      "execution_count": 40,
      "outputs": []
    },
    {
      "cell_type": "code",
      "source": [
        "model.load_state_dict(checkpoint['model_state_dict'])"
      ],
      "metadata": {
        "colab": {
          "base_uri": "https://localhost:8080/"
        },
        "id": "x_bp6Z5DE7b4",
        "outputId": "b2d01011-b1f1-4fd7-c3ec-579f3a8ec394"
      },
      "execution_count": 41,
      "outputs": [
        {
          "output_type": "execute_result",
          "data": {
            "text/plain": [
              "<All keys matched successfully>"
            ]
          },
          "metadata": {},
          "execution_count": 41
        }
      ]
    },
    {
      "cell_type": "code",
      "source": [
        "y_true=test['label'].tolist()"
      ],
      "metadata": {
        "id": "8-NfHgojE89c"
      },
      "execution_count": 42,
      "outputs": []
    },
    {
      "cell_type": "code",
      "source": [
        "def predict(premises,hypothesises,max_length,return_tensors='pt',device='cpu',normalizer=None):\n",
        "  #premises: list of texts\n",
        "  #hypothesises: list of texts\n",
        "  #normalizer: function -> clean dataset and return a new input with the same format\n",
        "  model.eval()\n",
        "  y_pred=[]\n",
        "  with torch.no_grad():\n",
        "    loop = tqdm(range(len(premises)))\n",
        "    for idx,sample in enumerate(zip(premises,hypothesises)):\n",
        "      if normalizer!=None:\n",
        "        premise=normalizer(sample[0])\n",
        "        hypothesis=normalizer(sample[1])\n",
        "      _inputs=tokenizer(premise,hypothesis,padding=True,truncation=True,max_length=max_length,return_tensors=return_tensors).to(device)\n",
        "      outputs=model(**_inputs)\n",
        "      \n",
        "      probs=torch.nn.functional.softmax(outputs.logits,dim=1)\n",
        "      preds=torch.argmax(probs,dim=1)\n",
        "      y_pred.append(preds)\n",
        "      loop.update()\n",
        "  return torch.Tensor(y_pred)"
      ],
      "metadata": {
        "id": "Il9CjLNfE-7C"
      },
      "execution_count": 45,
      "outputs": []
    },
    {
      "cell_type": "code",
      "source": [
        "y_pred=predict(test['premise'].tolist(),test['hypothesis'].tolist(),max_length,device=device,normalizer=normalizer)"
      ],
      "metadata": {
        "colab": {
          "base_uri": "https://localhost:8080/",
          "height": 49,
          "referenced_widgets": [
            "586eedceb4e9408e8fc3891e9f1ce8a3",
            "b27a12f2fc4d4897adab3b64d5ed38d7",
            "e644aed89c754d3194668a84d7368f26",
            "5d4934e6977f404ab0d39dda694e8e97",
            "88a28133df7347e384ba6c068f4b69f8",
            "46a2677d36f54f0e99d7bd5d173005ad",
            "ec5847499aa54261bc573ba8c22ba242",
            "cec35402e6ea4dc1a974f58cb49c1488",
            "4c30514160334b5fa42f1a4cab760a32",
            "2e1037816a8a42d29fcd6bd6900a6475",
            "7eb91d041c0d4e5c8bfcb63e3540cec3"
          ]
        },
        "id": "469jDjBYFhJL",
        "outputId": "29cae99e-1f84-4586-bc0f-64384fe91aff"
      },
      "execution_count": 46,
      "outputs": [
        {
          "output_type": "display_data",
          "data": {
            "text/plain": [
              "  0%|          | 0/5010 [00:00<?, ?it/s]"
            ],
            "application/vnd.jupyter.widget-view+json": {
              "version_major": 2,
              "version_minor": 0,
              "model_id": "586eedceb4e9408e8fc3891e9f1ce8a3"
            }
          },
          "metadata": {}
        }
      ]
    },
    {
      "cell_type": "code",
      "source": [
        "y_pred"
      ],
      "metadata": {
        "colab": {
          "base_uri": "https://localhost:8080/"
        },
        "id": "vGIpHZPCFnM1",
        "outputId": "b728e5bd-ab64-40d6-9e86-f30855908dfa"
      },
      "execution_count": 47,
      "outputs": [
        {
          "output_type": "execute_result",
          "data": {
            "text/plain": [
              "tensor([0., 0., 1.,  ..., 1., 0., 0.])"
            ]
          },
          "metadata": {},
          "execution_count": 47
        }
      ]
    },
    {
      "cell_type": "code",
      "source": [
        "y_pred=y_pred.tolist()"
      ],
      "metadata": {
        "id": "_Sb9ztGJGBsI"
      },
      "execution_count": 48,
      "outputs": []
    },
    {
      "cell_type": "markdown",
      "source": [
        "#Conclusion"
      ],
      "metadata": {
        "id": "aHiv3TZEGRUE"
      }
    },
    {
      "cell_type": "markdown",
      "source": [
        "with train_0"
      ],
      "metadata": {
        "id": "ZKT4whb5GT8e"
      }
    },
    {
      "cell_type": "code",
      "source": [
        "print(classification_report(y_true,y_pred,digits=5))"
      ],
      "metadata": {
        "colab": {
          "base_uri": "https://localhost:8080/"
        },
        "id": "X_bjsVb9GMQ-",
        "outputId": "d4832e90-8e44-48cc-d66d-a959a84443c0"
      },
      "execution_count": 52,
      "outputs": [
        {
          "output_type": "stream",
          "name": "stdout",
          "text": [
            "              precision    recall  f1-score   support\n",
            "\n",
            "           0    0.77249   0.71976   0.74520      1670\n",
            "           1    0.66175   0.77904   0.71562      1670\n",
            "           2    0.79570   0.70898   0.74984      1670\n",
            "\n",
            "    accuracy                        0.73593      5010\n",
            "   macro avg    0.74331   0.73593   0.73689      5010\n",
            "weighted avg    0.74331   0.73593   0.73689      5010\n",
            "\n"
          ]
        }
      ]
    },
    {
      "cell_type": "code",
      "source": [
        "confusion_matrix(y_true,y_pred)"
      ],
      "metadata": {
        "colab": {
          "base_uri": "https://localhost:8080/"
        },
        "id": "NDtL7AVbGd64",
        "outputId": "e0c59990-86bc-410c-e623-96fa0e91058a"
      },
      "execution_count": 53,
      "outputs": [
        {
          "output_type": "execute_result",
          "data": {
            "text/plain": [
              "array([[1202,  330,  138],\n",
              "       [ 203, 1301,  166],\n",
              "       [ 151,  335, 1184]])"
            ]
          },
          "metadata": {},
          "execution_count": 53
        }
      ]
    },
    {
      "cell_type": "code",
      "source": [
        ""
      ],
      "metadata": {
        "id": "cDmohK4vGiec"
      },
      "execution_count": null,
      "outputs": []
    }
  ]
}