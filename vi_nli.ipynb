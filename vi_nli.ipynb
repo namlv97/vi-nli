{
  "nbformat": 4,
  "nbformat_minor": 0,
  "metadata": {
    "colab": {
      "name": "vi_nli.ipynb",
      "provenance": [],
      "collapsed_sections": [],
      "toc_visible": true
    },
    "kernelspec": {
      "name": "python3",
      "display_name": "Python 3"
    },
    "language_info": {
      "name": "python"
    },
    "accelerator": "GPU",
    "widgets": {
      "application/vnd.jupyter.widget-state+json": {
        "6272056665ac4f28b7da407d7ae806fa": {
          "model_module": "@jupyter-widgets/controls",
          "model_name": "HBoxModel",
          "model_module_version": "1.5.0",
          "state": {
            "_dom_classes": [],
            "_model_module": "@jupyter-widgets/controls",
            "_model_module_version": "1.5.0",
            "_model_name": "HBoxModel",
            "_view_count": null,
            "_view_module": "@jupyter-widgets/controls",
            "_view_module_version": "1.5.0",
            "_view_name": "HBoxView",
            "box_style": "",
            "children": [
              "IPY_MODEL_c8b3a561637745988f376e38c23d4a81",
              "IPY_MODEL_01df6809f9334d0fadee5c4739d4e2b8",
              "IPY_MODEL_5a3ae359254849e08aa872ea84624afd"
            ],
            "layout": "IPY_MODEL_84a4c7678716488eb987af72dd3c0ea7"
          }
        },
        "c8b3a561637745988f376e38c23d4a81": {
          "model_module": "@jupyter-widgets/controls",
          "model_name": "HTMLModel",
          "model_module_version": "1.5.0",
          "state": {
            "_dom_classes": [],
            "_model_module": "@jupyter-widgets/controls",
            "_model_module_version": "1.5.0",
            "_model_name": "HTMLModel",
            "_view_count": null,
            "_view_module": "@jupyter-widgets/controls",
            "_view_module_version": "1.5.0",
            "_view_name": "HTMLView",
            "description": "",
            "description_tooltip": null,
            "layout": "IPY_MODEL_324d4a92a86442748f2f0bf747801bc8",
            "placeholder": "​",
            "style": "IPY_MODEL_6779bc29225e454f82714a2d6091b2bb",
            "value": "100%"
          }
        },
        "01df6809f9334d0fadee5c4739d4e2b8": {
          "model_module": "@jupyter-widgets/controls",
          "model_name": "FloatProgressModel",
          "model_module_version": "1.5.0",
          "state": {
            "_dom_classes": [],
            "_model_module": "@jupyter-widgets/controls",
            "_model_module_version": "1.5.0",
            "_model_name": "FloatProgressModel",
            "_view_count": null,
            "_view_module": "@jupyter-widgets/controls",
            "_view_module_version": "1.5.0",
            "_view_name": "ProgressView",
            "bar_style": "success",
            "description": "",
            "description_tooltip": null,
            "layout": "IPY_MODEL_b20c6a923dbc46c882dcc7fe0430f7c6",
            "max": 3,
            "min": 0,
            "orientation": "horizontal",
            "style": "IPY_MODEL_f4fda75275c54bec9b92edde7cc13da8",
            "value": 3
          }
        },
        "5a3ae359254849e08aa872ea84624afd": {
          "model_module": "@jupyter-widgets/controls",
          "model_name": "HTMLModel",
          "model_module_version": "1.5.0",
          "state": {
            "_dom_classes": [],
            "_model_module": "@jupyter-widgets/controls",
            "_model_module_version": "1.5.0",
            "_model_name": "HTMLModel",
            "_view_count": null,
            "_view_module": "@jupyter-widgets/controls",
            "_view_module_version": "1.5.0",
            "_view_name": "HTMLView",
            "description": "",
            "description_tooltip": null,
            "layout": "IPY_MODEL_d5a0520756a84915a4e7700a3dbdd0c7",
            "placeholder": "​",
            "style": "IPY_MODEL_337e39ebe5b94a35be7d9e9487306680",
            "value": " 3/3 [00:00&lt;00:00, 54.24it/s]"
          }
        },
        "84a4c7678716488eb987af72dd3c0ea7": {
          "model_module": "@jupyter-widgets/base",
          "model_name": "LayoutModel",
          "model_module_version": "1.2.0",
          "state": {
            "_model_module": "@jupyter-widgets/base",
            "_model_module_version": "1.2.0",
            "_model_name": "LayoutModel",
            "_view_count": null,
            "_view_module": "@jupyter-widgets/base",
            "_view_module_version": "1.2.0",
            "_view_name": "LayoutView",
            "align_content": null,
            "align_items": null,
            "align_self": null,
            "border": null,
            "bottom": null,
            "display": null,
            "flex": null,
            "flex_flow": null,
            "grid_area": null,
            "grid_auto_columns": null,
            "grid_auto_flow": null,
            "grid_auto_rows": null,
            "grid_column": null,
            "grid_gap": null,
            "grid_row": null,
            "grid_template_areas": null,
            "grid_template_columns": null,
            "grid_template_rows": null,
            "height": null,
            "justify_content": null,
            "justify_items": null,
            "left": null,
            "margin": null,
            "max_height": null,
            "max_width": null,
            "min_height": null,
            "min_width": null,
            "object_fit": null,
            "object_position": null,
            "order": null,
            "overflow": null,
            "overflow_x": null,
            "overflow_y": null,
            "padding": null,
            "right": null,
            "top": null,
            "visibility": null,
            "width": null
          }
        },
        "324d4a92a86442748f2f0bf747801bc8": {
          "model_module": "@jupyter-widgets/base",
          "model_name": "LayoutModel",
          "model_module_version": "1.2.0",
          "state": {
            "_model_module": "@jupyter-widgets/base",
            "_model_module_version": "1.2.0",
            "_model_name": "LayoutModel",
            "_view_count": null,
            "_view_module": "@jupyter-widgets/base",
            "_view_module_version": "1.2.0",
            "_view_name": "LayoutView",
            "align_content": null,
            "align_items": null,
            "align_self": null,
            "border": null,
            "bottom": null,
            "display": null,
            "flex": null,
            "flex_flow": null,
            "grid_area": null,
            "grid_auto_columns": null,
            "grid_auto_flow": null,
            "grid_auto_rows": null,
            "grid_column": null,
            "grid_gap": null,
            "grid_row": null,
            "grid_template_areas": null,
            "grid_template_columns": null,
            "grid_template_rows": null,
            "height": null,
            "justify_content": null,
            "justify_items": null,
            "left": null,
            "margin": null,
            "max_height": null,
            "max_width": null,
            "min_height": null,
            "min_width": null,
            "object_fit": null,
            "object_position": null,
            "order": null,
            "overflow": null,
            "overflow_x": null,
            "overflow_y": null,
            "padding": null,
            "right": null,
            "top": null,
            "visibility": null,
            "width": null
          }
        },
        "6779bc29225e454f82714a2d6091b2bb": {
          "model_module": "@jupyter-widgets/controls",
          "model_name": "DescriptionStyleModel",
          "model_module_version": "1.5.0",
          "state": {
            "_model_module": "@jupyter-widgets/controls",
            "_model_module_version": "1.5.0",
            "_model_name": "DescriptionStyleModel",
            "_view_count": null,
            "_view_module": "@jupyter-widgets/base",
            "_view_module_version": "1.2.0",
            "_view_name": "StyleView",
            "description_width": ""
          }
        },
        "b20c6a923dbc46c882dcc7fe0430f7c6": {
          "model_module": "@jupyter-widgets/base",
          "model_name": "LayoutModel",
          "model_module_version": "1.2.0",
          "state": {
            "_model_module": "@jupyter-widgets/base",
            "_model_module_version": "1.2.0",
            "_model_name": "LayoutModel",
            "_view_count": null,
            "_view_module": "@jupyter-widgets/base",
            "_view_module_version": "1.2.0",
            "_view_name": "LayoutView",
            "align_content": null,
            "align_items": null,
            "align_self": null,
            "border": null,
            "bottom": null,
            "display": null,
            "flex": null,
            "flex_flow": null,
            "grid_area": null,
            "grid_auto_columns": null,
            "grid_auto_flow": null,
            "grid_auto_rows": null,
            "grid_column": null,
            "grid_gap": null,
            "grid_row": null,
            "grid_template_areas": null,
            "grid_template_columns": null,
            "grid_template_rows": null,
            "height": null,
            "justify_content": null,
            "justify_items": null,
            "left": null,
            "margin": null,
            "max_height": null,
            "max_width": null,
            "min_height": null,
            "min_width": null,
            "object_fit": null,
            "object_position": null,
            "order": null,
            "overflow": null,
            "overflow_x": null,
            "overflow_y": null,
            "padding": null,
            "right": null,
            "top": null,
            "visibility": null,
            "width": null
          }
        },
        "f4fda75275c54bec9b92edde7cc13da8": {
          "model_module": "@jupyter-widgets/controls",
          "model_name": "ProgressStyleModel",
          "model_module_version": "1.5.0",
          "state": {
            "_model_module": "@jupyter-widgets/controls",
            "_model_module_version": "1.5.0",
            "_model_name": "ProgressStyleModel",
            "_view_count": null,
            "_view_module": "@jupyter-widgets/base",
            "_view_module_version": "1.2.0",
            "_view_name": "StyleView",
            "bar_color": null,
            "description_width": ""
          }
        },
        "d5a0520756a84915a4e7700a3dbdd0c7": {
          "model_module": "@jupyter-widgets/base",
          "model_name": "LayoutModel",
          "model_module_version": "1.2.0",
          "state": {
            "_model_module": "@jupyter-widgets/base",
            "_model_module_version": "1.2.0",
            "_model_name": "LayoutModel",
            "_view_count": null,
            "_view_module": "@jupyter-widgets/base",
            "_view_module_version": "1.2.0",
            "_view_name": "LayoutView",
            "align_content": null,
            "align_items": null,
            "align_self": null,
            "border": null,
            "bottom": null,
            "display": null,
            "flex": null,
            "flex_flow": null,
            "grid_area": null,
            "grid_auto_columns": null,
            "grid_auto_flow": null,
            "grid_auto_rows": null,
            "grid_column": null,
            "grid_gap": null,
            "grid_row": null,
            "grid_template_areas": null,
            "grid_template_columns": null,
            "grid_template_rows": null,
            "height": null,
            "justify_content": null,
            "justify_items": null,
            "left": null,
            "margin": null,
            "max_height": null,
            "max_width": null,
            "min_height": null,
            "min_width": null,
            "object_fit": null,
            "object_position": null,
            "order": null,
            "overflow": null,
            "overflow_x": null,
            "overflow_y": null,
            "padding": null,
            "right": null,
            "top": null,
            "visibility": null,
            "width": null
          }
        },
        "337e39ebe5b94a35be7d9e9487306680": {
          "model_module": "@jupyter-widgets/controls",
          "model_name": "DescriptionStyleModel",
          "model_module_version": "1.5.0",
          "state": {
            "_model_module": "@jupyter-widgets/controls",
            "_model_module_version": "1.5.0",
            "_model_name": "DescriptionStyleModel",
            "_view_count": null,
            "_view_module": "@jupyter-widgets/base",
            "_view_module_version": "1.2.0",
            "_view_name": "StyleView",
            "description_width": ""
          }
        },
        "febd2de7cdae4f91acb028764a654bb9": {
          "model_module": "@jupyter-widgets/controls",
          "model_name": "HBoxModel",
          "model_module_version": "1.5.0",
          "state": {
            "_dom_classes": [],
            "_model_module": "@jupyter-widgets/controls",
            "_model_module_version": "1.5.0",
            "_model_name": "HBoxModel",
            "_view_count": null,
            "_view_module": "@jupyter-widgets/controls",
            "_view_module_version": "1.5.0",
            "_view_name": "HBoxView",
            "box_style": "",
            "children": [
              "IPY_MODEL_7bd15c24bc1840a9990df5090ce90097",
              "IPY_MODEL_d0f194a3b6cb4694b31f102a89f18bff",
              "IPY_MODEL_336917ff0eb049958c8c0cd994888a98"
            ],
            "layout": "IPY_MODEL_a22fbe33e19246fca30fc9db62516827"
          }
        },
        "7bd15c24bc1840a9990df5090ce90097": {
          "model_module": "@jupyter-widgets/controls",
          "model_name": "HTMLModel",
          "model_module_version": "1.5.0",
          "state": {
            "_dom_classes": [],
            "_model_module": "@jupyter-widgets/controls",
            "_model_module_version": "1.5.0",
            "_model_name": "HTMLModel",
            "_view_count": null,
            "_view_module": "@jupyter-widgets/controls",
            "_view_module_version": "1.5.0",
            "_view_name": "HTMLView",
            "description": "",
            "description_tooltip": null,
            "layout": "IPY_MODEL_2de26d74f8194e16bba9eb46298b12a0",
            "placeholder": "​",
            "style": "IPY_MODEL_677aee3b3aa34cdea1a41e8c56ccb7b6",
            "value": "100%"
          }
        },
        "d0f194a3b6cb4694b31f102a89f18bff": {
          "model_module": "@jupyter-widgets/controls",
          "model_name": "FloatProgressModel",
          "model_module_version": "1.5.0",
          "state": {
            "_dom_classes": [],
            "_model_module": "@jupyter-widgets/controls",
            "_model_module_version": "1.5.0",
            "_model_name": "FloatProgressModel",
            "_view_count": null,
            "_view_module": "@jupyter-widgets/controls",
            "_view_module_version": "1.5.0",
            "_view_name": "ProgressView",
            "bar_style": "",
            "description": "",
            "description_tooltip": null,
            "layout": "IPY_MODEL_0f6a99bbc0f74aa19b30151ed41273f3",
            "max": 392024,
            "min": 0,
            "orientation": "horizontal",
            "style": "IPY_MODEL_126e1032a01b42c88c04215e940de298",
            "value": 392024
          }
        },
        "336917ff0eb049958c8c0cd994888a98": {
          "model_module": "@jupyter-widgets/controls",
          "model_name": "HTMLModel",
          "model_module_version": "1.5.0",
          "state": {
            "_dom_classes": [],
            "_model_module": "@jupyter-widgets/controls",
            "_model_module_version": "1.5.0",
            "_model_name": "HTMLModel",
            "_view_count": null,
            "_view_module": "@jupyter-widgets/controls",
            "_view_module_version": "1.5.0",
            "_view_name": "HTMLView",
            "description": "",
            "description_tooltip": null,
            "layout": "IPY_MODEL_9acb459076eb4fce92f650b343151394",
            "placeholder": "​",
            "style": "IPY_MODEL_c2181cd5d69442f598e2614e60309b0a",
            "value": " 392024/392024 [02:10&lt;00:00, 1257.12it/s]"
          }
        },
        "a22fbe33e19246fca30fc9db62516827": {
          "model_module": "@jupyter-widgets/base",
          "model_name": "LayoutModel",
          "model_module_version": "1.2.0",
          "state": {
            "_model_module": "@jupyter-widgets/base",
            "_model_module_version": "1.2.0",
            "_model_name": "LayoutModel",
            "_view_count": null,
            "_view_module": "@jupyter-widgets/base",
            "_view_module_version": "1.2.0",
            "_view_name": "LayoutView",
            "align_content": null,
            "align_items": null,
            "align_self": null,
            "border": null,
            "bottom": null,
            "display": null,
            "flex": null,
            "flex_flow": null,
            "grid_area": null,
            "grid_auto_columns": null,
            "grid_auto_flow": null,
            "grid_auto_rows": null,
            "grid_column": null,
            "grid_gap": null,
            "grid_row": null,
            "grid_template_areas": null,
            "grid_template_columns": null,
            "grid_template_rows": null,
            "height": null,
            "justify_content": null,
            "justify_items": null,
            "left": null,
            "margin": null,
            "max_height": null,
            "max_width": null,
            "min_height": null,
            "min_width": null,
            "object_fit": null,
            "object_position": null,
            "order": null,
            "overflow": null,
            "overflow_x": null,
            "overflow_y": null,
            "padding": null,
            "right": null,
            "top": null,
            "visibility": null,
            "width": null
          }
        },
        "2de26d74f8194e16bba9eb46298b12a0": {
          "model_module": "@jupyter-widgets/base",
          "model_name": "LayoutModel",
          "model_module_version": "1.2.0",
          "state": {
            "_model_module": "@jupyter-widgets/base",
            "_model_module_version": "1.2.0",
            "_model_name": "LayoutModel",
            "_view_count": null,
            "_view_module": "@jupyter-widgets/base",
            "_view_module_version": "1.2.0",
            "_view_name": "LayoutView",
            "align_content": null,
            "align_items": null,
            "align_self": null,
            "border": null,
            "bottom": null,
            "display": null,
            "flex": null,
            "flex_flow": null,
            "grid_area": null,
            "grid_auto_columns": null,
            "grid_auto_flow": null,
            "grid_auto_rows": null,
            "grid_column": null,
            "grid_gap": null,
            "grid_row": null,
            "grid_template_areas": null,
            "grid_template_columns": null,
            "grid_template_rows": null,
            "height": null,
            "justify_content": null,
            "justify_items": null,
            "left": null,
            "margin": null,
            "max_height": null,
            "max_width": null,
            "min_height": null,
            "min_width": null,
            "object_fit": null,
            "object_position": null,
            "order": null,
            "overflow": null,
            "overflow_x": null,
            "overflow_y": null,
            "padding": null,
            "right": null,
            "top": null,
            "visibility": null,
            "width": null
          }
        },
        "677aee3b3aa34cdea1a41e8c56ccb7b6": {
          "model_module": "@jupyter-widgets/controls",
          "model_name": "DescriptionStyleModel",
          "model_module_version": "1.5.0",
          "state": {
            "_model_module": "@jupyter-widgets/controls",
            "_model_module_version": "1.5.0",
            "_model_name": "DescriptionStyleModel",
            "_view_count": null,
            "_view_module": "@jupyter-widgets/base",
            "_view_module_version": "1.2.0",
            "_view_name": "StyleView",
            "description_width": ""
          }
        },
        "0f6a99bbc0f74aa19b30151ed41273f3": {
          "model_module": "@jupyter-widgets/base",
          "model_name": "LayoutModel",
          "model_module_version": "1.2.0",
          "state": {
            "_model_module": "@jupyter-widgets/base",
            "_model_module_version": "1.2.0",
            "_model_name": "LayoutModel",
            "_view_count": null,
            "_view_module": "@jupyter-widgets/base",
            "_view_module_version": "1.2.0",
            "_view_name": "LayoutView",
            "align_content": null,
            "align_items": null,
            "align_self": null,
            "border": null,
            "bottom": null,
            "display": null,
            "flex": null,
            "flex_flow": null,
            "grid_area": null,
            "grid_auto_columns": null,
            "grid_auto_flow": null,
            "grid_auto_rows": null,
            "grid_column": null,
            "grid_gap": null,
            "grid_row": null,
            "grid_template_areas": null,
            "grid_template_columns": null,
            "grid_template_rows": null,
            "height": null,
            "justify_content": null,
            "justify_items": null,
            "left": null,
            "margin": null,
            "max_height": null,
            "max_width": null,
            "min_height": null,
            "min_width": null,
            "object_fit": null,
            "object_position": null,
            "order": null,
            "overflow": null,
            "overflow_x": null,
            "overflow_y": null,
            "padding": null,
            "right": null,
            "top": null,
            "visibility": null,
            "width": null
          }
        },
        "126e1032a01b42c88c04215e940de298": {
          "model_module": "@jupyter-widgets/controls",
          "model_name": "ProgressStyleModel",
          "model_module_version": "1.5.0",
          "state": {
            "_model_module": "@jupyter-widgets/controls",
            "_model_module_version": "1.5.0",
            "_model_name": "ProgressStyleModel",
            "_view_count": null,
            "_view_module": "@jupyter-widgets/base",
            "_view_module_version": "1.2.0",
            "_view_name": "StyleView",
            "bar_color": null,
            "description_width": ""
          }
        },
        "9acb459076eb4fce92f650b343151394": {
          "model_module": "@jupyter-widgets/base",
          "model_name": "LayoutModel",
          "model_module_version": "1.2.0",
          "state": {
            "_model_module": "@jupyter-widgets/base",
            "_model_module_version": "1.2.0",
            "_model_name": "LayoutModel",
            "_view_count": null,
            "_view_module": "@jupyter-widgets/base",
            "_view_module_version": "1.2.0",
            "_view_name": "LayoutView",
            "align_content": null,
            "align_items": null,
            "align_self": null,
            "border": null,
            "bottom": null,
            "display": null,
            "flex": null,
            "flex_flow": null,
            "grid_area": null,
            "grid_auto_columns": null,
            "grid_auto_flow": null,
            "grid_auto_rows": null,
            "grid_column": null,
            "grid_gap": null,
            "grid_row": null,
            "grid_template_areas": null,
            "grid_template_columns": null,
            "grid_template_rows": null,
            "height": null,
            "justify_content": null,
            "justify_items": null,
            "left": null,
            "margin": null,
            "max_height": null,
            "max_width": null,
            "min_height": null,
            "min_width": null,
            "object_fit": null,
            "object_position": null,
            "order": null,
            "overflow": null,
            "overflow_x": null,
            "overflow_y": null,
            "padding": null,
            "right": null,
            "top": null,
            "visibility": null,
            "width": null
          }
        },
        "c2181cd5d69442f598e2614e60309b0a": {
          "model_module": "@jupyter-widgets/controls",
          "model_name": "DescriptionStyleModel",
          "model_module_version": "1.5.0",
          "state": {
            "_model_module": "@jupyter-widgets/controls",
            "_model_module_version": "1.5.0",
            "_model_name": "DescriptionStyleModel",
            "_view_count": null,
            "_view_module": "@jupyter-widgets/base",
            "_view_module_version": "1.2.0",
            "_view_name": "StyleView",
            "description_width": ""
          }
        },
        "1b074c757a34408d82e6616e12b79119": {
          "model_module": "@jupyter-widgets/controls",
          "model_name": "HBoxModel",
          "model_module_version": "1.5.0",
          "state": {
            "_dom_classes": [],
            "_model_module": "@jupyter-widgets/controls",
            "_model_module_version": "1.5.0",
            "_model_name": "HBoxModel",
            "_view_count": null,
            "_view_module": "@jupyter-widgets/controls",
            "_view_module_version": "1.5.0",
            "_view_name": "HBoxView",
            "box_style": "",
            "children": [
              "IPY_MODEL_cfaf376bf0cb472e927a4e1c97e7d721",
              "IPY_MODEL_636f2b7c1c2e4b46b9f0cf30d2360edf",
              "IPY_MODEL_406a091a7ba44ead99b2d8bf2833c04a"
            ],
            "layout": "IPY_MODEL_e48d7e4fcfa541c884afa5b5123532fb"
          }
        },
        "cfaf376bf0cb472e927a4e1c97e7d721": {
          "model_module": "@jupyter-widgets/controls",
          "model_name": "HTMLModel",
          "model_module_version": "1.5.0",
          "state": {
            "_dom_classes": [],
            "_model_module": "@jupyter-widgets/controls",
            "_model_module_version": "1.5.0",
            "_model_name": "HTMLModel",
            "_view_count": null,
            "_view_module": "@jupyter-widgets/controls",
            "_view_module_version": "1.5.0",
            "_view_name": "HTMLView",
            "description": "",
            "description_tooltip": null,
            "layout": "IPY_MODEL_3a5eb397493c49be925e403564b5655d",
            "placeholder": "​",
            "style": "IPY_MODEL_6d92c5c923dd4cf380806016575aa6b6",
            "value": "100%"
          }
        },
        "636f2b7c1c2e4b46b9f0cf30d2360edf": {
          "model_module": "@jupyter-widgets/controls",
          "model_name": "FloatProgressModel",
          "model_module_version": "1.5.0",
          "state": {
            "_dom_classes": [],
            "_model_module": "@jupyter-widgets/controls",
            "_model_module_version": "1.5.0",
            "_model_name": "FloatProgressModel",
            "_view_count": null,
            "_view_module": "@jupyter-widgets/controls",
            "_view_module_version": "1.5.0",
            "_view_name": "ProgressView",
            "bar_style": "",
            "description": "",
            "description_tooltip": null,
            "layout": "IPY_MODEL_3c724b83d5db4965b8a2ecb15ed1e9bf",
            "max": 2490,
            "min": 0,
            "orientation": "horizontal",
            "style": "IPY_MODEL_458d86d5827a457aab4c63d25caf7684",
            "value": 2490
          }
        },
        "406a091a7ba44ead99b2d8bf2833c04a": {
          "model_module": "@jupyter-widgets/controls",
          "model_name": "HTMLModel",
          "model_module_version": "1.5.0",
          "state": {
            "_dom_classes": [],
            "_model_module": "@jupyter-widgets/controls",
            "_model_module_version": "1.5.0",
            "_model_name": "HTMLModel",
            "_view_count": null,
            "_view_module": "@jupyter-widgets/controls",
            "_view_module_version": "1.5.0",
            "_view_name": "HTMLView",
            "description": "",
            "description_tooltip": null,
            "layout": "IPY_MODEL_bf870c3f1c3c47e48421d53ef82224d4",
            "placeholder": "​",
            "style": "IPY_MODEL_eb30155e839f4cb78fc5fff00cfb4d9a",
            "value": " 2490/2490 [00:15&lt;00:00, 1758.79it/s]"
          }
        },
        "e48d7e4fcfa541c884afa5b5123532fb": {
          "model_module": "@jupyter-widgets/base",
          "model_name": "LayoutModel",
          "model_module_version": "1.2.0",
          "state": {
            "_model_module": "@jupyter-widgets/base",
            "_model_module_version": "1.2.0",
            "_model_name": "LayoutModel",
            "_view_count": null,
            "_view_module": "@jupyter-widgets/base",
            "_view_module_version": "1.2.0",
            "_view_name": "LayoutView",
            "align_content": null,
            "align_items": null,
            "align_self": null,
            "border": null,
            "bottom": null,
            "display": null,
            "flex": null,
            "flex_flow": null,
            "grid_area": null,
            "grid_auto_columns": null,
            "grid_auto_flow": null,
            "grid_auto_rows": null,
            "grid_column": null,
            "grid_gap": null,
            "grid_row": null,
            "grid_template_areas": null,
            "grid_template_columns": null,
            "grid_template_rows": null,
            "height": null,
            "justify_content": null,
            "justify_items": null,
            "left": null,
            "margin": null,
            "max_height": null,
            "max_width": null,
            "min_height": null,
            "min_width": null,
            "object_fit": null,
            "object_position": null,
            "order": null,
            "overflow": null,
            "overflow_x": null,
            "overflow_y": null,
            "padding": null,
            "right": null,
            "top": null,
            "visibility": null,
            "width": null
          }
        },
        "3a5eb397493c49be925e403564b5655d": {
          "model_module": "@jupyter-widgets/base",
          "model_name": "LayoutModel",
          "model_module_version": "1.2.0",
          "state": {
            "_model_module": "@jupyter-widgets/base",
            "_model_module_version": "1.2.0",
            "_model_name": "LayoutModel",
            "_view_count": null,
            "_view_module": "@jupyter-widgets/base",
            "_view_module_version": "1.2.0",
            "_view_name": "LayoutView",
            "align_content": null,
            "align_items": null,
            "align_self": null,
            "border": null,
            "bottom": null,
            "display": null,
            "flex": null,
            "flex_flow": null,
            "grid_area": null,
            "grid_auto_columns": null,
            "grid_auto_flow": null,
            "grid_auto_rows": null,
            "grid_column": null,
            "grid_gap": null,
            "grid_row": null,
            "grid_template_areas": null,
            "grid_template_columns": null,
            "grid_template_rows": null,
            "height": null,
            "justify_content": null,
            "justify_items": null,
            "left": null,
            "margin": null,
            "max_height": null,
            "max_width": null,
            "min_height": null,
            "min_width": null,
            "object_fit": null,
            "object_position": null,
            "order": null,
            "overflow": null,
            "overflow_x": null,
            "overflow_y": null,
            "padding": null,
            "right": null,
            "top": null,
            "visibility": null,
            "width": null
          }
        },
        "6d92c5c923dd4cf380806016575aa6b6": {
          "model_module": "@jupyter-widgets/controls",
          "model_name": "DescriptionStyleModel",
          "model_module_version": "1.5.0",
          "state": {
            "_model_module": "@jupyter-widgets/controls",
            "_model_module_version": "1.5.0",
            "_model_name": "DescriptionStyleModel",
            "_view_count": null,
            "_view_module": "@jupyter-widgets/base",
            "_view_module_version": "1.2.0",
            "_view_name": "StyleView",
            "description_width": ""
          }
        },
        "3c724b83d5db4965b8a2ecb15ed1e9bf": {
          "model_module": "@jupyter-widgets/base",
          "model_name": "LayoutModel",
          "model_module_version": "1.2.0",
          "state": {
            "_model_module": "@jupyter-widgets/base",
            "_model_module_version": "1.2.0",
            "_model_name": "LayoutModel",
            "_view_count": null,
            "_view_module": "@jupyter-widgets/base",
            "_view_module_version": "1.2.0",
            "_view_name": "LayoutView",
            "align_content": null,
            "align_items": null,
            "align_self": null,
            "border": null,
            "bottom": null,
            "display": null,
            "flex": null,
            "flex_flow": null,
            "grid_area": null,
            "grid_auto_columns": null,
            "grid_auto_flow": null,
            "grid_auto_rows": null,
            "grid_column": null,
            "grid_gap": null,
            "grid_row": null,
            "grid_template_areas": null,
            "grid_template_columns": null,
            "grid_template_rows": null,
            "height": null,
            "justify_content": null,
            "justify_items": null,
            "left": null,
            "margin": null,
            "max_height": null,
            "max_width": null,
            "min_height": null,
            "min_width": null,
            "object_fit": null,
            "object_position": null,
            "order": null,
            "overflow": null,
            "overflow_x": null,
            "overflow_y": null,
            "padding": null,
            "right": null,
            "top": null,
            "visibility": null,
            "width": null
          }
        },
        "458d86d5827a457aab4c63d25caf7684": {
          "model_module": "@jupyter-widgets/controls",
          "model_name": "ProgressStyleModel",
          "model_module_version": "1.5.0",
          "state": {
            "_model_module": "@jupyter-widgets/controls",
            "_model_module_version": "1.5.0",
            "_model_name": "ProgressStyleModel",
            "_view_count": null,
            "_view_module": "@jupyter-widgets/base",
            "_view_module_version": "1.2.0",
            "_view_name": "StyleView",
            "bar_color": null,
            "description_width": ""
          }
        },
        "bf870c3f1c3c47e48421d53ef82224d4": {
          "model_module": "@jupyter-widgets/base",
          "model_name": "LayoutModel",
          "model_module_version": "1.2.0",
          "state": {
            "_model_module": "@jupyter-widgets/base",
            "_model_module_version": "1.2.0",
            "_model_name": "LayoutModel",
            "_view_count": null,
            "_view_module": "@jupyter-widgets/base",
            "_view_module_version": "1.2.0",
            "_view_name": "LayoutView",
            "align_content": null,
            "align_items": null,
            "align_self": null,
            "border": null,
            "bottom": null,
            "display": null,
            "flex": null,
            "flex_flow": null,
            "grid_area": null,
            "grid_auto_columns": null,
            "grid_auto_flow": null,
            "grid_auto_rows": null,
            "grid_column": null,
            "grid_gap": null,
            "grid_row": null,
            "grid_template_areas": null,
            "grid_template_columns": null,
            "grid_template_rows": null,
            "height": null,
            "justify_content": null,
            "justify_items": null,
            "left": null,
            "margin": null,
            "max_height": null,
            "max_width": null,
            "min_height": null,
            "min_width": null,
            "object_fit": null,
            "object_position": null,
            "order": null,
            "overflow": null,
            "overflow_x": null,
            "overflow_y": null,
            "padding": null,
            "right": null,
            "top": null,
            "visibility": null,
            "width": null
          }
        },
        "eb30155e839f4cb78fc5fff00cfb4d9a": {
          "model_module": "@jupyter-widgets/controls",
          "model_name": "DescriptionStyleModel",
          "model_module_version": "1.5.0",
          "state": {
            "_model_module": "@jupyter-widgets/controls",
            "_model_module_version": "1.5.0",
            "_model_name": "DescriptionStyleModel",
            "_view_count": null,
            "_view_module": "@jupyter-widgets/base",
            "_view_module_version": "1.2.0",
            "_view_name": "StyleView",
            "description_width": ""
          }
        },
        "a3bf5fbf122b4923b9f20164deb51522": {
          "model_module": "@jupyter-widgets/controls",
          "model_name": "HBoxModel",
          "model_module_version": "1.5.0",
          "state": {
            "_dom_classes": [],
            "_model_module": "@jupyter-widgets/controls",
            "_model_module_version": "1.5.0",
            "_model_name": "HBoxModel",
            "_view_count": null,
            "_view_module": "@jupyter-widgets/controls",
            "_view_module_version": "1.5.0",
            "_view_name": "HBoxView",
            "box_style": "",
            "children": [
              "IPY_MODEL_a09d3530fd9b4812a8818e945e13dc2a",
              "IPY_MODEL_5482961f871e49ec9d93ea1361eb8486",
              "IPY_MODEL_3ce9f7bc511b4bb2878c14438c9f3c4c"
            ],
            "layout": "IPY_MODEL_30b1ac1204d1467fa51cc06895385ee1"
          }
        },
        "a09d3530fd9b4812a8818e945e13dc2a": {
          "model_module": "@jupyter-widgets/controls",
          "model_name": "HTMLModel",
          "model_module_version": "1.5.0",
          "state": {
            "_dom_classes": [],
            "_model_module": "@jupyter-widgets/controls",
            "_model_module_version": "1.5.0",
            "_model_name": "HTMLModel",
            "_view_count": null,
            "_view_module": "@jupyter-widgets/controls",
            "_view_module_version": "1.5.0",
            "_view_name": "HTMLView",
            "description": "",
            "description_tooltip": null,
            "layout": "IPY_MODEL_77b21e027f174b15af86bf450d5039c2",
            "placeholder": "​",
            "style": "IPY_MODEL_c6c75044b0104f3495258b960810e834",
            "value": "Downloading: 100%"
          }
        },
        "5482961f871e49ec9d93ea1361eb8486": {
          "model_module": "@jupyter-widgets/controls",
          "model_name": "FloatProgressModel",
          "model_module_version": "1.5.0",
          "state": {
            "_dom_classes": [],
            "_model_module": "@jupyter-widgets/controls",
            "_model_module_version": "1.5.0",
            "_model_name": "FloatProgressModel",
            "_view_count": null,
            "_view_module": "@jupyter-widgets/controls",
            "_view_module_version": "1.5.0",
            "_view_name": "ProgressView",
            "bar_style": "success",
            "description": "",
            "description_tooltip": null,
            "layout": "IPY_MODEL_0d1cccdbb262400196beb572835a08d4",
            "max": 1115590446,
            "min": 0,
            "orientation": "horizontal",
            "style": "IPY_MODEL_da94ce365f4e415ba5af2003e058bc39",
            "value": 1115590446
          }
        },
        "3ce9f7bc511b4bb2878c14438c9f3c4c": {
          "model_module": "@jupyter-widgets/controls",
          "model_name": "HTMLModel",
          "model_module_version": "1.5.0",
          "state": {
            "_dom_classes": [],
            "_model_module": "@jupyter-widgets/controls",
            "_model_module_version": "1.5.0",
            "_model_name": "HTMLModel",
            "_view_count": null,
            "_view_module": "@jupyter-widgets/controls",
            "_view_module_version": "1.5.0",
            "_view_name": "HTMLView",
            "description": "",
            "description_tooltip": null,
            "layout": "IPY_MODEL_49cf27132922435aafc45bf7b792cf24",
            "placeholder": "​",
            "style": "IPY_MODEL_3993d259db434929ab13b8286fa70d3a",
            "value": " 1.04G/1.04G [00:26&lt;00:00, 32.3MB/s]"
          }
        },
        "30b1ac1204d1467fa51cc06895385ee1": {
          "model_module": "@jupyter-widgets/base",
          "model_name": "LayoutModel",
          "model_module_version": "1.2.0",
          "state": {
            "_model_module": "@jupyter-widgets/base",
            "_model_module_version": "1.2.0",
            "_model_name": "LayoutModel",
            "_view_count": null,
            "_view_module": "@jupyter-widgets/base",
            "_view_module_version": "1.2.0",
            "_view_name": "LayoutView",
            "align_content": null,
            "align_items": null,
            "align_self": null,
            "border": null,
            "bottom": null,
            "display": null,
            "flex": null,
            "flex_flow": null,
            "grid_area": null,
            "grid_auto_columns": null,
            "grid_auto_flow": null,
            "grid_auto_rows": null,
            "grid_column": null,
            "grid_gap": null,
            "grid_row": null,
            "grid_template_areas": null,
            "grid_template_columns": null,
            "grid_template_rows": null,
            "height": null,
            "justify_content": null,
            "justify_items": null,
            "left": null,
            "margin": null,
            "max_height": null,
            "max_width": null,
            "min_height": null,
            "min_width": null,
            "object_fit": null,
            "object_position": null,
            "order": null,
            "overflow": null,
            "overflow_x": null,
            "overflow_y": null,
            "padding": null,
            "right": null,
            "top": null,
            "visibility": null,
            "width": null
          }
        },
        "77b21e027f174b15af86bf450d5039c2": {
          "model_module": "@jupyter-widgets/base",
          "model_name": "LayoutModel",
          "model_module_version": "1.2.0",
          "state": {
            "_model_module": "@jupyter-widgets/base",
            "_model_module_version": "1.2.0",
            "_model_name": "LayoutModel",
            "_view_count": null,
            "_view_module": "@jupyter-widgets/base",
            "_view_module_version": "1.2.0",
            "_view_name": "LayoutView",
            "align_content": null,
            "align_items": null,
            "align_self": null,
            "border": null,
            "bottom": null,
            "display": null,
            "flex": null,
            "flex_flow": null,
            "grid_area": null,
            "grid_auto_columns": null,
            "grid_auto_flow": null,
            "grid_auto_rows": null,
            "grid_column": null,
            "grid_gap": null,
            "grid_row": null,
            "grid_template_areas": null,
            "grid_template_columns": null,
            "grid_template_rows": null,
            "height": null,
            "justify_content": null,
            "justify_items": null,
            "left": null,
            "margin": null,
            "max_height": null,
            "max_width": null,
            "min_height": null,
            "min_width": null,
            "object_fit": null,
            "object_position": null,
            "order": null,
            "overflow": null,
            "overflow_x": null,
            "overflow_y": null,
            "padding": null,
            "right": null,
            "top": null,
            "visibility": null,
            "width": null
          }
        },
        "c6c75044b0104f3495258b960810e834": {
          "model_module": "@jupyter-widgets/controls",
          "model_name": "DescriptionStyleModel",
          "model_module_version": "1.5.0",
          "state": {
            "_model_module": "@jupyter-widgets/controls",
            "_model_module_version": "1.5.0",
            "_model_name": "DescriptionStyleModel",
            "_view_count": null,
            "_view_module": "@jupyter-widgets/base",
            "_view_module_version": "1.2.0",
            "_view_name": "StyleView",
            "description_width": ""
          }
        },
        "0d1cccdbb262400196beb572835a08d4": {
          "model_module": "@jupyter-widgets/base",
          "model_name": "LayoutModel",
          "model_module_version": "1.2.0",
          "state": {
            "_model_module": "@jupyter-widgets/base",
            "_model_module_version": "1.2.0",
            "_model_name": "LayoutModel",
            "_view_count": null,
            "_view_module": "@jupyter-widgets/base",
            "_view_module_version": "1.2.0",
            "_view_name": "LayoutView",
            "align_content": null,
            "align_items": null,
            "align_self": null,
            "border": null,
            "bottom": null,
            "display": null,
            "flex": null,
            "flex_flow": null,
            "grid_area": null,
            "grid_auto_columns": null,
            "grid_auto_flow": null,
            "grid_auto_rows": null,
            "grid_column": null,
            "grid_gap": null,
            "grid_row": null,
            "grid_template_areas": null,
            "grid_template_columns": null,
            "grid_template_rows": null,
            "height": null,
            "justify_content": null,
            "justify_items": null,
            "left": null,
            "margin": null,
            "max_height": null,
            "max_width": null,
            "min_height": null,
            "min_width": null,
            "object_fit": null,
            "object_position": null,
            "order": null,
            "overflow": null,
            "overflow_x": null,
            "overflow_y": null,
            "padding": null,
            "right": null,
            "top": null,
            "visibility": null,
            "width": null
          }
        },
        "da94ce365f4e415ba5af2003e058bc39": {
          "model_module": "@jupyter-widgets/controls",
          "model_name": "ProgressStyleModel",
          "model_module_version": "1.5.0",
          "state": {
            "_model_module": "@jupyter-widgets/controls",
            "_model_module_version": "1.5.0",
            "_model_name": "ProgressStyleModel",
            "_view_count": null,
            "_view_module": "@jupyter-widgets/base",
            "_view_module_version": "1.2.0",
            "_view_name": "StyleView",
            "bar_color": null,
            "description_width": ""
          }
        },
        "49cf27132922435aafc45bf7b792cf24": {
          "model_module": "@jupyter-widgets/base",
          "model_name": "LayoutModel",
          "model_module_version": "1.2.0",
          "state": {
            "_model_module": "@jupyter-widgets/base",
            "_model_module_version": "1.2.0",
            "_model_name": "LayoutModel",
            "_view_count": null,
            "_view_module": "@jupyter-widgets/base",
            "_view_module_version": "1.2.0",
            "_view_name": "LayoutView",
            "align_content": null,
            "align_items": null,
            "align_self": null,
            "border": null,
            "bottom": null,
            "display": null,
            "flex": null,
            "flex_flow": null,
            "grid_area": null,
            "grid_auto_columns": null,
            "grid_auto_flow": null,
            "grid_auto_rows": null,
            "grid_column": null,
            "grid_gap": null,
            "grid_row": null,
            "grid_template_areas": null,
            "grid_template_columns": null,
            "grid_template_rows": null,
            "height": null,
            "justify_content": null,
            "justify_items": null,
            "left": null,
            "margin": null,
            "max_height": null,
            "max_width": null,
            "min_height": null,
            "min_width": null,
            "object_fit": null,
            "object_position": null,
            "order": null,
            "overflow": null,
            "overflow_x": null,
            "overflow_y": null,
            "padding": null,
            "right": null,
            "top": null,
            "visibility": null,
            "width": null
          }
        },
        "3993d259db434929ab13b8286fa70d3a": {
          "model_module": "@jupyter-widgets/controls",
          "model_name": "DescriptionStyleModel",
          "model_module_version": "1.5.0",
          "state": {
            "_model_module": "@jupyter-widgets/controls",
            "_model_module_version": "1.5.0",
            "_model_name": "DescriptionStyleModel",
            "_view_count": null,
            "_view_module": "@jupyter-widgets/base",
            "_view_module_version": "1.2.0",
            "_view_name": "StyleView",
            "description_width": ""
          }
        },
        "2d331b3aa7ba47078577ec726c7d7ac2": {
          "model_module": "@jupyter-widgets/controls",
          "model_name": "HBoxModel",
          "model_module_version": "1.5.0",
          "state": {
            "_dom_classes": [],
            "_model_module": "@jupyter-widgets/controls",
            "_model_module_version": "1.5.0",
            "_model_name": "HBoxModel",
            "_view_count": null,
            "_view_module": "@jupyter-widgets/controls",
            "_view_module_version": "1.5.0",
            "_view_name": "HBoxView",
            "box_style": "",
            "children": [
              "IPY_MODEL_531432673697471a980664cfeedeaece",
              "IPY_MODEL_9d6f1889d5d641c9b7aab79d532188dc",
              "IPY_MODEL_a500f19374694c82acea68350c8dfc8a"
            ],
            "layout": "IPY_MODEL_3431c4bf738647359994adaffceef23f"
          }
        },
        "531432673697471a980664cfeedeaece": {
          "model_module": "@jupyter-widgets/controls",
          "model_name": "HTMLModel",
          "model_module_version": "1.5.0",
          "state": {
            "_dom_classes": [],
            "_model_module": "@jupyter-widgets/controls",
            "_model_module_version": "1.5.0",
            "_model_name": "HTMLModel",
            "_view_count": null,
            "_view_module": "@jupyter-widgets/controls",
            "_view_module_version": "1.5.0",
            "_view_name": "HTMLView",
            "description": "",
            "description_tooltip": null,
            "layout": "IPY_MODEL_5879d5916ae54d339aa60e8ce9774063",
            "placeholder": "​",
            "style": "IPY_MODEL_514a328811a549fe88afb77da72ffc6f",
            "value": "  6%"
          }
        },
        "9d6f1889d5d641c9b7aab79d532188dc": {
          "model_module": "@jupyter-widgets/controls",
          "model_name": "FloatProgressModel",
          "model_module_version": "1.5.0",
          "state": {
            "_dom_classes": [],
            "_model_module": "@jupyter-widgets/controls",
            "_model_module_version": "1.5.0",
            "_model_name": "FloatProgressModel",
            "_view_count": null,
            "_view_module": "@jupyter-widgets/controls",
            "_view_module_version": "1.5.0",
            "_view_name": "ProgressView",
            "bar_style": "",
            "description": "",
            "description_tooltip": null,
            "layout": "IPY_MODEL_6b0628e721d24ffa8497700ded23cfed",
            "max": 12322,
            "min": 0,
            "orientation": "horizontal",
            "style": "IPY_MODEL_6d8f9b3594e3438f83f87df8a3d2574e",
            "value": 783
          }
        },
        "a500f19374694c82acea68350c8dfc8a": {
          "model_module": "@jupyter-widgets/controls",
          "model_name": "HTMLModel",
          "model_module_version": "1.5.0",
          "state": {
            "_dom_classes": [],
            "_model_module": "@jupyter-widgets/controls",
            "_model_module_version": "1.5.0",
            "_model_name": "HTMLModel",
            "_view_count": null,
            "_view_module": "@jupyter-widgets/controls",
            "_view_module_version": "1.5.0",
            "_view_name": "HTMLView",
            "description": "",
            "description_tooltip": null,
            "layout": "IPY_MODEL_ce23bc7955fd4cd9a1a3e68a55c830ea",
            "placeholder": "​",
            "style": "IPY_MODEL_dd108bd00b5e41aa950fad0fe48f18a8",
            "value": " 783/12322 [09:34&lt;2:21:19,  1.36it/s, train_loss_per_batch=0.481]"
          }
        },
        "3431c4bf738647359994adaffceef23f": {
          "model_module": "@jupyter-widgets/base",
          "model_name": "LayoutModel",
          "model_module_version": "1.2.0",
          "state": {
            "_model_module": "@jupyter-widgets/base",
            "_model_module_version": "1.2.0",
            "_model_name": "LayoutModel",
            "_view_count": null,
            "_view_module": "@jupyter-widgets/base",
            "_view_module_version": "1.2.0",
            "_view_name": "LayoutView",
            "align_content": null,
            "align_items": null,
            "align_self": null,
            "border": null,
            "bottom": null,
            "display": null,
            "flex": null,
            "flex_flow": null,
            "grid_area": null,
            "grid_auto_columns": null,
            "grid_auto_flow": null,
            "grid_auto_rows": null,
            "grid_column": null,
            "grid_gap": null,
            "grid_row": null,
            "grid_template_areas": null,
            "grid_template_columns": null,
            "grid_template_rows": null,
            "height": null,
            "justify_content": null,
            "justify_items": null,
            "left": null,
            "margin": null,
            "max_height": null,
            "max_width": null,
            "min_height": null,
            "min_width": null,
            "object_fit": null,
            "object_position": null,
            "order": null,
            "overflow": null,
            "overflow_x": null,
            "overflow_y": null,
            "padding": null,
            "right": null,
            "top": null,
            "visibility": null,
            "width": null
          }
        },
        "5879d5916ae54d339aa60e8ce9774063": {
          "model_module": "@jupyter-widgets/base",
          "model_name": "LayoutModel",
          "model_module_version": "1.2.0",
          "state": {
            "_model_module": "@jupyter-widgets/base",
            "_model_module_version": "1.2.0",
            "_model_name": "LayoutModel",
            "_view_count": null,
            "_view_module": "@jupyter-widgets/base",
            "_view_module_version": "1.2.0",
            "_view_name": "LayoutView",
            "align_content": null,
            "align_items": null,
            "align_self": null,
            "border": null,
            "bottom": null,
            "display": null,
            "flex": null,
            "flex_flow": null,
            "grid_area": null,
            "grid_auto_columns": null,
            "grid_auto_flow": null,
            "grid_auto_rows": null,
            "grid_column": null,
            "grid_gap": null,
            "grid_row": null,
            "grid_template_areas": null,
            "grid_template_columns": null,
            "grid_template_rows": null,
            "height": null,
            "justify_content": null,
            "justify_items": null,
            "left": null,
            "margin": null,
            "max_height": null,
            "max_width": null,
            "min_height": null,
            "min_width": null,
            "object_fit": null,
            "object_position": null,
            "order": null,
            "overflow": null,
            "overflow_x": null,
            "overflow_y": null,
            "padding": null,
            "right": null,
            "top": null,
            "visibility": null,
            "width": null
          }
        },
        "514a328811a549fe88afb77da72ffc6f": {
          "model_module": "@jupyter-widgets/controls",
          "model_name": "DescriptionStyleModel",
          "model_module_version": "1.5.0",
          "state": {
            "_model_module": "@jupyter-widgets/controls",
            "_model_module_version": "1.5.0",
            "_model_name": "DescriptionStyleModel",
            "_view_count": null,
            "_view_module": "@jupyter-widgets/base",
            "_view_module_version": "1.2.0",
            "_view_name": "StyleView",
            "description_width": ""
          }
        },
        "6b0628e721d24ffa8497700ded23cfed": {
          "model_module": "@jupyter-widgets/base",
          "model_name": "LayoutModel",
          "model_module_version": "1.2.0",
          "state": {
            "_model_module": "@jupyter-widgets/base",
            "_model_module_version": "1.2.0",
            "_model_name": "LayoutModel",
            "_view_count": null,
            "_view_module": "@jupyter-widgets/base",
            "_view_module_version": "1.2.0",
            "_view_name": "LayoutView",
            "align_content": null,
            "align_items": null,
            "align_self": null,
            "border": null,
            "bottom": null,
            "display": null,
            "flex": null,
            "flex_flow": null,
            "grid_area": null,
            "grid_auto_columns": null,
            "grid_auto_flow": null,
            "grid_auto_rows": null,
            "grid_column": null,
            "grid_gap": null,
            "grid_row": null,
            "grid_template_areas": null,
            "grid_template_columns": null,
            "grid_template_rows": null,
            "height": null,
            "justify_content": null,
            "justify_items": null,
            "left": null,
            "margin": null,
            "max_height": null,
            "max_width": null,
            "min_height": null,
            "min_width": null,
            "object_fit": null,
            "object_position": null,
            "order": null,
            "overflow": null,
            "overflow_x": null,
            "overflow_y": null,
            "padding": null,
            "right": null,
            "top": null,
            "visibility": null,
            "width": null
          }
        },
        "6d8f9b3594e3438f83f87df8a3d2574e": {
          "model_module": "@jupyter-widgets/controls",
          "model_name": "ProgressStyleModel",
          "model_module_version": "1.5.0",
          "state": {
            "_model_module": "@jupyter-widgets/controls",
            "_model_module_version": "1.5.0",
            "_model_name": "ProgressStyleModel",
            "_view_count": null,
            "_view_module": "@jupyter-widgets/base",
            "_view_module_version": "1.2.0",
            "_view_name": "StyleView",
            "bar_color": null,
            "description_width": ""
          }
        },
        "ce23bc7955fd4cd9a1a3e68a55c830ea": {
          "model_module": "@jupyter-widgets/base",
          "model_name": "LayoutModel",
          "model_module_version": "1.2.0",
          "state": {
            "_model_module": "@jupyter-widgets/base",
            "_model_module_version": "1.2.0",
            "_model_name": "LayoutModel",
            "_view_count": null,
            "_view_module": "@jupyter-widgets/base",
            "_view_module_version": "1.2.0",
            "_view_name": "LayoutView",
            "align_content": null,
            "align_items": null,
            "align_self": null,
            "border": null,
            "bottom": null,
            "display": null,
            "flex": null,
            "flex_flow": null,
            "grid_area": null,
            "grid_auto_columns": null,
            "grid_auto_flow": null,
            "grid_auto_rows": null,
            "grid_column": null,
            "grid_gap": null,
            "grid_row": null,
            "grid_template_areas": null,
            "grid_template_columns": null,
            "grid_template_rows": null,
            "height": null,
            "justify_content": null,
            "justify_items": null,
            "left": null,
            "margin": null,
            "max_height": null,
            "max_width": null,
            "min_height": null,
            "min_width": null,
            "object_fit": null,
            "object_position": null,
            "order": null,
            "overflow": null,
            "overflow_x": null,
            "overflow_y": null,
            "padding": null,
            "right": null,
            "top": null,
            "visibility": null,
            "width": null
          }
        },
        "dd108bd00b5e41aa950fad0fe48f18a8": {
          "model_module": "@jupyter-widgets/controls",
          "model_name": "DescriptionStyleModel",
          "model_module_version": "1.5.0",
          "state": {
            "_model_module": "@jupyter-widgets/controls",
            "_model_module_version": "1.5.0",
            "_model_name": "DescriptionStyleModel",
            "_view_count": null,
            "_view_module": "@jupyter-widgets/base",
            "_view_module_version": "1.2.0",
            "_view_name": "StyleView",
            "description_width": ""
          }
        }
      }
    }
  },
  "cells": [
    {
      "cell_type": "code",
      "source": [
        "!nvidia-smi"
      ],
      "metadata": {
        "colab": {
          "base_uri": "https://localhost:8080/"
        },
        "id": "CxY5c_2qEMgN",
        "outputId": "9a9cc49d-15cb-4cfa-e9ab-3f47a582c57a"
      },
      "execution_count": null,
      "outputs": [
        {
          "output_type": "stream",
          "name": "stdout",
          "text": [
            "Wed May 25 02:21:59 2022       \n",
            "+-----------------------------------------------------------------------------+\n",
            "| NVIDIA-SMI 460.32.03    Driver Version: 460.32.03    CUDA Version: 11.2     |\n",
            "|-------------------------------+----------------------+----------------------+\n",
            "| GPU  Name        Persistence-M| Bus-Id        Disp.A | Volatile Uncorr. ECC |\n",
            "| Fan  Temp  Perf  Pwr:Usage/Cap|         Memory-Usage | GPU-Util  Compute M. |\n",
            "|                               |                      |               MIG M. |\n",
            "|===============================+======================+======================|\n",
            "|   0  Tesla T4            Off  | 00000000:00:04.0 Off |                    0 |\n",
            "| N/A   39C    P8    10W /  70W |      0MiB / 15109MiB |      0%      Default |\n",
            "|                               |                      |                  N/A |\n",
            "+-------------------------------+----------------------+----------------------+\n",
            "                                                                               \n",
            "+-----------------------------------------------------------------------------+\n",
            "| Processes:                                                                  |\n",
            "|  GPU   GI   CI        PID   Type   Process name                  GPU Memory |\n",
            "|        ID   ID                                                   Usage      |\n",
            "|=============================================================================|\n",
            "|  No running processes found                                                 |\n",
            "+-----------------------------------------------------------------------------+\n"
          ]
        }
      ]
    },
    {
      "cell_type": "code",
      "source": [
        "from google.colab import drive\n",
        "drive.mount('/content/drive')"
      ],
      "metadata": {
        "colab": {
          "base_uri": "https://localhost:8080/"
        },
        "id": "ErtFvD4HfhJr",
        "outputId": "a8d10915-1e6a-4ec1-f427-4515c0eb059d"
      },
      "execution_count": null,
      "outputs": [
        {
          "output_type": "stream",
          "name": "stdout",
          "text": [
            "Mounted at /content/drive\n"
          ]
        }
      ]
    },
    {
      "cell_type": "markdown",
      "source": [
        "#Install modules"
      ],
      "metadata": {
        "id": "v2MsaeD_kjI6"
      }
    },
    {
      "cell_type": "code",
      "execution_count": null,
      "metadata": {
        "colab": {
          "base_uri": "https://localhost:8080/",
          "height": 1000
        },
        "id": "w9arB1afY4kn",
        "outputId": "2c0c2a61-a2f2-4f35-97ac-579ef392959f"
      },
      "outputs": [
        {
          "output_type": "stream",
          "name": "stdout",
          "text": [
            "Collecting datasets\n",
            "  Downloading datasets-2.2.1-py3-none-any.whl (342 kB)\n",
            "\u001b[K     |████████████████████████████████| 342 kB 5.4 MB/s \n",
            "\u001b[?25hRequirement already satisfied: pyarrow>=6.0.0 in /usr/local/lib/python3.7/dist-packages (from datasets) (6.0.1)\n",
            "Collecting fsspec[http]>=2021.05.0\n",
            "  Downloading fsspec-2022.5.0-py3-none-any.whl (140 kB)\n",
            "\u001b[K     |████████████████████████████████| 140 kB 51.0 MB/s \n",
            "\u001b[?25hCollecting aiohttp\n",
            "  Downloading aiohttp-3.8.1-cp37-cp37m-manylinux_2_5_x86_64.manylinux1_x86_64.manylinux_2_12_x86_64.manylinux2010_x86_64.whl (1.1 MB)\n",
            "\u001b[K     |████████████████████████████████| 1.1 MB 50.5 MB/s \n",
            "\u001b[?25hRequirement already satisfied: huggingface-hub<1.0.0,>=0.1.0 in /usr/local/lib/python3.7/dist-packages (from datasets) (0.6.0)\n",
            "Requirement already satisfied: packaging in /usr/local/lib/python3.7/dist-packages (from datasets) (21.3)\n",
            "Requirement already satisfied: tqdm>=4.62.1 in /usr/local/lib/python3.7/dist-packages (from datasets) (4.64.0)\n",
            "Requirement already satisfied: numpy>=1.17 in /usr/local/lib/python3.7/dist-packages (from datasets) (1.21.6)\n",
            "Collecting xxhash\n",
            "  Downloading xxhash-3.0.0-cp37-cp37m-manylinux_2_17_x86_64.manylinux2014_x86_64.whl (212 kB)\n",
            "\u001b[K     |████████████████████████████████| 212 kB 55.8 MB/s \n",
            "\u001b[?25hRequirement already satisfied: multiprocess in /usr/local/lib/python3.7/dist-packages (from datasets) (0.70.12.2)\n",
            "Collecting responses<0.19\n",
            "  Downloading responses-0.18.0-py3-none-any.whl (38 kB)\n",
            "Requirement already satisfied: pandas in /usr/local/lib/python3.7/dist-packages (from datasets) (1.3.5)\n",
            "Requirement already satisfied: importlib-metadata in /usr/local/lib/python3.7/dist-packages (from datasets) (4.11.3)\n",
            "Requirement already satisfied: dill in /usr/local/lib/python3.7/dist-packages (from datasets) (0.3.4)\n",
            "Requirement already satisfied: requests>=2.19.0 in /usr/local/lib/python3.7/dist-packages (from datasets) (2.23.0)\n",
            "Requirement already satisfied: pyyaml in /usr/local/lib/python3.7/dist-packages (from huggingface-hub<1.0.0,>=0.1.0->datasets) (6.0)\n",
            "Requirement already satisfied: filelock in /usr/local/lib/python3.7/dist-packages (from huggingface-hub<1.0.0,>=0.1.0->datasets) (3.7.0)\n",
            "Requirement already satisfied: typing-extensions>=3.7.4.3 in /usr/local/lib/python3.7/dist-packages (from huggingface-hub<1.0.0,>=0.1.0->datasets) (4.2.0)\n",
            "Requirement already satisfied: pyparsing!=3.0.5,>=2.0.2 in /usr/local/lib/python3.7/dist-packages (from packaging->datasets) (3.0.9)\n",
            "Requirement already satisfied: urllib3!=1.25.0,!=1.25.1,<1.26,>=1.21.1 in /usr/local/lib/python3.7/dist-packages (from requests>=2.19.0->datasets) (1.24.3)\n",
            "Requirement already satisfied: idna<3,>=2.5 in /usr/local/lib/python3.7/dist-packages (from requests>=2.19.0->datasets) (2.10)\n",
            "Requirement already satisfied: certifi>=2017.4.17 in /usr/local/lib/python3.7/dist-packages (from requests>=2.19.0->datasets) (2021.10.8)\n",
            "Requirement already satisfied: chardet<4,>=3.0.2 in /usr/local/lib/python3.7/dist-packages (from requests>=2.19.0->datasets) (3.0.4)\n",
            "Collecting urllib3!=1.25.0,!=1.25.1,<1.26,>=1.21.1\n",
            "  Downloading urllib3-1.25.11-py2.py3-none-any.whl (127 kB)\n",
            "\u001b[K     |████████████████████████████████| 127 kB 56.7 MB/s \n",
            "\u001b[?25hCollecting aiosignal>=1.1.2\n",
            "  Downloading aiosignal-1.2.0-py3-none-any.whl (8.2 kB)\n",
            "Collecting yarl<2.0,>=1.0\n",
            "  Downloading yarl-1.7.2-cp37-cp37m-manylinux_2_5_x86_64.manylinux1_x86_64.manylinux_2_12_x86_64.manylinux2010_x86_64.whl (271 kB)\n",
            "\u001b[K     |████████████████████████████████| 271 kB 55.3 MB/s \n",
            "\u001b[?25hCollecting asynctest==0.13.0\n",
            "  Downloading asynctest-0.13.0-py3-none-any.whl (26 kB)\n",
            "Requirement already satisfied: attrs>=17.3.0 in /usr/local/lib/python3.7/dist-packages (from aiohttp->datasets) (21.4.0)\n",
            "Collecting frozenlist>=1.1.1\n",
            "  Downloading frozenlist-1.3.0-cp37-cp37m-manylinux_2_5_x86_64.manylinux1_x86_64.manylinux_2_17_x86_64.manylinux2014_x86_64.whl (144 kB)\n",
            "\u001b[K     |████████████████████████████████| 144 kB 58.7 MB/s \n",
            "\u001b[?25hCollecting multidict<7.0,>=4.5\n",
            "  Downloading multidict-6.0.2-cp37-cp37m-manylinux_2_17_x86_64.manylinux2014_x86_64.whl (94 kB)\n",
            "\u001b[K     |████████████████████████████████| 94 kB 4.2 MB/s \n",
            "\u001b[?25hCollecting async-timeout<5.0,>=4.0.0a3\n",
            "  Downloading async_timeout-4.0.2-py3-none-any.whl (5.8 kB)\n",
            "Requirement already satisfied: charset-normalizer<3.0,>=2.0 in /usr/local/lib/python3.7/dist-packages (from aiohttp->datasets) (2.0.12)\n",
            "Requirement already satisfied: zipp>=0.5 in /usr/local/lib/python3.7/dist-packages (from importlib-metadata->datasets) (3.8.0)\n",
            "Requirement already satisfied: pytz>=2017.3 in /usr/local/lib/python3.7/dist-packages (from pandas->datasets) (2022.1)\n",
            "Requirement already satisfied: python-dateutil>=2.7.3 in /usr/local/lib/python3.7/dist-packages (from pandas->datasets) (2.8.2)\n",
            "Requirement already satisfied: six>=1.5 in /usr/local/lib/python3.7/dist-packages (from python-dateutil>=2.7.3->pandas->datasets) (1.15.0)\n",
            "Installing collected packages: multidict, frozenlist, yarl, urllib3, asynctest, async-timeout, aiosignal, fsspec, aiohttp, xxhash, responses, datasets\n",
            "  Attempting uninstall: urllib3\n",
            "    Found existing installation: urllib3 1.24.3\n",
            "    Uninstalling urllib3-1.24.3:\n",
            "      Successfully uninstalled urllib3-1.24.3\n",
            "\u001b[31mERROR: pip's dependency resolver does not currently take into account all the packages that are installed. This behaviour is the source of the following dependency conflicts.\n",
            "datascience 0.10.6 requires folium==0.2.1, but you have folium 0.8.3 which is incompatible.\u001b[0m\n",
            "Successfully installed aiohttp-3.8.1 aiosignal-1.2.0 async-timeout-4.0.2 asynctest-0.13.0 datasets-2.2.1 frozenlist-1.3.0 fsspec-2022.5.0 multidict-6.0.2 responses-0.18.0 urllib3-1.25.11 xxhash-3.0.0 yarl-1.7.2\n"
          ]
        },
        {
          "output_type": "display_data",
          "data": {
            "application/vnd.colab-display-data+json": {
              "pip_warning": {
                "packages": [
                  "urllib3"
                ]
              }
            }
          },
          "metadata": {}
        }
      ],
      "source": [
        "pip install datasets"
      ]
    },
    {
      "cell_type": "code",
      "source": [
        "pip install transformers"
      ],
      "metadata": {
        "colab": {
          "base_uri": "https://localhost:8080/"
        },
        "id": "fP7CyBVpco_l",
        "outputId": "9dd18985-a6bc-4dfb-e3b0-4c0ea73a9929"
      },
      "execution_count": null,
      "outputs": [
        {
          "output_type": "stream",
          "name": "stdout",
          "text": [
            "Looking in indexes: https://pypi.org/simple, https://us-python.pkg.dev/colab-wheels/public/simple/\n",
            "Collecting transformers\n",
            "  Downloading transformers-4.19.2-py3-none-any.whl (4.2 MB)\n",
            "\u001b[K     |████████████████████████████████| 4.2 MB 31.6 MB/s \n",
            "\u001b[?25hCollecting huggingface-hub<1.0,>=0.1.0\n",
            "  Downloading huggingface_hub-0.7.0-py3-none-any.whl (86 kB)\n",
            "\u001b[K     |████████████████████████████████| 86 kB 6.1 MB/s \n",
            "\u001b[?25hRequirement already satisfied: regex!=2019.12.17 in /usr/local/lib/python3.7/dist-packages (from transformers) (2019.12.20)\n",
            "Collecting pyyaml>=5.1\n",
            "  Downloading PyYAML-6.0-cp37-cp37m-manylinux_2_5_x86_64.manylinux1_x86_64.manylinux_2_12_x86_64.manylinux2010_x86_64.whl (596 kB)\n",
            "\u001b[K     |████████████████████████████████| 596 kB 43.4 MB/s \n",
            "\u001b[?25hRequirement already satisfied: requests in /usr/local/lib/python3.7/dist-packages (from transformers) (2.23.0)\n",
            "Requirement already satisfied: packaging>=20.0 in /usr/local/lib/python3.7/dist-packages (from transformers) (21.3)\n",
            "Requirement already satisfied: tqdm>=4.27 in /usr/local/lib/python3.7/dist-packages (from transformers) (4.64.0)\n",
            "Requirement already satisfied: importlib-metadata in /usr/local/lib/python3.7/dist-packages (from transformers) (4.11.3)\n",
            "Requirement already satisfied: filelock in /usr/local/lib/python3.7/dist-packages (from transformers) (3.7.0)\n",
            "Collecting tokenizers!=0.11.3,<0.13,>=0.11.1\n",
            "  Downloading tokenizers-0.12.1-cp37-cp37m-manylinux_2_12_x86_64.manylinux2010_x86_64.whl (6.6 MB)\n",
            "\u001b[K     |████████████████████████████████| 6.6 MB 61.7 MB/s \n",
            "\u001b[?25hRequirement already satisfied: numpy>=1.17 in /usr/local/lib/python3.7/dist-packages (from transformers) (1.21.6)\n",
            "Requirement already satisfied: typing-extensions>=3.7.4.3 in /usr/local/lib/python3.7/dist-packages (from huggingface-hub<1.0,>=0.1.0->transformers) (4.2.0)\n",
            "Requirement already satisfied: pyparsing!=3.0.5,>=2.0.2 in /usr/local/lib/python3.7/dist-packages (from packaging>=20.0->transformers) (3.0.9)\n",
            "Requirement already satisfied: zipp>=0.5 in /usr/local/lib/python3.7/dist-packages (from importlib-metadata->transformers) (3.8.0)\n",
            "Requirement already satisfied: urllib3!=1.25.0,!=1.25.1,<1.26,>=1.21.1 in /usr/local/lib/python3.7/dist-packages (from requests->transformers) (1.24.3)\n",
            "Requirement already satisfied: idna<3,>=2.5 in /usr/local/lib/python3.7/dist-packages (from requests->transformers) (2.10)\n",
            "Requirement already satisfied: chardet<4,>=3.0.2 in /usr/local/lib/python3.7/dist-packages (from requests->transformers) (3.0.4)\n",
            "Requirement already satisfied: certifi>=2017.4.17 in /usr/local/lib/python3.7/dist-packages (from requests->transformers) (2022.5.18.1)\n",
            "Installing collected packages: pyyaml, tokenizers, huggingface-hub, transformers\n",
            "  Attempting uninstall: pyyaml\n",
            "    Found existing installation: PyYAML 3.13\n",
            "    Uninstalling PyYAML-3.13:\n",
            "      Successfully uninstalled PyYAML-3.13\n",
            "Successfully installed huggingface-hub-0.7.0 pyyaml-6.0 tokenizers-0.12.1 transformers-4.19.2\n"
          ]
        }
      ]
    },
    {
      "cell_type": "code",
      "source": [
        "from datasets import load_dataset\n",
        "\n",
        "dataset = load_dataset(\"xnli\",language='vi')"
      ],
      "metadata": {
        "colab": {
          "base_uri": "https://localhost:8080/",
          "height": 84,
          "referenced_widgets": [
            "6272056665ac4f28b7da407d7ae806fa",
            "c8b3a561637745988f376e38c23d4a81",
            "01df6809f9334d0fadee5c4739d4e2b8",
            "5a3ae359254849e08aa872ea84624afd",
            "84a4c7678716488eb987af72dd3c0ea7",
            "324d4a92a86442748f2f0bf747801bc8",
            "6779bc29225e454f82714a2d6091b2bb",
            "b20c6a923dbc46c882dcc7fe0430f7c6",
            "f4fda75275c54bec9b92edde7cc13da8",
            "d5a0520756a84915a4e7700a3dbdd0c7",
            "337e39ebe5b94a35be7d9e9487306680"
          ]
        },
        "id": "X1DJHdDNegSx",
        "outputId": "ed5ed0ec-a723-4a53-aaf3-bd40703a66c5"
      },
      "execution_count": null,
      "outputs": [
        {
          "output_type": "stream",
          "name": "stderr",
          "text": [
            "Using custom data configuration default-language=vi\n",
            "Reusing dataset xnli (/root/.cache/huggingface/datasets/xnli/default-language=vi/1.1.0/818164464f9c9fd15776ca8a00423b074344c3e929d00a2c1a84aa5a50c928bd)\n"
          ]
        },
        {
          "output_type": "display_data",
          "data": {
            "text/plain": [
              "  0%|          | 0/3 [00:00<?, ?it/s]"
            ],
            "application/vnd.jupyter.widget-view+json": {
              "version_major": 2,
              "version_minor": 0,
              "model_id": "6272056665ac4f28b7da407d7ae806fa"
            }
          },
          "metadata": {}
        }
      ]
    },
    {
      "cell_type": "code",
      "source": [
        "dataset"
      ],
      "metadata": {
        "colab": {
          "base_uri": "https://localhost:8080/"
        },
        "id": "mEvnQLFzfePA",
        "outputId": "20ea17b9-692e-4c10-bcf2-b09089828b8e"
      },
      "execution_count": null,
      "outputs": [
        {
          "output_type": "execute_result",
          "data": {
            "text/plain": [
              "DatasetDict({\n",
              "    train: Dataset({\n",
              "        features: ['premise', 'hypothesis', 'label'],\n",
              "        num_rows: 392702\n",
              "    })\n",
              "    test: Dataset({\n",
              "        features: ['premise', 'hypothesis', 'label'],\n",
              "        num_rows: 5010\n",
              "    })\n",
              "    validation: Dataset({\n",
              "        features: ['premise', 'hypothesis', 'label'],\n",
              "        num_rows: 2490\n",
              "    })\n",
              "})"
            ]
          },
          "metadata": {},
          "execution_count": 2
        }
      ]
    },
    {
      "cell_type": "code",
      "source": [
        "import pandas as pd"
      ],
      "metadata": {
        "id": "gQIMkGD_fVOV"
      },
      "execution_count": null,
      "outputs": []
    },
    {
      "cell_type": "code",
      "source": [
        "train=pd.DataFrame(dataset['train'])"
      ],
      "metadata": {
        "id": "_PjOd75melBe"
      },
      "execution_count": null,
      "outputs": []
    },
    {
      "cell_type": "code",
      "source": [
        "train=train.sample(frac=1)"
      ],
      "metadata": {
        "id": "jX41T2DMf4Tm"
      },
      "execution_count": null,
      "outputs": []
    },
    {
      "cell_type": "code",
      "source": [
        "valid=pd.DataFrame(dataset['validation'])"
      ],
      "metadata": {
        "id": "9VaG3TQSfm0t"
      },
      "execution_count": null,
      "outputs": []
    },
    {
      "cell_type": "code",
      "source": [
        "test=pd.DataFrame(dataset['test'])"
      ],
      "metadata": {
        "id": "Jd_FE70Af0gM"
      },
      "execution_count": null,
      "outputs": []
    },
    {
      "cell_type": "code",
      "source": [
        "valid.to_csv(\"/content/drive/MyDrive/vi-nli/raw_dataset/valid.csv\",index=False)"
      ],
      "metadata": {
        "id": "rBA7OM7Rf111"
      },
      "execution_count": null,
      "outputs": []
    },
    {
      "cell_type": "code",
      "source": [
        "test.to_csv(\"/content/drive/MyDrive/vi-nli/raw_dataset/test.csv\",index=False)"
      ],
      "metadata": {
        "id": "_XYoHq-kgIfu"
      },
      "execution_count": null,
      "outputs": []
    },
    {
      "cell_type": "markdown",
      "source": [
        "#Import modules"
      ],
      "metadata": {
        "id": "qxr3FFXBg2uk"
      }
    },
    {
      "cell_type": "code",
      "source": [
        "import pandas as pd\n",
        "import re\n",
        "import string\n",
        "from transformers import AutoTokenizer,AutoConfig,AutoModelForSequenceClassification,get_linear_schedule_with_warmup\n",
        "import matplotlib.pyplot as plt\n",
        "from os.path import join\n",
        "import os\n",
        "from torch.utils.data import DataLoader, Dataset\n",
        "import torch\n",
        "from tqdm.auto import tqdm\n",
        "import numpy as np\n",
        "from sklearn.metrics import *"
      ],
      "metadata": {
        "id": "zBIDGnSpg4-k"
      },
      "execution_count": 1,
      "outputs": []
    },
    {
      "cell_type": "code",
      "source": [
        "device = torch.device(\"cuda\" if torch.cuda.is_available() else \"cpu\")\n",
        "device"
      ],
      "metadata": {
        "colab": {
          "base_uri": "https://localhost:8080/"
        },
        "id": "6bHpp2_qyB0_",
        "outputId": "ad754d32-5a5d-46f4-e315-78ab8fe8d9cb"
      },
      "execution_count": 2,
      "outputs": [
        {
          "output_type": "execute_result",
          "data": {
            "text/plain": [
              "device(type='cuda')"
            ]
          },
          "metadata": {},
          "execution_count": 2
        }
      ]
    },
    {
      "cell_type": "code",
      "source": [
        "name='xlm-roberta-base'\n",
        "max_length=128\n",
        "\n",
        "root='/content/drive/MyDrive/vi-nli'\n",
        "preprocessed_data=join(root,\"preprocessed_data\")\n",
        "models=join(root,'models')\n",
        "model_name=join(models,f'{name}-{max_length}')"
      ],
      "metadata": {
        "id": "zYeg3HYRpDaz"
      },
      "execution_count": 3,
      "outputs": []
    },
    {
      "cell_type": "code",
      "source": [
        "os.makedirs(preprocessed_data, exist_ok=True)"
      ],
      "metadata": {
        "id": "bQrKjLUuvB5n"
      },
      "execution_count": 4,
      "outputs": []
    },
    {
      "cell_type": "code",
      "source": [
        "tokenizer = AutoTokenizer.from_pretrained(name)"
      ],
      "metadata": {
        "id": "k9gbUY2Wo9Us"
      },
      "execution_count": 5,
      "outputs": []
    },
    {
      "cell_type": "markdown",
      "source": [
        "#Load dataset"
      ],
      "metadata": {
        "id": "8NXImQndgwGu"
      }
    },
    {
      "cell_type": "code",
      "source": [
        "train=pd.read_csv(f'/content/drive/MyDrive/vi-nli/raw_dataset/train.csv')"
      ],
      "metadata": {
        "id": "CaKGRSoWgxWE"
      },
      "execution_count": null,
      "outputs": []
    },
    {
      "cell_type": "code",
      "source": [
        "train"
      ],
      "metadata": {
        "colab": {
          "base_uri": "https://localhost:8080/",
          "height": 424
        },
        "id": "kvBZmCpCg8fc",
        "outputId": "9ad81031-182d-4202-97e9-eada5f4d92af"
      },
      "execution_count": null,
      "outputs": [
        {
          "output_type": "execute_result",
          "data": {
            "text/plain": [
              "                                                  premise  \\\n",
              "0       Hãy lấy ý tưởng rằng đàn ông trở nên ít cạnh t...   \n",
              "1       Đúng nó muốn chạy ra và lấy đồ xong rồi nên um...   \n",
              "2       Ngoài ra , kiểm soát hoạt động giúp đỡ để đảm ...   \n",
              "3       Các ưu đãi thuế lớn thứ hai nhắm vào việc khuy...   \n",
              "4       Một kỵ sĩ khác đang chán anh ta với một con la...   \n",
              "...                                                   ...   \n",
              "392697      Cả dân số và nền kinh tế bắt đầu phát triển .   \n",
              "392698  Tháng trước của tôi đã lấy một tôi đã tài trợ ...   \n",
              "392699         Ngày nay , mọi người có vẻ thích điều đó .   \n",
              "392700             Chúng ta có thể có một cái bàn không ?   \n",
              "392701  Một vị trí an toàn trên an toàn nghĩa là chỉ c...   \n",
              "\n",
              "                                               hypothesis  label  \n",
              "0       Một vợ chồng giảm testosterone trong đàn ông b...      1  \n",
              "1       Anh ta là kẻ xấu xa nhất mà tôi biết ; anh ta ...      2  \n",
              "2       Các hoạt động kiểm soát không giúp được gì với...      2  \n",
              "3       Các ưu đãi thuế lớn thứ hai nhắm vào việc khuy...      2  \n",
              "4                      Những kỵ sĩ khác đã đi xa anh ta .      2  \n",
              "...                                                   ...    ...  \n",
              "392697  Nền kinh tế bắt đầu giảm nhanh khi dân số tăng...      2  \n",
              "392698  Có một nhóm lớn trong chúng ta đã đi đến pizza...      0  \n",
              "392699  Có những bằng chứng mà tất cả mọi người đều th...      0  \n",
              "392700              Chúng tôi không muốn có một cái bàn .      2  \n",
              "392701  Một số người có một vị trí an toàn trong sự an...      1  \n",
              "\n",
              "[392702 rows x 3 columns]"
            ],
            "text/html": [
              "\n",
              "  <div id=\"df-1d56d575-21ec-4624-ae23-436815bf3bb5\">\n",
              "    <div class=\"colab-df-container\">\n",
              "      <div>\n",
              "<style scoped>\n",
              "    .dataframe tbody tr th:only-of-type {\n",
              "        vertical-align: middle;\n",
              "    }\n",
              "\n",
              "    .dataframe tbody tr th {\n",
              "        vertical-align: top;\n",
              "    }\n",
              "\n",
              "    .dataframe thead th {\n",
              "        text-align: right;\n",
              "    }\n",
              "</style>\n",
              "<table border=\"1\" class=\"dataframe\">\n",
              "  <thead>\n",
              "    <tr style=\"text-align: right;\">\n",
              "      <th></th>\n",
              "      <th>premise</th>\n",
              "      <th>hypothesis</th>\n",
              "      <th>label</th>\n",
              "    </tr>\n",
              "  </thead>\n",
              "  <tbody>\n",
              "    <tr>\n",
              "      <th>0</th>\n",
              "      <td>Hãy lấy ý tưởng rằng đàn ông trở nên ít cạnh t...</td>\n",
              "      <td>Một vợ chồng giảm testosterone trong đàn ông b...</td>\n",
              "      <td>1</td>\n",
              "    </tr>\n",
              "    <tr>\n",
              "      <th>1</th>\n",
              "      <td>Đúng nó muốn chạy ra và lấy đồ xong rồi nên um...</td>\n",
              "      <td>Anh ta là kẻ xấu xa nhất mà tôi biết ; anh ta ...</td>\n",
              "      <td>2</td>\n",
              "    </tr>\n",
              "    <tr>\n",
              "      <th>2</th>\n",
              "      <td>Ngoài ra , kiểm soát hoạt động giúp đỡ để đảm ...</td>\n",
              "      <td>Các hoạt động kiểm soát không giúp được gì với...</td>\n",
              "      <td>2</td>\n",
              "    </tr>\n",
              "    <tr>\n",
              "      <th>3</th>\n",
              "      <td>Các ưu đãi thuế lớn thứ hai nhắm vào việc khuy...</td>\n",
              "      <td>Các ưu đãi thuế lớn thứ hai nhắm vào việc khuy...</td>\n",
              "      <td>2</td>\n",
              "    </tr>\n",
              "    <tr>\n",
              "      <th>4</th>\n",
              "      <td>Một kỵ sĩ khác đang chán anh ta với một con la...</td>\n",
              "      <td>Những kỵ sĩ khác đã đi xa anh ta .</td>\n",
              "      <td>2</td>\n",
              "    </tr>\n",
              "    <tr>\n",
              "      <th>...</th>\n",
              "      <td>...</td>\n",
              "      <td>...</td>\n",
              "      <td>...</td>\n",
              "    </tr>\n",
              "    <tr>\n",
              "      <th>392697</th>\n",
              "      <td>Cả dân số và nền kinh tế bắt đầu phát triển .</td>\n",
              "      <td>Nền kinh tế bắt đầu giảm nhanh khi dân số tăng...</td>\n",
              "      <td>2</td>\n",
              "    </tr>\n",
              "    <tr>\n",
              "      <th>392698</th>\n",
              "      <td>Tháng trước của tôi đã lấy một tôi đã tài trợ ...</td>\n",
              "      <td>Có một nhóm lớn trong chúng ta đã đi đến pizza...</td>\n",
              "      <td>0</td>\n",
              "    </tr>\n",
              "    <tr>\n",
              "      <th>392699</th>\n",
              "      <td>Ngày nay , mọi người có vẻ thích điều đó .</td>\n",
              "      <td>Có những bằng chứng mà tất cả mọi người đều th...</td>\n",
              "      <td>0</td>\n",
              "    </tr>\n",
              "    <tr>\n",
              "      <th>392700</th>\n",
              "      <td>Chúng ta có thể có một cái bàn không ?</td>\n",
              "      <td>Chúng tôi không muốn có một cái bàn .</td>\n",
              "      <td>2</td>\n",
              "    </tr>\n",
              "    <tr>\n",
              "      <th>392701</th>\n",
              "      <td>Một vị trí an toàn trên an toàn nghĩa là chỉ c...</td>\n",
              "      <td>Một số người có một vị trí an toàn trong sự an...</td>\n",
              "      <td>1</td>\n",
              "    </tr>\n",
              "  </tbody>\n",
              "</table>\n",
              "<p>392702 rows × 3 columns</p>\n",
              "</div>\n",
              "      <button class=\"colab-df-convert\" onclick=\"convertToInteractive('df-1d56d575-21ec-4624-ae23-436815bf3bb5')\"\n",
              "              title=\"Convert this dataframe to an interactive table.\"\n",
              "              style=\"display:none;\">\n",
              "        \n",
              "  <svg xmlns=\"http://www.w3.org/2000/svg\" height=\"24px\"viewBox=\"0 0 24 24\"\n",
              "       width=\"24px\">\n",
              "    <path d=\"M0 0h24v24H0V0z\" fill=\"none\"/>\n",
              "    <path d=\"M18.56 5.44l.94 2.06.94-2.06 2.06-.94-2.06-.94-.94-2.06-.94 2.06-2.06.94zm-11 1L8.5 8.5l.94-2.06 2.06-.94-2.06-.94L8.5 2.5l-.94 2.06-2.06.94zm10 10l.94 2.06.94-2.06 2.06-.94-2.06-.94-.94-2.06-.94 2.06-2.06.94z\"/><path d=\"M17.41 7.96l-1.37-1.37c-.4-.4-.92-.59-1.43-.59-.52 0-1.04.2-1.43.59L10.3 9.45l-7.72 7.72c-.78.78-.78 2.05 0 2.83L4 21.41c.39.39.9.59 1.41.59.51 0 1.02-.2 1.41-.59l7.78-7.78 2.81-2.81c.8-.78.8-2.07 0-2.86zM5.41 20L4 18.59l7.72-7.72 1.47 1.35L5.41 20z\"/>\n",
              "  </svg>\n",
              "      </button>\n",
              "      \n",
              "  <style>\n",
              "    .colab-df-container {\n",
              "      display:flex;\n",
              "      flex-wrap:wrap;\n",
              "      gap: 12px;\n",
              "    }\n",
              "\n",
              "    .colab-df-convert {\n",
              "      background-color: #E8F0FE;\n",
              "      border: none;\n",
              "      border-radius: 50%;\n",
              "      cursor: pointer;\n",
              "      display: none;\n",
              "      fill: #1967D2;\n",
              "      height: 32px;\n",
              "      padding: 0 0 0 0;\n",
              "      width: 32px;\n",
              "    }\n",
              "\n",
              "    .colab-df-convert:hover {\n",
              "      background-color: #E2EBFA;\n",
              "      box-shadow: 0px 1px 2px rgba(60, 64, 67, 0.3), 0px 1px 3px 1px rgba(60, 64, 67, 0.15);\n",
              "      fill: #174EA6;\n",
              "    }\n",
              "\n",
              "    [theme=dark] .colab-df-convert {\n",
              "      background-color: #3B4455;\n",
              "      fill: #D2E3FC;\n",
              "    }\n",
              "\n",
              "    [theme=dark] .colab-df-convert:hover {\n",
              "      background-color: #434B5C;\n",
              "      box-shadow: 0px 1px 3px 1px rgba(0, 0, 0, 0.15);\n",
              "      filter: drop-shadow(0px 1px 2px rgba(0, 0, 0, 0.3));\n",
              "      fill: #FFFFFF;\n",
              "    }\n",
              "  </style>\n",
              "\n",
              "      <script>\n",
              "        const buttonEl =\n",
              "          document.querySelector('#df-1d56d575-21ec-4624-ae23-436815bf3bb5 button.colab-df-convert');\n",
              "        buttonEl.style.display =\n",
              "          google.colab.kernel.accessAllowed ? 'block' : 'none';\n",
              "\n",
              "        async function convertToInteractive(key) {\n",
              "          const element = document.querySelector('#df-1d56d575-21ec-4624-ae23-436815bf3bb5');\n",
              "          const dataTable =\n",
              "            await google.colab.kernel.invokeFunction('convertToInteractive',\n",
              "                                                     [key], {});\n",
              "          if (!dataTable) return;\n",
              "\n",
              "          const docLinkHtml = 'Like what you see? Visit the ' +\n",
              "            '<a target=\"_blank\" href=https://colab.research.google.com/notebooks/data_table.ipynb>data table notebook</a>'\n",
              "            + ' to learn more about interactive tables.';\n",
              "          element.innerHTML = '';\n",
              "          dataTable['output_type'] = 'display_data';\n",
              "          await google.colab.output.renderOutput(dataTable, element);\n",
              "          const docLink = document.createElement('div');\n",
              "          docLink.innerHTML = docLinkHtml;\n",
              "          element.appendChild(docLink);\n",
              "        }\n",
              "      </script>\n",
              "    </div>\n",
              "  </div>\n",
              "  "
            ]
          },
          "metadata": {},
          "execution_count": 14
        }
      ]
    },
    {
      "cell_type": "code",
      "source": [
        "valid=pd.read_csv(\"/content/drive/MyDrive/vi-nli/raw_dataset/valid.csv\")"
      ],
      "metadata": {
        "id": "jxR3iy0Cg9c6"
      },
      "execution_count": null,
      "outputs": []
    },
    {
      "cell_type": "markdown",
      "source": [
        "##Preprocessing"
      ],
      "metadata": {
        "id": "2s5YmrKthjq4"
      }
    },
    {
      "cell_type": "code",
      "source": [
        "punctuations=list(string.punctuation)"
      ],
      "metadata": {
        "id": "HYZixfc6ii0r"
      },
      "execution_count": null,
      "outputs": []
    },
    {
      "cell_type": "code",
      "source": [
        "def normalizer(text):\n",
        "\n",
        "  def remove_meaningless_token(s):\n",
        "    return re.sub(r'\\b(jeez|yeah|uhhuh|uh|oh|huh|ừ|à)\\b',' ',s)\n",
        "  def uncased(s):\n",
        "    return s.lower()\n",
        "\n",
        "  def fix_whitespaces(s):\n",
        "    return re.sub(r'\\s+',' ',s)\n",
        "\n",
        "  def remove_punctuations(s):\n",
        "    chs=[]\n",
        "    for ch in s:\n",
        "      if ch not in punctuations:\n",
        "        chs.append(ch)\n",
        "      else:\n",
        "        chs.append(\" \")\n",
        "    return \"\".join(chs)\n",
        "\n",
        "  return fix_whitespaces(remove_meaningless_token(uncased(remove_punctuations(text)))).strip()"
      ],
      "metadata": {
        "id": "zbceZslthg1V"
      },
      "execution_count": null,
      "outputs": []
    },
    {
      "cell_type": "code",
      "source": [
        "train['clean_premise']=train['premise'].map(normalizer)"
      ],
      "metadata": {
        "id": "C0rKvEAJhjBI"
      },
      "execution_count": null,
      "outputs": []
    },
    {
      "cell_type": "code",
      "source": [
        "valid['clean_premise']=valid['premise'].map(normalizer)"
      ],
      "metadata": {
        "id": "ZycFaTSb98au"
      },
      "execution_count": null,
      "outputs": []
    },
    {
      "cell_type": "code",
      "source": [
        "test['clean_premise']=test['premise'].map(normalizer)\n",
        "test['clean_hypothesis']=test['hypothesis'].map(normalizer)"
      ],
      "metadata": {
        "id": "P4DtgCvVG6s-"
      },
      "execution_count": null,
      "outputs": []
    },
    {
      "cell_type": "code",
      "source": [
        "train['clean_hypothesis']=train['hypothesis'].map(normalizer)"
      ],
      "metadata": {
        "id": "0lb5KSglm4GS"
      },
      "execution_count": null,
      "outputs": []
    },
    {
      "cell_type": "code",
      "source": [
        "valid['clean_hypothesis']=valid['hypothesis'].map(normalizer)"
      ],
      "metadata": {
        "id": "2q4YciDS9-nX"
      },
      "execution_count": null,
      "outputs": []
    },
    {
      "cell_type": "code",
      "source": [
        "def seperate_sentence(s):\n",
        "  return tokenizer.tokenize(s)"
      ],
      "metadata": {
        "id": "CG0Ej3rVo2kk"
      },
      "execution_count": null,
      "outputs": []
    },
    {
      "cell_type": "code",
      "source": [
        "def get_seq_len(s):\n",
        "  tokens=seperate_sentence(s)\n",
        "  return len(tokens)"
      ],
      "metadata": {
        "id": "tnkUEBdRpMGR"
      },
      "execution_count": null,
      "outputs": []
    },
    {
      "cell_type": "code",
      "source": [
        "train['premise_seq_len']=train['clean_premise'].map(get_seq_len)\n",
        "train['hypothesis_seq_len']=train['clean_hypothesis'].map(get_seq_len)"
      ],
      "metadata": {
        "id": "1bzzno-snErl"
      },
      "execution_count": null,
      "outputs": []
    },
    {
      "cell_type": "code",
      "source": [
        "valid['premise_seq_len']=valid['clean_premise'].map(get_seq_len)\n",
        "valid['hypothesis_seq_len']=valid['clean_hypothesis'].map(get_seq_len)"
      ],
      "metadata": {
        "id": "e47MW51395dy"
      },
      "execution_count": null,
      "outputs": []
    },
    {
      "cell_type": "code",
      "source": [
        "def seq_len_visualizer(x,y):\n",
        "  fig, ax = plt.subplots(1, 1, sharex=True, sharey=True,figsize=(20,20))\n",
        "  ax.bar(x,y)\n",
        "  fig.show()"
      ],
      "metadata": {
        "id": "OD-qjYc9r3IR"
      },
      "execution_count": null,
      "outputs": []
    },
    {
      "cell_type": "code",
      "source": [
        "max(train['premise_seq_len'].unique()),max(train['hypothesis_seq_len'].unique())"
      ],
      "metadata": {
        "colab": {
          "base_uri": "https://localhost:8080/"
        },
        "id": "H7MnfV8EqB-L",
        "outputId": "61b0dc36-c680-4959-d262-ec132d63c7dc"
      },
      "execution_count": null,
      "outputs": [
        {
          "output_type": "execute_result",
          "data": {
            "text/plain": [
              "(441, 101)"
            ]
          },
          "metadata": {},
          "execution_count": 32
        }
      ]
    },
    {
      "cell_type": "code",
      "source": [
        "max(valid['premise_seq_len'].unique()),max(valid['hypothesis_seq_len'].unique())"
      ],
      "metadata": {
        "colab": {
          "base_uri": "https://localhost:8080/"
        },
        "id": "dNnoUUY--Cds",
        "outputId": "08ee52cd-4897-4956-9314-1bc77df7e17b"
      },
      "execution_count": null,
      "outputs": [
        {
          "output_type": "execute_result",
          "data": {
            "text/plain": [
              "(77, 37)"
            ]
          },
          "metadata": {},
          "execution_count": 33
        }
      ]
    },
    {
      "cell_type": "code",
      "source": [
        "min(train['premise_seq_len'].unique()),min(train['hypothesis_seq_len'].unique())"
      ],
      "metadata": {
        "colab": {
          "base_uri": "https://localhost:8080/"
        },
        "id": "EjKDnTiNyixb",
        "outputId": "c2ab72bf-6185-484b-9760-75a172bdba18"
      },
      "execution_count": null,
      "outputs": [
        {
          "output_type": "execute_result",
          "data": {
            "text/plain": [
              "(0, 0)"
            ]
          },
          "metadata": {},
          "execution_count": 34
        }
      ]
    },
    {
      "cell_type": "code",
      "source": [
        "min(valid['premise_seq_len'].unique()),min(valid['hypothesis_seq_len'].unique())"
      ],
      "metadata": {
        "colab": {
          "base_uri": "https://localhost:8080/"
        },
        "id": "61NwNy4T-EXK",
        "outputId": "79926c62-02a7-49dc-cd37-a787192259b8"
      },
      "execution_count": null,
      "outputs": [
        {
          "output_type": "execute_result",
          "data": {
            "text/plain": [
              "(4, 2)"
            ]
          },
          "metadata": {},
          "execution_count": 35
        }
      ]
    },
    {
      "cell_type": "code",
      "source": [
        "train=train[~(train['premise_seq_len']==0)]"
      ],
      "metadata": {
        "id": "1_r2daVlyz8F"
      },
      "execution_count": null,
      "outputs": []
    },
    {
      "cell_type": "code",
      "source": [
        "train=train[~(train['hypothesis_seq_len']==0)]"
      ],
      "metadata": {
        "id": "8AxyiFfQ2Rp_"
      },
      "execution_count": null,
      "outputs": []
    },
    {
      "cell_type": "code",
      "source": [
        "valid[(valid['premise_seq_len']==0)]"
      ],
      "metadata": {
        "colab": {
          "base_uri": "https://localhost:8080/",
          "height": 49
        },
        "id": "IvRN_x87Dxdl",
        "outputId": "a63b14e0-2597-4b1a-8ef4-c8f34a1e3260"
      },
      "execution_count": null,
      "outputs": [
        {
          "output_type": "execute_result",
          "data": {
            "text/plain": [
              "Empty DataFrame\n",
              "Columns: [premise, hypothesis, label, clean_premise, clean_hypothesis, premise_seq_len, hypothesis_seq_len]\n",
              "Index: []"
            ],
            "text/html": [
              "\n",
              "  <div id=\"df-671a10f9-237d-4827-af01-4b4ba9b590c3\">\n",
              "    <div class=\"colab-df-container\">\n",
              "      <div>\n",
              "<style scoped>\n",
              "    .dataframe tbody tr th:only-of-type {\n",
              "        vertical-align: middle;\n",
              "    }\n",
              "\n",
              "    .dataframe tbody tr th {\n",
              "        vertical-align: top;\n",
              "    }\n",
              "\n",
              "    .dataframe thead th {\n",
              "        text-align: right;\n",
              "    }\n",
              "</style>\n",
              "<table border=\"1\" class=\"dataframe\">\n",
              "  <thead>\n",
              "    <tr style=\"text-align: right;\">\n",
              "      <th></th>\n",
              "      <th>premise</th>\n",
              "      <th>hypothesis</th>\n",
              "      <th>label</th>\n",
              "      <th>clean_premise</th>\n",
              "      <th>clean_hypothesis</th>\n",
              "      <th>premise_seq_len</th>\n",
              "      <th>hypothesis_seq_len</th>\n",
              "    </tr>\n",
              "  </thead>\n",
              "  <tbody>\n",
              "  </tbody>\n",
              "</table>\n",
              "</div>\n",
              "      <button class=\"colab-df-convert\" onclick=\"convertToInteractive('df-671a10f9-237d-4827-af01-4b4ba9b590c3')\"\n",
              "              title=\"Convert this dataframe to an interactive table.\"\n",
              "              style=\"display:none;\">\n",
              "        \n",
              "  <svg xmlns=\"http://www.w3.org/2000/svg\" height=\"24px\"viewBox=\"0 0 24 24\"\n",
              "       width=\"24px\">\n",
              "    <path d=\"M0 0h24v24H0V0z\" fill=\"none\"/>\n",
              "    <path d=\"M18.56 5.44l.94 2.06.94-2.06 2.06-.94-2.06-.94-.94-2.06-.94 2.06-2.06.94zm-11 1L8.5 8.5l.94-2.06 2.06-.94-2.06-.94L8.5 2.5l-.94 2.06-2.06.94zm10 10l.94 2.06.94-2.06 2.06-.94-2.06-.94-.94-2.06-.94 2.06-2.06.94z\"/><path d=\"M17.41 7.96l-1.37-1.37c-.4-.4-.92-.59-1.43-.59-.52 0-1.04.2-1.43.59L10.3 9.45l-7.72 7.72c-.78.78-.78 2.05 0 2.83L4 21.41c.39.39.9.59 1.41.59.51 0 1.02-.2 1.41-.59l7.78-7.78 2.81-2.81c.8-.78.8-2.07 0-2.86zM5.41 20L4 18.59l7.72-7.72 1.47 1.35L5.41 20z\"/>\n",
              "  </svg>\n",
              "      </button>\n",
              "      \n",
              "  <style>\n",
              "    .colab-df-container {\n",
              "      display:flex;\n",
              "      flex-wrap:wrap;\n",
              "      gap: 12px;\n",
              "    }\n",
              "\n",
              "    .colab-df-convert {\n",
              "      background-color: #E8F0FE;\n",
              "      border: none;\n",
              "      border-radius: 50%;\n",
              "      cursor: pointer;\n",
              "      display: none;\n",
              "      fill: #1967D2;\n",
              "      height: 32px;\n",
              "      padding: 0 0 0 0;\n",
              "      width: 32px;\n",
              "    }\n",
              "\n",
              "    .colab-df-convert:hover {\n",
              "      background-color: #E2EBFA;\n",
              "      box-shadow: 0px 1px 2px rgba(60, 64, 67, 0.3), 0px 1px 3px 1px rgba(60, 64, 67, 0.15);\n",
              "      fill: #174EA6;\n",
              "    }\n",
              "\n",
              "    [theme=dark] .colab-df-convert {\n",
              "      background-color: #3B4455;\n",
              "      fill: #D2E3FC;\n",
              "    }\n",
              "\n",
              "    [theme=dark] .colab-df-convert:hover {\n",
              "      background-color: #434B5C;\n",
              "      box-shadow: 0px 1px 3px 1px rgba(0, 0, 0, 0.15);\n",
              "      filter: drop-shadow(0px 1px 2px rgba(0, 0, 0, 0.3));\n",
              "      fill: #FFFFFF;\n",
              "    }\n",
              "  </style>\n",
              "\n",
              "      <script>\n",
              "        const buttonEl =\n",
              "          document.querySelector('#df-671a10f9-237d-4827-af01-4b4ba9b590c3 button.colab-df-convert');\n",
              "        buttonEl.style.display =\n",
              "          google.colab.kernel.accessAllowed ? 'block' : 'none';\n",
              "\n",
              "        async function convertToInteractive(key) {\n",
              "          const element = document.querySelector('#df-671a10f9-237d-4827-af01-4b4ba9b590c3');\n",
              "          const dataTable =\n",
              "            await google.colab.kernel.invokeFunction('convertToInteractive',\n",
              "                                                     [key], {});\n",
              "          if (!dataTable) return;\n",
              "\n",
              "          const docLinkHtml = 'Like what you see? Visit the ' +\n",
              "            '<a target=\"_blank\" href=https://colab.research.google.com/notebooks/data_table.ipynb>data table notebook</a>'\n",
              "            + ' to learn more about interactive tables.';\n",
              "          element.innerHTML = '';\n",
              "          dataTable['output_type'] = 'display_data';\n",
              "          await google.colab.output.renderOutput(dataTable, element);\n",
              "          const docLink = document.createElement('div');\n",
              "          docLink.innerHTML = docLinkHtml;\n",
              "          element.appendChild(docLink);\n",
              "        }\n",
              "      </script>\n",
              "    </div>\n",
              "  </div>\n",
              "  "
            ]
          },
          "metadata": {},
          "execution_count": 38
        }
      ]
    },
    {
      "cell_type": "code",
      "source": [
        "valid[(valid['hypothesis_seq_len']==0)]"
      ],
      "metadata": {
        "colab": {
          "base_uri": "https://localhost:8080/",
          "height": 49
        },
        "id": "2xoR7Yh6D2Lf",
        "outputId": "a7294bd8-12bb-4644-d034-70d3b2fcbc5d"
      },
      "execution_count": null,
      "outputs": [
        {
          "output_type": "execute_result",
          "data": {
            "text/plain": [
              "Empty DataFrame\n",
              "Columns: [premise, hypothesis, label, clean_premise, clean_hypothesis, premise_seq_len, hypothesis_seq_len]\n",
              "Index: []"
            ],
            "text/html": [
              "\n",
              "  <div id=\"df-43c15362-ba9a-4015-9ca6-96f9317987fa\">\n",
              "    <div class=\"colab-df-container\">\n",
              "      <div>\n",
              "<style scoped>\n",
              "    .dataframe tbody tr th:only-of-type {\n",
              "        vertical-align: middle;\n",
              "    }\n",
              "\n",
              "    .dataframe tbody tr th {\n",
              "        vertical-align: top;\n",
              "    }\n",
              "\n",
              "    .dataframe thead th {\n",
              "        text-align: right;\n",
              "    }\n",
              "</style>\n",
              "<table border=\"1\" class=\"dataframe\">\n",
              "  <thead>\n",
              "    <tr style=\"text-align: right;\">\n",
              "      <th></th>\n",
              "      <th>premise</th>\n",
              "      <th>hypothesis</th>\n",
              "      <th>label</th>\n",
              "      <th>clean_premise</th>\n",
              "      <th>clean_hypothesis</th>\n",
              "      <th>premise_seq_len</th>\n",
              "      <th>hypothesis_seq_len</th>\n",
              "    </tr>\n",
              "  </thead>\n",
              "  <tbody>\n",
              "  </tbody>\n",
              "</table>\n",
              "</div>\n",
              "      <button class=\"colab-df-convert\" onclick=\"convertToInteractive('df-43c15362-ba9a-4015-9ca6-96f9317987fa')\"\n",
              "              title=\"Convert this dataframe to an interactive table.\"\n",
              "              style=\"display:none;\">\n",
              "        \n",
              "  <svg xmlns=\"http://www.w3.org/2000/svg\" height=\"24px\"viewBox=\"0 0 24 24\"\n",
              "       width=\"24px\">\n",
              "    <path d=\"M0 0h24v24H0V0z\" fill=\"none\"/>\n",
              "    <path d=\"M18.56 5.44l.94 2.06.94-2.06 2.06-.94-2.06-.94-.94-2.06-.94 2.06-2.06.94zm-11 1L8.5 8.5l.94-2.06 2.06-.94-2.06-.94L8.5 2.5l-.94 2.06-2.06.94zm10 10l.94 2.06.94-2.06 2.06-.94-2.06-.94-.94-2.06-.94 2.06-2.06.94z\"/><path d=\"M17.41 7.96l-1.37-1.37c-.4-.4-.92-.59-1.43-.59-.52 0-1.04.2-1.43.59L10.3 9.45l-7.72 7.72c-.78.78-.78 2.05 0 2.83L4 21.41c.39.39.9.59 1.41.59.51 0 1.02-.2 1.41-.59l7.78-7.78 2.81-2.81c.8-.78.8-2.07 0-2.86zM5.41 20L4 18.59l7.72-7.72 1.47 1.35L5.41 20z\"/>\n",
              "  </svg>\n",
              "      </button>\n",
              "      \n",
              "  <style>\n",
              "    .colab-df-container {\n",
              "      display:flex;\n",
              "      flex-wrap:wrap;\n",
              "      gap: 12px;\n",
              "    }\n",
              "\n",
              "    .colab-df-convert {\n",
              "      background-color: #E8F0FE;\n",
              "      border: none;\n",
              "      border-radius: 50%;\n",
              "      cursor: pointer;\n",
              "      display: none;\n",
              "      fill: #1967D2;\n",
              "      height: 32px;\n",
              "      padding: 0 0 0 0;\n",
              "      width: 32px;\n",
              "    }\n",
              "\n",
              "    .colab-df-convert:hover {\n",
              "      background-color: #E2EBFA;\n",
              "      box-shadow: 0px 1px 2px rgba(60, 64, 67, 0.3), 0px 1px 3px 1px rgba(60, 64, 67, 0.15);\n",
              "      fill: #174EA6;\n",
              "    }\n",
              "\n",
              "    [theme=dark] .colab-df-convert {\n",
              "      background-color: #3B4455;\n",
              "      fill: #D2E3FC;\n",
              "    }\n",
              "\n",
              "    [theme=dark] .colab-df-convert:hover {\n",
              "      background-color: #434B5C;\n",
              "      box-shadow: 0px 1px 3px 1px rgba(0, 0, 0, 0.15);\n",
              "      filter: drop-shadow(0px 1px 2px rgba(0, 0, 0, 0.3));\n",
              "      fill: #FFFFFF;\n",
              "    }\n",
              "  </style>\n",
              "\n",
              "      <script>\n",
              "        const buttonEl =\n",
              "          document.querySelector('#df-43c15362-ba9a-4015-9ca6-96f9317987fa button.colab-df-convert');\n",
              "        buttonEl.style.display =\n",
              "          google.colab.kernel.accessAllowed ? 'block' : 'none';\n",
              "\n",
              "        async function convertToInteractive(key) {\n",
              "          const element = document.querySelector('#df-43c15362-ba9a-4015-9ca6-96f9317987fa');\n",
              "          const dataTable =\n",
              "            await google.colab.kernel.invokeFunction('convertToInteractive',\n",
              "                                                     [key], {});\n",
              "          if (!dataTable) return;\n",
              "\n",
              "          const docLinkHtml = 'Like what you see? Visit the ' +\n",
              "            '<a target=\"_blank\" href=https://colab.research.google.com/notebooks/data_table.ipynb>data table notebook</a>'\n",
              "            + ' to learn more about interactive tables.';\n",
              "          element.innerHTML = '';\n",
              "          dataTable['output_type'] = 'display_data';\n",
              "          await google.colab.output.renderOutput(dataTable, element);\n",
              "          const docLink = document.createElement('div');\n",
              "          docLink.innerHTML = docLinkHtml;\n",
              "          element.appendChild(docLink);\n",
              "        }\n",
              "      </script>\n",
              "    </div>\n",
              "  </div>\n",
              "  "
            ]
          },
          "metadata": {},
          "execution_count": 39
        }
      ]
    },
    {
      "cell_type": "code",
      "source": [
        "samples1=train['clean_premise'].tolist()[:100]\n",
        "samples2=train['clean_hypothesis'].tolist()[:100]\n",
        "for i in range(100):\n",
        "  print(samples1[i])\n",
        "  print(samples2[i])\n",
        "  print('\\n')\n",
        "  "
      ],
      "metadata": {
        "colab": {
          "base_uri": "https://localhost:8080/"
        },
        "id": "G5cr7GXdzG0E",
        "outputId": "8b7283cb-24aa-431d-85f0-60f1bbfba784"
      },
      "execution_count": null,
      "outputs": [
        {
          "output_type": "stream",
          "name": "stdout",
          "text": [
            "hãy lấy ý tưởng rằng đàn ông trở nên ít cạnh tranh bởi vì phụ nữ khăng khăng với một vợ chồng điều đó làm giảm testosterone\n",
            "một vợ chồng giảm testosterone trong đàn ông bằng cách khoảng 20\n",
            "\n",
            "\n",
            "đúng nó muốn chạy ra và lấy đồ xong rồi nên um mình cố gắng nói rõ sao bạn không đi bay kites hay sao mà bạn không làm gì và\n",
            "anh ta là kẻ xấu xa nhất mà tôi biết anh ta không bao giờ ra khỏi nhà\n",
            "\n",
            "\n",
            "ngoài ra kiểm soát hoạt động giúp đỡ để đảm bảo rằng tất cả các giao dịch đều hoàn toàn và chính xác được ghi lại\n",
            "các hoạt động kiểm soát không giúp được gì với bản ghi âm hoàn toàn của các giao dịch\n",
            "\n",
            "\n",
            "các ưu đãi thuế lớn thứ hai nhắm vào việc khuyến khích lưu trữ quảng cáo quyền sở hữu nhà\n",
            "các ưu đãi thuế lớn thứ hai nhắm vào việc khuyến khích chi tiêu quảng bá quyền sở hữu nhà\n",
            "\n",
            "\n",
            "một kỵ sĩ khác đang chán anh ta với một con lance gai\n",
            "những kỵ sĩ khác đã đi xa anh ta\n",
            "\n",
            "\n",
            "những chuyện đó xảy ra mặc dù\n",
            "nhưng tuy nhiên những thứ như vậy xảy ra\n",
            "\n",
            "\n",
            "đưa những chiến binh của anh trở lại fena dim\n",
            "các chiến binh đã được di chuyển từ fena dim\n",
            "\n",
            "\n",
            "thật là quá khó xử\n",
            "không khó xử cho đến bây giờ đâu\n",
            "\n",
            "\n",
            "ý tưởng về cơ hội của johnson từ cái giống như cho các ngân hàng phần mềm tốt hơn cho các ứng dụng mortgage cho một đống trợ cấp mới rất nhiều trong số đó đáng buồn clinton và quốc hội cộng hòa có thể ban hành\n",
            "clinton và cộng hòa không nghĩ rằng ý tưởng của johnson là bất kỳ ý nghĩa nào\n",
            "\n",
            "\n",
            "cả hai mags cũng bao che nóng mới loại thuốc ginkgo biloba\n",
            "không có băng đạn nào che giấu được loại thuốc này\n",
            "\n",
            "\n",
            "được hỗ trợ bởi các giải pháp từ pasadena san gabriel các hiệp hội quán bar phía đông và foothill hai chương trình đã vẽ lên kế hoạch để hợp nhất và gửi chúng đến tập đoàn dịch vụ pháp lý\n",
            "hai chương trình đã lên kế hoạch hợp nhất\n",
            "\n",
            "\n",
            "sau khi ném đá đã có một cuộc đột phá ngắn ngủi trong khi simon nhận ra rằng tình dục với l t\n",
            "simon không có suy nghĩ gì cả\n",
            "\n",
            "\n",
            "để tiếp tục cái mũ của nhà kinh tế sự khan hiếm của giá trị và sự nhận thức rằng một ngày nào đó sẽ tăng lên sự đánh giá cao của giá trị của họ\n",
            "rất nhiều người chia sẻ sự nhận thức này\n",
            "\n",
            "\n",
            "được sinh ra bởi louis le vau jules hardouin mansart và nhà thiết kế phong cảnh andre le netre năm 1661 nó đã được hoàn thành 21 năm sau đó\n",
            "nó đã được hoàn thành sau 25 năm mà không có sự nhập khẩu của một nhà thiết kế phong cảnh\n",
            "\n",
            "\n",
            "giấy chứng nhận sẽ xuất hiện trong dấu ngoặc ở cuối mỗi đoạn văn hoặc hình minh họa\n",
            "giấy chứng nhận rất quan trọng với sự tín nhiệm của một bài báo\n",
            "\n",
            "\n",
            "như nó xảy ra không có bằng chứng gì ở tất cả các đại bác fieldcrest đang suy ngẫm về việc di chuyển sản xuất nước ngoài hoặc outsourcing\n",
            "có rất nhiều bằng chứng cho thấy sẽ có outsourcing\n",
            "\n",
            "\n",
            "trên tầng hai là những trần timbered nặng và bức tường được che phủ với tác phẩm nghệ thuật hầu hết là tôn giáo hoặc hoàng gia\n",
            "những bức tường trên tầng hai được bao phủ với tác phẩm nghệ thuật hầu hết là tôn giáo hoặc hoàng gia\n",
            "\n",
            "\n",
            "nó không có trong hồ sơ linh hồn\n",
            "tôi không thể tìm thấy hồ sơ linh hồn để tìm kiếm\n",
            "\n",
            "\n",
            "một yếu tố khác là sự cam kết của quản lý với năng lực\n",
            "quản lý bây giờ khá là hỗn loạn\n",
            "\n",
            "\n",
            "đúng là một sự hồi hộp tốt tôi đoán nó được xếp hạng số một bây giờ nó được cho là khá tốt suspenseful nhưng bạn có giỏi trong việc làm bạn thích những bộ phim suspenseful như vậy đúng vì thấy tôi tôi không thực sự là một người thích sự hồi hộp thật sự tôi thích the nice aladeen hài kịch hầu hết thời gian\n",
            "tôi không thích những bộ phim hồi hộp\n",
            "\n",
            "\n",
            "phải và đó là điều tôi đã biết rõ về sự nguy hiểm trong khu vực của tôi bạn cùng phòng của tôi bị tấn công và cô ấy đã thoát khỏi sự an toàn nhưng sợ hãi thành từng mảnh và đã có tất cả quần áo của cô ấy bị xé ra khỏi cô ấy và sau đó tôi có một người bạn khác điều đó cũng đã được tiếp cận và thoát ra và đây là giữa ban ngày ban ngày vì vậy tôi đã nhận thức được sự nguy hiểm trong các khu vực đó nhưng tôi không nghĩ rằng tôi không cảm thấy như tôi đã đủ đủ khả năng với bất kỳ loại vũ khí nào để mang theo một hoặc để cảm thấy như mang theo một cái gì đó sẽ là một lợi ích cho tôi hơn là chỉ cần họ lấy nó bạn biết tôi muốn nói rằng đó là điều tôi cảm thấy rằng tôi cảm thấy như thể tôi đang mang theo một cái gì đó và nếu tôi thực sự kéo nó vào một ai đó điều đó đã cố gắng tấn công tôi rằng cơ hội của họ để nhận được nó từ tôi sẽ cao hơn cơ hội của tôi sử dụng nó hiệu quả trên họ\n",
            "tôi đã biết là khu vực của tôi rất đáng sợ\n",
            "\n",
            "\n",
            "trung tâm chú ý là vương cung khổng lồ của truyền tin đứng trên trang web truyền thống của nhà tân mary và hang động nơi mà lãnh chúa gabriel đã xuất hiện với mary để đưa ra lời khai sinh của chúa giêsu luke 1 26 31\n",
            "vương cung đã được đặt ở đó do ý nghĩa của trang web\n",
            "\n",
            "\n",
            "tất cả bọn họ đều trở về từ dưới đáy\n",
            "họ nảy ra từ dưới đáy\n",
            "\n",
            "\n",
            "tôi không phải là tôi không bao giờ đi bộ tôi ghét điều đó khi tôi ở trường trung học chơi bóng đá tập thể dục lúc nào cũng làm cho chúng tôi chạy\n",
            "tôi đã đi bộ chạy bộ từ khi tôi còn là một thiếu niên tôi chỉ thích nó thôi\n",
            "\n",
            "\n",
            "barik la hét ở phương bắc trong một cái lưỡi kỳ lạ\n",
            "barik la hét ở phương bắc\n",
            "\n",
            "\n",
            "um hum và vì vậy tôi thực sự nghĩ rằng chúng tôi đã cố gắng để tone xuống\n",
            "chúng tôi giữ mọi thứ to lớn và rực rỡ nhất có thế\n",
            "\n",
            "\n",
            "cẩm thạch trắng của nó được mang đến từ trả trả được sử dụng để xây dựng taj mahal\n",
            "nguyên liệu xây dựng là đá granite\n",
            "\n",
            "\n",
            "bán hàng\n",
            "mua\n",
            "\n",
            "\n",
            "và nó đã không được như bạn biết là tốt một đánh giá giống như cô nàng tiên cá cuối cùng và nhận được tất cả các loại giải thưởng học viện và những thứ năm ngoái nhưng cái này là tôi đã nghĩ là xuất sắc nhất mà tôi không thể cả hai\n",
            "đó là một bộ phim tuyệt vời\n",
            "\n",
            "\n",
            "như anh ta đã chứng minh trong hình ảnh sau bức ảnh anh ta sẵn sàng được đạp lên vì lợi ích nghệ thuật\n",
            "hình ảnh sau bức ảnh anh ta chứng tỏ rằng anh ta sẵn sàng\n",
            "\n",
            "\n",
            "một số nhân tố ít rõ ràng hơn là sự phân biệt dân cư là kết giới giữa thành phố và ngoại ô\n",
            "kết giới giữa thành phố và ngoại ô là một yếu tố trong phân biệt chủng tộc dân cư\n",
            "\n",
            "\n",
            "và trong bất kỳ trường hợp nào đó chính là bản gốc mà tôi đã ra sau\n",
            "tôi đã ra ngoài sau phiên bản mới\n",
            "\n",
            "\n",
            "bảng 6 quốc gia interlaboratory nghiên cứu về độ chính xác của kiểm tra độc tính cấp tính 2000 độ chính xác của lc50 điểm ước tính để tham khảo toxicant effluent và nhận được mẫu nước types1\n",
            "nghiên cứu đã xem xét độ chính xác độc tính cấp tính ở các mẫu nước ngầm\n",
            "\n",
            "\n",
            "trước năm 2000 quốc hội được tổ chức các phiên điều trần quan trọng vào năm 2000 và năm 1998 đã qua luật dự định đến địa chỉ liên quan đến các thực thể riêng tư về việc phơi nắng cho trách nhiệm pháp lý và vi phạm pháp luật có thể xuất hiện do chia sẻ thông tin vào năm 2000 sẵn sàng\n",
            "các khu vực tư vấn liên quan đến việc phơi nắng pháp lý là những gì mà 1998 dự luật được cho là phải có địa chỉ\n",
            "\n",
            "\n",
            "có phải sự đóng góp duy nhất của tây ban nha cho lịch sử thực sự là phát minh của ăn thịt người không chắc chắn sự phản bội không phải là phổ biến giữa những người pháp cổ đại và thành thật mà nói mọi người đều biết thiên hướng thụy sĩ cho trung lập\n",
            "tây ban nha không có đóng góp lịch sử\n",
            "\n",
            "\n",
            "vậy mà ta mok đang bị feted vì đã bắt được người cố vấn cũ của mình\n",
            "chúng tôi đã được biết đến vì đã ngăn chặn người cố vấn cũ của ông ta khỏi bị bắt\n",
            "\n",
            "\n",
            "họ nói rằng tôi nghĩ rằng tôi đã đọc gần đây rằng chính quyền bush đã tăng ngân sách cho quân đoàn hòa bình\n",
            "tôi đọc trong một tạp chí gần đây rằng bush tăng số lượng ngân sách cho tập đoàn hòa bình\n",
            "\n",
            "\n",
            "hai ngày sau nó trôi qua một giây tàn phá tương tự bài viết của một 28 10 phiếu bầu\n",
            "hai ngày là không đủ thời gian để đi qua bài báo\n",
            "\n",
            "\n",
            "julius đã nhìn lại\n",
            "julius vẫn tiếp tục tiến lên và đi tiếp\n",
            "\n",
            "\n",
            "trang web đã được phát hiện bởi một nhà khảo cổ người anh năm 1869 sau sáu năm tìm kiếm\n",
            "trang web được phát hiện bởi một nhà khảo cổ ý vào năm 1888\n",
            "\n",
            "\n",
            "một luật sư khác trong văn phòng quản lý các trường hợp bạo lực trong nội địa và vẫn còn một người khác đang ở tại tòa án lewiston quận mỗi thứ tư để hỗ trợ trung bình của 20 người đối mặt với việc thu hồi người muốn nói chuyện với một luật sự\n",
            "bảy luật sư làm việc với các trường hợp bạo lực trong nội địa\n",
            "\n",
            "\n",
            "tôi nghĩ là quyền của anh\n",
            "tôi không đồng ý với điều đó\n",
            "\n",
            "\n",
            "hãy nhìn ra những ngôi nhà gothic và phục hưng trên đường rue f nelon và rue des chương đặc biệt là h sđt plamon và cho địa điểm du peyrou s grand maison de la bo cà vạt acrosefrom nhà thờ\n",
            "không có ngôi nhà gothic nào bên cạnh nhà thờ\n",
            "\n",
            "\n",
            "khách sạn rio suites duy trì cách đây vài dặm để thoát khỏi quần áo cho khách hàng của họ cung cấp những quan điểm ngoạn mục của thung lũng las vegas\n",
            "khách sạn rio suites đã phá vỡ khóa học golf của họ\n",
            "\n",
            "\n",
            "phải hoàn toàn là tôi đã nhầm\n",
            "tôi đã sai lầm vì tôi đã bị lừa dối\n",
            "\n",
            "\n",
            "lệnh cấm vận của chúng tôi bị truy tố bởi một số lượng lớn nhất ở liên hiệp quốc đang được đánh giá bởi vehement chống castro vận động bởi cuba ở miền nam florida\n",
            "lệnh cấm vận của chúng tôi đã bị tấn công bởi một số người ở liên hiệp quốc\n",
            "\n",
            "\n",
            "số liệu thống kê được hiển thị trong bảng 1 hàng 2 phản xạ cả hai văn phòng và thời gian giao hàng ngoài văn phòng\n",
            "theo cái bàn có một sự khác biệt lớn lao giữa hai lần giao hàng\n",
            "\n",
            "\n",
            "anh ta đang trông cậy vào một người tham dự màu đen khổng lồ và mấy con chó của đảng dân chủ màu vàng cuối cùng\n",
            "ông ta mong đợi một người la tinh lớn và nhiều người cộng hòa\n",
            "\n",
            "\n",
            "john n erlenborn tổng thống victor m fortuno phó tổng thống cho các vấn đề pháp lý tư vấn đại tướng và thư ký công ty mauricio vivero phó tổng thống cho quan hệ chính phủ\n",
            "tổ chức không có tổng thống nào cả\n",
            "\n",
            "\n",
            "vâng tôi không bao giờ thích bất kỳ âm nhạc kim loại nặng mà tôi chưa bao giờ thực sự nghe nó bởi vì tôi biết rằng tôi thích có nhiều hơn nữa tôi đoán là một mẫu được thiết lập của\n",
            "tôi đã từng là fan kim loại tận tụy trong nhiều năm qua\n",
            "\n",
            "\n",
            "chúng ta phải nhớ rằng là cpa chúng ta được trả tiền cho sự phán xét của chúng ta nên hãy tập thể dục nó\n",
            "đã có một sự thiếu chuyên nghiệp được hiển thị bởi cpa\n",
            "\n",
            "\n",
            "tôi không biết họ đang đi xuống dốc khá ổn định\n",
            "có vẻ như họ đang lớn lên\n",
            "\n",
            "\n",
            "đó là lý do tại sao họ có thể nói rằng bạn biết rằng không có chính sách của layoff\n",
            "họ không thể nói về nó bởi vì nó sẽ vi phạm chính sách của layoff\n",
            "\n",
            "\n",
            "new york s john simon nói rằng đại lộ thích nghi của hài kịch của một nhà kịch bản pháp của thế kỷ 18 pierre marivaux bao gồm rowdiness và bawdry mà như là ra khỏi nơi như là một ợ trong một tuyên bố của tình yêu\n",
            "john simon đến từ new york\n",
            "\n",
            "\n",
            "nia là một tổ chức nhỏ với nhiều ưu tiên hơn tiền bạc\n",
            "nia có một ngân sách hoạt động rất lớn\n",
            "\n",
            "\n",
            "san doro đã đứng\n",
            "san doro đã ngồi yên\n",
            "\n",
            "\n",
            "ba năm sau khi mùa thu của jerusalem ở công nguyên 70 người la mã đã bao vây pháo đài\n",
            "jerusalem đã rơi vào người la mã trong 75 quảng cáo\n",
            "\n",
            "\n",
            "và đã đến lúc tốn thời gian rồi\n",
            "phải mất rất ít thời gian\n",
            "\n",
            "\n",
            "ah westway\n",
            "tất nhiên rồi westway\n",
            "\n",
            "\n",
            "tôi xin lỗi nếu anh không thích cái cách mà anh nhìn thấy\n",
            "tôi cũng không thích cái cách mà cô nhìn\n",
            "\n",
            "\n",
            "rồi anh ta đi ra cửa đối diện dẫn đến phòng của cynthia\n",
            "anh ta đã đến cửa nhà cynthia\n",
            "\n",
            "\n",
            "hai hạc hát những lời khen ngợi của ramses trước khi các vị thần dâng lên ngôi đền tên thay thế của ngôi đền của cái\n",
            "ca hát được coi là bất hợp pháp ở ai cập cổ đại\n",
            "\n",
            "\n",
            "bãi biển kho báu là khu nghỉ dưỡng duy nhất để nói về chỉ với một số ít khách sạn đang trải dài acrosethree sandy vịnh\n",
            "bãi biển kho báu là một khu nghỉ dưỡng đẹp\n",
            "\n",
            "\n",
            "các nhà hoạt động nhân quyền đồng tính cho rằng đó là một chiến thắng của nhân loại thông thường của chúng ta mà làm theo cách của các nhân quyền tương tự\n",
            "các nhà hoạt động quyền đồng tính nói rằng đó là một thất bại mà sẽ thiết lập lại những thay đổi tương tự\n",
            "\n",
            "\n",
            "tình trạng của hồng kông là một cộng đồng người anh và một cổng tự do đã được xác nhận\n",
            "hong kong là một cộng đồng người anh do những hành động của nữ hoàng victoria\n",
            "\n",
            "\n",
            "hãy lấp đầy cái bụng của anh một chút đi\n",
            "ăn thức ăn này để anh có sức mạnh\n",
            "\n",
            "\n",
            "jon có thể nhìn thấy khuôn mặt của anh ta\n",
            "jon đã thấy biểu hiện trên khuôn mặt của anh ta\n",
            "\n",
            "\n",
            "tôi yêu nó bạn không thích nó\n",
            "tôi ghét nó và bạn yêu nó\n",
            "\n",
            "\n",
            "tiểu bang và chính phủ địa phương và chính phủ địa phương nói chung là 50 tiểu bang và quận columbia thành phố các quận townships các quận trường các quận đặc biệt chính quyền công cộng và các đơn vị chính phủ địa phương khác được xác định bởi cục điều tra và puerto rico những hòn đảo trinh nữ và những lãnh thổ khác của chúng ta\n",
            "họ không bao gồm các chính phủ địa phương\n",
            "\n",
            "\n",
            "tất cả mọi thứ mellows ra tại bãi biển của mẹ về phía nam một cái đầm đặc biệt được yêu thích bởi gia đình và trở nên cực kỳ văn minh tại bến cảng của marina del rey nơi du thuyền cảng và những chuyến đi câu cá có thể được sắp xếp\n",
            "bãi biển của mẹ là một trong những sân chơi tử tế\n",
            "\n",
            "\n",
            "bằng cách kết hôn với con gái của mình với các con trai của đương kim hoàng đế và sau đó kỹ sư kịp thời abdications một fujiwara luôn luôn là cha chồng chú hoặc ông nội phía sau ngai vàng\n",
            "fujiwaras không thể ở lại đầu tiên của đế chế khi một người đàn ông không liên quan đã kết hôn với con đường của mình lên đỉnh cao\n",
            "\n",
            "\n",
            "họ thường buộc chúng ta vào cubbies khắc vào hòn đá chỉ có một chút lớn hơn chúng ta\n",
            "họ thường ép chúng ta vào cubbies chỉ có một chút lớn hơn chúng ta\n",
            "\n",
            "\n",
            "và sau đó bạn cảm thấy thế nào sau khi bạn lên âm và bạn biết rằng người giám sát của bạn đã buộc tội bạn sử dụng ma túy\n",
            "vậy anh sẽ cảm thấy thế nào nếu anh có một bài kiểm tra ma túy tiêu cực mặc dù giám sát của anh đã buộc tội anh\n",
            "\n",
            "\n",
            "breathlessly êm nó chỉ được quản lý để có được sự nhiệt tình của riêng mình\n",
            "nó hầu như không thể chứa được sự nhiệt tình của nó\n",
            "\n",
            "\n",
            "điều đó sẽ rất tốt đẹp\n",
            "điều đó sẽ tốt đẹp nếu thế giới có thể có được sự hòa bình\n",
            "\n",
            "\n",
            "các tài khoản khác nhau với những gì đã xảy ra tiếp theo nhưng có vẻ như shearer đã bị lừa bởi những người serbia hoặc hai dấu vết của họ\n",
            "shearer không hề bị bọn serbia lừa dối\n",
            "\n",
            "\n",
            "tuy nhiên các tính năng cụ thể và sử dụng các tính năng khác nhau rất đáng kể giữa và đôi khi trong các cơ quan\n",
            "các tính năng cụ thể và các tính năng của nó có thể thay đổi đáng kể giữa và đôi khi trong các cơ quan tuy nhiên\n",
            "\n",
            "\n",
            "nói đi chúng ta sẽ đi ngay về khách sạn ritz\n",
            "hãy ở lại đây một thời gian nữa trước khi quay lại ritz\n",
            "\n",
            "\n",
            "anh ta phục vụ cho ủy ban trên các hoạt động chính phủ và ủy ban về giáo dục và lao động và là một trong những quản lý của pháp luật đã thành lập lsc\n",
            "ông ấy đã tham gia vào ủy ban hoạt động của chính phủ và giáo dục và lao động\n",
            "\n",
            "\n",
            "anh không biết anh ta đã phá vỡ sự đột ngột\n",
            "anh không biết gì hết bất cứ ai trong số các anh sau đó anh ta nghẹn ngào trở lại lời nói của anh ta\n",
            "\n",
            "\n",
            "chuông yêu chuông tháp lúc 99 m 324 m là cấu trúc cao nhất trong thành phố trong 10 thế kỷ của nó reims hải đăng thời tiết vane và pháo đài súng\n",
            "tháp chuông của quảng trường là cấu trúc cao nhất trong thành phố\n",
            "\n",
            "\n",
            "ở tây jerusalem khách sạn phòng giá thường bao gồm một thực tế israel ăn sáng ở đông jerusalem giá thường bao gồm ít nhất một continental sáng\n",
            "giá phòng không bao giờ bao gồm bữa ăn sáng tại các khách sạn đông jerusalem\n",
            "\n",
            "\n",
            "các tiêu chuẩn lịch sử của mỹ hoa kỳ kinh khủng của mỹ đã được hạ thấp hơn các quốc gia công nghiệp lớn khác trong 4 thập kỷ qua xem hình 2 3\n",
            "các công ty công nghiệp khác đã làm một công việc tốt hơn để tiết kiệm hơn hoa kỳ trong những thập kỷ gần đây\n",
            "\n",
            "\n",
            "từ chức của livingston cũng đã phản tác lại bằng cách chuyển đổi sự chú ý của công chúng từ khai man trở lại với tình dục\n",
            "đơn từ chức của livingston đã được mong đợi trong một thời gian dài sắp tới\n",
            "\n",
            "\n",
            "chúng tôi giữ thẻ tín dụng xăng và chúng tôi có visa và sau đó tôi đã bắt đầu công việc của riêng tôi tôi có một nhiếp ảnh kinh doanh và tôi đã đi trước và nhận được một visa riêng biệt chỉ cho các nhiếp ảnh công nghiệp vì có những điều mà tôi cần phải mua\n",
            "tôi có một thẻ visa riêng cho chi phí điện thoại của tôi\n",
            "\n",
            "\n",
            "bạn có biết nếu bạn mặc um pastels nó cần phải được ấm áp thời tiết\n",
            "anh nên mặc pastels trong thời tiết ấm áp\n",
            "\n",
            "\n",
            "và rau quả đúng là bạn biết rằng hai người chắc chắn sẽ ăn thật tốt với nhau\n",
            "tôi nghĩ là anh cũng không nên ăn cùng nhau bao giờ hết\n",
            "\n",
            "\n",
            "có lẽ là pitfall lớn nhất trong ứng dụng này không đủ đặc tả của câu hỏi của khách hàng\n",
            "pitfall lớn nhất trong ứng dụng này chắc chắn là thời gian tải của hơn 15 giây điều đó không thể chấp nhận được trong thời gian của chúng tôi\n",
            "\n",
            "\n",
            "một số khách hàng không có điện thoại và không có địa chỉ khác nhưng người ở nơi trú ẩn\n",
            "mọi người đều có điện thoại di động\n",
            "\n",
            "\n",
            "tất cả những ước tính như vậy là chủ đề cho một số giả định và màn\n",
            "không có ước tính nào là 100 chính xác\n",
            "\n",
            "\n",
            "chứng nhận có nghĩa là gì ickes đáp ứng với klayman khác hơn điên\n",
            "ickes chưa bao giờ thấy klayman trong cuộc sống của anh ấy\n",
            "\n",
            "\n",
            "năm 1988 cộng hòa george bush được hưởng lợi từ hiện tượng này\n",
            "george bush là một đảng dân chủ\n",
            "\n",
            "\n",
            "các tạp chí làm việc toán ở bang liên bang\n",
            "các ấn phẩm phân tích và báo cáo tình trạng của địa chỉ liên bang\n",
            "\n",
            "\n",
            "những người tham gia hoan nghênh sự ngăn chặn được đặt tại chỗ bởi hành động sarbanes oxley năm 2002 điều đó gửi tín hiệu cho những người chuẩn bị hoặc chứng thực cho các tuyên bố tài chính gian lận có thể vào tù\n",
            "attesting cho các tuyên bố tài chính gian lận có thể kết quả trong tù thời gian\n",
            "\n",
            "\n",
            "tôi muốn biết nhiều hơn\n",
            "tôi muốn biết nhiều hơn\n",
            "\n",
            "\n",
            "cứng rắn natalia nói là từ chối\n",
            "natalia nói rằng nó rất khó khăn\n",
            "\n",
            "\n",
            "không ai suy nghĩ nhiều miễn là ai đó đã trả hóa đơn sự thật các nhà kinh tế đã cảnh báo theo cách ảm đạm của họ những lợi ích đắt tiền sẽ được chuyển lại cho công nhân trong hình thức của lương thấp hơn nhưng ai nghe họ\n",
            "người ta không quan tâm nếu có người khác trả tiền\n",
            "\n",
            "\n",
            "bất chấp nỗi ám ảnh của hoàng đế với mối nguy hiểm đỏ mới 1848 mani cộng sản festo của marx và glowacka mà đã được lưu trữ ở paris anh ta không thể ngăn chặn những cải cách xã hội như những người công nhân có quyền lập nghiệp đoàn và thậm chí để tấn công\n",
            "hoàng đế đã bị rối loạn bởi những cải cách xã hội\n",
            "\n",
            "\n",
            "và đó cũng là một bộ phim đáng sợ quá\n",
            "bộ phim đã được thuần hóa và què\n",
            "\n",
            "\n",
            "một cuộc xâm lược mông cổ bị cản trở vào năm 1274 làm suy yếu chế độ kamakura\n",
            "cuộc xâm lược mông cổ của năm 1274 đã thành công và đánh bại chế độ kamakura\n",
            "\n",
            "\n"
          ]
        }
      ]
    },
    {
      "cell_type": "markdown",
      "source": [
        "There are some meaningless tokens such as à, ừ, ... -> need to remove them"
      ],
      "metadata": {
        "id": "HZLeaNx4HHEH"
      }
    },
    {
      "cell_type": "code",
      "source": [
        "dict_occurs=train['premise_seq_len'].value_counts().to_dict()\n",
        "x,y=list(dict_occurs.keys()),list(dict_occurs.values())\n",
        "seq_len_visualizer(x,y)"
      ],
      "metadata": {
        "colab": {
          "base_uri": "https://localhost:8080/",
          "height": 1000
        },
        "id": "Qny2BwuxqLFt",
        "outputId": "fe774ba8-d273-4f1d-8262-9224b480e985"
      },
      "execution_count": null,
      "outputs": [
        {
          "output_type": "display_data",
          "data": {
            "text/plain": [
              "<Figure size 1440x1440 with 1 Axes>"
            ],
            "image/png": "[encoded data removed]"
          },
          "metadata": {
            "needs_background": "light"
          }
        }
      ]
    },
    {
      "cell_type": "code",
      "source": [
        "dict_occurs=train['hypothesis_seq_len'].value_counts().to_dict()\n",
        "x,y=list(dict_occurs.keys()),list(dict_occurs.values())\n",
        "seq_len_visualizer(x,y)"
      ],
      "metadata": {
        "colab": {
          "base_uri": "https://localhost:8080/",
          "height": 1000
        },
        "id": "Ea74BV63swC5",
        "outputId": "ee0c6901-d066-4525-eac9-f6e78e89fdbe"
      },
      "execution_count": null,
      "outputs": [
        {
          "output_type": "display_data",
          "data": {
            "text/plain": [
              "<Figure size 1440x1440 with 1 Axes>"
            ],
            "image/png": "[encoded data removed]"
          },
          "metadata": {
            "needs_background": "light"
          }
        }
      ]
    },
    {
      "cell_type": "code",
      "source": [
        "train['total_seq_len']=train['premise_seq_len']+train['hypothesis_seq_len']"
      ],
      "metadata": {
        "id": "kNzkN-IYq3mf"
      },
      "execution_count": null,
      "outputs": []
    },
    {
      "cell_type": "code",
      "source": [
        "dict_occurs=train['total_seq_len'].value_counts().to_dict()\n",
        "x,y=list(dict_occurs.keys()),list(dict_occurs.values())\n",
        "seq_len_visualizer(x,y)"
      ],
      "metadata": {
        "colab": {
          "base_uri": "https://localhost:8080/",
          "height": 1000
        },
        "id": "EDveGVZYs7eW",
        "outputId": "52a25085-329f-4ac8-cdc5-f1b267db5e86"
      },
      "execution_count": null,
      "outputs": [
        {
          "output_type": "display_data",
          "data": {
            "text/plain": [
              "<Figure size 1440x1440 with 1 Axes>"
            ],
            "image/png": "[encoded data removed]"
          },
          "metadata": {
            "needs_background": "light"
          }
        }
      ]
    },
    {
      "cell_type": "markdown",
      "source": [
        "assign max length 256"
      ],
      "metadata": {
        "id": "RhAM6E1btGLm"
      }
    },
    {
      "cell_type": "code",
      "source": [
        "train.value_counts(['label'])"
      ],
      "metadata": {
        "colab": {
          "base_uri": "https://localhost:8080/"
        },
        "id": "pLTsAtAN-r--",
        "outputId": "1e388aa6-47d8-4ef7-906d-c3f636ac8420"
      },
      "execution_count": null,
      "outputs": [
        {
          "output_type": "execute_result",
          "data": {
            "text/plain": [
              "label\n",
              "2        130676\n",
              "0        130674\n",
              "1        130674\n",
              "dtype: int64"
            ]
          },
          "metadata": {},
          "execution_count": 45
        }
      ]
    },
    {
      "cell_type": "code",
      "source": [
        "valid.value_counts(['label'])"
      ],
      "metadata": {
        "colab": {
          "base_uri": "https://localhost:8080/"
        },
        "id": "ItICJZIq-wuY",
        "outputId": "b4964d49-b25f-42f9-a9e3-667c493656c0"
      },
      "execution_count": null,
      "outputs": [
        {
          "output_type": "execute_result",
          "data": {
            "text/plain": [
              "label\n",
              "0        830\n",
              "1        830\n",
              "2        830\n",
              "dtype: int64"
            ]
          },
          "metadata": {},
          "execution_count": 46
        }
      ]
    },
    {
      "cell_type": "code",
      "source": [
        "len(train)//5"
      ],
      "metadata": {
        "colab": {
          "base_uri": "https://localhost:8080/"
        },
        "id": "ZnbX-8A4JRH-",
        "outputId": "9d7f5133-595d-40a4-c6d1-09c15c4ce80d"
      },
      "execution_count": null,
      "outputs": [
        {
          "output_type": "execute_result",
          "data": {
            "text/plain": [
              "78404"
            ]
          },
          "metadata": {},
          "execution_count": 47
        }
      ]
    },
    {
      "cell_type": "code",
      "source": [
        "for i in range(5):\n",
        "  train_i=train.iloc[i*78540:(i+1)*78540]\n",
        "  train_i.to_csv(join(preprocessed_data,f'train_{i}.csv'),index=False)"
      ],
      "metadata": {
        "id": "WFozWxtlJPwN"
      },
      "execution_count": null,
      "outputs": []
    },
    {
      "cell_type": "code",
      "source": [
        "valid.to_csv(join(preprocessed_data,'valid.csv'),index=False)"
      ],
      "metadata": {
        "id": "m_GrYcmptCEf"
      },
      "execution_count": null,
      "outputs": []
    },
    {
      "cell_type": "markdown",
      "source": [
        "##Create inputs for bert models"
      ],
      "metadata": {
        "id": "Ik-silJxvM9b"
      }
    },
    {
      "cell_type": "code",
      "source": [
        "train_total=[pd.read_csv(join(preprocessed_data,f'train_{i}.csv')) for i in range(0,5)]"
      ],
      "metadata": {
        "id": "Hl3d0x7m7LLZ"
      },
      "execution_count": 6,
      "outputs": []
    },
    {
      "cell_type": "code",
      "source": [
        "train=pd.concat(train_total,axis=0)"
      ],
      "metadata": {
        "id": "mKkS61Ej7qts"
      },
      "execution_count": 7,
      "outputs": []
    },
    {
      "cell_type": "code",
      "source": [
        "# index=0"
      ],
      "metadata": {
        "id": "yNMeos-NKM_y"
      },
      "execution_count": 8,
      "outputs": []
    },
    {
      "cell_type": "code",
      "source": [
        "# train=pd.read_csv(join(preprocessed_data,f'train_{index}.csv'))"
      ],
      "metadata": {
        "id": "J3Y34NW5vFjC"
      },
      "execution_count": 9,
      "outputs": []
    },
    {
      "cell_type": "code",
      "source": [
        "valid=pd.read_csv(join(preprocessed_data,'valid.csv'))"
      ],
      "metadata": {
        "id": "Uoe-68IK73K6"
      },
      "execution_count": 10,
      "outputs": []
    },
    {
      "cell_type": "markdown",
      "source": [
        "![image.png](data:image/png;base64,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)"
      ],
      "metadata": {
        "id": "_jFIDTk4w9rs"
      }
    },
    {
      "cell_type": "code",
      "source": [
        "class ClassificationDataset(Dataset):\n",
        "    def __init__(self, input_ids, attention_mask,labels,device,token_type_ids=None):\n",
        "        self.labels = labels\n",
        "        self.input_ids=input_ids\n",
        "        self.attention_mask=attention_mask\n",
        "        self.token_type_ids=token_type_ids\n",
        "        self.device=device\n",
        "        \n",
        "    def __len__(self):\n",
        "            return len(self.labels)\n",
        "\n",
        "    def __getitem__(self, idx):\n",
        "        label = self.labels[idx]\n",
        "        input_ids = self.input_ids[idx]\n",
        "        attention_mask = self.attention_mask[idx]\n",
        "        sample = {\"inputs\":{\"input_ids\": input_ids.to(self.device),'attention_mask':attention_mask.to(self.device)}, \"labels\": label.to(self.device)}\n",
        "        if self.token_type_ids!=None:\n",
        "          sample['inputs'].update({'token_type_ids':self.token_type_ids[idx].to(self.device)})\n",
        "        return sample"
      ],
      "metadata": {
        "id": "FggCOyrqwfdr"
      },
      "execution_count": 11,
      "outputs": []
    },
    {
      "cell_type": "markdown",
      "source": [
        "Note: I found out if i had used default tokenizer, the system would have been crashed.\n",
        "\n",
        "exp: tokenizer(list_sentences_0 ,list_sentences_1,return_tensors='pt')"
      ],
      "metadata": {
        "id": "1Eqzs5soK3tx"
      }
    },
    {
      "cell_type": "markdown",
      "source": [
        "So I customized it and my strategy is choose head and tail of sentence if its length is over max_length.\n",
        "\n",
        "Ref: https://arxiv.org/pdf/1905.05583v3.pdf"
      ],
      "metadata": {
        "id": "zxZ73lpFLj_F"
      }
    },
    {
      "cell_type": "code",
      "source": [
        "def create_input(tokenizer,token_ids_0,token_ids_1=None,max_length=512):\n",
        "  num_tokens_0=len(token_ids_0)\n",
        "  num_tokens_1=len(token_ids_1)\n",
        "  \n",
        "  threshold_num_tokens_0=max_length-4-num_tokens_1\n",
        "  if threshold_num_tokens_0<0:\n",
        "    return None\n",
        "  trade_off=abs(threshold_num_tokens_0-num_tokens_0)\n",
        "  if num_tokens_0>threshold_num_tokens_0:\n",
        "    \n",
        "    head_token_ids_0=token_ids_0[:threshold_num_tokens_0]\n",
        "    tail_token_ids_0=token_ids_0[-threshold_num_tokens_0:]\n",
        "\n",
        "    head_input_ids=tokenizer.build_inputs_with_special_tokens(head_token_ids_0,token_ids_1)\n",
        "    head_attention_mask=[1]*len(head_input_ids)\n",
        "\n",
        "    tail_input_ids=tokenizer.build_inputs_with_special_tokens(tail_token_ids_0,token_ids_1)\n",
        "    tail_attention_mask=[1]*len(tail_input_ids)\n",
        "    \n",
        "    input_ids=[head_input_ids,tail_input_ids]\n",
        "\n",
        "    attention_mask=[head_attention_mask,tail_attention_mask]\n",
        "  else:\n",
        "    input_ids=tokenizer.build_inputs_with_special_tokens(token_ids_0,token_ids_1)\n",
        "    attention_mask=[1]*len(input_ids)\n",
        "    input_ids=input_ids+[1]*trade_off\n",
        "    attention_mask=attention_mask+[0]*trade_off\n",
        "    input_ids=[input_ids]\n",
        "    attention_mask=[attention_mask]\n",
        "  return input_ids,attention_mask"
      ],
      "metadata": {
        "id": "VwoULYb1Btqx"
      },
      "execution_count": 12,
      "outputs": []
    },
    {
      "cell_type": "code",
      "source": [
        "def create_inputs(tokenizer,list_sentences_0,list_sentences_1,list_labels,max_length=512):\n",
        "  \n",
        "  input_ids=[]\n",
        "  labels=[]\n",
        "  bar=tqdm(list_sentences_0)\n",
        "  attention_mask=[]\n",
        "  num_training_samples=len(list_sentences_0)\n",
        "  for i in range(num_training_samples):\n",
        "    token_ids_0=tokenizer.encode(list_sentences_0[i],add_special_tokens=False)\n",
        "    token_ids_1=tokenizer.encode(list_sentences_1[i],add_special_tokens=False)\n",
        "    _input_ids,_attention_mask=create_input(tokenizer,token_ids_0,token_ids_1,max_length)\n",
        "    \n",
        "    _labels=[list_labels[i]]*len(_input_ids)\n",
        "    labels+=_labels\n",
        "    input_ids+=_input_ids\n",
        "    attention_mask+=_attention_mask\n",
        "    bar.update()  \n",
        "  return {\n",
        "    'input_ids':torch.Tensor(input_ids).to(torch.long),\n",
        "    'attention_mask':torch.Tensor(attention_mask).to(torch.int),\n",
        "    'labels':torch.Tensor(labels).to(torch.long)\n",
        "}"
      ],
      "metadata": {
        "id": "qBZr7XhvB-HE"
      },
      "execution_count": 13,
      "outputs": []
    },
    {
      "cell_type": "code",
      "source": [
        "train_batch_size=32\n",
        "train_premises=train['clean_premise'].tolist()\n",
        "train_hypothesises=train['clean_hypothesis'].tolist()\n",
        "train_labels=train['label'].tolist()"
      ],
      "metadata": {
        "id": "Nc-grncdxU59"
      },
      "execution_count": 14,
      "outputs": []
    },
    {
      "cell_type": "code",
      "source": [
        "def create_dataloader(tokenizer,list_sentences_0,list_sentences_1,list_labels,max_length=512,batch_size=32,drop_last=False,shuffle=True,device='cpu'):\n",
        "  dataloader=create_inputs(tokenizer,list_sentences_0,list_sentences_1,list_labels,max_length)\n",
        "\n",
        "  dataloader=ClassificationDataset(**dataloader,device=device)\n",
        "  dataloader=DataLoader(dataloader,batch_size=batch_size,drop_last=drop_last,shuffle=shuffle)\n",
        "  return dataloader"
      ],
      "metadata": {
        "id": "Oe43pLe9Cjzl"
      },
      "execution_count": 15,
      "outputs": []
    },
    {
      "cell_type": "code",
      "source": [
        "train_dataloader=create_dataloader(tokenizer,train_premises,train_hypothesises,train_labels,max_length,train_batch_size,device=device)"
      ],
      "metadata": {
        "colab": {
          "base_uri": "https://localhost:8080/",
          "height": 49,
          "referenced_widgets": [
            "febd2de7cdae4f91acb028764a654bb9",
            "7bd15c24bc1840a9990df5090ce90097",
            "d0f194a3b6cb4694b31f102a89f18bff",
            "336917ff0eb049958c8c0cd994888a98",
            "a22fbe33e19246fca30fc9db62516827",
            "2de26d74f8194e16bba9eb46298b12a0",
            "677aee3b3aa34cdea1a41e8c56ccb7b6",
            "0f6a99bbc0f74aa19b30151ed41273f3",
            "126e1032a01b42c88c04215e940de298",
            "9acb459076eb4fce92f650b343151394",
            "c2181cd5d69442f598e2614e60309b0a"
          ]
        },
        "id": "Ng0lJrBTDFyS",
        "outputId": "631347f4-c4e7-4160-ec38-c953118b9177"
      },
      "execution_count": 16,
      "outputs": [
        {
          "output_type": "display_data",
          "data": {
            "text/plain": [
              "  0%|          | 0/392024 [00:00<?, ?it/s]"
            ],
            "application/vnd.jupyter.widget-view+json": {
              "version_major": 2,
              "version_minor": 0,
              "model_id": "febd2de7cdae4f91acb028764a654bb9"
            }
          },
          "metadata": {}
        }
      ]
    },
    {
      "cell_type": "code",
      "source": [
        "valid_batch_size=32\n",
        "valid_premises=valid['clean_premise'].tolist()\n",
        "valid_hypothesises=valid['clean_hypothesis'].tolist()\n",
        "valid_labels=valid['label'].tolist()"
      ],
      "metadata": {
        "id": "oXIW2YRZxJrr"
      },
      "execution_count": 17,
      "outputs": []
    },
    {
      "cell_type": "code",
      "source": [
        "valid_dataloader=create_dataloader(tokenizer,valid_premises,valid_hypothesises,valid_labels,max_length,valid_batch_size,device=device)"
      ],
      "metadata": {
        "id": "ahc4HjlmDmxb",
        "colab": {
          "base_uri": "https://localhost:8080/",
          "height": 49,
          "referenced_widgets": [
            "1b074c757a34408d82e6616e12b79119",
            "cfaf376bf0cb472e927a4e1c97e7d721",
            "636f2b7c1c2e4b46b9f0cf30d2360edf",
            "406a091a7ba44ead99b2d8bf2833c04a",
            "e48d7e4fcfa541c884afa5b5123532fb",
            "3a5eb397493c49be925e403564b5655d",
            "6d92c5c923dd4cf380806016575aa6b6",
            "3c724b83d5db4965b8a2ecb15ed1e9bf",
            "458d86d5827a457aab4c63d25caf7684",
            "bf870c3f1c3c47e48421d53ef82224d4",
            "eb30155e839f4cb78fc5fff00cfb4d9a"
          ]
        },
        "outputId": "cfb2266f-dd13-45eb-f445-12018929a525"
      },
      "execution_count": 18,
      "outputs": [
        {
          "output_type": "display_data",
          "data": {
            "text/plain": [
              "  0%|          | 0/2490 [00:00<?, ?it/s]"
            ],
            "application/vnd.jupyter.widget-view+json": {
              "version_major": 2,
              "version_minor": 0,
              "model_id": "1b074c757a34408d82e6616e12b79119"
            }
          },
          "metadata": {}
        }
      ]
    },
    {
      "cell_type": "code",
      "source": [
        "labels=[0,1,2]\n",
        "labels"
      ],
      "metadata": {
        "colab": {
          "base_uri": "https://localhost:8080/"
        },
        "id": "if9E1BM2xeLV",
        "outputId": "d1301a98-74d2-4cf2-ad89-788a0e8525f3"
      },
      "execution_count": 19,
      "outputs": [
        {
          "output_type": "execute_result",
          "data": {
            "text/plain": [
              "[0, 1, 2]"
            ]
          },
          "metadata": {},
          "execution_count": 19
        }
      ]
    },
    {
      "cell_type": "markdown",
      "source": [
        "#Trainer"
      ],
      "metadata": {
        "id": "s-yuJjDp-mg3"
      }
    },
    {
      "cell_type": "code",
      "source": [
        "epochs=30\n",
        "num_training_steps=epochs *len(train_dataloader)\n",
        "num_warmup_steps=500\n",
        "init_lr=1e-5\n",
        "eps =1e-8"
      ],
      "metadata": {
        "id": "leRkGWb6-btA"
      },
      "execution_count": 22,
      "outputs": []
    },
    {
      "cell_type": "code",
      "source": [
        "len(train_dataloader),num_training_steps,num_warmup_steps"
      ],
      "metadata": {
        "colab": {
          "base_uri": "https://localhost:8080/"
        },
        "id": "ATpFVHVk-pOu",
        "outputId": "70b06aad-09f7-462e-b9ef-16e188f07f4e"
      },
      "execution_count": 23,
      "outputs": [
        {
          "output_type": "execute_result",
          "data": {
            "text/plain": [
              "(12322, 369660, 500)"
            ]
          },
          "metadata": {},
          "execution_count": 23
        }
      ]
    },
    {
      "cell_type": "code",
      "source": [
        "num_labels=len(labels)\n",
        "num_labels"
      ],
      "metadata": {
        "colab": {
          "base_uri": "https://localhost:8080/"
        },
        "id": "gqW4c1Hk-3qS",
        "outputId": "43385278-9867-40b9-fef7-557e87e146f5"
      },
      "execution_count": 24,
      "outputs": [
        {
          "output_type": "execute_result",
          "data": {
            "text/plain": [
              "3"
            ]
          },
          "metadata": {},
          "execution_count": 24
        }
      ]
    },
    {
      "cell_type": "code",
      "source": [
        "classifier_dropout=0.1"
      ],
      "metadata": {
        "id": "MEksEcLZ-4rx"
      },
      "execution_count": 25,
      "outputs": []
    },
    {
      "cell_type": "code",
      "source": [
        "config=AutoConfig.from_pretrained(name)\n",
        "config.classifier_dropout=classifier_dropout\n",
        "config.num_labels=num_labels\n",
        "config"
      ],
      "metadata": {
        "colab": {
          "base_uri": "https://localhost:8080/"
        },
        "id": "uTtcaKcD-6Nr",
        "outputId": "7cceaa20-ea32-4ad0-fb8f-85f3f7bd5a79"
      },
      "execution_count": 26,
      "outputs": [
        {
          "output_type": "execute_result",
          "data": {
            "text/plain": [
              "XLMRobertaConfig {\n",
              "  \"_name_or_path\": \"xlm-roberta-base\",\n",
              "  \"architectures\": [\n",
              "    \"XLMRobertaForMaskedLM\"\n",
              "  ],\n",
              "  \"attention_probs_dropout_prob\": 0.1,\n",
              "  \"bos_token_id\": 0,\n",
              "  \"classifier_dropout\": 0.1,\n",
              "  \"eos_token_id\": 2,\n",
              "  \"hidden_act\": \"gelu\",\n",
              "  \"hidden_dropout_prob\": 0.1,\n",
              "  \"hidden_size\": 768,\n",
              "  \"id2label\": {\n",
              "    \"0\": \"LABEL_0\",\n",
              "    \"1\": \"LABEL_1\",\n",
              "    \"2\": \"LABEL_2\"\n",
              "  },\n",
              "  \"initializer_range\": 0.02,\n",
              "  \"intermediate_size\": 3072,\n",
              "  \"label2id\": {\n",
              "    \"LABEL_0\": 0,\n",
              "    \"LABEL_1\": 1,\n",
              "    \"LABEL_2\": 2\n",
              "  },\n",
              "  \"layer_norm_eps\": 1e-05,\n",
              "  \"max_position_embeddings\": 514,\n",
              "  \"model_type\": \"xlm-roberta\",\n",
              "  \"num_attention_heads\": 12,\n",
              "  \"num_hidden_layers\": 12,\n",
              "  \"output_past\": true,\n",
              "  \"pad_token_id\": 1,\n",
              "  \"position_embedding_type\": \"absolute\",\n",
              "  \"transformers_version\": \"4.19.2\",\n",
              "  \"type_vocab_size\": 1,\n",
              "  \"use_cache\": true,\n",
              "  \"vocab_size\": 250002\n",
              "}"
            ]
          },
          "metadata": {},
          "execution_count": 26
        }
      ]
    },
    {
      "cell_type": "code",
      "source": [
        "model_index=join(model_name,f'model_total')\n",
        "model_index"
      ],
      "metadata": {
        "colab": {
          "base_uri": "https://localhost:8080/",
          "height": 37
        },
        "id": "-BcKeN97KeNR",
        "outputId": "ed5efc15-a379-4996-ed5c-f97fbb3840bd"
      },
      "execution_count": 27,
      "outputs": [
        {
          "output_type": "execute_result",
          "data": {
            "text/plain": [
              "'/content/drive/MyDrive/vi-nli/models/xlm-roberta-base-128/model_total'"
            ],
            "application/vnd.google.colaboratory.intrinsic+json": {
              "type": "string"
            }
          },
          "metadata": {},
          "execution_count": 27
        }
      ]
    },
    {
      "cell_type": "code",
      "source": [
        "config.save_pretrained(model_name)"
      ],
      "metadata": {
        "id": "xQ0_0pPQ-8uw"
      },
      "execution_count": 28,
      "outputs": []
    },
    {
      "cell_type": "code",
      "source": [
        "model=AutoModelForSequenceClassification.from_pretrained(name,config=config).to(device)"
      ],
      "metadata": {
        "colab": {
          "base_uri": "https://localhost:8080/",
          "height": 154,
          "referenced_widgets": [
            "a3bf5fbf122b4923b9f20164deb51522",
            "a09d3530fd9b4812a8818e945e13dc2a",
            "5482961f871e49ec9d93ea1361eb8486",
            "3ce9f7bc511b4bb2878c14438c9f3c4c",
            "30b1ac1204d1467fa51cc06895385ee1",
            "77b21e027f174b15af86bf450d5039c2",
            "c6c75044b0104f3495258b960810e834",
            "0d1cccdbb262400196beb572835a08d4",
            "da94ce365f4e415ba5af2003e058bc39",
            "49cf27132922435aafc45bf7b792cf24",
            "3993d259db434929ab13b8286fa70d3a"
          ]
        },
        "id": "PizAw9RL_UVp",
        "outputId": "557e68bb-f0de-4be2-ef7d-31f642d447f4"
      },
      "execution_count": 29,
      "outputs": [
        {
          "output_type": "display_data",
          "data": {
            "text/plain": [
              "Downloading:   0%|          | 0.00/1.04G [00:00<?, ?B/s]"
            ],
            "application/vnd.jupyter.widget-view+json": {
              "version_major": 2,
              "version_minor": 0,
              "model_id": "a3bf5fbf122b4923b9f20164deb51522"
            }
          },
          "metadata": {}
        },
        {
          "output_type": "stream",
          "name": "stderr",
          "text": [
            "Some weights of the model checkpoint at xlm-roberta-base were not used when initializing XLMRobertaForSequenceClassification: ['lm_head.dense.weight', 'roberta.pooler.dense.bias', 'roberta.pooler.dense.weight', 'lm_head.dense.bias', 'lm_head.bias', 'lm_head.decoder.weight', 'lm_head.layer_norm.bias', 'lm_head.layer_norm.weight']\n",
            "- This IS expected if you are initializing XLMRobertaForSequenceClassification from the checkpoint of a model trained on another task or with another architecture (e.g. initializing a BertForSequenceClassification model from a BertForPreTraining model).\n",
            "- This IS NOT expected if you are initializing XLMRobertaForSequenceClassification from the checkpoint of a model that you expect to be exactly identical (initializing a BertForSequenceClassification model from a BertForSequenceClassification model).\n",
            "Some weights of XLMRobertaForSequenceClassification were not initialized from the model checkpoint at xlm-roberta-base and are newly initialized: ['classifier.out_proj.bias', 'classifier.out_proj.weight', 'classifier.dense.weight', 'classifier.dense.bias']\n",
            "You should probably TRAIN this model on a down-stream task to be able to use it for predictions and inference.\n"
          ]
        }
      ]
    },
    {
      "cell_type": "code",
      "source": [
        "optimizer=torch.optim.AdamW(model.parameters(),lr=init_lr,weight_decay =0.01,eps=eps)"
      ],
      "metadata": {
        "id": "bFnh4aNP_ZM9"
      },
      "execution_count": 30,
      "outputs": []
    },
    {
      "cell_type": "code",
      "source": [
        "#load pretrain from previous model\n",
        "\n",
        "# checkpoint = torch.load(f'/content/drive/MyDrive/vi-nli/models/xlm-roberta-base-256/model_{str(index-1)}/ckpt0.pt',map_location=device)"
      ],
      "metadata": {
        "id": "5nDG_0f0Iupz"
      },
      "execution_count": null,
      "outputs": []
    },
    {
      "cell_type": "code",
      "source": [
        "# min_loss=checkpoint['valid_loss']\n",
        "# min_loss"
      ],
      "metadata": {
        "id": "6f1ZrfbnZ01M"
      },
      "execution_count": null,
      "outputs": []
    },
    {
      "cell_type": "code",
      "source": [
        "# model.load_state_dict(checkpoint['model_state_dict'])"
      ],
      "metadata": {
        "id": "T8pnZVnAJAAk"
      },
      "execution_count": null,
      "outputs": []
    },
    {
      "cell_type": "code",
      "source": [
        "# optimizer.load_state_dict(checkpoint['optimizer_state_dict'])"
      ],
      "metadata": {
        "id": "PgPl-aPXZoHN"
      },
      "execution_count": null,
      "outputs": []
    },
    {
      "cell_type": "code",
      "source": [
        "# del checkpoint"
      ],
      "metadata": {
        "id": "G-UeMsXxKIy8"
      },
      "execution_count": null,
      "outputs": []
    },
    {
      "cell_type": "code",
      "source": [
        "lr_scheduler=get_linear_schedule_with_warmup(optimizer,num_warmup_steps=num_warmup_steps,num_training_steps=num_training_steps,)"
      ],
      "metadata": {
        "id": "SOUG-n94_bFT"
      },
      "execution_count": 31,
      "outputs": []
    },
    {
      "cell_type": "code",
      "source": [
        "def save_model(epoch,model,optimizer,training_loss,valid_loss,path,step=None):\n",
        "  torch.save({\n",
        "          'epoch': epoch,\n",
        "          'model_state_dict': model.state_dict(),\n",
        "          'optimizer_state_dict': optimizer.state_dict(),\n",
        "          'training_loss': training_loss,\n",
        "          'valid_loss': valid_loss,\n",
        "          'step':step\n",
        "          }, join(path,f'ckpt{epoch}.pt'))"
      ],
      "metadata": {
        "id": "SraPBCPR_cTH"
      },
      "execution_count": 32,
      "outputs": []
    },
    {
      "cell_type": "code",
      "source": [
        "def run_train(optimizer,dataloader,lr_scheduler):\n",
        "  model.train(True)\n",
        "  loop = tqdm(dataloader)\n",
        "  loss=0\n",
        "  for batch in dataloader:\n",
        "    # model.zero_grad(set_to_none=True)\n",
        "    optimizer.zero_grad()\n",
        "    inputs=batch['inputs']\n",
        "    inputs.update({\"labels\":batch['labels']})\n",
        "    outputs=model(**inputs)\n",
        "    # _loss = loss_fn(logits.view(-1, num_labels), batch['labels'].view(-1))\n",
        "    outputs.loss.backward()\n",
        "\n",
        "    loss+=outputs.loss.item()\n",
        "    optimizer.step()\n",
        "    lr_scheduler.step()\n",
        "    loop.set_postfix({f'train_loss_per_batch':outputs.loss.item()})\n",
        "    loop.update()      \n",
        "    \n",
        "  return loss/len(dataloader)"
      ],
      "metadata": {
        "id": "crchDYLY_dIU"
      },
      "execution_count": 37,
      "outputs": []
    },
    {
      "cell_type": "code",
      "source": [
        "def run_valid(dataloader):\n",
        "  model.eval()\n",
        "  loss=0\n",
        "  with torch.no_grad():\n",
        "    for batch in dataloader:\n",
        "      inputs=batch['inputs']\n",
        "      inputs.update({\"labels\":batch['labels']})\n",
        "      outputs=model(**inputs)\n",
        "\n",
        "      # _loss = loss_fn(logits.view(-1, num_labels), batch['labels'].view(-1))\n",
        "\n",
        "      loss+=outputs.loss.item()\n",
        "\n",
        "  return loss/len(dataloader)"
      ],
      "metadata": {
        "id": "eDA4EiY1_e24"
      },
      "execution_count": 38,
      "outputs": []
    },
    {
      "cell_type": "code",
      "source": [
        "train_loss_per_step=[]\n",
        "valid_loss_per_step=[]\n",
        "min_loss=np.inf\n",
        "count_stopping=0\n",
        "for epoch in range(epochs):\n",
        "\n",
        "  train_loss=run_train(optimizer,train_dataloader,lr_scheduler)\n",
        "  \n",
        "  valid_loss=run_valid(valid_dataloader)\n",
        "\n",
        "  train_loss_per_step.append(train_loss)\n",
        "  valid_loss_per_step.append(valid_loss)\n",
        "  \n",
        "  print(f'epoch: {epoch} train_loss: {train_loss} valid_loss: {valid_loss}')\n",
        "  if valid_loss<min_loss:\n",
        "    min_loss=valid_loss\n",
        "    save_model(epoch,model,optimizer,train_loss,valid_loss,model_index)\n",
        "    count_stopping=0\n",
        "  else:\n",
        "    count_stopping+=1\n",
        "  \n",
        "  if count_stopping>5:\n",
        "    break\n"
      ],
      "metadata": {
        "id": "mkYdCXt2_f04",
        "colab": {
          "base_uri": "https://localhost:8080/",
          "height": 49,
          "referenced_widgets": [
            "2d331b3aa7ba47078577ec726c7d7ac2",
            "531432673697471a980664cfeedeaece",
            "9d6f1889d5d641c9b7aab79d532188dc",
            "a500f19374694c82acea68350c8dfc8a",
            "3431c4bf738647359994adaffceef23f",
            "5879d5916ae54d339aa60e8ce9774063",
            "514a328811a549fe88afb77da72ffc6f",
            "6b0628e721d24ffa8497700ded23cfed",
            "6d8f9b3594e3438f83f87df8a3d2574e",
            "ce23bc7955fd4cd9a1a3e68a55c830ea",
            "dd108bd00b5e41aa950fad0fe48f18a8"
          ]
        },
        "outputId": "8cd59928-2839-4f6e-eb23-190770ee9164"
      },
      "execution_count": null,
      "outputs": [
        {
          "data": {
            "application/vnd.jupyter.widget-view+json": {
              "model_id": "2d331b3aa7ba47078577ec726c7d7ac2",
              "version_major": 2,
              "version_minor": 0
            },
            "text/plain": [
              "  0%|          | 0/12322 [00:00<?, ?it/s]"
            ]
          },
          "metadata": {},
          "output_type": "display_data"
        }
      ]
    },
    {
      "cell_type": "markdown",
      "source": [
        "#Inference"
      ],
      "metadata": {
        "id": "i3JhrbOREdVB"
      }
    },
    {
      "cell_type": "code",
      "source": [
        "import pandas as pd\n",
        "test=pd.read_csv('/content/drive/MyDrive/vi-nli/raw_dataset/test.csv')\n",
        "test  "
      ],
      "metadata": {
        "id": "SQWahKu4_y9g",
        "colab": {
          "base_uri": "https://localhost:8080/",
          "height": 424
        },
        "outputId": "4f43a93b-feea-4adb-8c67-d783e67fb13b"
      },
      "execution_count": null,
      "outputs": [
        {
          "output_type": "execute_result",
          "data": {
            "text/plain": [
              "                                                premise  \\\n",
              "0     Vâng, tôi thậm chí không nghĩ về điều đó, nhưn...   \n",
              "1     Vâng, tôi thậm chí không nghĩ về điều đó, nhưn...   \n",
              "2     Vâng, tôi thậm chí không nghĩ về điều đó, nhưn...   \n",
              "3     Và tôi nghĩ đó là một đặc ân, và nó vẫn còn, n...   \n",
              "4     Và tôi nghĩ đó là một đặc ân, và nó vẫn còn, n...   \n",
              "...                                                 ...   \n",
              "5005  Davidson không nên áp dụng cách phát âm chữ sc...   \n",
              "5006  Davidson không nên áp dụng cách phát âm chữ sc...   \n",
              "5007  Tiểu thuyết trung bình có 200.000 từ giá khoản...   \n",
              "5008  Tiểu thuyết trung bình có 200.000 từ giá khoản...   \n",
              "5009  Tiểu thuyết trung bình có 200.000 từ giá khoản...   \n",
              "\n",
              "                                             hypothesis  label  \n",
              "0               Tôi đã không nói chuyện với anh ta nữa.      2  \n",
              "1     Tôi buồn tới mức tôi lại bắt đầu nói chuyện lạ...      0  \n",
              "2               Chúng tôi có buổi nói chuyện tuyệt vời.      1  \n",
              "3     Tôi không nhận ra rằng tôi không phải là người...      1  \n",
              "4     Tôi có ấn tượng là tôi là người duy nhất có số...      0  \n",
              "...                                                 ...    ...  \n",
              "5005  Davidson không nên nói theo cách mà xương và â...      0  \n",
              "5006       Sẽ tốt hơn nếu Davidson vần các từ và xương.      2  \n",
              "5007  Một cuốn tiểu thuyết 200.000 từ với giá 25 đô ...      1  \n",
              "5008  Một cuốn tiểu thuyết 200.000 từ với giá 25 USD...      2  \n",
              "5009  Một cuốn tiểu thuyết 200.000 từ với giá 25 đôl...      0  \n",
              "\n",
              "[5010 rows x 3 columns]"
            ],
            "text/html": [
              "\n",
              "  <div id=\"df-b0330bc7-d626-433e-bc4d-a8ef38c81be8\">\n",
              "    <div class=\"colab-df-container\">\n",
              "      <div>\n",
              "<style scoped>\n",
              "    .dataframe tbody tr th:only-of-type {\n",
              "        vertical-align: middle;\n",
              "    }\n",
              "\n",
              "    .dataframe tbody tr th {\n",
              "        vertical-align: top;\n",
              "    }\n",
              "\n",
              "    .dataframe thead th {\n",
              "        text-align: right;\n",
              "    }\n",
              "</style>\n",
              "<table border=\"1\" class=\"dataframe\">\n",
              "  <thead>\n",
              "    <tr style=\"text-align: right;\">\n",
              "      <th></th>\n",
              "      <th>premise</th>\n",
              "      <th>hypothesis</th>\n",
              "      <th>label</th>\n",
              "    </tr>\n",
              "  </thead>\n",
              "  <tbody>\n",
              "    <tr>\n",
              "      <th>0</th>\n",
              "      <td>Vâng, tôi thậm chí không nghĩ về điều đó, nhưn...</td>\n",
              "      <td>Tôi đã không nói chuyện với anh ta nữa.</td>\n",
              "      <td>2</td>\n",
              "    </tr>\n",
              "    <tr>\n",
              "      <th>1</th>\n",
              "      <td>Vâng, tôi thậm chí không nghĩ về điều đó, nhưn...</td>\n",
              "      <td>Tôi buồn tới mức tôi lại bắt đầu nói chuyện lạ...</td>\n",
              "      <td>0</td>\n",
              "    </tr>\n",
              "    <tr>\n",
              "      <th>2</th>\n",
              "      <td>Vâng, tôi thậm chí không nghĩ về điều đó, nhưn...</td>\n",
              "      <td>Chúng tôi có buổi nói chuyện tuyệt vời.</td>\n",
              "      <td>1</td>\n",
              "    </tr>\n",
              "    <tr>\n",
              "      <th>3</th>\n",
              "      <td>Và tôi nghĩ đó là một đặc ân, và nó vẫn còn, n...</td>\n",
              "      <td>Tôi không nhận ra rằng tôi không phải là người...</td>\n",
              "      <td>1</td>\n",
              "    </tr>\n",
              "    <tr>\n",
              "      <th>4</th>\n",
              "      <td>Và tôi nghĩ đó là một đặc ân, và nó vẫn còn, n...</td>\n",
              "      <td>Tôi có ấn tượng là tôi là người duy nhất có số...</td>\n",
              "      <td>0</td>\n",
              "    </tr>\n",
              "    <tr>\n",
              "      <th>...</th>\n",
              "      <td>...</td>\n",
              "      <td>...</td>\n",
              "      <td>...</td>\n",
              "    </tr>\n",
              "    <tr>\n",
              "      <th>5005</th>\n",
              "      <td>Davidson không nên áp dụng cách phát âm chữ sc...</td>\n",
              "      <td>Davidson không nên nói theo cách mà xương và â...</td>\n",
              "      <td>0</td>\n",
              "    </tr>\n",
              "    <tr>\n",
              "      <th>5006</th>\n",
              "      <td>Davidson không nên áp dụng cách phát âm chữ sc...</td>\n",
              "      <td>Sẽ tốt hơn nếu Davidson vần các từ và xương.</td>\n",
              "      <td>2</td>\n",
              "    </tr>\n",
              "    <tr>\n",
              "      <th>5007</th>\n",
              "      <td>Tiểu thuyết trung bình có 200.000 từ giá khoản...</td>\n",
              "      <td>Một cuốn tiểu thuyết 200.000 từ với giá 25 đô ...</td>\n",
              "      <td>1</td>\n",
              "    </tr>\n",
              "    <tr>\n",
              "      <th>5008</th>\n",
              "      <td>Tiểu thuyết trung bình có 200.000 từ giá khoản...</td>\n",
              "      <td>Một cuốn tiểu thuyết 200.000 từ với giá 25 USD...</td>\n",
              "      <td>2</td>\n",
              "    </tr>\n",
              "    <tr>\n",
              "      <th>5009</th>\n",
              "      <td>Tiểu thuyết trung bình có 200.000 từ giá khoản...</td>\n",
              "      <td>Một cuốn tiểu thuyết 200.000 từ với giá 25 đôl...</td>\n",
              "      <td>0</td>\n",
              "    </tr>\n",
              "  </tbody>\n",
              "</table>\n",
              "<p>5010 rows × 3 columns</p>\n",
              "</div>\n",
              "      <button class=\"colab-df-convert\" onclick=\"convertToInteractive('df-b0330bc7-d626-433e-bc4d-a8ef38c81be8')\"\n",
              "              title=\"Convert this dataframe to an interactive table.\"\n",
              "              style=\"display:none;\">\n",
              "        \n",
              "  <svg xmlns=\"http://www.w3.org/2000/svg\" height=\"24px\"viewBox=\"0 0 24 24\"\n",
              "       width=\"24px\">\n",
              "    <path d=\"M0 0h24v24H0V0z\" fill=\"none\"/>\n",
              "    <path d=\"M18.56 5.44l.94 2.06.94-2.06 2.06-.94-2.06-.94-.94-2.06-.94 2.06-2.06.94zm-11 1L8.5 8.5l.94-2.06 2.06-.94-2.06-.94L8.5 2.5l-.94 2.06-2.06.94zm10 10l.94 2.06.94-2.06 2.06-.94-2.06-.94-.94-2.06-.94 2.06-2.06.94z\"/><path d=\"M17.41 7.96l-1.37-1.37c-.4-.4-.92-.59-1.43-.59-.52 0-1.04.2-1.43.59L10.3 9.45l-7.72 7.72c-.78.78-.78 2.05 0 2.83L4 21.41c.39.39.9.59 1.41.59.51 0 1.02-.2 1.41-.59l7.78-7.78 2.81-2.81c.8-.78.8-2.07 0-2.86zM5.41 20L4 18.59l7.72-7.72 1.47 1.35L5.41 20z\"/>\n",
              "  </svg>\n",
              "      </button>\n",
              "      \n",
              "  <style>\n",
              "    .colab-df-container {\n",
              "      display:flex;\n",
              "      flex-wrap:wrap;\n",
              "      gap: 12px;\n",
              "    }\n",
              "\n",
              "    .colab-df-convert {\n",
              "      background-color: #E8F0FE;\n",
              "      border: none;\n",
              "      border-radius: 50%;\n",
              "      cursor: pointer;\n",
              "      display: none;\n",
              "      fill: #1967D2;\n",
              "      height: 32px;\n",
              "      padding: 0 0 0 0;\n",
              "      width: 32px;\n",
              "    }\n",
              "\n",
              "    .colab-df-convert:hover {\n",
              "      background-color: #E2EBFA;\n",
              "      box-shadow: 0px 1px 2px rgba(60, 64, 67, 0.3), 0px 1px 3px 1px rgba(60, 64, 67, 0.15);\n",
              "      fill: #174EA6;\n",
              "    }\n",
              "\n",
              "    [theme=dark] .colab-df-convert {\n",
              "      background-color: #3B4455;\n",
              "      fill: #D2E3FC;\n",
              "    }\n",
              "\n",
              "    [theme=dark] .colab-df-convert:hover {\n",
              "      background-color: #434B5C;\n",
              "      box-shadow: 0px 1px 3px 1px rgba(0, 0, 0, 0.15);\n",
              "      filter: drop-shadow(0px 1px 2px rgba(0, 0, 0, 0.3));\n",
              "      fill: #FFFFFF;\n",
              "    }\n",
              "  </style>\n",
              "\n",
              "      <script>\n",
              "        const buttonEl =\n",
              "          document.querySelector('#df-b0330bc7-d626-433e-bc4d-a8ef38c81be8 button.colab-df-convert');\n",
              "        buttonEl.style.display =\n",
              "          google.colab.kernel.accessAllowed ? 'block' : 'none';\n",
              "\n",
              "        async function convertToInteractive(key) {\n",
              "          const element = document.querySelector('#df-b0330bc7-d626-433e-bc4d-a8ef38c81be8');\n",
              "          const dataTable =\n",
              "            await google.colab.kernel.invokeFunction('convertToInteractive',\n",
              "                                                     [key], {});\n",
              "          if (!dataTable) return;\n",
              "\n",
              "          const docLinkHtml = 'Like what you see? Visit the ' +\n",
              "            '<a target=\"_blank\" href=https://colab.research.google.com/notebooks/data_table.ipynb>data table notebook</a>'\n",
              "            + ' to learn more about interactive tables.';\n",
              "          element.innerHTML = '';\n",
              "          dataTable['output_type'] = 'display_data';\n",
              "          await google.colab.output.renderOutput(dataTable, element);\n",
              "          const docLink = document.createElement('div');\n",
              "          docLink.innerHTML = docLinkHtml;\n",
              "          element.appendChild(docLink);\n",
              "        }\n",
              "      </script>\n",
              "    </div>\n",
              "  </div>\n",
              "  "
            ]
          },
          "metadata": {},
          "execution_count": 37
        }
      ]
    },
    {
      "cell_type": "code",
      "source": [
        "config = AutoConfig.from_pretrained(f'{model_name}/config.json')\n",
        "config._name_or_path=name"
      ],
      "metadata": {
        "id": "8IQuNMIbEi0J"
      },
      "execution_count": null,
      "outputs": []
    },
    {
      "cell_type": "code",
      "source": [
        "model=AutoModelForSequenceClassification.from_pretrained(name,config=config).to(device)"
      ],
      "metadata": {
        "colab": {
          "base_uri": "https://localhost:8080/"
        },
        "id": "5but9y8UE0W0",
        "outputId": "82d0230d-6b99-4eb3-946f-020feed134b4"
      },
      "execution_count": null,
      "outputs": [
        {
          "output_type": "stream",
          "name": "stderr",
          "text": [
            "Some weights of the model checkpoint at xlm-roberta-base were not used when initializing XLMRobertaForSequenceClassification: ['lm_head.dense.weight', 'lm_head.bias', 'roberta.pooler.dense.weight', 'lm_head.layer_norm.bias', 'roberta.pooler.dense.bias', 'lm_head.decoder.weight', 'lm_head.layer_norm.weight', 'lm_head.dense.bias']\n",
            "- This IS expected if you are initializing XLMRobertaForSequenceClassification from the checkpoint of a model trained on another task or with another architecture (e.g. initializing a BertForSequenceClassification model from a BertForPreTraining model).\n",
            "- This IS NOT expected if you are initializing XLMRobertaForSequenceClassification from the checkpoint of a model that you expect to be exactly identical (initializing a BertForSequenceClassification model from a BertForSequenceClassification model).\n",
            "Some weights of XLMRobertaForSequenceClassification were not initialized from the model checkpoint at xlm-roberta-base and are newly initialized: ['classifier.dense.weight', 'classifier.out_proj.weight', 'classifier.dense.bias', 'classifier.out_proj.bias']\n",
            "You should probably TRAIN this model on a down-stream task to be able to use it for predictions and inference.\n"
          ]
        }
      ]
    },
    {
      "cell_type": "code",
      "source": [
        "checkpoint = torch.load(\"/content/drive/MyDrive/vi-nli/models/xlm-roberta-base-256/ckpt2.pt\",map_location=device)"
      ],
      "metadata": {
        "id": "HgIRAvxbE3I9"
      },
      "execution_count": null,
      "outputs": []
    },
    {
      "cell_type": "code",
      "source": [
        "model.load_state_dict(checkpoint['model_state_dict'])"
      ],
      "metadata": {
        "colab": {
          "base_uri": "https://localhost:8080/"
        },
        "id": "x_bp6Z5DE7b4",
        "outputId": "b2d01011-b1f1-4fd7-c3ec-579f3a8ec394"
      },
      "execution_count": null,
      "outputs": [
        {
          "output_type": "execute_result",
          "data": {
            "text/plain": [
              "<All keys matched successfully>"
            ]
          },
          "metadata": {},
          "execution_count": 41
        }
      ]
    },
    {
      "cell_type": "code",
      "source": [
        "y_true=test['label'].tolist()"
      ],
      "metadata": {
        "id": "8-NfHgojE89c"
      },
      "execution_count": null,
      "outputs": []
    },
    {
      "cell_type": "code",
      "source": [
        "def predict(premises,hypothesises,max_length,return_tensors='pt',device='cpu',normalizer=None):\n",
        "  #premises: list of texts\n",
        "  #hypothesises: list of texts\n",
        "  #normalizer: function -> clean dataset and return a new input with the same format\n",
        "  model.eval()\n",
        "  y_pred=[]\n",
        "  with torch.no_grad():\n",
        "    loop = tqdm(range(len(premises)))\n",
        "    for idx,sample in enumerate(zip(premises,hypothesises)):\n",
        "      if normalizer!=None:\n",
        "        premise=normalizer(sample[0])\n",
        "        hypothesis=normalizer(sample[1])\n",
        "      _inputs=tokenizer(premise,hypothesis,padding=True,truncation=True,max_length=max_length,return_tensors=return_tensors).to(device)\n",
        "      outputs=model(**_inputs)\n",
        "      \n",
        "      probs=torch.nn.functional.softmax(outputs.logits,dim=1)\n",
        "      preds=torch.argmax(probs,dim=1)\n",
        "      y_pred.append(preds)\n",
        "      loop.update()\n",
        "  return torch.Tensor(y_pred)"
      ],
      "metadata": {
        "id": "Il9CjLNfE-7C"
      },
      "execution_count": null,
      "outputs": []
    },
    {
      "cell_type": "code",
      "source": [
        "y_pred=predict(test['premise'].tolist(),test['hypothesis'].tolist(),max_length,device=device,normalizer=normalizer)"
      ],
      "metadata": {
        "id": "469jDjBYFhJL"
      },
      "execution_count": null,
      "outputs": []
    },
    {
      "cell_type": "code",
      "source": [
        "y_pred"
      ],
      "metadata": {
        "colab": {
          "base_uri": "https://localhost:8080/"
        },
        "id": "vGIpHZPCFnM1",
        "outputId": "b728e5bd-ab64-40d6-9e86-f30855908dfa"
      },
      "execution_count": null,
      "outputs": [
        {
          "output_type": "execute_result",
          "data": {
            "text/plain": [
              "tensor([0., 0., 1.,  ..., 1., 0., 0.])"
            ]
          },
          "metadata": {},
          "execution_count": 47
        }
      ]
    },
    {
      "cell_type": "code",
      "source": [
        "y_pred=y_pred.tolist()"
      ],
      "metadata": {
        "id": "_Sb9ztGJGBsI"
      },
      "execution_count": null,
      "outputs": []
    },
    {
      "cell_type": "markdown",
      "source": [
        "#Conclusion"
      ],
      "metadata": {
        "id": "aHiv3TZEGRUE"
      }
    },
    {
      "cell_type": "markdown",
      "source": [
        "with train_0"
      ],
      "metadata": {
        "id": "ZKT4whb5GT8e"
      }
    },
    {
      "cell_type": "code",
      "source": [
        "print(classification_report(y_true,y_pred,digits=5))"
      ],
      "metadata": {
        "id": "X_bjsVb9GMQ-"
      },
      "execution_count": null,
      "outputs": []
    },
    {
      "cell_type": "code",
      "source": [
        "confusion_matrix(y_true,y_pred)"
      ],
      "metadata": {
        "id": "NDtL7AVbGd64"
      },
      "execution_count": null,
      "outputs": []
    },
    {
      "cell_type": "code",
      "source": [
        ""
      ],
      "metadata": {
        "id": "cDmohK4vGiec"
      },
      "execution_count": null,
      "outputs": []
    }
  ]
}