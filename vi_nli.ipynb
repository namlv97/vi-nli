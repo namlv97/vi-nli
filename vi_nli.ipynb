{
  "nbformat": 4,
  "nbformat_minor": 0,
  "metadata": {
    "colab": {
      "name": "vi_nli.ipynb",
      "provenance": [],
      "collapsed_sections": []
    },
    "kernelspec": {
      "name": "python3",
      "display_name": "Python 3"
    },
    "language_info": {
      "name": "python"
    },
    "accelerator": "GPU",
    "widgets": {
      "application/vnd.jupyter.widget-state+json": {
        "6272056665ac4f28b7da407d7ae806fa": {
          "model_module": "@jupyter-widgets/controls",
          "model_name": "HBoxModel",
          "model_module_version": "1.5.0",
          "state": {
            "_dom_classes": [],
            "_model_module": "@jupyter-widgets/controls",
            "_model_module_version": "1.5.0",
            "_model_name": "HBoxModel",
            "_view_count": null,
            "_view_module": "@jupyter-widgets/controls",
            "_view_module_version": "1.5.0",
            "_view_name": "HBoxView",
            "box_style": "",
            "children": [
              "IPY_MODEL_c8b3a561637745988f376e38c23d4a81",
              "IPY_MODEL_01df6809f9334d0fadee5c4739d4e2b8",
              "IPY_MODEL_5a3ae359254849e08aa872ea84624afd"
            ],
            "layout": "IPY_MODEL_84a4c7678716488eb987af72dd3c0ea7"
          }
        },
        "c8b3a561637745988f376e38c23d4a81": {
          "model_module": "@jupyter-widgets/controls",
          "model_name": "HTMLModel",
          "model_module_version": "1.5.0",
          "state": {
            "_dom_classes": [],
            "_model_module": "@jupyter-widgets/controls",
            "_model_module_version": "1.5.0",
            "_model_name": "HTMLModel",
            "_view_count": null,
            "_view_module": "@jupyter-widgets/controls",
            "_view_module_version": "1.5.0",
            "_view_name": "HTMLView",
            "description": "",
            "description_tooltip": null,
            "layout": "IPY_MODEL_324d4a92a86442748f2f0bf747801bc8",
            "placeholder": "​",
            "style": "IPY_MODEL_6779bc29225e454f82714a2d6091b2bb",
            "value": "100%"
          }
        },
        "01df6809f9334d0fadee5c4739d4e2b8": {
          "model_module": "@jupyter-widgets/controls",
          "model_name": "FloatProgressModel",
          "model_module_version": "1.5.0",
          "state": {
            "_dom_classes": [],
            "_model_module": "@jupyter-widgets/controls",
            "_model_module_version": "1.5.0",
            "_model_name": "FloatProgressModel",
            "_view_count": null,
            "_view_module": "@jupyter-widgets/controls",
            "_view_module_version": "1.5.0",
            "_view_name": "ProgressView",
            "bar_style": "success",
            "description": "",
            "description_tooltip": null,
            "layout": "IPY_MODEL_b20c6a923dbc46c882dcc7fe0430f7c6",
            "max": 3,
            "min": 0,
            "orientation": "horizontal",
            "style": "IPY_MODEL_f4fda75275c54bec9b92edde7cc13da8",
            "value": 3
          }
        },
        "5a3ae359254849e08aa872ea84624afd": {
          "model_module": "@jupyter-widgets/controls",
          "model_name": "HTMLModel",
          "model_module_version": "1.5.0",
          "state": {
            "_dom_classes": [],
            "_model_module": "@jupyter-widgets/controls",
            "_model_module_version": "1.5.0",
            "_model_name": "HTMLModel",
            "_view_count": null,
            "_view_module": "@jupyter-widgets/controls",
            "_view_module_version": "1.5.0",
            "_view_name": "HTMLView",
            "description": "",
            "description_tooltip": null,
            "layout": "IPY_MODEL_d5a0520756a84915a4e7700a3dbdd0c7",
            "placeholder": "​",
            "style": "IPY_MODEL_337e39ebe5b94a35be7d9e9487306680",
            "value": " 3/3 [00:00&lt;00:00, 54.24it/s]"
          }
        },
        "84a4c7678716488eb987af72dd3c0ea7": {
          "model_module": "@jupyter-widgets/base",
          "model_name": "LayoutModel",
          "model_module_version": "1.2.0",
          "state": {
            "_model_module": "@jupyter-widgets/base",
            "_model_module_version": "1.2.0",
            "_model_name": "LayoutModel",
            "_view_count": null,
            "_view_module": "@jupyter-widgets/base",
            "_view_module_version": "1.2.0",
            "_view_name": "LayoutView",
            "align_content": null,
            "align_items": null,
            "align_self": null,
            "border": null,
            "bottom": null,
            "display": null,
            "flex": null,
            "flex_flow": null,
            "grid_area": null,
            "grid_auto_columns": null,
            "grid_auto_flow": null,
            "grid_auto_rows": null,
            "grid_column": null,
            "grid_gap": null,
            "grid_row": null,
            "grid_template_areas": null,
            "grid_template_columns": null,
            "grid_template_rows": null,
            "height": null,
            "justify_content": null,
            "justify_items": null,
            "left": null,
            "margin": null,
            "max_height": null,
            "max_width": null,
            "min_height": null,
            "min_width": null,
            "object_fit": null,
            "object_position": null,
            "order": null,
            "overflow": null,
            "overflow_x": null,
            "overflow_y": null,
            "padding": null,
            "right": null,
            "top": null,
            "visibility": null,
            "width": null
          }
        },
        "324d4a92a86442748f2f0bf747801bc8": {
          "model_module": "@jupyter-widgets/base",
          "model_name": "LayoutModel",
          "model_module_version": "1.2.0",
          "state": {
            "_model_module": "@jupyter-widgets/base",
            "_model_module_version": "1.2.0",
            "_model_name": "LayoutModel",
            "_view_count": null,
            "_view_module": "@jupyter-widgets/base",
            "_view_module_version": "1.2.0",
            "_view_name": "LayoutView",
            "align_content": null,
            "align_items": null,
            "align_self": null,
            "border": null,
            "bottom": null,
            "display": null,
            "flex": null,
            "flex_flow": null,
            "grid_area": null,
            "grid_auto_columns": null,
            "grid_auto_flow": null,
            "grid_auto_rows": null,
            "grid_column": null,
            "grid_gap": null,
            "grid_row": null,
            "grid_template_areas": null,
            "grid_template_columns": null,
            "grid_template_rows": null,
            "height": null,
            "justify_content": null,
            "justify_items": null,
            "left": null,
            "margin": null,
            "max_height": null,
            "max_width": null,
            "min_height": null,
            "min_width": null,
            "object_fit": null,
            "object_position": null,
            "order": null,
            "overflow": null,
            "overflow_x": null,
            "overflow_y": null,
            "padding": null,
            "right": null,
            "top": null,
            "visibility": null,
            "width": null
          }
        },
        "6779bc29225e454f82714a2d6091b2bb": {
          "model_module": "@jupyter-widgets/controls",
          "model_name": "DescriptionStyleModel",
          "model_module_version": "1.5.0",
          "state": {
            "_model_module": "@jupyter-widgets/controls",
            "_model_module_version": "1.5.0",
            "_model_name": "DescriptionStyleModel",
            "_view_count": null,
            "_view_module": "@jupyter-widgets/base",
            "_view_module_version": "1.2.0",
            "_view_name": "StyleView",
            "description_width": ""
          }
        },
        "b20c6a923dbc46c882dcc7fe0430f7c6": {
          "model_module": "@jupyter-widgets/base",
          "model_name": "LayoutModel",
          "model_module_version": "1.2.0",
          "state": {
            "_model_module": "@jupyter-widgets/base",
            "_model_module_version": "1.2.0",
            "_model_name": "LayoutModel",
            "_view_count": null,
            "_view_module": "@jupyter-widgets/base",
            "_view_module_version": "1.2.0",
            "_view_name": "LayoutView",
            "align_content": null,
            "align_items": null,
            "align_self": null,
            "border": null,
            "bottom": null,
            "display": null,
            "flex": null,
            "flex_flow": null,
            "grid_area": null,
            "grid_auto_columns": null,
            "grid_auto_flow": null,
            "grid_auto_rows": null,
            "grid_column": null,
            "grid_gap": null,
            "grid_row": null,
            "grid_template_areas": null,
            "grid_template_columns": null,
            "grid_template_rows": null,
            "height": null,
            "justify_content": null,
            "justify_items": null,
            "left": null,
            "margin": null,
            "max_height": null,
            "max_width": null,
            "min_height": null,
            "min_width": null,
            "object_fit": null,
            "object_position": null,
            "order": null,
            "overflow": null,
            "overflow_x": null,
            "overflow_y": null,
            "padding": null,
            "right": null,
            "top": null,
            "visibility": null,
            "width": null
          }
        },
        "f4fda75275c54bec9b92edde7cc13da8": {
          "model_module": "@jupyter-widgets/controls",
          "model_name": "ProgressStyleModel",
          "model_module_version": "1.5.0",
          "state": {
            "_model_module": "@jupyter-widgets/controls",
            "_model_module_version": "1.5.0",
            "_model_name": "ProgressStyleModel",
            "_view_count": null,
            "_view_module": "@jupyter-widgets/base",
            "_view_module_version": "1.2.0",
            "_view_name": "StyleView",
            "bar_color": null,
            "description_width": ""
          }
        },
        "d5a0520756a84915a4e7700a3dbdd0c7": {
          "model_module": "@jupyter-widgets/base",
          "model_name": "LayoutModel",
          "model_module_version": "1.2.0",
          "state": {
            "_model_module": "@jupyter-widgets/base",
            "_model_module_version": "1.2.0",
            "_model_name": "LayoutModel",
            "_view_count": null,
            "_view_module": "@jupyter-widgets/base",
            "_view_module_version": "1.2.0",
            "_view_name": "LayoutView",
            "align_content": null,
            "align_items": null,
            "align_self": null,
            "border": null,
            "bottom": null,
            "display": null,
            "flex": null,
            "flex_flow": null,
            "grid_area": null,
            "grid_auto_columns": null,
            "grid_auto_flow": null,
            "grid_auto_rows": null,
            "grid_column": null,
            "grid_gap": null,
            "grid_row": null,
            "grid_template_areas": null,
            "grid_template_columns": null,
            "grid_template_rows": null,
            "height": null,
            "justify_content": null,
            "justify_items": null,
            "left": null,
            "margin": null,
            "max_height": null,
            "max_width": null,
            "min_height": null,
            "min_width": null,
            "object_fit": null,
            "object_position": null,
            "order": null,
            "overflow": null,
            "overflow_x": null,
            "overflow_y": null,
            "padding": null,
            "right": null,
            "top": null,
            "visibility": null,
            "width": null
          }
        },
        "337e39ebe5b94a35be7d9e9487306680": {
          "model_module": "@jupyter-widgets/controls",
          "model_name": "DescriptionStyleModel",
          "model_module_version": "1.5.0",
          "state": {
            "_model_module": "@jupyter-widgets/controls",
            "_model_module_version": "1.5.0",
            "_model_name": "DescriptionStyleModel",
            "_view_count": null,
            "_view_module": "@jupyter-widgets/base",
            "_view_module_version": "1.2.0",
            "_view_name": "StyleView",
            "description_width": ""
          }
        },
        "f7edc34a1cfb49048cfac11b23992656": {
          "model_module": "@jupyter-widgets/controls",
          "model_name": "HBoxModel",
          "model_module_version": "1.5.0",
          "state": {
            "_dom_classes": [],
            "_model_module": "@jupyter-widgets/controls",
            "_model_module_version": "1.5.0",
            "_model_name": "HBoxModel",
            "_view_count": null,
            "_view_module": "@jupyter-widgets/controls",
            "_view_module_version": "1.5.0",
            "_view_name": "HBoxView",
            "box_style": "",
            "children": [
              "IPY_MODEL_9f05a8f82fd94fd68ed00efadcf86e6c",
              "IPY_MODEL_8febd9bb064343b999791720dcbe8ded",
              "IPY_MODEL_ed6a520b4d724673ad76d1f3e4967ec7"
            ],
            "layout": "IPY_MODEL_ed9474574c354b8dae7ca59d536d0ac5"
          }
        },
        "9f05a8f82fd94fd68ed00efadcf86e6c": {
          "model_module": "@jupyter-widgets/controls",
          "model_name": "HTMLModel",
          "model_module_version": "1.5.0",
          "state": {
            "_dom_classes": [],
            "_model_module": "@jupyter-widgets/controls",
            "_model_module_version": "1.5.0",
            "_model_name": "HTMLModel",
            "_view_count": null,
            "_view_module": "@jupyter-widgets/controls",
            "_view_module_version": "1.5.0",
            "_view_name": "HTMLView",
            "description": "",
            "description_tooltip": null,
            "layout": "IPY_MODEL_95896128349344ff999dc5ea6e5853f3",
            "placeholder": "​",
            "style": "IPY_MODEL_5ef9f05582ab4d2b8d6fce7bf7ebc61c",
            "value": "100%"
          }
        },
        "8febd9bb064343b999791720dcbe8ded": {
          "model_module": "@jupyter-widgets/controls",
          "model_name": "FloatProgressModel",
          "model_module_version": "1.5.0",
          "state": {
            "_dom_classes": [],
            "_model_module": "@jupyter-widgets/controls",
            "_model_module_version": "1.5.0",
            "_model_name": "FloatProgressModel",
            "_view_count": null,
            "_view_module": "@jupyter-widgets/controls",
            "_view_module_version": "1.5.0",
            "_view_name": "ProgressView",
            "bar_style": "success",
            "description": "",
            "description_tooltip": null,
            "layout": "IPY_MODEL_cce39bce2d324fdb91c9f4e3e185e611",
            "max": 392024,
            "min": 0,
            "orientation": "horizontal",
            "style": "IPY_MODEL_f88487e86b5540feae5dc022d55f83e7",
            "value": 392024
          }
        },
        "ed6a520b4d724673ad76d1f3e4967ec7": {
          "model_module": "@jupyter-widgets/controls",
          "model_name": "HTMLModel",
          "model_module_version": "1.5.0",
          "state": {
            "_dom_classes": [],
            "_model_module": "@jupyter-widgets/controls",
            "_model_module_version": "1.5.0",
            "_model_name": "HTMLModel",
            "_view_count": null,
            "_view_module": "@jupyter-widgets/controls",
            "_view_module_version": "1.5.0",
            "_view_name": "HTMLView",
            "description": "",
            "description_tooltip": null,
            "layout": "IPY_MODEL_a8eaa03ee8784f4084ff3dc6ab09c0c2",
            "placeholder": "​",
            "style": "IPY_MODEL_1c1bdee1bfd34bf6b39e4d6fc41a7e13",
            "value": " 392024/392024 [02:14&lt;00:00, 3117.33it/s]"
          }
        },
        "ed9474574c354b8dae7ca59d536d0ac5": {
          "model_module": "@jupyter-widgets/base",
          "model_name": "LayoutModel",
          "model_module_version": "1.2.0",
          "state": {
            "_model_module": "@jupyter-widgets/base",
            "_model_module_version": "1.2.0",
            "_model_name": "LayoutModel",
            "_view_count": null,
            "_view_module": "@jupyter-widgets/base",
            "_view_module_version": "1.2.0",
            "_view_name": "LayoutView",
            "align_content": null,
            "align_items": null,
            "align_self": null,
            "border": null,
            "bottom": null,
            "display": null,
            "flex": null,
            "flex_flow": null,
            "grid_area": null,
            "grid_auto_columns": null,
            "grid_auto_flow": null,
            "grid_auto_rows": null,
            "grid_column": null,
            "grid_gap": null,
            "grid_row": null,
            "grid_template_areas": null,
            "grid_template_columns": null,
            "grid_template_rows": null,
            "height": null,
            "justify_content": null,
            "justify_items": null,
            "left": null,
            "margin": null,
            "max_height": null,
            "max_width": null,
            "min_height": null,
            "min_width": null,
            "object_fit": null,
            "object_position": null,
            "order": null,
            "overflow": null,
            "overflow_x": null,
            "overflow_y": null,
            "padding": null,
            "right": null,
            "top": null,
            "visibility": null,
            "width": null
          }
        },
        "95896128349344ff999dc5ea6e5853f3": {
          "model_module": "@jupyter-widgets/base",
          "model_name": "LayoutModel",
          "model_module_version": "1.2.0",
          "state": {
            "_model_module": "@jupyter-widgets/base",
            "_model_module_version": "1.2.0",
            "_model_name": "LayoutModel",
            "_view_count": null,
            "_view_module": "@jupyter-widgets/base",
            "_view_module_version": "1.2.0",
            "_view_name": "LayoutView",
            "align_content": null,
            "align_items": null,
            "align_self": null,
            "border": null,
            "bottom": null,
            "display": null,
            "flex": null,
            "flex_flow": null,
            "grid_area": null,
            "grid_auto_columns": null,
            "grid_auto_flow": null,
            "grid_auto_rows": null,
            "grid_column": null,
            "grid_gap": null,
            "grid_row": null,
            "grid_template_areas": null,
            "grid_template_columns": null,
            "grid_template_rows": null,
            "height": null,
            "justify_content": null,
            "justify_items": null,
            "left": null,
            "margin": null,
            "max_height": null,
            "max_width": null,
            "min_height": null,
            "min_width": null,
            "object_fit": null,
            "object_position": null,
            "order": null,
            "overflow": null,
            "overflow_x": null,
            "overflow_y": null,
            "padding": null,
            "right": null,
            "top": null,
            "visibility": null,
            "width": null
          }
        },
        "5ef9f05582ab4d2b8d6fce7bf7ebc61c": {
          "model_module": "@jupyter-widgets/controls",
          "model_name": "DescriptionStyleModel",
          "model_module_version": "1.5.0",
          "state": {
            "_model_module": "@jupyter-widgets/controls",
            "_model_module_version": "1.5.0",
            "_model_name": "DescriptionStyleModel",
            "_view_count": null,
            "_view_module": "@jupyter-widgets/base",
            "_view_module_version": "1.2.0",
            "_view_name": "StyleView",
            "description_width": ""
          }
        },
        "cce39bce2d324fdb91c9f4e3e185e611": {
          "model_module": "@jupyter-widgets/base",
          "model_name": "LayoutModel",
          "model_module_version": "1.2.0",
          "state": {
            "_model_module": "@jupyter-widgets/base",
            "_model_module_version": "1.2.0",
            "_model_name": "LayoutModel",
            "_view_count": null,
            "_view_module": "@jupyter-widgets/base",
            "_view_module_version": "1.2.0",
            "_view_name": "LayoutView",
            "align_content": null,
            "align_items": null,
            "align_self": null,
            "border": null,
            "bottom": null,
            "display": null,
            "flex": null,
            "flex_flow": null,
            "grid_area": null,
            "grid_auto_columns": null,
            "grid_auto_flow": null,
            "grid_auto_rows": null,
            "grid_column": null,
            "grid_gap": null,
            "grid_row": null,
            "grid_template_areas": null,
            "grid_template_columns": null,
            "grid_template_rows": null,
            "height": null,
            "justify_content": null,
            "justify_items": null,
            "left": null,
            "margin": null,
            "max_height": null,
            "max_width": null,
            "min_height": null,
            "min_width": null,
            "object_fit": null,
            "object_position": null,
            "order": null,
            "overflow": null,
            "overflow_x": null,
            "overflow_y": null,
            "padding": null,
            "right": null,
            "top": null,
            "visibility": null,
            "width": null
          }
        },
        "f88487e86b5540feae5dc022d55f83e7": {
          "model_module": "@jupyter-widgets/controls",
          "model_name": "ProgressStyleModel",
          "model_module_version": "1.5.0",
          "state": {
            "_model_module": "@jupyter-widgets/controls",
            "_model_module_version": "1.5.0",
            "_model_name": "ProgressStyleModel",
            "_view_count": null,
            "_view_module": "@jupyter-widgets/base",
            "_view_module_version": "1.2.0",
            "_view_name": "StyleView",
            "bar_color": null,
            "description_width": ""
          }
        },
        "a8eaa03ee8784f4084ff3dc6ab09c0c2": {
          "model_module": "@jupyter-widgets/base",
          "model_name": "LayoutModel",
          "model_module_version": "1.2.0",
          "state": {
            "_model_module": "@jupyter-widgets/base",
            "_model_module_version": "1.2.0",
            "_model_name": "LayoutModel",
            "_view_count": null,
            "_view_module": "@jupyter-widgets/base",
            "_view_module_version": "1.2.0",
            "_view_name": "LayoutView",
            "align_content": null,
            "align_items": null,
            "align_self": null,
            "border": null,
            "bottom": null,
            "display": null,
            "flex": null,
            "flex_flow": null,
            "grid_area": null,
            "grid_auto_columns": null,
            "grid_auto_flow": null,
            "grid_auto_rows": null,
            "grid_column": null,
            "grid_gap": null,
            "grid_row": null,
            "grid_template_areas": null,
            "grid_template_columns": null,
            "grid_template_rows": null,
            "height": null,
            "justify_content": null,
            "justify_items": null,
            "left": null,
            "margin": null,
            "max_height": null,
            "max_width": null,
            "min_height": null,
            "min_width": null,
            "object_fit": null,
            "object_position": null,
            "order": null,
            "overflow": null,
            "overflow_x": null,
            "overflow_y": null,
            "padding": null,
            "right": null,
            "top": null,
            "visibility": null,
            "width": null
          }
        },
        "1c1bdee1bfd34bf6b39e4d6fc41a7e13": {
          "model_module": "@jupyter-widgets/controls",
          "model_name": "DescriptionStyleModel",
          "model_module_version": "1.5.0",
          "state": {
            "_model_module": "@jupyter-widgets/controls",
            "_model_module_version": "1.5.0",
            "_model_name": "DescriptionStyleModel",
            "_view_count": null,
            "_view_module": "@jupyter-widgets/base",
            "_view_module_version": "1.2.0",
            "_view_name": "StyleView",
            "description_width": ""
          }
        },
        "de54f49bf1c141d5ad4151d3c86ca3ba": {
          "model_module": "@jupyter-widgets/controls",
          "model_name": "HBoxModel",
          "model_module_version": "1.5.0",
          "state": {
            "_dom_classes": [],
            "_model_module": "@jupyter-widgets/controls",
            "_model_module_version": "1.5.0",
            "_model_name": "HBoxModel",
            "_view_count": null,
            "_view_module": "@jupyter-widgets/controls",
            "_view_module_version": "1.5.0",
            "_view_name": "HBoxView",
            "box_style": "",
            "children": [
              "IPY_MODEL_a9c5239aa29740cbb805b17c5e671bcd",
              "IPY_MODEL_ce3e149556544615a7f6b5816c2838f5",
              "IPY_MODEL_fb2b1edb3da64eb7aa05e90c74d99168"
            ],
            "layout": "IPY_MODEL_19d3b8327b7848e58ec5edcf926b67b7"
          }
        },
        "a9c5239aa29740cbb805b17c5e671bcd": {
          "model_module": "@jupyter-widgets/controls",
          "model_name": "HTMLModel",
          "model_module_version": "1.5.0",
          "state": {
            "_dom_classes": [],
            "_model_module": "@jupyter-widgets/controls",
            "_model_module_version": "1.5.0",
            "_model_name": "HTMLModel",
            "_view_count": null,
            "_view_module": "@jupyter-widgets/controls",
            "_view_module_version": "1.5.0",
            "_view_name": "HTMLView",
            "description": "",
            "description_tooltip": null,
            "layout": "IPY_MODEL_281a94198cd147e2bc144ab5a2d32a4b",
            "placeholder": "​",
            "style": "IPY_MODEL_6d38afd0cbc54d5ca2fad046484146a6",
            "value": "100%"
          }
        },
        "ce3e149556544615a7f6b5816c2838f5": {
          "model_module": "@jupyter-widgets/controls",
          "model_name": "FloatProgressModel",
          "model_module_version": "1.5.0",
          "state": {
            "_dom_classes": [],
            "_model_module": "@jupyter-widgets/controls",
            "_model_module_version": "1.5.0",
            "_model_name": "FloatProgressModel",
            "_view_count": null,
            "_view_module": "@jupyter-widgets/controls",
            "_view_module_version": "1.5.0",
            "_view_name": "ProgressView",
            "bar_style": "success",
            "description": "",
            "description_tooltip": null,
            "layout": "IPY_MODEL_647398e56fb341e0bcbe4ad132ef0cea",
            "max": 2490,
            "min": 0,
            "orientation": "horizontal",
            "style": "IPY_MODEL_3097d5b57fc4439390bc2064cdc164ad",
            "value": 2490
          }
        },
        "fb2b1edb3da64eb7aa05e90c74d99168": {
          "model_module": "@jupyter-widgets/controls",
          "model_name": "HTMLModel",
          "model_module_version": "1.5.0",
          "state": {
            "_dom_classes": [],
            "_model_module": "@jupyter-widgets/controls",
            "_model_module_version": "1.5.0",
            "_model_name": "HTMLModel",
            "_view_count": null,
            "_view_module": "@jupyter-widgets/controls",
            "_view_module_version": "1.5.0",
            "_view_name": "HTMLView",
            "description": "",
            "description_tooltip": null,
            "layout": "IPY_MODEL_08ce83b894da444686b128df1e7af855",
            "placeholder": "​",
            "style": "IPY_MODEL_5925f74890b14975b7e9a0ab26a18776",
            "value": " 2490/2490 [00:11&lt;00:00, 3660.19it/s]"
          }
        },
        "19d3b8327b7848e58ec5edcf926b67b7": {
          "model_module": "@jupyter-widgets/base",
          "model_name": "LayoutModel",
          "model_module_version": "1.2.0",
          "state": {
            "_model_module": "@jupyter-widgets/base",
            "_model_module_version": "1.2.0",
            "_model_name": "LayoutModel",
            "_view_count": null,
            "_view_module": "@jupyter-widgets/base",
            "_view_module_version": "1.2.0",
            "_view_name": "LayoutView",
            "align_content": null,
            "align_items": null,
            "align_self": null,
            "border": null,
            "bottom": null,
            "display": null,
            "flex": null,
            "flex_flow": null,
            "grid_area": null,
            "grid_auto_columns": null,
            "grid_auto_flow": null,
            "grid_auto_rows": null,
            "grid_column": null,
            "grid_gap": null,
            "grid_row": null,
            "grid_template_areas": null,
            "grid_template_columns": null,
            "grid_template_rows": null,
            "height": null,
            "justify_content": null,
            "justify_items": null,
            "left": null,
            "margin": null,
            "max_height": null,
            "max_width": null,
            "min_height": null,
            "min_width": null,
            "object_fit": null,
            "object_position": null,
            "order": null,
            "overflow": null,
            "overflow_x": null,
            "overflow_y": null,
            "padding": null,
            "right": null,
            "top": null,
            "visibility": null,
            "width": null
          }
        },
        "281a94198cd147e2bc144ab5a2d32a4b": {
          "model_module": "@jupyter-widgets/base",
          "model_name": "LayoutModel",
          "model_module_version": "1.2.0",
          "state": {
            "_model_module": "@jupyter-widgets/base",
            "_model_module_version": "1.2.0",
            "_model_name": "LayoutModel",
            "_view_count": null,
            "_view_module": "@jupyter-widgets/base",
            "_view_module_version": "1.2.0",
            "_view_name": "LayoutView",
            "align_content": null,
            "align_items": null,
            "align_self": null,
            "border": null,
            "bottom": null,
            "display": null,
            "flex": null,
            "flex_flow": null,
            "grid_area": null,
            "grid_auto_columns": null,
            "grid_auto_flow": null,
            "grid_auto_rows": null,
            "grid_column": null,
            "grid_gap": null,
            "grid_row": null,
            "grid_template_areas": null,
            "grid_template_columns": null,
            "grid_template_rows": null,
            "height": null,
            "justify_content": null,
            "justify_items": null,
            "left": null,
            "margin": null,
            "max_height": null,
            "max_width": null,
            "min_height": null,
            "min_width": null,
            "object_fit": null,
            "object_position": null,
            "order": null,
            "overflow": null,
            "overflow_x": null,
            "overflow_y": null,
            "padding": null,
            "right": null,
            "top": null,
            "visibility": null,
            "width": null
          }
        },
        "6d38afd0cbc54d5ca2fad046484146a6": {
          "model_module": "@jupyter-widgets/controls",
          "model_name": "DescriptionStyleModel",
          "model_module_version": "1.5.0",
          "state": {
            "_model_module": "@jupyter-widgets/controls",
            "_model_module_version": "1.5.0",
            "_model_name": "DescriptionStyleModel",
            "_view_count": null,
            "_view_module": "@jupyter-widgets/base",
            "_view_module_version": "1.2.0",
            "_view_name": "StyleView",
            "description_width": ""
          }
        },
        "647398e56fb341e0bcbe4ad132ef0cea": {
          "model_module": "@jupyter-widgets/base",
          "model_name": "LayoutModel",
          "model_module_version": "1.2.0",
          "state": {
            "_model_module": "@jupyter-widgets/base",
            "_model_module_version": "1.2.0",
            "_model_name": "LayoutModel",
            "_view_count": null,
            "_view_module": "@jupyter-widgets/base",
            "_view_module_version": "1.2.0",
            "_view_name": "LayoutView",
            "align_content": null,
            "align_items": null,
            "align_self": null,
            "border": null,
            "bottom": null,
            "display": null,
            "flex": null,
            "flex_flow": null,
            "grid_area": null,
            "grid_auto_columns": null,
            "grid_auto_flow": null,
            "grid_auto_rows": null,
            "grid_column": null,
            "grid_gap": null,
            "grid_row": null,
            "grid_template_areas": null,
            "grid_template_columns": null,
            "grid_template_rows": null,
            "height": null,
            "justify_content": null,
            "justify_items": null,
            "left": null,
            "margin": null,
            "max_height": null,
            "max_width": null,
            "min_height": null,
            "min_width": null,
            "object_fit": null,
            "object_position": null,
            "order": null,
            "overflow": null,
            "overflow_x": null,
            "overflow_y": null,
            "padding": null,
            "right": null,
            "top": null,
            "visibility": null,
            "width": null
          }
        },
        "3097d5b57fc4439390bc2064cdc164ad": {
          "model_module": "@jupyter-widgets/controls",
          "model_name": "ProgressStyleModel",
          "model_module_version": "1.5.0",
          "state": {
            "_model_module": "@jupyter-widgets/controls",
            "_model_module_version": "1.5.0",
            "_model_name": "ProgressStyleModel",
            "_view_count": null,
            "_view_module": "@jupyter-widgets/base",
            "_view_module_version": "1.2.0",
            "_view_name": "StyleView",
            "bar_color": null,
            "description_width": ""
          }
        },
        "08ce83b894da444686b128df1e7af855": {
          "model_module": "@jupyter-widgets/base",
          "model_name": "LayoutModel",
          "model_module_version": "1.2.0",
          "state": {
            "_model_module": "@jupyter-widgets/base",
            "_model_module_version": "1.2.0",
            "_model_name": "LayoutModel",
            "_view_count": null,
            "_view_module": "@jupyter-widgets/base",
            "_view_module_version": "1.2.0",
            "_view_name": "LayoutView",
            "align_content": null,
            "align_items": null,
            "align_self": null,
            "border": null,
            "bottom": null,
            "display": null,
            "flex": null,
            "flex_flow": null,
            "grid_area": null,
            "grid_auto_columns": null,
            "grid_auto_flow": null,
            "grid_auto_rows": null,
            "grid_column": null,
            "grid_gap": null,
            "grid_row": null,
            "grid_template_areas": null,
            "grid_template_columns": null,
            "grid_template_rows": null,
            "height": null,
            "justify_content": null,
            "justify_items": null,
            "left": null,
            "margin": null,
            "max_height": null,
            "max_width": null,
            "min_height": null,
            "min_width": null,
            "object_fit": null,
            "object_position": null,
            "order": null,
            "overflow": null,
            "overflow_x": null,
            "overflow_y": null,
            "padding": null,
            "right": null,
            "top": null,
            "visibility": null,
            "width": null
          }
        },
        "5925f74890b14975b7e9a0ab26a18776": {
          "model_module": "@jupyter-widgets/controls",
          "model_name": "DescriptionStyleModel",
          "model_module_version": "1.5.0",
          "state": {
            "_model_module": "@jupyter-widgets/controls",
            "_model_module_version": "1.5.0",
            "_model_name": "DescriptionStyleModel",
            "_view_count": null,
            "_view_module": "@jupyter-widgets/base",
            "_view_module_version": "1.2.0",
            "_view_name": "StyleView",
            "description_width": ""
          }
        },
        "e398718ca20843f3a05dbfd2eb74d33e": {
          "model_module": "@jupyter-widgets/controls",
          "model_name": "HBoxModel",
          "model_module_version": "1.5.0",
          "state": {
            "_dom_classes": [],
            "_model_module": "@jupyter-widgets/controls",
            "_model_module_version": "1.5.0",
            "_model_name": "HBoxModel",
            "_view_count": null,
            "_view_module": "@jupyter-widgets/controls",
            "_view_module_version": "1.5.0",
            "_view_name": "HBoxView",
            "box_style": "",
            "children": [
              "IPY_MODEL_fc003750e15f4ce79ae9a3e3d38ef66c",
              "IPY_MODEL_33a268caff6b4e01bd421352fcbf36ce",
              "IPY_MODEL_1c7fa93f2f28438fb6433acf86371139"
            ],
            "layout": "IPY_MODEL_33bb2fd0c20849a3b64fbb876c0db90c"
          }
        },
        "fc003750e15f4ce79ae9a3e3d38ef66c": {
          "model_module": "@jupyter-widgets/controls",
          "model_name": "HTMLModel",
          "model_module_version": "1.5.0",
          "state": {
            "_dom_classes": [],
            "_model_module": "@jupyter-widgets/controls",
            "_model_module_version": "1.5.0",
            "_model_name": "HTMLModel",
            "_view_count": null,
            "_view_module": "@jupyter-widgets/controls",
            "_view_module_version": "1.5.0",
            "_view_name": "HTMLView",
            "description": "",
            "description_tooltip": null,
            "layout": "IPY_MODEL_ffe9f488bb3d4edbb08a5bf2e1893253",
            "placeholder": "​",
            "style": "IPY_MODEL_4f986943baa04cfeb8b730900cf66755",
            "value": " 11%"
          }
        },
        "33a268caff6b4e01bd421352fcbf36ce": {
          "model_module": "@jupyter-widgets/controls",
          "model_name": "FloatProgressModel",
          "model_module_version": "1.5.0",
          "state": {
            "_dom_classes": [],
            "_model_module": "@jupyter-widgets/controls",
            "_model_module_version": "1.5.0",
            "_model_name": "FloatProgressModel",
            "_view_count": null,
            "_view_module": "@jupyter-widgets/controls",
            "_view_module_version": "1.5.0",
            "_view_name": "ProgressView",
            "bar_style": "",
            "description": "",
            "description_tooltip": null,
            "layout": "IPY_MODEL_8923338e07b541a09a83e0e1a5bc0257",
            "max": 12255,
            "min": 0,
            "orientation": "horizontal",
            "style": "IPY_MODEL_657b101bfa9e496c9d8dcfaecc9b95f0",
            "value": 1392
          }
        },
        "1c7fa93f2f28438fb6433acf86371139": {
          "model_module": "@jupyter-widgets/controls",
          "model_name": "HTMLModel",
          "model_module_version": "1.5.0",
          "state": {
            "_dom_classes": [],
            "_model_module": "@jupyter-widgets/controls",
            "_model_module_version": "1.5.0",
            "_model_name": "HTMLModel",
            "_view_count": null,
            "_view_module": "@jupyter-widgets/controls",
            "_view_module_version": "1.5.0",
            "_view_name": "HTMLView",
            "description": "",
            "description_tooltip": null,
            "layout": "IPY_MODEL_0f9708194bc64816ae1e5bddc3e3561c",
            "placeholder": "​",
            "style": "IPY_MODEL_ee323e3415f54b97aa291dcbaea70c51",
            "value": " 1392/12255 [31:59&lt;4:09:59,  1.38s/it, train_loss_per_batch=0.926]"
          }
        },
        "33bb2fd0c20849a3b64fbb876c0db90c": {
          "model_module": "@jupyter-widgets/base",
          "model_name": "LayoutModel",
          "model_module_version": "1.2.0",
          "state": {
            "_model_module": "@jupyter-widgets/base",
            "_model_module_version": "1.2.0",
            "_model_name": "LayoutModel",
            "_view_count": null,
            "_view_module": "@jupyter-widgets/base",
            "_view_module_version": "1.2.0",
            "_view_name": "LayoutView",
            "align_content": null,
            "align_items": null,
            "align_self": null,
            "border": null,
            "bottom": null,
            "display": null,
            "flex": null,
            "flex_flow": null,
            "grid_area": null,
            "grid_auto_columns": null,
            "grid_auto_flow": null,
            "grid_auto_rows": null,
            "grid_column": null,
            "grid_gap": null,
            "grid_row": null,
            "grid_template_areas": null,
            "grid_template_columns": null,
            "grid_template_rows": null,
            "height": null,
            "justify_content": null,
            "justify_items": null,
            "left": null,
            "margin": null,
            "max_height": null,
            "max_width": null,
            "min_height": null,
            "min_width": null,
            "object_fit": null,
            "object_position": null,
            "order": null,
            "overflow": null,
            "overflow_x": null,
            "overflow_y": null,
            "padding": null,
            "right": null,
            "top": null,
            "visibility": null,
            "width": null
          }
        },
        "ffe9f488bb3d4edbb08a5bf2e1893253": {
          "model_module": "@jupyter-widgets/base",
          "model_name": "LayoutModel",
          "model_module_version": "1.2.0",
          "state": {
            "_model_module": "@jupyter-widgets/base",
            "_model_module_version": "1.2.0",
            "_model_name": "LayoutModel",
            "_view_count": null,
            "_view_module": "@jupyter-widgets/base",
            "_view_module_version": "1.2.0",
            "_view_name": "LayoutView",
            "align_content": null,
            "align_items": null,
            "align_self": null,
            "border": null,
            "bottom": null,
            "display": null,
            "flex": null,
            "flex_flow": null,
            "grid_area": null,
            "grid_auto_columns": null,
            "grid_auto_flow": null,
            "grid_auto_rows": null,
            "grid_column": null,
            "grid_gap": null,
            "grid_row": null,
            "grid_template_areas": null,
            "grid_template_columns": null,
            "grid_template_rows": null,
            "height": null,
            "justify_content": null,
            "justify_items": null,
            "left": null,
            "margin": null,
            "max_height": null,
            "max_width": null,
            "min_height": null,
            "min_width": null,
            "object_fit": null,
            "object_position": null,
            "order": null,
            "overflow": null,
            "overflow_x": null,
            "overflow_y": null,
            "padding": null,
            "right": null,
            "top": null,
            "visibility": null,
            "width": null
          }
        },
        "4f986943baa04cfeb8b730900cf66755": {
          "model_module": "@jupyter-widgets/controls",
          "model_name": "DescriptionStyleModel",
          "model_module_version": "1.5.0",
          "state": {
            "_model_module": "@jupyter-widgets/controls",
            "_model_module_version": "1.5.0",
            "_model_name": "DescriptionStyleModel",
            "_view_count": null,
            "_view_module": "@jupyter-widgets/base",
            "_view_module_version": "1.2.0",
            "_view_name": "StyleView",
            "description_width": ""
          }
        },
        "8923338e07b541a09a83e0e1a5bc0257": {
          "model_module": "@jupyter-widgets/base",
          "model_name": "LayoutModel",
          "model_module_version": "1.2.0",
          "state": {
            "_model_module": "@jupyter-widgets/base",
            "_model_module_version": "1.2.0",
            "_model_name": "LayoutModel",
            "_view_count": null,
            "_view_module": "@jupyter-widgets/base",
            "_view_module_version": "1.2.0",
            "_view_name": "LayoutView",
            "align_content": null,
            "align_items": null,
            "align_self": null,
            "border": null,
            "bottom": null,
            "display": null,
            "flex": null,
            "flex_flow": null,
            "grid_area": null,
            "grid_auto_columns": null,
            "grid_auto_flow": null,
            "grid_auto_rows": null,
            "grid_column": null,
            "grid_gap": null,
            "grid_row": null,
            "grid_template_areas": null,
            "grid_template_columns": null,
            "grid_template_rows": null,
            "height": null,
            "justify_content": null,
            "justify_items": null,
            "left": null,
            "margin": null,
            "max_height": null,
            "max_width": null,
            "min_height": null,
            "min_width": null,
            "object_fit": null,
            "object_position": null,
            "order": null,
            "overflow": null,
            "overflow_x": null,
            "overflow_y": null,
            "padding": null,
            "right": null,
            "top": null,
            "visibility": null,
            "width": null
          }
        },
        "657b101bfa9e496c9d8dcfaecc9b95f0": {
          "model_module": "@jupyter-widgets/controls",
          "model_name": "ProgressStyleModel",
          "model_module_version": "1.5.0",
          "state": {
            "_model_module": "@jupyter-widgets/controls",
            "_model_module_version": "1.5.0",
            "_model_name": "ProgressStyleModel",
            "_view_count": null,
            "_view_module": "@jupyter-widgets/base",
            "_view_module_version": "1.2.0",
            "_view_name": "StyleView",
            "bar_color": null,
            "description_width": ""
          }
        },
        "0f9708194bc64816ae1e5bddc3e3561c": {
          "model_module": "@jupyter-widgets/base",
          "model_name": "LayoutModel",
          "model_module_version": "1.2.0",
          "state": {
            "_model_module": "@jupyter-widgets/base",
            "_model_module_version": "1.2.0",
            "_model_name": "LayoutModel",
            "_view_count": null,
            "_view_module": "@jupyter-widgets/base",
            "_view_module_version": "1.2.0",
            "_view_name": "LayoutView",
            "align_content": null,
            "align_items": null,
            "align_self": null,
            "border": null,
            "bottom": null,
            "display": null,
            "flex": null,
            "flex_flow": null,
            "grid_area": null,
            "grid_auto_columns": null,
            "grid_auto_flow": null,
            "grid_auto_rows": null,
            "grid_column": null,
            "grid_gap": null,
            "grid_row": null,
            "grid_template_areas": null,
            "grid_template_columns": null,
            "grid_template_rows": null,
            "height": null,
            "justify_content": null,
            "justify_items": null,
            "left": null,
            "margin": null,
            "max_height": null,
            "max_width": null,
            "min_height": null,
            "min_width": null,
            "object_fit": null,
            "object_position": null,
            "order": null,
            "overflow": null,
            "overflow_x": null,
            "overflow_y": null,
            "padding": null,
            "right": null,
            "top": null,
            "visibility": null,
            "width": null
          }
        },
        "ee323e3415f54b97aa291dcbaea70c51": {
          "model_module": "@jupyter-widgets/controls",
          "model_name": "DescriptionStyleModel",
          "model_module_version": "1.5.0",
          "state": {
            "_model_module": "@jupyter-widgets/controls",
            "_model_module_version": "1.5.0",
            "_model_name": "DescriptionStyleModel",
            "_view_count": null,
            "_view_module": "@jupyter-widgets/base",
            "_view_module_version": "1.2.0",
            "_view_name": "StyleView",
            "description_width": ""
          }
        }
      }
    }
  },
  "cells": [
    {
      "cell_type": "code",
      "source": [
        "!nvidia-smi"
      ],
      "metadata": {
        "colab": {
          "base_uri": "https://localhost:8080/"
        },
        "id": "CxY5c_2qEMgN",
        "outputId": "9a9cc49d-15cb-4cfa-e9ab-3f47a582c57a"
      },
      "execution_count": null,
      "outputs": [
        {
          "output_type": "stream",
          "name": "stdout",
          "text": [
            "Wed May 25 02:21:59 2022       \n",
            "+-----------------------------------------------------------------------------+\n",
            "| NVIDIA-SMI 460.32.03    Driver Version: 460.32.03    CUDA Version: 11.2     |\n",
            "|-------------------------------+----------------------+----------------------+\n",
            "| GPU  Name        Persistence-M| Bus-Id        Disp.A | Volatile Uncorr. ECC |\n",
            "| Fan  Temp  Perf  Pwr:Usage/Cap|         Memory-Usage | GPU-Util  Compute M. |\n",
            "|                               |                      |               MIG M. |\n",
            "|===============================+======================+======================|\n",
            "|   0  Tesla T4            Off  | 00000000:00:04.0 Off |                    0 |\n",
            "| N/A   39C    P8    10W /  70W |      0MiB / 15109MiB |      0%      Default |\n",
            "|                               |                      |                  N/A |\n",
            "+-------------------------------+----------------------+----------------------+\n",
            "                                                                               \n",
            "+-----------------------------------------------------------------------------+\n",
            "| Processes:                                                                  |\n",
            "|  GPU   GI   CI        PID   Type   Process name                  GPU Memory |\n",
            "|        ID   ID                                                   Usage      |\n",
            "|=============================================================================|\n",
            "|  No running processes found                                                 |\n",
            "+-----------------------------------------------------------------------------+\n"
          ]
        }
      ]
    },
    {
      "cell_type": "code",
      "source": [
        "from google.colab import drive\n",
        "drive.mount('/content/drive')"
      ],
      "metadata": {
        "colab": {
          "base_uri": "https://localhost:8080/"
        },
        "id": "ErtFvD4HfhJr",
        "outputId": "a8d10915-1e6a-4ec1-f427-4515c0eb059d"
      },
      "execution_count": null,
      "outputs": [
        {
          "output_type": "stream",
          "name": "stdout",
          "text": [
            "Mounted at /content/drive\n"
          ]
        }
      ]
    },
    {
      "cell_type": "markdown",
      "source": [
        "#Install modules"
      ],
      "metadata": {
        "id": "v2MsaeD_kjI6"
      }
    },
    {
      "cell_type": "code",
      "execution_count": null,
      "metadata": {
        "colab": {
          "base_uri": "https://localhost:8080/",
          "height": 1000
        },
        "id": "w9arB1afY4kn",
        "outputId": "2c0c2a61-a2f2-4f35-97ac-579ef392959f"
      },
      "outputs": [
        {
          "output_type": "stream",
          "name": "stdout",
          "text": [
            "Collecting datasets\n",
            "  Downloading datasets-2.2.1-py3-none-any.whl (342 kB)\n",
            "\u001b[K     |████████████████████████████████| 342 kB 5.4 MB/s \n",
            "\u001b[?25hRequirement already satisfied: pyarrow>=6.0.0 in /usr/local/lib/python3.7/dist-packages (from datasets) (6.0.1)\n",
            "Collecting fsspec[http]>=2021.05.0\n",
            "  Downloading fsspec-2022.5.0-py3-none-any.whl (140 kB)\n",
            "\u001b[K     |████████████████████████████████| 140 kB 51.0 MB/s \n",
            "\u001b[?25hCollecting aiohttp\n",
            "  Downloading aiohttp-3.8.1-cp37-cp37m-manylinux_2_5_x86_64.manylinux1_x86_64.manylinux_2_12_x86_64.manylinux2010_x86_64.whl (1.1 MB)\n",
            "\u001b[K     |████████████████████████████████| 1.1 MB 50.5 MB/s \n",
            "\u001b[?25hRequirement already satisfied: huggingface-hub<1.0.0,>=0.1.0 in /usr/local/lib/python3.7/dist-packages (from datasets) (0.6.0)\n",
            "Requirement already satisfied: packaging in /usr/local/lib/python3.7/dist-packages (from datasets) (21.3)\n",
            "Requirement already satisfied: tqdm>=4.62.1 in /usr/local/lib/python3.7/dist-packages (from datasets) (4.64.0)\n",
            "Requirement already satisfied: numpy>=1.17 in /usr/local/lib/python3.7/dist-packages (from datasets) (1.21.6)\n",
            "Collecting xxhash\n",
            "  Downloading xxhash-3.0.0-cp37-cp37m-manylinux_2_17_x86_64.manylinux2014_x86_64.whl (212 kB)\n",
            "\u001b[K     |████████████████████████████████| 212 kB 55.8 MB/s \n",
            "\u001b[?25hRequirement already satisfied: multiprocess in /usr/local/lib/python3.7/dist-packages (from datasets) (0.70.12.2)\n",
            "Collecting responses<0.19\n",
            "  Downloading responses-0.18.0-py3-none-any.whl (38 kB)\n",
            "Requirement already satisfied: pandas in /usr/local/lib/python3.7/dist-packages (from datasets) (1.3.5)\n",
            "Requirement already satisfied: importlib-metadata in /usr/local/lib/python3.7/dist-packages (from datasets) (4.11.3)\n",
            "Requirement already satisfied: dill in /usr/local/lib/python3.7/dist-packages (from datasets) (0.3.4)\n",
            "Requirement already satisfied: requests>=2.19.0 in /usr/local/lib/python3.7/dist-packages (from datasets) (2.23.0)\n",
            "Requirement already satisfied: pyyaml in /usr/local/lib/python3.7/dist-packages (from huggingface-hub<1.0.0,>=0.1.0->datasets) (6.0)\n",
            "Requirement already satisfied: filelock in /usr/local/lib/python3.7/dist-packages (from huggingface-hub<1.0.0,>=0.1.0->datasets) (3.7.0)\n",
            "Requirement already satisfied: typing-extensions>=3.7.4.3 in /usr/local/lib/python3.7/dist-packages (from huggingface-hub<1.0.0,>=0.1.0->datasets) (4.2.0)\n",
            "Requirement already satisfied: pyparsing!=3.0.5,>=2.0.2 in /usr/local/lib/python3.7/dist-packages (from packaging->datasets) (3.0.9)\n",
            "Requirement already satisfied: urllib3!=1.25.0,!=1.25.1,<1.26,>=1.21.1 in /usr/local/lib/python3.7/dist-packages (from requests>=2.19.0->datasets) (1.24.3)\n",
            "Requirement already satisfied: idna<3,>=2.5 in /usr/local/lib/python3.7/dist-packages (from requests>=2.19.0->datasets) (2.10)\n",
            "Requirement already satisfied: certifi>=2017.4.17 in /usr/local/lib/python3.7/dist-packages (from requests>=2.19.0->datasets) (2021.10.8)\n",
            "Requirement already satisfied: chardet<4,>=3.0.2 in /usr/local/lib/python3.7/dist-packages (from requests>=2.19.0->datasets) (3.0.4)\n",
            "Collecting urllib3!=1.25.0,!=1.25.1,<1.26,>=1.21.1\n",
            "  Downloading urllib3-1.25.11-py2.py3-none-any.whl (127 kB)\n",
            "\u001b[K     |████████████████████████████████| 127 kB 56.7 MB/s \n",
            "\u001b[?25hCollecting aiosignal>=1.1.2\n",
            "  Downloading aiosignal-1.2.0-py3-none-any.whl (8.2 kB)\n",
            "Collecting yarl<2.0,>=1.0\n",
            "  Downloading yarl-1.7.2-cp37-cp37m-manylinux_2_5_x86_64.manylinux1_x86_64.manylinux_2_12_x86_64.manylinux2010_x86_64.whl (271 kB)\n",
            "\u001b[K     |████████████████████████████████| 271 kB 55.3 MB/s \n",
            "\u001b[?25hCollecting asynctest==0.13.0\n",
            "  Downloading asynctest-0.13.0-py3-none-any.whl (26 kB)\n",
            "Requirement already satisfied: attrs>=17.3.0 in /usr/local/lib/python3.7/dist-packages (from aiohttp->datasets) (21.4.0)\n",
            "Collecting frozenlist>=1.1.1\n",
            "  Downloading frozenlist-1.3.0-cp37-cp37m-manylinux_2_5_x86_64.manylinux1_x86_64.manylinux_2_17_x86_64.manylinux2014_x86_64.whl (144 kB)\n",
            "\u001b[K     |████████████████████████████████| 144 kB 58.7 MB/s \n",
            "\u001b[?25hCollecting multidict<7.0,>=4.5\n",
            "  Downloading multidict-6.0.2-cp37-cp37m-manylinux_2_17_x86_64.manylinux2014_x86_64.whl (94 kB)\n",
            "\u001b[K     |████████████████████████████████| 94 kB 4.2 MB/s \n",
            "\u001b[?25hCollecting async-timeout<5.0,>=4.0.0a3\n",
            "  Downloading async_timeout-4.0.2-py3-none-any.whl (5.8 kB)\n",
            "Requirement already satisfied: charset-normalizer<3.0,>=2.0 in /usr/local/lib/python3.7/dist-packages (from aiohttp->datasets) (2.0.12)\n",
            "Requirement already satisfied: zipp>=0.5 in /usr/local/lib/python3.7/dist-packages (from importlib-metadata->datasets) (3.8.0)\n",
            "Requirement already satisfied: pytz>=2017.3 in /usr/local/lib/python3.7/dist-packages (from pandas->datasets) (2022.1)\n",
            "Requirement already satisfied: python-dateutil>=2.7.3 in /usr/local/lib/python3.7/dist-packages (from pandas->datasets) (2.8.2)\n",
            "Requirement already satisfied: six>=1.5 in /usr/local/lib/python3.7/dist-packages (from python-dateutil>=2.7.3->pandas->datasets) (1.15.0)\n",
            "Installing collected packages: multidict, frozenlist, yarl, urllib3, asynctest, async-timeout, aiosignal, fsspec, aiohttp, xxhash, responses, datasets\n",
            "  Attempting uninstall: urllib3\n",
            "    Found existing installation: urllib3 1.24.3\n",
            "    Uninstalling urllib3-1.24.3:\n",
            "      Successfully uninstalled urllib3-1.24.3\n",
            "\u001b[31mERROR: pip's dependency resolver does not currently take into account all the packages that are installed. This behaviour is the source of the following dependency conflicts.\n",
            "datascience 0.10.6 requires folium==0.2.1, but you have folium 0.8.3 which is incompatible.\u001b[0m\n",
            "Successfully installed aiohttp-3.8.1 aiosignal-1.2.0 async-timeout-4.0.2 asynctest-0.13.0 datasets-2.2.1 frozenlist-1.3.0 fsspec-2022.5.0 multidict-6.0.2 responses-0.18.0 urllib3-1.25.11 xxhash-3.0.0 yarl-1.7.2\n"
          ]
        },
        {
          "output_type": "display_data",
          "data": {
            "application/vnd.colab-display-data+json": {
              "pip_warning": {
                "packages": [
                  "urllib3"
                ]
              }
            }
          },
          "metadata": {}
        }
      ],
      "source": [
        "pip install datasets"
      ]
    },
    {
      "cell_type": "code",
      "source": [
        "pip install transformers"
      ],
      "metadata": {
        "colab": {
          "base_uri": "https://localhost:8080/"
        },
        "id": "fP7CyBVpco_l",
        "outputId": "9dd18985-a6bc-4dfb-e3b0-4c0ea73a9929"
      },
      "execution_count": null,
      "outputs": [
        {
          "output_type": "stream",
          "name": "stdout",
          "text": [
            "Looking in indexes: https://pypi.org/simple, https://us-python.pkg.dev/colab-wheels/public/simple/\n",
            "Collecting transformers\n",
            "  Downloading transformers-4.19.2-py3-none-any.whl (4.2 MB)\n",
            "\u001b[K     |████████████████████████████████| 4.2 MB 31.6 MB/s \n",
            "\u001b[?25hCollecting huggingface-hub<1.0,>=0.1.0\n",
            "  Downloading huggingface_hub-0.7.0-py3-none-any.whl (86 kB)\n",
            "\u001b[K     |████████████████████████████████| 86 kB 6.1 MB/s \n",
            "\u001b[?25hRequirement already satisfied: regex!=2019.12.17 in /usr/local/lib/python3.7/dist-packages (from transformers) (2019.12.20)\n",
            "Collecting pyyaml>=5.1\n",
            "  Downloading PyYAML-6.0-cp37-cp37m-manylinux_2_5_x86_64.manylinux1_x86_64.manylinux_2_12_x86_64.manylinux2010_x86_64.whl (596 kB)\n",
            "\u001b[K     |████████████████████████████████| 596 kB 43.4 MB/s \n",
            "\u001b[?25hRequirement already satisfied: requests in /usr/local/lib/python3.7/dist-packages (from transformers) (2.23.0)\n",
            "Requirement already satisfied: packaging>=20.0 in /usr/local/lib/python3.7/dist-packages (from transformers) (21.3)\n",
            "Requirement already satisfied: tqdm>=4.27 in /usr/local/lib/python3.7/dist-packages (from transformers) (4.64.0)\n",
            "Requirement already satisfied: importlib-metadata in /usr/local/lib/python3.7/dist-packages (from transformers) (4.11.3)\n",
            "Requirement already satisfied: filelock in /usr/local/lib/python3.7/dist-packages (from transformers) (3.7.0)\n",
            "Collecting tokenizers!=0.11.3,<0.13,>=0.11.1\n",
            "  Downloading tokenizers-0.12.1-cp37-cp37m-manylinux_2_12_x86_64.manylinux2010_x86_64.whl (6.6 MB)\n",
            "\u001b[K     |████████████████████████████████| 6.6 MB 61.7 MB/s \n",
            "\u001b[?25hRequirement already satisfied: numpy>=1.17 in /usr/local/lib/python3.7/dist-packages (from transformers) (1.21.6)\n",
            "Requirement already satisfied: typing-extensions>=3.7.4.3 in /usr/local/lib/python3.7/dist-packages (from huggingface-hub<1.0,>=0.1.0->transformers) (4.2.0)\n",
            "Requirement already satisfied: pyparsing!=3.0.5,>=2.0.2 in /usr/local/lib/python3.7/dist-packages (from packaging>=20.0->transformers) (3.0.9)\n",
            "Requirement already satisfied: zipp>=0.5 in /usr/local/lib/python3.7/dist-packages (from importlib-metadata->transformers) (3.8.0)\n",
            "Requirement already satisfied: urllib3!=1.25.0,!=1.25.1,<1.26,>=1.21.1 in /usr/local/lib/python3.7/dist-packages (from requests->transformers) (1.24.3)\n",
            "Requirement already satisfied: idna<3,>=2.5 in /usr/local/lib/python3.7/dist-packages (from requests->transformers) (2.10)\n",
            "Requirement already satisfied: chardet<4,>=3.0.2 in /usr/local/lib/python3.7/dist-packages (from requests->transformers) (3.0.4)\n",
            "Requirement already satisfied: certifi>=2017.4.17 in /usr/local/lib/python3.7/dist-packages (from requests->transformers) (2022.5.18.1)\n",
            "Installing collected packages: pyyaml, tokenizers, huggingface-hub, transformers\n",
            "  Attempting uninstall: pyyaml\n",
            "    Found existing installation: PyYAML 3.13\n",
            "    Uninstalling PyYAML-3.13:\n",
            "      Successfully uninstalled PyYAML-3.13\n",
            "Successfully installed huggingface-hub-0.7.0 pyyaml-6.0 tokenizers-0.12.1 transformers-4.19.2\n"
          ]
        }
      ]
    },
    {
      "cell_type": "code",
      "source": [
        "from datasets import load_dataset\n",
        "\n",
        "dataset = load_dataset(\"xnli\",language='vi')"
      ],
      "metadata": {
        "colab": {
          "base_uri": "https://localhost:8080/",
          "height": 84,
          "referenced_widgets": [
            "6272056665ac4f28b7da407d7ae806fa",
            "c8b3a561637745988f376e38c23d4a81",
            "01df6809f9334d0fadee5c4739d4e2b8",
            "5a3ae359254849e08aa872ea84624afd",
            "84a4c7678716488eb987af72dd3c0ea7",
            "324d4a92a86442748f2f0bf747801bc8",
            "6779bc29225e454f82714a2d6091b2bb",
            "b20c6a923dbc46c882dcc7fe0430f7c6",
            "f4fda75275c54bec9b92edde7cc13da8",
            "d5a0520756a84915a4e7700a3dbdd0c7",
            "337e39ebe5b94a35be7d9e9487306680"
          ]
        },
        "id": "X1DJHdDNegSx",
        "outputId": "ed5ed0ec-a723-4a53-aaf3-bd40703a66c5"
      },
      "execution_count": null,
      "outputs": [
        {
          "output_type": "stream",
          "name": "stderr",
          "text": [
            "Using custom data configuration default-language=vi\n",
            "Reusing dataset xnli (/root/.cache/huggingface/datasets/xnli/default-language=vi/1.1.0/818164464f9c9fd15776ca8a00423b074344c3e929d00a2c1a84aa5a50c928bd)\n"
          ]
        },
        {
          "output_type": "display_data",
          "data": {
            "text/plain": [
              "  0%|          | 0/3 [00:00<?, ?it/s]"
            ],
            "application/vnd.jupyter.widget-view+json": {
              "version_major": 2,
              "version_minor": 0,
              "model_id": "6272056665ac4f28b7da407d7ae806fa"
            }
          },
          "metadata": {}
        }
      ]
    },
    {
      "cell_type": "code",
      "source": [
        "dataset"
      ],
      "metadata": {
        "colab": {
          "base_uri": "https://localhost:8080/"
        },
        "id": "mEvnQLFzfePA",
        "outputId": "20ea17b9-692e-4c10-bcf2-b09089828b8e"
      },
      "execution_count": null,
      "outputs": [
        {
          "output_type": "execute_result",
          "data": {
            "text/plain": [
              "DatasetDict({\n",
              "    train: Dataset({\n",
              "        features: ['premise', 'hypothesis', 'label'],\n",
              "        num_rows: 392702\n",
              "    })\n",
              "    test: Dataset({\n",
              "        features: ['premise', 'hypothesis', 'label'],\n",
              "        num_rows: 5010\n",
              "    })\n",
              "    validation: Dataset({\n",
              "        features: ['premise', 'hypothesis', 'label'],\n",
              "        num_rows: 2490\n",
              "    })\n",
              "})"
            ]
          },
          "metadata": {},
          "execution_count": 2
        }
      ]
    },
    {
      "cell_type": "code",
      "source": [
        "import pandas as pd"
      ],
      "metadata": {
        "id": "gQIMkGD_fVOV"
      },
      "execution_count": null,
      "outputs": []
    },
    {
      "cell_type": "code",
      "source": [
        "train=pd.DataFrame(dataset['train'])"
      ],
      "metadata": {
        "id": "_PjOd75melBe"
      },
      "execution_count": null,
      "outputs": []
    },
    {
      "cell_type": "code",
      "source": [
        "train=train.sample(frac=1)"
      ],
      "metadata": {
        "id": "jX41T2DMf4Tm"
      },
      "execution_count": null,
      "outputs": []
    },
    {
      "cell_type": "code",
      "source": [
        "valid=pd.DataFrame(dataset['validation'])"
      ],
      "metadata": {
        "id": "9VaG3TQSfm0t"
      },
      "execution_count": null,
      "outputs": []
    },
    {
      "cell_type": "code",
      "source": [
        "test=pd.DataFrame(dataset['test'])"
      ],
      "metadata": {
        "id": "Jd_FE70Af0gM"
      },
      "execution_count": null,
      "outputs": []
    },
    {
      "cell_type": "code",
      "source": [
        "valid.to_csv(\"/content/drive/MyDrive/vi-nli/raw_dataset/valid.csv\",index=False)"
      ],
      "metadata": {
        "id": "rBA7OM7Rf111"
      },
      "execution_count": null,
      "outputs": []
    },
    {
      "cell_type": "code",
      "source": [
        "test.to_csv(\"/content/drive/MyDrive/vi-nli/raw_dataset/test.csv\",index=False)"
      ],
      "metadata": {
        "id": "_XYoHq-kgIfu"
      },
      "execution_count": null,
      "outputs": []
    },
    {
      "cell_type": "markdown",
      "source": [
        "#Import modules"
      ],
      "metadata": {
        "id": "qxr3FFXBg2uk"
      }
    },
    {
      "cell_type": "code",
      "source": [
        "import pandas as pd\n",
        "import re\n",
        "import string\n",
        "from transformers import AutoTokenizer,AutoConfig,AutoModelForSequenceClassification,get_linear_schedule_with_warmup\n",
        "import matplotlib.pyplot as plt\n",
        "from os.path import join\n",
        "import os\n",
        "from torch.utils.data import DataLoader, Dataset\n",
        "import torch\n",
        "from tqdm.auto import tqdm\n",
        "import numpy as np\n",
        "from sklearn.metrics import *"
      ],
      "metadata": {
        "id": "zBIDGnSpg4-k"
      },
      "execution_count": 1,
      "outputs": []
    },
    {
      "cell_type": "code",
      "source": [
        "device = torch.device(\"cuda\" if torch.cuda.is_available() else \"cpu\")\n",
        "device"
      ],
      "metadata": {
        "colab": {
          "base_uri": "https://localhost:8080/"
        },
        "id": "6bHpp2_qyB0_",
        "outputId": "4424e814-b7a3-4b4c-a9da-bba454294f19"
      },
      "execution_count": 2,
      "outputs": [
        {
          "output_type": "execute_result",
          "data": {
            "text/plain": [
              "device(type='cuda')"
            ]
          },
          "metadata": {},
          "execution_count": 2
        }
      ]
    },
    {
      "cell_type": "code",
      "source": [
        "name='xlm-roberta-base'\n",
        "max_length=256\n",
        "\n",
        "root='/content/drive/MyDrive/vi-nli'\n",
        "preprocessed_data=join(root,\"preprocessed_data\")\n",
        "models=join(root,'models')\n",
        "model_name=join(models,f'{name}-{max_length}')"
      ],
      "metadata": {
        "id": "zYeg3HYRpDaz"
      },
      "execution_count": 3,
      "outputs": []
    },
    {
      "cell_type": "code",
      "source": [
        "os.makedirs(preprocessed_data, exist_ok=True)"
      ],
      "metadata": {
        "id": "bQrKjLUuvB5n"
      },
      "execution_count": 4,
      "outputs": []
    },
    {
      "cell_type": "code",
      "source": [
        "tokenizer = AutoTokenizer.from_pretrained(name)"
      ],
      "metadata": {
        "id": "k9gbUY2Wo9Us"
      },
      "execution_count": 5,
      "outputs": []
    },
    {
      "cell_type": "markdown",
      "source": [
        "#Load dataset"
      ],
      "metadata": {
        "id": "8NXImQndgwGu"
      }
    },
    {
      "cell_type": "code",
      "source": [
        "train=pd.read_csv(f'/content/drive/MyDrive/vi-nli/raw_dataset/train.csv')"
      ],
      "metadata": {
        "id": "CaKGRSoWgxWE"
      },
      "execution_count": null,
      "outputs": []
    },
    {
      "cell_type": "code",
      "source": [
        "train"
      ],
      "metadata": {
        "colab": {
          "base_uri": "https://localhost:8080/",
          "height": 424
        },
        "id": "kvBZmCpCg8fc",
        "outputId": "9ad81031-182d-4202-97e9-eada5f4d92af"
      },
      "execution_count": null,
      "outputs": [
        {
          "output_type": "execute_result",
          "data": {
            "text/plain": [
              "                                                  premise  \\\n",
              "0       Hãy lấy ý tưởng rằng đàn ông trở nên ít cạnh t...   \n",
              "1       Đúng nó muốn chạy ra và lấy đồ xong rồi nên um...   \n",
              "2       Ngoài ra , kiểm soát hoạt động giúp đỡ để đảm ...   \n",
              "3       Các ưu đãi thuế lớn thứ hai nhắm vào việc khuy...   \n",
              "4       Một kỵ sĩ khác đang chán anh ta với một con la...   \n",
              "...                                                   ...   \n",
              "392697      Cả dân số và nền kinh tế bắt đầu phát triển .   \n",
              "392698  Tháng trước của tôi đã lấy một tôi đã tài trợ ...   \n",
              "392699         Ngày nay , mọi người có vẻ thích điều đó .   \n",
              "392700             Chúng ta có thể có một cái bàn không ?   \n",
              "392701  Một vị trí an toàn trên an toàn nghĩa là chỉ c...   \n",
              "\n",
              "                                               hypothesis  label  \n",
              "0       Một vợ chồng giảm testosterone trong đàn ông b...      1  \n",
              "1       Anh ta là kẻ xấu xa nhất mà tôi biết ; anh ta ...      2  \n",
              "2       Các hoạt động kiểm soát không giúp được gì với...      2  \n",
              "3       Các ưu đãi thuế lớn thứ hai nhắm vào việc khuy...      2  \n",
              "4                      Những kỵ sĩ khác đã đi xa anh ta .      2  \n",
              "...                                                   ...    ...  \n",
              "392697  Nền kinh tế bắt đầu giảm nhanh khi dân số tăng...      2  \n",
              "392698  Có một nhóm lớn trong chúng ta đã đi đến pizza...      0  \n",
              "392699  Có những bằng chứng mà tất cả mọi người đều th...      0  \n",
              "392700              Chúng tôi không muốn có một cái bàn .      2  \n",
              "392701  Một số người có một vị trí an toàn trong sự an...      1  \n",
              "\n",
              "[392702 rows x 3 columns]"
            ],
            "text/html": [
              "\n",
              "  <div id=\"df-1d56d575-21ec-4624-ae23-436815bf3bb5\">\n",
              "    <div class=\"colab-df-container\">\n",
              "      <div>\n",
              "<style scoped>\n",
              "    .dataframe tbody tr th:only-of-type {\n",
              "        vertical-align: middle;\n",
              "    }\n",
              "\n",
              "    .dataframe tbody tr th {\n",
              "        vertical-align: top;\n",
              "    }\n",
              "\n",
              "    .dataframe thead th {\n",
              "        text-align: right;\n",
              "    }\n",
              "</style>\n",
              "<table border=\"1\" class=\"dataframe\">\n",
              "  <thead>\n",
              "    <tr style=\"text-align: right;\">\n",
              "      <th></th>\n",
              "      <th>premise</th>\n",
              "      <th>hypothesis</th>\n",
              "      <th>label</th>\n",
              "    </tr>\n",
              "  </thead>\n",
              "  <tbody>\n",
              "    <tr>\n",
              "      <th>0</th>\n",
              "      <td>Hãy lấy ý tưởng rằng đàn ông trở nên ít cạnh t...</td>\n",
              "      <td>Một vợ chồng giảm testosterone trong đàn ông b...</td>\n",
              "      <td>1</td>\n",
              "    </tr>\n",
              "    <tr>\n",
              "      <th>1</th>\n",
              "      <td>Đúng nó muốn chạy ra và lấy đồ xong rồi nên um...</td>\n",
              "      <td>Anh ta là kẻ xấu xa nhất mà tôi biết ; anh ta ...</td>\n",
              "      <td>2</td>\n",
              "    </tr>\n",
              "    <tr>\n",
              "      <th>2</th>\n",
              "      <td>Ngoài ra , kiểm soát hoạt động giúp đỡ để đảm ...</td>\n",
              "      <td>Các hoạt động kiểm soát không giúp được gì với...</td>\n",
              "      <td>2</td>\n",
              "    </tr>\n",
              "    <tr>\n",
              "      <th>3</th>\n",
              "      <td>Các ưu đãi thuế lớn thứ hai nhắm vào việc khuy...</td>\n",
              "      <td>Các ưu đãi thuế lớn thứ hai nhắm vào việc khuy...</td>\n",
              "      <td>2</td>\n",
              "    </tr>\n",
              "    <tr>\n",
              "      <th>4</th>\n",
              "      <td>Một kỵ sĩ khác đang chán anh ta với một con la...</td>\n",
              "      <td>Những kỵ sĩ khác đã đi xa anh ta .</td>\n",
              "      <td>2</td>\n",
              "    </tr>\n",
              "    <tr>\n",
              "      <th>...</th>\n",
              "      <td>...</td>\n",
              "      <td>...</td>\n",
              "      <td>...</td>\n",
              "    </tr>\n",
              "    <tr>\n",
              "      <th>392697</th>\n",
              "      <td>Cả dân số và nền kinh tế bắt đầu phát triển .</td>\n",
              "      <td>Nền kinh tế bắt đầu giảm nhanh khi dân số tăng...</td>\n",
              "      <td>2</td>\n",
              "    </tr>\n",
              "    <tr>\n",
              "      <th>392698</th>\n",
              "      <td>Tháng trước của tôi đã lấy một tôi đã tài trợ ...</td>\n",
              "      <td>Có một nhóm lớn trong chúng ta đã đi đến pizza...</td>\n",
              "      <td>0</td>\n",
              "    </tr>\n",
              "    <tr>\n",
              "      <th>392699</th>\n",
              "      <td>Ngày nay , mọi người có vẻ thích điều đó .</td>\n",
              "      <td>Có những bằng chứng mà tất cả mọi người đều th...</td>\n",
              "      <td>0</td>\n",
              "    </tr>\n",
              "    <tr>\n",
              "      <th>392700</th>\n",
              "      <td>Chúng ta có thể có một cái bàn không ?</td>\n",
              "      <td>Chúng tôi không muốn có một cái bàn .</td>\n",
              "      <td>2</td>\n",
              "    </tr>\n",
              "    <tr>\n",
              "      <th>392701</th>\n",
              "      <td>Một vị trí an toàn trên an toàn nghĩa là chỉ c...</td>\n",
              "      <td>Một số người có một vị trí an toàn trong sự an...</td>\n",
              "      <td>1</td>\n",
              "    </tr>\n",
              "  </tbody>\n",
              "</table>\n",
              "<p>392702 rows × 3 columns</p>\n",
              "</div>\n",
              "      <button class=\"colab-df-convert\" onclick=\"convertToInteractive('df-1d56d575-21ec-4624-ae23-436815bf3bb5')\"\n",
              "              title=\"Convert this dataframe to an interactive table.\"\n",
              "              style=\"display:none;\">\n",
              "        \n",
              "  <svg xmlns=\"http://www.w3.org/2000/svg\" height=\"24px\"viewBox=\"0 0 24 24\"\n",
              "       width=\"24px\">\n",
              "    <path d=\"M0 0h24v24H0V0z\" fill=\"none\"/>\n",
              "    <path d=\"M18.56 5.44l.94 2.06.94-2.06 2.06-.94-2.06-.94-.94-2.06-.94 2.06-2.06.94zm-11 1L8.5 8.5l.94-2.06 2.06-.94-2.06-.94L8.5 2.5l-.94 2.06-2.06.94zm10 10l.94 2.06.94-2.06 2.06-.94-2.06-.94-.94-2.06-.94 2.06-2.06.94z\"/><path d=\"M17.41 7.96l-1.37-1.37c-.4-.4-.92-.59-1.43-.59-.52 0-1.04.2-1.43.59L10.3 9.45l-7.72 7.72c-.78.78-.78 2.05 0 2.83L4 21.41c.39.39.9.59 1.41.59.51 0 1.02-.2 1.41-.59l7.78-7.78 2.81-2.81c.8-.78.8-2.07 0-2.86zM5.41 20L4 18.59l7.72-7.72 1.47 1.35L5.41 20z\"/>\n",
              "  </svg>\n",
              "      </button>\n",
              "      \n",
              "  <style>\n",
              "    .colab-df-container {\n",
              "      display:flex;\n",
              "      flex-wrap:wrap;\n",
              "      gap: 12px;\n",
              "    }\n",
              "\n",
              "    .colab-df-convert {\n",
              "      background-color: #E8F0FE;\n",
              "      border: none;\n",
              "      border-radius: 50%;\n",
              "      cursor: pointer;\n",
              "      display: none;\n",
              "      fill: #1967D2;\n",
              "      height: 32px;\n",
              "      padding: 0 0 0 0;\n",
              "      width: 32px;\n",
              "    }\n",
              "\n",
              "    .colab-df-convert:hover {\n",
              "      background-color: #E2EBFA;\n",
              "      box-shadow: 0px 1px 2px rgba(60, 64, 67, 0.3), 0px 1px 3px 1px rgba(60, 64, 67, 0.15);\n",
              "      fill: #174EA6;\n",
              "    }\n",
              "\n",
              "    [theme=dark] .colab-df-convert {\n",
              "      background-color: #3B4455;\n",
              "      fill: #D2E3FC;\n",
              "    }\n",
              "\n",
              "    [theme=dark] .colab-df-convert:hover {\n",
              "      background-color: #434B5C;\n",
              "      box-shadow: 0px 1px 3px 1px rgba(0, 0, 0, 0.15);\n",
              "      filter: drop-shadow(0px 1px 2px rgba(0, 0, 0, 0.3));\n",
              "      fill: #FFFFFF;\n",
              "    }\n",
              "  </style>\n",
              "\n",
              "      <script>\n",
              "        const buttonEl =\n",
              "          document.querySelector('#df-1d56d575-21ec-4624-ae23-436815bf3bb5 button.colab-df-convert');\n",
              "        buttonEl.style.display =\n",
              "          google.colab.kernel.accessAllowed ? 'block' : 'none';\n",
              "\n",
              "        async function convertToInteractive(key) {\n",
              "          const element = document.querySelector('#df-1d56d575-21ec-4624-ae23-436815bf3bb5');\n",
              "          const dataTable =\n",
              "            await google.colab.kernel.invokeFunction('convertToInteractive',\n",
              "                                                     [key], {});\n",
              "          if (!dataTable) return;\n",
              "\n",
              "          const docLinkHtml = 'Like what you see? Visit the ' +\n",
              "            '<a target=\"_blank\" href=https://colab.research.google.com/notebooks/data_table.ipynb>data table notebook</a>'\n",
              "            + ' to learn more about interactive tables.';\n",
              "          element.innerHTML = '';\n",
              "          dataTable['output_type'] = 'display_data';\n",
              "          await google.colab.output.renderOutput(dataTable, element);\n",
              "          const docLink = document.createElement('div');\n",
              "          docLink.innerHTML = docLinkHtml;\n",
              "          element.appendChild(docLink);\n",
              "        }\n",
              "      </script>\n",
              "    </div>\n",
              "  </div>\n",
              "  "
            ]
          },
          "metadata": {},
          "execution_count": 14
        }
      ]
    },
    {
      "cell_type": "code",
      "source": [
        "valid=pd.read_csv(\"/content/drive/MyDrive/vi-nli/raw_dataset/valid.csv\")"
      ],
      "metadata": {
        "id": "jxR3iy0Cg9c6"
      },
      "execution_count": null,
      "outputs": []
    },
    {
      "cell_type": "markdown",
      "source": [
        "##Preprocessing"
      ],
      "metadata": {
        "id": "2s5YmrKthjq4"
      }
    },
    {
      "cell_type": "code",
      "source": [
        "punctuations=list(string.punctuation)"
      ],
      "metadata": {
        "id": "HYZixfc6ii0r"
      },
      "execution_count": null,
      "outputs": []
    },
    {
      "cell_type": "code",
      "source": [
        "def normalizer(text):\n",
        "\n",
        "  def remove_meaningless_token(s):\n",
        "    return re.sub(r'\\b(jeez|yeah|uhhuh|uh|oh|huh|ừ|à)\\b',' ',s)\n",
        "  def uncased(s):\n",
        "    return s.lower()\n",
        "\n",
        "  def fix_whitespaces(s):\n",
        "    return re.sub(r'\\s+',' ',s)\n",
        "\n",
        "  def remove_punctuations(s):\n",
        "    chs=[]\n",
        "    for ch in s:\n",
        "      if ch not in punctuations:\n",
        "        chs.append(ch)\n",
        "      else:\n",
        "        chs.append(\" \")\n",
        "    return \"\".join(chs)\n",
        "\n",
        "  return fix_whitespaces(remove_meaningless_token(uncased(remove_punctuations(text)))).strip()"
      ],
      "metadata": {
        "id": "zbceZslthg1V"
      },
      "execution_count": null,
      "outputs": []
    },
    {
      "cell_type": "code",
      "source": [
        "train['clean_premise']=train['premise'].map(normalizer)"
      ],
      "metadata": {
        "id": "C0rKvEAJhjBI"
      },
      "execution_count": null,
      "outputs": []
    },
    {
      "cell_type": "code",
      "source": [
        "valid['clean_premise']=valid['premise'].map(normalizer)"
      ],
      "metadata": {
        "id": "ZycFaTSb98au"
      },
      "execution_count": null,
      "outputs": []
    },
    {
      "cell_type": "code",
      "source": [
        "test['clean_premise']=test['premise'].map(normalizer)\n",
        "test['clean_hypothesis']=test['hypothesis'].map(normalizer)"
      ],
      "metadata": {
        "id": "P4DtgCvVG6s-"
      },
      "execution_count": null,
      "outputs": []
    },
    {
      "cell_type": "code",
      "source": [
        "train['clean_hypothesis']=train['hypothesis'].map(normalizer)"
      ],
      "metadata": {
        "id": "0lb5KSglm4GS"
      },
      "execution_count": null,
      "outputs": []
    },
    {
      "cell_type": "code",
      "source": [
        "valid['clean_hypothesis']=valid['hypothesis'].map(normalizer)"
      ],
      "metadata": {
        "id": "2q4YciDS9-nX"
      },
      "execution_count": null,
      "outputs": []
    },
    {
      "cell_type": "code",
      "source": [
        "def seperate_sentence(s):\n",
        "  return tokenizer.tokenize(s)"
      ],
      "metadata": {
        "id": "CG0Ej3rVo2kk"
      },
      "execution_count": null,
      "outputs": []
    },
    {
      "cell_type": "code",
      "source": [
        "def get_seq_len(s):\n",
        "  tokens=seperate_sentence(s)\n",
        "  return len(tokens)"
      ],
      "metadata": {
        "id": "tnkUEBdRpMGR"
      },
      "execution_count": null,
      "outputs": []
    },
    {
      "cell_type": "code",
      "source": [
        "train['premise_seq_len']=train['clean_premise'].map(get_seq_len)\n",
        "train['hypothesis_seq_len']=train['clean_hypothesis'].map(get_seq_len)"
      ],
      "metadata": {
        "id": "1bzzno-snErl"
      },
      "execution_count": null,
      "outputs": []
    },
    {
      "cell_type": "code",
      "source": [
        "valid['premise_seq_len']=valid['clean_premise'].map(get_seq_len)\n",
        "valid['hypothesis_seq_len']=valid['clean_hypothesis'].map(get_seq_len)"
      ],
      "metadata": {
        "id": "e47MW51395dy"
      },
      "execution_count": null,
      "outputs": []
    },
    {
      "cell_type": "code",
      "source": [
        "def seq_len_visualizer(x,y):\n",
        "  fig, ax = plt.subplots(1, 1, sharex=True, sharey=True,figsize=(20,20))\n",
        "  ax.bar(x,y)\n",
        "  fig.show()"
      ],
      "metadata": {
        "id": "OD-qjYc9r3IR"
      },
      "execution_count": null,
      "outputs": []
    },
    {
      "cell_type": "code",
      "source": [
        "max(train['premise_seq_len'].unique()),max(train['hypothesis_seq_len'].unique())"
      ],
      "metadata": {
        "colab": {
          "base_uri": "https://localhost:8080/"
        },
        "id": "H7MnfV8EqB-L",
        "outputId": "61b0dc36-c680-4959-d262-ec132d63c7dc"
      },
      "execution_count": null,
      "outputs": [
        {
          "output_type": "execute_result",
          "data": {
            "text/plain": [
              "(441, 101)"
            ]
          },
          "metadata": {},
          "execution_count": 32
        }
      ]
    },
    {
      "cell_type": "code",
      "source": [
        "max(valid['premise_seq_len'].unique()),max(valid['hypothesis_seq_len'].unique())"
      ],
      "metadata": {
        "colab": {
          "base_uri": "https://localhost:8080/"
        },
        "id": "dNnoUUY--Cds",
        "outputId": "08ee52cd-4897-4956-9314-1bc77df7e17b"
      },
      "execution_count": null,
      "outputs": [
        {
          "output_type": "execute_result",
          "data": {
            "text/plain": [
              "(77, 37)"
            ]
          },
          "metadata": {},
          "execution_count": 33
        }
      ]
    },
    {
      "cell_type": "code",
      "source": [
        "min(train['premise_seq_len'].unique()),min(train['hypothesis_seq_len'].unique())"
      ],
      "metadata": {
        "colab": {
          "base_uri": "https://localhost:8080/"
        },
        "id": "EjKDnTiNyixb",
        "outputId": "c2ab72bf-6185-484b-9760-75a172bdba18"
      },
      "execution_count": null,
      "outputs": [
        {
          "output_type": "execute_result",
          "data": {
            "text/plain": [
              "(0, 0)"
            ]
          },
          "metadata": {},
          "execution_count": 34
        }
      ]
    },
    {
      "cell_type": "code",
      "source": [
        "min(valid['premise_seq_len'].unique()),min(valid['hypothesis_seq_len'].unique())"
      ],
      "metadata": {
        "colab": {
          "base_uri": "https://localhost:8080/"
        },
        "id": "61NwNy4T-EXK",
        "outputId": "79926c62-02a7-49dc-cd37-a787192259b8"
      },
      "execution_count": null,
      "outputs": [
        {
          "output_type": "execute_result",
          "data": {
            "text/plain": [
              "(4, 2)"
            ]
          },
          "metadata": {},
          "execution_count": 35
        }
      ]
    },
    {
      "cell_type": "code",
      "source": [
        "train=train[~(train['premise_seq_len']==0)]"
      ],
      "metadata": {
        "id": "1_r2daVlyz8F"
      },
      "execution_count": null,
      "outputs": []
    },
    {
      "cell_type": "code",
      "source": [
        "train=train[~(train['hypothesis_seq_len']==0)]"
      ],
      "metadata": {
        "id": "8AxyiFfQ2Rp_"
      },
      "execution_count": null,
      "outputs": []
    },
    {
      "cell_type": "code",
      "source": [
        "valid[(valid['premise_seq_len']==0)]"
      ],
      "metadata": {
        "colab": {
          "base_uri": "https://localhost:8080/",
          "height": 49
        },
        "id": "IvRN_x87Dxdl",
        "outputId": "a63b14e0-2597-4b1a-8ef4-c8f34a1e3260"
      },
      "execution_count": null,
      "outputs": [
        {
          "output_type": "execute_result",
          "data": {
            "text/plain": [
              "Empty DataFrame\n",
              "Columns: [premise, hypothesis, label, clean_premise, clean_hypothesis, premise_seq_len, hypothesis_seq_len]\n",
              "Index: []"
            ],
            "text/html": [
              "\n",
              "  <div id=\"df-671a10f9-237d-4827-af01-4b4ba9b590c3\">\n",
              "    <div class=\"colab-df-container\">\n",
              "      <div>\n",
              "<style scoped>\n",
              "    .dataframe tbody tr th:only-of-type {\n",
              "        vertical-align: middle;\n",
              "    }\n",
              "\n",
              "    .dataframe tbody tr th {\n",
              "        vertical-align: top;\n",
              "    }\n",
              "\n",
              "    .dataframe thead th {\n",
              "        text-align: right;\n",
              "    }\n",
              "</style>\n",
              "<table border=\"1\" class=\"dataframe\">\n",
              "  <thead>\n",
              "    <tr style=\"text-align: right;\">\n",
              "      <th></th>\n",
              "      <th>premise</th>\n",
              "      <th>hypothesis</th>\n",
              "      <th>label</th>\n",
              "      <th>clean_premise</th>\n",
              "      <th>clean_hypothesis</th>\n",
              "      <th>premise_seq_len</th>\n",
              "      <th>hypothesis_seq_len</th>\n",
              "    </tr>\n",
              "  </thead>\n",
              "  <tbody>\n",
              "  </tbody>\n",
              "</table>\n",
              "</div>\n",
              "      <button class=\"colab-df-convert\" onclick=\"convertToInteractive('df-671a10f9-237d-4827-af01-4b4ba9b590c3')\"\n",
              "              title=\"Convert this dataframe to an interactive table.\"\n",
              "              style=\"display:none;\">\n",
              "        \n",
              "  <svg xmlns=\"http://www.w3.org/2000/svg\" height=\"24px\"viewBox=\"0 0 24 24\"\n",
              "       width=\"24px\">\n",
              "    <path d=\"M0 0h24v24H0V0z\" fill=\"none\"/>\n",
              "    <path d=\"M18.56 5.44l.94 2.06.94-2.06 2.06-.94-2.06-.94-.94-2.06-.94 2.06-2.06.94zm-11 1L8.5 8.5l.94-2.06 2.06-.94-2.06-.94L8.5 2.5l-.94 2.06-2.06.94zm10 10l.94 2.06.94-2.06 2.06-.94-2.06-.94-.94-2.06-.94 2.06-2.06.94z\"/><path d=\"M17.41 7.96l-1.37-1.37c-.4-.4-.92-.59-1.43-.59-.52 0-1.04.2-1.43.59L10.3 9.45l-7.72 7.72c-.78.78-.78 2.05 0 2.83L4 21.41c.39.39.9.59 1.41.59.51 0 1.02-.2 1.41-.59l7.78-7.78 2.81-2.81c.8-.78.8-2.07 0-2.86zM5.41 20L4 18.59l7.72-7.72 1.47 1.35L5.41 20z\"/>\n",
              "  </svg>\n",
              "      </button>\n",
              "      \n",
              "  <style>\n",
              "    .colab-df-container {\n",
              "      display:flex;\n",
              "      flex-wrap:wrap;\n",
              "      gap: 12px;\n",
              "    }\n",
              "\n",
              "    .colab-df-convert {\n",
              "      background-color: #E8F0FE;\n",
              "      border: none;\n",
              "      border-radius: 50%;\n",
              "      cursor: pointer;\n",
              "      display: none;\n",
              "      fill: #1967D2;\n",
              "      height: 32px;\n",
              "      padding: 0 0 0 0;\n",
              "      width: 32px;\n",
              "    }\n",
              "\n",
              "    .colab-df-convert:hover {\n",
              "      background-color: #E2EBFA;\n",
              "      box-shadow: 0px 1px 2px rgba(60, 64, 67, 0.3), 0px 1px 3px 1px rgba(60, 64, 67, 0.15);\n",
              "      fill: #174EA6;\n",
              "    }\n",
              "\n",
              "    [theme=dark] .colab-df-convert {\n",
              "      background-color: #3B4455;\n",
              "      fill: #D2E3FC;\n",
              "    }\n",
              "\n",
              "    [theme=dark] .colab-df-convert:hover {\n",
              "      background-color: #434B5C;\n",
              "      box-shadow: 0px 1px 3px 1px rgba(0, 0, 0, 0.15);\n",
              "      filter: drop-shadow(0px 1px 2px rgba(0, 0, 0, 0.3));\n",
              "      fill: #FFFFFF;\n",
              "    }\n",
              "  </style>\n",
              "\n",
              "      <script>\n",
              "        const buttonEl =\n",
              "          document.querySelector('#df-671a10f9-237d-4827-af01-4b4ba9b590c3 button.colab-df-convert');\n",
              "        buttonEl.style.display =\n",
              "          google.colab.kernel.accessAllowed ? 'block' : 'none';\n",
              "\n",
              "        async function convertToInteractive(key) {\n",
              "          const element = document.querySelector('#df-671a10f9-237d-4827-af01-4b4ba9b590c3');\n",
              "          const dataTable =\n",
              "            await google.colab.kernel.invokeFunction('convertToInteractive',\n",
              "                                                     [key], {});\n",
              "          if (!dataTable) return;\n",
              "\n",
              "          const docLinkHtml = 'Like what you see? Visit the ' +\n",
              "            '<a target=\"_blank\" href=https://colab.research.google.com/notebooks/data_table.ipynb>data table notebook</a>'\n",
              "            + ' to learn more about interactive tables.';\n",
              "          element.innerHTML = '';\n",
              "          dataTable['output_type'] = 'display_data';\n",
              "          await google.colab.output.renderOutput(dataTable, element);\n",
              "          const docLink = document.createElement('div');\n",
              "          docLink.innerHTML = docLinkHtml;\n",
              "          element.appendChild(docLink);\n",
              "        }\n",
              "      </script>\n",
              "    </div>\n",
              "  </div>\n",
              "  "
            ]
          },
          "metadata": {},
          "execution_count": 38
        }
      ]
    },
    {
      "cell_type": "code",
      "source": [
        "valid[(valid['hypothesis_seq_len']==0)]"
      ],
      "metadata": {
        "colab": {
          "base_uri": "https://localhost:8080/",
          "height": 49
        },
        "id": "2xoR7Yh6D2Lf",
        "outputId": "a7294bd8-12bb-4644-d034-70d3b2fcbc5d"
      },
      "execution_count": null,
      "outputs": [
        {
          "output_type": "execute_result",
          "data": {
            "text/plain": [
              "Empty DataFrame\n",
              "Columns: [premise, hypothesis, label, clean_premise, clean_hypothesis, premise_seq_len, hypothesis_seq_len]\n",
              "Index: []"
            ],
            "text/html": [
              "\n",
              "  <div id=\"df-43c15362-ba9a-4015-9ca6-96f9317987fa\">\n",
              "    <div class=\"colab-df-container\">\n",
              "      <div>\n",
              "<style scoped>\n",
              "    .dataframe tbody tr th:only-of-type {\n",
              "        vertical-align: middle;\n",
              "    }\n",
              "\n",
              "    .dataframe tbody tr th {\n",
              "        vertical-align: top;\n",
              "    }\n",
              "\n",
              "    .dataframe thead th {\n",
              "        text-align: right;\n",
              "    }\n",
              "</style>\n",
              "<table border=\"1\" class=\"dataframe\">\n",
              "  <thead>\n",
              "    <tr style=\"text-align: right;\">\n",
              "      <th></th>\n",
              "      <th>premise</th>\n",
              "      <th>hypothesis</th>\n",
              "      <th>label</th>\n",
              "      <th>clean_premise</th>\n",
              "      <th>clean_hypothesis</th>\n",
              "      <th>premise_seq_len</th>\n",
              "      <th>hypothesis_seq_len</th>\n",
              "    </tr>\n",
              "  </thead>\n",
              "  <tbody>\n",
              "  </tbody>\n",
              "</table>\n",
              "</div>\n",
              "      <button class=\"colab-df-convert\" onclick=\"convertToInteractive('df-43c15362-ba9a-4015-9ca6-96f9317987fa')\"\n",
              "              title=\"Convert this dataframe to an interactive table.\"\n",
              "              style=\"display:none;\">\n",
              "        \n",
              "  <svg xmlns=\"http://www.w3.org/2000/svg\" height=\"24px\"viewBox=\"0 0 24 24\"\n",
              "       width=\"24px\">\n",
              "    <path d=\"M0 0h24v24H0V0z\" fill=\"none\"/>\n",
              "    <path d=\"M18.56 5.44l.94 2.06.94-2.06 2.06-.94-2.06-.94-.94-2.06-.94 2.06-2.06.94zm-11 1L8.5 8.5l.94-2.06 2.06-.94-2.06-.94L8.5 2.5l-.94 2.06-2.06.94zm10 10l.94 2.06.94-2.06 2.06-.94-2.06-.94-.94-2.06-.94 2.06-2.06.94z\"/><path d=\"M17.41 7.96l-1.37-1.37c-.4-.4-.92-.59-1.43-.59-.52 0-1.04.2-1.43.59L10.3 9.45l-7.72 7.72c-.78.78-.78 2.05 0 2.83L4 21.41c.39.39.9.59 1.41.59.51 0 1.02-.2 1.41-.59l7.78-7.78 2.81-2.81c.8-.78.8-2.07 0-2.86zM5.41 20L4 18.59l7.72-7.72 1.47 1.35L5.41 20z\"/>\n",
              "  </svg>\n",
              "      </button>\n",
              "      \n",
              "  <style>\n",
              "    .colab-df-container {\n",
              "      display:flex;\n",
              "      flex-wrap:wrap;\n",
              "      gap: 12px;\n",
              "    }\n",
              "\n",
              "    .colab-df-convert {\n",
              "      background-color: #E8F0FE;\n",
              "      border: none;\n",
              "      border-radius: 50%;\n",
              "      cursor: pointer;\n",
              "      display: none;\n",
              "      fill: #1967D2;\n",
              "      height: 32px;\n",
              "      padding: 0 0 0 0;\n",
              "      width: 32px;\n",
              "    }\n",
              "\n",
              "    .colab-df-convert:hover {\n",
              "      background-color: #E2EBFA;\n",
              "      box-shadow: 0px 1px 2px rgba(60, 64, 67, 0.3), 0px 1px 3px 1px rgba(60, 64, 67, 0.15);\n",
              "      fill: #174EA6;\n",
              "    }\n",
              "\n",
              "    [theme=dark] .colab-df-convert {\n",
              "      background-color: #3B4455;\n",
              "      fill: #D2E3FC;\n",
              "    }\n",
              "\n",
              "    [theme=dark] .colab-df-convert:hover {\n",
              "      background-color: #434B5C;\n",
              "      box-shadow: 0px 1px 3px 1px rgba(0, 0, 0, 0.15);\n",
              "      filter: drop-shadow(0px 1px 2px rgba(0, 0, 0, 0.3));\n",
              "      fill: #FFFFFF;\n",
              "    }\n",
              "  </style>\n",
              "\n",
              "      <script>\n",
              "        const buttonEl =\n",
              "          document.querySelector('#df-43c15362-ba9a-4015-9ca6-96f9317987fa button.colab-df-convert');\n",
              "        buttonEl.style.display =\n",
              "          google.colab.kernel.accessAllowed ? 'block' : 'none';\n",
              "\n",
              "        async function convertToInteractive(key) {\n",
              "          const element = document.querySelector('#df-43c15362-ba9a-4015-9ca6-96f9317987fa');\n",
              "          const dataTable =\n",
              "            await google.colab.kernel.invokeFunction('convertToInteractive',\n",
              "                                                     [key], {});\n",
              "          if (!dataTable) return;\n",
              "\n",
              "          const docLinkHtml = 'Like what you see? Visit the ' +\n",
              "            '<a target=\"_blank\" href=https://colab.research.google.com/notebooks/data_table.ipynb>data table notebook</a>'\n",
              "            + ' to learn more about interactive tables.';\n",
              "          element.innerHTML = '';\n",
              "          dataTable['output_type'] = 'display_data';\n",
              "          await google.colab.output.renderOutput(dataTable, element);\n",
              "          const docLink = document.createElement('div');\n",
              "          docLink.innerHTML = docLinkHtml;\n",
              "          element.appendChild(docLink);\n",
              "        }\n",
              "      </script>\n",
              "    </div>\n",
              "  </div>\n",
              "  "
            ]
          },
          "metadata": {},
          "execution_count": 39
        }
      ]
    },
    {
      "cell_type": "code",
      "source": [
        "samples1=train['clean_premise'].tolist()[:100]\n",
        "samples2=train['clean_hypothesis'].tolist()[:100]\n",
        "for i in range(100):\n",
        "  print(samples1[i])\n",
        "  print(samples2[i])\n",
        "  print('\\n')\n",
        "  "
      ],
      "metadata": {
        "colab": {
          "base_uri": "https://localhost:8080/"
        },
        "id": "G5cr7GXdzG0E",
        "outputId": "8b7283cb-24aa-431d-85f0-60f1bbfba784"
      },
      "execution_count": null,
      "outputs": [
        {
          "output_type": "stream",
          "name": "stdout",
          "text": [
            "hãy lấy ý tưởng rằng đàn ông trở nên ít cạnh tranh bởi vì phụ nữ khăng khăng với một vợ chồng điều đó làm giảm testosterone\n",
            "một vợ chồng giảm testosterone trong đàn ông bằng cách khoảng 20\n",
            "\n",
            "\n",
            "đúng nó muốn chạy ra và lấy đồ xong rồi nên um mình cố gắng nói rõ sao bạn không đi bay kites hay sao mà bạn không làm gì và\n",
            "anh ta là kẻ xấu xa nhất mà tôi biết anh ta không bao giờ ra khỏi nhà\n",
            "\n",
            "\n",
            "ngoài ra kiểm soát hoạt động giúp đỡ để đảm bảo rằng tất cả các giao dịch đều hoàn toàn và chính xác được ghi lại\n",
            "các hoạt động kiểm soát không giúp được gì với bản ghi âm hoàn toàn của các giao dịch\n",
            "\n",
            "\n",
            "các ưu đãi thuế lớn thứ hai nhắm vào việc khuyến khích lưu trữ quảng cáo quyền sở hữu nhà\n",
            "các ưu đãi thuế lớn thứ hai nhắm vào việc khuyến khích chi tiêu quảng bá quyền sở hữu nhà\n",
            "\n",
            "\n",
            "một kỵ sĩ khác đang chán anh ta với một con lance gai\n",
            "những kỵ sĩ khác đã đi xa anh ta\n",
            "\n",
            "\n",
            "những chuyện đó xảy ra mặc dù\n",
            "nhưng tuy nhiên những thứ như vậy xảy ra\n",
            "\n",
            "\n",
            "đưa những chiến binh của anh trở lại fena dim\n",
            "các chiến binh đã được di chuyển từ fena dim\n",
            "\n",
            "\n",
            "thật là quá khó xử\n",
            "không khó xử cho đến bây giờ đâu\n",
            "\n",
            "\n",
            "ý tưởng về cơ hội của johnson từ cái giống như cho các ngân hàng phần mềm tốt hơn cho các ứng dụng mortgage cho một đống trợ cấp mới rất nhiều trong số đó đáng buồn clinton và quốc hội cộng hòa có thể ban hành\n",
            "clinton và cộng hòa không nghĩ rằng ý tưởng của johnson là bất kỳ ý nghĩa nào\n",
            "\n",
            "\n",
            "cả hai mags cũng bao che nóng mới loại thuốc ginkgo biloba\n",
            "không có băng đạn nào che giấu được loại thuốc này\n",
            "\n",
            "\n",
            "được hỗ trợ bởi các giải pháp từ pasadena san gabriel các hiệp hội quán bar phía đông và foothill hai chương trình đã vẽ lên kế hoạch để hợp nhất và gửi chúng đến tập đoàn dịch vụ pháp lý\n",
            "hai chương trình đã lên kế hoạch hợp nhất\n",
            "\n",
            "\n",
            "sau khi ném đá đã có một cuộc đột phá ngắn ngủi trong khi simon nhận ra rằng tình dục với l t\n",
            "simon không có suy nghĩ gì cả\n",
            "\n",
            "\n",
            "để tiếp tục cái mũ của nhà kinh tế sự khan hiếm của giá trị và sự nhận thức rằng một ngày nào đó sẽ tăng lên sự đánh giá cao của giá trị của họ\n",
            "rất nhiều người chia sẻ sự nhận thức này\n",
            "\n",
            "\n",
            "được sinh ra bởi louis le vau jules hardouin mansart và nhà thiết kế phong cảnh andre le netre năm 1661 nó đã được hoàn thành 21 năm sau đó\n",
            "nó đã được hoàn thành sau 25 năm mà không có sự nhập khẩu của một nhà thiết kế phong cảnh\n",
            "\n",
            "\n",
            "giấy chứng nhận sẽ xuất hiện trong dấu ngoặc ở cuối mỗi đoạn văn hoặc hình minh họa\n",
            "giấy chứng nhận rất quan trọng với sự tín nhiệm của một bài báo\n",
            "\n",
            "\n",
            "như nó xảy ra không có bằng chứng gì ở tất cả các đại bác fieldcrest đang suy ngẫm về việc di chuyển sản xuất nước ngoài hoặc outsourcing\n",
            "có rất nhiều bằng chứng cho thấy sẽ có outsourcing\n",
            "\n",
            "\n",
            "trên tầng hai là những trần timbered nặng và bức tường được che phủ với tác phẩm nghệ thuật hầu hết là tôn giáo hoặc hoàng gia\n",
            "những bức tường trên tầng hai được bao phủ với tác phẩm nghệ thuật hầu hết là tôn giáo hoặc hoàng gia\n",
            "\n",
            "\n",
            "nó không có trong hồ sơ linh hồn\n",
            "tôi không thể tìm thấy hồ sơ linh hồn để tìm kiếm\n",
            "\n",
            "\n",
            "một yếu tố khác là sự cam kết của quản lý với năng lực\n",
            "quản lý bây giờ khá là hỗn loạn\n",
            "\n",
            "\n",
            "đúng là một sự hồi hộp tốt tôi đoán nó được xếp hạng số một bây giờ nó được cho là khá tốt suspenseful nhưng bạn có giỏi trong việc làm bạn thích những bộ phim suspenseful như vậy đúng vì thấy tôi tôi không thực sự là một người thích sự hồi hộp thật sự tôi thích the nice aladeen hài kịch hầu hết thời gian\n",
            "tôi không thích những bộ phim hồi hộp\n",
            "\n",
            "\n",
            "phải và đó là điều tôi đã biết rõ về sự nguy hiểm trong khu vực của tôi bạn cùng phòng của tôi bị tấn công và cô ấy đã thoát khỏi sự an toàn nhưng sợ hãi thành từng mảnh và đã có tất cả quần áo của cô ấy bị xé ra khỏi cô ấy và sau đó tôi có một người bạn khác điều đó cũng đã được tiếp cận và thoát ra và đây là giữa ban ngày ban ngày vì vậy tôi đã nhận thức được sự nguy hiểm trong các khu vực đó nhưng tôi không nghĩ rằng tôi không cảm thấy như tôi đã đủ đủ khả năng với bất kỳ loại vũ khí nào để mang theo một hoặc để cảm thấy như mang theo một cái gì đó sẽ là một lợi ích cho tôi hơn là chỉ cần họ lấy nó bạn biết tôi muốn nói rằng đó là điều tôi cảm thấy rằng tôi cảm thấy như thể tôi đang mang theo một cái gì đó và nếu tôi thực sự kéo nó vào một ai đó điều đó đã cố gắng tấn công tôi rằng cơ hội của họ để nhận được nó từ tôi sẽ cao hơn cơ hội của tôi sử dụng nó hiệu quả trên họ\n",
            "tôi đã biết là khu vực của tôi rất đáng sợ\n",
            "\n",
            "\n",
            "trung tâm chú ý là vương cung khổng lồ của truyền tin đứng trên trang web truyền thống của nhà tân mary và hang động nơi mà lãnh chúa gabriel đã xuất hiện với mary để đưa ra lời khai sinh của chúa giêsu luke 1 26 31\n",
            "vương cung đã được đặt ở đó do ý nghĩa của trang web\n",
            "\n",
            "\n",
            "tất cả bọn họ đều trở về từ dưới đáy\n",
            "họ nảy ra từ dưới đáy\n",
            "\n",
            "\n",
            "tôi không phải là tôi không bao giờ đi bộ tôi ghét điều đó khi tôi ở trường trung học chơi bóng đá tập thể dục lúc nào cũng làm cho chúng tôi chạy\n",
            "tôi đã đi bộ chạy bộ từ khi tôi còn là một thiếu niên tôi chỉ thích nó thôi\n",
            "\n",
            "\n",
            "barik la hét ở phương bắc trong một cái lưỡi kỳ lạ\n",
            "barik la hét ở phương bắc\n",
            "\n",
            "\n",
            "um hum và vì vậy tôi thực sự nghĩ rằng chúng tôi đã cố gắng để tone xuống\n",
            "chúng tôi giữ mọi thứ to lớn và rực rỡ nhất có thế\n",
            "\n",
            "\n",
            "cẩm thạch trắng của nó được mang đến từ trả trả được sử dụng để xây dựng taj mahal\n",
            "nguyên liệu xây dựng là đá granite\n",
            "\n",
            "\n",
            "bán hàng\n",
            "mua\n",
            "\n",
            "\n",
            "và nó đã không được như bạn biết là tốt một đánh giá giống như cô nàng tiên cá cuối cùng và nhận được tất cả các loại giải thưởng học viện và những thứ năm ngoái nhưng cái này là tôi đã nghĩ là xuất sắc nhất mà tôi không thể cả hai\n",
            "đó là một bộ phim tuyệt vời\n",
            "\n",
            "\n",
            "như anh ta đã chứng minh trong hình ảnh sau bức ảnh anh ta sẵn sàng được đạp lên vì lợi ích nghệ thuật\n",
            "hình ảnh sau bức ảnh anh ta chứng tỏ rằng anh ta sẵn sàng\n",
            "\n",
            "\n",
            "một số nhân tố ít rõ ràng hơn là sự phân biệt dân cư là kết giới giữa thành phố và ngoại ô\n",
            "kết giới giữa thành phố và ngoại ô là một yếu tố trong phân biệt chủng tộc dân cư\n",
            "\n",
            "\n",
            "và trong bất kỳ trường hợp nào đó chính là bản gốc mà tôi đã ra sau\n",
            "tôi đã ra ngoài sau phiên bản mới\n",
            "\n",
            "\n",
            "bảng 6 quốc gia interlaboratory nghiên cứu về độ chính xác của kiểm tra độc tính cấp tính 2000 độ chính xác của lc50 điểm ước tính để tham khảo toxicant effluent và nhận được mẫu nước types1\n",
            "nghiên cứu đã xem xét độ chính xác độc tính cấp tính ở các mẫu nước ngầm\n",
            "\n",
            "\n",
            "trước năm 2000 quốc hội được tổ chức các phiên điều trần quan trọng vào năm 2000 và năm 1998 đã qua luật dự định đến địa chỉ liên quan đến các thực thể riêng tư về việc phơi nắng cho trách nhiệm pháp lý và vi phạm pháp luật có thể xuất hiện do chia sẻ thông tin vào năm 2000 sẵn sàng\n",
            "các khu vực tư vấn liên quan đến việc phơi nắng pháp lý là những gì mà 1998 dự luật được cho là phải có địa chỉ\n",
            "\n",
            "\n",
            "có phải sự đóng góp duy nhất của tây ban nha cho lịch sử thực sự là phát minh của ăn thịt người không chắc chắn sự phản bội không phải là phổ biến giữa những người pháp cổ đại và thành thật mà nói mọi người đều biết thiên hướng thụy sĩ cho trung lập\n",
            "tây ban nha không có đóng góp lịch sử\n",
            "\n",
            "\n",
            "vậy mà ta mok đang bị feted vì đã bắt được người cố vấn cũ của mình\n",
            "chúng tôi đã được biết đến vì đã ngăn chặn người cố vấn cũ của ông ta khỏi bị bắt\n",
            "\n",
            "\n",
            "họ nói rằng tôi nghĩ rằng tôi đã đọc gần đây rằng chính quyền bush đã tăng ngân sách cho quân đoàn hòa bình\n",
            "tôi đọc trong một tạp chí gần đây rằng bush tăng số lượng ngân sách cho tập đoàn hòa bình\n",
            "\n",
            "\n",
            "hai ngày sau nó trôi qua một giây tàn phá tương tự bài viết của một 28 10 phiếu bầu\n",
            "hai ngày là không đủ thời gian để đi qua bài báo\n",
            "\n",
            "\n",
            "julius đã nhìn lại\n",
            "julius vẫn tiếp tục tiến lên và đi tiếp\n",
            "\n",
            "\n",
            "trang web đã được phát hiện bởi một nhà khảo cổ người anh năm 1869 sau sáu năm tìm kiếm\n",
            "trang web được phát hiện bởi một nhà khảo cổ ý vào năm 1888\n",
            "\n",
            "\n",
            "một luật sư khác trong văn phòng quản lý các trường hợp bạo lực trong nội địa và vẫn còn một người khác đang ở tại tòa án lewiston quận mỗi thứ tư để hỗ trợ trung bình của 20 người đối mặt với việc thu hồi người muốn nói chuyện với một luật sự\n",
            "bảy luật sư làm việc với các trường hợp bạo lực trong nội địa\n",
            "\n",
            "\n",
            "tôi nghĩ là quyền của anh\n",
            "tôi không đồng ý với điều đó\n",
            "\n",
            "\n",
            "hãy nhìn ra những ngôi nhà gothic và phục hưng trên đường rue f nelon và rue des chương đặc biệt là h sđt plamon và cho địa điểm du peyrou s grand maison de la bo cà vạt acrosefrom nhà thờ\n",
            "không có ngôi nhà gothic nào bên cạnh nhà thờ\n",
            "\n",
            "\n",
            "khách sạn rio suites duy trì cách đây vài dặm để thoát khỏi quần áo cho khách hàng của họ cung cấp những quan điểm ngoạn mục của thung lũng las vegas\n",
            "khách sạn rio suites đã phá vỡ khóa học golf của họ\n",
            "\n",
            "\n",
            "phải hoàn toàn là tôi đã nhầm\n",
            "tôi đã sai lầm vì tôi đã bị lừa dối\n",
            "\n",
            "\n",
            "lệnh cấm vận của chúng tôi bị truy tố bởi một số lượng lớn nhất ở liên hiệp quốc đang được đánh giá bởi vehement chống castro vận động bởi cuba ở miền nam florida\n",
            "lệnh cấm vận của chúng tôi đã bị tấn công bởi một số người ở liên hiệp quốc\n",
            "\n",
            "\n",
            "số liệu thống kê được hiển thị trong bảng 1 hàng 2 phản xạ cả hai văn phòng và thời gian giao hàng ngoài văn phòng\n",
            "theo cái bàn có một sự khác biệt lớn lao giữa hai lần giao hàng\n",
            "\n",
            "\n",
            "anh ta đang trông cậy vào một người tham dự màu đen khổng lồ và mấy con chó của đảng dân chủ màu vàng cuối cùng\n",
            "ông ta mong đợi một người la tinh lớn và nhiều người cộng hòa\n",
            "\n",
            "\n",
            "john n erlenborn tổng thống victor m fortuno phó tổng thống cho các vấn đề pháp lý tư vấn đại tướng và thư ký công ty mauricio vivero phó tổng thống cho quan hệ chính phủ\n",
            "tổ chức không có tổng thống nào cả\n",
            "\n",
            "\n",
            "vâng tôi không bao giờ thích bất kỳ âm nhạc kim loại nặng mà tôi chưa bao giờ thực sự nghe nó bởi vì tôi biết rằng tôi thích có nhiều hơn nữa tôi đoán là một mẫu được thiết lập của\n",
            "tôi đã từng là fan kim loại tận tụy trong nhiều năm qua\n",
            "\n",
            "\n",
            "chúng ta phải nhớ rằng là cpa chúng ta được trả tiền cho sự phán xét của chúng ta nên hãy tập thể dục nó\n",
            "đã có một sự thiếu chuyên nghiệp được hiển thị bởi cpa\n",
            "\n",
            "\n",
            "tôi không biết họ đang đi xuống dốc khá ổn định\n",
            "có vẻ như họ đang lớn lên\n",
            "\n",
            "\n",
            "đó là lý do tại sao họ có thể nói rằng bạn biết rằng không có chính sách của layoff\n",
            "họ không thể nói về nó bởi vì nó sẽ vi phạm chính sách của layoff\n",
            "\n",
            "\n",
            "new york s john simon nói rằng đại lộ thích nghi của hài kịch của một nhà kịch bản pháp của thế kỷ 18 pierre marivaux bao gồm rowdiness và bawdry mà như là ra khỏi nơi như là một ợ trong một tuyên bố của tình yêu\n",
            "john simon đến từ new york\n",
            "\n",
            "\n",
            "nia là một tổ chức nhỏ với nhiều ưu tiên hơn tiền bạc\n",
            "nia có một ngân sách hoạt động rất lớn\n",
            "\n",
            "\n",
            "san doro đã đứng\n",
            "san doro đã ngồi yên\n",
            "\n",
            "\n",
            "ba năm sau khi mùa thu của jerusalem ở công nguyên 70 người la mã đã bao vây pháo đài\n",
            "jerusalem đã rơi vào người la mã trong 75 quảng cáo\n",
            "\n",
            "\n",
            "và đã đến lúc tốn thời gian rồi\n",
            "phải mất rất ít thời gian\n",
            "\n",
            "\n",
            "ah westway\n",
            "tất nhiên rồi westway\n",
            "\n",
            "\n",
            "tôi xin lỗi nếu anh không thích cái cách mà anh nhìn thấy\n",
            "tôi cũng không thích cái cách mà cô nhìn\n",
            "\n",
            "\n",
            "rồi anh ta đi ra cửa đối diện dẫn đến phòng của cynthia\n",
            "anh ta đã đến cửa nhà cynthia\n",
            "\n",
            "\n",
            "hai hạc hát những lời khen ngợi của ramses trước khi các vị thần dâng lên ngôi đền tên thay thế của ngôi đền của cái\n",
            "ca hát được coi là bất hợp pháp ở ai cập cổ đại\n",
            "\n",
            "\n",
            "bãi biển kho báu là khu nghỉ dưỡng duy nhất để nói về chỉ với một số ít khách sạn đang trải dài acrosethree sandy vịnh\n",
            "bãi biển kho báu là một khu nghỉ dưỡng đẹp\n",
            "\n",
            "\n",
            "các nhà hoạt động nhân quyền đồng tính cho rằng đó là một chiến thắng của nhân loại thông thường của chúng ta mà làm theo cách của các nhân quyền tương tự\n",
            "các nhà hoạt động quyền đồng tính nói rằng đó là một thất bại mà sẽ thiết lập lại những thay đổi tương tự\n",
            "\n",
            "\n",
            "tình trạng của hồng kông là một cộng đồng người anh và một cổng tự do đã được xác nhận\n",
            "hong kong là một cộng đồng người anh do những hành động của nữ hoàng victoria\n",
            "\n",
            "\n",
            "hãy lấp đầy cái bụng của anh một chút đi\n",
            "ăn thức ăn này để anh có sức mạnh\n",
            "\n",
            "\n",
            "jon có thể nhìn thấy khuôn mặt của anh ta\n",
            "jon đã thấy biểu hiện trên khuôn mặt của anh ta\n",
            "\n",
            "\n",
            "tôi yêu nó bạn không thích nó\n",
            "tôi ghét nó và bạn yêu nó\n",
            "\n",
            "\n",
            "tiểu bang và chính phủ địa phương và chính phủ địa phương nói chung là 50 tiểu bang và quận columbia thành phố các quận townships các quận trường các quận đặc biệt chính quyền công cộng và các đơn vị chính phủ địa phương khác được xác định bởi cục điều tra và puerto rico những hòn đảo trinh nữ và những lãnh thổ khác của chúng ta\n",
            "họ không bao gồm các chính phủ địa phương\n",
            "\n",
            "\n",
            "tất cả mọi thứ mellows ra tại bãi biển của mẹ về phía nam một cái đầm đặc biệt được yêu thích bởi gia đình và trở nên cực kỳ văn minh tại bến cảng của marina del rey nơi du thuyền cảng và những chuyến đi câu cá có thể được sắp xếp\n",
            "bãi biển của mẹ là một trong những sân chơi tử tế\n",
            "\n",
            "\n",
            "bằng cách kết hôn với con gái của mình với các con trai của đương kim hoàng đế và sau đó kỹ sư kịp thời abdications một fujiwara luôn luôn là cha chồng chú hoặc ông nội phía sau ngai vàng\n",
            "fujiwaras không thể ở lại đầu tiên của đế chế khi một người đàn ông không liên quan đã kết hôn với con đường của mình lên đỉnh cao\n",
            "\n",
            "\n",
            "họ thường buộc chúng ta vào cubbies khắc vào hòn đá chỉ có một chút lớn hơn chúng ta\n",
            "họ thường ép chúng ta vào cubbies chỉ có một chút lớn hơn chúng ta\n",
            "\n",
            "\n",
            "và sau đó bạn cảm thấy thế nào sau khi bạn lên âm và bạn biết rằng người giám sát của bạn đã buộc tội bạn sử dụng ma túy\n",
            "vậy anh sẽ cảm thấy thế nào nếu anh có một bài kiểm tra ma túy tiêu cực mặc dù giám sát của anh đã buộc tội anh\n",
            "\n",
            "\n",
            "breathlessly êm nó chỉ được quản lý để có được sự nhiệt tình của riêng mình\n",
            "nó hầu như không thể chứa được sự nhiệt tình của nó\n",
            "\n",
            "\n",
            "điều đó sẽ rất tốt đẹp\n",
            "điều đó sẽ tốt đẹp nếu thế giới có thể có được sự hòa bình\n",
            "\n",
            "\n",
            "các tài khoản khác nhau với những gì đã xảy ra tiếp theo nhưng có vẻ như shearer đã bị lừa bởi những người serbia hoặc hai dấu vết của họ\n",
            "shearer không hề bị bọn serbia lừa dối\n",
            "\n",
            "\n",
            "tuy nhiên các tính năng cụ thể và sử dụng các tính năng khác nhau rất đáng kể giữa và đôi khi trong các cơ quan\n",
            "các tính năng cụ thể và các tính năng của nó có thể thay đổi đáng kể giữa và đôi khi trong các cơ quan tuy nhiên\n",
            "\n",
            "\n",
            "nói đi chúng ta sẽ đi ngay về khách sạn ritz\n",
            "hãy ở lại đây một thời gian nữa trước khi quay lại ritz\n",
            "\n",
            "\n",
            "anh ta phục vụ cho ủy ban trên các hoạt động chính phủ và ủy ban về giáo dục và lao động và là một trong những quản lý của pháp luật đã thành lập lsc\n",
            "ông ấy đã tham gia vào ủy ban hoạt động của chính phủ và giáo dục và lao động\n",
            "\n",
            "\n",
            "anh không biết anh ta đã phá vỡ sự đột ngột\n",
            "anh không biết gì hết bất cứ ai trong số các anh sau đó anh ta nghẹn ngào trở lại lời nói của anh ta\n",
            "\n",
            "\n",
            "chuông yêu chuông tháp lúc 99 m 324 m là cấu trúc cao nhất trong thành phố trong 10 thế kỷ của nó reims hải đăng thời tiết vane và pháo đài súng\n",
            "tháp chuông của quảng trường là cấu trúc cao nhất trong thành phố\n",
            "\n",
            "\n",
            "ở tây jerusalem khách sạn phòng giá thường bao gồm một thực tế israel ăn sáng ở đông jerusalem giá thường bao gồm ít nhất một continental sáng\n",
            "giá phòng không bao giờ bao gồm bữa ăn sáng tại các khách sạn đông jerusalem\n",
            "\n",
            "\n",
            "các tiêu chuẩn lịch sử của mỹ hoa kỳ kinh khủng của mỹ đã được hạ thấp hơn các quốc gia công nghiệp lớn khác trong 4 thập kỷ qua xem hình 2 3\n",
            "các công ty công nghiệp khác đã làm một công việc tốt hơn để tiết kiệm hơn hoa kỳ trong những thập kỷ gần đây\n",
            "\n",
            "\n",
            "từ chức của livingston cũng đã phản tác lại bằng cách chuyển đổi sự chú ý của công chúng từ khai man trở lại với tình dục\n",
            "đơn từ chức của livingston đã được mong đợi trong một thời gian dài sắp tới\n",
            "\n",
            "\n",
            "chúng tôi giữ thẻ tín dụng xăng và chúng tôi có visa và sau đó tôi đã bắt đầu công việc của riêng tôi tôi có một nhiếp ảnh kinh doanh và tôi đã đi trước và nhận được một visa riêng biệt chỉ cho các nhiếp ảnh công nghiệp vì có những điều mà tôi cần phải mua\n",
            "tôi có một thẻ visa riêng cho chi phí điện thoại của tôi\n",
            "\n",
            "\n",
            "bạn có biết nếu bạn mặc um pastels nó cần phải được ấm áp thời tiết\n",
            "anh nên mặc pastels trong thời tiết ấm áp\n",
            "\n",
            "\n",
            "và rau quả đúng là bạn biết rằng hai người chắc chắn sẽ ăn thật tốt với nhau\n",
            "tôi nghĩ là anh cũng không nên ăn cùng nhau bao giờ hết\n",
            "\n",
            "\n",
            "có lẽ là pitfall lớn nhất trong ứng dụng này không đủ đặc tả của câu hỏi của khách hàng\n",
            "pitfall lớn nhất trong ứng dụng này chắc chắn là thời gian tải của hơn 15 giây điều đó không thể chấp nhận được trong thời gian của chúng tôi\n",
            "\n",
            "\n",
            "một số khách hàng không có điện thoại và không có địa chỉ khác nhưng người ở nơi trú ẩn\n",
            "mọi người đều có điện thoại di động\n",
            "\n",
            "\n",
            "tất cả những ước tính như vậy là chủ đề cho một số giả định và màn\n",
            "không có ước tính nào là 100 chính xác\n",
            "\n",
            "\n",
            "chứng nhận có nghĩa là gì ickes đáp ứng với klayman khác hơn điên\n",
            "ickes chưa bao giờ thấy klayman trong cuộc sống của anh ấy\n",
            "\n",
            "\n",
            "năm 1988 cộng hòa george bush được hưởng lợi từ hiện tượng này\n",
            "george bush là một đảng dân chủ\n",
            "\n",
            "\n",
            "các tạp chí làm việc toán ở bang liên bang\n",
            "các ấn phẩm phân tích và báo cáo tình trạng của địa chỉ liên bang\n",
            "\n",
            "\n",
            "những người tham gia hoan nghênh sự ngăn chặn được đặt tại chỗ bởi hành động sarbanes oxley năm 2002 điều đó gửi tín hiệu cho những người chuẩn bị hoặc chứng thực cho các tuyên bố tài chính gian lận có thể vào tù\n",
            "attesting cho các tuyên bố tài chính gian lận có thể kết quả trong tù thời gian\n",
            "\n",
            "\n",
            "tôi muốn biết nhiều hơn\n",
            "tôi muốn biết nhiều hơn\n",
            "\n",
            "\n",
            "cứng rắn natalia nói là từ chối\n",
            "natalia nói rằng nó rất khó khăn\n",
            "\n",
            "\n",
            "không ai suy nghĩ nhiều miễn là ai đó đã trả hóa đơn sự thật các nhà kinh tế đã cảnh báo theo cách ảm đạm của họ những lợi ích đắt tiền sẽ được chuyển lại cho công nhân trong hình thức của lương thấp hơn nhưng ai nghe họ\n",
            "người ta không quan tâm nếu có người khác trả tiền\n",
            "\n",
            "\n",
            "bất chấp nỗi ám ảnh của hoàng đế với mối nguy hiểm đỏ mới 1848 mani cộng sản festo của marx và glowacka mà đã được lưu trữ ở paris anh ta không thể ngăn chặn những cải cách xã hội như những người công nhân có quyền lập nghiệp đoàn và thậm chí để tấn công\n",
            "hoàng đế đã bị rối loạn bởi những cải cách xã hội\n",
            "\n",
            "\n",
            "và đó cũng là một bộ phim đáng sợ quá\n",
            "bộ phim đã được thuần hóa và què\n",
            "\n",
            "\n",
            "một cuộc xâm lược mông cổ bị cản trở vào năm 1274 làm suy yếu chế độ kamakura\n",
            "cuộc xâm lược mông cổ của năm 1274 đã thành công và đánh bại chế độ kamakura\n",
            "\n",
            "\n"
          ]
        }
      ]
    },
    {
      "cell_type": "markdown",
      "source": [
        "There are some meaningless tokens such as à, ừ, ... -> need to remove them"
      ],
      "metadata": {
        "id": "HZLeaNx4HHEH"
      }
    },
    {
      "cell_type": "code",
      "source": [
        "dict_occurs=train['premise_seq_len'].value_counts().to_dict()\n",
        "x,y=list(dict_occurs.keys()),list(dict_occurs.values())\n",
        "seq_len_visualizer(x,y)"
      ],
      "metadata": {
        "colab": {
          "base_uri": "https://localhost:8080/",
          "height": 1000
        },
        "id": "Qny2BwuxqLFt",
        "outputId": "fe774ba8-d273-4f1d-8262-9224b480e985"
      },
      "execution_count": null,
      "outputs": [
        {
          "output_type": "display_data",
          "data": {
            "text/plain": [
              "<Figure size 1440x1440 with 1 Axes>"
            ],
            "image/png": "[encoded data removed]"
          },
          "metadata": {
            "needs_background": "light"
          }
        }
      ]
    },
    {
      "cell_type": "code",
      "source": [
        "dict_occurs=train['hypothesis_seq_len'].value_counts().to_dict()\n",
        "x,y=list(dict_occurs.keys()),list(dict_occurs.values())\n",
        "seq_len_visualizer(x,y)"
      ],
      "metadata": {
        "colab": {
          "base_uri": "https://localhost:8080/",
          "height": 1000
        },
        "id": "Ea74BV63swC5",
        "outputId": "ee0c6901-d066-4525-eac9-f6e78e89fdbe"
      },
      "execution_count": null,
      "outputs": [
        {
          "output_type": "display_data",
          "data": {
            "text/plain": [
              "<Figure size 1440x1440 with 1 Axes>"
            ],
            "image/png": "[encoded data removed]"
          },
          "metadata": {
            "needs_background": "light"
          }
        }
      ]
    },
    {
      "cell_type": "code",
      "source": [
        "train['total_seq_len']=train['premise_seq_len']+train['hypothesis_seq_len']"
      ],
      "metadata": {
        "id": "kNzkN-IYq3mf"
      },
      "execution_count": null,
      "outputs": []
    },
    {
      "cell_type": "code",
      "source": [
        "dict_occurs=train['total_seq_len'].value_counts().to_dict()\n",
        "x,y=list(dict_occurs.keys()),list(dict_occurs.values())\n",
        "seq_len_visualizer(x,y)"
      ],
      "metadata": {
        "colab": {
          "base_uri": "https://localhost:8080/",
          "height": 1000
        },
        "id": "EDveGVZYs7eW",
        "outputId": "52a25085-329f-4ac8-cdc5-f1b267db5e86"
      },
      "execution_count": null,
      "outputs": [
        {
          "output_type": "display_data",
          "data": {
            "text/plain": [
              "<Figure size 1440x1440 with 1 Axes>"
            ],
            "image/png": "[encoded data removed]"
          },
          "metadata": {
            "needs_background": "light"
          }
        }
      ]
    },
    {
      "cell_type": "markdown",
      "source": [
        "assign max length 256"
      ],
      "metadata": {
        "id": "RhAM6E1btGLm"
      }
    },
    {
      "cell_type": "code",
      "source": [
        "train.value_counts(['label'])"
      ],
      "metadata": {
        "colab": {
          "base_uri": "https://localhost:8080/"
        },
        "id": "pLTsAtAN-r--",
        "outputId": "1e388aa6-47d8-4ef7-906d-c3f636ac8420"
      },
      "execution_count": null,
      "outputs": [
        {
          "output_type": "execute_result",
          "data": {
            "text/plain": [
              "label\n",
              "2        130676\n",
              "0        130674\n",
              "1        130674\n",
              "dtype: int64"
            ]
          },
          "metadata": {},
          "execution_count": 45
        }
      ]
    },
    {
      "cell_type": "code",
      "source": [
        "valid.value_counts(['label'])"
      ],
      "metadata": {
        "colab": {
          "base_uri": "https://localhost:8080/"
        },
        "id": "ItICJZIq-wuY",
        "outputId": "b4964d49-b25f-42f9-a9e3-667c493656c0"
      },
      "execution_count": null,
      "outputs": [
        {
          "output_type": "execute_result",
          "data": {
            "text/plain": [
              "label\n",
              "0        830\n",
              "1        830\n",
              "2        830\n",
              "dtype: int64"
            ]
          },
          "metadata": {},
          "execution_count": 46
        }
      ]
    },
    {
      "cell_type": "code",
      "source": [
        "len(train)//5"
      ],
      "metadata": {
        "colab": {
          "base_uri": "https://localhost:8080/"
        },
        "id": "ZnbX-8A4JRH-",
        "outputId": "9d7f5133-595d-40a4-c6d1-09c15c4ce80d"
      },
      "execution_count": null,
      "outputs": [
        {
          "output_type": "execute_result",
          "data": {
            "text/plain": [
              "78404"
            ]
          },
          "metadata": {},
          "execution_count": 47
        }
      ]
    },
    {
      "cell_type": "code",
      "source": [
        "for i in range(5):\n",
        "  train_i=train.iloc[i*78540:(i+1)*78540]\n",
        "  train_i.to_csv(join(preprocessed_data,f'train_{i}.csv'),index=False)"
      ],
      "metadata": {
        "id": "WFozWxtlJPwN"
      },
      "execution_count": null,
      "outputs": []
    },
    {
      "cell_type": "code",
      "source": [
        "valid.to_csv(join(preprocessed_data,'valid.csv'),index=False)"
      ],
      "metadata": {
        "id": "m_GrYcmptCEf"
      },
      "execution_count": null,
      "outputs": []
    },
    {
      "cell_type": "markdown",
      "source": [
        "##Create inputs for bert models"
      ],
      "metadata": {
        "id": "Ik-silJxvM9b"
      }
    },
    {
      "cell_type": "code",
      "source": [
        "train_total=[pd.read_csv(join(preprocessed_data,f'train_{i}.csv')) for i in range(0,5)]"
      ],
      "metadata": {
        "id": "Hl3d0x7m7LLZ"
      },
      "execution_count": 6,
      "outputs": []
    },
    {
      "cell_type": "code",
      "source": [
        "train=pd.concat(train_total,axis=0)"
      ],
      "metadata": {
        "id": "mKkS61Ej7qts"
      },
      "execution_count": 7,
      "outputs": []
    },
    {
      "cell_type": "code",
      "source": [
        "# index=0"
      ],
      "metadata": {
        "id": "yNMeos-NKM_y"
      },
      "execution_count": 8,
      "outputs": []
    },
    {
      "cell_type": "code",
      "source": [
        "# train=pd.read_csv(join(preprocessed_data,f'train_{index}.csv'))"
      ],
      "metadata": {
        "id": "J3Y34NW5vFjC"
      },
      "execution_count": 9,
      "outputs": []
    },
    {
      "cell_type": "code",
      "source": [
        "valid=pd.read_csv(join(preprocessed_data,'valid.csv'))"
      ],
      "metadata": {
        "id": "Uoe-68IK73K6"
      },
      "execution_count": 10,
      "outputs": []
    },
    {
      "cell_type": "markdown",
      "source": [
        "![image.png](data:image/png;base64,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)"
      ],
      "metadata": {
        "id": "_jFIDTk4w9rs"
      }
    },
    {
      "cell_type": "code",
      "source": [
        "class ClassificationDataset(Dataset):\n",
        "    def __init__(self, input_ids, attention_mask,labels,device,token_type_ids=None):\n",
        "        self.labels = labels\n",
        "        self.input_ids=input_ids\n",
        "        self.attention_mask=attention_mask\n",
        "        self.token_type_ids=token_type_ids\n",
        "        self.device=device\n",
        "        \n",
        "    def __len__(self):\n",
        "            return len(self.labels)\n",
        "\n",
        "    def __getitem__(self, idx):\n",
        "        label = self.labels[idx]\n",
        "        input_ids = self.input_ids[idx]\n",
        "        attention_mask = self.attention_mask[idx]\n",
        "        sample = {\"inputs\":{\"input_ids\": input_ids.to(self.device),'attention_mask':attention_mask.to(self.device)}, \"labels\": label.to(self.device)}\n",
        "        if self.token_type_ids!=None:\n",
        "          sample['inputs'].update({'token_type_ids':self.token_type_ids[idx].to(self.device)})\n",
        "        return sample"
      ],
      "metadata": {
        "id": "FggCOyrqwfdr"
      },
      "execution_count": 11,
      "outputs": []
    },
    {
      "cell_type": "markdown",
      "source": [
        "Note: I found out if i had used default tokenizer, the system would have been crashed.\n",
        "\n",
        "exp: tokenizer(list_sentences_0 ,list_sentences_1,return_tensors='pt')"
      ],
      "metadata": {
        "id": "1Eqzs5soK3tx"
      }
    },
    {
      "cell_type": "markdown",
      "source": [
        "So I customized it and my strategy is choose head and tail of sentence if its length is over max_length.\n",
        "\n",
        "Ref: https://arxiv.org/pdf/1905.05583v3.pdf"
      ],
      "metadata": {
        "id": "zxZ73lpFLj_F"
      }
    },
    {
      "cell_type": "code",
      "source": [
        "def create_input(tokenizer,token_ids_0,token_ids_1=None,max_length=512):\n",
        "  num_tokens_0=len(token_ids_0)\n",
        "  num_tokens_1=len(token_ids_1)\n",
        "  \n",
        "  threshold_num_tokens_0=max_length-4-num_tokens_1\n",
        "  if threshold_num_tokens_0<0:\n",
        "    return None\n",
        "  trade_off=abs(threshold_num_tokens_0-num_tokens_0)\n",
        "  if num_tokens_0>threshold_num_tokens_0:\n",
        "    \n",
        "    head_token_ids_0=token_ids_0[:threshold_num_tokens_0]\n",
        "    tail_token_ids_0=token_ids_0[-threshold_num_tokens_0:]\n",
        "\n",
        "    head_input_ids=tokenizer.build_inputs_with_special_tokens(head_token_ids_0,token_ids_1)\n",
        "    head_attention_mask=[1]*len(head_input_ids)\n",
        "\n",
        "    tail_input_ids=tokenizer.build_inputs_with_special_tokens(tail_token_ids_0,token_ids_1)\n",
        "    tail_attention_mask=[1]*len(tail_input_ids)\n",
        "    \n",
        "    input_ids=[head_input_ids,tail_input_ids]\n",
        "\n",
        "    attention_mask=[head_attention_mask,tail_attention_mask]\n",
        "  else:\n",
        "    input_ids=tokenizer.build_inputs_with_special_tokens(token_ids_0,token_ids_1)\n",
        "    attention_mask=[1]*len(input_ids)\n",
        "    input_ids=input_ids+[1]*trade_off\n",
        "    attention_mask=attention_mask+[0]*trade_off\n",
        "    input_ids=[input_ids]\n",
        "    attention_mask=[attention_mask]\n",
        "  return input_ids,attention_mask"
      ],
      "metadata": {
        "id": "VwoULYb1Btqx"
      },
      "execution_count": 12,
      "outputs": []
    },
    {
      "cell_type": "code",
      "source": [
        "def create_inputs(tokenizer,list_sentences_0,list_sentences_1,list_labels,max_length=512):\n",
        "  \n",
        "  input_ids=[]\n",
        "  labels=[]\n",
        "  bar=tqdm(list_sentences_0)\n",
        "  attention_mask=[]\n",
        "  num_training_samples=len(list_sentences_0)\n",
        "  for i in range(num_training_samples):\n",
        "    token_ids_0=tokenizer.encode(list_sentences_0[i],add_special_tokens=False)\n",
        "    token_ids_1=tokenizer.encode(list_sentences_1[i],add_special_tokens=False)\n",
        "    _input_ids,_attention_mask=create_input(tokenizer,token_ids_0,token_ids_1,max_length)\n",
        "    \n",
        "    _labels=[list_labels[i]]*len(_input_ids)\n",
        "    labels+=_labels\n",
        "    input_ids+=_input_ids\n",
        "    attention_mask+=_attention_mask\n",
        "    bar.update()  \n",
        "  return {\n",
        "    'input_ids':torch.Tensor(input_ids).to(torch.long),\n",
        "    'attention_mask':torch.Tensor(attention_mask).to(torch.int),\n",
        "    'labels':torch.Tensor(labels).to(torch.long)\n",
        "}"
      ],
      "metadata": {
        "id": "qBZr7XhvB-HE"
      },
      "execution_count": 13,
      "outputs": []
    },
    {
      "cell_type": "code",
      "source": [
        "train_batch_size=32\n",
        "train_premises=train['clean_premise'].tolist()\n",
        "train_hypothesises=train['clean_hypothesis'].tolist()\n",
        "train_labels=train['label'].tolist()"
      ],
      "metadata": {
        "id": "Nc-grncdxU59"
      },
      "execution_count": 14,
      "outputs": []
    },
    {
      "cell_type": "code",
      "source": [
        "def create_dataloader(tokenizer,list_sentences_0,list_sentences_1,list_labels,max_length=512,batch_size=32,drop_last=False,shuffle=True,device='cpu'):\n",
        "  dataloader=create_inputs(tokenizer,list_sentences_0,list_sentences_1,list_labels,max_length)\n",
        "\n",
        "  dataloader=ClassificationDataset(**dataloader,device=device)\n",
        "  dataloader=DataLoader(dataloader,batch_size=batch_size,drop_last=drop_last,shuffle=shuffle)\n",
        "  return dataloader"
      ],
      "metadata": {
        "id": "Oe43pLe9Cjzl"
      },
      "execution_count": 15,
      "outputs": []
    },
    {
      "cell_type": "code",
      "source": [
        "train_dataloader=create_dataloader(tokenizer,train_premises,train_hypothesises,train_labels,max_length,train_batch_size,device=device)"
      ],
      "metadata": {
        "colab": {
          "base_uri": "https://localhost:8080/",
          "height": 49,
          "referenced_widgets": [
            "f7edc34a1cfb49048cfac11b23992656",
            "9f05a8f82fd94fd68ed00efadcf86e6c",
            "8febd9bb064343b999791720dcbe8ded",
            "ed6a520b4d724673ad76d1f3e4967ec7",
            "ed9474574c354b8dae7ca59d536d0ac5",
            "95896128349344ff999dc5ea6e5853f3",
            "5ef9f05582ab4d2b8d6fce7bf7ebc61c",
            "cce39bce2d324fdb91c9f4e3e185e611",
            "f88487e86b5540feae5dc022d55f83e7",
            "a8eaa03ee8784f4084ff3dc6ab09c0c2",
            "1c1bdee1bfd34bf6b39e4d6fc41a7e13"
          ]
        },
        "id": "Ng0lJrBTDFyS",
        "outputId": "017947e3-f9f0-4010-f8b8-3e31527b327c"
      },
      "execution_count": 16,
      "outputs": [
        {
          "output_type": "display_data",
          "data": {
            "text/plain": [
              "  0%|          | 0/392024 [00:00<?, ?it/s]"
            ],
            "application/vnd.jupyter.widget-view+json": {
              "version_major": 2,
              "version_minor": 0,
              "model_id": "f7edc34a1cfb49048cfac11b23992656"
            }
          },
          "metadata": {}
        }
      ]
    },
    {
      "cell_type": "code",
      "source": [
        "valid_batch_size=32\n",
        "valid_premises=valid['clean_premise'].tolist()\n",
        "valid_hypothesises=valid['clean_hypothesis'].tolist()\n",
        "valid_labels=valid['label'].tolist()"
      ],
      "metadata": {
        "id": "oXIW2YRZxJrr"
      },
      "execution_count": 17,
      "outputs": []
    },
    {
      "cell_type": "code",
      "source": [
        "valid_dataloader=create_dataloader(tokenizer,valid_premises,valid_hypothesises,valid_labels,max_length,valid_batch_size,device=device)"
      ],
      "metadata": {
        "id": "ahc4HjlmDmxb",
        "colab": {
          "base_uri": "https://localhost:8080/",
          "height": 49,
          "referenced_widgets": [
            "de54f49bf1c141d5ad4151d3c86ca3ba",
            "a9c5239aa29740cbb805b17c5e671bcd",
            "ce3e149556544615a7f6b5816c2838f5",
            "fb2b1edb3da64eb7aa05e90c74d99168",
            "19d3b8327b7848e58ec5edcf926b67b7",
            "281a94198cd147e2bc144ab5a2d32a4b",
            "6d38afd0cbc54d5ca2fad046484146a6",
            "647398e56fb341e0bcbe4ad132ef0cea",
            "3097d5b57fc4439390bc2064cdc164ad",
            "08ce83b894da444686b128df1e7af855",
            "5925f74890b14975b7e9a0ab26a18776"
          ]
        },
        "outputId": "a0d79aed-7e49-4f40-e07b-e23a9992b4ea"
      },
      "execution_count": 18,
      "outputs": [
        {
          "output_type": "display_data",
          "data": {
            "text/plain": [
              "  0%|          | 0/2490 [00:00<?, ?it/s]"
            ],
            "application/vnd.jupyter.widget-view+json": {
              "version_major": 2,
              "version_minor": 0,
              "model_id": "de54f49bf1c141d5ad4151d3c86ca3ba"
            }
          },
          "metadata": {}
        }
      ]
    },
    {
      "cell_type": "code",
      "source": [
        "labels=[0,1,2]\n",
        "labels"
      ],
      "metadata": {
        "colab": {
          "base_uri": "https://localhost:8080/"
        },
        "id": "if9E1BM2xeLV",
        "outputId": "fa6c1bd8-856f-472e-b245-5186026b1083"
      },
      "execution_count": 19,
      "outputs": [
        {
          "output_type": "execute_result",
          "data": {
            "text/plain": [
              "[0, 1, 2]"
            ]
          },
          "metadata": {},
          "execution_count": 19
        }
      ]
    },
    {
      "cell_type": "markdown",
      "source": [
        "#Trainer"
      ],
      "metadata": {
        "id": "s-yuJjDp-mg3"
      }
    },
    {
      "cell_type": "code",
      "source": [
        "epochs=30\n",
        "num_training_steps=epochs *len(train_dataloader)\n",
        "num_warmup_steps=500\n",
        "init_lr=1e-5\n",
        "eps =1e-8"
      ],
      "metadata": {
        "id": "leRkGWb6-btA"
      },
      "execution_count": 20,
      "outputs": []
    },
    {
      "cell_type": "code",
      "source": [
        "len(train_dataloader),num_training_steps,num_warmup_steps"
      ],
      "metadata": {
        "colab": {
          "base_uri": "https://localhost:8080/"
        },
        "id": "ATpFVHVk-pOu",
        "outputId": "575f76a8-18f8-4aab-cd09-7d8dc469a2f5"
      },
      "execution_count": 21,
      "outputs": [
        {
          "output_type": "execute_result",
          "data": {
            "text/plain": [
              "(12255, 367650, 500)"
            ]
          },
          "metadata": {},
          "execution_count": 21
        }
      ]
    },
    {
      "cell_type": "code",
      "source": [
        "num_labels=len(labels)\n",
        "num_labels"
      ],
      "metadata": {
        "colab": {
          "base_uri": "https://localhost:8080/"
        },
        "id": "gqW4c1Hk-3qS",
        "outputId": "0343f16f-d091-4b96-b31b-fef8dd7ce189"
      },
      "execution_count": 22,
      "outputs": [
        {
          "output_type": "execute_result",
          "data": {
            "text/plain": [
              "3"
            ]
          },
          "metadata": {},
          "execution_count": 22
        }
      ]
    },
    {
      "cell_type": "code",
      "source": [
        "classifier_dropout=0.1"
      ],
      "metadata": {
        "id": "MEksEcLZ-4rx"
      },
      "execution_count": 23,
      "outputs": []
    },
    {
      "cell_type": "code",
      "source": [
        "config=AutoConfig.from_pretrained(name)\n",
        "config.classifier_dropout=classifier_dropout\n",
        "config.num_labels=num_labels\n",
        "# config.max_position_embeddings=max_length\n",
        "config"
      ],
      "metadata": {
        "colab": {
          "base_uri": "https://localhost:8080/"
        },
        "id": "uTtcaKcD-6Nr",
        "outputId": "0ec9e804-103a-47e2-e160-b960dc9d1682"
      },
      "execution_count": 24,
      "outputs": [
        {
          "output_type": "execute_result",
          "data": {
            "text/plain": [
              "XLMRobertaConfig {\n",
              "  \"_name_or_path\": \"xlm-roberta-base\",\n",
              "  \"architectures\": [\n",
              "    \"XLMRobertaForMaskedLM\"\n",
              "  ],\n",
              "  \"attention_probs_dropout_prob\": 0.1,\n",
              "  \"bos_token_id\": 0,\n",
              "  \"classifier_dropout\": 0.1,\n",
              "  \"eos_token_id\": 2,\n",
              "  \"hidden_act\": \"gelu\",\n",
              "  \"hidden_dropout_prob\": 0.1,\n",
              "  \"hidden_size\": 768,\n",
              "  \"id2label\": {\n",
              "    \"0\": \"LABEL_0\",\n",
              "    \"1\": \"LABEL_1\",\n",
              "    \"2\": \"LABEL_2\"\n",
              "  },\n",
              "  \"initializer_range\": 0.02,\n",
              "  \"intermediate_size\": 3072,\n",
              "  \"label2id\": {\n",
              "    \"LABEL_0\": 0,\n",
              "    \"LABEL_1\": 1,\n",
              "    \"LABEL_2\": 2\n",
              "  },\n",
              "  \"layer_norm_eps\": 1e-05,\n",
              "  \"max_position_embeddings\": 514,\n",
              "  \"model_type\": \"xlm-roberta\",\n",
              "  \"num_attention_heads\": 12,\n",
              "  \"num_hidden_layers\": 12,\n",
              "  \"output_past\": true,\n",
              "  \"pad_token_id\": 1,\n",
              "  \"position_embedding_type\": \"absolute\",\n",
              "  \"transformers_version\": \"4.19.2\",\n",
              "  \"type_vocab_size\": 1,\n",
              "  \"use_cache\": true,\n",
              "  \"vocab_size\": 250002\n",
              "}"
            ]
          },
          "metadata": {},
          "execution_count": 24
        }
      ]
    },
    {
      "cell_type": "code",
      "source": [
        "model_index=join(model_name,f'model_total')\n",
        "model_index"
      ],
      "metadata": {
        "colab": {
          "base_uri": "https://localhost:8080/",
          "height": 37
        },
        "id": "-BcKeN97KeNR",
        "outputId": "a59b2b1e-71b0-4543-f1af-621b4387dd8f"
      },
      "execution_count": 25,
      "outputs": [
        {
          "output_type": "execute_result",
          "data": {
            "text/plain": [
              "'/content/drive/MyDrive/vi-nli/models/xlm-roberta-base-256/model_total'"
            ],
            "application/vnd.google.colaboratory.intrinsic+json": {
              "type": "string"
            }
          },
          "metadata": {},
          "execution_count": 25
        }
      ]
    },
    {
      "cell_type": "code",
      "source": [
        "config.save_pretrained(model_name)"
      ],
      "metadata": {
        "id": "xQ0_0pPQ-8uw"
      },
      "execution_count": 26,
      "outputs": []
    },
    {
      "cell_type": "code",
      "source": [
        "model=AutoModelForSequenceClassification.from_pretrained(name,config=config).to(device)"
      ],
      "metadata": {
        "colab": {
          "base_uri": "https://localhost:8080/",
          "height": 122
        },
        "id": "PizAw9RL_UVp",
        "outputId": "723cee3d-aa0f-4c0d-f7be-b92b0d622810"
      },
      "execution_count": 27,
      "outputs": [
        {
          "output_type": "stream",
          "name": "stderr",
          "text": [
            "Some weights of the model checkpoint at xlm-roberta-base were not used when initializing XLMRobertaForSequenceClassification: ['lm_head.layer_norm.weight', 'roberta.pooler.dense.bias', 'lm_head.decoder.weight', 'lm_head.dense.bias', 'lm_head.layer_norm.bias', 'lm_head.bias', 'roberta.pooler.dense.weight', 'lm_head.dense.weight']\n",
            "- This IS expected if you are initializing XLMRobertaForSequenceClassification from the checkpoint of a model trained on another task or with another architecture (e.g. initializing a BertForSequenceClassification model from a BertForPreTraining model).\n",
            "- This IS NOT expected if you are initializing XLMRobertaForSequenceClassification from the checkpoint of a model that you expect to be exactly identical (initializing a BertForSequenceClassification model from a BertForSequenceClassification model).\n",
            "Some weights of XLMRobertaForSequenceClassification were not initialized from the model checkpoint at xlm-roberta-base and are newly initialized: ['classifier.out_proj.bias', 'classifier.dense.bias', 'classifier.dense.weight', 'classifier.out_proj.weight']\n",
            "You should probably TRAIN this model on a down-stream task to be able to use it for predictions and inference.\n"
          ]
        }
      ]
    },
    {
      "cell_type": "code",
      "source": [
        "optimizer=torch.optim.AdamW(model.parameters(),lr=init_lr,weight_decay =0.01,eps=eps)"
      ],
      "metadata": {
        "id": "bFnh4aNP_ZM9"
      },
      "execution_count": 28,
      "outputs": []
    },
    {
      "cell_type": "code",
      "source": [
        "#load pretrain from previous model\n",
        "\n",
        "# checkpoint = torch.load(f'/content/drive/MyDrive/vi-nli/models/xlm-roberta-base-256/model_{str(index-1)}/ckpt0.pt',map_location=device)"
      ],
      "metadata": {
        "id": "5nDG_0f0Iupz"
      },
      "execution_count": 29,
      "outputs": []
    },
    {
      "cell_type": "code",
      "source": [
        "# min_loss=checkpoint['valid_loss']\n",
        "# min_loss"
      ],
      "metadata": {
        "id": "6f1ZrfbnZ01M"
      },
      "execution_count": 30,
      "outputs": []
    },
    {
      "cell_type": "code",
      "source": [
        "# model.load_state_dict(checkpoint['model_state_dict'])"
      ],
      "metadata": {
        "id": "T8pnZVnAJAAk"
      },
      "execution_count": 31,
      "outputs": []
    },
    {
      "cell_type": "code",
      "source": [
        "# optimizer.load_state_dict(checkpoint['optimizer_state_dict'])"
      ],
      "metadata": {
        "id": "PgPl-aPXZoHN"
      },
      "execution_count": 32,
      "outputs": []
    },
    {
      "cell_type": "code",
      "source": [
        "# del checkpoint"
      ],
      "metadata": {
        "id": "G-UeMsXxKIy8"
      },
      "execution_count": 33,
      "outputs": []
    },
    {
      "cell_type": "code",
      "source": [
        "lr_scheduler=get_linear_schedule_with_warmup(optimizer,num_warmup_steps=num_warmup_steps,num_training_steps=num_training_steps,)"
      ],
      "metadata": {
        "id": "SOUG-n94_bFT"
      },
      "execution_count": 34,
      "outputs": []
    },
    {
      "cell_type": "code",
      "source": [
        "def save_model(epoch,model,optimizer,training_loss,valid_loss,path,step=None):\n",
        "  torch.save({\n",
        "          'epoch': epoch,\n",
        "          'model_state_dict': model.state_dict(),\n",
        "          'optimizer_state_dict': optimizer.state_dict(),\n",
        "          'training_loss': training_loss,\n",
        "          'valid_loss': valid_loss,\n",
        "          'step':step\n",
        "          }, join(path,f'ckpt{epoch}.pt'))"
      ],
      "metadata": {
        "id": "SraPBCPR_cTH"
      },
      "execution_count": 35,
      "outputs": []
    },
    {
      "cell_type": "code",
      "source": [
        "def run_train(optimizer,dataloader,lr_scheduler):\n",
        "  model.train(True)\n",
        "  loop = tqdm(dataloader)\n",
        "  # loss=0\n",
        "  loss=[]\n",
        "  for batch in dataloader:\n",
        "    # model.zero_grad(set_to_none=True)\n",
        "    optimizer.zero_grad()\n",
        "    inputs=batch['inputs']\n",
        "    inputs.update({\"labels\":batch['labels']})\n",
        "    outputs=model(**inputs)\n",
        "    # _loss = loss_fn(logits.view(-1, num_labels), batch['labels'].view(-1))\n",
        "    outputs.loss.backward()\n",
        "\n",
        "    # loss+=outputs.loss.item()\n",
        "    loss.append(outputs.loss.item())\n",
        "    optimizer.step()\n",
        "    lr_scheduler.step()\n",
        "    loop.set_postfix({f'train_loss_per_batch':outputs.loss.item()})\n",
        "    loop.update()      \n",
        "    \n",
        "  # return loss/len(dataloader)\n",
        "  return loss"
      ],
      "metadata": {
        "id": "crchDYLY_dIU"
      },
      "execution_count": 36,
      "outputs": []
    },
    {
      "cell_type": "code",
      "source": [
        "def run_valid(dataloader):\n",
        "  model.eval()\n",
        "  # loss=0\n",
        "  loss=[]\n",
        "  with torch.no_grad():\n",
        "    for batch in dataloader:\n",
        "      inputs=batch['inputs']\n",
        "      inputs.update({\"labels\":batch['labels']})\n",
        "      outputs=model(**inputs)\n",
        "\n",
        "      # _loss = loss_fn(logits.view(-1, num_labels), batch['labels'].view(-1))\n",
        "\n",
        "      # loss+=outputs.loss.item()\n",
        "      loss.append(outputs.loss.item())\n",
        "\n",
        "  # return loss/len(dataloader)\n",
        "  return loss"
      ],
      "metadata": {
        "id": "eDA4EiY1_e24"
      },
      "execution_count": 37,
      "outputs": []
    },
    {
      "cell_type": "code",
      "source": [
        "import torch\n",
        "torch.cuda.empty_cache()"
      ],
      "metadata": {
        "id": "ocXPhEqfQnls"
      },
      "execution_count": 38,
      "outputs": []
    },
    {
      "cell_type": "code",
      "source": [
        "import gc\n",
        "gc.collect()"
      ],
      "metadata": {
        "colab": {
          "base_uri": "https://localhost:8080/",
          "height": 34
        },
        "id": "s-THQDi7QptY",
        "outputId": "cd37953b-34f1-4576-9f63-814ff66e7754"
      },
      "execution_count": 39,
      "outputs": [
        {
          "output_type": "execute_result",
          "data": {
            "text/plain": [
              "241"
            ]
          },
          "metadata": {},
          "execution_count": 39
        }
      ]
    },
    {
      "cell_type": "code",
      "source": [
        "del train\n",
        "del valid"
      ],
      "metadata": {
        "id": "VeRwoqDmSDvQ"
      },
      "execution_count": 40,
      "outputs": []
    },
    {
      "cell_type": "markdown",
      "source": [
        "![Screen Shot 2022-05-25 at 11.12.19.png](data:image/png;base64,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)"
      ],
      "metadata": {
        "id": "XC_pm11man-U"
      }
    },
    {
      "cell_type": "code",
      "source": [
        "train_loss_per_step=[]\n",
        "valid_loss_per_step=[]\n",
        "min_loss=np.inf\n",
        "count_stopping=0\n",
        "for epoch in range(epochs):\n",
        "\n",
        "  train_loss=run_train(optimizer,train_dataloader,lr_scheduler)\n",
        "  train_loss=sum(train_loss)/len(train_dataloader)\n",
        "  \n",
        "  valid_loss=run_valid(valid_dataloader)\n",
        "  valid_loss=sum(valid_loss)/len(valid_dataloader)\n",
        "\n",
        "  train_loss_per_step.append(train_loss)\n",
        "  valid_loss_per_step.append(valid_loss)\n",
        "  \n",
        "  print(f'epoch: {epoch} train_loss: {train_loss} valid_loss: {valid_loss}')\n",
        "  if valid_loss<min_loss:\n",
        "    min_loss=valid_loss\n",
        "    save_model(epoch,model,optimizer,train_loss,valid_loss,model_index)\n",
        "    count_stopping=0\n",
        "  else:\n",
        "    count_stopping+=1\n",
        "  \n",
        "  if count_stopping>5:\n",
        "    break\n"
      ],
      "metadata": {
        "id": "mkYdCXt2_f04",
        "colab": {
          "base_uri": "https://localhost:8080/",
          "height": 49,
          "referenced_widgets": [
            "e398718ca20843f3a05dbfd2eb74d33e",
            "fc003750e15f4ce79ae9a3e3d38ef66c",
            "33a268caff6b4e01bd421352fcbf36ce",
            "1c7fa93f2f28438fb6433acf86371139",
            "33bb2fd0c20849a3b64fbb876c0db90c",
            "ffe9f488bb3d4edbb08a5bf2e1893253",
            "4f986943baa04cfeb8b730900cf66755",
            "8923338e07b541a09a83e0e1a5bc0257",
            "657b101bfa9e496c9d8dcfaecc9b95f0",
            "0f9708194bc64816ae1e5bddc3e3561c",
            "ee323e3415f54b97aa291dcbaea70c51"
          ]
        },
        "outputId": "c33527c4-d9ee-4d3d-9634-7d505b257f38"
      },
      "execution_count": null,
      "outputs": [
        {
          "output_type": "display_data",
          "data": {
            "text/plain": [
              "  0%|          | 0/12255 [00:00<?, ?it/s]"
            ],
            "application/vnd.jupyter.widget-view+json": {
              "version_major": 2,
              "version_minor": 0,
              "model_id": "e398718ca20843f3a05dbfd2eb74d33e"
            }
          },
          "metadata": {}
        }
      ]
    },
    {
      "cell_type": "markdown",
      "source": [
        "#Inference"
      ],
      "metadata": {
        "id": "i3JhrbOREdVB"
      }
    },
    {
      "cell_type": "code",
      "source": [
        "import pandas as pd\n",
        "test=pd.read_csv('/content/drive/MyDrive/vi-nli/raw_dataset/test.csv')\n",
        "test  "
      ],
      "metadata": {
        "id": "SQWahKu4_y9g",
        "colab": {
          "base_uri": "https://localhost:8080/",
          "height": 424
        },
        "outputId": "4f43a93b-feea-4adb-8c67-d783e67fb13b"
      },
      "execution_count": null,
      "outputs": [
        {
          "output_type": "execute_result",
          "data": {
            "text/plain": [
              "                                                premise  \\\n",
              "0     Vâng, tôi thậm chí không nghĩ về điều đó, nhưn...   \n",
              "1     Vâng, tôi thậm chí không nghĩ về điều đó, nhưn...   \n",
              "2     Vâng, tôi thậm chí không nghĩ về điều đó, nhưn...   \n",
              "3     Và tôi nghĩ đó là một đặc ân, và nó vẫn còn, n...   \n",
              "4     Và tôi nghĩ đó là một đặc ân, và nó vẫn còn, n...   \n",
              "...                                                 ...   \n",
              "5005  Davidson không nên áp dụng cách phát âm chữ sc...   \n",
              "5006  Davidson không nên áp dụng cách phát âm chữ sc...   \n",
              "5007  Tiểu thuyết trung bình có 200.000 từ giá khoản...   \n",
              "5008  Tiểu thuyết trung bình có 200.000 từ giá khoản...   \n",
              "5009  Tiểu thuyết trung bình có 200.000 từ giá khoản...   \n",
              "\n",
              "                                             hypothesis  label  \n",
              "0               Tôi đã không nói chuyện với anh ta nữa.      2  \n",
              "1     Tôi buồn tới mức tôi lại bắt đầu nói chuyện lạ...      0  \n",
              "2               Chúng tôi có buổi nói chuyện tuyệt vời.      1  \n",
              "3     Tôi không nhận ra rằng tôi không phải là người...      1  \n",
              "4     Tôi có ấn tượng là tôi là người duy nhất có số...      0  \n",
              "...                                                 ...    ...  \n",
              "5005  Davidson không nên nói theo cách mà xương và â...      0  \n",
              "5006       Sẽ tốt hơn nếu Davidson vần các từ và xương.      2  \n",
              "5007  Một cuốn tiểu thuyết 200.000 từ với giá 25 đô ...      1  \n",
              "5008  Một cuốn tiểu thuyết 200.000 từ với giá 25 USD...      2  \n",
              "5009  Một cuốn tiểu thuyết 200.000 từ với giá 25 đôl...      0  \n",
              "\n",
              "[5010 rows x 3 columns]"
            ],
            "text/html": [
              "\n",
              "  <div id=\"df-b0330bc7-d626-433e-bc4d-a8ef38c81be8\">\n",
              "    <div class=\"colab-df-container\">\n",
              "      <div>\n",
              "<style scoped>\n",
              "    .dataframe tbody tr th:only-of-type {\n",
              "        vertical-align: middle;\n",
              "    }\n",
              "\n",
              "    .dataframe tbody tr th {\n",
              "        vertical-align: top;\n",
              "    }\n",
              "\n",
              "    .dataframe thead th {\n",
              "        text-align: right;\n",
              "    }\n",
              "</style>\n",
              "<table border=\"1\" class=\"dataframe\">\n",
              "  <thead>\n",
              "    <tr style=\"text-align: right;\">\n",
              "      <th></th>\n",
              "      <th>premise</th>\n",
              "      <th>hypothesis</th>\n",
              "      <th>label</th>\n",
              "    </tr>\n",
              "  </thead>\n",
              "  <tbody>\n",
              "    <tr>\n",
              "      <th>0</th>\n",
              "      <td>Vâng, tôi thậm chí không nghĩ về điều đó, nhưn...</td>\n",
              "      <td>Tôi đã không nói chuyện với anh ta nữa.</td>\n",
              "      <td>2</td>\n",
              "    </tr>\n",
              "    <tr>\n",
              "      <th>1</th>\n",
              "      <td>Vâng, tôi thậm chí không nghĩ về điều đó, nhưn...</td>\n",
              "      <td>Tôi buồn tới mức tôi lại bắt đầu nói chuyện lạ...</td>\n",
              "      <td>0</td>\n",
              "    </tr>\n",
              "    <tr>\n",
              "      <th>2</th>\n",
              "      <td>Vâng, tôi thậm chí không nghĩ về điều đó, nhưn...</td>\n",
              "      <td>Chúng tôi có buổi nói chuyện tuyệt vời.</td>\n",
              "      <td>1</td>\n",
              "    </tr>\n",
              "    <tr>\n",
              "      <th>3</th>\n",
              "      <td>Và tôi nghĩ đó là một đặc ân, và nó vẫn còn, n...</td>\n",
              "      <td>Tôi không nhận ra rằng tôi không phải là người...</td>\n",
              "      <td>1</td>\n",
              "    </tr>\n",
              "    <tr>\n",
              "      <th>4</th>\n",
              "      <td>Và tôi nghĩ đó là một đặc ân, và nó vẫn còn, n...</td>\n",
              "      <td>Tôi có ấn tượng là tôi là người duy nhất có số...</td>\n",
              "      <td>0</td>\n",
              "    </tr>\n",
              "    <tr>\n",
              "      <th>...</th>\n",
              "      <td>...</td>\n",
              "      <td>...</td>\n",
              "      <td>...</td>\n",
              "    </tr>\n",
              "    <tr>\n",
              "      <th>5005</th>\n",
              "      <td>Davidson không nên áp dụng cách phát âm chữ sc...</td>\n",
              "      <td>Davidson không nên nói theo cách mà xương và â...</td>\n",
              "      <td>0</td>\n",
              "    </tr>\n",
              "    <tr>\n",
              "      <th>5006</th>\n",
              "      <td>Davidson không nên áp dụng cách phát âm chữ sc...</td>\n",
              "      <td>Sẽ tốt hơn nếu Davidson vần các từ và xương.</td>\n",
              "      <td>2</td>\n",
              "    </tr>\n",
              "    <tr>\n",
              "      <th>5007</th>\n",
              "      <td>Tiểu thuyết trung bình có 200.000 từ giá khoản...</td>\n",
              "      <td>Một cuốn tiểu thuyết 200.000 từ với giá 25 đô ...</td>\n",
              "      <td>1</td>\n",
              "    </tr>\n",
              "    <tr>\n",
              "      <th>5008</th>\n",
              "      <td>Tiểu thuyết trung bình có 200.000 từ giá khoản...</td>\n",
              "      <td>Một cuốn tiểu thuyết 200.000 từ với giá 25 USD...</td>\n",
              "      <td>2</td>\n",
              "    </tr>\n",
              "    <tr>\n",
              "      <th>5009</th>\n",
              "      <td>Tiểu thuyết trung bình có 200.000 từ giá khoản...</td>\n",
              "      <td>Một cuốn tiểu thuyết 200.000 từ với giá 25 đôl...</td>\n",
              "      <td>0</td>\n",
              "    </tr>\n",
              "  </tbody>\n",
              "</table>\n",
              "<p>5010 rows × 3 columns</p>\n",
              "</div>\n",
              "      <button class=\"colab-df-convert\" onclick=\"convertToInteractive('df-b0330bc7-d626-433e-bc4d-a8ef38c81be8')\"\n",
              "              title=\"Convert this dataframe to an interactive table.\"\n",
              "              style=\"display:none;\">\n",
              "        \n",
              "  <svg xmlns=\"http://www.w3.org/2000/svg\" height=\"24px\"viewBox=\"0 0 24 24\"\n",
              "       width=\"24px\">\n",
              "    <path d=\"M0 0h24v24H0V0z\" fill=\"none\"/>\n",
              "    <path d=\"M18.56 5.44l.94 2.06.94-2.06 2.06-.94-2.06-.94-.94-2.06-.94 2.06-2.06.94zm-11 1L8.5 8.5l.94-2.06 2.06-.94-2.06-.94L8.5 2.5l-.94 2.06-2.06.94zm10 10l.94 2.06.94-2.06 2.06-.94-2.06-.94-.94-2.06-.94 2.06-2.06.94z\"/><path d=\"M17.41 7.96l-1.37-1.37c-.4-.4-.92-.59-1.43-.59-.52 0-1.04.2-1.43.59L10.3 9.45l-7.72 7.72c-.78.78-.78 2.05 0 2.83L4 21.41c.39.39.9.59 1.41.59.51 0 1.02-.2 1.41-.59l7.78-7.78 2.81-2.81c.8-.78.8-2.07 0-2.86zM5.41 20L4 18.59l7.72-7.72 1.47 1.35L5.41 20z\"/>\n",
              "  </svg>\n",
              "      </button>\n",
              "      \n",
              "  <style>\n",
              "    .colab-df-container {\n",
              "      display:flex;\n",
              "      flex-wrap:wrap;\n",
              "      gap: 12px;\n",
              "    }\n",
              "\n",
              "    .colab-df-convert {\n",
              "      background-color: #E8F0FE;\n",
              "      border: none;\n",
              "      border-radius: 50%;\n",
              "      cursor: pointer;\n",
              "      display: none;\n",
              "      fill: #1967D2;\n",
              "      height: 32px;\n",
              "      padding: 0 0 0 0;\n",
              "      width: 32px;\n",
              "    }\n",
              "\n",
              "    .colab-df-convert:hover {\n",
              "      background-color: #E2EBFA;\n",
              "      box-shadow: 0px 1px 2px rgba(60, 64, 67, 0.3), 0px 1px 3px 1px rgba(60, 64, 67, 0.15);\n",
              "      fill: #174EA6;\n",
              "    }\n",
              "\n",
              "    [theme=dark] .colab-df-convert {\n",
              "      background-color: #3B4455;\n",
              "      fill: #D2E3FC;\n",
              "    }\n",
              "\n",
              "    [theme=dark] .colab-df-convert:hover {\n",
              "      background-color: #434B5C;\n",
              "      box-shadow: 0px 1px 3px 1px rgba(0, 0, 0, 0.15);\n",
              "      filter: drop-shadow(0px 1px 2px rgba(0, 0, 0, 0.3));\n",
              "      fill: #FFFFFF;\n",
              "    }\n",
              "  </style>\n",
              "\n",
              "      <script>\n",
              "        const buttonEl =\n",
              "          document.querySelector('#df-b0330bc7-d626-433e-bc4d-a8ef38c81be8 button.colab-df-convert');\n",
              "        buttonEl.style.display =\n",
              "          google.colab.kernel.accessAllowed ? 'block' : 'none';\n",
              "\n",
              "        async function convertToInteractive(key) {\n",
              "          const element = document.querySelector('#df-b0330bc7-d626-433e-bc4d-a8ef38c81be8');\n",
              "          const dataTable =\n",
              "            await google.colab.kernel.invokeFunction('convertToInteractive',\n",
              "                                                     [key], {});\n",
              "          if (!dataTable) return;\n",
              "\n",
              "          const docLinkHtml = 'Like what you see? Visit the ' +\n",
              "            '<a target=\"_blank\" href=https://colab.research.google.com/notebooks/data_table.ipynb>data table notebook</a>'\n",
              "            + ' to learn more about interactive tables.';\n",
              "          element.innerHTML = '';\n",
              "          dataTable['output_type'] = 'display_data';\n",
              "          await google.colab.output.renderOutput(dataTable, element);\n",
              "          const docLink = document.createElement('div');\n",
              "          docLink.innerHTML = docLinkHtml;\n",
              "          element.appendChild(docLink);\n",
              "        }\n",
              "      </script>\n",
              "    </div>\n",
              "  </div>\n",
              "  "
            ]
          },
          "metadata": {},
          "execution_count": 37
        }
      ]
    },
    {
      "cell_type": "code",
      "source": [
        "config = AutoConfig.from_pretrained(f'{model_name}/config.json')\n",
        "config._name_or_path=name"
      ],
      "metadata": {
        "id": "8IQuNMIbEi0J"
      },
      "execution_count": null,
      "outputs": []
    },
    {
      "cell_type": "code",
      "source": [
        "model=AutoModelForSequenceClassification.from_pretrained(name,config=config).to(device)"
      ],
      "metadata": {
        "colab": {
          "base_uri": "https://localhost:8080/"
        },
        "id": "5but9y8UE0W0",
        "outputId": "82d0230d-6b99-4eb3-946f-020feed134b4"
      },
      "execution_count": null,
      "outputs": [
        {
          "output_type": "stream",
          "name": "stderr",
          "text": [
            "Some weights of the model checkpoint at xlm-roberta-base were not used when initializing XLMRobertaForSequenceClassification: ['lm_head.dense.weight', 'lm_head.bias', 'roberta.pooler.dense.weight', 'lm_head.layer_norm.bias', 'roberta.pooler.dense.bias', 'lm_head.decoder.weight', 'lm_head.layer_norm.weight', 'lm_head.dense.bias']\n",
            "- This IS expected if you are initializing XLMRobertaForSequenceClassification from the checkpoint of a model trained on another task or with another architecture (e.g. initializing a BertForSequenceClassification model from a BertForPreTraining model).\n",
            "- This IS NOT expected if you are initializing XLMRobertaForSequenceClassification from the checkpoint of a model that you expect to be exactly identical (initializing a BertForSequenceClassification model from a BertForSequenceClassification model).\n",
            "Some weights of XLMRobertaForSequenceClassification were not initialized from the model checkpoint at xlm-roberta-base and are newly initialized: ['classifier.dense.weight', 'classifier.out_proj.weight', 'classifier.dense.bias', 'classifier.out_proj.bias']\n",
            "You should probably TRAIN this model on a down-stream task to be able to use it for predictions and inference.\n"
          ]
        }
      ]
    },
    {
      "cell_type": "code",
      "source": [
        "checkpoint = torch.load(\"/content/drive/MyDrive/vi-nli/models/xlm-roberta-base-256/ckpt2.pt\",map_location=device)"
      ],
      "metadata": {
        "id": "HgIRAvxbE3I9"
      },
      "execution_count": null,
      "outputs": []
    },
    {
      "cell_type": "code",
      "source": [
        "model.load_state_dict(checkpoint['model_state_dict'])"
      ],
      "metadata": {
        "colab": {
          "base_uri": "https://localhost:8080/"
        },
        "id": "x_bp6Z5DE7b4",
        "outputId": "b2d01011-b1f1-4fd7-c3ec-579f3a8ec394"
      },
      "execution_count": null,
      "outputs": [
        {
          "output_type": "execute_result",
          "data": {
            "text/plain": [
              "<All keys matched successfully>"
            ]
          },
          "metadata": {},
          "execution_count": 41
        }
      ]
    },
    {
      "cell_type": "code",
      "source": [
        "y_true=test['label'].tolist()"
      ],
      "metadata": {
        "id": "8-NfHgojE89c"
      },
      "execution_count": null,
      "outputs": []
    },
    {
      "cell_type": "code",
      "source": [
        "def predict(premises,hypothesises,max_length,return_tensors='pt',device='cpu',normalizer=None):\n",
        "  #premises: list of texts\n",
        "  #hypothesises: list of texts\n",
        "  #normalizer: function -> clean dataset and return a new input with the same format\n",
        "  model.eval()\n",
        "  y_pred=[]\n",
        "  with torch.no_grad():\n",
        "    loop = tqdm(range(len(premises)))\n",
        "    for idx,sample in enumerate(zip(premises,hypothesises)):\n",
        "      if normalizer!=None:\n",
        "        premise=normalizer(sample[0])\n",
        "        hypothesis=normalizer(sample[1])\n",
        "      _inputs=tokenizer(premise,hypothesis,padding=True,truncation=True,max_length=max_length,return_tensors=return_tensors).to(device)\n",
        "      outputs=model(**_inputs)\n",
        "      \n",
        "      probs=torch.nn.functional.softmax(outputs.logits,dim=1)\n",
        "      preds=torch.argmax(probs,dim=1)\n",
        "      y_pred.append(preds)\n",
        "      loop.update()\n",
        "  return torch.Tensor(y_pred)"
      ],
      "metadata": {
        "id": "Il9CjLNfE-7C"
      },
      "execution_count": null,
      "outputs": []
    },
    {
      "cell_type": "code",
      "source": [
        "y_pred=predict(test['premise'].tolist(),test['hypothesis'].tolist(),max_length,device=device,normalizer=normalizer)"
      ],
      "metadata": {
        "id": "469jDjBYFhJL"
      },
      "execution_count": null,
      "outputs": []
    },
    {
      "cell_type": "code",
      "source": [
        "y_pred"
      ],
      "metadata": {
        "colab": {
          "base_uri": "https://localhost:8080/"
        },
        "id": "vGIpHZPCFnM1",
        "outputId": "b728e5bd-ab64-40d6-9e86-f30855908dfa"
      },
      "execution_count": null,
      "outputs": [
        {
          "output_type": "execute_result",
          "data": {
            "text/plain": [
              "tensor([0., 0., 1.,  ..., 1., 0., 0.])"
            ]
          },
          "metadata": {},
          "execution_count": 47
        }
      ]
    },
    {
      "cell_type": "code",
      "source": [
        "y_pred=y_pred.tolist()"
      ],
      "metadata": {
        "id": "_Sb9ztGJGBsI"
      },
      "execution_count": null,
      "outputs": []
    },
    {
      "cell_type": "markdown",
      "source": [
        "#Conclusion"
      ],
      "metadata": {
        "id": "aHiv3TZEGRUE"
      }
    },
    {
      "cell_type": "markdown",
      "source": [
        "with train_0"
      ],
      "metadata": {
        "id": "ZKT4whb5GT8e"
      }
    },
    {
      "cell_type": "code",
      "source": [
        "print(classification_report(y_true,y_pred,digits=5))"
      ],
      "metadata": {
        "id": "X_bjsVb9GMQ-"
      },
      "execution_count": null,
      "outputs": []
    },
    {
      "cell_type": "code",
      "source": [
        "confusion_matrix(y_true,y_pred)"
      ],
      "metadata": {
        "id": "NDtL7AVbGd64"
      },
      "execution_count": null,
      "outputs": []
    },
    {
      "cell_type": "code",
      "source": [
        ""
      ],
      "metadata": {
        "id": "cDmohK4vGiec"
      },
      "execution_count": null,
      "outputs": []
    }
  ]
}