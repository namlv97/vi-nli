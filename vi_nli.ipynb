{
  "nbformat": 4,
  "nbformat_minor": 0,
  "metadata": {
    "colab": {
      "name": "vi-nli",
      "provenance": [],
      "toc_visible": true,
      "collapsed_sections": []
    },
    "kernelspec": {
      "name": "python3",
      "display_name": "Python 3"
    },
    "language_info": {
      "name": "python"
    },
    "accelerator": "GPU",
    "widgets": {
      "application/vnd.jupyter.widget-state+json": {
        "9235038bf09b4693aa7e2dfe675dd7e3": {
          "model_module": "@jupyter-widgets/controls",
          "model_name": "HBoxModel",
          "model_module_version": "1.5.0",
          "state": {
            "_dom_classes": [],
            "_model_module": "@jupyter-widgets/controls",
            "_model_module_version": "1.5.0",
            "_model_name": "HBoxModel",
            "_view_count": null,
            "_view_module": "@jupyter-widgets/controls",
            "_view_module_version": "1.5.0",
            "_view_name": "HBoxView",
            "box_style": "",
            "children": [
              "IPY_MODEL_a2eea8d17c8d42399f0beaf59c64aac4",
              "IPY_MODEL_9cfdbc3e24434498a269fd7118493f8c",
              "IPY_MODEL_5ecb8b3f79184a5f840012aab92b9ba1"
            ],
            "layout": "IPY_MODEL_679c64196e694a51a5e87ee6e62f1301"
          }
        },
        "a2eea8d17c8d42399f0beaf59c64aac4": {
          "model_module": "@jupyter-widgets/controls",
          "model_name": "HTMLModel",
          "model_module_version": "1.5.0",
          "state": {
            "_dom_classes": [],
            "_model_module": "@jupyter-widgets/controls",
            "_model_module_version": "1.5.0",
            "_model_name": "HTMLModel",
            "_view_count": null,
            "_view_module": "@jupyter-widgets/controls",
            "_view_module_version": "1.5.0",
            "_view_name": "HTMLView",
            "description": "",
            "description_tooltip": null,
            "layout": "IPY_MODEL_3ea1dc61baa9406e94fab54534fc45c9",
            "placeholder": "​",
            "style": "IPY_MODEL_438141ef9be44ba8a655e3ecb98ad55d",
            "value": "Downloading builder script: "
          }
        },
        "9cfdbc3e24434498a269fd7118493f8c": {
          "model_module": "@jupyter-widgets/controls",
          "model_name": "FloatProgressModel",
          "model_module_version": "1.5.0",
          "state": {
            "_dom_classes": [],
            "_model_module": "@jupyter-widgets/controls",
            "_model_module_version": "1.5.0",
            "_model_name": "FloatProgressModel",
            "_view_count": null,
            "_view_module": "@jupyter-widgets/controls",
            "_view_module_version": "1.5.0",
            "_view_name": "ProgressView",
            "bar_style": "success",
            "description": "",
            "description_tooltip": null,
            "layout": "IPY_MODEL_a1d0d8f1b7d74a4cb6fc03902fbc7c16",
            "max": 2673,
            "min": 0,
            "orientation": "horizontal",
            "style": "IPY_MODEL_b2f023aa4cc945cb9d90f48e0597eb48",
            "value": 2673
          }
        },
        "5ecb8b3f79184a5f840012aab92b9ba1": {
          "model_module": "@jupyter-widgets/controls",
          "model_name": "HTMLModel",
          "model_module_version": "1.5.0",
          "state": {
            "_dom_classes": [],
            "_model_module": "@jupyter-widgets/controls",
            "_model_module_version": "1.5.0",
            "_model_name": "HTMLModel",
            "_view_count": null,
            "_view_module": "@jupyter-widgets/controls",
            "_view_module_version": "1.5.0",
            "_view_name": "HTMLView",
            "description": "",
            "description_tooltip": null,
            "layout": "IPY_MODEL_ce09d3ffa25241928e13f4dd84b22379",
            "placeholder": "​",
            "style": "IPY_MODEL_dbb60a58026245cba28ce624ba098698",
            "value": " 8.78k/? [00:00&lt;00:00, 205kB/s]"
          }
        },
        "679c64196e694a51a5e87ee6e62f1301": {
          "model_module": "@jupyter-widgets/base",
          "model_name": "LayoutModel",
          "model_module_version": "1.2.0",
          "state": {
            "_model_module": "@jupyter-widgets/base",
            "_model_module_version": "1.2.0",
            "_model_name": "LayoutModel",
            "_view_count": null,
            "_view_module": "@jupyter-widgets/base",
            "_view_module_version": "1.2.0",
            "_view_name": "LayoutView",
            "align_content": null,
            "align_items": null,
            "align_self": null,
            "border": null,
            "bottom": null,
            "display": null,
            "flex": null,
            "flex_flow": null,
            "grid_area": null,
            "grid_auto_columns": null,
            "grid_auto_flow": null,
            "grid_auto_rows": null,
            "grid_column": null,
            "grid_gap": null,
            "grid_row": null,
            "grid_template_areas": null,
            "grid_template_columns": null,
            "grid_template_rows": null,
            "height": null,
            "justify_content": null,
            "justify_items": null,
            "left": null,
            "margin": null,
            "max_height": null,
            "max_width": null,
            "min_height": null,
            "min_width": null,
            "object_fit": null,
            "object_position": null,
            "order": null,
            "overflow": null,
            "overflow_x": null,
            "overflow_y": null,
            "padding": null,
            "right": null,
            "top": null,
            "visibility": null,
            "width": null
          }
        },
        "3ea1dc61baa9406e94fab54534fc45c9": {
          "model_module": "@jupyter-widgets/base",
          "model_name": "LayoutModel",
          "model_module_version": "1.2.0",
          "state": {
            "_model_module": "@jupyter-widgets/base",
            "_model_module_version": "1.2.0",
            "_model_name": "LayoutModel",
            "_view_count": null,
            "_view_module": "@jupyter-widgets/base",
            "_view_module_version": "1.2.0",
            "_view_name": "LayoutView",
            "align_content": null,
            "align_items": null,
            "align_self": null,
            "border": null,
            "bottom": null,
            "display": null,
            "flex": null,
            "flex_flow": null,
            "grid_area": null,
            "grid_auto_columns": null,
            "grid_auto_flow": null,
            "grid_auto_rows": null,
            "grid_column": null,
            "grid_gap": null,
            "grid_row": null,
            "grid_template_areas": null,
            "grid_template_columns": null,
            "grid_template_rows": null,
            "height": null,
            "justify_content": null,
            "justify_items": null,
            "left": null,
            "margin": null,
            "max_height": null,
            "max_width": null,
            "min_height": null,
            "min_width": null,
            "object_fit": null,
            "object_position": null,
            "order": null,
            "overflow": null,
            "overflow_x": null,
            "overflow_y": null,
            "padding": null,
            "right": null,
            "top": null,
            "visibility": null,
            "width": null
          }
        },
        "438141ef9be44ba8a655e3ecb98ad55d": {
          "model_module": "@jupyter-widgets/controls",
          "model_name": "DescriptionStyleModel",
          "model_module_version": "1.5.0",
          "state": {
            "_model_module": "@jupyter-widgets/controls",
            "_model_module_version": "1.5.0",
            "_model_name": "DescriptionStyleModel",
            "_view_count": null,
            "_view_module": "@jupyter-widgets/base",
            "_view_module_version": "1.2.0",
            "_view_name": "StyleView",
            "description_width": ""
          }
        },
        "a1d0d8f1b7d74a4cb6fc03902fbc7c16": {
          "model_module": "@jupyter-widgets/base",
          "model_name": "LayoutModel",
          "model_module_version": "1.2.0",
          "state": {
            "_model_module": "@jupyter-widgets/base",
            "_model_module_version": "1.2.0",
            "_model_name": "LayoutModel",
            "_view_count": null,
            "_view_module": "@jupyter-widgets/base",
            "_view_module_version": "1.2.0",
            "_view_name": "LayoutView",
            "align_content": null,
            "align_items": null,
            "align_self": null,
            "border": null,
            "bottom": null,
            "display": null,
            "flex": null,
            "flex_flow": null,
            "grid_area": null,
            "grid_auto_columns": null,
            "grid_auto_flow": null,
            "grid_auto_rows": null,
            "grid_column": null,
            "grid_gap": null,
            "grid_row": null,
            "grid_template_areas": null,
            "grid_template_columns": null,
            "grid_template_rows": null,
            "height": null,
            "justify_content": null,
            "justify_items": null,
            "left": null,
            "margin": null,
            "max_height": null,
            "max_width": null,
            "min_height": null,
            "min_width": null,
            "object_fit": null,
            "object_position": null,
            "order": null,
            "overflow": null,
            "overflow_x": null,
            "overflow_y": null,
            "padding": null,
            "right": null,
            "top": null,
            "visibility": null,
            "width": null
          }
        },
        "b2f023aa4cc945cb9d90f48e0597eb48": {
          "model_module": "@jupyter-widgets/controls",
          "model_name": "ProgressStyleModel",
          "model_module_version": "1.5.0",
          "state": {
            "_model_module": "@jupyter-widgets/controls",
            "_model_module_version": "1.5.0",
            "_model_name": "ProgressStyleModel",
            "_view_count": null,
            "_view_module": "@jupyter-widgets/base",
            "_view_module_version": "1.2.0",
            "_view_name": "StyleView",
            "bar_color": null,
            "description_width": ""
          }
        },
        "ce09d3ffa25241928e13f4dd84b22379": {
          "model_module": "@jupyter-widgets/base",
          "model_name": "LayoutModel",
          "model_module_version": "1.2.0",
          "state": {
            "_model_module": "@jupyter-widgets/base",
            "_model_module_version": "1.2.0",
            "_model_name": "LayoutModel",
            "_view_count": null,
            "_view_module": "@jupyter-widgets/base",
            "_view_module_version": "1.2.0",
            "_view_name": "LayoutView",
            "align_content": null,
            "align_items": null,
            "align_self": null,
            "border": null,
            "bottom": null,
            "display": null,
            "flex": null,
            "flex_flow": null,
            "grid_area": null,
            "grid_auto_columns": null,
            "grid_auto_flow": null,
            "grid_auto_rows": null,
            "grid_column": null,
            "grid_gap": null,
            "grid_row": null,
            "grid_template_areas": null,
            "grid_template_columns": null,
            "grid_template_rows": null,
            "height": null,
            "justify_content": null,
            "justify_items": null,
            "left": null,
            "margin": null,
            "max_height": null,
            "max_width": null,
            "min_height": null,
            "min_width": null,
            "object_fit": null,
            "object_position": null,
            "order": null,
            "overflow": null,
            "overflow_x": null,
            "overflow_y": null,
            "padding": null,
            "right": null,
            "top": null,
            "visibility": null,
            "width": null
          }
        },
        "dbb60a58026245cba28ce624ba098698": {
          "model_module": "@jupyter-widgets/controls",
          "model_name": "DescriptionStyleModel",
          "model_module_version": "1.5.0",
          "state": {
            "_model_module": "@jupyter-widgets/controls",
            "_model_module_version": "1.5.0",
            "_model_name": "DescriptionStyleModel",
            "_view_count": null,
            "_view_module": "@jupyter-widgets/base",
            "_view_module_version": "1.2.0",
            "_view_name": "StyleView",
            "description_width": ""
          }
        },
        "1b826f314f2446a8b813c3b8773e1bd3": {
          "model_module": "@jupyter-widgets/controls",
          "model_name": "HBoxModel",
          "model_module_version": "1.5.0",
          "state": {
            "_dom_classes": [],
            "_model_module": "@jupyter-widgets/controls",
            "_model_module_version": "1.5.0",
            "_model_name": "HBoxModel",
            "_view_count": null,
            "_view_module": "@jupyter-widgets/controls",
            "_view_module_version": "1.5.0",
            "_view_name": "HBoxView",
            "box_style": "",
            "children": [
              "IPY_MODEL_870cbcdab6c043c0ab4c3dd490d4273d",
              "IPY_MODEL_ff385f816c1449d48879d88c2ba078f5",
              "IPY_MODEL_a728cfe75ea94e2a950bdef01988319f"
            ],
            "layout": "IPY_MODEL_de44b73b4da74ee0a33ee3922c36aafe"
          }
        },
        "870cbcdab6c043c0ab4c3dd490d4273d": {
          "model_module": "@jupyter-widgets/controls",
          "model_name": "HTMLModel",
          "model_module_version": "1.5.0",
          "state": {
            "_dom_classes": [],
            "_model_module": "@jupyter-widgets/controls",
            "_model_module_version": "1.5.0",
            "_model_name": "HTMLModel",
            "_view_count": null,
            "_view_module": "@jupyter-widgets/controls",
            "_view_module_version": "1.5.0",
            "_view_name": "HTMLView",
            "description": "",
            "description_tooltip": null,
            "layout": "IPY_MODEL_5b23e55076ab4fb29904f19596ad34a1",
            "placeholder": "​",
            "style": "IPY_MODEL_a90e9912643a4d39b56aa965a7ab0ce0",
            "value": "Downloading metadata: "
          }
        },
        "ff385f816c1449d48879d88c2ba078f5": {
          "model_module": "@jupyter-widgets/controls",
          "model_name": "FloatProgressModel",
          "model_module_version": "1.5.0",
          "state": {
            "_dom_classes": [],
            "_model_module": "@jupyter-widgets/controls",
            "_model_module_version": "1.5.0",
            "_model_name": "FloatProgressModel",
            "_view_count": null,
            "_view_module": "@jupyter-widgets/controls",
            "_view_module_version": "1.5.0",
            "_view_name": "ProgressView",
            "bar_style": "success",
            "description": "",
            "description_tooltip": null,
            "layout": "IPY_MODEL_8bb8f77ad3cd48fca8f3430ee15a82d4",
            "max": 2184,
            "min": 0,
            "orientation": "horizontal",
            "style": "IPY_MODEL_7677d9ecd30a464eb46810d9692d09b6",
            "value": 2184
          }
        },
        "a728cfe75ea94e2a950bdef01988319f": {
          "model_module": "@jupyter-widgets/controls",
          "model_name": "HTMLModel",
          "model_module_version": "1.5.0",
          "state": {
            "_dom_classes": [],
            "_model_module": "@jupyter-widgets/controls",
            "_model_module_version": "1.5.0",
            "_model_name": "HTMLModel",
            "_view_count": null,
            "_view_module": "@jupyter-widgets/controls",
            "_view_module_version": "1.5.0",
            "_view_name": "HTMLView",
            "description": "",
            "description_tooltip": null,
            "layout": "IPY_MODEL_250e296e9fa84910a88eaa52162bbfa6",
            "placeholder": "​",
            "style": "IPY_MODEL_c00a3625b9a9416a8ba7d6b3595e09d2",
            "value": " 36.6k/? [00:00&lt;00:00, 784kB/s]"
          }
        },
        "de44b73b4da74ee0a33ee3922c36aafe": {
          "model_module": "@jupyter-widgets/base",
          "model_name": "LayoutModel",
          "model_module_version": "1.2.0",
          "state": {
            "_model_module": "@jupyter-widgets/base",
            "_model_module_version": "1.2.0",
            "_model_name": "LayoutModel",
            "_view_count": null,
            "_view_module": "@jupyter-widgets/base",
            "_view_module_version": "1.2.0",
            "_view_name": "LayoutView",
            "align_content": null,
            "align_items": null,
            "align_self": null,
            "border": null,
            "bottom": null,
            "display": null,
            "flex": null,
            "flex_flow": null,
            "grid_area": null,
            "grid_auto_columns": null,
            "grid_auto_flow": null,
            "grid_auto_rows": null,
            "grid_column": null,
            "grid_gap": null,
            "grid_row": null,
            "grid_template_areas": null,
            "grid_template_columns": null,
            "grid_template_rows": null,
            "height": null,
            "justify_content": null,
            "justify_items": null,
            "left": null,
            "margin": null,
            "max_height": null,
            "max_width": null,
            "min_height": null,
            "min_width": null,
            "object_fit": null,
            "object_position": null,
            "order": null,
            "overflow": null,
            "overflow_x": null,
            "overflow_y": null,
            "padding": null,
            "right": null,
            "top": null,
            "visibility": null,
            "width": null
          }
        },
        "5b23e55076ab4fb29904f19596ad34a1": {
          "model_module": "@jupyter-widgets/base",
          "model_name": "LayoutModel",
          "model_module_version": "1.2.0",
          "state": {
            "_model_module": "@jupyter-widgets/base",
            "_model_module_version": "1.2.0",
            "_model_name": "LayoutModel",
            "_view_count": null,
            "_view_module": "@jupyter-widgets/base",
            "_view_module_version": "1.2.0",
            "_view_name": "LayoutView",
            "align_content": null,
            "align_items": null,
            "align_self": null,
            "border": null,
            "bottom": null,
            "display": null,
            "flex": null,
            "flex_flow": null,
            "grid_area": null,
            "grid_auto_columns": null,
            "grid_auto_flow": null,
            "grid_auto_rows": null,
            "grid_column": null,
            "grid_gap": null,
            "grid_row": null,
            "grid_template_areas": null,
            "grid_template_columns": null,
            "grid_template_rows": null,
            "height": null,
            "justify_content": null,
            "justify_items": null,
            "left": null,
            "margin": null,
            "max_height": null,
            "max_width": null,
            "min_height": null,
            "min_width": null,
            "object_fit": null,
            "object_position": null,
            "order": null,
            "overflow": null,
            "overflow_x": null,
            "overflow_y": null,
            "padding": null,
            "right": null,
            "top": null,
            "visibility": null,
            "width": null
          }
        },
        "a90e9912643a4d39b56aa965a7ab0ce0": {
          "model_module": "@jupyter-widgets/controls",
          "model_name": "DescriptionStyleModel",
          "model_module_version": "1.5.0",
          "state": {
            "_model_module": "@jupyter-widgets/controls",
            "_model_module_version": "1.5.0",
            "_model_name": "DescriptionStyleModel",
            "_view_count": null,
            "_view_module": "@jupyter-widgets/base",
            "_view_module_version": "1.2.0",
            "_view_name": "StyleView",
            "description_width": ""
          }
        },
        "8bb8f77ad3cd48fca8f3430ee15a82d4": {
          "model_module": "@jupyter-widgets/base",
          "model_name": "LayoutModel",
          "model_module_version": "1.2.0",
          "state": {
            "_model_module": "@jupyter-widgets/base",
            "_model_module_version": "1.2.0",
            "_model_name": "LayoutModel",
            "_view_count": null,
            "_view_module": "@jupyter-widgets/base",
            "_view_module_version": "1.2.0",
            "_view_name": "LayoutView",
            "align_content": null,
            "align_items": null,
            "align_self": null,
            "border": null,
            "bottom": null,
            "display": null,
            "flex": null,
            "flex_flow": null,
            "grid_area": null,
            "grid_auto_columns": null,
            "grid_auto_flow": null,
            "grid_auto_rows": null,
            "grid_column": null,
            "grid_gap": null,
            "grid_row": null,
            "grid_template_areas": null,
            "grid_template_columns": null,
            "grid_template_rows": null,
            "height": null,
            "justify_content": null,
            "justify_items": null,
            "left": null,
            "margin": null,
            "max_height": null,
            "max_width": null,
            "min_height": null,
            "min_width": null,
            "object_fit": null,
            "object_position": null,
            "order": null,
            "overflow": null,
            "overflow_x": null,
            "overflow_y": null,
            "padding": null,
            "right": null,
            "top": null,
            "visibility": null,
            "width": null
          }
        },
        "7677d9ecd30a464eb46810d9692d09b6": {
          "model_module": "@jupyter-widgets/controls",
          "model_name": "ProgressStyleModel",
          "model_module_version": "1.5.0",
          "state": {
            "_model_module": "@jupyter-widgets/controls",
            "_model_module_version": "1.5.0",
            "_model_name": "ProgressStyleModel",
            "_view_count": null,
            "_view_module": "@jupyter-widgets/base",
            "_view_module_version": "1.2.0",
            "_view_name": "StyleView",
            "bar_color": null,
            "description_width": ""
          }
        },
        "250e296e9fa84910a88eaa52162bbfa6": {
          "model_module": "@jupyter-widgets/base",
          "model_name": "LayoutModel",
          "model_module_version": "1.2.0",
          "state": {
            "_model_module": "@jupyter-widgets/base",
            "_model_module_version": "1.2.0",
            "_model_name": "LayoutModel",
            "_view_count": null,
            "_view_module": "@jupyter-widgets/base",
            "_view_module_version": "1.2.0",
            "_view_name": "LayoutView",
            "align_content": null,
            "align_items": null,
            "align_self": null,
            "border": null,
            "bottom": null,
            "display": null,
            "flex": null,
            "flex_flow": null,
            "grid_area": null,
            "grid_auto_columns": null,
            "grid_auto_flow": null,
            "grid_auto_rows": null,
            "grid_column": null,
            "grid_gap": null,
            "grid_row": null,
            "grid_template_areas": null,
            "grid_template_columns": null,
            "grid_template_rows": null,
            "height": null,
            "justify_content": null,
            "justify_items": null,
            "left": null,
            "margin": null,
            "max_height": null,
            "max_width": null,
            "min_height": null,
            "min_width": null,
            "object_fit": null,
            "object_position": null,
            "order": null,
            "overflow": null,
            "overflow_x": null,
            "overflow_y": null,
            "padding": null,
            "right": null,
            "top": null,
            "visibility": null,
            "width": null
          }
        },
        "c00a3625b9a9416a8ba7d6b3595e09d2": {
          "model_module": "@jupyter-widgets/controls",
          "model_name": "DescriptionStyleModel",
          "model_module_version": "1.5.0",
          "state": {
            "_model_module": "@jupyter-widgets/controls",
            "_model_module_version": "1.5.0",
            "_model_name": "DescriptionStyleModel",
            "_view_count": null,
            "_view_module": "@jupyter-widgets/base",
            "_view_module_version": "1.2.0",
            "_view_name": "StyleView",
            "description_width": ""
          }
        },
        "ae36cc3641314d24ad549fcb6e050941": {
          "model_module": "@jupyter-widgets/controls",
          "model_name": "HBoxModel",
          "model_module_version": "1.5.0",
          "state": {
            "_dom_classes": [],
            "_model_module": "@jupyter-widgets/controls",
            "_model_module_version": "1.5.0",
            "_model_name": "HBoxModel",
            "_view_count": null,
            "_view_module": "@jupyter-widgets/controls",
            "_view_module_version": "1.5.0",
            "_view_name": "HBoxView",
            "box_style": "",
            "children": [
              "IPY_MODEL_bd75070cf4f4423194c424c2d9c895ff",
              "IPY_MODEL_81491a60de964346844f4c8257b8e178",
              "IPY_MODEL_4f5b8f9633784cc2bac43ed707763f5d"
            ],
            "layout": "IPY_MODEL_b2f491afa24140e48f8db95d719d15fc"
          }
        },
        "bd75070cf4f4423194c424c2d9c895ff": {
          "model_module": "@jupyter-widgets/controls",
          "model_name": "HTMLModel",
          "model_module_version": "1.5.0",
          "state": {
            "_dom_classes": [],
            "_model_module": "@jupyter-widgets/controls",
            "_model_module_version": "1.5.0",
            "_model_name": "HTMLModel",
            "_view_count": null,
            "_view_module": "@jupyter-widgets/controls",
            "_view_module_version": "1.5.0",
            "_view_name": "HTMLView",
            "description": "",
            "description_tooltip": null,
            "layout": "IPY_MODEL_133b8c00de3e427aa0d6a17fda4a2f05",
            "placeholder": "​",
            "style": "IPY_MODEL_7897e4db3e574977958b917a8609c87e",
            "value": "Downloading data files: 100%"
          }
        },
        "81491a60de964346844f4c8257b8e178": {
          "model_module": "@jupyter-widgets/controls",
          "model_name": "FloatProgressModel",
          "model_module_version": "1.5.0",
          "state": {
            "_dom_classes": [],
            "_model_module": "@jupyter-widgets/controls",
            "_model_module_version": "1.5.0",
            "_model_name": "FloatProgressModel",
            "_view_count": null,
            "_view_module": "@jupyter-widgets/controls",
            "_view_module_version": "1.5.0",
            "_view_name": "ProgressView",
            "bar_style": "success",
            "description": "",
            "description_tooltip": null,
            "layout": "IPY_MODEL_00f0990c415c4c7d902d6f43f5f1ec5a",
            "max": 2,
            "min": 0,
            "orientation": "horizontal",
            "style": "IPY_MODEL_4621b984e68740398541df15c7f08be7",
            "value": 2
          }
        },
        "4f5b8f9633784cc2bac43ed707763f5d": {
          "model_module": "@jupyter-widgets/controls",
          "model_name": "HTMLModel",
          "model_module_version": "1.5.0",
          "state": {
            "_dom_classes": [],
            "_model_module": "@jupyter-widgets/controls",
            "_model_module_version": "1.5.0",
            "_model_name": "HTMLModel",
            "_view_count": null,
            "_view_module": "@jupyter-widgets/controls",
            "_view_module_version": "1.5.0",
            "_view_name": "HTMLView",
            "description": "",
            "description_tooltip": null,
            "layout": "IPY_MODEL_76e4228b117a4950a908148c8b3f120b",
            "placeholder": "​",
            "style": "IPY_MODEL_99cdf86ae5474ee0ac57998a8e3aa5d7",
            "value": " 2/2 [00:12&lt;00:00,  5.26s/it]"
          }
        },
        "b2f491afa24140e48f8db95d719d15fc": {
          "model_module": "@jupyter-widgets/base",
          "model_name": "LayoutModel",
          "model_module_version": "1.2.0",
          "state": {
            "_model_module": "@jupyter-widgets/base",
            "_model_module_version": "1.2.0",
            "_model_name": "LayoutModel",
            "_view_count": null,
            "_view_module": "@jupyter-widgets/base",
            "_view_module_version": "1.2.0",
            "_view_name": "LayoutView",
            "align_content": null,
            "align_items": null,
            "align_self": null,
            "border": null,
            "bottom": null,
            "display": null,
            "flex": null,
            "flex_flow": null,
            "grid_area": null,
            "grid_auto_columns": null,
            "grid_auto_flow": null,
            "grid_auto_rows": null,
            "grid_column": null,
            "grid_gap": null,
            "grid_row": null,
            "grid_template_areas": null,
            "grid_template_columns": null,
            "grid_template_rows": null,
            "height": null,
            "justify_content": null,
            "justify_items": null,
            "left": null,
            "margin": null,
            "max_height": null,
            "max_width": null,
            "min_height": null,
            "min_width": null,
            "object_fit": null,
            "object_position": null,
            "order": null,
            "overflow": null,
            "overflow_x": null,
            "overflow_y": null,
            "padding": null,
            "right": null,
            "top": null,
            "visibility": null,
            "width": null
          }
        },
        "133b8c00de3e427aa0d6a17fda4a2f05": {
          "model_module": "@jupyter-widgets/base",
          "model_name": "LayoutModel",
          "model_module_version": "1.2.0",
          "state": {
            "_model_module": "@jupyter-widgets/base",
            "_model_module_version": "1.2.0",
            "_model_name": "LayoutModel",
            "_view_count": null,
            "_view_module": "@jupyter-widgets/base",
            "_view_module_version": "1.2.0",
            "_view_name": "LayoutView",
            "align_content": null,
            "align_items": null,
            "align_self": null,
            "border": null,
            "bottom": null,
            "display": null,
            "flex": null,
            "flex_flow": null,
            "grid_area": null,
            "grid_auto_columns": null,
            "grid_auto_flow": null,
            "grid_auto_rows": null,
            "grid_column": null,
            "grid_gap": null,
            "grid_row": null,
            "grid_template_areas": null,
            "grid_template_columns": null,
            "grid_template_rows": null,
            "height": null,
            "justify_content": null,
            "justify_items": null,
            "left": null,
            "margin": null,
            "max_height": null,
            "max_width": null,
            "min_height": null,
            "min_width": null,
            "object_fit": null,
            "object_position": null,
            "order": null,
            "overflow": null,
            "overflow_x": null,
            "overflow_y": null,
            "padding": null,
            "right": null,
            "top": null,
            "visibility": null,
            "width": null
          }
        },
        "7897e4db3e574977958b917a8609c87e": {
          "model_module": "@jupyter-widgets/controls",
          "model_name": "DescriptionStyleModel",
          "model_module_version": "1.5.0",
          "state": {
            "_model_module": "@jupyter-widgets/controls",
            "_model_module_version": "1.5.0",
            "_model_name": "DescriptionStyleModel",
            "_view_count": null,
            "_view_module": "@jupyter-widgets/base",
            "_view_module_version": "1.2.0",
            "_view_name": "StyleView",
            "description_width": ""
          }
        },
        "00f0990c415c4c7d902d6f43f5f1ec5a": {
          "model_module": "@jupyter-widgets/base",
          "model_name": "LayoutModel",
          "model_module_version": "1.2.0",
          "state": {
            "_model_module": "@jupyter-widgets/base",
            "_model_module_version": "1.2.0",
            "_model_name": "LayoutModel",
            "_view_count": null,
            "_view_module": "@jupyter-widgets/base",
            "_view_module_version": "1.2.0",
            "_view_name": "LayoutView",
            "align_content": null,
            "align_items": null,
            "align_self": null,
            "border": null,
            "bottom": null,
            "display": null,
            "flex": null,
            "flex_flow": null,
            "grid_area": null,
            "grid_auto_columns": null,
            "grid_auto_flow": null,
            "grid_auto_rows": null,
            "grid_column": null,
            "grid_gap": null,
            "grid_row": null,
            "grid_template_areas": null,
            "grid_template_columns": null,
            "grid_template_rows": null,
            "height": null,
            "justify_content": null,
            "justify_items": null,
            "left": null,
            "margin": null,
            "max_height": null,
            "max_width": null,
            "min_height": null,
            "min_width": null,
            "object_fit": null,
            "object_position": null,
            "order": null,
            "overflow": null,
            "overflow_x": null,
            "overflow_y": null,
            "padding": null,
            "right": null,
            "top": null,
            "visibility": null,
            "width": null
          }
        },
        "4621b984e68740398541df15c7f08be7": {
          "model_module": "@jupyter-widgets/controls",
          "model_name": "ProgressStyleModel",
          "model_module_version": "1.5.0",
          "state": {
            "_model_module": "@jupyter-widgets/controls",
            "_model_module_version": "1.5.0",
            "_model_name": "ProgressStyleModel",
            "_view_count": null,
            "_view_module": "@jupyter-widgets/base",
            "_view_module_version": "1.2.0",
            "_view_name": "StyleView",
            "bar_color": null,
            "description_width": ""
          }
        },
        "76e4228b117a4950a908148c8b3f120b": {
          "model_module": "@jupyter-widgets/base",
          "model_name": "LayoutModel",
          "model_module_version": "1.2.0",
          "state": {
            "_model_module": "@jupyter-widgets/base",
            "_model_module_version": "1.2.0",
            "_model_name": "LayoutModel",
            "_view_count": null,
            "_view_module": "@jupyter-widgets/base",
            "_view_module_version": "1.2.0",
            "_view_name": "LayoutView",
            "align_content": null,
            "align_items": null,
            "align_self": null,
            "border": null,
            "bottom": null,
            "display": null,
            "flex": null,
            "flex_flow": null,
            "grid_area": null,
            "grid_auto_columns": null,
            "grid_auto_flow": null,
            "grid_auto_rows": null,
            "grid_column": null,
            "grid_gap": null,
            "grid_row": null,
            "grid_template_areas": null,
            "grid_template_columns": null,
            "grid_template_rows": null,
            "height": null,
            "justify_content": null,
            "justify_items": null,
            "left": null,
            "margin": null,
            "max_height": null,
            "max_width": null,
            "min_height": null,
            "min_width": null,
            "object_fit": null,
            "object_position": null,
            "order": null,
            "overflow": null,
            "overflow_x": null,
            "overflow_y": null,
            "padding": null,
            "right": null,
            "top": null,
            "visibility": null,
            "width": null
          }
        },
        "99cdf86ae5474ee0ac57998a8e3aa5d7": {
          "model_module": "@jupyter-widgets/controls",
          "model_name": "DescriptionStyleModel",
          "model_module_version": "1.5.0",
          "state": {
            "_model_module": "@jupyter-widgets/controls",
            "_model_module_version": "1.5.0",
            "_model_name": "DescriptionStyleModel",
            "_view_count": null,
            "_view_module": "@jupyter-widgets/base",
            "_view_module_version": "1.2.0",
            "_view_name": "StyleView",
            "description_width": ""
          }
        },
        "aaefb39586d74f5eaa2162ce9a8752a8": {
          "model_module": "@jupyter-widgets/controls",
          "model_name": "HBoxModel",
          "model_module_version": "1.5.0",
          "state": {
            "_dom_classes": [],
            "_model_module": "@jupyter-widgets/controls",
            "_model_module_version": "1.5.0",
            "_model_name": "HBoxModel",
            "_view_count": null,
            "_view_module": "@jupyter-widgets/controls",
            "_view_module_version": "1.5.0",
            "_view_name": "HBoxView",
            "box_style": "",
            "children": [
              "IPY_MODEL_9a5fb2d9c9ab4b5d8096cf214c444577",
              "IPY_MODEL_5710bffb821546488f27c613bfb28f6f",
              "IPY_MODEL_d38443422959400b86bae28c8f39019e"
            ],
            "layout": "IPY_MODEL_12a071b333ce4a608c7e3f63299d847f"
          }
        },
        "9a5fb2d9c9ab4b5d8096cf214c444577": {
          "model_module": "@jupyter-widgets/controls",
          "model_name": "HTMLModel",
          "model_module_version": "1.5.0",
          "state": {
            "_dom_classes": [],
            "_model_module": "@jupyter-widgets/controls",
            "_model_module_version": "1.5.0",
            "_model_name": "HTMLModel",
            "_view_count": null,
            "_view_module": "@jupyter-widgets/controls",
            "_view_module_version": "1.5.0",
            "_view_name": "HTMLView",
            "description": "",
            "description_tooltip": null,
            "layout": "IPY_MODEL_e534f45a4c5948b8be639a27443c88d2",
            "placeholder": "​",
            "style": "IPY_MODEL_953eb18d35d44ba698aaa7d2120f71d5",
            "value": "Downloading data: 100%"
          }
        },
        "5710bffb821546488f27c613bfb28f6f": {
          "model_module": "@jupyter-widgets/controls",
          "model_name": "FloatProgressModel",
          "model_module_version": "1.5.0",
          "state": {
            "_dom_classes": [],
            "_model_module": "@jupyter-widgets/controls",
            "_model_module_version": "1.5.0",
            "_model_name": "FloatProgressModel",
            "_view_count": null,
            "_view_module": "@jupyter-widgets/controls",
            "_view_module_version": "1.5.0",
            "_view_name": "ProgressView",
            "bar_style": "success",
            "description": "",
            "description_tooltip": null,
            "layout": "IPY_MODEL_cf5056e2b8bc484fb5443010897b7792",
            "max": 466098360,
            "min": 0,
            "orientation": "horizontal",
            "style": "IPY_MODEL_913e5ba3bcfc4274a2a725b2dfd2f30f",
            "value": 466098360
          }
        },
        "d38443422959400b86bae28c8f39019e": {
          "model_module": "@jupyter-widgets/controls",
          "model_name": "HTMLModel",
          "model_module_version": "1.5.0",
          "state": {
            "_dom_classes": [],
            "_model_module": "@jupyter-widgets/controls",
            "_model_module_version": "1.5.0",
            "_model_name": "HTMLModel",
            "_view_count": null,
            "_view_module": "@jupyter-widgets/controls",
            "_view_module_version": "1.5.0",
            "_view_name": "HTMLView",
            "description": "",
            "description_tooltip": null,
            "layout": "IPY_MODEL_a8801068dd1442d09b30c1dca0f5fbbf",
            "placeholder": "​",
            "style": "IPY_MODEL_ec546224dcb644359fe107a42c8cbc71",
            "value": " 466M/466M [00:10&lt;00:00, 49.6MB/s]"
          }
        },
        "12a071b333ce4a608c7e3f63299d847f": {
          "model_module": "@jupyter-widgets/base",
          "model_name": "LayoutModel",
          "model_module_version": "1.2.0",
          "state": {
            "_model_module": "@jupyter-widgets/base",
            "_model_module_version": "1.2.0",
            "_model_name": "LayoutModel",
            "_view_count": null,
            "_view_module": "@jupyter-widgets/base",
            "_view_module_version": "1.2.0",
            "_view_name": "LayoutView",
            "align_content": null,
            "align_items": null,
            "align_self": null,
            "border": null,
            "bottom": null,
            "display": null,
            "flex": null,
            "flex_flow": null,
            "grid_area": null,
            "grid_auto_columns": null,
            "grid_auto_flow": null,
            "grid_auto_rows": null,
            "grid_column": null,
            "grid_gap": null,
            "grid_row": null,
            "grid_template_areas": null,
            "grid_template_columns": null,
            "grid_template_rows": null,
            "height": null,
            "justify_content": null,
            "justify_items": null,
            "left": null,
            "margin": null,
            "max_height": null,
            "max_width": null,
            "min_height": null,
            "min_width": null,
            "object_fit": null,
            "object_position": null,
            "order": null,
            "overflow": null,
            "overflow_x": null,
            "overflow_y": null,
            "padding": null,
            "right": null,
            "top": null,
            "visibility": null,
            "width": null
          }
        },
        "e534f45a4c5948b8be639a27443c88d2": {
          "model_module": "@jupyter-widgets/base",
          "model_name": "LayoutModel",
          "model_module_version": "1.2.0",
          "state": {
            "_model_module": "@jupyter-widgets/base",
            "_model_module_version": "1.2.0",
            "_model_name": "LayoutModel",
            "_view_count": null,
            "_view_module": "@jupyter-widgets/base",
            "_view_module_version": "1.2.0",
            "_view_name": "LayoutView",
            "align_content": null,
            "align_items": null,
            "align_self": null,
            "border": null,
            "bottom": null,
            "display": null,
            "flex": null,
            "flex_flow": null,
            "grid_area": null,
            "grid_auto_columns": null,
            "grid_auto_flow": null,
            "grid_auto_rows": null,
            "grid_column": null,
            "grid_gap": null,
            "grid_row": null,
            "grid_template_areas": null,
            "grid_template_columns": null,
            "grid_template_rows": null,
            "height": null,
            "justify_content": null,
            "justify_items": null,
            "left": null,
            "margin": null,
            "max_height": null,
            "max_width": null,
            "min_height": null,
            "min_width": null,
            "object_fit": null,
            "object_position": null,
            "order": null,
            "overflow": null,
            "overflow_x": null,
            "overflow_y": null,
            "padding": null,
            "right": null,
            "top": null,
            "visibility": null,
            "width": null
          }
        },
        "953eb18d35d44ba698aaa7d2120f71d5": {
          "model_module": "@jupyter-widgets/controls",
          "model_name": "DescriptionStyleModel",
          "model_module_version": "1.5.0",
          "state": {
            "_model_module": "@jupyter-widgets/controls",
            "_model_module_version": "1.5.0",
            "_model_name": "DescriptionStyleModel",
            "_view_count": null,
            "_view_module": "@jupyter-widgets/base",
            "_view_module_version": "1.2.0",
            "_view_name": "StyleView",
            "description_width": ""
          }
        },
        "cf5056e2b8bc484fb5443010897b7792": {
          "model_module": "@jupyter-widgets/base",
          "model_name": "LayoutModel",
          "model_module_version": "1.2.0",
          "state": {
            "_model_module": "@jupyter-widgets/base",
            "_model_module_version": "1.2.0",
            "_model_name": "LayoutModel",
            "_view_count": null,
            "_view_module": "@jupyter-widgets/base",
            "_view_module_version": "1.2.0",
            "_view_name": "LayoutView",
            "align_content": null,
            "align_items": null,
            "align_self": null,
            "border": null,
            "bottom": null,
            "display": null,
            "flex": null,
            "flex_flow": null,
            "grid_area": null,
            "grid_auto_columns": null,
            "grid_auto_flow": null,
            "grid_auto_rows": null,
            "grid_column": null,
            "grid_gap": null,
            "grid_row": null,
            "grid_template_areas": null,
            "grid_template_columns": null,
            "grid_template_rows": null,
            "height": null,
            "justify_content": null,
            "justify_items": null,
            "left": null,
            "margin": null,
            "max_height": null,
            "max_width": null,
            "min_height": null,
            "min_width": null,
            "object_fit": null,
            "object_position": null,
            "order": null,
            "overflow": null,
            "overflow_x": null,
            "overflow_y": null,
            "padding": null,
            "right": null,
            "top": null,
            "visibility": null,
            "width": null
          }
        },
        "913e5ba3bcfc4274a2a725b2dfd2f30f": {
          "model_module": "@jupyter-widgets/controls",
          "model_name": "ProgressStyleModel",
          "model_module_version": "1.5.0",
          "state": {
            "_model_module": "@jupyter-widgets/controls",
            "_model_module_version": "1.5.0",
            "_model_name": "ProgressStyleModel",
            "_view_count": null,
            "_view_module": "@jupyter-widgets/base",
            "_view_module_version": "1.2.0",
            "_view_name": "StyleView",
            "bar_color": null,
            "description_width": ""
          }
        },
        "a8801068dd1442d09b30c1dca0f5fbbf": {
          "model_module": "@jupyter-widgets/base",
          "model_name": "LayoutModel",
          "model_module_version": "1.2.0",
          "state": {
            "_model_module": "@jupyter-widgets/base",
            "_model_module_version": "1.2.0",
            "_model_name": "LayoutModel",
            "_view_count": null,
            "_view_module": "@jupyter-widgets/base",
            "_view_module_version": "1.2.0",
            "_view_name": "LayoutView",
            "align_content": null,
            "align_items": null,
            "align_self": null,
            "border": null,
            "bottom": null,
            "display": null,
            "flex": null,
            "flex_flow": null,
            "grid_area": null,
            "grid_auto_columns": null,
            "grid_auto_flow": null,
            "grid_auto_rows": null,
            "grid_column": null,
            "grid_gap": null,
            "grid_row": null,
            "grid_template_areas": null,
            "grid_template_columns": null,
            "grid_template_rows": null,
            "height": null,
            "justify_content": null,
            "justify_items": null,
            "left": null,
            "margin": null,
            "max_height": null,
            "max_width": null,
            "min_height": null,
            "min_width": null,
            "object_fit": null,
            "object_position": null,
            "order": null,
            "overflow": null,
            "overflow_x": null,
            "overflow_y": null,
            "padding": null,
            "right": null,
            "top": null,
            "visibility": null,
            "width": null
          }
        },
        "ec546224dcb644359fe107a42c8cbc71": {
          "model_module": "@jupyter-widgets/controls",
          "model_name": "DescriptionStyleModel",
          "model_module_version": "1.5.0",
          "state": {
            "_model_module": "@jupyter-widgets/controls",
            "_model_module_version": "1.5.0",
            "_model_name": "DescriptionStyleModel",
            "_view_count": null,
            "_view_module": "@jupyter-widgets/base",
            "_view_module_version": "1.2.0",
            "_view_name": "StyleView",
            "description_width": ""
          }
        },
        "f2a01c971bac44b691c759a31c8d2685": {
          "model_module": "@jupyter-widgets/controls",
          "model_name": "HBoxModel",
          "model_module_version": "1.5.0",
          "state": {
            "_dom_classes": [],
            "_model_module": "@jupyter-widgets/controls",
            "_model_module_version": "1.5.0",
            "_model_name": "HBoxModel",
            "_view_count": null,
            "_view_module": "@jupyter-widgets/controls",
            "_view_module_version": "1.5.0",
            "_view_name": "HBoxView",
            "box_style": "",
            "children": [
              "IPY_MODEL_b63d771df78249519fdab56f5d24cc87",
              "IPY_MODEL_29fed2cba0ac4a98b7f5ca931a3a35ad",
              "IPY_MODEL_ea1ec82dea8e447496d08d74f153e951"
            ],
            "layout": "IPY_MODEL_e35af42119524ddcb2d010f6487f913d"
          }
        },
        "b63d771df78249519fdab56f5d24cc87": {
          "model_module": "@jupyter-widgets/controls",
          "model_name": "HTMLModel",
          "model_module_version": "1.5.0",
          "state": {
            "_dom_classes": [],
            "_model_module": "@jupyter-widgets/controls",
            "_model_module_version": "1.5.0",
            "_model_name": "HTMLModel",
            "_view_count": null,
            "_view_module": "@jupyter-widgets/controls",
            "_view_module_version": "1.5.0",
            "_view_name": "HTMLView",
            "description": "",
            "description_tooltip": null,
            "layout": "IPY_MODEL_da231ad89a814c1ba1954bf4c8baec6e",
            "placeholder": "​",
            "style": "IPY_MODEL_c0c2d31f235743189eee8fb37585801e",
            "value": "Downloading data: 100%"
          }
        },
        "29fed2cba0ac4a98b7f5ca931a3a35ad": {
          "model_module": "@jupyter-widgets/controls",
          "model_name": "FloatProgressModel",
          "model_module_version": "1.5.0",
          "state": {
            "_dom_classes": [],
            "_model_module": "@jupyter-widgets/controls",
            "_model_module_version": "1.5.0",
            "_model_name": "FloatProgressModel",
            "_view_count": null,
            "_view_module": "@jupyter-widgets/controls",
            "_view_module_version": "1.5.0",
            "_view_name": "ProgressView",
            "bar_style": "success",
            "description": "",
            "description_tooltip": null,
            "layout": "IPY_MODEL_1f40005caa864a87a5a9485c18e42cd7",
            "max": 17865352,
            "min": 0,
            "orientation": "horizontal",
            "style": "IPY_MODEL_7751b36e344444b483e2566c20db6399",
            "value": 17865352
          }
        },
        "ea1ec82dea8e447496d08d74f153e951": {
          "model_module": "@jupyter-widgets/controls",
          "model_name": "HTMLModel",
          "model_module_version": "1.5.0",
          "state": {
            "_dom_classes": [],
            "_model_module": "@jupyter-widgets/controls",
            "_model_module_version": "1.5.0",
            "_model_name": "HTMLModel",
            "_view_count": null,
            "_view_module": "@jupyter-widgets/controls",
            "_view_module_version": "1.5.0",
            "_view_name": "HTMLView",
            "description": "",
            "description_tooltip": null,
            "layout": "IPY_MODEL_26bbc0b8ccbc4e0f941655f6f1789ea4",
            "placeholder": "​",
            "style": "IPY_MODEL_b604f74cebb84e92b6c61e3cb0f00241",
            "value": " 17.9M/17.9M [00:00&lt;00:00, 41.1MB/s]"
          }
        },
        "e35af42119524ddcb2d010f6487f913d": {
          "model_module": "@jupyter-widgets/base",
          "model_name": "LayoutModel",
          "model_module_version": "1.2.0",
          "state": {
            "_model_module": "@jupyter-widgets/base",
            "_model_module_version": "1.2.0",
            "_model_name": "LayoutModel",
            "_view_count": null,
            "_view_module": "@jupyter-widgets/base",
            "_view_module_version": "1.2.0",
            "_view_name": "LayoutView",
            "align_content": null,
            "align_items": null,
            "align_self": null,
            "border": null,
            "bottom": null,
            "display": null,
            "flex": null,
            "flex_flow": null,
            "grid_area": null,
            "grid_auto_columns": null,
            "grid_auto_flow": null,
            "grid_auto_rows": null,
            "grid_column": null,
            "grid_gap": null,
            "grid_row": null,
            "grid_template_areas": null,
            "grid_template_columns": null,
            "grid_template_rows": null,
            "height": null,
            "justify_content": null,
            "justify_items": null,
            "left": null,
            "margin": null,
            "max_height": null,
            "max_width": null,
            "min_height": null,
            "min_width": null,
            "object_fit": null,
            "object_position": null,
            "order": null,
            "overflow": null,
            "overflow_x": null,
            "overflow_y": null,
            "padding": null,
            "right": null,
            "top": null,
            "visibility": null,
            "width": null
          }
        },
        "da231ad89a814c1ba1954bf4c8baec6e": {
          "model_module": "@jupyter-widgets/base",
          "model_name": "LayoutModel",
          "model_module_version": "1.2.0",
          "state": {
            "_model_module": "@jupyter-widgets/base",
            "_model_module_version": "1.2.0",
            "_model_name": "LayoutModel",
            "_view_count": null,
            "_view_module": "@jupyter-widgets/base",
            "_view_module_version": "1.2.0",
            "_view_name": "LayoutView",
            "align_content": null,
            "align_items": null,
            "align_self": null,
            "border": null,
            "bottom": null,
            "display": null,
            "flex": null,
            "flex_flow": null,
            "grid_area": null,
            "grid_auto_columns": null,
            "grid_auto_flow": null,
            "grid_auto_rows": null,
            "grid_column": null,
            "grid_gap": null,
            "grid_row": null,
            "grid_template_areas": null,
            "grid_template_columns": null,
            "grid_template_rows": null,
            "height": null,
            "justify_content": null,
            "justify_items": null,
            "left": null,
            "margin": null,
            "max_height": null,
            "max_width": null,
            "min_height": null,
            "min_width": null,
            "object_fit": null,
            "object_position": null,
            "order": null,
            "overflow": null,
            "overflow_x": null,
            "overflow_y": null,
            "padding": null,
            "right": null,
            "top": null,
            "visibility": null,
            "width": null
          }
        },
        "c0c2d31f235743189eee8fb37585801e": {
          "model_module": "@jupyter-widgets/controls",
          "model_name": "DescriptionStyleModel",
          "model_module_version": "1.5.0",
          "state": {
            "_model_module": "@jupyter-widgets/controls",
            "_model_module_version": "1.5.0",
            "_model_name": "DescriptionStyleModel",
            "_view_count": null,
            "_view_module": "@jupyter-widgets/base",
            "_view_module_version": "1.2.0",
            "_view_name": "StyleView",
            "description_width": ""
          }
        },
        "1f40005caa864a87a5a9485c18e42cd7": {
          "model_module": "@jupyter-widgets/base",
          "model_name": "LayoutModel",
          "model_module_version": "1.2.0",
          "state": {
            "_model_module": "@jupyter-widgets/base",
            "_model_module_version": "1.2.0",
            "_model_name": "LayoutModel",
            "_view_count": null,
            "_view_module": "@jupyter-widgets/base",
            "_view_module_version": "1.2.0",
            "_view_name": "LayoutView",
            "align_content": null,
            "align_items": null,
            "align_self": null,
            "border": null,
            "bottom": null,
            "display": null,
            "flex": null,
            "flex_flow": null,
            "grid_area": null,
            "grid_auto_columns": null,
            "grid_auto_flow": null,
            "grid_auto_rows": null,
            "grid_column": null,
            "grid_gap": null,
            "grid_row": null,
            "grid_template_areas": null,
            "grid_template_columns": null,
            "grid_template_rows": null,
            "height": null,
            "justify_content": null,
            "justify_items": null,
            "left": null,
            "margin": null,
            "max_height": null,
            "max_width": null,
            "min_height": null,
            "min_width": null,
            "object_fit": null,
            "object_position": null,
            "order": null,
            "overflow": null,
            "overflow_x": null,
            "overflow_y": null,
            "padding": null,
            "right": null,
            "top": null,
            "visibility": null,
            "width": null
          }
        },
        "7751b36e344444b483e2566c20db6399": {
          "model_module": "@jupyter-widgets/controls",
          "model_name": "ProgressStyleModel",
          "model_module_version": "1.5.0",
          "state": {
            "_model_module": "@jupyter-widgets/controls",
            "_model_module_version": "1.5.0",
            "_model_name": "ProgressStyleModel",
            "_view_count": null,
            "_view_module": "@jupyter-widgets/base",
            "_view_module_version": "1.2.0",
            "_view_name": "StyleView",
            "bar_color": null,
            "description_width": ""
          }
        },
        "26bbc0b8ccbc4e0f941655f6f1789ea4": {
          "model_module": "@jupyter-widgets/base",
          "model_name": "LayoutModel",
          "model_module_version": "1.2.0",
          "state": {
            "_model_module": "@jupyter-widgets/base",
            "_model_module_version": "1.2.0",
            "_model_name": "LayoutModel",
            "_view_count": null,
            "_view_module": "@jupyter-widgets/base",
            "_view_module_version": "1.2.0",
            "_view_name": "LayoutView",
            "align_content": null,
            "align_items": null,
            "align_self": null,
            "border": null,
            "bottom": null,
            "display": null,
            "flex": null,
            "flex_flow": null,
            "grid_area": null,
            "grid_auto_columns": null,
            "grid_auto_flow": null,
            "grid_auto_rows": null,
            "grid_column": null,
            "grid_gap": null,
            "grid_row": null,
            "grid_template_areas": null,
            "grid_template_columns": null,
            "grid_template_rows": null,
            "height": null,
            "justify_content": null,
            "justify_items": null,
            "left": null,
            "margin": null,
            "max_height": null,
            "max_width": null,
            "min_height": null,
            "min_width": null,
            "object_fit": null,
            "object_position": null,
            "order": null,
            "overflow": null,
            "overflow_x": null,
            "overflow_y": null,
            "padding": null,
            "right": null,
            "top": null,
            "visibility": null,
            "width": null
          }
        },
        "b604f74cebb84e92b6c61e3cb0f00241": {
          "model_module": "@jupyter-widgets/controls",
          "model_name": "DescriptionStyleModel",
          "model_module_version": "1.5.0",
          "state": {
            "_model_module": "@jupyter-widgets/controls",
            "_model_module_version": "1.5.0",
            "_model_name": "DescriptionStyleModel",
            "_view_count": null,
            "_view_module": "@jupyter-widgets/base",
            "_view_module_version": "1.2.0",
            "_view_name": "StyleView",
            "description_width": ""
          }
        },
        "8fe293baf280490498e027b417e466b9": {
          "model_module": "@jupyter-widgets/controls",
          "model_name": "HBoxModel",
          "model_module_version": "1.5.0",
          "state": {
            "_dom_classes": [],
            "_model_module": "@jupyter-widgets/controls",
            "_model_module_version": "1.5.0",
            "_model_name": "HBoxModel",
            "_view_count": null,
            "_view_module": "@jupyter-widgets/controls",
            "_view_module_version": "1.5.0",
            "_view_name": "HBoxView",
            "box_style": "",
            "children": [
              "IPY_MODEL_798c7470e08c4747b7d5e29f17175a92",
              "IPY_MODEL_95fc3324c39e4ef490099f97ed16c577",
              "IPY_MODEL_f40bc447e113468ab0eef3d6b3111ba2"
            ],
            "layout": "IPY_MODEL_a9b2a5b51a134f63bdbfd03b402ba96a"
          }
        },
        "798c7470e08c4747b7d5e29f17175a92": {
          "model_module": "@jupyter-widgets/controls",
          "model_name": "HTMLModel",
          "model_module_version": "1.5.0",
          "state": {
            "_dom_classes": [],
            "_model_module": "@jupyter-widgets/controls",
            "_model_module_version": "1.5.0",
            "_model_name": "HTMLModel",
            "_view_count": null,
            "_view_module": "@jupyter-widgets/controls",
            "_view_module_version": "1.5.0",
            "_view_name": "HTMLView",
            "description": "",
            "description_tooltip": null,
            "layout": "IPY_MODEL_84a68658c8dd4fba98a7abb41af9c338",
            "placeholder": "​",
            "style": "IPY_MODEL_fd71418da9fa4e498f8ea2c49447aa90",
            "value": "Extracting data files: 100%"
          }
        },
        "95fc3324c39e4ef490099f97ed16c577": {
          "model_module": "@jupyter-widgets/controls",
          "model_name": "FloatProgressModel",
          "model_module_version": "1.5.0",
          "state": {
            "_dom_classes": [],
            "_model_module": "@jupyter-widgets/controls",
            "_model_module_version": "1.5.0",
            "_model_name": "FloatProgressModel",
            "_view_count": null,
            "_view_module": "@jupyter-widgets/controls",
            "_view_module_version": "1.5.0",
            "_view_name": "ProgressView",
            "bar_style": "success",
            "description": "",
            "description_tooltip": null,
            "layout": "IPY_MODEL_50eb9b54387643bab9a1e7ed5ef7b1dc",
            "max": 2,
            "min": 0,
            "orientation": "horizontal",
            "style": "IPY_MODEL_59c282a8a7c645239fdb9a55b3b8f19d",
            "value": 2
          }
        },
        "f40bc447e113468ab0eef3d6b3111ba2": {
          "model_module": "@jupyter-widgets/controls",
          "model_name": "HTMLModel",
          "model_module_version": "1.5.0",
          "state": {
            "_dom_classes": [],
            "_model_module": "@jupyter-widgets/controls",
            "_model_module_version": "1.5.0",
            "_model_name": "HTMLModel",
            "_view_count": null,
            "_view_module": "@jupyter-widgets/controls",
            "_view_module_version": "1.5.0",
            "_view_name": "HTMLView",
            "description": "",
            "description_tooltip": null,
            "layout": "IPY_MODEL_816b2359d5704233bfe59b33bff9f6da",
            "placeholder": "​",
            "style": "IPY_MODEL_5358d53dc69742518a49793d15250042",
            "value": " 2/2 [00:22&lt;00:00,  9.54s/it]"
          }
        },
        "a9b2a5b51a134f63bdbfd03b402ba96a": {
          "model_module": "@jupyter-widgets/base",
          "model_name": "LayoutModel",
          "model_module_version": "1.2.0",
          "state": {
            "_model_module": "@jupyter-widgets/base",
            "_model_module_version": "1.2.0",
            "_model_name": "LayoutModel",
            "_view_count": null,
            "_view_module": "@jupyter-widgets/base",
            "_view_module_version": "1.2.0",
            "_view_name": "LayoutView",
            "align_content": null,
            "align_items": null,
            "align_self": null,
            "border": null,
            "bottom": null,
            "display": null,
            "flex": null,
            "flex_flow": null,
            "grid_area": null,
            "grid_auto_columns": null,
            "grid_auto_flow": null,
            "grid_auto_rows": null,
            "grid_column": null,
            "grid_gap": null,
            "grid_row": null,
            "grid_template_areas": null,
            "grid_template_columns": null,
            "grid_template_rows": null,
            "height": null,
            "justify_content": null,
            "justify_items": null,
            "left": null,
            "margin": null,
            "max_height": null,
            "max_width": null,
            "min_height": null,
            "min_width": null,
            "object_fit": null,
            "object_position": null,
            "order": null,
            "overflow": null,
            "overflow_x": null,
            "overflow_y": null,
            "padding": null,
            "right": null,
            "top": null,
            "visibility": null,
            "width": null
          }
        },
        "84a68658c8dd4fba98a7abb41af9c338": {
          "model_module": "@jupyter-widgets/base",
          "model_name": "LayoutModel",
          "model_module_version": "1.2.0",
          "state": {
            "_model_module": "@jupyter-widgets/base",
            "_model_module_version": "1.2.0",
            "_model_name": "LayoutModel",
            "_view_count": null,
            "_view_module": "@jupyter-widgets/base",
            "_view_module_version": "1.2.0",
            "_view_name": "LayoutView",
            "align_content": null,
            "align_items": null,
            "align_self": null,
            "border": null,
            "bottom": null,
            "display": null,
            "flex": null,
            "flex_flow": null,
            "grid_area": null,
            "grid_auto_columns": null,
            "grid_auto_flow": null,
            "grid_auto_rows": null,
            "grid_column": null,
            "grid_gap": null,
            "grid_row": null,
            "grid_template_areas": null,
            "grid_template_columns": null,
            "grid_template_rows": null,
            "height": null,
            "justify_content": null,
            "justify_items": null,
            "left": null,
            "margin": null,
            "max_height": null,
            "max_width": null,
            "min_height": null,
            "min_width": null,
            "object_fit": null,
            "object_position": null,
            "order": null,
            "overflow": null,
            "overflow_x": null,
            "overflow_y": null,
            "padding": null,
            "right": null,
            "top": null,
            "visibility": null,
            "width": null
          }
        },
        "fd71418da9fa4e498f8ea2c49447aa90": {
          "model_module": "@jupyter-widgets/controls",
          "model_name": "DescriptionStyleModel",
          "model_module_version": "1.5.0",
          "state": {
            "_model_module": "@jupyter-widgets/controls",
            "_model_module_version": "1.5.0",
            "_model_name": "DescriptionStyleModel",
            "_view_count": null,
            "_view_module": "@jupyter-widgets/base",
            "_view_module_version": "1.2.0",
            "_view_name": "StyleView",
            "description_width": ""
          }
        },
        "50eb9b54387643bab9a1e7ed5ef7b1dc": {
          "model_module": "@jupyter-widgets/base",
          "model_name": "LayoutModel",
          "model_module_version": "1.2.0",
          "state": {
            "_model_module": "@jupyter-widgets/base",
            "_model_module_version": "1.2.0",
            "_model_name": "LayoutModel",
            "_view_count": null,
            "_view_module": "@jupyter-widgets/base",
            "_view_module_version": "1.2.0",
            "_view_name": "LayoutView",
            "align_content": null,
            "align_items": null,
            "align_self": null,
            "border": null,
            "bottom": null,
            "display": null,
            "flex": null,
            "flex_flow": null,
            "grid_area": null,
            "grid_auto_columns": null,
            "grid_auto_flow": null,
            "grid_auto_rows": null,
            "grid_column": null,
            "grid_gap": null,
            "grid_row": null,
            "grid_template_areas": null,
            "grid_template_columns": null,
            "grid_template_rows": null,
            "height": null,
            "justify_content": null,
            "justify_items": null,
            "left": null,
            "margin": null,
            "max_height": null,
            "max_width": null,
            "min_height": null,
            "min_width": null,
            "object_fit": null,
            "object_position": null,
            "order": null,
            "overflow": null,
            "overflow_x": null,
            "overflow_y": null,
            "padding": null,
            "right": null,
            "top": null,
            "visibility": null,
            "width": null
          }
        },
        "59c282a8a7c645239fdb9a55b3b8f19d": {
          "model_module": "@jupyter-widgets/controls",
          "model_name": "ProgressStyleModel",
          "model_module_version": "1.5.0",
          "state": {
            "_model_module": "@jupyter-widgets/controls",
            "_model_module_version": "1.5.0",
            "_model_name": "ProgressStyleModel",
            "_view_count": null,
            "_view_module": "@jupyter-widgets/base",
            "_view_module_version": "1.2.0",
            "_view_name": "StyleView",
            "bar_color": null,
            "description_width": ""
          }
        },
        "816b2359d5704233bfe59b33bff9f6da": {
          "model_module": "@jupyter-widgets/base",
          "model_name": "LayoutModel",
          "model_module_version": "1.2.0",
          "state": {
            "_model_module": "@jupyter-widgets/base",
            "_model_module_version": "1.2.0",
            "_model_name": "LayoutModel",
            "_view_count": null,
            "_view_module": "@jupyter-widgets/base",
            "_view_module_version": "1.2.0",
            "_view_name": "LayoutView",
            "align_content": null,
            "align_items": null,
            "align_self": null,
            "border": null,
            "bottom": null,
            "display": null,
            "flex": null,
            "flex_flow": null,
            "grid_area": null,
            "grid_auto_columns": null,
            "grid_auto_flow": null,
            "grid_auto_rows": null,
            "grid_column": null,
            "grid_gap": null,
            "grid_row": null,
            "grid_template_areas": null,
            "grid_template_columns": null,
            "grid_template_rows": null,
            "height": null,
            "justify_content": null,
            "justify_items": null,
            "left": null,
            "margin": null,
            "max_height": null,
            "max_width": null,
            "min_height": null,
            "min_width": null,
            "object_fit": null,
            "object_position": null,
            "order": null,
            "overflow": null,
            "overflow_x": null,
            "overflow_y": null,
            "padding": null,
            "right": null,
            "top": null,
            "visibility": null,
            "width": null
          }
        },
        "5358d53dc69742518a49793d15250042": {
          "model_module": "@jupyter-widgets/controls",
          "model_name": "DescriptionStyleModel",
          "model_module_version": "1.5.0",
          "state": {
            "_model_module": "@jupyter-widgets/controls",
            "_model_module_version": "1.5.0",
            "_model_name": "DescriptionStyleModel",
            "_view_count": null,
            "_view_module": "@jupyter-widgets/base",
            "_view_module_version": "1.2.0",
            "_view_name": "StyleView",
            "description_width": ""
          }
        },
        "6fc18125f4634be28c4dfadf0e01a35d": {
          "model_module": "@jupyter-widgets/controls",
          "model_name": "HBoxModel",
          "model_module_version": "1.5.0",
          "state": {
            "_dom_classes": [],
            "_model_module": "@jupyter-widgets/controls",
            "_model_module_version": "1.5.0",
            "_model_name": "HBoxModel",
            "_view_count": null,
            "_view_module": "@jupyter-widgets/controls",
            "_view_module_version": "1.5.0",
            "_view_name": "HBoxView",
            "box_style": "",
            "children": [
              "IPY_MODEL_d51aad87cb144ad988a66b4aa6a10df3",
              "IPY_MODEL_4bc5fdd940a54b7ca9c3934093b9f0d2",
              "IPY_MODEL_5095febbd20049bf9b252ce230c16676"
            ],
            "layout": "IPY_MODEL_74d6ce8742a74074a7b5b6815cc1adbe"
          }
        },
        "d51aad87cb144ad988a66b4aa6a10df3": {
          "model_module": "@jupyter-widgets/controls",
          "model_name": "HTMLModel",
          "model_module_version": "1.5.0",
          "state": {
            "_dom_classes": [],
            "_model_module": "@jupyter-widgets/controls",
            "_model_module_version": "1.5.0",
            "_model_name": "HTMLModel",
            "_view_count": null,
            "_view_module": "@jupyter-widgets/controls",
            "_view_module_version": "1.5.0",
            "_view_name": "HTMLView",
            "description": "",
            "description_tooltip": null,
            "layout": "IPY_MODEL_8aaebb8cd2d940c2868b6d7119ae2d90",
            "placeholder": "​",
            "style": "IPY_MODEL_3d497237fb064a1cb9858cb68bfe791a",
            "value": "Generating train split: "
          }
        },
        "4bc5fdd940a54b7ca9c3934093b9f0d2": {
          "model_module": "@jupyter-widgets/controls",
          "model_name": "FloatProgressModel",
          "model_module_version": "1.5.0",
          "state": {
            "_dom_classes": [],
            "_model_module": "@jupyter-widgets/controls",
            "_model_module_version": "1.5.0",
            "_model_name": "FloatProgressModel",
            "_view_count": null,
            "_view_module": "@jupyter-widgets/controls",
            "_view_module_version": "1.5.0",
            "_view_name": "ProgressView",
            "bar_style": "info",
            "description": "",
            "description_tooltip": null,
            "layout": "IPY_MODEL_b9d73dbcad874e92ad561b58bfb8461e",
            "max": 1,
            "min": 0,
            "orientation": "horizontal",
            "style": "IPY_MODEL_2b7ff07ac6154f5d87cfc3a5adad404c",
            "value": 1
          }
        },
        "5095febbd20049bf9b252ce230c16676": {
          "model_module": "@jupyter-widgets/controls",
          "model_name": "HTMLModel",
          "model_module_version": "1.5.0",
          "state": {
            "_dom_classes": [],
            "_model_module": "@jupyter-widgets/controls",
            "_model_module_version": "1.5.0",
            "_model_name": "HTMLModel",
            "_view_count": null,
            "_view_module": "@jupyter-widgets/controls",
            "_view_module_version": "1.5.0",
            "_view_name": "HTMLView",
            "description": "",
            "description_tooltip": null,
            "layout": "IPY_MODEL_468b44ce0bf24242bf8db6c13af80963",
            "placeholder": "​",
            "style": "IPY_MODEL_90591e5e730d410eb6685a669f7ec4e9",
            "value": " 392554/0 [00:24&lt;00:00, 15590.87 examples/s]"
          }
        },
        "74d6ce8742a74074a7b5b6815cc1adbe": {
          "model_module": "@jupyter-widgets/base",
          "model_name": "LayoutModel",
          "model_module_version": "1.2.0",
          "state": {
            "_model_module": "@jupyter-widgets/base",
            "_model_module_version": "1.2.0",
            "_model_name": "LayoutModel",
            "_view_count": null,
            "_view_module": "@jupyter-widgets/base",
            "_view_module_version": "1.2.0",
            "_view_name": "LayoutView",
            "align_content": null,
            "align_items": null,
            "align_self": null,
            "border": null,
            "bottom": null,
            "display": null,
            "flex": null,
            "flex_flow": null,
            "grid_area": null,
            "grid_auto_columns": null,
            "grid_auto_flow": null,
            "grid_auto_rows": null,
            "grid_column": null,
            "grid_gap": null,
            "grid_row": null,
            "grid_template_areas": null,
            "grid_template_columns": null,
            "grid_template_rows": null,
            "height": null,
            "justify_content": null,
            "justify_items": null,
            "left": null,
            "margin": null,
            "max_height": null,
            "max_width": null,
            "min_height": null,
            "min_width": null,
            "object_fit": null,
            "object_position": null,
            "order": null,
            "overflow": null,
            "overflow_x": null,
            "overflow_y": null,
            "padding": null,
            "right": null,
            "top": null,
            "visibility": null,
            "width": null
          }
        },
        "8aaebb8cd2d940c2868b6d7119ae2d90": {
          "model_module": "@jupyter-widgets/base",
          "model_name": "LayoutModel",
          "model_module_version": "1.2.0",
          "state": {
            "_model_module": "@jupyter-widgets/base",
            "_model_module_version": "1.2.0",
            "_model_name": "LayoutModel",
            "_view_count": null,
            "_view_module": "@jupyter-widgets/base",
            "_view_module_version": "1.2.0",
            "_view_name": "LayoutView",
            "align_content": null,
            "align_items": null,
            "align_self": null,
            "border": null,
            "bottom": null,
            "display": null,
            "flex": null,
            "flex_flow": null,
            "grid_area": null,
            "grid_auto_columns": null,
            "grid_auto_flow": null,
            "grid_auto_rows": null,
            "grid_column": null,
            "grid_gap": null,
            "grid_row": null,
            "grid_template_areas": null,
            "grid_template_columns": null,
            "grid_template_rows": null,
            "height": null,
            "justify_content": null,
            "justify_items": null,
            "left": null,
            "margin": null,
            "max_height": null,
            "max_width": null,
            "min_height": null,
            "min_width": null,
            "object_fit": null,
            "object_position": null,
            "order": null,
            "overflow": null,
            "overflow_x": null,
            "overflow_y": null,
            "padding": null,
            "right": null,
            "top": null,
            "visibility": null,
            "width": null
          }
        },
        "3d497237fb064a1cb9858cb68bfe791a": {
          "model_module": "@jupyter-widgets/controls",
          "model_name": "DescriptionStyleModel",
          "model_module_version": "1.5.0",
          "state": {
            "_model_module": "@jupyter-widgets/controls",
            "_model_module_version": "1.5.0",
            "_model_name": "DescriptionStyleModel",
            "_view_count": null,
            "_view_module": "@jupyter-widgets/base",
            "_view_module_version": "1.2.0",
            "_view_name": "StyleView",
            "description_width": ""
          }
        },
        "b9d73dbcad874e92ad561b58bfb8461e": {
          "model_module": "@jupyter-widgets/base",
          "model_name": "LayoutModel",
          "model_module_version": "1.2.0",
          "state": {
            "_model_module": "@jupyter-widgets/base",
            "_model_module_version": "1.2.0",
            "_model_name": "LayoutModel",
            "_view_count": null,
            "_view_module": "@jupyter-widgets/base",
            "_view_module_version": "1.2.0",
            "_view_name": "LayoutView",
            "align_content": null,
            "align_items": null,
            "align_self": null,
            "border": null,
            "bottom": null,
            "display": null,
            "flex": null,
            "flex_flow": null,
            "grid_area": null,
            "grid_auto_columns": null,
            "grid_auto_flow": null,
            "grid_auto_rows": null,
            "grid_column": null,
            "grid_gap": null,
            "grid_row": null,
            "grid_template_areas": null,
            "grid_template_columns": null,
            "grid_template_rows": null,
            "height": null,
            "justify_content": null,
            "justify_items": null,
            "left": null,
            "margin": null,
            "max_height": null,
            "max_width": null,
            "min_height": null,
            "min_width": null,
            "object_fit": null,
            "object_position": null,
            "order": null,
            "overflow": null,
            "overflow_x": null,
            "overflow_y": null,
            "padding": null,
            "right": null,
            "top": null,
            "visibility": null,
            "width": "20px"
          }
        },
        "2b7ff07ac6154f5d87cfc3a5adad404c": {
          "model_module": "@jupyter-widgets/controls",
          "model_name": "ProgressStyleModel",
          "model_module_version": "1.5.0",
          "state": {
            "_model_module": "@jupyter-widgets/controls",
            "_model_module_version": "1.5.0",
            "_model_name": "ProgressStyleModel",
            "_view_count": null,
            "_view_module": "@jupyter-widgets/base",
            "_view_module_version": "1.2.0",
            "_view_name": "StyleView",
            "bar_color": null,
            "description_width": ""
          }
        },
        "468b44ce0bf24242bf8db6c13af80963": {
          "model_module": "@jupyter-widgets/base",
          "model_name": "LayoutModel",
          "model_module_version": "1.2.0",
          "state": {
            "_model_module": "@jupyter-widgets/base",
            "_model_module_version": "1.2.0",
            "_model_name": "LayoutModel",
            "_view_count": null,
            "_view_module": "@jupyter-widgets/base",
            "_view_module_version": "1.2.0",
            "_view_name": "LayoutView",
            "align_content": null,
            "align_items": null,
            "align_self": null,
            "border": null,
            "bottom": null,
            "display": null,
            "flex": null,
            "flex_flow": null,
            "grid_area": null,
            "grid_auto_columns": null,
            "grid_auto_flow": null,
            "grid_auto_rows": null,
            "grid_column": null,
            "grid_gap": null,
            "grid_row": null,
            "grid_template_areas": null,
            "grid_template_columns": null,
            "grid_template_rows": null,
            "height": null,
            "justify_content": null,
            "justify_items": null,
            "left": null,
            "margin": null,
            "max_height": null,
            "max_width": null,
            "min_height": null,
            "min_width": null,
            "object_fit": null,
            "object_position": null,
            "order": null,
            "overflow": null,
            "overflow_x": null,
            "overflow_y": null,
            "padding": null,
            "right": null,
            "top": null,
            "visibility": null,
            "width": null
          }
        },
        "90591e5e730d410eb6685a669f7ec4e9": {
          "model_module": "@jupyter-widgets/controls",
          "model_name": "DescriptionStyleModel",
          "model_module_version": "1.5.0",
          "state": {
            "_model_module": "@jupyter-widgets/controls",
            "_model_module_version": "1.5.0",
            "_model_name": "DescriptionStyleModel",
            "_view_count": null,
            "_view_module": "@jupyter-widgets/base",
            "_view_module_version": "1.2.0",
            "_view_name": "StyleView",
            "description_width": ""
          }
        },
        "dd91aeabd86f4947855920731171044d": {
          "model_module": "@jupyter-widgets/controls",
          "model_name": "HBoxModel",
          "model_module_version": "1.5.0",
          "state": {
            "_dom_classes": [],
            "_model_module": "@jupyter-widgets/controls",
            "_model_module_version": "1.5.0",
            "_model_name": "HBoxModel",
            "_view_count": null,
            "_view_module": "@jupyter-widgets/controls",
            "_view_module_version": "1.5.0",
            "_view_name": "HBoxView",
            "box_style": "",
            "children": [
              "IPY_MODEL_1b5eefb1c58149c08b05af480e42a6d0",
              "IPY_MODEL_8b9d63b214134b98b5234a26b7cbd465",
              "IPY_MODEL_09dce448406a4159bb4c86f7bb7e6336"
            ],
            "layout": "IPY_MODEL_58820646a1c64f9aa3822e25eaa7ef47"
          }
        },
        "1b5eefb1c58149c08b05af480e42a6d0": {
          "model_module": "@jupyter-widgets/controls",
          "model_name": "HTMLModel",
          "model_module_version": "1.5.0",
          "state": {
            "_dom_classes": [],
            "_model_module": "@jupyter-widgets/controls",
            "_model_module_version": "1.5.0",
            "_model_name": "HTMLModel",
            "_view_count": null,
            "_view_module": "@jupyter-widgets/controls",
            "_view_module_version": "1.5.0",
            "_view_name": "HTMLView",
            "description": "",
            "description_tooltip": null,
            "layout": "IPY_MODEL_9071d2fb927e4f22b94a25b666920859",
            "placeholder": "​",
            "style": "IPY_MODEL_36e9b22cc1fe4b7ea79427749fa8aeae",
            "value": "Generating test split: "
          }
        },
        "8b9d63b214134b98b5234a26b7cbd465": {
          "model_module": "@jupyter-widgets/controls",
          "model_name": "FloatProgressModel",
          "model_module_version": "1.5.0",
          "state": {
            "_dom_classes": [],
            "_model_module": "@jupyter-widgets/controls",
            "_model_module_version": "1.5.0",
            "_model_name": "FloatProgressModel",
            "_view_count": null,
            "_view_module": "@jupyter-widgets/controls",
            "_view_module_version": "1.5.0",
            "_view_name": "ProgressView",
            "bar_style": "info",
            "description": "",
            "description_tooltip": null,
            "layout": "IPY_MODEL_1bc682ef4e874cd29ec287d6ff38638d",
            "max": 1,
            "min": 0,
            "orientation": "horizontal",
            "style": "IPY_MODEL_3f810dcf67c445aca7bbd996ce7aa559",
            "value": 1
          }
        },
        "09dce448406a4159bb4c86f7bb7e6336": {
          "model_module": "@jupyter-widgets/controls",
          "model_name": "HTMLModel",
          "model_module_version": "1.5.0",
          "state": {
            "_dom_classes": [],
            "_model_module": "@jupyter-widgets/controls",
            "_model_module_version": "1.5.0",
            "_model_name": "HTMLModel",
            "_view_count": null,
            "_view_module": "@jupyter-widgets/controls",
            "_view_module_version": "1.5.0",
            "_view_name": "HTMLView",
            "description": "",
            "description_tooltip": null,
            "layout": "IPY_MODEL_844de8341b5f43578747c810f21ada13",
            "placeholder": "​",
            "style": "IPY_MODEL_325fda1077b8444da9a9510f832b96df",
            "value": " 4654/0 [00:01&lt;00:00, 5668.97 examples/s]"
          }
        },
        "58820646a1c64f9aa3822e25eaa7ef47": {
          "model_module": "@jupyter-widgets/base",
          "model_name": "LayoutModel",
          "model_module_version": "1.2.0",
          "state": {
            "_model_module": "@jupyter-widgets/base",
            "_model_module_version": "1.2.0",
            "_model_name": "LayoutModel",
            "_view_count": null,
            "_view_module": "@jupyter-widgets/base",
            "_view_module_version": "1.2.0",
            "_view_name": "LayoutView",
            "align_content": null,
            "align_items": null,
            "align_self": null,
            "border": null,
            "bottom": null,
            "display": null,
            "flex": null,
            "flex_flow": null,
            "grid_area": null,
            "grid_auto_columns": null,
            "grid_auto_flow": null,
            "grid_auto_rows": null,
            "grid_column": null,
            "grid_gap": null,
            "grid_row": null,
            "grid_template_areas": null,
            "grid_template_columns": null,
            "grid_template_rows": null,
            "height": null,
            "justify_content": null,
            "justify_items": null,
            "left": null,
            "margin": null,
            "max_height": null,
            "max_width": null,
            "min_height": null,
            "min_width": null,
            "object_fit": null,
            "object_position": null,
            "order": null,
            "overflow": null,
            "overflow_x": null,
            "overflow_y": null,
            "padding": null,
            "right": null,
            "top": null,
            "visibility": null,
            "width": null
          }
        },
        "9071d2fb927e4f22b94a25b666920859": {
          "model_module": "@jupyter-widgets/base",
          "model_name": "LayoutModel",
          "model_module_version": "1.2.0",
          "state": {
            "_model_module": "@jupyter-widgets/base",
            "_model_module_version": "1.2.0",
            "_model_name": "LayoutModel",
            "_view_count": null,
            "_view_module": "@jupyter-widgets/base",
            "_view_module_version": "1.2.0",
            "_view_name": "LayoutView",
            "align_content": null,
            "align_items": null,
            "align_self": null,
            "border": null,
            "bottom": null,
            "display": null,
            "flex": null,
            "flex_flow": null,
            "grid_area": null,
            "grid_auto_columns": null,
            "grid_auto_flow": null,
            "grid_auto_rows": null,
            "grid_column": null,
            "grid_gap": null,
            "grid_row": null,
            "grid_template_areas": null,
            "grid_template_columns": null,
            "grid_template_rows": null,
            "height": null,
            "justify_content": null,
            "justify_items": null,
            "left": null,
            "margin": null,
            "max_height": null,
            "max_width": null,
            "min_height": null,
            "min_width": null,
            "object_fit": null,
            "object_position": null,
            "order": null,
            "overflow": null,
            "overflow_x": null,
            "overflow_y": null,
            "padding": null,
            "right": null,
            "top": null,
            "visibility": null,
            "width": null
          }
        },
        "36e9b22cc1fe4b7ea79427749fa8aeae": {
          "model_module": "@jupyter-widgets/controls",
          "model_name": "DescriptionStyleModel",
          "model_module_version": "1.5.0",
          "state": {
            "_model_module": "@jupyter-widgets/controls",
            "_model_module_version": "1.5.0",
            "_model_name": "DescriptionStyleModel",
            "_view_count": null,
            "_view_module": "@jupyter-widgets/base",
            "_view_module_version": "1.2.0",
            "_view_name": "StyleView",
            "description_width": ""
          }
        },
        "1bc682ef4e874cd29ec287d6ff38638d": {
          "model_module": "@jupyter-widgets/base",
          "model_name": "LayoutModel",
          "model_module_version": "1.2.0",
          "state": {
            "_model_module": "@jupyter-widgets/base",
            "_model_module_version": "1.2.0",
            "_model_name": "LayoutModel",
            "_view_count": null,
            "_view_module": "@jupyter-widgets/base",
            "_view_module_version": "1.2.0",
            "_view_name": "LayoutView",
            "align_content": null,
            "align_items": null,
            "align_self": null,
            "border": null,
            "bottom": null,
            "display": null,
            "flex": null,
            "flex_flow": null,
            "grid_area": null,
            "grid_auto_columns": null,
            "grid_auto_flow": null,
            "grid_auto_rows": null,
            "grid_column": null,
            "grid_gap": null,
            "grid_row": null,
            "grid_template_areas": null,
            "grid_template_columns": null,
            "grid_template_rows": null,
            "height": null,
            "justify_content": null,
            "justify_items": null,
            "left": null,
            "margin": null,
            "max_height": null,
            "max_width": null,
            "min_height": null,
            "min_width": null,
            "object_fit": null,
            "object_position": null,
            "order": null,
            "overflow": null,
            "overflow_x": null,
            "overflow_y": null,
            "padding": null,
            "right": null,
            "top": null,
            "visibility": null,
            "width": "20px"
          }
        },
        "3f810dcf67c445aca7bbd996ce7aa559": {
          "model_module": "@jupyter-widgets/controls",
          "model_name": "ProgressStyleModel",
          "model_module_version": "1.5.0",
          "state": {
            "_model_module": "@jupyter-widgets/controls",
            "_model_module_version": "1.5.0",
            "_model_name": "ProgressStyleModel",
            "_view_count": null,
            "_view_module": "@jupyter-widgets/base",
            "_view_module_version": "1.2.0",
            "_view_name": "StyleView",
            "bar_color": null,
            "description_width": ""
          }
        },
        "844de8341b5f43578747c810f21ada13": {
          "model_module": "@jupyter-widgets/base",
          "model_name": "LayoutModel",
          "model_module_version": "1.2.0",
          "state": {
            "_model_module": "@jupyter-widgets/base",
            "_model_module_version": "1.2.0",
            "_model_name": "LayoutModel",
            "_view_count": null,
            "_view_module": "@jupyter-widgets/base",
            "_view_module_version": "1.2.0",
            "_view_name": "LayoutView",
            "align_content": null,
            "align_items": null,
            "align_self": null,
            "border": null,
            "bottom": null,
            "display": null,
            "flex": null,
            "flex_flow": null,
            "grid_area": null,
            "grid_auto_columns": null,
            "grid_auto_flow": null,
            "grid_auto_rows": null,
            "grid_column": null,
            "grid_gap": null,
            "grid_row": null,
            "grid_template_areas": null,
            "grid_template_columns": null,
            "grid_template_rows": null,
            "height": null,
            "justify_content": null,
            "justify_items": null,
            "left": null,
            "margin": null,
            "max_height": null,
            "max_width": null,
            "min_height": null,
            "min_width": null,
            "object_fit": null,
            "object_position": null,
            "order": null,
            "overflow": null,
            "overflow_x": null,
            "overflow_y": null,
            "padding": null,
            "right": null,
            "top": null,
            "visibility": null,
            "width": null
          }
        },
        "325fda1077b8444da9a9510f832b96df": {
          "model_module": "@jupyter-widgets/controls",
          "model_name": "DescriptionStyleModel",
          "model_module_version": "1.5.0",
          "state": {
            "_model_module": "@jupyter-widgets/controls",
            "_model_module_version": "1.5.0",
            "_model_name": "DescriptionStyleModel",
            "_view_count": null,
            "_view_module": "@jupyter-widgets/base",
            "_view_module_version": "1.2.0",
            "_view_name": "StyleView",
            "description_width": ""
          }
        },
        "09f07cf4bf3a498480f036049f1a84d2": {
          "model_module": "@jupyter-widgets/controls",
          "model_name": "HBoxModel",
          "model_module_version": "1.5.0",
          "state": {
            "_dom_classes": [],
            "_model_module": "@jupyter-widgets/controls",
            "_model_module_version": "1.5.0",
            "_model_name": "HBoxModel",
            "_view_count": null,
            "_view_module": "@jupyter-widgets/controls",
            "_view_module_version": "1.5.0",
            "_view_name": "HBoxView",
            "box_style": "",
            "children": [
              "IPY_MODEL_fc343f0812ed4a88a8d854ab03aeeec4",
              "IPY_MODEL_e1114278df8645fdae59ef418ea4acb3",
              "IPY_MODEL_d3e0ddcccc7e44b4a1fca8d15483da79"
            ],
            "layout": "IPY_MODEL_c32cc65740674786a72ffc29cffe8ded"
          }
        },
        "fc343f0812ed4a88a8d854ab03aeeec4": {
          "model_module": "@jupyter-widgets/controls",
          "model_name": "HTMLModel",
          "model_module_version": "1.5.0",
          "state": {
            "_dom_classes": [],
            "_model_module": "@jupyter-widgets/controls",
            "_model_module_version": "1.5.0",
            "_model_name": "HTMLModel",
            "_view_count": null,
            "_view_module": "@jupyter-widgets/controls",
            "_view_module_version": "1.5.0",
            "_view_name": "HTMLView",
            "description": "",
            "description_tooltip": null,
            "layout": "IPY_MODEL_11b73fc523a349eca5b1401d0067ff1f",
            "placeholder": "​",
            "style": "IPY_MODEL_139e3a7bff6f4448b0875a453a7aecea",
            "value": "Generating validation split: "
          }
        },
        "e1114278df8645fdae59ef418ea4acb3": {
          "model_module": "@jupyter-widgets/controls",
          "model_name": "FloatProgressModel",
          "model_module_version": "1.5.0",
          "state": {
            "_dom_classes": [],
            "_model_module": "@jupyter-widgets/controls",
            "_model_module_version": "1.5.0",
            "_model_name": "FloatProgressModel",
            "_view_count": null,
            "_view_module": "@jupyter-widgets/controls",
            "_view_module_version": "1.5.0",
            "_view_name": "ProgressView",
            "bar_style": "info",
            "description": "",
            "description_tooltip": null,
            "layout": "IPY_MODEL_e87a0e0934b34e5da82ee919fa582010",
            "max": 1,
            "min": 0,
            "orientation": "horizontal",
            "style": "IPY_MODEL_41ce942556e84039a9bcda26c08d9734",
            "value": 1
          }
        },
        "d3e0ddcccc7e44b4a1fca8d15483da79": {
          "model_module": "@jupyter-widgets/controls",
          "model_name": "HTMLModel",
          "model_module_version": "1.5.0",
          "state": {
            "_dom_classes": [],
            "_model_module": "@jupyter-widgets/controls",
            "_model_module_version": "1.5.0",
            "_model_name": "HTMLModel",
            "_view_count": null,
            "_view_module": "@jupyter-widgets/controls",
            "_view_module_version": "1.5.0",
            "_view_name": "HTMLView",
            "description": "",
            "description_tooltip": null,
            "layout": "IPY_MODEL_726199355f51444283e4ddef88fa8222",
            "placeholder": "​",
            "style": "IPY_MODEL_b432189a50fc4123a7618a0bb14b1f67",
            "value": " 1532/0 [00:00&lt;00:00, 3190.13 examples/s]"
          }
        },
        "c32cc65740674786a72ffc29cffe8ded": {
          "model_module": "@jupyter-widgets/base",
          "model_name": "LayoutModel",
          "model_module_version": "1.2.0",
          "state": {
            "_model_module": "@jupyter-widgets/base",
            "_model_module_version": "1.2.0",
            "_model_name": "LayoutModel",
            "_view_count": null,
            "_view_module": "@jupyter-widgets/base",
            "_view_module_version": "1.2.0",
            "_view_name": "LayoutView",
            "align_content": null,
            "align_items": null,
            "align_self": null,
            "border": null,
            "bottom": null,
            "display": null,
            "flex": null,
            "flex_flow": null,
            "grid_area": null,
            "grid_auto_columns": null,
            "grid_auto_flow": null,
            "grid_auto_rows": null,
            "grid_column": null,
            "grid_gap": null,
            "grid_row": null,
            "grid_template_areas": null,
            "grid_template_columns": null,
            "grid_template_rows": null,
            "height": null,
            "justify_content": null,
            "justify_items": null,
            "left": null,
            "margin": null,
            "max_height": null,
            "max_width": null,
            "min_height": null,
            "min_width": null,
            "object_fit": null,
            "object_position": null,
            "order": null,
            "overflow": null,
            "overflow_x": null,
            "overflow_y": null,
            "padding": null,
            "right": null,
            "top": null,
            "visibility": null,
            "width": null
          }
        },
        "11b73fc523a349eca5b1401d0067ff1f": {
          "model_module": "@jupyter-widgets/base",
          "model_name": "LayoutModel",
          "model_module_version": "1.2.0",
          "state": {
            "_model_module": "@jupyter-widgets/base",
            "_model_module_version": "1.2.0",
            "_model_name": "LayoutModel",
            "_view_count": null,
            "_view_module": "@jupyter-widgets/base",
            "_view_module_version": "1.2.0",
            "_view_name": "LayoutView",
            "align_content": null,
            "align_items": null,
            "align_self": null,
            "border": null,
            "bottom": null,
            "display": null,
            "flex": null,
            "flex_flow": null,
            "grid_area": null,
            "grid_auto_columns": null,
            "grid_auto_flow": null,
            "grid_auto_rows": null,
            "grid_column": null,
            "grid_gap": null,
            "grid_row": null,
            "grid_template_areas": null,
            "grid_template_columns": null,
            "grid_template_rows": null,
            "height": null,
            "justify_content": null,
            "justify_items": null,
            "left": null,
            "margin": null,
            "max_height": null,
            "max_width": null,
            "min_height": null,
            "min_width": null,
            "object_fit": null,
            "object_position": null,
            "order": null,
            "overflow": null,
            "overflow_x": null,
            "overflow_y": null,
            "padding": null,
            "right": null,
            "top": null,
            "visibility": null,
            "width": null
          }
        },
        "139e3a7bff6f4448b0875a453a7aecea": {
          "model_module": "@jupyter-widgets/controls",
          "model_name": "DescriptionStyleModel",
          "model_module_version": "1.5.0",
          "state": {
            "_model_module": "@jupyter-widgets/controls",
            "_model_module_version": "1.5.0",
            "_model_name": "DescriptionStyleModel",
            "_view_count": null,
            "_view_module": "@jupyter-widgets/base",
            "_view_module_version": "1.2.0",
            "_view_name": "StyleView",
            "description_width": ""
          }
        },
        "e87a0e0934b34e5da82ee919fa582010": {
          "model_module": "@jupyter-widgets/base",
          "model_name": "LayoutModel",
          "model_module_version": "1.2.0",
          "state": {
            "_model_module": "@jupyter-widgets/base",
            "_model_module_version": "1.2.0",
            "_model_name": "LayoutModel",
            "_view_count": null,
            "_view_module": "@jupyter-widgets/base",
            "_view_module_version": "1.2.0",
            "_view_name": "LayoutView",
            "align_content": null,
            "align_items": null,
            "align_self": null,
            "border": null,
            "bottom": null,
            "display": null,
            "flex": null,
            "flex_flow": null,
            "grid_area": null,
            "grid_auto_columns": null,
            "grid_auto_flow": null,
            "grid_auto_rows": null,
            "grid_column": null,
            "grid_gap": null,
            "grid_row": null,
            "grid_template_areas": null,
            "grid_template_columns": null,
            "grid_template_rows": null,
            "height": null,
            "justify_content": null,
            "justify_items": null,
            "left": null,
            "margin": null,
            "max_height": null,
            "max_width": null,
            "min_height": null,
            "min_width": null,
            "object_fit": null,
            "object_position": null,
            "order": null,
            "overflow": null,
            "overflow_x": null,
            "overflow_y": null,
            "padding": null,
            "right": null,
            "top": null,
            "visibility": null,
            "width": "20px"
          }
        },
        "41ce942556e84039a9bcda26c08d9734": {
          "model_module": "@jupyter-widgets/controls",
          "model_name": "ProgressStyleModel",
          "model_module_version": "1.5.0",
          "state": {
            "_model_module": "@jupyter-widgets/controls",
            "_model_module_version": "1.5.0",
            "_model_name": "ProgressStyleModel",
            "_view_count": null,
            "_view_module": "@jupyter-widgets/base",
            "_view_module_version": "1.2.0",
            "_view_name": "StyleView",
            "bar_color": null,
            "description_width": ""
          }
        },
        "726199355f51444283e4ddef88fa8222": {
          "model_module": "@jupyter-widgets/base",
          "model_name": "LayoutModel",
          "model_module_version": "1.2.0",
          "state": {
            "_model_module": "@jupyter-widgets/base",
            "_model_module_version": "1.2.0",
            "_model_name": "LayoutModel",
            "_view_count": null,
            "_view_module": "@jupyter-widgets/base",
            "_view_module_version": "1.2.0",
            "_view_name": "LayoutView",
            "align_content": null,
            "align_items": null,
            "align_self": null,
            "border": null,
            "bottom": null,
            "display": null,
            "flex": null,
            "flex_flow": null,
            "grid_area": null,
            "grid_auto_columns": null,
            "grid_auto_flow": null,
            "grid_auto_rows": null,
            "grid_column": null,
            "grid_gap": null,
            "grid_row": null,
            "grid_template_areas": null,
            "grid_template_columns": null,
            "grid_template_rows": null,
            "height": null,
            "justify_content": null,
            "justify_items": null,
            "left": null,
            "margin": null,
            "max_height": null,
            "max_width": null,
            "min_height": null,
            "min_width": null,
            "object_fit": null,
            "object_position": null,
            "order": null,
            "overflow": null,
            "overflow_x": null,
            "overflow_y": null,
            "padding": null,
            "right": null,
            "top": null,
            "visibility": null,
            "width": null
          }
        },
        "b432189a50fc4123a7618a0bb14b1f67": {
          "model_module": "@jupyter-widgets/controls",
          "model_name": "DescriptionStyleModel",
          "model_module_version": "1.5.0",
          "state": {
            "_model_module": "@jupyter-widgets/controls",
            "_model_module_version": "1.5.0",
            "_model_name": "DescriptionStyleModel",
            "_view_count": null,
            "_view_module": "@jupyter-widgets/base",
            "_view_module_version": "1.2.0",
            "_view_name": "StyleView",
            "description_width": ""
          }
        },
        "a53e0f27eaf8425dad82dbe9008f882e": {
          "model_module": "@jupyter-widgets/controls",
          "model_name": "HBoxModel",
          "model_module_version": "1.5.0",
          "state": {
            "_dom_classes": [],
            "_model_module": "@jupyter-widgets/controls",
            "_model_module_version": "1.5.0",
            "_model_name": "HBoxModel",
            "_view_count": null,
            "_view_module": "@jupyter-widgets/controls",
            "_view_module_version": "1.5.0",
            "_view_name": "HBoxView",
            "box_style": "",
            "children": [
              "IPY_MODEL_8d75a30ac1f84e2b82c44a0faa3c1370",
              "IPY_MODEL_fbf628ba436249c7bea0b2ec3d113bab",
              "IPY_MODEL_09fe7381222145fcaace7d24869fec6c"
            ],
            "layout": "IPY_MODEL_41f1fc21cc4747529bb492622c73420a"
          }
        },
        "8d75a30ac1f84e2b82c44a0faa3c1370": {
          "model_module": "@jupyter-widgets/controls",
          "model_name": "HTMLModel",
          "model_module_version": "1.5.0",
          "state": {
            "_dom_classes": [],
            "_model_module": "@jupyter-widgets/controls",
            "_model_module_version": "1.5.0",
            "_model_name": "HTMLModel",
            "_view_count": null,
            "_view_module": "@jupyter-widgets/controls",
            "_view_module_version": "1.5.0",
            "_view_name": "HTMLView",
            "description": "",
            "description_tooltip": null,
            "layout": "IPY_MODEL_2cf08f3f327c48c5bfd53aaf3a68d0f3",
            "placeholder": "​",
            "style": "IPY_MODEL_7a64504d554d4f5b96b334c72a39885f",
            "value": "100%"
          }
        },
        "fbf628ba436249c7bea0b2ec3d113bab": {
          "model_module": "@jupyter-widgets/controls",
          "model_name": "FloatProgressModel",
          "model_module_version": "1.5.0",
          "state": {
            "_dom_classes": [],
            "_model_module": "@jupyter-widgets/controls",
            "_model_module_version": "1.5.0",
            "_model_name": "FloatProgressModel",
            "_view_count": null,
            "_view_module": "@jupyter-widgets/controls",
            "_view_module_version": "1.5.0",
            "_view_name": "ProgressView",
            "bar_style": "success",
            "description": "",
            "description_tooltip": null,
            "layout": "IPY_MODEL_608aec207dd3463bb31ef04d7ffe6741",
            "max": 3,
            "min": 0,
            "orientation": "horizontal",
            "style": "IPY_MODEL_dce795a7669d4eb6939c8e0c05f6144f",
            "value": 3
          }
        },
        "09fe7381222145fcaace7d24869fec6c": {
          "model_module": "@jupyter-widgets/controls",
          "model_name": "HTMLModel",
          "model_module_version": "1.5.0",
          "state": {
            "_dom_classes": [],
            "_model_module": "@jupyter-widgets/controls",
            "_model_module_version": "1.5.0",
            "_model_name": "HTMLModel",
            "_view_count": null,
            "_view_module": "@jupyter-widgets/controls",
            "_view_module_version": "1.5.0",
            "_view_name": "HTMLView",
            "description": "",
            "description_tooltip": null,
            "layout": "IPY_MODEL_d2ddd1b157114ed3aee03703cf3db4a1",
            "placeholder": "​",
            "style": "IPY_MODEL_73428d844c084eb79f16eb2b18c49c43",
            "value": " 3/3 [00:00&lt;00:00, 57.07it/s]"
          }
        },
        "41f1fc21cc4747529bb492622c73420a": {
          "model_module": "@jupyter-widgets/base",
          "model_name": "LayoutModel",
          "model_module_version": "1.2.0",
          "state": {
            "_model_module": "@jupyter-widgets/base",
            "_model_module_version": "1.2.0",
            "_model_name": "LayoutModel",
            "_view_count": null,
            "_view_module": "@jupyter-widgets/base",
            "_view_module_version": "1.2.0",
            "_view_name": "LayoutView",
            "align_content": null,
            "align_items": null,
            "align_self": null,
            "border": null,
            "bottom": null,
            "display": null,
            "flex": null,
            "flex_flow": null,
            "grid_area": null,
            "grid_auto_columns": null,
            "grid_auto_flow": null,
            "grid_auto_rows": null,
            "grid_column": null,
            "grid_gap": null,
            "grid_row": null,
            "grid_template_areas": null,
            "grid_template_columns": null,
            "grid_template_rows": null,
            "height": null,
            "justify_content": null,
            "justify_items": null,
            "left": null,
            "margin": null,
            "max_height": null,
            "max_width": null,
            "min_height": null,
            "min_width": null,
            "object_fit": null,
            "object_position": null,
            "order": null,
            "overflow": null,
            "overflow_x": null,
            "overflow_y": null,
            "padding": null,
            "right": null,
            "top": null,
            "visibility": null,
            "width": null
          }
        },
        "2cf08f3f327c48c5bfd53aaf3a68d0f3": {
          "model_module": "@jupyter-widgets/base",
          "model_name": "LayoutModel",
          "model_module_version": "1.2.0",
          "state": {
            "_model_module": "@jupyter-widgets/base",
            "_model_module_version": "1.2.0",
            "_model_name": "LayoutModel",
            "_view_count": null,
            "_view_module": "@jupyter-widgets/base",
            "_view_module_version": "1.2.0",
            "_view_name": "LayoutView",
            "align_content": null,
            "align_items": null,
            "align_self": null,
            "border": null,
            "bottom": null,
            "display": null,
            "flex": null,
            "flex_flow": null,
            "grid_area": null,
            "grid_auto_columns": null,
            "grid_auto_flow": null,
            "grid_auto_rows": null,
            "grid_column": null,
            "grid_gap": null,
            "grid_row": null,
            "grid_template_areas": null,
            "grid_template_columns": null,
            "grid_template_rows": null,
            "height": null,
            "justify_content": null,
            "justify_items": null,
            "left": null,
            "margin": null,
            "max_height": null,
            "max_width": null,
            "min_height": null,
            "min_width": null,
            "object_fit": null,
            "object_position": null,
            "order": null,
            "overflow": null,
            "overflow_x": null,
            "overflow_y": null,
            "padding": null,
            "right": null,
            "top": null,
            "visibility": null,
            "width": null
          }
        },
        "7a64504d554d4f5b96b334c72a39885f": {
          "model_module": "@jupyter-widgets/controls",
          "model_name": "DescriptionStyleModel",
          "model_module_version": "1.5.0",
          "state": {
            "_model_module": "@jupyter-widgets/controls",
            "_model_module_version": "1.5.0",
            "_model_name": "DescriptionStyleModel",
            "_view_count": null,
            "_view_module": "@jupyter-widgets/base",
            "_view_module_version": "1.2.0",
            "_view_name": "StyleView",
            "description_width": ""
          }
        },
        "608aec207dd3463bb31ef04d7ffe6741": {
          "model_module": "@jupyter-widgets/base",
          "model_name": "LayoutModel",
          "model_module_version": "1.2.0",
          "state": {
            "_model_module": "@jupyter-widgets/base",
            "_model_module_version": "1.2.0",
            "_model_name": "LayoutModel",
            "_view_count": null,
            "_view_module": "@jupyter-widgets/base",
            "_view_module_version": "1.2.0",
            "_view_name": "LayoutView",
            "align_content": null,
            "align_items": null,
            "align_self": null,
            "border": null,
            "bottom": null,
            "display": null,
            "flex": null,
            "flex_flow": null,
            "grid_area": null,
            "grid_auto_columns": null,
            "grid_auto_flow": null,
            "grid_auto_rows": null,
            "grid_column": null,
            "grid_gap": null,
            "grid_row": null,
            "grid_template_areas": null,
            "grid_template_columns": null,
            "grid_template_rows": null,
            "height": null,
            "justify_content": null,
            "justify_items": null,
            "left": null,
            "margin": null,
            "max_height": null,
            "max_width": null,
            "min_height": null,
            "min_width": null,
            "object_fit": null,
            "object_position": null,
            "order": null,
            "overflow": null,
            "overflow_x": null,
            "overflow_y": null,
            "padding": null,
            "right": null,
            "top": null,
            "visibility": null,
            "width": null
          }
        },
        "dce795a7669d4eb6939c8e0c05f6144f": {
          "model_module": "@jupyter-widgets/controls",
          "model_name": "ProgressStyleModel",
          "model_module_version": "1.5.0",
          "state": {
            "_model_module": "@jupyter-widgets/controls",
            "_model_module_version": "1.5.0",
            "_model_name": "ProgressStyleModel",
            "_view_count": null,
            "_view_module": "@jupyter-widgets/base",
            "_view_module_version": "1.2.0",
            "_view_name": "StyleView",
            "bar_color": null,
            "description_width": ""
          }
        },
        "d2ddd1b157114ed3aee03703cf3db4a1": {
          "model_module": "@jupyter-widgets/base",
          "model_name": "LayoutModel",
          "model_module_version": "1.2.0",
          "state": {
            "_model_module": "@jupyter-widgets/base",
            "_model_module_version": "1.2.0",
            "_model_name": "LayoutModel",
            "_view_count": null,
            "_view_module": "@jupyter-widgets/base",
            "_view_module_version": "1.2.0",
            "_view_name": "LayoutView",
            "align_content": null,
            "align_items": null,
            "align_self": null,
            "border": null,
            "bottom": null,
            "display": null,
            "flex": null,
            "flex_flow": null,
            "grid_area": null,
            "grid_auto_columns": null,
            "grid_auto_flow": null,
            "grid_auto_rows": null,
            "grid_column": null,
            "grid_gap": null,
            "grid_row": null,
            "grid_template_areas": null,
            "grid_template_columns": null,
            "grid_template_rows": null,
            "height": null,
            "justify_content": null,
            "justify_items": null,
            "left": null,
            "margin": null,
            "max_height": null,
            "max_width": null,
            "min_height": null,
            "min_width": null,
            "object_fit": null,
            "object_position": null,
            "order": null,
            "overflow": null,
            "overflow_x": null,
            "overflow_y": null,
            "padding": null,
            "right": null,
            "top": null,
            "visibility": null,
            "width": null
          }
        },
        "73428d844c084eb79f16eb2b18c49c43": {
          "model_module": "@jupyter-widgets/controls",
          "model_name": "DescriptionStyleModel",
          "model_module_version": "1.5.0",
          "state": {
            "_model_module": "@jupyter-widgets/controls",
            "_model_module_version": "1.5.0",
            "_model_name": "DescriptionStyleModel",
            "_view_count": null,
            "_view_module": "@jupyter-widgets/base",
            "_view_module_version": "1.2.0",
            "_view_name": "StyleView",
            "description_width": ""
          }
        }
      }
    }
  },
  "cells": [
    {
      "cell_type": "code",
      "source": [
        "!nvidia-smi"
      ],
      "metadata": {
        "colab": {
          "base_uri": "https://localhost:8080/"
        },
        "id": "CxY5c_2qEMgN",
        "outputId": "1719ad17-322e-438c-dfc9-b1407f7d31bc"
      },
      "execution_count": null,
      "outputs": [
        {
          "output_type": "stream",
          "name": "stdout",
          "text": [
            "Tue May 17 12:49:25 2022       \n",
            "+-----------------------------------------------------------------------------+\n",
            "| NVIDIA-SMI 460.32.03    Driver Version: 460.32.03    CUDA Version: 11.2     |\n",
            "|-------------------------------+----------------------+----------------------+\n",
            "| GPU  Name        Persistence-M| Bus-Id        Disp.A | Volatile Uncorr. ECC |\n",
            "| Fan  Temp  Perf  Pwr:Usage/Cap|         Memory-Usage | GPU-Util  Compute M. |\n",
            "|                               |                      |               MIG M. |\n",
            "|===============================+======================+======================|\n",
            "|   0  Tesla T4            Off  | 00000000:00:04.0 Off |                    0 |\n",
            "| N/A   46C    P8    10W /  70W |      0MiB / 15109MiB |      0%      Default |\n",
            "|                               |                      |                  N/A |\n",
            "+-------------------------------+----------------------+----------------------+\n",
            "                                                                               \n",
            "+-----------------------------------------------------------------------------+\n",
            "| Processes:                                                                  |\n",
            "|  GPU   GI   CI        PID   Type   Process name                  GPU Memory |\n",
            "|        ID   ID                                                   Usage      |\n",
            "|=============================================================================|\n",
            "|  No running processes found                                                 |\n",
            "+-----------------------------------------------------------------------------+\n"
          ]
        }
      ]
    },
    {
      "cell_type": "code",
      "source": [
        "from google.colab import drive\n",
        "drive.mount('/content/drive')"
      ],
      "metadata": {
        "colab": {
          "base_uri": "https://localhost:8080/"
        },
        "id": "ErtFvD4HfhJr",
        "outputId": "7f6c5cea-9eee-400f-d913-ee35dde3ae21"
      },
      "execution_count": null,
      "outputs": [
        {
          "output_type": "stream",
          "name": "stdout",
          "text": [
            "Mounted at /content/drive\n"
          ]
        }
      ]
    },
    {
      "cell_type": "markdown",
      "source": [
        "#Install modules"
      ],
      "metadata": {
        "id": "v2MsaeD_kjI6"
      }
    },
    {
      "cell_type": "code",
      "execution_count": null,
      "metadata": {
        "colab": {
          "base_uri": "https://localhost:8080/"
        },
        "id": "w9arB1afY4kn",
        "outputId": "35a4a2fa-7364-424c-d4a9-20c9de1478f0"
      },
      "outputs": [
        {
          "output_type": "stream",
          "name": "stdout",
          "text": [
            "Collecting datasets\n",
            "  Downloading datasets-2.2.1-py3-none-any.whl (342 kB)\n",
            "\u001b[K     |████████████████████████████████| 342 kB 8.3 MB/s \n",
            "\u001b[?25hCollecting aiohttp\n",
            "  Downloading aiohttp-3.8.1-cp37-cp37m-manylinux_2_5_x86_64.manylinux1_x86_64.manylinux_2_12_x86_64.manylinux2010_x86_64.whl (1.1 MB)\n",
            "\u001b[K     |████████████████████████████████| 1.1 MB 43.7 MB/s \n",
            "\u001b[?25hRequirement already satisfied: tqdm>=4.62.1 in /usr/local/lib/python3.7/dist-packages (from datasets) (4.64.0)\n",
            "Collecting responses<0.19\n",
            "  Downloading responses-0.18.0-py3-none-any.whl (38 kB)\n",
            "Requirement already satisfied: requests>=2.19.0 in /usr/local/lib/python3.7/dist-packages (from datasets) (2.23.0)\n",
            "Requirement already satisfied: multiprocess in /usr/local/lib/python3.7/dist-packages (from datasets) (0.70.12.2)\n",
            "Requirement already satisfied: importlib-metadata in /usr/local/lib/python3.7/dist-packages (from datasets) (4.11.3)\n",
            "Requirement already satisfied: huggingface-hub<1.0.0,>=0.1.0 in /usr/local/lib/python3.7/dist-packages (from datasets) (0.6.0)\n",
            "Requirement already satisfied: pyarrow>=6.0.0 in /usr/local/lib/python3.7/dist-packages (from datasets) (6.0.1)\n",
            "Requirement already satisfied: packaging in /usr/local/lib/python3.7/dist-packages (from datasets) (21.3)\n",
            "Requirement already satisfied: dill in /usr/local/lib/python3.7/dist-packages (from datasets) (0.3.4)\n",
            "Requirement already satisfied: numpy>=1.17 in /usr/local/lib/python3.7/dist-packages (from datasets) (1.21.6)\n",
            "Requirement already satisfied: pandas in /usr/local/lib/python3.7/dist-packages (from datasets) (1.3.5)\n",
            "Collecting xxhash\n",
            "  Downloading xxhash-3.0.0-cp37-cp37m-manylinux_2_17_x86_64.manylinux2014_x86_64.whl (212 kB)\n",
            "\u001b[K     |████████████████████████████████| 212 kB 58.2 MB/s \n",
            "\u001b[?25hCollecting fsspec[http]>=2021.05.0\n",
            "  Downloading fsspec-2022.3.0-py3-none-any.whl (136 kB)\n",
            "\u001b[K     |████████████████████████████████| 136 kB 54.5 MB/s \n",
            "\u001b[?25hRequirement already satisfied: filelock in /usr/local/lib/python3.7/dist-packages (from huggingface-hub<1.0.0,>=0.1.0->datasets) (3.6.0)\n",
            "Requirement already satisfied: typing-extensions>=3.7.4.3 in /usr/local/lib/python3.7/dist-packages (from huggingface-hub<1.0.0,>=0.1.0->datasets) (4.2.0)\n",
            "Requirement already satisfied: pyyaml in /usr/local/lib/python3.7/dist-packages (from huggingface-hub<1.0.0,>=0.1.0->datasets) (6.0)\n",
            "Requirement already satisfied: pyparsing!=3.0.5,>=2.0.2 in /usr/local/lib/python3.7/dist-packages (from packaging->datasets) (3.0.8)\n",
            "Requirement already satisfied: chardet<4,>=3.0.2 in /usr/local/lib/python3.7/dist-packages (from requests>=2.19.0->datasets) (3.0.4)\n",
            "Requirement already satisfied: idna<3,>=2.5 in /usr/local/lib/python3.7/dist-packages (from requests>=2.19.0->datasets) (2.10)\n",
            "Requirement already satisfied: certifi>=2017.4.17 in /usr/local/lib/python3.7/dist-packages (from requests>=2.19.0->datasets) (2021.10.8)\n",
            "Requirement already satisfied: urllib3!=1.25.0,!=1.25.1,<1.26,>=1.21.1 in /usr/local/lib/python3.7/dist-packages (from requests>=2.19.0->datasets) (1.24.3)\n",
            "Collecting urllib3!=1.25.0,!=1.25.1,<1.26,>=1.21.1\n",
            "  Downloading urllib3-1.25.11-py2.py3-none-any.whl (127 kB)\n",
            "\u001b[K     |████████████████████████████████| 127 kB 40.4 MB/s \n",
            "\u001b[?25hCollecting yarl<2.0,>=1.0\n",
            "  Downloading yarl-1.7.2-cp37-cp37m-manylinux_2_5_x86_64.manylinux1_x86_64.manylinux_2_12_x86_64.manylinux2010_x86_64.whl (271 kB)\n",
            "\u001b[K     |████████████████████████████████| 271 kB 59.9 MB/s \n",
            "\u001b[?25hCollecting asynctest==0.13.0\n",
            "  Downloading asynctest-0.13.0-py3-none-any.whl (26 kB)\n",
            "Requirement already satisfied: charset-normalizer<3.0,>=2.0 in /usr/local/lib/python3.7/dist-packages (from aiohttp->datasets) (2.0.12)\n",
            "Collecting aiosignal>=1.1.2\n",
            "  Downloading aiosignal-1.2.0-py3-none-any.whl (8.2 kB)\n",
            "Collecting frozenlist>=1.1.1\n",
            "  Downloading frozenlist-1.3.0-cp37-cp37m-manylinux_2_5_x86_64.manylinux1_x86_64.manylinux_2_17_x86_64.manylinux2014_x86_64.whl (144 kB)\n",
            "\u001b[K     |████████████████████████████████| 144 kB 57.5 MB/s \n",
            "\u001b[?25hCollecting async-timeout<5.0,>=4.0.0a3\n",
            "  Downloading async_timeout-4.0.2-py3-none-any.whl (5.8 kB)\n",
            "Requirement already satisfied: attrs>=17.3.0 in /usr/local/lib/python3.7/dist-packages (from aiohttp->datasets) (21.4.0)\n",
            "Collecting multidict<7.0,>=4.5\n",
            "  Downloading multidict-6.0.2-cp37-cp37m-manylinux_2_17_x86_64.manylinux2014_x86_64.whl (94 kB)\n",
            "\u001b[K     |████████████████████████████████| 94 kB 3.7 MB/s \n",
            "\u001b[?25hRequirement already satisfied: zipp>=0.5 in /usr/local/lib/python3.7/dist-packages (from importlib-metadata->datasets) (3.8.0)\n",
            "Requirement already satisfied: pytz>=2017.3 in /usr/local/lib/python3.7/dist-packages (from pandas->datasets) (2022.1)\n",
            "Requirement already satisfied: python-dateutil>=2.7.3 in /usr/local/lib/python3.7/dist-packages (from pandas->datasets) (2.8.2)\n",
            "Requirement already satisfied: six>=1.5 in /usr/local/lib/python3.7/dist-packages (from python-dateutil>=2.7.3->pandas->datasets) (1.15.0)\n",
            "Installing collected packages: multidict, frozenlist, yarl, urllib3, asynctest, async-timeout, aiosignal, fsspec, aiohttp, xxhash, responses, datasets\n",
            "  Attempting uninstall: urllib3\n",
            "    Found existing installation: urllib3 1.24.3\n",
            "    Uninstalling urllib3-1.24.3:\n",
            "      Successfully uninstalled urllib3-1.24.3\n",
            "\u001b[31mERROR: pip's dependency resolver does not currently take into account all the packages that are installed. This behaviour is the source of the following dependency conflicts.\n",
            "datascience 0.10.6 requires folium==0.2.1, but you have folium 0.8.3 which is incompatible.\u001b[0m\n",
            "Successfully installed aiohttp-3.8.1 aiosignal-1.2.0 async-timeout-4.0.2 asynctest-0.13.0 datasets-2.2.1 frozenlist-1.3.0 fsspec-2022.3.0 multidict-6.0.2 responses-0.18.0 urllib3-1.25.11 xxhash-3.0.0 yarl-1.7.2\n"
          ]
        }
      ],
      "source": [
        "pip install datasets"
      ]
    },
    {
      "cell_type": "code",
      "source": [
        "pip install transformers"
      ],
      "metadata": {
        "colab": {
          "base_uri": "https://localhost:8080/"
        },
        "id": "fP7CyBVpco_l",
        "outputId": "d004ff67-a2ba-488c-b07d-2519a202639e"
      },
      "execution_count": null,
      "outputs": [
        {
          "output_type": "stream",
          "name": "stdout",
          "text": [
            "Collecting transformers\n",
            "  Downloading transformers-4.19.2-py3-none-any.whl (4.2 MB)\n",
            "\u001b[K     |████████████████████████████████| 4.2 MB 9.0 MB/s \n",
            "\u001b[?25hCollecting huggingface-hub<1.0,>=0.1.0\n",
            "  Downloading huggingface_hub-0.6.0-py3-none-any.whl (84 kB)\n",
            "\u001b[K     |████████████████████████████████| 84 kB 3.6 MB/s \n",
            "\u001b[?25hRequirement already satisfied: packaging>=20.0 in /usr/local/lib/python3.7/dist-packages (from transformers) (21.3)\n",
            "Requirement already satisfied: requests in /usr/local/lib/python3.7/dist-packages (from transformers) (2.23.0)\n",
            "Requirement already satisfied: tqdm>=4.27 in /usr/local/lib/python3.7/dist-packages (from transformers) (4.64.0)\n",
            "Collecting tokenizers!=0.11.3,<0.13,>=0.11.1\n",
            "  Downloading tokenizers-0.12.1-cp37-cp37m-manylinux_2_12_x86_64.manylinux2010_x86_64.whl (6.6 MB)\n",
            "\u001b[K     |████████████████████████████████| 6.6 MB 52.0 MB/s \n",
            "\u001b[?25hRequirement already satisfied: numpy>=1.17 in /usr/local/lib/python3.7/dist-packages (from transformers) (1.21.6)\n",
            "Requirement already satisfied: filelock in /usr/local/lib/python3.7/dist-packages (from transformers) (3.6.0)\n",
            "Requirement already satisfied: importlib-metadata in /usr/local/lib/python3.7/dist-packages (from transformers) (4.11.3)\n",
            "Requirement already satisfied: regex!=2019.12.17 in /usr/local/lib/python3.7/dist-packages (from transformers) (2019.12.20)\n",
            "Collecting pyyaml>=5.1\n",
            "  Downloading PyYAML-6.0-cp37-cp37m-manylinux_2_5_x86_64.manylinux1_x86_64.manylinux_2_12_x86_64.manylinux2010_x86_64.whl (596 kB)\n",
            "\u001b[K     |████████████████████████████████| 596 kB 41.6 MB/s \n",
            "\u001b[?25hRequirement already satisfied: typing-extensions>=3.7.4.3 in /usr/local/lib/python3.7/dist-packages (from huggingface-hub<1.0,>=0.1.0->transformers) (4.2.0)\n",
            "Requirement already satisfied: pyparsing!=3.0.5,>=2.0.2 in /usr/local/lib/python3.7/dist-packages (from packaging>=20.0->transformers) (3.0.8)\n",
            "Requirement already satisfied: zipp>=0.5 in /usr/local/lib/python3.7/dist-packages (from importlib-metadata->transformers) (3.8.0)\n",
            "Requirement already satisfied: chardet<4,>=3.0.2 in /usr/local/lib/python3.7/dist-packages (from requests->transformers) (3.0.4)\n",
            "Requirement already satisfied: idna<3,>=2.5 in /usr/local/lib/python3.7/dist-packages (from requests->transformers) (2.10)\n",
            "Requirement already satisfied: certifi>=2017.4.17 in /usr/local/lib/python3.7/dist-packages (from requests->transformers) (2021.10.8)\n",
            "Requirement already satisfied: urllib3!=1.25.0,!=1.25.1,<1.26,>=1.21.1 in /usr/local/lib/python3.7/dist-packages (from requests->transformers) (1.24.3)\n",
            "Installing collected packages: pyyaml, tokenizers, huggingface-hub, transformers\n",
            "  Attempting uninstall: pyyaml\n",
            "    Found existing installation: PyYAML 3.13\n",
            "    Uninstalling PyYAML-3.13:\n",
            "      Successfully uninstalled PyYAML-3.13\n",
            "Successfully installed huggingface-hub-0.6.0 pyyaml-6.0 tokenizers-0.12.1 transformers-4.19.2\n"
          ]
        }
      ]
    },
    {
      "cell_type": "code",
      "source": [
        "from datasets import load_dataset\n",
        "\n",
        "dataset = load_dataset(\"xnli\",language='vi')"
      ],
      "metadata": {
        "colab": {
          "base_uri": "https://localhost:8080/",
          "height": 313,
          "referenced_widgets": [
            "9235038bf09b4693aa7e2dfe675dd7e3",
            "a2eea8d17c8d42399f0beaf59c64aac4",
            "9cfdbc3e24434498a269fd7118493f8c",
            "5ecb8b3f79184a5f840012aab92b9ba1",
            "679c64196e694a51a5e87ee6e62f1301",
            "3ea1dc61baa9406e94fab54534fc45c9",
            "438141ef9be44ba8a655e3ecb98ad55d",
            "a1d0d8f1b7d74a4cb6fc03902fbc7c16",
            "b2f023aa4cc945cb9d90f48e0597eb48",
            "ce09d3ffa25241928e13f4dd84b22379",
            "dbb60a58026245cba28ce624ba098698",
            "1b826f314f2446a8b813c3b8773e1bd3",
            "870cbcdab6c043c0ab4c3dd490d4273d",
            "ff385f816c1449d48879d88c2ba078f5",
            "a728cfe75ea94e2a950bdef01988319f",
            "de44b73b4da74ee0a33ee3922c36aafe",
            "5b23e55076ab4fb29904f19596ad34a1",
            "a90e9912643a4d39b56aa965a7ab0ce0",
            "8bb8f77ad3cd48fca8f3430ee15a82d4",
            "7677d9ecd30a464eb46810d9692d09b6",
            "250e296e9fa84910a88eaa52162bbfa6",
            "c00a3625b9a9416a8ba7d6b3595e09d2",
            "ae36cc3641314d24ad549fcb6e050941",
            "bd75070cf4f4423194c424c2d9c895ff",
            "81491a60de964346844f4c8257b8e178",
            "4f5b8f9633784cc2bac43ed707763f5d",
            "b2f491afa24140e48f8db95d719d15fc",
            "133b8c00de3e427aa0d6a17fda4a2f05",
            "7897e4db3e574977958b917a8609c87e",
            "00f0990c415c4c7d902d6f43f5f1ec5a",
            "4621b984e68740398541df15c7f08be7",
            "76e4228b117a4950a908148c8b3f120b",
            "99cdf86ae5474ee0ac57998a8e3aa5d7",
            "aaefb39586d74f5eaa2162ce9a8752a8",
            "9a5fb2d9c9ab4b5d8096cf214c444577",
            "5710bffb821546488f27c613bfb28f6f",
            "d38443422959400b86bae28c8f39019e",
            "12a071b333ce4a608c7e3f63299d847f",
            "e534f45a4c5948b8be639a27443c88d2",
            "953eb18d35d44ba698aaa7d2120f71d5",
            "cf5056e2b8bc484fb5443010897b7792",
            "913e5ba3bcfc4274a2a725b2dfd2f30f",
            "a8801068dd1442d09b30c1dca0f5fbbf",
            "ec546224dcb644359fe107a42c8cbc71",
            "f2a01c971bac44b691c759a31c8d2685",
            "b63d771df78249519fdab56f5d24cc87",
            "29fed2cba0ac4a98b7f5ca931a3a35ad",
            "ea1ec82dea8e447496d08d74f153e951",
            "e35af42119524ddcb2d010f6487f913d",
            "da231ad89a814c1ba1954bf4c8baec6e",
            "c0c2d31f235743189eee8fb37585801e",
            "1f40005caa864a87a5a9485c18e42cd7",
            "7751b36e344444b483e2566c20db6399",
            "26bbc0b8ccbc4e0f941655f6f1789ea4",
            "b604f74cebb84e92b6c61e3cb0f00241",
            "8fe293baf280490498e027b417e466b9",
            "798c7470e08c4747b7d5e29f17175a92",
            "95fc3324c39e4ef490099f97ed16c577",
            "f40bc447e113468ab0eef3d6b3111ba2",
            "a9b2a5b51a134f63bdbfd03b402ba96a",
            "84a68658c8dd4fba98a7abb41af9c338",
            "fd71418da9fa4e498f8ea2c49447aa90",
            "50eb9b54387643bab9a1e7ed5ef7b1dc",
            "59c282a8a7c645239fdb9a55b3b8f19d",
            "816b2359d5704233bfe59b33bff9f6da",
            "5358d53dc69742518a49793d15250042",
            "6fc18125f4634be28c4dfadf0e01a35d",
            "d51aad87cb144ad988a66b4aa6a10df3",
            "4bc5fdd940a54b7ca9c3934093b9f0d2",
            "5095febbd20049bf9b252ce230c16676",
            "74d6ce8742a74074a7b5b6815cc1adbe",
            "8aaebb8cd2d940c2868b6d7119ae2d90",
            "3d497237fb064a1cb9858cb68bfe791a",
            "b9d73dbcad874e92ad561b58bfb8461e",
            "2b7ff07ac6154f5d87cfc3a5adad404c",
            "468b44ce0bf24242bf8db6c13af80963",
            "90591e5e730d410eb6685a669f7ec4e9",
            "dd91aeabd86f4947855920731171044d",
            "1b5eefb1c58149c08b05af480e42a6d0",
            "8b9d63b214134b98b5234a26b7cbd465",
            "09dce448406a4159bb4c86f7bb7e6336",
            "58820646a1c64f9aa3822e25eaa7ef47",
            "9071d2fb927e4f22b94a25b666920859",
            "36e9b22cc1fe4b7ea79427749fa8aeae",
            "1bc682ef4e874cd29ec287d6ff38638d",
            "3f810dcf67c445aca7bbd996ce7aa559",
            "844de8341b5f43578747c810f21ada13",
            "325fda1077b8444da9a9510f832b96df",
            "09f07cf4bf3a498480f036049f1a84d2",
            "fc343f0812ed4a88a8d854ab03aeeec4",
            "e1114278df8645fdae59ef418ea4acb3",
            "d3e0ddcccc7e44b4a1fca8d15483da79",
            "c32cc65740674786a72ffc29cffe8ded",
            "11b73fc523a349eca5b1401d0067ff1f",
            "139e3a7bff6f4448b0875a453a7aecea",
            "e87a0e0934b34e5da82ee919fa582010",
            "41ce942556e84039a9bcda26c08d9734",
            "726199355f51444283e4ddef88fa8222",
            "b432189a50fc4123a7618a0bb14b1f67",
            "a53e0f27eaf8425dad82dbe9008f882e",
            "8d75a30ac1f84e2b82c44a0faa3c1370",
            "fbf628ba436249c7bea0b2ec3d113bab",
            "09fe7381222145fcaace7d24869fec6c",
            "41f1fc21cc4747529bb492622c73420a",
            "2cf08f3f327c48c5bfd53aaf3a68d0f3",
            "7a64504d554d4f5b96b334c72a39885f",
            "608aec207dd3463bb31ef04d7ffe6741",
            "dce795a7669d4eb6939c8e0c05f6144f",
            "d2ddd1b157114ed3aee03703cf3db4a1",
            "73428d844c084eb79f16eb2b18c49c43"
          ]
        },
        "id": "X1DJHdDNegSx",
        "outputId": "42d37386-6100-4c69-e0ea-0289177f684a"
      },
      "execution_count": null,
      "outputs": [
        {
          "output_type": "display_data",
          "data": {
            "text/plain": [
              "Downloading builder script:   0%|          | 0.00/2.67k [00:00<?, ?B/s]"
            ],
            "application/vnd.jupyter.widget-view+json": {
              "version_major": 2,
              "version_minor": 0,
              "model_id": "9235038bf09b4693aa7e2dfe675dd7e3"
            }
          },
          "metadata": {}
        },
        {
          "output_type": "display_data",
          "data": {
            "text/plain": [
              "Downloading metadata:   0%|          | 0.00/2.18k [00:00<?, ?B/s]"
            ],
            "application/vnd.jupyter.widget-view+json": {
              "version_major": 2,
              "version_minor": 0,
              "model_id": "1b826f314f2446a8b813c3b8773e1bd3"
            }
          },
          "metadata": {}
        },
        {
          "output_type": "stream",
          "name": "stderr",
          "text": [
            "Using custom data configuration default-language=vi\n"
          ]
        },
        {
          "output_type": "stream",
          "name": "stdout",
          "text": [
            "Downloading and preparing dataset xnli/default to /root/.cache/huggingface/datasets/xnli/default-language=vi/1.1.0/818164464f9c9fd15776ca8a00423b074344c3e929d00a2c1a84aa5a50c928bd...\n"
          ]
        },
        {
          "output_type": "display_data",
          "data": {
            "text/plain": [
              "Downloading data files:   0%|          | 0/2 [00:00<?, ?it/s]"
            ],
            "application/vnd.jupyter.widget-view+json": {
              "version_major": 2,
              "version_minor": 0,
              "model_id": "ae36cc3641314d24ad549fcb6e050941"
            }
          },
          "metadata": {}
        },
        {
          "output_type": "display_data",
          "data": {
            "text/plain": [
              "Downloading data:   0%|          | 0.00/466M [00:00<?, ?B/s]"
            ],
            "application/vnd.jupyter.widget-view+json": {
              "version_major": 2,
              "version_minor": 0,
              "model_id": "aaefb39586d74f5eaa2162ce9a8752a8"
            }
          },
          "metadata": {}
        },
        {
          "output_type": "display_data",
          "data": {
            "text/plain": [
              "Downloading data:   0%|          | 0.00/17.9M [00:00<?, ?B/s]"
            ],
            "application/vnd.jupyter.widget-view+json": {
              "version_major": 2,
              "version_minor": 0,
              "model_id": "f2a01c971bac44b691c759a31c8d2685"
            }
          },
          "metadata": {}
        },
        {
          "output_type": "display_data",
          "data": {
            "text/plain": [
              "Extracting data files:   0%|          | 0/2 [00:00<?, ?it/s]"
            ],
            "application/vnd.jupyter.widget-view+json": {
              "version_major": 2,
              "version_minor": 0,
              "model_id": "8fe293baf280490498e027b417e466b9"
            }
          },
          "metadata": {}
        },
        {
          "output_type": "display_data",
          "data": {
            "text/plain": [
              "Generating train split: 0 examples [00:00, ? examples/s]"
            ],
            "application/vnd.jupyter.widget-view+json": {
              "version_major": 2,
              "version_minor": 0,
              "model_id": "6fc18125f4634be28c4dfadf0e01a35d"
            }
          },
          "metadata": {}
        },
        {
          "output_type": "display_data",
          "data": {
            "text/plain": [
              "Generating test split: 0 examples [00:00, ? examples/s]"
            ],
            "application/vnd.jupyter.widget-view+json": {
              "version_major": 2,
              "version_minor": 0,
              "model_id": "dd91aeabd86f4947855920731171044d"
            }
          },
          "metadata": {}
        },
        {
          "output_type": "display_data",
          "data": {
            "text/plain": [
              "Generating validation split: 0 examples [00:00, ? examples/s]"
            ],
            "application/vnd.jupyter.widget-view+json": {
              "version_major": 2,
              "version_minor": 0,
              "model_id": "09f07cf4bf3a498480f036049f1a84d2"
            }
          },
          "metadata": {}
        },
        {
          "output_type": "stream",
          "name": "stdout",
          "text": [
            "Dataset xnli downloaded and prepared to /root/.cache/huggingface/datasets/xnli/default-language=vi/1.1.0/818164464f9c9fd15776ca8a00423b074344c3e929d00a2c1a84aa5a50c928bd. Subsequent calls will reuse this data.\n"
          ]
        },
        {
          "output_type": "display_data",
          "data": {
            "text/plain": [
              "  0%|          | 0/3 [00:00<?, ?it/s]"
            ],
            "application/vnd.jupyter.widget-view+json": {
              "version_major": 2,
              "version_minor": 0,
              "model_id": "a53e0f27eaf8425dad82dbe9008f882e"
            }
          },
          "metadata": {}
        }
      ]
    },
    {
      "cell_type": "code",
      "source": [
        "dataset"
      ],
      "metadata": {
        "colab": {
          "base_uri": "https://localhost:8080/"
        },
        "id": "mEvnQLFzfePA",
        "outputId": "51d0dce3-0628-4f45-e269-83cff8f0d95f"
      },
      "execution_count": null,
      "outputs": [
        {
          "output_type": "execute_result",
          "data": {
            "text/plain": [
              "DatasetDict({\n",
              "    train: Dataset({\n",
              "        features: ['premise', 'hypothesis', 'label'],\n",
              "        num_rows: 392702\n",
              "    })\n",
              "    test: Dataset({\n",
              "        features: ['premise', 'hypothesis', 'label'],\n",
              "        num_rows: 5010\n",
              "    })\n",
              "    validation: Dataset({\n",
              "        features: ['premise', 'hypothesis', 'label'],\n",
              "        num_rows: 2490\n",
              "    })\n",
              "})"
            ]
          },
          "metadata": {},
          "execution_count": 7
        }
      ]
    },
    {
      "cell_type": "code",
      "source": [
        "import pandas as pd"
      ],
      "metadata": {
        "id": "gQIMkGD_fVOV"
      },
      "execution_count": null,
      "outputs": []
    },
    {
      "cell_type": "code",
      "source": [
        "train=pd.DataFrame(dataset['train'])"
      ],
      "metadata": {
        "id": "_PjOd75melBe"
      },
      "execution_count": null,
      "outputs": []
    },
    {
      "cell_type": "code",
      "source": [
        "train=train.sample(frac=1)"
      ],
      "metadata": {
        "id": "jX41T2DMf4Tm"
      },
      "execution_count": null,
      "outputs": []
    },
    {
      "cell_type": "code",
      "source": [
        "len(train)//5"
      ],
      "metadata": {
        "colab": {
          "base_uri": "https://localhost:8080/"
        },
        "id": "-CHCw6ulgTG0",
        "outputId": "81ba1c74-162e-4ad4-944c-2752b6344dbd"
      },
      "execution_count": null,
      "outputs": [
        {
          "output_type": "execute_result",
          "data": {
            "text/plain": [
              "78540"
            ]
          },
          "metadata": {},
          "execution_count": 17
        }
      ]
    },
    {
      "cell_type": "code",
      "source": [
        "for i in range(5):\n",
        "  train_i=train.iloc[i*78540:(i+1)*78540]\n",
        "  train_i.to_csv(f'/content/drive/MyDrive/vi-nli/raw_dataset/train_{i}.csv',index=False)"
      ],
      "metadata": {
        "id": "VFJRMobagTJq"
      },
      "execution_count": null,
      "outputs": []
    },
    {
      "cell_type": "code",
      "source": [
        "valid=pd.DataFrame(dataset['validation'])"
      ],
      "metadata": {
        "id": "9VaG3TQSfm0t"
      },
      "execution_count": null,
      "outputs": []
    },
    {
      "cell_type": "code",
      "source": [
        "test=pd.DataFrame(dataset['test'])"
      ],
      "metadata": {
        "id": "Jd_FE70Af0gM"
      },
      "execution_count": null,
      "outputs": []
    },
    {
      "cell_type": "code",
      "source": [
        "valid.to_csv(\"/content/drive/MyDrive/vi-nli/raw_dataset/valid.csv\",index=False)"
      ],
      "metadata": {
        "id": "rBA7OM7Rf111"
      },
      "execution_count": null,
      "outputs": []
    },
    {
      "cell_type": "code",
      "source": [
        "test.to_csv(\"/content/drive/MyDrive/vi-nli/raw_dataset/test.csv\",index=False)"
      ],
      "metadata": {
        "id": "_XYoHq-kgIfu"
      },
      "execution_count": null,
      "outputs": []
    },
    {
      "cell_type": "markdown",
      "source": [
        "#Import modules"
      ],
      "metadata": {
        "id": "qxr3FFXBg2uk"
      }
    },
    {
      "cell_type": "code",
      "source": [
        "import pandas as pd\n",
        "import re\n",
        "import string\n",
        "from transformers import AutoTokenizer,AutoConfig,AutoModelForSequenceClassification,get_linear_schedule_with_warmup\n",
        "import matplotlib.pyplot as plt\n",
        "from os.path import join\n",
        "import os\n",
        "from torch.utils.data import DataLoader, Dataset\n",
        "import torch\n",
        "from tqdm.auto import tqdm\n",
        "import numpy as np"
      ],
      "metadata": {
        "id": "zBIDGnSpg4-k"
      },
      "execution_count": null,
      "outputs": []
    },
    {
      "cell_type": "code",
      "source": [
        "device = torch.device(\"cuda\" if torch.cuda.is_available() else \"cpu\")\n",
        "device"
      ],
      "metadata": {
        "colab": {
          "base_uri": "https://localhost:8080/"
        },
        "id": "6bHpp2_qyB0_",
        "outputId": "6ebacf88-a6b4-4847-b666-f414a2f551ab"
      },
      "execution_count": null,
      "outputs": [
        {
          "output_type": "execute_result",
          "data": {
            "text/plain": [
              "device(type='cuda')"
            ]
          },
          "metadata": {},
          "execution_count": 2
        }
      ]
    },
    {
      "cell_type": "code",
      "source": [
        "name='xlm-roberta-base'\n",
        "max_length=256\n",
        "\n",
        "root='/content/drive/MyDrive/vi-nli'\n",
        "preprocessed_data=join(root,\"preprocessed_data\")\n",
        "models=join(root,'models')\n",
        "model_name=join(models,f'{name}-{max_length}')"
      ],
      "metadata": {
        "id": "zYeg3HYRpDaz"
      },
      "execution_count": null,
      "outputs": []
    },
    {
      "cell_type": "code",
      "source": [
        "os.makedirs(preprocessed_data, exist_ok=True)"
      ],
      "metadata": {
        "id": "bQrKjLUuvB5n"
      },
      "execution_count": null,
      "outputs": []
    },
    {
      "cell_type": "code",
      "source": [
        "tokenizer = AutoTokenizer.from_pretrained(name)"
      ],
      "metadata": {
        "id": "k9gbUY2Wo9Us"
      },
      "execution_count": null,
      "outputs": []
    },
    {
      "cell_type": "markdown",
      "source": [
        "#Load dataset"
      ],
      "metadata": {
        "id": "8NXImQndgwGu"
      }
    },
    {
      "cell_type": "code",
      "source": [
        "train=pd.read_csv(\"/content/drive/MyDrive/vi-nli/raw_dataset/train_0.csv\")"
      ],
      "metadata": {
        "id": "CaKGRSoWgxWE"
      },
      "execution_count": null,
      "outputs": []
    },
    {
      "cell_type": "code",
      "source": [
        "train"
      ],
      "metadata": {
        "colab": {
          "base_uri": "https://localhost:8080/",
          "height": 424
        },
        "id": "kvBZmCpCg8fc",
        "outputId": "0264aff0-7afb-44c4-9a69-8f931bf5b9f6"
      },
      "execution_count": null,
      "outputs": [
        {
          "output_type": "execute_result",
          "data": {
            "text/plain": [
              "                                                 premise  \\\n",
              "0      Vì vậy , nhưng đó cũng là khoảng thời gian bạn...   \n",
              "1           Đó có phải là những gì họ có ý nghĩa không ?   \n",
              "2      Nhưng câu chuyện không thực sự nằm trong quá t...   \n",
              "3      Sau khi bị tổn thương động đất sớm hơn , ngôi ...   \n",
              "4      Tôi không đặt mỗi trăm phần trăm cổ phiếu vào ...   \n",
              "...                                                  ...   \n",
              "78535  Chúng tôi chỉ đang cố gắng nói chuyện của chún...   \n",
              "78536     Vâng à smith đã đi trên khá tốt wright đã được   \n",
              "78537                        Bây giờ nó sẽ rất đáng sợ .   \n",
              "78538  Mọi thứ sẽ đến một điểm mà nó sẽ có thể đến mộ...   \n",
              "78539  Hơn nữa , các mạng giám sát môi trường theo dõ...   \n",
              "\n",
              "                                              hypothesis  label  \n",
              "0      Thật khó để trở thành dân sự khi anh bị kẹt ở ...      1  \n",
              "1                         Họ có nghĩa là thế này không ?      0  \n",
              "2      Quy trình thuốc lá rulemaking đã được chatterb...      1  \n",
              "3      Ngôi đền đã trở thành ngân khố của thành phố s...      0  \n",
              "4      Tôi không hoàn toàn tin những gì anh ta đang n...      0  \n",
              "...                                                  ...    ...  \n",
              "78535  Chúng tôi đang cố gắng nói chuyện với chúng tô...      2  \n",
              "78536                     Smith đã trở nên khủng khiếp .      2  \n",
              "78537  Đó sẽ là trải nghiệm đáng sợ nhất mà tôi có th...      1  \n",
              "78538               Người ta sẽ không cần cảnh sát đâu .      0  \n",
              "78539          Lời khai axit có liên quan đến mưa axit .      1  \n",
              "\n",
              "[78540 rows x 3 columns]"
            ],
            "text/html": [
              "\n",
              "  <div id=\"df-54cb090c-3ce7-458a-920c-514759f529cd\">\n",
              "    <div class=\"colab-df-container\">\n",
              "      <div>\n",
              "<style scoped>\n",
              "    .dataframe tbody tr th:only-of-type {\n",
              "        vertical-align: middle;\n",
              "    }\n",
              "\n",
              "    .dataframe tbody tr th {\n",
              "        vertical-align: top;\n",
              "    }\n",
              "\n",
              "    .dataframe thead th {\n",
              "        text-align: right;\n",
              "    }\n",
              "</style>\n",
              "<table border=\"1\" class=\"dataframe\">\n",
              "  <thead>\n",
              "    <tr style=\"text-align: right;\">\n",
              "      <th></th>\n",
              "      <th>premise</th>\n",
              "      <th>hypothesis</th>\n",
              "      <th>label</th>\n",
              "    </tr>\n",
              "  </thead>\n",
              "  <tbody>\n",
              "    <tr>\n",
              "      <th>0</th>\n",
              "      <td>Vì vậy , nhưng đó cũng là khoảng thời gian bạn...</td>\n",
              "      <td>Thật khó để trở thành dân sự khi anh bị kẹt ở ...</td>\n",
              "      <td>1</td>\n",
              "    </tr>\n",
              "    <tr>\n",
              "      <th>1</th>\n",
              "      <td>Đó có phải là những gì họ có ý nghĩa không ?</td>\n",
              "      <td>Họ có nghĩa là thế này không ?</td>\n",
              "      <td>0</td>\n",
              "    </tr>\n",
              "    <tr>\n",
              "      <th>2</th>\n",
              "      <td>Nhưng câu chuyện không thực sự nằm trong quá t...</td>\n",
              "      <td>Quy trình thuốc lá rulemaking đã được chatterb...</td>\n",
              "      <td>1</td>\n",
              "    </tr>\n",
              "    <tr>\n",
              "      <th>3</th>\n",
              "      <td>Sau khi bị tổn thương động đất sớm hơn , ngôi ...</td>\n",
              "      <td>Ngôi đền đã trở thành ngân khố của thành phố s...</td>\n",
              "      <td>0</td>\n",
              "    </tr>\n",
              "    <tr>\n",
              "      <th>4</th>\n",
              "      <td>Tôi không đặt mỗi trăm phần trăm cổ phiếu vào ...</td>\n",
              "      <td>Tôi không hoàn toàn tin những gì anh ta đang n...</td>\n",
              "      <td>0</td>\n",
              "    </tr>\n",
              "    <tr>\n",
              "      <th>...</th>\n",
              "      <td>...</td>\n",
              "      <td>...</td>\n",
              "      <td>...</td>\n",
              "    </tr>\n",
              "    <tr>\n",
              "      <th>78535</th>\n",
              "      <td>Chúng tôi chỉ đang cố gắng nói chuyện của chún...</td>\n",
              "      <td>Chúng tôi đang cố gắng nói chuyện với chúng tô...</td>\n",
              "      <td>2</td>\n",
              "    </tr>\n",
              "    <tr>\n",
              "      <th>78536</th>\n",
              "      <td>Vâng à smith đã đi trên khá tốt wright đã được</td>\n",
              "      <td>Smith đã trở nên khủng khiếp .</td>\n",
              "      <td>2</td>\n",
              "    </tr>\n",
              "    <tr>\n",
              "      <th>78537</th>\n",
              "      <td>Bây giờ nó sẽ rất đáng sợ .</td>\n",
              "      <td>Đó sẽ là trải nghiệm đáng sợ nhất mà tôi có th...</td>\n",
              "      <td>1</td>\n",
              "    </tr>\n",
              "    <tr>\n",
              "      <th>78538</th>\n",
              "      <td>Mọi thứ sẽ đến một điểm mà nó sẽ có thể đến mộ...</td>\n",
              "      <td>Người ta sẽ không cần cảnh sát đâu .</td>\n",
              "      <td>0</td>\n",
              "    </tr>\n",
              "    <tr>\n",
              "      <th>78539</th>\n",
              "      <td>Hơn nữa , các mạng giám sát môi trường theo dõ...</td>\n",
              "      <td>Lời khai axit có liên quan đến mưa axit .</td>\n",
              "      <td>1</td>\n",
              "    </tr>\n",
              "  </tbody>\n",
              "</table>\n",
              "<p>78540 rows × 3 columns</p>\n",
              "</div>\n",
              "      <button class=\"colab-df-convert\" onclick=\"convertToInteractive('df-54cb090c-3ce7-458a-920c-514759f529cd')\"\n",
              "              title=\"Convert this dataframe to an interactive table.\"\n",
              "              style=\"display:none;\">\n",
              "        \n",
              "  <svg xmlns=\"http://www.w3.org/2000/svg\" height=\"24px\"viewBox=\"0 0 24 24\"\n",
              "       width=\"24px\">\n",
              "    <path d=\"M0 0h24v24H0V0z\" fill=\"none\"/>\n",
              "    <path d=\"M18.56 5.44l.94 2.06.94-2.06 2.06-.94-2.06-.94-.94-2.06-.94 2.06-2.06.94zm-11 1L8.5 8.5l.94-2.06 2.06-.94-2.06-.94L8.5 2.5l-.94 2.06-2.06.94zm10 10l.94 2.06.94-2.06 2.06-.94-2.06-.94-.94-2.06-.94 2.06-2.06.94z\"/><path d=\"M17.41 7.96l-1.37-1.37c-.4-.4-.92-.59-1.43-.59-.52 0-1.04.2-1.43.59L10.3 9.45l-7.72 7.72c-.78.78-.78 2.05 0 2.83L4 21.41c.39.39.9.59 1.41.59.51 0 1.02-.2 1.41-.59l7.78-7.78 2.81-2.81c.8-.78.8-2.07 0-2.86zM5.41 20L4 18.59l7.72-7.72 1.47 1.35L5.41 20z\"/>\n",
              "  </svg>\n",
              "      </button>\n",
              "      \n",
              "  <style>\n",
              "    .colab-df-container {\n",
              "      display:flex;\n",
              "      flex-wrap:wrap;\n",
              "      gap: 12px;\n",
              "    }\n",
              "\n",
              "    .colab-df-convert {\n",
              "      background-color: #E8F0FE;\n",
              "      border: none;\n",
              "      border-radius: 50%;\n",
              "      cursor: pointer;\n",
              "      display: none;\n",
              "      fill: #1967D2;\n",
              "      height: 32px;\n",
              "      padding: 0 0 0 0;\n",
              "      width: 32px;\n",
              "    }\n",
              "\n",
              "    .colab-df-convert:hover {\n",
              "      background-color: #E2EBFA;\n",
              "      box-shadow: 0px 1px 2px rgba(60, 64, 67, 0.3), 0px 1px 3px 1px rgba(60, 64, 67, 0.15);\n",
              "      fill: #174EA6;\n",
              "    }\n",
              "\n",
              "    [theme=dark] .colab-df-convert {\n",
              "      background-color: #3B4455;\n",
              "      fill: #D2E3FC;\n",
              "    }\n",
              "\n",
              "    [theme=dark] .colab-df-convert:hover {\n",
              "      background-color: #434B5C;\n",
              "      box-shadow: 0px 1px 3px 1px rgba(0, 0, 0, 0.15);\n",
              "      filter: drop-shadow(0px 1px 2px rgba(0, 0, 0, 0.3));\n",
              "      fill: #FFFFFF;\n",
              "    }\n",
              "  </style>\n",
              "\n",
              "      <script>\n",
              "        const buttonEl =\n",
              "          document.querySelector('#df-54cb090c-3ce7-458a-920c-514759f529cd button.colab-df-convert');\n",
              "        buttonEl.style.display =\n",
              "          google.colab.kernel.accessAllowed ? 'block' : 'none';\n",
              "\n",
              "        async function convertToInteractive(key) {\n",
              "          const element = document.querySelector('#df-54cb090c-3ce7-458a-920c-514759f529cd');\n",
              "          const dataTable =\n",
              "            await google.colab.kernel.invokeFunction('convertToInteractive',\n",
              "                                                     [key], {});\n",
              "          if (!dataTable) return;\n",
              "\n",
              "          const docLinkHtml = 'Like what you see? Visit the ' +\n",
              "            '<a target=\"_blank\" href=https://colab.research.google.com/notebooks/data_table.ipynb>data table notebook</a>'\n",
              "            + ' to learn more about interactive tables.';\n",
              "          element.innerHTML = '';\n",
              "          dataTable['output_type'] = 'display_data';\n",
              "          await google.colab.output.renderOutput(dataTable, element);\n",
              "          const docLink = document.createElement('div');\n",
              "          docLink.innerHTML = docLinkHtml;\n",
              "          element.appendChild(docLink);\n",
              "        }\n",
              "      </script>\n",
              "    </div>\n",
              "  </div>\n",
              "  "
            ]
          },
          "metadata": {},
          "execution_count": 10
        }
      ]
    },
    {
      "cell_type": "code",
      "source": [
        "valid=pd.read_csv(\"/content/drive/MyDrive/vi-nli/raw_dataset/valid.csv\")\n",
        "test=pd.read_csv(\"/content/drive/MyDrive/vi-nli/raw_dataset/test.csv\")"
      ],
      "metadata": {
        "id": "jxR3iy0Cg9c6"
      },
      "execution_count": null,
      "outputs": []
    },
    {
      "cell_type": "markdown",
      "source": [
        "##Preprocessing"
      ],
      "metadata": {
        "id": "2s5YmrKthjq4"
      }
    },
    {
      "cell_type": "code",
      "source": [
        "punctuations=list(string.punctuation)"
      ],
      "metadata": {
        "id": "HYZixfc6ii0r"
      },
      "execution_count": null,
      "outputs": []
    },
    {
      "cell_type": "code",
      "source": [
        "def normalizer(text):\n",
        "\n",
        "  def remove_meaningless_token(s):\n",
        "    return re.sub(r'\\b(jeez|yeah|uhhuh|uh|oh|huh)\\b',' ',s)\n",
        "  def uncased(s):\n",
        "    return s.lower()\n",
        "\n",
        "  def fix_whitespaces(s):\n",
        "    return re.sub(r'\\s+',' ',s)\n",
        "\n",
        "  def remove_punctuations(s):\n",
        "    chs=[]\n",
        "    for ch in s:\n",
        "      if ch not in punctuations:\n",
        "        chs.append(ch)\n",
        "      else:\n",
        "        chs.append(\" \")\n",
        "    return \"\".join(chs)\n",
        "\n",
        "  return fix_whitespaces(remove_meaningless_token(uncased(remove_punctuations(text)))).strip()"
      ],
      "metadata": {
        "id": "zbceZslthg1V"
      },
      "execution_count": null,
      "outputs": []
    },
    {
      "cell_type": "code",
      "source": [
        "train['clean_premise']=train['premise'].map(normalizer)"
      ],
      "metadata": {
        "id": "C0rKvEAJhjBI"
      },
      "execution_count": null,
      "outputs": []
    },
    {
      "cell_type": "code",
      "source": [
        "valid['clean_premise']=valid['premise'].map(normalizer)"
      ],
      "metadata": {
        "id": "ZycFaTSb98au"
      },
      "execution_count": null,
      "outputs": []
    },
    {
      "cell_type": "code",
      "source": [
        "train['clean_hypothesis']=train['hypothesis'].map(normalizer)"
      ],
      "metadata": {
        "id": "0lb5KSglm4GS"
      },
      "execution_count": null,
      "outputs": []
    },
    {
      "cell_type": "code",
      "source": [
        "valid['clean_hypothesis']=valid['hypothesis'].map(normalizer)"
      ],
      "metadata": {
        "id": "2q4YciDS9-nX"
      },
      "execution_count": null,
      "outputs": []
    },
    {
      "cell_type": "code",
      "source": [
        "def seperate_sentence(s):\n",
        "  return tokenizer.tokenize(s)"
      ],
      "metadata": {
        "id": "CG0Ej3rVo2kk"
      },
      "execution_count": null,
      "outputs": []
    },
    {
      "cell_type": "code",
      "source": [
        "def get_seq_len(s):\n",
        "  tokens=seperate_sentence(s)\n",
        "  return len(tokens)"
      ],
      "metadata": {
        "id": "tnkUEBdRpMGR"
      },
      "execution_count": null,
      "outputs": []
    },
    {
      "cell_type": "code",
      "source": [
        "train['premise_seq_len']=train['clean_premise'].map(get_seq_len)\n",
        "train['hypothesis_seq_len']=train['clean_hypothesis'].map(get_seq_len)"
      ],
      "metadata": {
        "id": "1bzzno-snErl"
      },
      "execution_count": null,
      "outputs": []
    },
    {
      "cell_type": "code",
      "source": [
        "valid['premise_seq_len']=valid['clean_premise'].map(get_seq_len)\n",
        "valid['hypothesis_seq_len']=valid['clean_hypothesis'].map(get_seq_len)"
      ],
      "metadata": {
        "id": "e47MW51395dy"
      },
      "execution_count": null,
      "outputs": []
    },
    {
      "cell_type": "code",
      "source": [
        "def seq_len_visualizer(x,y):\n",
        "  fig, ax = plt.subplots(1, 1, sharex=True, sharey=True,figsize=(20,20))\n",
        "  ax.bar(x,y)\n",
        "  fig.show()"
      ],
      "metadata": {
        "id": "OD-qjYc9r3IR"
      },
      "execution_count": null,
      "outputs": []
    },
    {
      "cell_type": "code",
      "source": [
        "max(train['premise_seq_len'].unique()),max(train['hypothesis_seq_len'].unique())"
      ],
      "metadata": {
        "colab": {
          "base_uri": "https://localhost:8080/"
        },
        "id": "H7MnfV8EqB-L",
        "outputId": "269f41bc-d374-4029-d7f4-fa5c07d2ba79"
      },
      "execution_count": null,
      "outputs": [
        {
          "output_type": "execute_result",
          "data": {
            "text/plain": [
              "(440, 86)"
            ]
          },
          "metadata": {},
          "execution_count": 29
        }
      ]
    },
    {
      "cell_type": "code",
      "source": [
        "max(valid['premise_seq_len'].unique()),max(valid['hypothesis_seq_len'].unique())"
      ],
      "metadata": {
        "colab": {
          "base_uri": "https://localhost:8080/"
        },
        "id": "dNnoUUY--Cds",
        "outputId": "e2d6dd8d-687c-4e55-e995-247220849b54"
      },
      "execution_count": null,
      "outputs": [
        {
          "output_type": "execute_result",
          "data": {
            "text/plain": [
              "(77, 37)"
            ]
          },
          "metadata": {},
          "execution_count": 30
        }
      ]
    },
    {
      "cell_type": "code",
      "source": [
        "min(train['premise_seq_len'].unique()),min(train['hypothesis_seq_len'].unique())"
      ],
      "metadata": {
        "colab": {
          "base_uri": "https://localhost:8080/"
        },
        "id": "EjKDnTiNyixb",
        "outputId": "5b420d1a-3c4a-42eb-db3f-740ebca160ba"
      },
      "execution_count": null,
      "outputs": [
        {
          "output_type": "execute_result",
          "data": {
            "text/plain": [
              "(0, 1)"
            ]
          },
          "metadata": {},
          "execution_count": 31
        }
      ]
    },
    {
      "cell_type": "code",
      "source": [
        "min(valid['premise_seq_len'].unique()),min(valid['hypothesis_seq_len'].unique())"
      ],
      "metadata": {
        "colab": {
          "base_uri": "https://localhost:8080/"
        },
        "id": "61NwNy4T-EXK",
        "outputId": "cbe4899d-fe45-493f-db9d-67008bfd0e3c"
      },
      "execution_count": null,
      "outputs": [
        {
          "output_type": "execute_result",
          "data": {
            "text/plain": [
              "(4, 2)"
            ]
          },
          "metadata": {},
          "execution_count": 32
        }
      ]
    },
    {
      "cell_type": "code",
      "source": [
        "train=train[~(train['premise_seq_len']==0)]"
      ],
      "metadata": {
        "id": "1_r2daVlyz8F"
      },
      "execution_count": null,
      "outputs": []
    },
    {
      "cell_type": "code",
      "source": [
        "train=train[~(train['hypothesis_seq_len']==0)]"
      ],
      "metadata": {
        "id": "8AxyiFfQ2Rp_"
      },
      "execution_count": null,
      "outputs": []
    },
    {
      "cell_type": "code",
      "source": [
        "valid[(valid['premise_seq_len']==0)]"
      ],
      "metadata": {
        "colab": {
          "base_uri": "https://localhost:8080/",
          "height": 49
        },
        "id": "IvRN_x87Dxdl",
        "outputId": "c7b36d1f-ed9e-4838-c295-ec220f47c4d7"
      },
      "execution_count": null,
      "outputs": [
        {
          "output_type": "execute_result",
          "data": {
            "text/plain": [
              "Empty DataFrame\n",
              "Columns: [premise, hypothesis, label, clean_premise, clean_hypothesis, premise_seq_len, hypothesis_seq_len]\n",
              "Index: []"
            ],
            "text/html": [
              "\n",
              "  <div id=\"df-8678f78a-8cd8-4ef5-a744-d5f1e795b073\">\n",
              "    <div class=\"colab-df-container\">\n",
              "      <div>\n",
              "<style scoped>\n",
              "    .dataframe tbody tr th:only-of-type {\n",
              "        vertical-align: middle;\n",
              "    }\n",
              "\n",
              "    .dataframe tbody tr th {\n",
              "        vertical-align: top;\n",
              "    }\n",
              "\n",
              "    .dataframe thead th {\n",
              "        text-align: right;\n",
              "    }\n",
              "</style>\n",
              "<table border=\"1\" class=\"dataframe\">\n",
              "  <thead>\n",
              "    <tr style=\"text-align: right;\">\n",
              "      <th></th>\n",
              "      <th>premise</th>\n",
              "      <th>hypothesis</th>\n",
              "      <th>label</th>\n",
              "      <th>clean_premise</th>\n",
              "      <th>clean_hypothesis</th>\n",
              "      <th>premise_seq_len</th>\n",
              "      <th>hypothesis_seq_len</th>\n",
              "    </tr>\n",
              "  </thead>\n",
              "  <tbody>\n",
              "  </tbody>\n",
              "</table>\n",
              "</div>\n",
              "      <button class=\"colab-df-convert\" onclick=\"convertToInteractive('df-8678f78a-8cd8-4ef5-a744-d5f1e795b073')\"\n",
              "              title=\"Convert this dataframe to an interactive table.\"\n",
              "              style=\"display:none;\">\n",
              "        \n",
              "  <svg xmlns=\"http://www.w3.org/2000/svg\" height=\"24px\"viewBox=\"0 0 24 24\"\n",
              "       width=\"24px\">\n",
              "    <path d=\"M0 0h24v24H0V0z\" fill=\"none\"/>\n",
              "    <path d=\"M18.56 5.44l.94 2.06.94-2.06 2.06-.94-2.06-.94-.94-2.06-.94 2.06-2.06.94zm-11 1L8.5 8.5l.94-2.06 2.06-.94-2.06-.94L8.5 2.5l-.94 2.06-2.06.94zm10 10l.94 2.06.94-2.06 2.06-.94-2.06-.94-.94-2.06-.94 2.06-2.06.94z\"/><path d=\"M17.41 7.96l-1.37-1.37c-.4-.4-.92-.59-1.43-.59-.52 0-1.04.2-1.43.59L10.3 9.45l-7.72 7.72c-.78.78-.78 2.05 0 2.83L4 21.41c.39.39.9.59 1.41.59.51 0 1.02-.2 1.41-.59l7.78-7.78 2.81-2.81c.8-.78.8-2.07 0-2.86zM5.41 20L4 18.59l7.72-7.72 1.47 1.35L5.41 20z\"/>\n",
              "  </svg>\n",
              "      </button>\n",
              "      \n",
              "  <style>\n",
              "    .colab-df-container {\n",
              "      display:flex;\n",
              "      flex-wrap:wrap;\n",
              "      gap: 12px;\n",
              "    }\n",
              "\n",
              "    .colab-df-convert {\n",
              "      background-color: #E8F0FE;\n",
              "      border: none;\n",
              "      border-radius: 50%;\n",
              "      cursor: pointer;\n",
              "      display: none;\n",
              "      fill: #1967D2;\n",
              "      height: 32px;\n",
              "      padding: 0 0 0 0;\n",
              "      width: 32px;\n",
              "    }\n",
              "\n",
              "    .colab-df-convert:hover {\n",
              "      background-color: #E2EBFA;\n",
              "      box-shadow: 0px 1px 2px rgba(60, 64, 67, 0.3), 0px 1px 3px 1px rgba(60, 64, 67, 0.15);\n",
              "      fill: #174EA6;\n",
              "    }\n",
              "\n",
              "    [theme=dark] .colab-df-convert {\n",
              "      background-color: #3B4455;\n",
              "      fill: #D2E3FC;\n",
              "    }\n",
              "\n",
              "    [theme=dark] .colab-df-convert:hover {\n",
              "      background-color: #434B5C;\n",
              "      box-shadow: 0px 1px 3px 1px rgba(0, 0, 0, 0.15);\n",
              "      filter: drop-shadow(0px 1px 2px rgba(0, 0, 0, 0.3));\n",
              "      fill: #FFFFFF;\n",
              "    }\n",
              "  </style>\n",
              "\n",
              "      <script>\n",
              "        const buttonEl =\n",
              "          document.querySelector('#df-8678f78a-8cd8-4ef5-a744-d5f1e795b073 button.colab-df-convert');\n",
              "        buttonEl.style.display =\n",
              "          google.colab.kernel.accessAllowed ? 'block' : 'none';\n",
              "\n",
              "        async function convertToInteractive(key) {\n",
              "          const element = document.querySelector('#df-8678f78a-8cd8-4ef5-a744-d5f1e795b073');\n",
              "          const dataTable =\n",
              "            await google.colab.kernel.invokeFunction('convertToInteractive',\n",
              "                                                     [key], {});\n",
              "          if (!dataTable) return;\n",
              "\n",
              "          const docLinkHtml = 'Like what you see? Visit the ' +\n",
              "            '<a target=\"_blank\" href=https://colab.research.google.com/notebooks/data_table.ipynb>data table notebook</a>'\n",
              "            + ' to learn more about interactive tables.';\n",
              "          element.innerHTML = '';\n",
              "          dataTable['output_type'] = 'display_data';\n",
              "          await google.colab.output.renderOutput(dataTable, element);\n",
              "          const docLink = document.createElement('div');\n",
              "          docLink.innerHTML = docLinkHtml;\n",
              "          element.appendChild(docLink);\n",
              "        }\n",
              "      </script>\n",
              "    </div>\n",
              "  </div>\n",
              "  "
            ]
          },
          "metadata": {},
          "execution_count": 35
        }
      ]
    },
    {
      "cell_type": "code",
      "source": [
        "valid[(valid['hypothesis_seq_len']==0)]"
      ],
      "metadata": {
        "colab": {
          "base_uri": "https://localhost:8080/",
          "height": 49
        },
        "id": "2xoR7Yh6D2Lf",
        "outputId": "25dba29c-06cb-4432-9944-6e83bd2c42ab"
      },
      "execution_count": null,
      "outputs": [
        {
          "output_type": "execute_result",
          "data": {
            "text/plain": [
              "Empty DataFrame\n",
              "Columns: [premise, hypothesis, label, clean_premise, clean_hypothesis, premise_seq_len, hypothesis_seq_len]\n",
              "Index: []"
            ],
            "text/html": [
              "\n",
              "  <div id=\"df-af7394e7-a850-410b-b140-ee01a9ac85dc\">\n",
              "    <div class=\"colab-df-container\">\n",
              "      <div>\n",
              "<style scoped>\n",
              "    .dataframe tbody tr th:only-of-type {\n",
              "        vertical-align: middle;\n",
              "    }\n",
              "\n",
              "    .dataframe tbody tr th {\n",
              "        vertical-align: top;\n",
              "    }\n",
              "\n",
              "    .dataframe thead th {\n",
              "        text-align: right;\n",
              "    }\n",
              "</style>\n",
              "<table border=\"1\" class=\"dataframe\">\n",
              "  <thead>\n",
              "    <tr style=\"text-align: right;\">\n",
              "      <th></th>\n",
              "      <th>premise</th>\n",
              "      <th>hypothesis</th>\n",
              "      <th>label</th>\n",
              "      <th>clean_premise</th>\n",
              "      <th>clean_hypothesis</th>\n",
              "      <th>premise_seq_len</th>\n",
              "      <th>hypothesis_seq_len</th>\n",
              "    </tr>\n",
              "  </thead>\n",
              "  <tbody>\n",
              "  </tbody>\n",
              "</table>\n",
              "</div>\n",
              "      <button class=\"colab-df-convert\" onclick=\"convertToInteractive('df-af7394e7-a850-410b-b140-ee01a9ac85dc')\"\n",
              "              title=\"Convert this dataframe to an interactive table.\"\n",
              "              style=\"display:none;\">\n",
              "        \n",
              "  <svg xmlns=\"http://www.w3.org/2000/svg\" height=\"24px\"viewBox=\"0 0 24 24\"\n",
              "       width=\"24px\">\n",
              "    <path d=\"M0 0h24v24H0V0z\" fill=\"none\"/>\n",
              "    <path d=\"M18.56 5.44l.94 2.06.94-2.06 2.06-.94-2.06-.94-.94-2.06-.94 2.06-2.06.94zm-11 1L8.5 8.5l.94-2.06 2.06-.94-2.06-.94L8.5 2.5l-.94 2.06-2.06.94zm10 10l.94 2.06.94-2.06 2.06-.94-2.06-.94-.94-2.06-.94 2.06-2.06.94z\"/><path d=\"M17.41 7.96l-1.37-1.37c-.4-.4-.92-.59-1.43-.59-.52 0-1.04.2-1.43.59L10.3 9.45l-7.72 7.72c-.78.78-.78 2.05 0 2.83L4 21.41c.39.39.9.59 1.41.59.51 0 1.02-.2 1.41-.59l7.78-7.78 2.81-2.81c.8-.78.8-2.07 0-2.86zM5.41 20L4 18.59l7.72-7.72 1.47 1.35L5.41 20z\"/>\n",
              "  </svg>\n",
              "      </button>\n",
              "      \n",
              "  <style>\n",
              "    .colab-df-container {\n",
              "      display:flex;\n",
              "      flex-wrap:wrap;\n",
              "      gap: 12px;\n",
              "    }\n",
              "\n",
              "    .colab-df-convert {\n",
              "      background-color: #E8F0FE;\n",
              "      border: none;\n",
              "      border-radius: 50%;\n",
              "      cursor: pointer;\n",
              "      display: none;\n",
              "      fill: #1967D2;\n",
              "      height: 32px;\n",
              "      padding: 0 0 0 0;\n",
              "      width: 32px;\n",
              "    }\n",
              "\n",
              "    .colab-df-convert:hover {\n",
              "      background-color: #E2EBFA;\n",
              "      box-shadow: 0px 1px 2px rgba(60, 64, 67, 0.3), 0px 1px 3px 1px rgba(60, 64, 67, 0.15);\n",
              "      fill: #174EA6;\n",
              "    }\n",
              "\n",
              "    [theme=dark] .colab-df-convert {\n",
              "      background-color: #3B4455;\n",
              "      fill: #D2E3FC;\n",
              "    }\n",
              "\n",
              "    [theme=dark] .colab-df-convert:hover {\n",
              "      background-color: #434B5C;\n",
              "      box-shadow: 0px 1px 3px 1px rgba(0, 0, 0, 0.15);\n",
              "      filter: drop-shadow(0px 1px 2px rgba(0, 0, 0, 0.3));\n",
              "      fill: #FFFFFF;\n",
              "    }\n",
              "  </style>\n",
              "\n",
              "      <script>\n",
              "        const buttonEl =\n",
              "          document.querySelector('#df-af7394e7-a850-410b-b140-ee01a9ac85dc button.colab-df-convert');\n",
              "        buttonEl.style.display =\n",
              "          google.colab.kernel.accessAllowed ? 'block' : 'none';\n",
              "\n",
              "        async function convertToInteractive(key) {\n",
              "          const element = document.querySelector('#df-af7394e7-a850-410b-b140-ee01a9ac85dc');\n",
              "          const dataTable =\n",
              "            await google.colab.kernel.invokeFunction('convertToInteractive',\n",
              "                                                     [key], {});\n",
              "          if (!dataTable) return;\n",
              "\n",
              "          const docLinkHtml = 'Like what you see? Visit the ' +\n",
              "            '<a target=\"_blank\" href=https://colab.research.google.com/notebooks/data_table.ipynb>data table notebook</a>'\n",
              "            + ' to learn more about interactive tables.';\n",
              "          element.innerHTML = '';\n",
              "          dataTable['output_type'] = 'display_data';\n",
              "          await google.colab.output.renderOutput(dataTable, element);\n",
              "          const docLink = document.createElement('div');\n",
              "          docLink.innerHTML = docLinkHtml;\n",
              "          element.appendChild(docLink);\n",
              "        }\n",
              "      </script>\n",
              "    </div>\n",
              "  </div>\n",
              "  "
            ]
          },
          "metadata": {},
          "execution_count": 36
        }
      ]
    },
    {
      "cell_type": "code",
      "source": [
        "samples1=train['clean_premise'].tolist()[:100]\n",
        "samples2=train['clean_hypothesis'].tolist()[:100]\n",
        "for i in range(100):\n",
        "  print(samples1[i])\n",
        "  print(samples2[i])\n",
        "  print('\\n')\n",
        "  "
      ],
      "metadata": {
        "colab": {
          "base_uri": "https://localhost:8080/"
        },
        "id": "G5cr7GXdzG0E",
        "outputId": "082ca688-4986-44f7-d36f-adc99af64009"
      },
      "execution_count": null,
      "outputs": [
        {
          "output_type": "stream",
          "name": "stdout",
          "text": [
            "vì vậy nhưng đó cũng là khoảng thời gian bạn bắt đầu bị sốt cabin\n",
            "thật khó để trở thành dân sự khi anh bị kẹt ở một nơi với một người khác\n",
            "\n",
            "\n",
            "đó có phải là những gì họ có ý nghĩa không\n",
            "họ có nghĩa là thế này không\n",
            "\n",
            "\n",
            "nhưng câu chuyện không thực sự nằm trong quá trình thuốc lá trong quá trình thực phẩm và quản trị viên ma túy đó là một phần của câu chuyện\n",
            "quy trình thuốc lá rulemaking đã được chatterbox là mảnh của câu chuyện và là trung tâm trên câu chuyện theo các nhà phê bình\n",
            "\n",
            "\n",
            "sau khi bị tổn thương động đất sớm hơn ngôi đền được sử dụng như bộ ngân khố capitolium và thành phố\n",
            "ngôi đền đã trở thành ngân khố của thành phố sau khi bị tổn thương động đất sớm hơn\n",
            "\n",
            "\n",
            "tôi không đặt mỗi trăm phần trăm cổ phiếu vào những gì anh ta nói nhưng tôi không đặt hàng trăm phần trăm vào những gì\n",
            "tôi không hoàn toàn tin những gì anh ta đang nòi\n",
            "\n",
            "\n",
            "thời đại vàng cho xã hội minoan được biết đến với tư cách là kỷ nguyên cung điện mới kéo dài 300 năm\n",
            "kỷ nguyên cung điện mới đó là thời đại vàng cho xã hội minoan kéo dài chính xác 173 năm\n",
            "\n",
            "\n",
            "công việc của gao đã cho thấy rằng\n",
            "công việc của gao đã cho thấy ngân sách liên bang quan trọng như thế nào\n",
            "\n",
            "\n",
            "nó giống như bất động sản ở bờ sông hay gì đó nếu bạn là bạn biết nếu bạn đang ở cách đây hai dặm\n",
            "tương tự với bất động sản gần với một cơ thể của nước nếu nó không phải là rất gần nước\n",
            "\n",
            "\n",
            "the khổng lồ palais de công lý trái tim của hệ thống pháp lý tập trung của pháp đứng trên trang web của cung điện la mã nơi hoàng đế julian được vương miện vào năm 360\n",
            "công lý palais de công lý là trái tim của hệ thống pháp lý pháp\n",
            "\n",
            "\n",
            "cô ấy không la hét\n",
            "cô ấy không hét lên\n",
            "\n",
            "\n",
            "hình vuông rộng đối diện cây cầu được thống trị bởi yeni camii giáo đường mới\n",
            "không có nhà thờ nào ở quảng trường cả\n",
            "\n",
            "\n",
            "lớn và nhỏ không phải là những người bạn tuyệt vời vài người ở nam harboured tình yêu dành cho phương bắc\n",
            "miền nam và phía bắc rất bình yên\n",
            "\n",
            "\n",
            "nhưng đừng có đếm vào nó\n",
            "đừng tin vào nó\n",
            "\n",
            "\n",
            "cục quốc gia nghiên cứu kinh tế ước tính rằng cổ phiếu outpace ngân khố được chứng khoán bởi một khoảng 3 đến 13 một năm\n",
            "cổ phiếu biểu diễn tốt hơn sau đó là chứng khoán của ngân khố\n",
            "\n",
            "\n",
            "trong một trong những căn phòng rộng rãi ngoài vườn là một bức tượng của một hercules say xỉn được cho là người sáng lập của thị trấn cổ đại\n",
            "một bức tượng của một hercules say xỉn đang ngồi trong một căn phòng ngoài vườn\n",
            "\n",
            "\n",
            "xem trước chương trình trên nó chỉ bắn tôi trang\n",
            "nó chỉ bắn tôi trang được tạo ra để xem trước các chương trình kinh dị sắp tới\n",
            "\n",
            "\n",
            "bản sao của các bình luận được viết trên một bản nháp của gao báo cáo có thể được chia sẻ với người yêu cầu s nếu người yêu cầu s đặc biệt là yêu cầu cho các bình luận và gao đã đánh giá các bình luận và phát triển vị trí của nó trên họ\n",
            "bản sao của bình luận về bản nháp gao báo cáo có thể bị đốt cháy\n",
            "\n",
            "\n",
            "tất cả những chàng trai mà tôi biết đều khó khăn như tôi\n",
            "tất cả những chàng trai mà tôi biết trong thành phố của tôi cũng khó khăn như tôi là bởi vì các băng đảng\n",
            "\n",
            "\n",
            "phải một thằng ngu ngốc hắn nói nhẹ nhàng\n",
            "anh ta nhẹ nhàng nhắc đến chuyện đó thật ngớ ngẩn\n",
            "\n",
            "\n",
            "từ tất cả các chỉ thị có sẵn kỷ lục là võ tốt nhất\n",
            "lịch sử quá khứ của thực thể này không rõ ràng dựa trên thông tin mà chúng tôi biết\n",
            "\n",
            "\n",
            "vương cung của san francesco trong thực tế là hai nhà thờ một bên trên khác được xây dựng trên đỉnh ngôi mộ đơn giản của thánh trong hầm mộ\n",
            "một trong những nhà thờ đã được dựng lên trên đỉnh mộ của thánh\n",
            "\n",
            "\n",
            "em làm gì quay cái khác má\n",
            "anh có đề nghị cái má kia không\n",
            "\n",
            "\n",
            "đánh giá của người mới nhất đề nghị câu trả lời là có\n",
            "xét duyệt của người mới nhất đề xuất câu trả lời là một resounding không có\n",
            "\n",
            "\n",
            "nhưng tôi nghĩ chúng ta đang làm tốt hơn và tốt hơn tất cả thời gian mà tôi vẫn còn không\n",
            "tôi đang dưới sự ấn tượng rằng chúng tôi đang cải thiện\n",
            "\n",
            "\n",
            "ồ vâng thưa ngài\n",
            "không có gì cả\n",
            "\n",
            "\n",
            "những ghi chú phân tích rằng quy tắc cần thiết để giảm các gánh nặng về các nhà sản xuất máy tính để loại bỏ impediments để thiết kế hệ thống linh hoạt và kỹ thuật xây dựng và để giảm tiềm năng để can thiệp vào dịch vụ radio bằng cách cải thiện khả năng của ủy ban để đảm bảo các máy tính cá nhân tuân thủ tiêu chuẩn của ủy ban và các thủ tục thử nghiệm\n",
            "quy tắc đã được cải tiến tích cực\n",
            "\n",
            "\n",
            "họ 1 có khả năng được mô tả trong tài chính kinh tế hoặc các điều khoản quantitative và 2 cung cấp một cơ sở hợp lý để kết hợp rằng chương trình đã có hoặc sẽ có hiệu ứng dự định này\n",
            "họ sẽ không được mô tả theo bất kỳ cách nào hình dạng hoặc hình thức trong một tài chính kinh tế hoặc hiệu ứng quantitative và họ không nên đạt được mục tiêu cuối cùng như dự định\n",
            "\n",
            "\n",
            "st patrick đầu tiên đến ireland như một tù nhân bị bắt trong một cuộc đột kích ai len trên một khu cắm trại la mã ở anh\n",
            "st patrick đã được đưa đến ireland chống lại ý muốn của mình như một tù nhân\n",
            "\n",
            "\n",
            "nhà thờ chính tòa là 14 cánh cổng thế kỷ 14 có phần bị áp đảo bởi những người tiên phong ở thế kỷ 19\n",
            "nhà thờ đã 800 tuổi rồi\n",
            "\n",
            "\n",
            "đầu anh bị làm sao vậy jon đã mỉm cười\n",
            "jon mỉm cười với một người phụ nữ\n",
            "\n",
            "\n",
            "dựa trên phía trên tổng lợi của phạm vi quy tắc từ 110 đô la\n",
            "các benfits của quy tắc bắt đầu từ 110 và tăng lên đến 200\n",
            "\n",
            "\n",
            "hiệp sĩ perth tôi e rằng ông đã phạm một sai lầm nhỏ chúng tôi không phạm sai lầm trong những vấn đề như vậy\n",
            "hiệp sĩ perth tôi nghĩ ông đã tính toán một chút\n",
            "\n",
            "\n",
            "các khách hàng dịch vụ pháp lý cũng đa dạng như quốc gia của chúng tôi encompassing tất cả các chủng tộc các nhóm dân tộc và độ tuổi\n",
            "các khách hàng dịch vụ pháp lý rất đa dạng và bao gồm các thành viên của tất cả các chủng tộc ethnicities và các nhóm tuổi\n",
            "\n",
            "\n",
            "ngoài ra các đại biểu từ tổ chức mà không có nhân viên chuyên nghiệp và các nhân viên hành chính tin rằng một thử thách khó khăn hơn là khuyến khích tình nguyện viên để quyên góp thêm thời gian để thực hiện các công việc hành chính cần thiết để tổ chức các cuộc họp và\n",
            "đôi khi tình nguyện viên hiển thị ít động lực và yêu cầu thêm sự khích lệ\n",
            "\n",
            "\n",
            "không có ai cho anh cả\n",
            "đối với anh và anh ta không phải là người đó\n",
            "\n",
            "\n",
            "cuối cùng đột nhiên và bất ngờ như họ đã đến người anh đã nghỉ hưu\n",
            "người anh đã bỏ đi bất ngờ\n",
            "\n",
            "\n",
            "để lại parikia phía sau và paroseas một số làng để khám phá\n",
            "hãy ở lại parikia và tận hưởng thời tiết và những bãi biển\n",
            "\n",
            "\n",
            "với những teppi này một người khác đã được thêm vào\n",
            "họ đã thêm một sự thích nghi khác vào quy tắc\n",
            "\n",
            "\n",
            "sản phẩm bất kỳ rời rạc traceable hoặc lường tốt hoặc dịch vụ cung cấp cho một khách hàng\n",
            "khách hàng bao gồm công nhân sản xuất các sản phẩm khác\n",
            "\n",
            "\n",
            "đặc biệt hơn chi phí đầy đủ của một kết xuất được sản xuất bởi một phân khúc trách nhiệm là tổng cộng 1 chi phí các nguồn tài nguyên được thực hiện bởi phân khúc trách nhiệm trực tiếp hoặc gián tiếp đóng góp cho xuất khẩu và 2 chi phí của các dịch vụ hỗ trợ nhận dạng được cung cấp bởi các phân khúc trách nhiệm khác trong thực thể báo cáo và bởi các thực thể báo cáo khác\n",
            "chi phí đầy đủ của kết xuất là phụ thuộc vào ít nhất hai nguồn chi phí\n",
            "\n",
            "\n",
            "anh có sao không\n",
            "có con quặng nào có con ko\n",
            "\n",
            "\n",
            "cho đến lúc đó nó vẫn còn là giới hạn của công chúng\n",
            "nó có thể tiếp cận công chúng ngay bây giờ\n",
            "\n",
            "\n",
            "điều này sẵn sàng đáp ứng sẽ xa lánh các firebrands hội của thượng viện người đang tìm kiếm chiến tranh chống lại clinton và đảng dân chủ vượt qua ngân sách cân bằng phá thai và đốt cháy lá cờ\n",
            "cái firebrands đồng ý với clinton về việc phá thai và cờ cháy\n",
            "\n",
            "\n",
            "trà hôm nay ở đâu bên trong hay ra vậy\n",
            "chúng ta có uống trà trong nhà hay bên ngoài không\n",
            "\n",
            "\n",
            "bằng chứng tương ứng hoặc không thống nhất với các linh cảm\n",
            "bằng chứng là tương ứng với bằng chứng\n",
            "\n",
            "\n",
            "dexter và jones cũng đang tìm kiếm tài chính cho quân kháng chiến của họ trung tâm mơ ước của nhà vua một bảo tàng tương tác 50 triệu đô la hoàn thành với các trò chơi thực tế ảo\n",
            "trung tâm mơ ước của nhà vua là một sự hấp dẫn rất tuyệt vời và phổ biến\n",
            "\n",
            "\n",
            "hầu hết họ chỉ có thể nhận ra một vài người vẫn còn chỉ là một khối thịt\n",
            "tôi chỉ có thể nhận ra một trong những thức ăn mà cô ấy đã phục vụ\n",
            "\n",
            "\n",
            "anh ta làm cho những người da trắng vui vẻ với những người da trắng và những người da đen nói rằng newsweek là rick marin\n",
            "anh ta không có khả năng làm trò cười cho những người da đen hay người da trắng\n",
            "\n",
            "\n",
            "hệ thống nonclassified hiện đang được sử dụng\n",
            "hệ thống chưa phân loại hiện đang được sử dụng\n",
            "\n",
            "\n",
            "họ được chỉ định cho rằng đây là màn hình điện tử này đã được bật vào một thời gian nhất định và nó kết nối chúng đến một hệ thống nơi họ biết nơi ở của họ\n",
            "theo dõi điện tử cho phép họ biết nơi ở của họ\n",
            "\n",
            "\n",
            "nhưng những gì bắt đầu là những người đã có thể kết hợp với một cái gì đó khác nhau trong thế hệ này\n",
            "sự giúp đỡ của quý tộc đã thay đổi trong thế hệ cuối cùng\n",
            "\n",
            "\n",
            "nhiệm vụ của nó là để xác định và tiến hành công nghệ quy trình và các thực tiễn quản lý cải thiện hiệu quả của các cơ sở liên bang trên toàn bộ cuộc sống của họ từ kế hoạch để thiết lập\n",
            "mục tiêu chung của nó là cải thiện hiệu quả của các cơ sở liên bang ở tất cả các giai đoạn\n",
            "\n",
            "\n",
            "ngày mai tôi sẽ quay lại\n",
            "tôi sẽ quay lại vào buổi trưa\n",
            "\n",
            "\n",
            "và um có những người đàn ông và cũng phụ nữ phụ nữ không phải là gần như thường xuyên và cũng có những cặp đôi lớn tuổi một khi con của họ đã bỏ đi mà có thể tự nguyện đi trên một nhiệm vụ và um họ đang trên khắp thế giới và nó là một sự hậu cần tuyệt vời ý tôi là họ có một trung tâm huấn luyện ở nơi họ dạy họ nó được gọi là trung tâm đào tạo truyền giáo ở utah và họ phải được dạy ngôn ngữ\n",
            "có một trung tâm ở utah nơi mà họ dạy ngôn ngữ\n",
            "\n",
            "\n",
            "biên lai của hóa đơn hoặc hóa đơn từ nhà cung cấp hoặc nhà cung cấp đại diện cho một yêu cầu chống lại chính phủ cho các mặt hàng được gửi hoặc nộp trên mỗi đơn đặt hàng mua hàng của chính phủ\n",
            "chiếm quyền sở hữu hóa đơn tạo ra một hành động tiềm năng chống lại chính phủ\n",
            "\n",
            "\n",
            "cho đến khi thiên chúa giáo chiếm toledo là một nơi tôn giáo và hài hòa văn hóa\n",
            "đã có những vấn đề ở toledo kể từ khi công giáo chiếm\n",
            "\n",
            "\n",
            "những bài viết này cho phép nhân viên dễ dàng xem hiệu quả của các thiết bị của họ đã được đóng góp cho mục tiêu và mục tiêu của đại lý\n",
            "các cơ quan sợ đăng cấp hiệu suất bởi vì họ tin rằng thông tin sẽ ngăn chặn nhân viên làm việc tốt nhất khi so sánh đơn vị của họ với các đơn vị khác\n",
            "\n",
            "\n",
            "một cuộc cạnh tranh sự giáo dục trí tuệ khiến họ khó chịu hâm mộ thông minh và thành công\n",
            "tất cả bọn họ đều ngu ngốc và không thành công\n",
            "\n",
            "\n",
            "trong số người dân một nhóm vận động bảo thủ đã tung ra một chiến dịch toàn quốc để thêm một nhân quyền phụ huynh vào tình trạng địa tuyên bố rằng sự bất lợi của cha mẹ để trực tiếp và kiểm soát sự giáo dục giáo dục giá trị và kỷ luật của con cái họ\n",
            "trong số người dân là một nhóm rất tự do người đã khởi động một chiến dịch thành phố\n",
            "\n",
            "\n",
            "chúng tôi đã đến nhà cô ấy nên chúng tôi nói với cô ấy rằng cô biết trước khi chúng tôi không nói với cô ấy rằng chúng tôi đã nói với cô ấy rằng chúng tôi đã ở đây ngày hôm đó chúng tôi không nói với cô ấy khi tôi không nghĩ rằng cô biết ngôi nhà đó sẽ là gì hãy là bạn bạn biết dọn dẹp hoặc bất cứ điều gì cho tôi đặc biệt\n",
            "chúng tôi đã đến nhà cô ấy báo trước ngày hôm qua\n",
            "\n",
            "\n",
            "con sông chơi một vai trò trung tâm trong tất cả các chuyến thăm đến paris\n",
            "những con sông không chơi một vai trò rất trung tâm cho khách du lịch paris\n",
            "\n",
            "\n",
            "trong bài đánh giá này gao đã cung cấp hàng ngàn tài liệu bao gồm cả bản sao của e mail và các thông tin khác nhận dạng nhóm membersa liên hệ với các nhóm bên ngoài và cá nhân\n",
            "gao đã bị từ chối thông tin nên họ không thể xác định danh bạ với các nhóm hoặc cá nhân bên ngoài\n",
            "\n",
            "\n",
            "cô ấy không dựa vào sự lập dị để tạo ra một nhân vật nhận thức và đó là lý do tại sao anh có thể trông chừng cô ấy và lần nữa\n",
            "cô ấy làm những ký tự đến với cuộc sống bằng cách nhấn mạnh mối quan hệ của họ với những người khác\n",
            "\n",
            "\n",
            "các thẩm phán chắc chắn sẽ đánh giá cao điều đó\n",
            "thẩm phán cảm thấy thuận lợi về việc đó\n",
            "\n",
            "\n",
            "tuy nhiên cuốn sách của ông ấy là một đóng góp giá trị cho cuộc tranh luận bởi vì nó cung cấp cho họ với kinh nghiệm một kế hoạch kiến trúc trừu tượng chống lại việc đánh giá thực tế không hoàn hảo của ngày hôm nay\n",
            "cuốn sách là về cách ăn bánh quế\n",
            "\n",
            "\n",
            "xin chào ben\n",
            "tôi đã bỏ qua ben\n",
            "\n",
            "\n",
            "vai trò của quản lý\n",
            "vai trò của quản lý\n",
            "\n",
            "\n",
            "không à bây giờ anh biết có vẻ như anh phải ở trong một căn hộ ở miami beach ở đâu đó\n",
            "anh chỉ nên sống trong một cabin trên núi\n",
            "\n",
            "\n",
            "một số công ty sẽ cung cấp một buổi tối của người scotland khiêu vũ cùng với một cuộc nói chuyện với lễ kỷ niệm của món quà truyền thống được thực hiện trên cháy đêm sinh nhật của nhà thơ đã viết một bài thơ cho món ăn người scotland yêu thích này\n",
            "các công ty không muốn khách du lịch tham gia truyền thống scotland\n",
            "\n",
            "\n",
            "cô ấy đã nói là john bất ngờ\n",
            "john đã nói chuyện ngoài đường dây\n",
            "\n",
            "\n",
            "nhưng bây giờ um bây giờ nó đang xảy ra tôi cảm thấy thoải mái với nó tôi không cảm thấy như tôi đã mất bất cứ điều gì và rằng tôi cảm thấy an toàn trong đó tôi biết rằng tất cả mọi người làm việc xung quanh tôi um là loại thuốc miễn phí\n",
            "tôi cảm thấy tốt khi biết rằng tất cả mọi người trong môi trường của tôi đều tỉnh táo\n",
            "\n",
            "\n",
            "sha thiếc là trang web của tu viện của 10 000 tượng phật mà nhìn xuống một thị trấn đang phát triển\n",
            "sha thiếc là trang web của tu viện ba mươi năm odins mà nhìn xuống trên một thành phố bị xé nát\n",
            "\n",
            "\n",
            "dù sao thì tôi cũng đã tham gia cùng với những người texas ở ơ\n",
            "tôi đã tham gia hiệp hội giáo viên texas\n",
            "\n",
            "\n",
            "bảo cerralbo c ventura rodriguez 17 bộ sưu tập của nhà quý tộc khác đã được giao lại cho đất nước của mình giống như đi thăm một nhà sưu tập nghệ thuật 19 thế kỷ hơn là một bảo tàng một số hoạt động được xác định hoặc đánh dấu\n",
            "cái cerralbo giống như một bộ sưu tập hơn là một bảo tàng\n",
            "\n",
            "\n",
            "chúng tôi có vài thứ anh cần phải xem\n",
            "chúng tôi có một thứ mà anh không muốn nhìn thấy\n",
            "\n",
            "\n",
            "sự nghiệp công cộng của ông erlenborn đã kéo dài bốn thập kỷ qua\n",
            "ông erlenborn chưa bao giờ làm việc bên ngoài một tập đoàn tư nhân\n",
            "\n",
            "\n",
            "đó là cách đây hơn hai thế kỷ trước và đáng kể đây là lần cuối cùng bất kỳ nhà kinh tế nào cũng có một dự đoán sai\n",
            "đã năm kể từ những ví dụ gần đây nhất của một nhà kinh tế đã có một dự đoán\n",
            "\n",
            "\n",
            "sau đó khi byzantium đe dọa đặc quyền giao dịch đông phương venice đã thuyết phục quân đội của cuộc thập tự chinh thứ tư tấn công constantinople vào năm 1204 chinh phục byzantium tăng cường vị trí của nó\n",
            "byzantium đã bị tấn công trong cuộc thập tự chinh thứ tư\n",
            "\n",
            "\n",
            "thật sự đúng là paul hogan không thực sự là tôi ngạc nhiên\n",
            "tôi ngạc nhiên là paul hogan đã đứng lên chống lại điều đó\n",
            "\n",
            "\n",
            "khu nghỉ dưỡng ngồi ở phía đông của vịnh rộng với cảng du lịch ở phía tây\n",
            "khu nghỉ dưỡng có thể được tìm thấy ở phía tây của vịnh\n",
            "\n",
            "\n",
            "người nông dân bạn thấy đứng trên kẻ lừa đảo của mình ở phía bên đường có thể không cho bạn một nụ cười rộng lớn của chào mừng nhưng lá gật đầu của nó và gợi ý của cái cap của nó là tương đương với một cái ôm chân thành hoặc bắt tay ở những nơi khác\n",
            "những nông dân của khu vực này có thể là bất lịch sự với khách du lịch\n",
            "\n",
            "\n",
            "trong quan điểm này texas a và m đại học gần đây đã thành lập một trung tâm mới cho việc kiểm toán liên tục liên quan đến một tập đoàn trên 12 đại học hàng đầu và những người khác để giúp địa chỉ những vấn đề này\n",
            "texas a và m là một phần của một tập đoàn hơn mười hai trường đại học\n",
            "\n",
            "\n",
            "cám ơn chúng ta không đủ khả năng cha đã nói là có vấn đề gì đó\n",
            "họ có thể mua được bất cứ thứ gì nên họ đã mua nó mà không có bất kỳ vấn đề gì\n",
            "\n",
            "\n",
            "dựa trên tài liệu hướng dẫn và phỏng vấn thu được từ lượt truy cập trang web của chúng tôi chúng tôi so sánh các tổ chức để xác định các thực tiễn độc đáo được sử dụng bởi các tổ chức cá nhân cũng như các thực tiễn phổ biến được sử dụng trên nhiều tổ chức\n",
            "bởi vì tất cả các tổ chức đều có thể nhận dạng được chúng tôi đã tìm thấy nó không thể so sánh các thực tiễn\n",
            "\n",
            "\n",
            "thật khó để biết cách đối xử với anh ta\n",
            "thật khó để biết cách đối xử với anh ta\n",
            "\n",
            "\n",
            "leo lên trên tàu lugger\n",
            "cứ ở yên trên đất liền đi\n",
            "\n",
            "\n",
            "một trong những nơi tốt nhất để xem dưới nước thủy quân lục chiến đang ở đảo catalina nhưng cho thuê thiết bị cũng có sẵn tại long beach bãi biển redondo và malibu\n",
            "cho thuê thiết bị có sẵn tại bốn vị trí\n",
            "\n",
            "\n",
            "đầu tiên các yếu tố cầu hôn rằng người nhập khẩu và các nhà sản xuất điện thoại mới cho người sử dụng tại hoa kỳ được yêu cầu để đóng dấu ngày của sản xuất trên điện thoại mới\n",
            "không có mặt hàng nào được cầu hôn và không có yêu cầu cho điện thoại mới ở hoa kỳ\n",
            "\n",
            "\n",
            "có lẽ nó sẽ làm những kẻ ngu ngốc như cái để mang đến thời đại vàng của phương tiện truyền thông mới\n",
            "để mang đến thời đại vàng của phương tiện mới nó có thể làm những kẻ ngu ngốc như những người weinsteins\n",
            "\n",
            "\n",
            "thị trường trung tâm của kl cung cấp cho bạn một lựa chọn rộng hơn\n",
            "anh sẽ nhận được giá tốt hơn trong thị trường trung tâm của kl\n",
            "\n",
            "\n",
            "một kỵ sĩ đã hạ gục san doro xuống jon thấy tầm nhìn của anh ta mờ mờ trong quan điểm của anh ta qua đôi mắt của san doro\n",
            "san doro vẫn còn vững\n",
            "\n",
            "\n",
            "tôi lúc nào cũng tắt nó đi\n",
            "tôi chỉ không thể làm cho nó trở thành như tôi muốn\n",
            "\n",
            "\n",
            "các tiêu chuẩn phát ra quốc gia cho các đơn vị bị ảnh hưởng\n",
            "các tiêu chuẩn phát ra quốc gia rất nghiêm ngặt đối với các đơn vị như thế này\n",
            "\n",
            "\n",
            "hammerschmidt hummel làm việc với một đội các nhà khoa học sử dụng kỹ thuật chụp ảnh cao cấp tìm thấy sự tương đồng gần giữa mặt nạ và một bức tranh nổi tiếng của shakespeare mà cô ấy tin rằng đã được sao chép từ nó\n",
            "hammerschmidt hummel đã làm việc với rất nhiều người kỹ thuật trong các kỹ thuật chụp ảnh\n",
            "\n",
            "\n",
            "hơn nữa tăng thuế thu nhập làm giảm tỷ lệ ngầm trở lại cho những người hưởng tương lai\n",
            "tăng thuế thu nhập tăng tỷ lệ quay trở lại\n",
            "\n",
            "\n",
            "có lẽ chúng ta sẽ thử helga từ himilshaven\n",
            "chúng ta có thể cố gắng để đưa helga đến từ himilshaven\n",
            "\n",
            "\n",
            "tuy nhiên quản trị viên vẫn phải có quy định xác định các thiết bị phân phối cá nhân cho một năm qua\n",
            "sự thất bại của quản trị viên để thông báo về quy định đang gây ra mối quan tâm trong bộ phận\n",
            "\n",
            "\n",
            "những người phát sóng đã làm cho luu một người nổi tiếng\n",
            "luu đang kiếm thêm tiền vì sự phơi nắng\n",
            "\n",
            "\n",
            "may mắn là phải mất nhiều thời gian quá nhiều thời gian mất nhiều thời gian quá nhiều\n",
            "may mắn là nhanh chóng và dễ dàng\n",
            "\n",
            "\n",
            "cô ấy đã dựa vào cuộc gặp gỡ để tìm một địa điểm gần gũi hơn cho các dự án của cô ấy\n",
            "cuộc gặp gỡ sẽ giúp cô ấy tìm ra những địa điểm phù hợp\n",
            "\n",
            "\n"
          ]
        }
      ]
    },
    {
      "cell_type": "code",
      "source": [
        "dict_occurs=train['premise_seq_len'].value_counts().to_dict()\n",
        "x,y=list(dict_occurs.keys()),list(dict_occurs.values())\n",
        "seq_len_visualizer(x,y)"
      ],
      "metadata": {
        "colab": {
          "base_uri": "https://localhost:8080/",
          "height": 1000
        },
        "id": "Qny2BwuxqLFt",
        "outputId": "0b67066e-91b5-4d1c-d9c2-4d70ef2fb6bb"
      },
      "execution_count": null,
      "outputs": [
        {
          "output_type": "display_data",
          "data": {
            "text/plain": [
              "<Figure size 1440x1440 with 1 Axes>"
            ],
            "image/png": "[encoded data removed]"
          },
          "metadata": {
            "needs_background": "light"
          }
        }
      ]
    },
    {
      "cell_type": "code",
      "source": [
        "dict_occurs=train['hypothesis_seq_len'].value_counts().to_dict()\n",
        "x,y=list(dict_occurs.keys()),list(dict_occurs.values())\n",
        "seq_len_visualizer(x,y)"
      ],
      "metadata": {
        "colab": {
          "base_uri": "https://localhost:8080/",
          "height": 1000
        },
        "id": "Ea74BV63swC5",
        "outputId": "9da87881-4f50-48da-8a5e-269af9c343eb"
      },
      "execution_count": null,
      "outputs": [
        {
          "output_type": "display_data",
          "data": {
            "text/plain": [
              "<Figure size 1440x1440 with 1 Axes>"
            ],
            "image/png": "[encoded data removed]"
          },
          "metadata": {
            "needs_background": "light"
          }
        }
      ]
    },
    {
      "cell_type": "code",
      "source": [
        "train['total_seq_len']=train['premise_seq_len']+train['hypothesis_seq_len']"
      ],
      "metadata": {
        "id": "kNzkN-IYq3mf"
      },
      "execution_count": null,
      "outputs": []
    },
    {
      "cell_type": "code",
      "source": [
        "dict_occurs=train['total_seq_len'].value_counts().to_dict()\n",
        "x,y=list(dict_occurs.keys()),list(dict_occurs.values())\n",
        "seq_len_visualizer(x,y)"
      ],
      "metadata": {
        "colab": {
          "base_uri": "https://localhost:8080/",
          "height": 1000
        },
        "id": "EDveGVZYs7eW",
        "outputId": "79ad2f7f-ee0c-48e7-a184-9bfeb5462f08"
      },
      "execution_count": null,
      "outputs": [
        {
          "output_type": "display_data",
          "data": {
            "text/plain": [
              "<Figure size 1440x1440 with 1 Axes>"
            ],
            "image/png": "[encoded data removed]"
          },
          "metadata": {
            "needs_background": "light"
          }
        }
      ]
    },
    {
      "cell_type": "markdown",
      "source": [
        "assign max length 256"
      ],
      "metadata": {
        "id": "RhAM6E1btGLm"
      }
    },
    {
      "cell_type": "code",
      "source": [
        "train.value_counts(['label'])"
      ],
      "metadata": {
        "colab": {
          "base_uri": "https://localhost:8080/"
        },
        "id": "pLTsAtAN-r--",
        "outputId": "5f0a030a-429b-4c04-ff89-38b682467770"
      },
      "execution_count": null,
      "outputs": [
        {
          "output_type": "execute_result",
          "data": {
            "text/plain": [
              "label\n",
              "2        26330\n",
              "1        26043\n",
              "0        26038\n",
              "dtype: int64"
            ]
          },
          "metadata": {},
          "execution_count": 44
        }
      ]
    },
    {
      "cell_type": "code",
      "source": [
        "valid.value_counts(['label'])"
      ],
      "metadata": {
        "colab": {
          "base_uri": "https://localhost:8080/"
        },
        "id": "ItICJZIq-wuY",
        "outputId": "8d998644-0403-47b7-b496-19c694a87de7"
      },
      "execution_count": null,
      "outputs": [
        {
          "output_type": "execute_result",
          "data": {
            "text/plain": [
              "label\n",
              "0        830\n",
              "1        830\n",
              "2        830\n",
              "dtype: int64"
            ]
          },
          "metadata": {},
          "execution_count": 45
        }
      ]
    },
    {
      "cell_type": "code",
      "source": [
        "train.to_csv(join(preprocessed_data,'train_0.csv'),index=False)\n",
        "valid.to_csv(join(preprocessed_data,'valid.csv'),index=False)"
      ],
      "metadata": {
        "id": "m_GrYcmptCEf"
      },
      "execution_count": null,
      "outputs": []
    },
    {
      "cell_type": "code",
      "source": [
        "train"
      ],
      "metadata": {
        "colab": {
          "base_uri": "https://localhost:8080/",
          "height": 641
        },
        "id": "XNBCW3CnuzcV",
        "outputId": "51e7b660-2a7f-44b6-86cc-f4b41982d863"
      },
      "execution_count": null,
      "outputs": [
        {
          "output_type": "execute_result",
          "data": {
            "text/plain": [
              "                                                 premise  \\\n",
              "0      Vì vậy , nhưng đó cũng là khoảng thời gian bạn...   \n",
              "1           Đó có phải là những gì họ có ý nghĩa không ?   \n",
              "2      Nhưng câu chuyện không thực sự nằm trong quá t...   \n",
              "3      Sau khi bị tổn thương động đất sớm hơn , ngôi ...   \n",
              "4      Tôi không đặt mỗi trăm phần trăm cổ phiếu vào ...   \n",
              "...                                                  ...   \n",
              "78535  Chúng tôi chỉ đang cố gắng nói chuyện của chún...   \n",
              "78536     Vâng à smith đã đi trên khá tốt wright đã được   \n",
              "78537                        Bây giờ nó sẽ rất đáng sợ .   \n",
              "78538  Mọi thứ sẽ đến một điểm mà nó sẽ có thể đến mộ...   \n",
              "78539  Hơn nữa , các mạng giám sát môi trường theo dõ...   \n",
              "\n",
              "                                              hypothesis  label  \\\n",
              "0      Thật khó để trở thành dân sự khi anh bị kẹt ở ...      1   \n",
              "1                         Họ có nghĩa là thế này không ?      0   \n",
              "2      Quy trình thuốc lá rulemaking đã được chatterb...      1   \n",
              "3      Ngôi đền đã trở thành ngân khố của thành phố s...      0   \n",
              "4      Tôi không hoàn toàn tin những gì anh ta đang n...      0   \n",
              "...                                                  ...    ...   \n",
              "78535  Chúng tôi đang cố gắng nói chuyện với chúng tô...      2   \n",
              "78536                     Smith đã trở nên khủng khiếp .      2   \n",
              "78537  Đó sẽ là trải nghiệm đáng sợ nhất mà tôi có th...      1   \n",
              "78538               Người ta sẽ không cần cảnh sát đâu .      0   \n",
              "78539          Lời khai axit có liên quan đến mưa axit .      1   \n",
              "\n",
              "                                           clean_premise  \\\n",
              "0      vì vậy nhưng đó cũng là khoảng thời gian bạn b...   \n",
              "1             đó có phải là những gì họ có ý nghĩa không   \n",
              "2      nhưng câu chuyện không thực sự nằm trong quá t...   \n",
              "3      sau khi bị tổn thương động đất sớm hơn ngôi đề...   \n",
              "4      tôi không đặt mỗi trăm phần trăm cổ phiếu vào ...   \n",
              "...                                                  ...   \n",
              "78535  chúng tôi chỉ đang cố gắng nói chuyện của chún...   \n",
              "78536     vâng à smith đã đi trên khá tốt wright đã được   \n",
              "78537                          bây giờ nó sẽ rất đáng sợ   \n",
              "78538  mọi thứ sẽ đến một điểm mà nó sẽ có thể đến mộ...   \n",
              "78539  hơn nữa các mạng giám sát môi trường theo dõi ...   \n",
              "\n",
              "                                        clean_hypothesis  premise_seq_len  \\\n",
              "0      thật khó để trở thành dân sự khi anh bị kẹt ở ...               17   \n",
              "1                           họ có nghĩa là thế này không               11   \n",
              "2      quy trình thuốc lá rulemaking đã được chatterb...               31   \n",
              "3      ngôi đền đã trở thành ngân khố của thành phố s...               25   \n",
              "4       tôi không hoàn toàn tin những gì anh ta đang nòi               26   \n",
              "...                                                  ...              ...   \n",
              "78535  chúng tôi đang cố gắng nói chuyện với chúng tô...               17   \n",
              "78536                       smith đã trở nên khủng khiếp               14   \n",
              "78537  đó sẽ là trải nghiệm đáng sợ nhất mà tôi có th...                7   \n",
              "78538                 người ta sẽ không cần cảnh sát đâu               86   \n",
              "78539            lời khai axit có liên quan đến mưa axit               37   \n",
              "\n",
              "       hypothesis_seq_len  total_seq_len  \n",
              "0                      20             37  \n",
              "1                       7             18  \n",
              "2                      28             59  \n",
              "3                      21             46  \n",
              "4                      13             39  \n",
              "...                   ...            ...  \n",
              "78535                  17             34  \n",
              "78536                   8             22  \n",
              "78537                  14             21  \n",
              "78538                   8             94  \n",
              "78539                  11             48  \n",
              "\n",
              "[78411 rows x 8 columns]"
            ],
            "text/html": [
              "\n",
              "  <div id=\"df-365c3327-4766-4045-8d6f-d5b8c71c0154\">\n",
              "    <div class=\"colab-df-container\">\n",
              "      <div>\n",
              "<style scoped>\n",
              "    .dataframe tbody tr th:only-of-type {\n",
              "        vertical-align: middle;\n",
              "    }\n",
              "\n",
              "    .dataframe tbody tr th {\n",
              "        vertical-align: top;\n",
              "    }\n",
              "\n",
              "    .dataframe thead th {\n",
              "        text-align: right;\n",
              "    }\n",
              "</style>\n",
              "<table border=\"1\" class=\"dataframe\">\n",
              "  <thead>\n",
              "    <tr style=\"text-align: right;\">\n",
              "      <th></th>\n",
              "      <th>premise</th>\n",
              "      <th>hypothesis</th>\n",
              "      <th>label</th>\n",
              "      <th>clean_premise</th>\n",
              "      <th>clean_hypothesis</th>\n",
              "      <th>premise_seq_len</th>\n",
              "      <th>hypothesis_seq_len</th>\n",
              "      <th>total_seq_len</th>\n",
              "    </tr>\n",
              "  </thead>\n",
              "  <tbody>\n",
              "    <tr>\n",
              "      <th>0</th>\n",
              "      <td>Vì vậy , nhưng đó cũng là khoảng thời gian bạn...</td>\n",
              "      <td>Thật khó để trở thành dân sự khi anh bị kẹt ở ...</td>\n",
              "      <td>1</td>\n",
              "      <td>vì vậy nhưng đó cũng là khoảng thời gian bạn b...</td>\n",
              "      <td>thật khó để trở thành dân sự khi anh bị kẹt ở ...</td>\n",
              "      <td>17</td>\n",
              "      <td>20</td>\n",
              "      <td>37</td>\n",
              "    </tr>\n",
              "    <tr>\n",
              "      <th>1</th>\n",
              "      <td>Đó có phải là những gì họ có ý nghĩa không ?</td>\n",
              "      <td>Họ có nghĩa là thế này không ?</td>\n",
              "      <td>0</td>\n",
              "      <td>đó có phải là những gì họ có ý nghĩa không</td>\n",
              "      <td>họ có nghĩa là thế này không</td>\n",
              "      <td>11</td>\n",
              "      <td>7</td>\n",
              "      <td>18</td>\n",
              "    </tr>\n",
              "    <tr>\n",
              "      <th>2</th>\n",
              "      <td>Nhưng câu chuyện không thực sự nằm trong quá t...</td>\n",
              "      <td>Quy trình thuốc lá rulemaking đã được chatterb...</td>\n",
              "      <td>1</td>\n",
              "      <td>nhưng câu chuyện không thực sự nằm trong quá t...</td>\n",
              "      <td>quy trình thuốc lá rulemaking đã được chatterb...</td>\n",
              "      <td>31</td>\n",
              "      <td>28</td>\n",
              "      <td>59</td>\n",
              "    </tr>\n",
              "    <tr>\n",
              "      <th>3</th>\n",
              "      <td>Sau khi bị tổn thương động đất sớm hơn , ngôi ...</td>\n",
              "      <td>Ngôi đền đã trở thành ngân khố của thành phố s...</td>\n",
              "      <td>0</td>\n",
              "      <td>sau khi bị tổn thương động đất sớm hơn ngôi đề...</td>\n",
              "      <td>ngôi đền đã trở thành ngân khố của thành phố s...</td>\n",
              "      <td>25</td>\n",
              "      <td>21</td>\n",
              "      <td>46</td>\n",
              "    </tr>\n",
              "    <tr>\n",
              "      <th>4</th>\n",
              "      <td>Tôi không đặt mỗi trăm phần trăm cổ phiếu vào ...</td>\n",
              "      <td>Tôi không hoàn toàn tin những gì anh ta đang n...</td>\n",
              "      <td>0</td>\n",
              "      <td>tôi không đặt mỗi trăm phần trăm cổ phiếu vào ...</td>\n",
              "      <td>tôi không hoàn toàn tin những gì anh ta đang nòi</td>\n",
              "      <td>26</td>\n",
              "      <td>13</td>\n",
              "      <td>39</td>\n",
              "    </tr>\n",
              "    <tr>\n",
              "      <th>...</th>\n",
              "      <td>...</td>\n",
              "      <td>...</td>\n",
              "      <td>...</td>\n",
              "      <td>...</td>\n",
              "      <td>...</td>\n",
              "      <td>...</td>\n",
              "      <td>...</td>\n",
              "      <td>...</td>\n",
              "    </tr>\n",
              "    <tr>\n",
              "      <th>78535</th>\n",
              "      <td>Chúng tôi chỉ đang cố gắng nói chuyện của chún...</td>\n",
              "      <td>Chúng tôi đang cố gắng nói chuyện với chúng tô...</td>\n",
              "      <td>2</td>\n",
              "      <td>chúng tôi chỉ đang cố gắng nói chuyện của chún...</td>\n",
              "      <td>chúng tôi đang cố gắng nói chuyện với chúng tô...</td>\n",
              "      <td>17</td>\n",
              "      <td>17</td>\n",
              "      <td>34</td>\n",
              "    </tr>\n",
              "    <tr>\n",
              "      <th>78536</th>\n",
              "      <td>Vâng à smith đã đi trên khá tốt wright đã được</td>\n",
              "      <td>Smith đã trở nên khủng khiếp .</td>\n",
              "      <td>2</td>\n",
              "      <td>vâng à smith đã đi trên khá tốt wright đã được</td>\n",
              "      <td>smith đã trở nên khủng khiếp</td>\n",
              "      <td>14</td>\n",
              "      <td>8</td>\n",
              "      <td>22</td>\n",
              "    </tr>\n",
              "    <tr>\n",
              "      <th>78537</th>\n",
              "      <td>Bây giờ nó sẽ rất đáng sợ .</td>\n",
              "      <td>Đó sẽ là trải nghiệm đáng sợ nhất mà tôi có th...</td>\n",
              "      <td>1</td>\n",
              "      <td>bây giờ nó sẽ rất đáng sợ</td>\n",
              "      <td>đó sẽ là trải nghiệm đáng sợ nhất mà tôi có th...</td>\n",
              "      <td>7</td>\n",
              "      <td>14</td>\n",
              "      <td>21</td>\n",
              "    </tr>\n",
              "    <tr>\n",
              "      <th>78538</th>\n",
              "      <td>Mọi thứ sẽ đến một điểm mà nó sẽ có thể đến mộ...</td>\n",
              "      <td>Người ta sẽ không cần cảnh sát đâu .</td>\n",
              "      <td>0</td>\n",
              "      <td>mọi thứ sẽ đến một điểm mà nó sẽ có thể đến mộ...</td>\n",
              "      <td>người ta sẽ không cần cảnh sát đâu</td>\n",
              "      <td>86</td>\n",
              "      <td>8</td>\n",
              "      <td>94</td>\n",
              "    </tr>\n",
              "    <tr>\n",
              "      <th>78539</th>\n",
              "      <td>Hơn nữa , các mạng giám sát môi trường theo dõ...</td>\n",
              "      <td>Lời khai axit có liên quan đến mưa axit .</td>\n",
              "      <td>1</td>\n",
              "      <td>hơn nữa các mạng giám sát môi trường theo dõi ...</td>\n",
              "      <td>lời khai axit có liên quan đến mưa axit</td>\n",
              "      <td>37</td>\n",
              "      <td>11</td>\n",
              "      <td>48</td>\n",
              "    </tr>\n",
              "  </tbody>\n",
              "</table>\n",
              "<p>78411 rows × 8 columns</p>\n",
              "</div>\n",
              "      <button class=\"colab-df-convert\" onclick=\"convertToInteractive('df-365c3327-4766-4045-8d6f-d5b8c71c0154')\"\n",
              "              title=\"Convert this dataframe to an interactive table.\"\n",
              "              style=\"display:none;\">\n",
              "        \n",
              "  <svg xmlns=\"http://www.w3.org/2000/svg\" height=\"24px\"viewBox=\"0 0 24 24\"\n",
              "       width=\"24px\">\n",
              "    <path d=\"M0 0h24v24H0V0z\" fill=\"none\"/>\n",
              "    <path d=\"M18.56 5.44l.94 2.06.94-2.06 2.06-.94-2.06-.94-.94-2.06-.94 2.06-2.06.94zm-11 1L8.5 8.5l.94-2.06 2.06-.94-2.06-.94L8.5 2.5l-.94 2.06-2.06.94zm10 10l.94 2.06.94-2.06 2.06-.94-2.06-.94-.94-2.06-.94 2.06-2.06.94z\"/><path d=\"M17.41 7.96l-1.37-1.37c-.4-.4-.92-.59-1.43-.59-.52 0-1.04.2-1.43.59L10.3 9.45l-7.72 7.72c-.78.78-.78 2.05 0 2.83L4 21.41c.39.39.9.59 1.41.59.51 0 1.02-.2 1.41-.59l7.78-7.78 2.81-2.81c.8-.78.8-2.07 0-2.86zM5.41 20L4 18.59l7.72-7.72 1.47 1.35L5.41 20z\"/>\n",
              "  </svg>\n",
              "      </button>\n",
              "      \n",
              "  <style>\n",
              "    .colab-df-container {\n",
              "      display:flex;\n",
              "      flex-wrap:wrap;\n",
              "      gap: 12px;\n",
              "    }\n",
              "\n",
              "    .colab-df-convert {\n",
              "      background-color: #E8F0FE;\n",
              "      border: none;\n",
              "      border-radius: 50%;\n",
              "      cursor: pointer;\n",
              "      display: none;\n",
              "      fill: #1967D2;\n",
              "      height: 32px;\n",
              "      padding: 0 0 0 0;\n",
              "      width: 32px;\n",
              "    }\n",
              "\n",
              "    .colab-df-convert:hover {\n",
              "      background-color: #E2EBFA;\n",
              "      box-shadow: 0px 1px 2px rgba(60, 64, 67, 0.3), 0px 1px 3px 1px rgba(60, 64, 67, 0.15);\n",
              "      fill: #174EA6;\n",
              "    }\n",
              "\n",
              "    [theme=dark] .colab-df-convert {\n",
              "      background-color: #3B4455;\n",
              "      fill: #D2E3FC;\n",
              "    }\n",
              "\n",
              "    [theme=dark] .colab-df-convert:hover {\n",
              "      background-color: #434B5C;\n",
              "      box-shadow: 0px 1px 3px 1px rgba(0, 0, 0, 0.15);\n",
              "      filter: drop-shadow(0px 1px 2px rgba(0, 0, 0, 0.3));\n",
              "      fill: #FFFFFF;\n",
              "    }\n",
              "  </style>\n",
              "\n",
              "      <script>\n",
              "        const buttonEl =\n",
              "          document.querySelector('#df-365c3327-4766-4045-8d6f-d5b8c71c0154 button.colab-df-convert');\n",
              "        buttonEl.style.display =\n",
              "          google.colab.kernel.accessAllowed ? 'block' : 'none';\n",
              "\n",
              "        async function convertToInteractive(key) {\n",
              "          const element = document.querySelector('#df-365c3327-4766-4045-8d6f-d5b8c71c0154');\n",
              "          const dataTable =\n",
              "            await google.colab.kernel.invokeFunction('convertToInteractive',\n",
              "                                                     [key], {});\n",
              "          if (!dataTable) return;\n",
              "\n",
              "          const docLinkHtml = 'Like what you see? Visit the ' +\n",
              "            '<a target=\"_blank\" href=https://colab.research.google.com/notebooks/data_table.ipynb>data table notebook</a>'\n",
              "            + ' to learn more about interactive tables.';\n",
              "          element.innerHTML = '';\n",
              "          dataTable['output_type'] = 'display_data';\n",
              "          await google.colab.output.renderOutput(dataTable, element);\n",
              "          const docLink = document.createElement('div');\n",
              "          docLink.innerHTML = docLinkHtml;\n",
              "          element.appendChild(docLink);\n",
              "        }\n",
              "      </script>\n",
              "    </div>\n",
              "  </div>\n",
              "  "
            ]
          },
          "metadata": {},
          "execution_count": 47
        }
      ]
    },
    {
      "cell_type": "markdown",
      "source": [
        "##Create inputs for bert models"
      ],
      "metadata": {
        "id": "Ik-silJxvM9b"
      }
    },
    {
      "cell_type": "code",
      "source": [
        "train=pd.read_csv(join(preprocessed_data,'train_0.csv'))\n",
        "valid=pd.read_csv(join(preprocessed_data,'valid.csv'))"
      ],
      "metadata": {
        "id": "J3Y34NW5vFjC"
      },
      "execution_count": null,
      "outputs": []
    },
    {
      "cell_type": "markdown",
      "source": [
        "![image.png](data:image/png;base64,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)"
      ],
      "metadata": {
        "id": "_jFIDTk4w9rs"
      }
    },
    {
      "cell_type": "code",
      "source": [
        "class ClassificationDataset(Dataset):\n",
        "    def __init__(self, input_ids, attention_mask,labels,device,token_type_ids=None):\n",
        "        self.labels = labels\n",
        "        self.input_ids=input_ids\n",
        "        self.attention_mask=attention_mask\n",
        "        self.token_type_ids=token_type_ids\n",
        "        self.device=device\n",
        "        \n",
        "    def __len__(self):\n",
        "            return len(self.labels)\n",
        "\n",
        "    def __getitem__(self, idx):\n",
        "        label = self.labels[idx]\n",
        "        input_ids = self.input_ids[idx]\n",
        "        attention_mask = self.attention_mask[idx]\n",
        "        sample = {\"inputs\":{\"input_ids\": input_ids.to(self.device),'attention_mask':attention_mask.to(self.device)}, \"labels\": label.to(self.device)}\n",
        "        if self.token_type_ids!=None:\n",
        "          sample['inputs'].update({'token_type_ids':self.token_type_ids[idx].to(self.device)})\n",
        "        return sample"
      ],
      "metadata": {
        "id": "FggCOyrqwfdr"
      },
      "execution_count": null,
      "outputs": []
    },
    {
      "cell_type": "code",
      "source": [
        "train_batch_size=8\n",
        "num_training_samples=len(train)\n",
        "num_training_batches=int((num_training_samples/train_batch_size)+0.5)"
      ],
      "metadata": {
        "id": "Nc-grncdxU59"
      },
      "execution_count": null,
      "outputs": []
    },
    {
      "cell_type": "code",
      "source": [
        "valid_batch_size=8\n",
        "num_valid_samples=len(valid)\n",
        "num_valid_batches=int((num_valid_samples/valid_batch_size)+0.5)"
      ],
      "metadata": {
        "id": "oXIW2YRZxJrr"
      },
      "execution_count": null,
      "outputs": []
    },
    {
      "cell_type": "code",
      "source": [
        "return_tensors='pt'"
      ],
      "metadata": {
        "id": "-n1aBD1ZxbKq"
      },
      "execution_count": null,
      "outputs": []
    },
    {
      "cell_type": "code",
      "source": [
        "labels=train['label'].unique().tolist()\n",
        "labels"
      ],
      "metadata": {
        "colab": {
          "base_uri": "https://localhost:8080/"
        },
        "id": "if9E1BM2xeLV",
        "outputId": "7affddca-b656-468f-b5c8-80bbd61d9324"
      },
      "execution_count": null,
      "outputs": [
        {
          "output_type": "execute_result",
          "data": {
            "text/plain": [
              "[1, 0, 2]"
            ]
          },
          "metadata": {},
          "execution_count": 12
        }
      ]
    },
    {
      "cell_type": "code",
      "source": [
        "def create_dataloader(tokenizer,premises,hypothesises,labels,max_length,batch_size,padding=True,truncation=True,return_tensors='pt',device='cpu',drop_last=False):\n",
        "  x=tokenizer(premises ,hypothesises,padding=padding,truncation=truncation,max_length=max_length,return_tensors=return_tensors)\n",
        "  y=torch.Tensor(labels).to(torch.long)\n",
        "  dataset={i:x[i] for i in x}\n",
        "  dataset.update({\"labels\":y})\n",
        "  dataset=ClassificationDataset(**dataset,device=device)\n",
        "  dataset=DataLoader(dataset,batch_size=batch_size,drop_last=drop_last,shuffle=True)\n",
        "  return dataset"
      ],
      "metadata": {
        "id": "ich-i2RqxfQH"
      },
      "execution_count": null,
      "outputs": []
    },
    {
      "cell_type": "code",
      "source": [
        "train_premises=train['clean_premise'].tolist()[:30000]\n",
        "train_hypothesises=train['clean_hypothesis'].tolist()[:30000]\n",
        "train_labels=train['label'].tolist()[:30000]"
      ],
      "metadata": {
        "id": "8eUZSOdSyM-0"
      },
      "execution_count": null,
      "outputs": []
    },
    {
      "cell_type": "code",
      "source": [
        "train_dataloader=create_dataloader(tokenizer,train_premises,train_hypothesises,train_labels,max_length=max_length,return_tensors=return_tensors,device=device,drop_last=False,batch_size=train_batch_size)"
      ],
      "metadata": {
        "id": "3Wpmu5FXx3KE"
      },
      "execution_count": null,
      "outputs": []
    },
    {
      "cell_type": "code",
      "source": [
        "valid_premises=valid['clean_premise'].tolist()\n",
        "valid_hypothesises=valid['clean_hypothesis'].tolist()\n",
        "valid_labels=valid['label'].tolist()"
      ],
      "metadata": {
        "id": "If64Hw81r2ZM"
      },
      "execution_count": null,
      "outputs": []
    },
    {
      "cell_type": "code",
      "source": [
        "valid_dataloader=create_dataloader(tokenizer,valid_premises,valid_hypothesises,valid_labels,max_length=max_length,return_tensors=return_tensors,device=device,drop_last=False,batch_size=valid_batch_size)"
      ],
      "metadata": {
        "id": "XMhgIF9Mx_GF"
      },
      "execution_count": null,
      "outputs": []
    },
    {
      "cell_type": "code",
      "source": [
        "for i in train_dataloader:\n",
        "  print(i['inputs']['input_ids'][0])\n",
        "  print(i['inputs']['attention_mask'][0])\n",
        "  break"
      ],
      "metadata": {
        "colab": {
          "base_uri": "https://localhost:8080/"
        },
        "id": "3pmPbYvt91Dr",
        "outputId": "2b2b79bd-b333-445c-c926-4f047fe7b6fe"
      },
      "execution_count": null,
      "outputs": [
        {
          "output_type": "stream",
          "name": "stdout",
          "text": [
            "tensor([    0,   687, 50264,    81, 30342,    18, 15566,  3711,     2,     2,\n",
            "          687, 26148,  3711,  2059,  4600,   889,  4194,  6051, 19018,  3713,\n",
            "            2,     1,     1,     1,     1,     1,     1,     1,     1,     1,\n",
            "            1,     1,     1,     1,     1,     1,     1,     1,     1,     1,\n",
            "            1,     1,     1,     1,     1,     1,     1,     1,     1,     1,\n",
            "            1,     1,     1,     1,     1,     1,     1,     1,     1,     1,\n",
            "            1,     1,     1,     1,     1,     1,     1,     1,     1,     1,\n",
            "            1,     1,     1,     1,     1,     1,     1,     1,     1,     1,\n",
            "            1,     1,     1,     1,     1,     1,     1,     1,     1,     1,\n",
            "            1,     1,     1,     1,     1,     1,     1,     1,     1,     1,\n",
            "            1,     1,     1,     1,     1,     1,     1,     1,     1,     1,\n",
            "            1,     1,     1,     1,     1,     1,     1,     1,     1,     1,\n",
            "            1,     1,     1,     1,     1,     1,     1,     1,     1,     1,\n",
            "            1,     1,     1,     1,     1,     1,     1,     1,     1,     1,\n",
            "            1,     1,     1,     1,     1,     1,     1,     1,     1,     1,\n",
            "            1,     1,     1,     1,     1,     1,     1,     1,     1,     1,\n",
            "            1,     1,     1,     1,     1,     1,     1,     1,     1,     1,\n",
            "            1,     1,     1,     1,     1,     1,     1,     1,     1,     1,\n",
            "            1,     1,     1,     1,     1,     1,     1,     1,     1,     1,\n",
            "            1,     1,     1,     1,     1,     1,     1,     1,     1,     1,\n",
            "            1,     1,     1,     1,     1,     1,     1,     1,     1,     1,\n",
            "            1,     1,     1,     1,     1,     1,     1,     1,     1,     1,\n",
            "            1,     1,     1,     1,     1,     1,     1,     1,     1,     1,\n",
            "            1,     1,     1,     1,     1,     1,     1,     1,     1,     1,\n",
            "            1,     1,     1,     1,     1,     1,     1,     1,     1,     1,\n",
            "            1,     1,     1,     1,     1,     1], device='cuda:0')\n",
            "tensor([1, 1, 1, 1, 1, 1, 1, 1, 1, 1, 1, 1, 1, 1, 1, 1, 1, 1, 1, 1, 1, 0, 0, 0,\n",
            "        0, 0, 0, 0, 0, 0, 0, 0, 0, 0, 0, 0, 0, 0, 0, 0, 0, 0, 0, 0, 0, 0, 0, 0,\n",
            "        0, 0, 0, 0, 0, 0, 0, 0, 0, 0, 0, 0, 0, 0, 0, 0, 0, 0, 0, 0, 0, 0, 0, 0,\n",
            "        0, 0, 0, 0, 0, 0, 0, 0, 0, 0, 0, 0, 0, 0, 0, 0, 0, 0, 0, 0, 0, 0, 0, 0,\n",
            "        0, 0, 0, 0, 0, 0, 0, 0, 0, 0, 0, 0, 0, 0, 0, 0, 0, 0, 0, 0, 0, 0, 0, 0,\n",
            "        0, 0, 0, 0, 0, 0, 0, 0, 0, 0, 0, 0, 0, 0, 0, 0, 0, 0, 0, 0, 0, 0, 0, 0,\n",
            "        0, 0, 0, 0, 0, 0, 0, 0, 0, 0, 0, 0, 0, 0, 0, 0, 0, 0, 0, 0, 0, 0, 0, 0,\n",
            "        0, 0, 0, 0, 0, 0, 0, 0, 0, 0, 0, 0, 0, 0, 0, 0, 0, 0, 0, 0, 0, 0, 0, 0,\n",
            "        0, 0, 0, 0, 0, 0, 0, 0, 0, 0, 0, 0, 0, 0, 0, 0, 0, 0, 0, 0, 0, 0, 0, 0,\n",
            "        0, 0, 0, 0, 0, 0, 0, 0, 0, 0, 0, 0, 0, 0, 0, 0, 0, 0, 0, 0, 0, 0, 0, 0,\n",
            "        0, 0, 0, 0, 0, 0, 0, 0, 0, 0, 0, 0, 0, 0, 0, 0], device='cuda:0')\n"
          ]
        }
      ]
    },
    {
      "cell_type": "markdown",
      "source": [
        "#Trainer"
      ],
      "metadata": {
        "id": "s-yuJjDp-mg3"
      }
    },
    {
      "cell_type": "code",
      "source": [
        "epochs=30\n",
        "num_training_steps=epochs * len(train_dataloader)\n",
        "num_warmup_steps=500\n",
        "init_lr=1e-5\n",
        "eps =1e-8"
      ],
      "metadata": {
        "id": "leRkGWb6-btA"
      },
      "execution_count": null,
      "outputs": []
    },
    {
      "cell_type": "code",
      "source": [
        "num_training_steps,num_warmup_steps"
      ],
      "metadata": {
        "colab": {
          "base_uri": "https://localhost:8080/"
        },
        "id": "ATpFVHVk-pOu",
        "outputId": "b5d4e5cd-0fd4-4383-ea30-fff1b8556b3f"
      },
      "execution_count": null,
      "outputs": [
        {
          "output_type": "execute_result",
          "data": {
            "text/plain": [
              "(112500, 500)"
            ]
          },
          "metadata": {},
          "execution_count": 25
        }
      ]
    },
    {
      "cell_type": "code",
      "source": [
        "num_labels=len(labels)\n",
        "num_labels"
      ],
      "metadata": {
        "colab": {
          "base_uri": "https://localhost:8080/"
        },
        "id": "gqW4c1Hk-3qS",
        "outputId": "30a7d3de-d20d-428f-cbf1-91a9a5790c07"
      },
      "execution_count": null,
      "outputs": [
        {
          "output_type": "execute_result",
          "data": {
            "text/plain": [
              "3"
            ]
          },
          "metadata": {},
          "execution_count": 26
        }
      ]
    },
    {
      "cell_type": "code",
      "source": [
        "classifier_dropout=0.1"
      ],
      "metadata": {
        "id": "MEksEcLZ-4rx"
      },
      "execution_count": null,
      "outputs": []
    },
    {
      "cell_type": "code",
      "source": [
        "config=AutoConfig.from_pretrained(name)\n",
        "config.classifier_dropout=classifier_dropout\n",
        "config.num_labels=num_labels\n",
        "config"
      ],
      "metadata": {
        "colab": {
          "base_uri": "https://localhost:8080/"
        },
        "id": "uTtcaKcD-6Nr",
        "outputId": "fac5173d-ef0f-4a11-f3ed-9cc492b2cf0b"
      },
      "execution_count": null,
      "outputs": [
        {
          "output_type": "execute_result",
          "data": {
            "text/plain": [
              "XLMRobertaConfig {\n",
              "  \"_name_or_path\": \"xlm-roberta-base\",\n",
              "  \"architectures\": [\n",
              "    \"XLMRobertaForMaskedLM\"\n",
              "  ],\n",
              "  \"attention_probs_dropout_prob\": 0.1,\n",
              "  \"bos_token_id\": 0,\n",
              "  \"classifier_dropout\": 0.1,\n",
              "  \"eos_token_id\": 2,\n",
              "  \"hidden_act\": \"gelu\",\n",
              "  \"hidden_dropout_prob\": 0.1,\n",
              "  \"hidden_size\": 768,\n",
              "  \"id2label\": {\n",
              "    \"0\": \"LABEL_0\",\n",
              "    \"1\": \"LABEL_1\",\n",
              "    \"2\": \"LABEL_2\"\n",
              "  },\n",
              "  \"initializer_range\": 0.02,\n",
              "  \"intermediate_size\": 3072,\n",
              "  \"label2id\": {\n",
              "    \"LABEL_0\": 0,\n",
              "    \"LABEL_1\": 1,\n",
              "    \"LABEL_2\": 2\n",
              "  },\n",
              "  \"layer_norm_eps\": 1e-05,\n",
              "  \"max_position_embeddings\": 514,\n",
              "  \"model_type\": \"xlm-roberta\",\n",
              "  \"num_attention_heads\": 12,\n",
              "  \"num_hidden_layers\": 12,\n",
              "  \"output_past\": true,\n",
              "  \"pad_token_id\": 1,\n",
              "  \"position_embedding_type\": \"absolute\",\n",
              "  \"transformers_version\": \"4.19.2\",\n",
              "  \"type_vocab_size\": 1,\n",
              "  \"use_cache\": true,\n",
              "  \"vocab_size\": 250002\n",
              "}"
            ]
          },
          "metadata": {},
          "execution_count": 28
        }
      ]
    },
    {
      "cell_type": "code",
      "source": [
        "config.save_pretrained(model_name)"
      ],
      "metadata": {
        "id": "xQ0_0pPQ-8uw"
      },
      "execution_count": null,
      "outputs": []
    },
    {
      "cell_type": "code",
      "source": [
        "model=AutoModelForSequenceClassification.from_pretrained(name,config=config).to(device)"
      ],
      "metadata": {
        "colab": {
          "base_uri": "https://localhost:8080/"
        },
        "id": "PizAw9RL_UVp",
        "outputId": "991d9e1e-735a-4dae-f038-438fc6395800"
      },
      "execution_count": null,
      "outputs": [
        {
          "output_type": "stream",
          "name": "stderr",
          "text": [
            "Some weights of the model checkpoint at xlm-roberta-base were not used when initializing XLMRobertaForSequenceClassification: ['lm_head.bias', 'lm_head.dense.bias', 'lm_head.decoder.weight', 'lm_head.dense.weight', 'lm_head.layer_norm.weight', 'lm_head.layer_norm.bias', 'roberta.pooler.dense.weight', 'roberta.pooler.dense.bias']\n",
            "- This IS expected if you are initializing XLMRobertaForSequenceClassification from the checkpoint of a model trained on another task or with another architecture (e.g. initializing a BertForSequenceClassification model from a BertForPreTraining model).\n",
            "- This IS NOT expected if you are initializing XLMRobertaForSequenceClassification from the checkpoint of a model that you expect to be exactly identical (initializing a BertForSequenceClassification model from a BertForSequenceClassification model).\n",
            "Some weights of XLMRobertaForSequenceClassification were not initialized from the model checkpoint at xlm-roberta-base and are newly initialized: ['classifier.out_proj.bias', 'classifier.dense.bias', 'classifier.out_proj.weight', 'classifier.dense.weight']\n",
            "You should probably TRAIN this model on a down-stream task to be able to use it for predictions and inference.\n"
          ]
        }
      ]
    },
    {
      "cell_type": "code",
      "source": [
        "optimizer=torch.optim.AdamW(model.parameters(),lr=init_lr,weight_decay =0.01,eps=eps)"
      ],
      "metadata": {
        "id": "bFnh4aNP_ZM9"
      },
      "execution_count": null,
      "outputs": []
    },
    {
      "cell_type": "code",
      "source": [
        "lr_scheduler=get_linear_schedule_with_warmup(optimizer,num_warmup_steps=num_warmup_steps,num_training_steps=num_training_steps,)"
      ],
      "metadata": {
        "id": "SOUG-n94_bFT"
      },
      "execution_count": null,
      "outputs": []
    },
    {
      "cell_type": "code",
      "source": [
        "def save_model(epoch,model,optimizer,training_loss,valid_loss,path,step=None):\n",
        "  torch.save({\n",
        "          'epoch': epoch,\n",
        "          'model_state_dict': model.state_dict(),\n",
        "          'optimizer_state_dict': optimizer.state_dict(),\n",
        "          'training_loss': training_loss,\n",
        "          'valid_loss': valid_loss,\n",
        "          'step':step\n",
        "          }, join(path,f'ckpt{epoch}.pt'))"
      ],
      "metadata": {
        "id": "SraPBCPR_cTH"
      },
      "execution_count": null,
      "outputs": []
    },
    {
      "cell_type": "code",
      "source": [
        "def run_train(optimizer,dataloader,lr_scheduler):\n",
        "  model.train(True)\n",
        "  loop = tqdm(dataloader)\n",
        "  loss=0\n",
        "  for batch in dataloader:\n",
        "    # model.zero_grad(set_to_none=True)\n",
        "    optimizer.zero_grad()\n",
        "    inputs=batch['inputs']\n",
        "    inputs.update({\"labels\":batch['labels']})\n",
        "    outputs=model(**inputs)\n",
        "    # _loss = loss_fn(logits.view(-1, num_labels), batch['labels'].view(-1))\n",
        "    outputs.loss.backward()\n",
        "\n",
        "    loss+=outputs.loss.item()\n",
        "    optimizer.step()\n",
        "    lr_scheduler.step()\n",
        "    loop.set_postfix({f'train_loss_per_batch':outputs.loss.item()})\n",
        "    loop.update()      \n",
        "    \n",
        "  return loss/len(dataloader)"
      ],
      "metadata": {
        "id": "crchDYLY_dIU"
      },
      "execution_count": null,
      "outputs": []
    },
    {
      "cell_type": "code",
      "source": [
        "def run_valid(dataloader):\n",
        "  model.eval()\n",
        "  loss=0\n",
        "  with torch.no_grad():\n",
        "    for batch in dataloader:\n",
        "      inputs=batch['inputs']\n",
        "      inputs.update({\"labels\":batch['labels']})\n",
        "      outputs=model(**inputs)\n",
        "\n",
        "      # _loss = loss_fn(logits.view(-1, num_labels), batch['labels'].view(-1))\n",
        "\n",
        "      loss+=outputs.loss.item()\n",
        "\n",
        "  return loss/len(dataloader)"
      ],
      "metadata": {
        "id": "eDA4EiY1_e24"
      },
      "execution_count": null,
      "outputs": []
    },
    {
      "cell_type": "code",
      "source": [
        "train_loss_per_step=[]\n",
        "valid_loss_per_step=[]\n",
        "min_loss=np.inf\n",
        "count_stopping=np.inf\n",
        "for epoch in range(1,epochs):\n",
        "  train_loss=run_train(optimizer,train_dataloader,lr_scheduler)\n",
        "  valid_loss=run_valid(valid_dataloader)\n",
        "\n",
        "  train_loss_per_step.append(train_loss)\n",
        "  valid_loss_per_step.append(valid_loss)\n",
        "  \n",
        "  print(f'epoch: {epoch} train_loss: {train_loss} valid_loss: {valid_loss}')\n",
        "  if valid_loss<min_loss:\n",
        "    min_loss=valid_loss\n",
        "    save_model(epoch,model,optimizer,train_loss,valid_loss,model_name)\n",
        "    count_stopping=0\n",
        "  else:\n",
        "    count_stopping+=1\n",
        "  \n",
        "  if count_stopping>5:\n",
        "    break\n"
      ],
      "metadata": {
        "id": "mkYdCXt2_f04"
      },
      "execution_count": null,
      "outputs": []
    },
    {
      "cell_type": "code",
      "source": [
        ""
      ],
      "metadata": {
        "id": "SQWahKu4_y9g"
      },
      "execution_count": null,
      "outputs": []
    }
  ]
}